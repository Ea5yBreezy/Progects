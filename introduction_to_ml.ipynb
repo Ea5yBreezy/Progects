{
 "cells": [
  {
   "cell_type": "markdown",
   "metadata": {},
   "source": [
    "# Рекомендация тарифов"
   ]
  },
  {
   "cell_type": "markdown",
   "metadata": {},
   "source": [
    "**Описание проекта.**\n",
    "\n",
    "Оператор мобильной связи «Мегалайн» выяснил: многие клиенты пользуются архивными тарифами. Они хотят построить систему, способную проанализировать поведение клиентов и предложить пользователям новый тариф: «Смарт» или «Ультра».\n",
    "\n",
    "В вашем распоряжении данные о поведении клиентов, которые уже перешли на эти тарифы (из проекта курса «Статистический анализ данных»). Нужно построить модель для задачи классификации, которая выберет подходящий тариф. Предобработка данных не понадобится — вы её уже сделали."
   ]
  },
  {
   "cell_type": "markdown",
   "metadata": {},
   "source": [
    "**Цель исследования** - Постройте модель с максимально большим значением accuracy. Чтобы сдать проект успешно, нужно довести долю правильных ответов по крайней мере до 0.75. Проверьте accuracy на тестовой выборке самостоятельно."
   ]
  },
  {
   "cell_type": "markdown",
   "metadata": {},
   "source": [
    "**Описание данных.**\n",
    " - `сalls` — количество звонков\n",
    " - `minutes` — суммарная длительность звонков в минутах\n",
    " - `messages` — количество sms-сообщений\n",
    " - `mb_used` — израсходованный интернет-трафик в Мб\n",
    " - `is_ultra` — каким тарифом пользовался в течение месяца («Ультра» — 1, «Смарт» — 0)"
   ]
  },
  {
   "cell_type": "markdown",
   "metadata": {},
   "source": [
    "## Откройте и изучите файл"
   ]
  },
  {
   "cell_type": "code",
   "execution_count": 1,
   "metadata": {},
   "outputs": [],
   "source": [
    "import pandas as pd\n",
    "from sklearn.tree import DecisionTreeClassifier\n",
    "from sklearn.ensemble import RandomForestClassifier\n",
    "from sklearn.linear_model import LogisticRegression \n",
    "from sklearn.model_selection import train_test_split\n",
    "from sklearn.metrics import accuracy_score\n",
    "from tqdm.notebook import tqdm\n",
    "from sklearn.datasets import load_iris\n",
    "from sklearn import tree\n",
    "import matplotlib.pyplot as plt\n",
    "pd.set_option('display.max_rows', 500)\n",
    "pd.set_option('display.max_columns', 500)\n",
    "pd.set_option('display.width', 1000)"
   ]
  },
  {
   "cell_type": "code",
   "execution_count": 2,
   "metadata": {},
   "outputs": [
    {
     "name": "stdout",
     "output_type": "stream",
     "text": [
      "<class 'pandas.core.frame.DataFrame'>\n",
      "RangeIndex: 3214 entries, 0 to 3213\n",
      "Data columns (total 5 columns):\n",
      " #   Column    Non-Null Count  Dtype  \n",
      "---  ------    --------------  -----  \n",
      " 0   calls     3214 non-null   float64\n",
      " 1   minutes   3214 non-null   float64\n",
      " 2   messages  3214 non-null   float64\n",
      " 3   mb_used   3214 non-null   float64\n",
      " 4   is_ultra  3214 non-null   int64  \n",
      "dtypes: float64(4), int64(1)\n",
      "memory usage: 125.7 KB\n"
     ]
    }
   ],
   "source": [
    "df = pd.read_csv('/DS/Yandex_Practikum/Projects/datasets/users_behavior.csv')\n",
    "df.info()"
   ]
  },
  {
   "cell_type": "markdown",
   "metadata": {},
   "source": [
    "имеем 3214 строк без нулевых значений"
   ]
  },
  {
   "cell_type": "code",
   "execution_count": 3,
   "metadata": {},
   "outputs": [
    {
     "data": {
      "text/html": [
       "<div>\n",
       "<style scoped>\n",
       "    .dataframe tbody tr th:only-of-type {\n",
       "        vertical-align: middle;\n",
       "    }\n",
       "\n",
       "    .dataframe tbody tr th {\n",
       "        vertical-align: top;\n",
       "    }\n",
       "\n",
       "    .dataframe thead th {\n",
       "        text-align: right;\n",
       "    }\n",
       "</style>\n",
       "<table border=\"1\" class=\"dataframe\">\n",
       "  <thead>\n",
       "    <tr style=\"text-align: right;\">\n",
       "      <th></th>\n",
       "      <th>calls</th>\n",
       "      <th>minutes</th>\n",
       "      <th>messages</th>\n",
       "      <th>mb_used</th>\n",
       "      <th>is_ultra</th>\n",
       "    </tr>\n",
       "  </thead>\n",
       "  <tbody>\n",
       "    <tr>\n",
       "      <th>0</th>\n",
       "      <td>40.0</td>\n",
       "      <td>311.90</td>\n",
       "      <td>83.0</td>\n",
       "      <td>19915.42</td>\n",
       "      <td>0</td>\n",
       "    </tr>\n",
       "    <tr>\n",
       "      <th>1</th>\n",
       "      <td>85.0</td>\n",
       "      <td>516.75</td>\n",
       "      <td>56.0</td>\n",
       "      <td>22696.96</td>\n",
       "      <td>0</td>\n",
       "    </tr>\n",
       "    <tr>\n",
       "      <th>2</th>\n",
       "      <td>77.0</td>\n",
       "      <td>467.66</td>\n",
       "      <td>86.0</td>\n",
       "      <td>21060.45</td>\n",
       "      <td>0</td>\n",
       "    </tr>\n",
       "    <tr>\n",
       "      <th>3</th>\n",
       "      <td>106.0</td>\n",
       "      <td>745.53</td>\n",
       "      <td>81.0</td>\n",
       "      <td>8437.39</td>\n",
       "      <td>1</td>\n",
       "    </tr>\n",
       "    <tr>\n",
       "      <th>4</th>\n",
       "      <td>66.0</td>\n",
       "      <td>418.74</td>\n",
       "      <td>1.0</td>\n",
       "      <td>14502.75</td>\n",
       "      <td>0</td>\n",
       "    </tr>\n",
       "  </tbody>\n",
       "</table>\n",
       "</div>"
      ],
      "text/plain": [
       "   calls  minutes  messages   mb_used  is_ultra\n",
       "0   40.0   311.90      83.0  19915.42         0\n",
       "1   85.0   516.75      56.0  22696.96         0\n",
       "2   77.0   467.66      86.0  21060.45         0\n",
       "3  106.0   745.53      81.0   8437.39         1\n",
       "4   66.0   418.74       1.0  14502.75         0"
      ]
     },
     "execution_count": 3,
     "metadata": {},
     "output_type": "execute_result"
    }
   ],
   "source": [
    "df.head()"
   ]
  },
  {
   "cell_type": "markdown",
   "metadata": {},
   "source": [
    "## Разбейте данные на выборки"
   ]
  },
  {
   "cell_type": "markdown",
   "metadata": {},
   "source": [
    "разделяю ДФ на три выборки тренировочная, валидная, тестовая в соотношении 2:1:1. Целевой признак столбец 'is_ultra'"
   ]
  },
  {
   "cell_type": "code",
   "execution_count": 4,
   "metadata": {},
   "outputs": [],
   "source": [
    "features = df.drop('is_ultra',axis = 1)\n",
    "target = df['is_ultra'] "
   ]
  },
  {
   "cell_type": "code",
   "execution_count": 5,
   "metadata": {},
   "outputs": [],
   "source": [
    "features_train, features_valid, target_train, target_valid = train_test_split(\n",
    "    features, target, test_size=0.5, random_state=12345, stratify = target)\n",
    "features_valid, features_test, target_valid, target_test = train_test_split(\n",
    "    features_valid, target_valid, test_size=0.5, random_state=12345)"
   ]
  },
  {
   "cell_type": "code",
   "execution_count": 6,
   "metadata": {},
   "outputs": [
    {
     "data": {
      "text/plain": [
       "(1607, 4)"
      ]
     },
     "execution_count": 6,
     "metadata": {},
     "output_type": "execute_result"
    }
   ],
   "source": [
    "features_train.shape"
   ]
  },
  {
   "cell_type": "markdown",
   "metadata": {},
   "source": [
    "## Исследуйте модели"
   ]
  },
  {
   "cell_type": "code",
   "execution_count": 7,
   "metadata": {},
   "outputs": [],
   "source": [
    "best_model = None\n",
    "best_result = 0"
   ]
  },
  {
   "cell_type": "markdown",
   "metadata": {},
   "source": [
    "случайный лес"
   ]
  },
  {
   "cell_type": "code",
   "execution_count": 8,
   "metadata": {},
   "outputs": [
    {
     "name": "stdout",
     "output_type": "stream",
     "text": [
      "CPU times: user 21.4 s, sys: 195 ms, total: 21.6 s\n",
      "Wall time: 21.6 s\n"
     ]
    }
   ],
   "source": [
    "%%time\n",
    "for est in range(1, 50):\n",
    "    for depth in range (1,10,1):\n",
    "        model = RandomForestClassifier(random_state=12345, n_estimators=est, max_depth = depth) # обучите модель с заданным количеством деревьев\n",
    "        model.fit(features_train,target_train) # обучите модель на тренировочной выборке\n",
    "        result = model.score(features_valid,target_valid) # посчитайте качество модели на валидационной выборке\n",
    "        if result > best_result:\n",
    "            best_model = model# сохраните наилучшую модель\n",
    "            best_result = result#  сохраните наилучшее значение метрики accuracy на валидационных данных"
   ]
  },
  {
   "cell_type": "code",
   "execution_count": 9,
   "metadata": {},
   "outputs": [
    {
     "data": {
      "text/plain": [
       "0.8156911581569116"
      ]
     },
     "execution_count": 9,
     "metadata": {},
     "output_type": "execute_result"
    }
   ],
   "source": [
    "best_result"
   ]
  },
  {
   "cell_type": "markdown",
   "metadata": {},
   "source": [
    "логистическая регрессия"
   ]
  },
  {
   "cell_type": "code",
   "execution_count": 10,
   "metadata": {},
   "outputs": [
    {
     "name": "stdout",
     "output_type": "stream",
     "text": [
      "0.7397260273972602\n"
     ]
    }
   ],
   "source": [
    "model = LogisticRegression(random_state=12345, solver='lbfgs', max_iter=1000)\n",
    "model.fit(features_train,target_train) \n",
    "result = model.score(features_valid, target_valid)\n",
    "print(result)\n",
    "if result > best_result:\n",
    "    best_model = model# сохраните наилучшую модель\n",
    "    best_result = result#  сохраните наилучшее значение метрики accuracy на валидационных данных"
   ]
  },
  {
   "cell_type": "code",
   "execution_count": 11,
   "metadata": {},
   "outputs": [
    {
     "data": {
      "text/plain": [
       "0.8156911581569116"
      ]
     },
     "execution_count": 11,
     "metadata": {},
     "output_type": "execute_result"
    }
   ],
   "source": [
    "best_result"
   ]
  },
  {
   "cell_type": "markdown",
   "metadata": {},
   "source": [
    "дерево решений"
   ]
  },
  {
   "cell_type": "code",
   "execution_count": 12,
   "metadata": {},
   "outputs": [],
   "source": [
    "for depth in range(1,6,1):\n",
    "    model = DecisionTreeClassifier(random_state=12345, max_depth=depth) # обучите модель с заданной глубиной дерева\n",
    "    model.fit(features_train,target_train) # обучите модель\n",
    "    predictions_valid = model.predict(features_valid)\n",
    "    result = model.score(features_valid,target_valid)\n",
    "    if result > best_result:\n",
    "        best_model = model# сохраните наилучшую модель\n",
    "        best_result = result#  сохраните наилучшее значение метрики accuracy на валидационных данных"
   ]
  },
  {
   "cell_type": "code",
   "execution_count": 13,
   "metadata": {},
   "outputs": [
    {
     "data": {
      "text/plain": [
       "0.8156911581569116"
      ]
     },
     "execution_count": 13,
     "metadata": {},
     "output_type": "execute_result"
    }
   ],
   "source": [
    "best_result"
   ]
  },
  {
   "cell_type": "code",
   "execution_count": 14,
   "metadata": {},
   "outputs": [],
   "source": [
    "#fig = plt.figure(figsize=(35,20))\n",
    "#_ = tree.plot_tree(model, \n",
    "#               feature_names=features.columns.values, \n",
    "#               class_names=['Smart','Ultra'],\n",
    "#               filled=True,\n",
    " #              fontsize = 15)"
   ]
  },
  {
   "cell_type": "markdown",
   "metadata": {},
   "source": [
    "## Проверьте модель на тестовой выборке"
   ]
  },
  {
   "cell_type": "code",
   "execution_count": 15,
   "metadata": {},
   "outputs": [
    {
     "data": {
      "text/plain": [
       "RandomForestClassifier(max_depth=9, n_estimators=19, random_state=12345)"
      ]
     },
     "execution_count": 15,
     "metadata": {},
     "output_type": "execute_result"
    }
   ],
   "source": [
    "best_model"
   ]
  },
  {
   "cell_type": "code",
   "execution_count": 16,
   "metadata": {},
   "outputs": [
    {
     "data": {
      "text/plain": [
       "0.8156911581569116"
      ]
     },
     "execution_count": 16,
     "metadata": {},
     "output_type": "execute_result"
    }
   ],
   "source": [
    "best_result"
   ]
  },
  {
   "cell_type": "code",
   "execution_count": 17,
   "metadata": {},
   "outputs": [
    {
     "data": {
      "text/plain": [
       "0.7960199004975125"
      ]
     },
     "execution_count": 17,
     "metadata": {},
     "output_type": "execute_result"
    }
   ],
   "source": [
    "result = model.score(features_test, target_test)\n",
    "result"
   ]
  },
  {
   "cell_type": "markdown",
   "metadata": {},
   "source": [
    "## (бонус) Проверьте модели на адекватность"
   ]
  },
  {
   "cell_type": "code",
   "execution_count": 18,
   "metadata": {},
   "outputs": [],
   "source": [
    "from sklearn.dummy import DummyClassifier"
   ]
  },
  {
   "cell_type": "code",
   "execution_count": 20,
   "metadata": {},
   "outputs": [
    {
     "data": {
      "text/plain": [
       "0.6890547263681592"
      ]
     },
     "execution_count": 20,
     "metadata": {},
     "output_type": "execute_result"
    }
   ],
   "source": [
    "dummy_clf = DummyClassifier(strategy=\"most_frequent\")\n",
    "predictions_test = [0]*target_test.shape[0]\n",
    "dummy_clf.fit(features_train, target_train)\n",
    "dummy_clf.predict(features_valid)\n",
    "dummy_clf.score(features_test,target_test)"
   ]
  },
  {
   "cell_type": "markdown",
   "metadata": {},
   "source": [
    "## Вывод:\n",
    "\n",
    "- Оператор мобильной связи «Мегалайн» выяснил: многие клиенты пользуются архивными тарифами. Они хотят построить систему, способную проанализировать поведение клиентов и предложить пользователям новый тариф: «Смарт» или «Ультра».\n",
    "- В нашем распоряжении данные о поведении клиентов, которые уже перешли на эти тарифы. Нужно построить модель для задачи классификации, которая выберет подходящий тариф. \n",
    "___\n",
    "- По представленным данным было обучено три модели _RandomForestClassifier, LogisticRegression, DecisionTreeClassifier_ и выбрана лучшая из них - **RandomForestClassifier** с количеством деревьев 19 и глубиной 9. Точность данной модели на валидационной выборке - **0.815**\n",
    "___\n",
    "- Точность на тестовой выборке - **0.796**. Что удовлетворяет условию точности не меньше **0.75**\n"
   ]
  }
 ],
 "metadata": {
  "ExecuteTimeLog": [
   {
    "duration": 418,
    "start_time": "2022-09-03T08:51:41.226Z"
   },
   {
    "duration": 40,
    "start_time": "2022-09-03T08:51:47.345Z"
   },
   {
    "duration": 35,
    "start_time": "2022-09-03T08:51:56.155Z"
   },
   {
    "duration": 695,
    "start_time": "2022-09-03T08:53:13.793Z"
   },
   {
    "duration": 11,
    "start_time": "2022-09-03T08:54:59.930Z"
   },
   {
    "duration": 3,
    "start_time": "2022-09-03T09:00:32.010Z"
   },
   {
    "duration": 4,
    "start_time": "2022-09-03T09:01:31.394Z"
   },
   {
    "duration": 5,
    "start_time": "2022-09-03T09:01:32.629Z"
   },
   {
    "duration": 35,
    "start_time": "2022-09-03T09:05:22.694Z"
   },
   {
    "duration": 9,
    "start_time": "2022-09-03T09:05:23.282Z"
   },
   {
    "duration": 3,
    "start_time": "2022-09-03T09:05:24.508Z"
   },
   {
    "duration": 5,
    "start_time": "2022-09-03T09:05:25.423Z"
   },
   {
    "duration": 3,
    "start_time": "2022-09-03T09:08:57.366Z"
   },
   {
    "duration": 283,
    "start_time": "2022-09-03T09:08:58.343Z"
   },
   {
    "duration": 3,
    "start_time": "2022-09-03T09:08:59.440Z"
   },
   {
    "duration": 107,
    "start_time": "2022-09-03T09:09:01.745Z"
   },
   {
    "duration": 75,
    "start_time": "2022-09-03T09:10:13.151Z"
   },
   {
    "duration": 4,
    "start_time": "2022-09-03T09:10:13.733Z"
   },
   {
    "duration": 18,
    "start_time": "2022-09-03T09:10:16.533Z"
   },
   {
    "duration": 4,
    "start_time": "2022-09-03T09:10:17.006Z"
   },
   {
    "duration": 235,
    "start_time": "2022-09-03T09:10:20.195Z"
   },
   {
    "duration": 3,
    "start_time": "2022-09-03T09:10:21.140Z"
   },
   {
    "duration": 5,
    "start_time": "2022-09-03T09:13:00.589Z"
   },
   {
    "duration": 1506,
    "start_time": "2022-09-03T09:13:10.923Z"
   },
   {
    "duration": 1317,
    "start_time": "2022-09-03T09:13:19.321Z"
   },
   {
    "duration": 5,
    "start_time": "2022-09-03T09:13:26.304Z"
   },
   {
    "duration": 1327,
    "start_time": "2022-09-03T09:13:57.582Z"
   },
   {
    "duration": 5,
    "start_time": "2022-09-03T09:14:02.245Z"
   },
   {
    "duration": 9,
    "start_time": "2022-09-03T09:14:08.849Z"
   },
   {
    "duration": 5,
    "start_time": "2022-09-03T09:14:14.934Z"
   },
   {
    "duration": 6,
    "start_time": "2022-09-03T09:19:31.768Z"
   },
   {
    "duration": 6,
    "start_time": "2022-09-03T09:19:32.896Z"
   },
   {
    "duration": 2,
    "start_time": "2022-09-03T09:19:34.089Z"
   },
   {
    "duration": 239,
    "start_time": "2022-09-03T09:19:37.537Z"
   },
   {
    "duration": 4,
    "start_time": "2022-09-03T09:19:38.105Z"
   },
   {
    "duration": 4,
    "start_time": "2022-09-03T09:19:39.748Z"
   },
   {
    "duration": 14,
    "start_time": "2022-09-03T09:19:40.929Z"
   },
   {
    "duration": 134,
    "start_time": "2022-09-03T09:24:47.741Z"
   },
   {
    "duration": 672,
    "start_time": "2022-09-03T09:25:13.103Z"
   },
   {
    "duration": 39,
    "start_time": "2022-09-03T09:32:20.587Z"
   },
   {
    "duration": 10,
    "start_time": "2022-09-03T09:32:21.296Z"
   },
   {
    "duration": 3,
    "start_time": "2022-09-03T09:32:23.416Z"
   },
   {
    "duration": 7,
    "start_time": "2022-09-03T09:32:23.847Z"
   },
   {
    "duration": 9,
    "start_time": "2022-09-03T09:32:34.287Z"
   },
   {
    "duration": 5,
    "start_time": "2022-09-03T09:32:40.481Z"
   },
   {
    "duration": 6,
    "start_time": "2022-09-03T09:32:49.542Z"
   },
   {
    "duration": 5,
    "start_time": "2022-09-03T09:32:55.655Z"
   },
   {
    "duration": 2,
    "start_time": "2022-09-03T09:34:33.820Z"
   },
   {
    "duration": 195,
    "start_time": "2022-09-03T09:34:34.776Z"
   },
   {
    "duration": 3,
    "start_time": "2022-09-03T09:34:35.202Z"
   },
   {
    "duration": 17,
    "start_time": "2022-09-03T09:35:31.829Z"
   },
   {
    "duration": 41,
    "start_time": "2022-09-03T09:35:40.753Z"
   },
   {
    "duration": 5,
    "start_time": "2022-09-03T09:38:23.812Z"
   },
   {
    "duration": 39,
    "start_time": "2022-09-03T09:38:36.687Z"
   },
   {
    "duration": 10,
    "start_time": "2022-09-03T09:39:47.389Z"
   },
   {
    "duration": 8,
    "start_time": "2022-09-03T09:39:59.213Z"
   },
   {
    "duration": 90,
    "start_time": "2022-09-03T09:40:11.533Z"
   },
   {
    "duration": 83,
    "start_time": "2022-09-03T09:40:40.555Z"
   },
   {
    "duration": 1196,
    "start_time": "2022-09-03T09:40:45.596Z"
   },
   {
    "duration": 17,
    "start_time": "2022-09-03T09:40:46.794Z"
   },
   {
    "duration": 12,
    "start_time": "2022-09-03T09:40:46.814Z"
   },
   {
    "duration": 11,
    "start_time": "2022-09-03T09:40:46.828Z"
   },
   {
    "duration": 6,
    "start_time": "2022-09-03T09:40:46.841Z"
   },
   {
    "duration": 196,
    "start_time": "2022-09-03T09:40:46.849Z"
   },
   {
    "duration": 4,
    "start_time": "2022-09-03T09:40:47.047Z"
   },
   {
    "duration": 194,
    "start_time": "2022-09-03T09:40:47.052Z"
   },
   {
    "duration": 0,
    "start_time": "2022-09-03T09:40:47.247Z"
   },
   {
    "duration": 0,
    "start_time": "2022-09-03T09:40:47.249Z"
   },
   {
    "duration": 104,
    "start_time": "2022-09-03T09:41:19.413Z"
   },
   {
    "duration": 105,
    "start_time": "2022-09-03T09:41:30.992Z"
   },
   {
    "duration": 15,
    "start_time": "2022-09-03T09:41:47.786Z"
   },
   {
    "duration": 13,
    "start_time": "2022-09-03T09:42:51.231Z"
   },
   {
    "duration": 14,
    "start_time": "2022-09-03T09:44:42.640Z"
   },
   {
    "duration": 30,
    "start_time": "2022-09-03T09:44:47.651Z"
   },
   {
    "duration": 33,
    "start_time": "2022-09-03T09:46:42.981Z"
   },
   {
    "duration": 4,
    "start_time": "2022-09-03T09:46:45.339Z"
   },
   {
    "duration": 33,
    "start_time": "2022-09-03T09:47:27.186Z"
   },
   {
    "duration": 4,
    "start_time": "2022-09-03T09:47:27.483Z"
   },
   {
    "duration": 39,
    "start_time": "2022-09-03T09:47:55.509Z"
   },
   {
    "duration": 4,
    "start_time": "2022-09-03T09:47:55.837Z"
   },
   {
    "duration": 1139,
    "start_time": "2022-09-03T09:48:00.282Z"
   },
   {
    "duration": 14,
    "start_time": "2022-09-03T09:48:01.423Z"
   },
   {
    "duration": 11,
    "start_time": "2022-09-03T09:48:01.438Z"
   },
   {
    "duration": 24,
    "start_time": "2022-09-03T09:48:01.451Z"
   },
   {
    "duration": 38,
    "start_time": "2022-09-03T09:48:01.479Z"
   },
   {
    "duration": 212,
    "start_time": "2022-09-03T09:48:01.518Z"
   },
   {
    "duration": 4,
    "start_time": "2022-09-03T09:48:01.731Z"
   },
   {
    "duration": 46,
    "start_time": "2022-09-03T09:48:01.736Z"
   },
   {
    "duration": 3,
    "start_time": "2022-09-03T09:48:01.785Z"
   },
   {
    "duration": 126,
    "start_time": "2022-09-03T09:48:01.790Z"
   },
   {
    "duration": 49,
    "start_time": "2022-09-03T09:48:28.853Z"
   },
   {
    "duration": 41,
    "start_time": "2022-09-03T09:48:35.911Z"
   },
   {
    "duration": 42,
    "start_time": "2022-09-03T09:48:47.080Z"
   },
   {
    "duration": 33,
    "start_time": "2022-09-03T09:49:03.632Z"
   },
   {
    "duration": 4,
    "start_time": "2022-09-03T09:49:34.840Z"
   },
   {
    "duration": 1132,
    "start_time": "2022-09-03T09:52:13.542Z"
   },
   {
    "duration": 22,
    "start_time": "2022-09-03T09:52:14.677Z"
   },
   {
    "duration": 5,
    "start_time": "2022-09-03T09:52:14.704Z"
   },
   {
    "duration": 12,
    "start_time": "2022-09-03T09:52:14.710Z"
   },
   {
    "duration": 3,
    "start_time": "2022-09-03T09:52:14.724Z"
   },
   {
    "duration": 235,
    "start_time": "2022-09-03T09:52:14.729Z"
   },
   {
    "duration": 14,
    "start_time": "2022-09-03T09:52:14.965Z"
   },
   {
    "duration": 84,
    "start_time": "2022-09-03T09:52:14.981Z"
   },
   {
    "duration": 0,
    "start_time": "2022-09-03T09:52:15.066Z"
   },
   {
    "duration": 0,
    "start_time": "2022-09-03T09:52:15.068Z"
   },
   {
    "duration": 0,
    "start_time": "2022-09-03T09:52:15.069Z"
   },
   {
    "duration": 33,
    "start_time": "2022-09-03T09:52:25.185Z"
   },
   {
    "duration": 4,
    "start_time": "2022-09-03T09:52:26.129Z"
   },
   {
    "duration": 40,
    "start_time": "2022-09-03T09:52:26.749Z"
   },
   {
    "duration": 4,
    "start_time": "2022-09-03T09:52:27.116Z"
   },
   {
    "duration": 32,
    "start_time": "2022-09-03T09:52:44.083Z"
   },
   {
    "duration": 4,
    "start_time": "2022-09-03T09:54:53.587Z"
   },
   {
    "duration": 1207,
    "start_time": "2022-09-03T09:55:11.182Z"
   },
   {
    "duration": 17,
    "start_time": "2022-09-03T09:55:12.391Z"
   },
   {
    "duration": 3,
    "start_time": "2022-09-03T09:55:12.410Z"
   },
   {
    "duration": 6,
    "start_time": "2022-09-03T09:55:12.415Z"
   },
   {
    "duration": 3,
    "start_time": "2022-09-03T09:55:12.423Z"
   },
   {
    "duration": 222,
    "start_time": "2022-09-03T09:55:12.427Z"
   },
   {
    "duration": 4,
    "start_time": "2022-09-03T09:55:12.651Z"
   },
   {
    "duration": 43,
    "start_time": "2022-09-03T09:55:12.656Z"
   },
   {
    "duration": 4,
    "start_time": "2022-09-03T09:55:12.701Z"
   },
   {
    "duration": 34,
    "start_time": "2022-09-03T09:55:12.706Z"
   },
   {
    "duration": 3,
    "start_time": "2022-09-03T09:55:12.742Z"
   },
   {
    "duration": 29,
    "start_time": "2022-09-03T09:55:12.747Z"
   },
   {
    "duration": 5,
    "start_time": "2022-09-03T09:55:38.734Z"
   },
   {
    "duration": 6,
    "start_time": "2022-09-03T09:55:47.148Z"
   },
   {
    "duration": 4,
    "start_time": "2022-09-03T09:55:52.689Z"
   },
   {
    "duration": 7,
    "start_time": "2022-09-03T09:56:17.883Z"
   },
   {
    "duration": 5,
    "start_time": "2022-09-03T09:56:33.109Z"
   },
   {
    "duration": 6,
    "start_time": "2022-09-03T09:56:33.497Z"
   },
   {
    "duration": 10,
    "start_time": "2022-09-03T09:56:36.281Z"
   },
   {
    "duration": 5,
    "start_time": "2022-09-03T09:56:36.636Z"
   },
   {
    "duration": 1083,
    "start_time": "2022-09-03T09:56:42.714Z"
   },
   {
    "duration": 15,
    "start_time": "2022-09-03T09:56:43.799Z"
   },
   {
    "duration": 5,
    "start_time": "2022-09-03T09:56:43.815Z"
   },
   {
    "duration": 8,
    "start_time": "2022-09-03T09:56:43.822Z"
   },
   {
    "duration": 4,
    "start_time": "2022-09-03T09:56:43.832Z"
   },
   {
    "duration": 195,
    "start_time": "2022-09-03T09:56:43.837Z"
   },
   {
    "duration": 5,
    "start_time": "2022-09-03T09:56:44.033Z"
   },
   {
    "duration": 46,
    "start_time": "2022-09-03T09:56:44.039Z"
   },
   {
    "duration": 4,
    "start_time": "2022-09-03T09:56:44.086Z"
   },
   {
    "duration": 14,
    "start_time": "2022-09-03T09:56:44.092Z"
   },
   {
    "duration": 3,
    "start_time": "2022-09-03T09:56:44.108Z"
   },
   {
    "duration": 5,
    "start_time": "2022-09-03T09:56:44.113Z"
   },
   {
    "duration": 5,
    "start_time": "2022-09-03T09:56:44.119Z"
   },
   {
    "duration": 9,
    "start_time": "2022-09-03T09:56:44.125Z"
   },
   {
    "duration": 33,
    "start_time": "2022-09-03T09:56:55.696Z"
   },
   {
    "duration": 12,
    "start_time": "2022-09-03T09:57:38.419Z"
   },
   {
    "duration": 3,
    "start_time": "2022-09-03T09:59:17.015Z"
   },
   {
    "duration": 3,
    "start_time": "2022-09-03T10:01:14.657Z"
   },
   {
    "duration": 14,
    "start_time": "2022-09-03T10:01:18.985Z"
   },
   {
    "duration": 145,
    "start_time": "2022-09-03T10:02:40.157Z"
   },
   {
    "duration": 10,
    "start_time": "2022-09-03T10:03:05.249Z"
   },
   {
    "duration": 6,
    "start_time": "2022-09-03T10:03:13.084Z"
   },
   {
    "duration": 1287,
    "start_time": "2022-09-03T10:06:15.525Z"
   },
   {
    "duration": 19,
    "start_time": "2022-09-03T10:06:16.814Z"
   },
   {
    "duration": 4,
    "start_time": "2022-09-03T10:06:16.835Z"
   },
   {
    "duration": 13,
    "start_time": "2022-09-03T10:06:16.843Z"
   },
   {
    "duration": 21,
    "start_time": "2022-09-03T10:06:16.858Z"
   },
   {
    "duration": 225,
    "start_time": "2022-09-03T10:06:16.882Z"
   },
   {
    "duration": 3,
    "start_time": "2022-09-03T10:06:17.109Z"
   },
   {
    "duration": 66,
    "start_time": "2022-09-03T10:06:17.114Z"
   },
   {
    "duration": 3,
    "start_time": "2022-09-03T10:06:17.182Z"
   },
   {
    "duration": 34,
    "start_time": "2022-09-03T10:06:17.187Z"
   },
   {
    "duration": 4,
    "start_time": "2022-09-03T10:06:17.223Z"
   },
   {
    "duration": 8,
    "start_time": "2022-09-03T10:06:17.228Z"
   },
   {
    "duration": 6,
    "start_time": "2022-09-03T10:06:17.237Z"
   },
   {
    "duration": 29,
    "start_time": "2022-09-03T10:06:17.245Z"
   },
   {
    "duration": 6,
    "start_time": "2022-09-03T10:06:17.275Z"
   },
   {
    "duration": 11,
    "start_time": "2022-09-03T10:06:17.282Z"
   },
   {
    "duration": 1908,
    "start_time": "2022-09-03T11:16:53.056Z"
   },
   {
    "duration": 16,
    "start_time": "2022-09-03T11:16:54.966Z"
   },
   {
    "duration": 5,
    "start_time": "2022-09-03T11:16:54.984Z"
   },
   {
    "duration": 7,
    "start_time": "2022-09-03T11:16:54.991Z"
   },
   {
    "duration": 5,
    "start_time": "2022-09-03T11:16:54.999Z"
   },
   {
    "duration": 211,
    "start_time": "2022-09-03T11:16:55.005Z"
   },
   {
    "duration": 4,
    "start_time": "2022-09-03T11:16:55.217Z"
   },
   {
    "duration": 35,
    "start_time": "2022-09-03T11:16:55.223Z"
   },
   {
    "duration": 3,
    "start_time": "2022-09-03T11:16:55.260Z"
   },
   {
    "duration": 53,
    "start_time": "2022-09-03T11:16:55.266Z"
   },
   {
    "duration": 4,
    "start_time": "2022-09-03T11:16:55.321Z"
   },
   {
    "duration": 7,
    "start_time": "2022-09-03T11:16:55.327Z"
   },
   {
    "duration": 6,
    "start_time": "2022-09-03T11:16:55.336Z"
   },
   {
    "duration": 9,
    "start_time": "2022-09-03T11:16:55.345Z"
   },
   {
    "duration": 3,
    "start_time": "2022-09-03T11:16:55.386Z"
   },
   {
    "duration": 16,
    "start_time": "2022-09-03T11:16:55.391Z"
   },
   {
    "duration": 100,
    "start_time": "2022-09-03T11:20:30.499Z"
   },
   {
    "duration": 8,
    "start_time": "2022-09-03T11:20:40.297Z"
   },
   {
    "duration": 6,
    "start_time": "2022-09-03T11:20:54.058Z"
   },
   {
    "duration": 42,
    "start_time": "2022-09-03T11:21:33.474Z"
   },
   {
    "duration": 35,
    "start_time": "2022-09-03T11:21:39.578Z"
   },
   {
    "duration": 17,
    "start_time": "2022-09-03T11:22:17.877Z"
   },
   {
    "duration": 15,
    "start_time": "2022-09-03T11:22:38.963Z"
   },
   {
    "duration": 12,
    "start_time": "2022-09-03T11:22:50.322Z"
   },
   {
    "duration": 18,
    "start_time": "2022-09-03T11:23:29.218Z"
   },
   {
    "duration": 5,
    "start_time": "2022-09-03T11:23:45.786Z"
   },
   {
    "duration": 14,
    "start_time": "2022-09-03T11:24:06.538Z"
   },
   {
    "duration": 38,
    "start_time": "2022-09-03T11:24:19.345Z"
   },
   {
    "duration": 3,
    "start_time": "2022-09-03T11:24:55.256Z"
   },
   {
    "duration": 43,
    "start_time": "2022-09-03T11:24:59.681Z"
   },
   {
    "duration": 15,
    "start_time": "2022-09-03T11:25:02.649Z"
   },
   {
    "duration": 1509,
    "start_time": "2022-09-03T11:27:09.897Z"
   },
   {
    "duration": 18,
    "start_time": "2022-09-03T11:27:11.409Z"
   },
   {
    "duration": 6,
    "start_time": "2022-09-03T11:27:11.430Z"
   },
   {
    "duration": 22,
    "start_time": "2022-09-03T11:27:11.439Z"
   },
   {
    "duration": 10,
    "start_time": "2022-09-03T11:27:11.463Z"
   },
   {
    "duration": 210,
    "start_time": "2022-09-03T11:27:11.475Z"
   },
   {
    "duration": 3,
    "start_time": "2022-09-03T11:27:11.687Z"
   },
   {
    "duration": 41,
    "start_time": "2022-09-03T11:27:11.692Z"
   },
   {
    "duration": 5,
    "start_time": "2022-09-03T11:27:11.734Z"
   },
   {
    "duration": 132,
    "start_time": "2022-09-03T11:27:11.743Z"
   },
   {
    "duration": 0,
    "start_time": "2022-09-03T11:27:11.877Z"
   },
   {
    "duration": 0,
    "start_time": "2022-09-03T11:27:11.878Z"
   },
   {
    "duration": 0,
    "start_time": "2022-09-03T11:27:11.879Z"
   },
   {
    "duration": 0,
    "start_time": "2022-09-03T11:27:11.880Z"
   },
   {
    "duration": 0,
    "start_time": "2022-09-03T11:27:11.881Z"
   },
   {
    "duration": 0,
    "start_time": "2022-09-03T11:27:11.882Z"
   },
   {
    "duration": 0,
    "start_time": "2022-09-03T11:27:11.885Z"
   },
   {
    "duration": 23,
    "start_time": "2022-09-03T11:27:33.987Z"
   },
   {
    "duration": 5,
    "start_time": "2022-09-03T11:28:14.282Z"
   },
   {
    "duration": 15,
    "start_time": "2022-09-03T11:28:31.814Z"
   },
   {
    "duration": 21,
    "start_time": "2022-09-03T11:28:47.716Z"
   },
   {
    "duration": 8,
    "start_time": "2022-09-03T11:28:54.500Z"
   },
   {
    "duration": 4,
    "start_time": "2022-09-03T11:29:03.579Z"
   },
   {
    "duration": 4,
    "start_time": "2022-09-03T11:29:16.203Z"
   },
   {
    "duration": 30,
    "start_time": "2022-09-03T11:29:30.175Z"
   },
   {
    "duration": 34,
    "start_time": "2022-09-03T11:29:50.995Z"
   },
   {
    "duration": 4,
    "start_time": "2022-09-03T11:30:05.074Z"
   },
   {
    "duration": 30,
    "start_time": "2022-09-03T11:31:37.833Z"
   },
   {
    "duration": 36,
    "start_time": "2022-09-03T11:31:51.374Z"
   },
   {
    "duration": 36,
    "start_time": "2022-09-03T11:32:39.506Z"
   },
   {
    "duration": 34,
    "start_time": "2022-09-03T11:33:14.946Z"
   },
   {
    "duration": 35,
    "start_time": "2022-09-03T11:35:38.097Z"
   },
   {
    "duration": 1372,
    "start_time": "2022-09-03T11:37:52.693Z"
   },
   {
    "duration": 18,
    "start_time": "2022-09-03T11:37:54.068Z"
   },
   {
    "duration": 5,
    "start_time": "2022-09-03T11:37:54.087Z"
   },
   {
    "duration": 13,
    "start_time": "2022-09-03T11:37:54.094Z"
   },
   {
    "duration": 11,
    "start_time": "2022-09-03T11:37:54.109Z"
   },
   {
    "duration": 212,
    "start_time": "2022-09-03T11:37:54.122Z"
   },
   {
    "duration": 4,
    "start_time": "2022-09-03T11:37:54.335Z"
   },
   {
    "duration": 47,
    "start_time": "2022-09-03T11:37:54.340Z"
   },
   {
    "duration": 4,
    "start_time": "2022-09-03T11:37:54.390Z"
   },
   {
    "duration": 56,
    "start_time": "2022-09-03T11:37:54.397Z"
   },
   {
    "duration": 3,
    "start_time": "2022-09-03T11:37:54.456Z"
   },
   {
    "duration": 36,
    "start_time": "2022-09-03T11:37:54.461Z"
   },
   {
    "duration": 12,
    "start_time": "2022-09-03T11:37:54.499Z"
   },
   {
    "duration": 11,
    "start_time": "2022-09-03T11:37:54.514Z"
   },
   {
    "duration": 17,
    "start_time": "2022-09-03T11:37:54.527Z"
   },
   {
    "duration": 14,
    "start_time": "2022-09-03T11:37:54.547Z"
   },
   {
    "duration": 1359,
    "start_time": "2022-09-03T11:37:58.941Z"
   },
   {
    "duration": 18,
    "start_time": "2022-09-03T11:38:00.301Z"
   },
   {
    "duration": 10,
    "start_time": "2022-09-03T11:38:00.321Z"
   },
   {
    "duration": 9,
    "start_time": "2022-09-03T11:38:00.334Z"
   },
   {
    "duration": 5,
    "start_time": "2022-09-03T11:38:00.345Z"
   },
   {
    "duration": 237,
    "start_time": "2022-09-03T11:38:00.352Z"
   },
   {
    "duration": 5,
    "start_time": "2022-09-03T11:38:00.591Z"
   },
   {
    "duration": 65,
    "start_time": "2022-09-03T11:38:00.599Z"
   },
   {
    "duration": 4,
    "start_time": "2022-09-03T11:38:00.666Z"
   },
   {
    "duration": 48,
    "start_time": "2022-09-03T11:38:00.673Z"
   },
   {
    "duration": 4,
    "start_time": "2022-09-03T11:38:00.722Z"
   },
   {
    "duration": 16,
    "start_time": "2022-09-03T11:38:00.728Z"
   },
   {
    "duration": 27,
    "start_time": "2022-09-03T11:38:00.746Z"
   },
   {
    "duration": 40,
    "start_time": "2022-09-03T11:38:00.774Z"
   },
   {
    "duration": 9,
    "start_time": "2022-09-03T11:38:00.816Z"
   },
   {
    "duration": 25,
    "start_time": "2022-09-03T11:38:00.827Z"
   },
   {
    "duration": 1047,
    "start_time": "2022-09-03T15:42:02.872Z"
   },
   {
    "duration": 77,
    "start_time": "2022-09-03T15:42:03.920Z"
   },
   {
    "duration": 15,
    "start_time": "2022-09-03T15:42:08.352Z"
   },
   {
    "duration": 3,
    "start_time": "2022-09-03T15:43:11.164Z"
   },
   {
    "duration": 94,
    "start_time": "2022-09-03T15:43:11.551Z"
   },
   {
    "duration": 7,
    "start_time": "2022-09-03T15:43:42.196Z"
   },
   {
    "duration": 2,
    "start_time": "2022-09-03T15:43:44.304Z"
   },
   {
    "duration": 163,
    "start_time": "2022-09-03T15:43:45.281Z"
   },
   {
    "duration": 4,
    "start_time": "2022-09-03T15:43:47.207Z"
   },
   {
    "duration": 29,
    "start_time": "2022-09-03T15:44:59.378Z"
   },
   {
    "duration": 4,
    "start_time": "2022-09-03T15:44:59.833Z"
   },
   {
    "duration": 21,
    "start_time": "2022-09-03T15:45:33.913Z"
   },
   {
    "duration": 16,
    "start_time": "2022-09-03T15:45:44.829Z"
   },
   {
    "duration": 15,
    "start_time": "2022-09-03T15:45:56.924Z"
   },
   {
    "duration": 14,
    "start_time": "2022-09-03T15:46:17.224Z"
   },
   {
    "duration": 15,
    "start_time": "2022-09-03T15:46:47.988Z"
   },
   {
    "duration": 13,
    "start_time": "2022-09-03T15:48:52.116Z"
   },
   {
    "duration": 22,
    "start_time": "2022-09-03T15:53:15.240Z"
   },
   {
    "duration": 30,
    "start_time": "2022-09-03T15:53:22.025Z"
   },
   {
    "duration": 28,
    "start_time": "2022-09-03T15:53:57.072Z"
   },
   {
    "duration": 6,
    "start_time": "2022-09-03T15:54:27.696Z"
   },
   {
    "duration": 28,
    "start_time": "2022-09-03T15:54:30.569Z"
   },
   {
    "duration": 7,
    "start_time": "2022-09-03T15:54:43.733Z"
   },
   {
    "duration": 30,
    "start_time": "2022-09-03T15:54:47.860Z"
   },
   {
    "duration": 40,
    "start_time": "2022-09-03T15:54:55.852Z"
   },
   {
    "duration": 39,
    "start_time": "2022-09-03T15:55:45.852Z"
   },
   {
    "duration": 40,
    "start_time": "2022-09-03T15:56:06.088Z"
   },
   {
    "duration": 28,
    "start_time": "2022-09-03T15:56:12.116Z"
   },
   {
    "duration": 28,
    "start_time": "2022-09-03T15:56:18.291Z"
   },
   {
    "duration": 12,
    "start_time": "2022-09-03T15:56:24.070Z"
   },
   {
    "duration": 24,
    "start_time": "2022-09-03T15:57:04.720Z"
   },
   {
    "duration": 28,
    "start_time": "2022-09-03T15:57:21.239Z"
   },
   {
    "duration": 13,
    "start_time": "2022-09-03T15:57:41.534Z"
   },
   {
    "duration": 13,
    "start_time": "2022-09-03T15:57:55.165Z"
   },
   {
    "duration": 12,
    "start_time": "2022-09-03T15:58:34.593Z"
   },
   {
    "duration": 5,
    "start_time": "2022-09-03T15:58:51.266Z"
   },
   {
    "duration": 7,
    "start_time": "2022-09-03T15:59:00.709Z"
   },
   {
    "duration": 4,
    "start_time": "2022-09-03T15:59:14.926Z"
   },
   {
    "duration": 10,
    "start_time": "2022-09-03T15:59:33.269Z"
   },
   {
    "duration": 4,
    "start_time": "2022-09-03T15:59:36.118Z"
   },
   {
    "duration": 5,
    "start_time": "2022-09-03T15:59:48.350Z"
   },
   {
    "duration": 14,
    "start_time": "2022-09-03T16:01:47.191Z"
   },
   {
    "duration": 3,
    "start_time": "2022-09-03T16:02:04.880Z"
   },
   {
    "duration": 37,
    "start_time": "2022-09-03T16:02:06.752Z"
   },
   {
    "duration": 4,
    "start_time": "2022-09-03T16:02:07.695Z"
   },
   {
    "duration": 27,
    "start_time": "2022-09-03T16:02:25.304Z"
   },
   {
    "duration": 3,
    "start_time": "2022-09-03T16:02:25.784Z"
   },
   {
    "duration": 74,
    "start_time": "2022-09-03T16:02:29.856Z"
   },
   {
    "duration": 16,
    "start_time": "2022-09-03T16:02:35.424Z"
   },
   {
    "duration": 3,
    "start_time": "2022-09-03T16:02:55.977Z"
   },
   {
    "duration": 3,
    "start_time": "2022-09-03T16:03:03.120Z"
   },
   {
    "duration": 39,
    "start_time": "2022-09-03T16:03:08.624Z"
   },
   {
    "duration": 2,
    "start_time": "2022-09-03T16:03:17.671Z"
   },
   {
    "duration": 183,
    "start_time": "2022-09-03T16:03:18.464Z"
   },
   {
    "duration": 4,
    "start_time": "2022-09-03T16:03:18.895Z"
   },
   {
    "duration": 29,
    "start_time": "2022-09-03T16:03:20.332Z"
   },
   {
    "duration": 4,
    "start_time": "2022-09-03T16:03:21.071Z"
   },
   {
    "duration": 29,
    "start_time": "2022-09-03T16:03:23.721Z"
   },
   {
    "duration": 3,
    "start_time": "2022-09-03T16:03:26.043Z"
   },
   {
    "duration": 5,
    "start_time": "2022-09-03T16:03:40.257Z"
   },
   {
    "duration": 4,
    "start_time": "2022-09-03T16:03:59.347Z"
   },
   {
    "duration": 4,
    "start_time": "2022-09-03T16:04:03.192Z"
   },
   {
    "duration": 3,
    "start_time": "2022-09-03T16:04:10.628Z"
   },
   {
    "duration": 353,
    "start_time": "2022-09-03T16:06:45.892Z"
   },
   {
    "duration": 4,
    "start_time": "2022-09-03T16:06:46.438Z"
   },
   {
    "duration": 639,
    "start_time": "2022-09-03T16:06:56.374Z"
   },
   {
    "duration": 4,
    "start_time": "2022-09-03T16:06:57.015Z"
   },
   {
    "duration": 3679,
    "start_time": "2022-09-03T16:07:01.927Z"
   },
   {
    "duration": 4,
    "start_time": "2022-09-03T16:07:06.602Z"
   },
   {
    "duration": 30,
    "start_time": "2022-09-03T16:07:13.572Z"
   },
   {
    "duration": 3,
    "start_time": "2022-09-03T16:07:13.998Z"
   },
   {
    "duration": 28,
    "start_time": "2022-09-03T16:07:16.185Z"
   },
   {
    "duration": 3,
    "start_time": "2022-09-03T16:07:18.168Z"
   },
   {
    "duration": 3,
    "start_time": "2022-09-03T16:07:20.836Z"
   },
   {
    "duration": 3,
    "start_time": "2022-09-03T16:07:30.158Z"
   },
   {
    "duration": 71,
    "start_time": "2022-09-03T16:10:21.351Z"
   },
   {
    "duration": 22016,
    "start_time": "2022-09-03T16:10:26.271Z"
   },
   {
    "duration": 3,
    "start_time": "2022-09-03T16:10:48.289Z"
   },
   {
    "duration": 4,
    "start_time": "2022-09-03T16:10:54.026Z"
   },
   {
    "duration": 21747,
    "start_time": "2022-09-03T16:12:20.996Z"
   },
   {
    "duration": 4,
    "start_time": "2022-09-03T16:12:42.744Z"
   },
   {
    "duration": 81,
    "start_time": "2022-09-03T16:13:16.747Z"
   },
   {
    "duration": 35,
    "start_time": "2022-09-03T16:13:32.576Z"
   },
   {
    "duration": 86,
    "start_time": "2022-09-03T16:13:36.735Z"
   },
   {
    "duration": 22022,
    "start_time": "2022-09-03T16:14:12.036Z"
   },
   {
    "duration": 8,
    "start_time": "2022-09-03T16:22:19.881Z"
   },
   {
    "duration": 11,
    "start_time": "2022-09-03T16:22:38.553Z"
   },
   {
    "duration": 8,
    "start_time": "2022-09-03T16:22:51.039Z"
   },
   {
    "duration": 4,
    "start_time": "2022-09-03T16:23:09.178Z"
   },
   {
    "duration": 14,
    "start_time": "2022-09-03T16:23:19.761Z"
   },
   {
    "duration": 6,
    "start_time": "2022-09-03T16:23:25.254Z"
   },
   {
    "duration": 32,
    "start_time": "2022-09-03T16:32:01.980Z"
   },
   {
    "duration": 4,
    "start_time": "2022-09-03T16:32:06.289Z"
   },
   {
    "duration": 591,
    "start_time": "2022-09-03T16:32:17.371Z"
   },
   {
    "duration": 65,
    "start_time": "2022-09-03T16:39:11.154Z"
   },
   {
    "duration": 31,
    "start_time": "2022-09-03T16:39:26.497Z"
   },
   {
    "duration": 1376,
    "start_time": "2022-09-03T16:39:29.334Z"
   },
   {
    "duration": 1396,
    "start_time": "2022-09-03T16:39:38.329Z"
   },
   {
    "duration": 1394,
    "start_time": "2022-09-03T16:40:23.266Z"
   },
   {
    "duration": 4,
    "start_time": "2022-09-03T16:40:32.334Z"
   },
   {
    "duration": 1430,
    "start_time": "2022-09-03T16:40:35.731Z"
   },
   {
    "duration": 1383,
    "start_time": "2022-09-03T16:40:42.224Z"
   },
   {
    "duration": 1378,
    "start_time": "2022-09-03T16:40:49.956Z"
   },
   {
    "duration": 8,
    "start_time": "2022-09-03T16:41:05.122Z"
   },
   {
    "duration": 1384,
    "start_time": "2022-09-03T16:41:12.466Z"
   },
   {
    "duration": 1427,
    "start_time": "2022-09-03T16:41:20.443Z"
   },
   {
    "duration": 1374,
    "start_time": "2022-09-03T16:41:44.138Z"
   },
   {
    "duration": 5,
    "start_time": "2022-09-03T16:44:23.163Z"
   },
   {
    "duration": 6,
    "start_time": "2022-09-03T16:44:23.613Z"
   },
   {
    "duration": 5,
    "start_time": "2022-09-03T16:44:25.890Z"
   },
   {
    "duration": 5,
    "start_time": "2022-09-03T16:44:26.643Z"
   },
   {
    "duration": 7,
    "start_time": "2022-09-03T16:44:27.116Z"
   },
   {
    "duration": 35,
    "start_time": "2022-09-03T16:45:08.145Z"
   },
   {
    "duration": 5,
    "start_time": "2022-09-03T16:45:10.229Z"
   },
   {
    "duration": 6,
    "start_time": "2022-09-03T16:45:52.518Z"
   },
   {
    "duration": 10,
    "start_time": "2022-09-03T17:01:53.789Z"
   },
   {
    "duration": 2,
    "start_time": "2022-09-03T17:01:58.173Z"
   },
   {
    "duration": 9,
    "start_time": "2022-09-03T17:01:58.588Z"
   },
   {
    "duration": 6,
    "start_time": "2022-09-03T17:02:20.212Z"
   },
   {
    "duration": 6,
    "start_time": "2022-09-03T17:02:23.204Z"
   },
   {
    "duration": 5,
    "start_time": "2022-09-03T17:03:37.750Z"
   },
   {
    "duration": 8,
    "start_time": "2022-09-03T17:06:45.906Z"
   },
   {
    "duration": 4,
    "start_time": "2022-09-03T17:12:27.975Z"
   },
   {
    "duration": 29,
    "start_time": "2022-09-03T17:12:33.383Z"
   },
   {
    "duration": 3,
    "start_time": "2022-09-03T17:12:34.342Z"
   },
   {
    "duration": 3,
    "start_time": "2022-09-03T17:13:19.116Z"
   },
   {
    "duration": 29,
    "start_time": "2022-09-03T17:13:26.844Z"
   },
   {
    "duration": 3,
    "start_time": "2022-09-03T17:13:29.311Z"
   },
   {
    "duration": 3,
    "start_time": "2022-09-03T17:13:35.262Z"
   },
   {
    "duration": 30,
    "start_time": "2022-09-03T17:13:39.288Z"
   },
   {
    "duration": 4,
    "start_time": "2022-09-03T17:13:40.377Z"
   },
   {
    "duration": 1655,
    "start_time": "2022-09-03T17:13:48.652Z"
   },
   {
    "duration": 37,
    "start_time": "2022-09-03T17:13:50.309Z"
   },
   {
    "duration": 12,
    "start_time": "2022-09-03T17:13:50.347Z"
   },
   {
    "duration": 2,
    "start_time": "2022-09-03T17:13:50.361Z"
   },
   {
    "duration": 8,
    "start_time": "2022-09-03T17:13:50.365Z"
   },
   {
    "duration": 4,
    "start_time": "2022-09-03T17:13:50.374Z"
   },
   {
    "duration": 4,
    "start_time": "2022-09-03T17:13:50.379Z"
   },
   {
    "duration": 22000,
    "start_time": "2022-09-03T17:13:50.385Z"
   },
   {
    "duration": 3,
    "start_time": "2022-09-03T17:14:12.387Z"
   },
   {
    "duration": 34,
    "start_time": "2022-09-03T17:14:12.391Z"
   },
   {
    "duration": 3,
    "start_time": "2022-09-03T17:14:12.427Z"
   },
   {
    "duration": 48,
    "start_time": "2022-09-03T17:14:12.431Z"
   },
   {
    "duration": 3,
    "start_time": "2022-09-03T17:14:12.481Z"
   },
   {
    "duration": 1379,
    "start_time": "2022-09-03T17:14:12.486Z"
   },
   {
    "duration": 5,
    "start_time": "2022-09-03T17:14:13.867Z"
   },
   {
    "duration": 4,
    "start_time": "2022-09-03T17:14:13.874Z"
   },
   {
    "duration": 9,
    "start_time": "2022-09-03T17:14:13.879Z"
   },
   {
    "duration": 4,
    "start_time": "2022-09-03T17:14:13.889Z"
   },
   {
    "duration": 6,
    "start_time": "2022-09-03T17:14:13.895Z"
   },
   {
    "duration": 106,
    "start_time": "2022-09-03T17:16:50.295Z"
   },
   {
    "duration": 65,
    "start_time": "2022-09-03T17:17:08.858Z"
   },
   {
    "duration": 1427,
    "start_time": "2022-09-03T17:17:12.656Z"
   },
   {
    "duration": 1777,
    "start_time": "2022-09-04T08:32:07.407Z"
   },
   {
    "duration": 93,
    "start_time": "2022-09-04T08:32:09.187Z"
   },
   {
    "duration": 19,
    "start_time": "2022-09-04T08:32:09.282Z"
   },
   {
    "duration": 21,
    "start_time": "2022-09-04T08:32:09.303Z"
   },
   {
    "duration": 23,
    "start_time": "2022-09-04T08:32:09.327Z"
   },
   {
    "duration": 11,
    "start_time": "2022-09-04T08:32:09.352Z"
   },
   {
    "duration": 9,
    "start_time": "2022-09-04T08:32:09.365Z"
   },
   {
    "duration": 32171,
    "start_time": "2022-09-04T08:32:09.376Z"
   },
   {
    "duration": 4,
    "start_time": "2022-09-04T08:32:41.549Z"
   },
   {
    "duration": 60,
    "start_time": "2022-09-04T08:32:41.555Z"
   },
   {
    "duration": 4,
    "start_time": "2022-09-04T08:32:41.618Z"
   },
   {
    "duration": 36,
    "start_time": "2022-09-04T08:32:41.623Z"
   },
   {
    "duration": 5,
    "start_time": "2022-09-04T08:32:41.660Z"
   },
   {
    "duration": 2023,
    "start_time": "2022-09-04T08:32:41.667Z"
   },
   {
    "duration": 10,
    "start_time": "2022-09-04T08:32:43.697Z"
   },
   {
    "duration": 11,
    "start_time": "2022-09-04T08:32:43.710Z"
   },
   {
    "duration": 18,
    "start_time": "2022-09-04T08:32:43.723Z"
   },
   {
    "duration": 5,
    "start_time": "2022-09-04T08:32:43.743Z"
   },
   {
    "duration": 7,
    "start_time": "2022-09-04T08:32:43.750Z"
   },
   {
    "duration": 1410,
    "start_time": "2022-09-04T13:16:59.103Z"
   },
   {
    "duration": 77,
    "start_time": "2022-09-04T13:17:00.515Z"
   },
   {
    "duration": 12,
    "start_time": "2022-09-04T13:17:00.594Z"
   },
   {
    "duration": 14,
    "start_time": "2022-09-04T13:17:00.608Z"
   },
   {
    "duration": 20,
    "start_time": "2022-09-04T13:17:00.623Z"
   },
   {
    "duration": 29,
    "start_time": "2022-09-04T13:17:00.644Z"
   },
   {
    "duration": 29,
    "start_time": "2022-09-04T13:17:00.674Z"
   },
   {
    "duration": 22013,
    "start_time": "2022-09-04T13:17:00.705Z"
   },
   {
    "duration": 3,
    "start_time": "2022-09-04T13:17:22.720Z"
   },
   {
    "duration": 42,
    "start_time": "2022-09-04T13:17:22.725Z"
   },
   {
    "duration": 3,
    "start_time": "2022-09-04T13:17:22.768Z"
   },
   {
    "duration": 29,
    "start_time": "2022-09-04T13:17:22.773Z"
   },
   {
    "duration": 3,
    "start_time": "2022-09-04T13:17:22.804Z"
   },
   {
    "duration": 2041,
    "start_time": "2022-09-04T13:17:22.808Z"
   },
   {
    "duration": 7,
    "start_time": "2022-09-04T13:17:24.850Z"
   },
   {
    "duration": 8,
    "start_time": "2022-09-04T13:17:24.859Z"
   },
   {
    "duration": 7,
    "start_time": "2022-09-04T13:17:24.868Z"
   },
   {
    "duration": 5,
    "start_time": "2022-09-04T13:17:24.876Z"
   },
   {
    "duration": 7,
    "start_time": "2022-09-04T13:17:24.882Z"
   },
   {
    "duration": 1247,
    "start_time": "2022-09-04T13:25:49.612Z"
   },
   {
    "duration": 35,
    "start_time": "2022-09-04T13:25:50.861Z"
   },
   {
    "duration": 11,
    "start_time": "2022-09-04T13:25:50.898Z"
   },
   {
    "duration": 3,
    "start_time": "2022-09-04T13:25:50.911Z"
   },
   {
    "duration": 9,
    "start_time": "2022-09-04T13:25:50.915Z"
   },
   {
    "duration": 5,
    "start_time": "2022-09-04T13:25:50.926Z"
   },
   {
    "duration": 4,
    "start_time": "2022-09-04T13:25:50.933Z"
   },
   {
    "duration": 21627,
    "start_time": "2022-09-04T13:25:50.938Z"
   },
   {
    "duration": 4,
    "start_time": "2022-09-04T13:26:12.566Z"
   },
   {
    "duration": 28,
    "start_time": "2022-09-04T13:26:12.573Z"
   },
   {
    "duration": 3,
    "start_time": "2022-09-04T13:26:12.603Z"
   },
   {
    "duration": 50,
    "start_time": "2022-09-04T13:26:12.607Z"
   },
   {
    "duration": 4,
    "start_time": "2022-09-04T13:26:12.658Z"
   },
   {
    "duration": 3,
    "start_time": "2022-09-04T13:26:12.664Z"
   },
   {
    "duration": 6,
    "start_time": "2022-09-04T13:26:12.669Z"
   },
   {
    "duration": 4,
    "start_time": "2022-09-04T13:26:12.677Z"
   },
   {
    "duration": 7,
    "start_time": "2022-09-04T13:26:12.682Z"
   },
   {
    "duration": 3,
    "start_time": "2022-09-04T13:26:12.690Z"
   },
   {
    "duration": 8,
    "start_time": "2022-09-04T13:26:12.694Z"
   },
   {
    "duration": 5,
    "start_time": "2022-09-04T13:27:06.600Z"
   }
  ],
  "kernelspec": {
   "display_name": "Python 3.9.12 ('base')",
   "language": "python",
   "name": "python3"
  },
  "language_info": {
   "codemirror_mode": {
    "name": "ipython",
    "version": 3
   },
   "file_extension": ".py",
   "mimetype": "text/x-python",
   "name": "python",
   "nbconvert_exporter": "python",
   "pygments_lexer": "ipython3",
   "version": "3.9.12"
  },
  "toc": {
   "base_numbering": 1,
   "nav_menu": {},
   "number_sections": true,
   "sideBar": true,
   "skip_h1_title": true,
   "title_cell": "Table of Contents",
   "title_sidebar": "Contents",
   "toc_cell": false,
   "toc_position": {},
   "toc_section_display": true,
   "toc_window_display": true
  },
  "vscode": {
   "interpreter": {
    "hash": "1c8c03b3dd9f00cbf1a5a5c63c930805b828fbf388ffb63f05d8fe79c64b8236"
   }
  }
 },
 "nbformat": 4,
 "nbformat_minor": 2
}
