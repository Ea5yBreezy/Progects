{
 "cells": [
  {
   "cell_type": "markdown",
   "metadata": {},
   "source": [
    "# Отток клиентов"
   ]
  },
  {
   "cell_type": "markdown",
   "metadata": {},
   "source": [
    "Из «Бета-Банка» стали уходить клиенты. Каждый месяц. Немного, но заметно. Банковские маркетологи посчитали: сохранять текущих клиентов дешевле, чем привлекать новых.\n",
    "\n",
    "Нужно спрогнозировать, уйдёт клиент из банка в ближайшее время или нет. Вам предоставлены исторические данные о поведении клиентов и расторжении договоров с банком. \n",
    "\n",
    "Постройте модель с предельно большим значением *F1*-меры. Чтобы сдать проект успешно, нужно довести метрику до 0.59. Проверьте *F1*-меру на тестовой выборке самостоятельно.\n",
    "\n",
    "Дополнительно измеряйте *AUC-ROC*, сравнивайте её значение с *F1*-мерой.\n",
    "\n",
    "Источник данных: [https://www.kaggle.com/barelydedicated/bank-customer-churn-modeling](https://www.kaggle.com/barelydedicated/bank-customer-churn-modeling)"
   ]
  },
  {
   "cell_type": "markdown",
   "metadata": {},
   "source": [
    "## Подготовка данных"
   ]
  },
  {
   "cell_type": "code",
   "execution_count": 1,
   "metadata": {},
   "outputs": [],
   "source": [
    "import pandas as pd\n",
    "import numpy as np\n",
    "from sklearn.tree import DecisionTreeClassifier\n",
    "from sklearn.ensemble import RandomForestClassifier\n",
    "from sklearn.linear_model import LogisticRegression \n",
    "from sklearn.model_selection import train_test_split\n",
    "from sklearn.dummy import DummyClassifier\n",
    "from sklearn.utils import shuffle\n",
    "from sklearn.preprocessing import StandardScaler\n",
    "from sklearn.metrics import f1_score\n",
    "from sklearn.metrics import accuracy_score\n",
    "from sklearn.model_selection import ParameterGrid\n",
    "from tqdm.notebook import tqdm\n",
    "import plotly.express as px\n",
    "from sklearn.metrics import roc_curve, auc\n",
    "pd.set_option('display.max_rows', 1000)\n",
    "pd.set_option('display.max_columns', 1000)\n",
    "pd.set_option('display.width', 1500)"
   ]
  },
  {
   "cell_type": "code",
   "execution_count": 2,
   "metadata": {},
   "outputs": [
    {
     "name": "stdout",
     "output_type": "stream",
     "text": [
      "<class 'pandas.core.frame.DataFrame'>\n",
      "RangeIndex: 10000 entries, 0 to 9999\n",
      "Data columns (total 14 columns):\n",
      " #   Column           Non-Null Count  Dtype  \n",
      "---  ------           --------------  -----  \n",
      " 0   RowNumber        10000 non-null  int64  \n",
      " 1   CustomerId       10000 non-null  int64  \n",
      " 2   Surname          10000 non-null  object \n",
      " 3   CreditScore      10000 non-null  int64  \n",
      " 4   Geography        10000 non-null  object \n",
      " 5   Gender           10000 non-null  object \n",
      " 6   Age              10000 non-null  int64  \n",
      " 7   Tenure           9091 non-null   float64\n",
      " 8   Balance          10000 non-null  float64\n",
      " 9   NumOfProducts    10000 non-null  int64  \n",
      " 10  HasCrCard        10000 non-null  int64  \n",
      " 11  IsActiveMember   10000 non-null  int64  \n",
      " 12  EstimatedSalary  10000 non-null  float64\n",
      " 13  Exited           10000 non-null  int64  \n",
      "dtypes: float64(3), int64(8), object(3)\n",
      "memory usage: 1.1+ MB\n"
     ]
    }
   ],
   "source": [
    "try:\n",
    "  df = pd.read_csv('/DS/Yandex_Practikum/Projects/datasets/Churn_Modelling.csv')\n",
    "except:\n",
    "  df = pd.read_csv('/datasets/Churn.csv')\n",
    "df.info()"
   ]
  },
  {
   "cell_type": "code",
   "execution_count": 3,
   "metadata": {},
   "outputs": [
    {
     "data": {
      "text/html": [
       "<div>\n",
       "<style scoped>\n",
       "    .dataframe tbody tr th:only-of-type {\n",
       "        vertical-align: middle;\n",
       "    }\n",
       "\n",
       "    .dataframe tbody tr th {\n",
       "        vertical-align: top;\n",
       "    }\n",
       "\n",
       "    .dataframe thead th {\n",
       "        text-align: right;\n",
       "    }\n",
       "</style>\n",
       "<table border=\"1\" class=\"dataframe\">\n",
       "  <thead>\n",
       "    <tr style=\"text-align: right;\">\n",
       "      <th></th>\n",
       "      <th>RowNumber</th>\n",
       "      <th>CustomerId</th>\n",
       "      <th>Surname</th>\n",
       "      <th>CreditScore</th>\n",
       "      <th>Geography</th>\n",
       "      <th>Gender</th>\n",
       "      <th>Age</th>\n",
       "      <th>Tenure</th>\n",
       "      <th>Balance</th>\n",
       "      <th>NumOfProducts</th>\n",
       "      <th>HasCrCard</th>\n",
       "      <th>IsActiveMember</th>\n",
       "      <th>EstimatedSalary</th>\n",
       "      <th>Exited</th>\n",
       "    </tr>\n",
       "  </thead>\n",
       "  <tbody>\n",
       "    <tr>\n",
       "      <th>0</th>\n",
       "      <td>1</td>\n",
       "      <td>15634602</td>\n",
       "      <td>Hargrave</td>\n",
       "      <td>619</td>\n",
       "      <td>France</td>\n",
       "      <td>Female</td>\n",
       "      <td>42</td>\n",
       "      <td>2.0</td>\n",
       "      <td>0.00</td>\n",
       "      <td>1</td>\n",
       "      <td>1</td>\n",
       "      <td>1</td>\n",
       "      <td>101348.88</td>\n",
       "      <td>1</td>\n",
       "    </tr>\n",
       "    <tr>\n",
       "      <th>1</th>\n",
       "      <td>2</td>\n",
       "      <td>15647311</td>\n",
       "      <td>Hill</td>\n",
       "      <td>608</td>\n",
       "      <td>Spain</td>\n",
       "      <td>Female</td>\n",
       "      <td>41</td>\n",
       "      <td>1.0</td>\n",
       "      <td>83807.86</td>\n",
       "      <td>1</td>\n",
       "      <td>0</td>\n",
       "      <td>1</td>\n",
       "      <td>112542.58</td>\n",
       "      <td>0</td>\n",
       "    </tr>\n",
       "    <tr>\n",
       "      <th>2</th>\n",
       "      <td>3</td>\n",
       "      <td>15619304</td>\n",
       "      <td>Onio</td>\n",
       "      <td>502</td>\n",
       "      <td>France</td>\n",
       "      <td>Female</td>\n",
       "      <td>42</td>\n",
       "      <td>8.0</td>\n",
       "      <td>159660.80</td>\n",
       "      <td>3</td>\n",
       "      <td>1</td>\n",
       "      <td>0</td>\n",
       "      <td>113931.57</td>\n",
       "      <td>1</td>\n",
       "    </tr>\n",
       "    <tr>\n",
       "      <th>3</th>\n",
       "      <td>4</td>\n",
       "      <td>15701354</td>\n",
       "      <td>Boni</td>\n",
       "      <td>699</td>\n",
       "      <td>France</td>\n",
       "      <td>Female</td>\n",
       "      <td>39</td>\n",
       "      <td>1.0</td>\n",
       "      <td>0.00</td>\n",
       "      <td>2</td>\n",
       "      <td>0</td>\n",
       "      <td>0</td>\n",
       "      <td>93826.63</td>\n",
       "      <td>0</td>\n",
       "    </tr>\n",
       "    <tr>\n",
       "      <th>4</th>\n",
       "      <td>5</td>\n",
       "      <td>15737888</td>\n",
       "      <td>Mitchell</td>\n",
       "      <td>850</td>\n",
       "      <td>Spain</td>\n",
       "      <td>Female</td>\n",
       "      <td>43</td>\n",
       "      <td>2.0</td>\n",
       "      <td>125510.82</td>\n",
       "      <td>1</td>\n",
       "      <td>1</td>\n",
       "      <td>1</td>\n",
       "      <td>79084.10</td>\n",
       "      <td>0</td>\n",
       "    </tr>\n",
       "  </tbody>\n",
       "</table>\n",
       "</div>"
      ],
      "text/plain": [
       "   RowNumber  CustomerId   Surname  CreditScore Geography  Gender  Age  Tenure    Balance  NumOfProducts  HasCrCard  IsActiveMember  EstimatedSalary  Exited\n",
       "0          1    15634602  Hargrave          619    France  Female   42     2.0       0.00              1          1               1        101348.88       1\n",
       "1          2    15647311      Hill          608     Spain  Female   41     1.0   83807.86              1          0               1        112542.58       0\n",
       "2          3    15619304      Onio          502    France  Female   42     8.0  159660.80              3          1               0        113931.57       1\n",
       "3          4    15701354      Boni          699    France  Female   39     1.0       0.00              2          0               0         93826.63       0\n",
       "4          5    15737888  Mitchell          850     Spain  Female   43     2.0  125510.82              1          1               1         79084.10       0"
      ]
     },
     "execution_count": 3,
     "metadata": {},
     "output_type": "execute_result"
    }
   ],
   "source": [
    "df.head()"
   ]
  },
  {
   "cell_type": "code",
   "execution_count": 4,
   "metadata": {},
   "outputs": [
    {
     "data": {
      "image/png": "[encoded data removed]",
      "text/plain": [
       "<Figure size 2160x720 with 12 Axes>"
      ]
     },
     "metadata": {
      "needs_background": "light"
     },
     "output_type": "display_data"
    }
   ],
   "source": [
    "df.hist(figsize=(30,10), bins = 40)\n",
    "None"
   ]
  },
  {
   "cell_type": "code",
   "execution_count": 5,
   "metadata": {},
   "outputs": [
    {
     "data": {
      "text/plain": [
       "RowNumber            0\n",
       "CustomerId           0\n",
       "Surname              0\n",
       "CreditScore          0\n",
       "Geography            0\n",
       "Gender               0\n",
       "Age                  0\n",
       "Tenure             909\n",
       "Balance              0\n",
       "NumOfProducts        0\n",
       "HasCrCard            0\n",
       "IsActiveMember       0\n",
       "EstimatedSalary      0\n",
       "Exited               0\n",
       "dtype: int64"
      ]
     },
     "execution_count": 5,
     "metadata": {},
     "output_type": "execute_result"
    }
   ],
   "source": [
    "df.isna().sum()"
   ]
  },
  {
   "cell_type": "code",
   "execution_count": 6,
   "metadata": {},
   "outputs": [
    {
     "data": {
      "text/plain": [
       "0"
      ]
     },
     "execution_count": 6,
     "metadata": {},
     "output_type": "execute_result"
    }
   ],
   "source": [
    "df.duplicated().sum()"
   ]
  },
  {
   "cell_type": "code",
   "execution_count": 7,
   "metadata": {},
   "outputs": [
    {
     "data": {
      "text/plain": [
       "5.0"
      ]
     },
     "execution_count": 7,
     "metadata": {},
     "output_type": "execute_result"
    }
   ],
   "source": [
    "df['Tenure'].median()"
   ]
  },
  {
   "cell_type": "code",
   "execution_count": 8,
   "metadata": {},
   "outputs": [
    {
     "data": {
      "text/plain": [
       "4.997690023099769"
      ]
     },
     "execution_count": 8,
     "metadata": {},
     "output_type": "execute_result"
    }
   ],
   "source": [
    "df['Tenure'].mean()"
   ]
  },
  {
   "cell_type": "markdown",
   "metadata": {},
   "source": [
    "Заменю пропуски медианным значением"
   ]
  },
  {
   "cell_type": "code",
   "execution_count": 9,
   "metadata": {},
   "outputs": [],
   "source": [
    "df.loc[df['Tenure'].isna(),'Tenure'] = df['Tenure'].median()"
   ]
  },
  {
   "cell_type": "markdown",
   "metadata": {},
   "source": [
    "В датасете пропуски отработали и полные дупликаты отсутсвуют. Данные распределены по большей части равномерно и нормально."
   ]
  },
  {
   "cell_type": "markdown",
   "metadata": {},
   "source": [
    "Подготовим исходные данные для обчения модели. "
   ]
  },
  {
   "cell_type": "code",
   "execution_count": 10,
   "metadata": {},
   "outputs": [
    {
     "data": {
      "text/plain": [
       "Index(['RowNumber', 'CustomerId', 'Surname', 'CreditScore', 'Geography', 'Gender', 'Age', 'Tenure', 'Balance', 'NumOfProducts', 'HasCrCard', 'IsActiveMember', 'EstimatedSalary', 'Exited'], dtype='object')"
      ]
     },
     "execution_count": 10,
     "metadata": {},
     "output_type": "execute_result"
    }
   ],
   "source": [
    "df.columns"
   ]
  },
  {
   "cell_type": "markdown",
   "metadata": {},
   "source": [
    "Целевой признак будет столбец - 'Exited'. Признаки будут столбы - 'CreditScore', 'Geography', 'Gender', 'Age', 'Tenure', 'Balance', 'NumOfProducts', 'HasCrCard', 'IsActiveMember', 'EstimatedSalary'. Остальные столбца в обучении роли не сыграют."
   ]
  },
  {
   "cell_type": "code",
   "execution_count": 11,
   "metadata": {},
   "outputs": [],
   "source": [
    "df_model = df.drop(['RowNumber', 'CustomerId', 'Surname'], axis=1)"
   ]
  },
  {
   "cell_type": "markdown",
   "metadata": {},
   "source": [
    "Выполним прямое кодирование, чтобы преобразовать категориальные признаки, столбцы - 'Geography', 'Gender'."
   ]
  },
  {
   "cell_type": "code",
   "execution_count": 12,
   "metadata": {},
   "outputs": [],
   "source": [
    "data_ohe = pd.get_dummies(df_model, drop_first=True)"
   ]
  },
  {
   "cell_type": "code",
   "execution_count": 13,
   "metadata": {},
   "outputs": [
    {
     "name": "stdout",
     "output_type": "stream",
     "text": [
      "(5000, 11)\n",
      "(2500, 11)\n",
      "(2500, 11)\n",
      "(5000,)\n",
      "(2500,)\n",
      "(2500,)\n"
     ]
    }
   ],
   "source": [
    "target = data_ohe['Exited']\n",
    "features = data_ohe.drop('Exited', axis=1)\n",
    "features_train, features_valid, target_train, target_valid = train_test_split(\n",
    "    features, target, test_size=0.5, random_state=12345, stratify = target)\n",
    "features_valid, features_test, target_valid, target_test = train_test_split(\n",
    "    features_valid, target_valid, test_size=0.5, random_state=12345, stratify = target_valid)\n",
    "\n",
    "print(features_train.shape)\n",
    "print(features_valid.shape)\n",
    "print(features_test.shape)\n",
    "\n",
    "print(target_train.shape)\n",
    "print(target_valid.shape)\n",
    "print(target_test.shape)"
   ]
  },
  {
   "cell_type": "markdown",
   "metadata": {},
   "source": [
    "# Исследование задачи"
   ]
  },
  {
   "cell_type": "markdown",
   "metadata": {},
   "source": [
    "Создам датафрейм для подведения итоговы результатов исследования"
   ]
  },
  {
   "cell_type": "code",
   "execution_count": 14,
   "metadata": {},
   "outputs": [],
   "source": [
    "conclusion = pd.DataFrame(columns=[('methods','upsample'), ('methods','scaler'), ('methods','class_weight'),('results','best_model'),('results','f1_score')])\n",
    "conclusion.columns = pd.MultiIndex.from_tuples(conclusion.columns)"
   ]
  },
  {
   "cell_type": "code",
   "execution_count": 15,
   "metadata": {},
   "outputs": [],
   "source": [
    "best_model = None\n",
    "best_result = 0"
   ]
  },
  {
   "cell_type": "markdown",
   "metadata": {},
   "source": [
    "Начнем с логистической регрессии"
   ]
  },
  {
   "cell_type": "code",
   "execution_count": 16,
   "metadata": {},
   "outputs": [],
   "source": [
    "model = LogisticRegression(random_state=12345, solver='liblinear')\n",
    "model.fit(features_train, target_train)\n",
    "predicted_valid = model.predict(features_valid)\n",
    "result = (f1_score(target_valid,predicted_valid))\n",
    "if result > best_result:\n",
    "    best_result = result\n",
    "    best_model = model"
   ]
  },
  {
   "cell_type": "code",
   "execution_count": 17,
   "metadata": {},
   "outputs": [
    {
     "name": "stdout",
     "output_type": "stream",
     "text": [
      "LogisticRegression(random_state=12345, solver='liblinear')\n",
      "0.06666666666666668\n"
     ]
    }
   ],
   "source": [
    "print(best_model)\n",
    "print(best_result)"
   ]
  },
  {
   "cell_type": "markdown",
   "metadata": {},
   "source": [
    "Дерево решений класификации"
   ]
  },
  {
   "cell_type": "code",
   "execution_count": 18,
   "metadata": {},
   "outputs": [
    {
     "name": "stdout",
     "output_type": "stream",
     "text": [
      "CPU times: total: 234 ms\n",
      "Wall time: 235 ms\n"
     ]
    }
   ],
   "source": [
    "%%time\n",
    "for depth in range(1, 16, 1):\n",
    "    model = DecisionTreeClassifier(max_depth=depth, random_state=12345)\n",
    "    model.fit(features_train, target_train)\n",
    "    predicted_valid = model.predict(features_valid)\n",
    "    result = (f1_score(target_valid,predicted_valid))\n",
    "    if result > best_result:\n",
    "        best_result = result\n",
    "        best_model = model"
   ]
  },
  {
   "cell_type": "code",
   "execution_count": 19,
   "metadata": {},
   "outputs": [
    {
     "name": "stdout",
     "output_type": "stream",
     "text": [
      "DecisionTreeClassifier(max_depth=7, random_state=12345)\n",
      "0.5669856459330144\n"
     ]
    }
   ],
   "source": [
    "print(best_model)\n",
    "print(best_result)"
   ]
  },
  {
   "cell_type": "markdown",
   "metadata": {},
   "source": [
    "Случайный лес классифифкации."
   ]
  },
  {
   "cell_type": "code",
   "execution_count": 20,
   "metadata": {},
   "outputs": [
    {
     "data": {
      "application/vnd.jupyter.widget-view+json": {
       "model_id": "070b67cf6921482f9fec2b7c9a760e4f",
       "version_major": 2,
       "version_minor": 0
      },
      "text/plain": [
       "  0%|          | 0/741 [00:00<?, ?it/s]"
      ]
     },
     "metadata": {},
     "output_type": "display_data"
    }
   ],
   "source": [
    "param_grid = {'n_estimators': list(range(1, 40)), 'max_depth': list(range(1, 20))}\n",
    "params = list(ParameterGrid(param_grid))\n",
    "for param in tqdm(params):\n",
    "    model = RandomForestClassifier(random_state=12345, n_estimators=param['n_estimators'], max_depth=param['max_depth'])\n",
    "    model.fit(features_train, target_train)\n",
    "    predicted_valid = model.predict(features_valid)\n",
    "    result = f1_score(target_valid,predicted_valid)\n",
    "    if result > best_result:\n",
    "        best_result = result\n",
    "        best_model = model  "
   ]
  },
  {
   "cell_type": "code",
   "execution_count": 21,
   "metadata": {},
   "outputs": [
    {
     "name": "stdout",
     "output_type": "stream",
     "text": [
      "Лучшая модель: RandomForestClassifier(max_depth=11, n_estimators=20, random_state=12345)\n",
      "Лучний результат, F1: 0.587088915956151\n"
     ]
    }
   ],
   "source": [
    "print('Лучшая модель:', best_model)\n",
    "print('Лучний результат, F1:', best_result)"
   ]
  },
  {
   "cell_type": "markdown",
   "metadata": {},
   "source": [
    "Проверим модель на тестовой выборке."
   ]
  },
  {
   "cell_type": "code",
   "execution_count": 22,
   "metadata": {},
   "outputs": [
    {
     "name": "stdout",
     "output_type": "stream",
     "text": [
      "F1: 0.5744934445768772\n"
     ]
    }
   ],
   "source": [
    "model = best_model\n",
    "model.fit(features_train, target_train)\n",
    "predicted_test = model.predict(features_test)\n",
    "result = f1_score(target_test,predicted_test)\n",
    "print('F1:', result)"
   ]
  },
  {
   "cell_type": "markdown",
   "metadata": {},
   "source": [
    "Без применения методов борьбы с дисбалансом лучшая модель - RandomForestClassifier(max_depth=11, n_estimators=20, random_state=12345) с F1 - 0.5744934445768772."
   ]
  },
  {
   "cell_type": "code",
   "execution_count": 23,
   "metadata": {},
   "outputs": [
    {
     "name": "stderr",
     "output_type": "stream",
     "text": [
      "C:\\Users\\Igor\\AppData\\Local\\Temp\\ipykernel_14648\\3672044082.py:1: FutureWarning: The frame.append method is deprecated and will be removed from pandas in a future version. Use pandas.concat instead.\n",
      "  conclusion = conclusion.append({('methods','upsample'): '-',('methods','scaler'):'-',('methods','class_weight'):'-',('results','best_model'): str(best_model), ('results','f1_score'): result}, ignore_index=True)\n"
     ]
    }
   ],
   "source": [
    "conclusion = conclusion.append({('methods','upsample'): '-',('methods','scaler'):'-',('methods','class_weight'):'-',('results','best_model'): str(best_model), ('results','f1_score'): result}, ignore_index=True)"
   ]
  },
  {
   "cell_type": "markdown",
   "metadata": {},
   "source": [
    "## Борьба с дисбалансом"
   ]
  },
  {
   "cell_type": "markdown",
   "metadata": {},
   "source": [
    "### Увеличение выборки"
   ]
  },
  {
   "cell_type": "code",
   "execution_count": 24,
   "metadata": {},
   "outputs": [
    {
     "name": "stdout",
     "output_type": "stream",
     "text": [
      "(3981, 11)\n",
      "(1019, 11)\n",
      "(3981,)\n",
      "(1019,)\n"
     ]
    }
   ],
   "source": [
    "features_zeros  = features_train[target_train == 0] \n",
    "features_ones = features_train[target_train == 1] \n",
    "target_zeros = target_train[target_train == 0]\n",
    "target_ones = target_train[target_train == 1]\n",
    "\n",
    "print(features_zeros.shape)\n",
    "print(features_ones.shape)\n",
    "print(target_zeros.shape)\n",
    "print(target_ones.shape)"
   ]
  },
  {
   "cell_type": "markdown",
   "metadata": {},
   "source": [
    "Увеличим выборку. Добавим features_ones и target_ones"
   ]
  },
  {
   "cell_type": "code",
   "execution_count": 25,
   "metadata": {},
   "outputs": [
    {
     "name": "stdout",
     "output_type": "stream",
     "text": [
      "(3981, 11)\n",
      "(3057, 11)\n",
      "(3981,)\n",
      "(3057,)\n"
     ]
    },
    {
     "name": "stderr",
     "output_type": "stream",
     "text": [
      "C:\\Users\\Igor\\AppData\\Local\\Temp\\ipykernel_14648\\1886815137.py:17: UserWarning: Boolean Series key will be reindexed to match DataFrame index.\n",
      "  features_zeros  = features_train_upsampled[target_train == 0]\n",
      "C:\\Users\\Igor\\AppData\\Local\\Temp\\ipykernel_14648\\1886815137.py:18: UserWarning: Boolean Series key will be reindexed to match DataFrame index.\n",
      "  features_ones = features_train_upsampled[target_train == 1]\n"
     ]
    }
   ],
   "source": [
    "def upsample(features, target, repeat):\n",
    "    features_zeros = features[target == 0]\n",
    "    features_ones = features[target == 1]\n",
    "    target_zeros = target[target == 0]\n",
    "    target_ones = target[target == 1]\n",
    "\n",
    "    features_upsampled = pd.concat([features_zeros] + [features_ones] * repeat)\n",
    "    target_upsampled = pd.concat([target_zeros] + [target_ones] * repeat)\n",
    "    \n",
    "    features_upsampled, target_upsampled = shuffle(\n",
    "        features_upsampled, target_upsampled, random_state=12345)\n",
    "    \n",
    "    return features_upsampled, target_upsampled\n",
    "\n",
    "features_train_upsampled, target_train_upsampled = upsample(features_train, target_train, 3)\n",
    "\n",
    "features_zeros  = features_train_upsampled[target_train == 0] \n",
    "features_ones = features_train_upsampled[target_train == 1] \n",
    "target_zeros = target_train_upsampled[target_train == 0]\n",
    "target_ones = target_train_upsampled[target_train == 1]\n",
    "\n",
    "print(features_zeros.shape)\n",
    "print(features_ones.shape)\n",
    "print(target_zeros.shape)\n",
    "print(target_ones.shape)"
   ]
  },
  {
   "cell_type": "markdown",
   "metadata": {},
   "source": [
    "#### Проверка моделей"
   ]
  },
  {
   "cell_type": "code",
   "execution_count": 26,
   "metadata": {},
   "outputs": [],
   "source": [
    "best_model = None\n",
    "best_result = 0"
   ]
  },
  {
   "cell_type": "markdown",
   "metadata": {},
   "source": [
    "Начнем с логистической регрессии"
   ]
  },
  {
   "cell_type": "code",
   "execution_count": 27,
   "metadata": {},
   "outputs": [],
   "source": [
    "model = LogisticRegression(random_state=12345, solver='liblinear')\n",
    "model.fit(features_train_upsampled, target_train_upsampled)\n",
    "predicted_valid = model.predict(features_valid)\n",
    "result = f1_score(target_valid,predicted_valid)\n",
    "if result > best_result:\n",
    "    best_result = result\n",
    "    best_model = model"
   ]
  },
  {
   "cell_type": "code",
   "execution_count": 28,
   "metadata": {},
   "outputs": [
    {
     "name": "stdout",
     "output_type": "stream",
     "text": [
      "LogisticRegression(random_state=12345, solver='liblinear')\n",
      "0.4312449145646867\n"
     ]
    }
   ],
   "source": [
    "print(best_model)\n",
    "print(best_result)"
   ]
  },
  {
   "cell_type": "markdown",
   "metadata": {},
   "source": [
    "Дерево решений класификации"
   ]
  },
  {
   "cell_type": "code",
   "execution_count": 29,
   "metadata": {},
   "outputs": [
    {
     "name": "stdout",
     "output_type": "stream",
     "text": [
      "CPU times: total: 297 ms\n",
      "Wall time: 272 ms\n"
     ]
    }
   ],
   "source": [
    "%%time\n",
    "for depth in range(1, 16, 1):\n",
    "    model = DecisionTreeClassifier(max_depth=depth, random_state=12345)\n",
    "    model.fit(features_train_upsampled, target_train_upsampled)\n",
    "    predicted_valid = model.predict(features_valid)\n",
    "    result = f1_score(target_valid,predicted_valid)\n",
    "    if result > best_result:\n",
    "        best_result = result\n",
    "        best_model = model"
   ]
  },
  {
   "cell_type": "code",
   "execution_count": 30,
   "metadata": {},
   "outputs": [
    {
     "name": "stdout",
     "output_type": "stream",
     "text": [
      "DecisionTreeClassifier(max_depth=5, random_state=12345)\n",
      "0.5852895148669797\n"
     ]
    }
   ],
   "source": [
    "print(best_model)\n",
    "print(best_result)"
   ]
  },
  {
   "cell_type": "markdown",
   "metadata": {},
   "source": [
    "Случайный лес классифифкации. Исходя из результатов модели \"Дерево решений класификации\" глубину леса выставим - 5"
   ]
  },
  {
   "cell_type": "code",
   "execution_count": 31,
   "metadata": {},
   "outputs": [
    {
     "data": {
      "application/vnd.jupyter.widget-view+json": {
       "model_id": "70056e28e51c431aa4cb9e6a5679a059",
       "version_major": 2,
       "version_minor": 0
      },
      "text/plain": [
       "  0%|          | 0/741 [00:00<?, ?it/s]"
      ]
     },
     "metadata": {},
     "output_type": "display_data"
    }
   ],
   "source": [
    "param_grid = {'n_estimators': list(range(1, 40)), 'max_depth': list(range(1, 20))}\n",
    "params = list(ParameterGrid(param_grid))\n",
    "for param in tqdm(params):\n",
    "    model = RandomForestClassifier(random_state=12345, n_estimators=param['n_estimators'], max_depth=param['max_depth'])\n",
    "    model.fit(features_train_upsampled, target_train_upsampled)\n",
    "    predicted_valid = model.predict(features_valid)\n",
    "    result = f1_score(target_valid,predicted_valid)\n",
    "    if result > best_result:\n",
    "        best_result = result\n",
    "        best_model = model  "
   ]
  },
  {
   "cell_type": "code",
   "execution_count": 32,
   "metadata": {},
   "outputs": [
    {
     "name": "stdout",
     "output_type": "stream",
     "text": [
      "Лучшая модель: RandomForestClassifier(max_depth=10, n_estimators=33, random_state=12345)\n",
      "Лучний результат, F1: 0.6201550387596899\n"
     ]
    }
   ],
   "source": [
    "print('Лучшая модель:', best_model)\n",
    "print('Лучний результат, F1:', best_result)"
   ]
  },
  {
   "cell_type": "markdown",
   "metadata": {},
   "source": [
    "Проверим модель на тестовой выборке."
   ]
  },
  {
   "cell_type": "code",
   "execution_count": 33,
   "metadata": {},
   "outputs": [
    {
     "name": "stdout",
     "output_type": "stream",
     "text": [
      "F1: 0.6240601503759398\n"
     ]
    }
   ],
   "source": [
    "model = best_model\n",
    "model.fit(features_train_upsampled, target_train_upsampled)\n",
    "predicted_test = model.predict(features_test)\n",
    "result = f1_score(target_test,predicted_test)\n",
    "print('F1:', result)"
   ]
  },
  {
   "cell_type": "markdown",
   "metadata": {},
   "source": [
    "С увеличением выборки лучшая модель - RandomForestClassifier(max_depth=10, n_estimators=33, random_state=12345) с F1 - 0.6240601503759398."
   ]
  },
  {
   "cell_type": "code",
   "execution_count": 34,
   "metadata": {},
   "outputs": [
    {
     "name": "stderr",
     "output_type": "stream",
     "text": [
      "C:\\Users\\Igor\\AppData\\Local\\Temp\\ipykernel_14648\\890759072.py:1: FutureWarning: The frame.append method is deprecated and will be removed from pandas in a future version. Use pandas.concat instead.\n",
      "  conclusion = conclusion.append({('methods','upsample'): '+',('methods','scaler'):'-',('methods','class_weight'):'-',('results','best_model'): str(best_model), ('results','f1_score'): result}, ignore_index=True)\n"
     ]
    }
   ],
   "source": [
    "conclusion = conclusion.append({('methods','upsample'): '+',('methods','scaler'):'-',('methods','class_weight'):'-',('results','best_model'): str(best_model), ('results','f1_score'): result}, ignore_index=True)"
   ]
  },
  {
   "cell_type": "markdown",
   "metadata": {},
   "source": [
    "После увеличения обучающей выборки получили улучшение результата F1 с 0.5744934445768772 до 0.6240601503759398"
   ]
  },
  {
   "cell_type": "markdown",
   "metadata": {},
   "source": [
    "### Масштабирование признаков"
   ]
  },
  {
   "cell_type": "markdown",
   "metadata": {},
   "source": [
    "Отмасштабируем признаки в столбцах 'CreditScore', 'Age', 'Tenure', 'Balance', 'EstimatedSalary'"
   ]
  },
  {
   "cell_type": "code",
   "execution_count": 35,
   "metadata": {},
   "outputs": [],
   "source": [
    "numeric = ['CreditScore', 'Age', 'Tenure', 'Balance', 'EstimatedSalary']\n",
    "scaler = StandardScaler()\n",
    "scaler.fit(features_train[numeric])\n",
    "\n",
    "features_train_numeric = features_train\n",
    "features_valid_numeric = features_valid\n",
    "features_test_numeric = features_test\n",
    "\n",
    "features_train_numeric[numeric] = scaler.transform(features_train[numeric])\n",
    "features_valid_numeric[numeric] = scaler.transform(features_valid[numeric])\n",
    "features_test_numeric[numeric] = scaler.transform(features_test[numeric])\n",
    "\n"
   ]
  },
  {
   "cell_type": "markdown",
   "metadata": {},
   "source": [
    "#### Проверка моделей"
   ]
  },
  {
   "cell_type": "code",
   "execution_count": 36,
   "metadata": {},
   "outputs": [],
   "source": [
    "best_model = None\n",
    "best_result = 0"
   ]
  },
  {
   "cell_type": "markdown",
   "metadata": {},
   "source": [
    "Начнем с логистической регрессии"
   ]
  },
  {
   "cell_type": "code",
   "execution_count": 37,
   "metadata": {},
   "outputs": [],
   "source": [
    "model = LogisticRegression(random_state=12345, solver='liblinear')\n",
    "model.fit(features_train_numeric, target_train)\n",
    "predicted_valid = model.predict(features_valid_numeric)\n",
    "result = f1_score(target_valid,predicted_valid)\n",
    "if result > best_result:\n",
    "    best_result = result\n",
    "    best_model = model"
   ]
  },
  {
   "cell_type": "code",
   "execution_count": 38,
   "metadata": {},
   "outputs": [
    {
     "name": "stdout",
     "output_type": "stream",
     "text": [
      "LogisticRegression(random_state=12345, solver='liblinear')\n",
      "0.2708333333333333\n"
     ]
    }
   ],
   "source": [
    "print(best_model)\n",
    "print(best_result)"
   ]
  },
  {
   "cell_type": "markdown",
   "metadata": {},
   "source": [
    "Дерево решений класификации"
   ]
  },
  {
   "cell_type": "code",
   "execution_count": 39,
   "metadata": {},
   "outputs": [
    {
     "name": "stdout",
     "output_type": "stream",
     "text": [
      "CPU times: total: 234 ms\n",
      "Wall time: 227 ms\n"
     ]
    }
   ],
   "source": [
    "%%time\n",
    "for depth in range(1, 16, 1):\n",
    "    model = DecisionTreeClassifier(max_depth=depth, random_state=12345)\n",
    "    model.fit(features_train_numeric, target_train)\n",
    "    predicted_valid = model.predict(features_valid_numeric)\n",
    "    result = (f1_score(target_valid,predicted_valid))\n",
    "    if result > best_result:\n",
    "        best_result = result\n",
    "        best_model = model"
   ]
  },
  {
   "cell_type": "code",
   "execution_count": 40,
   "metadata": {},
   "outputs": [
    {
     "name": "stdout",
     "output_type": "stream",
     "text": [
      "DecisionTreeClassifier(max_depth=7, random_state=12345)\n",
      "0.5669856459330144\n"
     ]
    }
   ],
   "source": [
    "print(best_model)\n",
    "print(best_result)"
   ]
  },
  {
   "cell_type": "markdown",
   "metadata": {},
   "source": [
    "Случайный лес классифифкации"
   ]
  },
  {
   "cell_type": "code",
   "execution_count": 41,
   "metadata": {},
   "outputs": [
    {
     "data": {
      "application/vnd.jupyter.widget-view+json": {
       "model_id": "7c9302af4f0d4e91bfd10191ec1091ae",
       "version_major": 2,
       "version_minor": 0
      },
      "text/plain": [
       "  0%|          | 0/741 [00:00<?, ?it/s]"
      ]
     },
     "metadata": {},
     "output_type": "display_data"
    }
   ],
   "source": [
    "param_grid = {'n_estimators': list(range(1, 40)), 'max_depth': list(range(1, 20))}\n",
    "params = list(ParameterGrid(param_grid))\n",
    "for param in tqdm(params):\n",
    "    model = RandomForestClassifier(random_state=12345, n_estimators=param['n_estimators'], max_depth=param['max_depth'])\n",
    "    model.fit(features_train_numeric, target_train)\n",
    "    predicted_valid = model.predict(features_valid_numeric)\n",
    "    result = f1_score(target_valid,predicted_valid)\n",
    "    if result > best_result:\n",
    "        best_result = result\n",
    "        best_model = model  "
   ]
  },
  {
   "cell_type": "code",
   "execution_count": 42,
   "metadata": {},
   "outputs": [
    {
     "name": "stdout",
     "output_type": "stream",
     "text": [
      "Лучшая модель: RandomForestClassifier(max_depth=11, n_estimators=20, random_state=12345)\n",
      "Лучний результат, F1: 0.5853658536585367\n"
     ]
    }
   ],
   "source": [
    "print('Лучшая модель:', best_model)\n",
    "print('Лучний результат, F1:', best_result)"
   ]
  },
  {
   "cell_type": "markdown",
   "metadata": {},
   "source": [
    "Проверим модель на тестовой выборке."
   ]
  },
  {
   "cell_type": "code",
   "execution_count": 43,
   "metadata": {},
   "outputs": [
    {
     "name": "stdout",
     "output_type": "stream",
     "text": [
      "F1: 0.5744934445768772\n"
     ]
    }
   ],
   "source": [
    "model = best_model\n",
    "model.fit(features_train_numeric, target_train)\n",
    "predicted_test = model.predict(features_test_numeric)\n",
    "result = f1_score(target_test,predicted_test)\n",
    "print('F1:', result)"
   ]
  },
  {
   "cell_type": "markdown",
   "metadata": {},
   "source": [
    "С масштабированием признаков лучшая модель - RandomForestClassifier(max_depth=11, n_estimators=20, random_state=12345) с F1 - 0.5853658536585367."
   ]
  },
  {
   "cell_type": "markdown",
   "metadata": {},
   "source": [
    "После масштабирования признаков получили ухудшение результата F1 с 0.5777262180974477 до 0.5744934445768772"
   ]
  },
  {
   "cell_type": "code",
   "execution_count": 44,
   "metadata": {},
   "outputs": [
    {
     "name": "stderr",
     "output_type": "stream",
     "text": [
      "C:\\Users\\Igor\\AppData\\Local\\Temp\\ipykernel_14648\\1801003933.py:1: FutureWarning: The frame.append method is deprecated and will be removed from pandas in a future version. Use pandas.concat instead.\n",
      "  conclusion = conclusion.append({('methods','upsample'): '-',('methods','scaler'):'+',('methods','class_weight'):'-',('results','best_model'): str(best_model), ('results','f1_score'): result}, ignore_index=True)\n"
     ]
    }
   ],
   "source": [
    "conclusion = conclusion.append({('methods','upsample'): '-',('methods','scaler'):'+',('methods','class_weight'):'-',('results','best_model'): str(best_model), ('results','f1_score'): result}, ignore_index=True)"
   ]
  },
  {
   "cell_type": "markdown",
   "metadata": {},
   "source": [
    "### Применение гиперпараметра class_weight с значением'balanced'"
   ]
  },
  {
   "cell_type": "markdown",
   "metadata": {},
   "source": [
    "#### Проверка моделей"
   ]
  },
  {
   "cell_type": "code",
   "execution_count": 45,
   "metadata": {},
   "outputs": [],
   "source": [
    "best_model = None\n",
    "best_result = 0"
   ]
  },
  {
   "cell_type": "markdown",
   "metadata": {},
   "source": [
    "Начнем с логистической регрессии"
   ]
  },
  {
   "cell_type": "code",
   "execution_count": 46,
   "metadata": {},
   "outputs": [],
   "source": [
    "model = LogisticRegression(random_state=12345, solver='liblinear', class_weight='balanced')\n",
    "model.fit(features_train, target_train)\n",
    "predicted_valid = model.predict(features_valid)\n",
    "result = f1_score(target_valid,predicted_valid)\n",
    "if result > best_result:\n",
    "    best_result = result\n",
    "    best_model = model"
   ]
  },
  {
   "cell_type": "markdown",
   "metadata": {},
   "source": [
    "<div class=\"alert alert-info\"; style=\"border-left: 7px solid blue\">\n",
    "<h3>✔ Комментарий студента V.2</h3> \n",
    "Окей, отдельно сделаю их)\n",
    "</div>  "
   ]
  },
  {
   "cell_type": "code",
   "execution_count": 47,
   "metadata": {},
   "outputs": [
    {
     "name": "stdout",
     "output_type": "stream",
     "text": [
      "LogisticRegression(class_weight='balanced', random_state=12345,\n",
      "                   solver='liblinear')\n",
      "0.49157303370786515\n"
     ]
    }
   ],
   "source": [
    "print(best_model)\n",
    "print(best_result)"
   ]
  },
  {
   "cell_type": "markdown",
   "metadata": {},
   "source": [
    "Дерево решений класификации"
   ]
  },
  {
   "cell_type": "code",
   "execution_count": 48,
   "metadata": {},
   "outputs": [
    {
     "name": "stdout",
     "output_type": "stream",
     "text": [
      "CPU times: total: 234 ms\n",
      "Wall time: 235 ms\n"
     ]
    }
   ],
   "source": [
    "%%time\n",
    "for depth in range(1, 16, 1):\n",
    "    model = DecisionTreeClassifier(max_depth=depth, random_state=12345, class_weight='balanced')\n",
    "    model.fit(features_train, target_train)\n",
    "    predicted_valid = model.predict(features_valid)\n",
    "    result = (f1_score(target_valid,predicted_valid))\n",
    "    if result > best_result:\n",
    "        best_result = result\n",
    "        best_model = model"
   ]
  },
  {
   "cell_type": "code",
   "execution_count": 49,
   "metadata": {},
   "outputs": [
    {
     "name": "stdout",
     "output_type": "stream",
     "text": [
      "DecisionTreeClassifier(class_weight='balanced', max_depth=5, random_state=12345)\n",
      "0.5561797752808989\n"
     ]
    }
   ],
   "source": [
    "print(best_model)\n",
    "print(best_result)"
   ]
  },
  {
   "cell_type": "markdown",
   "metadata": {},
   "source": [
    "Случайный лес классифифкации"
   ]
  },
  {
   "cell_type": "code",
   "execution_count": 50,
   "metadata": {},
   "outputs": [
    {
     "data": {
      "application/vnd.jupyter.widget-view+json": {
       "model_id": "c1f1dc39d24c4b2a934e97a785f92add",
       "version_major": 2,
       "version_minor": 0
      },
      "text/plain": [
       "  0%|          | 0/741 [00:00<?, ?it/s]"
      ]
     },
     "metadata": {},
     "output_type": "display_data"
    }
   ],
   "source": [
    "param_grid = {'n_estimators': list(range(1, 40)), 'max_depth': list(range(1, 20))}\n",
    "params = list(ParameterGrid(param_grid))\n",
    "for param in tqdm(params):\n",
    "    model = RandomForestClassifier(random_state=12345, n_estimators=param['n_estimators'], max_depth=param['max_depth'], class_weight='balanced')\n",
    "    model.fit(features_train, target_train)\n",
    "    predicted_valid = model.predict(features_valid)\n",
    "    result = f1_score(target_valid,predicted_valid)\n",
    "    if result > best_result:\n",
    "        best_result = result\n",
    "        best_model = model  "
   ]
  },
  {
   "cell_type": "code",
   "execution_count": 51,
   "metadata": {},
   "outputs": [
    {
     "name": "stdout",
     "output_type": "stream",
     "text": [
      "Лучшая модель: RandomForestClassifier(class_weight='balanced', max_depth=7, n_estimators=35,\n",
      "                       random_state=12345)\n",
      "Лучний результат, F1: 0.6166807076663858\n"
     ]
    }
   ],
   "source": [
    "print('Лучшая модель:', best_model)\n",
    "print('Лучний результат, F1:', best_result)"
   ]
  },
  {
   "cell_type": "markdown",
   "metadata": {},
   "source": [
    "Проверим модель на тестовой выборке."
   ]
  },
  {
   "cell_type": "code",
   "execution_count": 52,
   "metadata": {},
   "outputs": [
    {
     "name": "stdout",
     "output_type": "stream",
     "text": [
      "F1: 0.6033333333333334\n"
     ]
    }
   ],
   "source": [
    "model = best_model\n",
    "model.fit(features_train, target_train)\n",
    "predicted_test = model.predict(features_test)\n",
    "result = f1_score(target_test,predicted_test)\n",
    "print('F1:', result)"
   ]
  },
  {
   "cell_type": "markdown",
   "metadata": {},
   "source": [
    "С применением гиперпараметра class_weight лучшая модель - RandomForestClassifier(class_weight='balanced', max_depth=7, n_estimators=35, random_state=12345) с F1 - 0.6166807076663858."
   ]
  },
  {
   "cell_type": "markdown",
   "metadata": {},
   "source": [
    "После применения гиперпараметра class_weight получили ухудшение результата F1 с 0.6033333333333334 до 0.5777262180974477"
   ]
  },
  {
   "cell_type": "markdown",
   "metadata": {},
   "source": [
    "Применим их вместе увеличения выборки и масштабирования признаков."
   ]
  },
  {
   "cell_type": "code",
   "execution_count": 53,
   "metadata": {},
   "outputs": [
    {
     "name": "stderr",
     "output_type": "stream",
     "text": [
      "C:\\Users\\Igor\\AppData\\Local\\Temp\\ipykernel_14648\\2725272879.py:1: FutureWarning: The frame.append method is deprecated and will be removed from pandas in a future version. Use pandas.concat instead.\n",
      "  conclusion = conclusion.append({('methods','upsample'): '-',('methods','scaler'):'-',('methods','class_weight'):'+',('results','best_model'): str(best_model), ('results','f1_score'): result}, ignore_index=True)\n"
     ]
    }
   ],
   "source": [
    "conclusion = conclusion.append({('methods','upsample'): '-',('methods','scaler'):'-',('methods','class_weight'):'+',('results','best_model'): str(best_model), ('results','f1_score'): result}, ignore_index=True)"
   ]
  },
  {
   "cell_type": "markdown",
   "metadata": {},
   "source": [
    "### Применим совокупность методов - увеличение выборки и масштабирование признаков"
   ]
  },
  {
   "cell_type": "code",
   "execution_count": 54,
   "metadata": {},
   "outputs": [],
   "source": [
    "scaler.fit(features_train_upsampled[numeric])\n",
    "features_train_upsampled_numeric = features_train_upsampled\n",
    "features_train_upsampled[numeric] = scaler.transform(features_train_upsampled[numeric])"
   ]
  },
  {
   "cell_type": "markdown",
   "metadata": {},
   "source": [
    "#### Проверка моделей"
   ]
  },
  {
   "cell_type": "code",
   "execution_count": 55,
   "metadata": {},
   "outputs": [],
   "source": [
    "best_model = None\n",
    "best_result = 0"
   ]
  },
  {
   "cell_type": "markdown",
   "metadata": {},
   "source": [
    "Начнем с логистической регрессии"
   ]
  },
  {
   "cell_type": "code",
   "execution_count": 56,
   "metadata": {},
   "outputs": [],
   "source": [
    "model = LogisticRegression(random_state=12345, solver='liblinear')\n",
    "model.fit(features_train_upsampled_numeric, target_train_upsampled)\n",
    "predicted_valid = model.predict(features_valid_numeric)\n",
    "result = f1_score(target_valid,predicted_valid)\n",
    "if result > best_result:\n",
    "    best_result = result\n",
    "    best_model = model"
   ]
  },
  {
   "cell_type": "code",
   "execution_count": 57,
   "metadata": {},
   "outputs": [
    {
     "name": "stdout",
     "output_type": "stream",
     "text": [
      "LogisticRegression(random_state=12345, solver='liblinear')\n",
      "0.487369985141159\n"
     ]
    }
   ],
   "source": [
    "print(best_model)\n",
    "print(best_result)"
   ]
  },
  {
   "cell_type": "markdown",
   "metadata": {},
   "source": [
    "Дерево решений класификации"
   ]
  },
  {
   "cell_type": "code",
   "execution_count": 58,
   "metadata": {},
   "outputs": [
    {
     "name": "stdout",
     "output_type": "stream",
     "text": [
      "CPU times: total: 250 ms\n",
      "Wall time: 272 ms\n"
     ]
    }
   ],
   "source": [
    "%%time\n",
    "for depth in range(1, 16, 1):\n",
    "    model = DecisionTreeClassifier(max_depth=depth, random_state=12345)\n",
    "    model.fit(features_train_upsampled_numeric, target_train_upsampled)\n",
    "    predicted_valid = model.predict(features_valid_numeric)\n",
    "    result = (f1_score(target_valid,predicted_valid))\n",
    "    if result > best_result:\n",
    "        best_result = result\n",
    "        best_model = model"
   ]
  },
  {
   "cell_type": "code",
   "execution_count": 59,
   "metadata": {},
   "outputs": [
    {
     "name": "stdout",
     "output_type": "stream",
     "text": [
      "DecisionTreeClassifier(max_depth=7, random_state=12345)\n",
      "0.576797385620915\n"
     ]
    }
   ],
   "source": [
    "print(best_model)\n",
    "print(best_result)"
   ]
  },
  {
   "cell_type": "markdown",
   "metadata": {},
   "source": [
    "Случайный лес классифифкации"
   ]
  },
  {
   "cell_type": "code",
   "execution_count": 60,
   "metadata": {},
   "outputs": [
    {
     "data": {
      "application/vnd.jupyter.widget-view+json": {
       "model_id": "012a1740a6b042fc804fe2ed9964b43a",
       "version_major": 2,
       "version_minor": 0
      },
      "text/plain": [
       "  0%|          | 0/741 [00:00<?, ?it/s]"
      ]
     },
     "metadata": {},
     "output_type": "display_data"
    }
   ],
   "source": [
    "param_grid = {'n_estimators': list(range(1, 40)), 'max_depth': list(range(1, 20))}\n",
    "params = list(ParameterGrid(param_grid))\n",
    "for param in tqdm(params):\n",
    "    model = RandomForestClassifier(random_state=12345, n_estimators=param['n_estimators'], max_depth=param['max_depth'])\n",
    "    model.fit(features_train_upsampled_numeric, target_train_upsampled)\n",
    "    predicted_valid = model.predict(features_valid_numeric)\n",
    "    result = f1_score(target_valid,predicted_valid)\n",
    "    if result > best_result:\n",
    "        best_result = result\n",
    "        best_model = model  "
   ]
  },
  {
   "cell_type": "code",
   "execution_count": 61,
   "metadata": {},
   "outputs": [
    {
     "name": "stdout",
     "output_type": "stream",
     "text": [
      "Лучшая модель: RandomForestClassifier(max_depth=12, n_estimators=29, random_state=12345)\n",
      "Лучний результат, F1: 0.6181139122315593\n"
     ]
    }
   ],
   "source": [
    "print('Лучшая модель:', best_model)\n",
    "print('Лучний результат, F1:', best_result)"
   ]
  },
  {
   "cell_type": "markdown",
   "metadata": {},
   "source": [
    "Проверим модель на тестовой выборке."
   ]
  },
  {
   "cell_type": "code",
   "execution_count": 62,
   "metadata": {},
   "outputs": [
    {
     "name": "stdout",
     "output_type": "stream",
     "text": [
      "F1: 0.6055045871559632\n"
     ]
    }
   ],
   "source": [
    "model = best_model\n",
    "model.fit(features_train_upsampled_numeric, target_train_upsampled)\n",
    "predicted_test = model.predict(features_test_numeric)\n",
    "result = f1_score(target_test,predicted_test)\n",
    "print('F1:', result)"
   ]
  },
  {
   "cell_type": "markdown",
   "metadata": {},
   "source": [
    "С масштабированием признаков и увеличением выборки лучшая модель - RandomForestClassifier(max_depth=12, n_estimators=29, random_state=12345) с F1 - 0.6055045871559632."
   ]
  },
  {
   "cell_type": "markdown",
   "metadata": {},
   "source": [
    "После масштабирования признаков получили улучшение результата F1 с 0.5744934445768772 до 0.6055045871559632"
   ]
  },
  {
   "cell_type": "code",
   "execution_count": 63,
   "metadata": {},
   "outputs": [
    {
     "name": "stderr",
     "output_type": "stream",
     "text": [
      "C:\\Users\\Igor\\AppData\\Local\\Temp\\ipykernel_14648\\1520141445.py:1: FutureWarning: The frame.append method is deprecated and will be removed from pandas in a future version. Use pandas.concat instead.\n",
      "  conclusion = conclusion.append({('methods','upsample'): '+',('methods','scaler'):'+',('methods','class_weight'):'-',('results','best_model'): str(best_model), ('results','f1_score'): result}, ignore_index=True)\n"
     ]
    }
   ],
   "source": [
    "conclusion = conclusion.append({('methods','upsample'): '+',('methods','scaler'):'+',('methods','class_weight'):'-',('results','best_model'): str(best_model), ('results','f1_score'): result}, ignore_index=True)"
   ]
  },
  {
   "cell_type": "markdown",
   "metadata": {},
   "source": [
    "### Применим совокупность методов - увеличение выборки и гиперпараметр class_weight"
   ]
  },
  {
   "cell_type": "markdown",
   "metadata": {},
   "source": [
    "#### Проверка моделей"
   ]
  },
  {
   "cell_type": "code",
   "execution_count": 64,
   "metadata": {},
   "outputs": [],
   "source": [
    "best_model = None\n",
    "best_result = 0"
   ]
  },
  {
   "cell_type": "markdown",
   "metadata": {},
   "source": [
    "Начнем с логистической регрессии"
   ]
  },
  {
   "cell_type": "code",
   "execution_count": 65,
   "metadata": {},
   "outputs": [],
   "source": [
    "model = LogisticRegression(random_state=12345, solver='liblinear', class_weight='balanced')\n",
    "model.fit(features_train_upsampled, target_train_upsampled)\n",
    "predicted_valid = model.predict(features_valid)\n",
    "result = f1_score(target_valid,predicted_valid)\n",
    "if result > best_result:\n",
    "    best_result = result\n",
    "    best_model = model"
   ]
  },
  {
   "cell_type": "code",
   "execution_count": 66,
   "metadata": {},
   "outputs": [
    {
     "name": "stdout",
     "output_type": "stream",
     "text": [
      "LogisticRegression(class_weight='balanced', random_state=12345,\n",
      "                   solver='liblinear')\n",
      "0.4827586206896552\n"
     ]
    }
   ],
   "source": [
    "print(best_model)\n",
    "print(best_result)"
   ]
  },
  {
   "cell_type": "markdown",
   "metadata": {},
   "source": [
    "Дерево решений класификации"
   ]
  },
  {
   "cell_type": "code",
   "execution_count": 67,
   "metadata": {},
   "outputs": [
    {
     "name": "stdout",
     "output_type": "stream",
     "text": [
      "CPU times: total: 297 ms\n",
      "Wall time: 288 ms\n"
     ]
    }
   ],
   "source": [
    "%%time\n",
    "for depth in range(1, 16, 1):\n",
    "    model = DecisionTreeClassifier(max_depth=depth, random_state=12345, class_weight='balanced')\n",
    "    model.fit(features_train_upsampled, target_train_upsampled)\n",
    "    predicted_valid = model.predict(features_valid)\n",
    "    result = (f1_score(target_valid,predicted_valid))\n",
    "    if result > best_result:\n",
    "        best_result = result\n",
    "        best_model = model"
   ]
  },
  {
   "cell_type": "code",
   "execution_count": 68,
   "metadata": {},
   "outputs": [
    {
     "name": "stdout",
     "output_type": "stream",
     "text": [
      "DecisionTreeClassifier(class_weight='balanced', max_depth=6, random_state=12345)\n",
      "0.5476702508960574\n"
     ]
    }
   ],
   "source": [
    "print(best_model)\n",
    "print(best_result)"
   ]
  },
  {
   "cell_type": "markdown",
   "metadata": {},
   "source": [
    "Случайный лес классифифкации"
   ]
  },
  {
   "cell_type": "code",
   "execution_count": 69,
   "metadata": {},
   "outputs": [
    {
     "data": {
      "application/vnd.jupyter.widget-view+json": {
       "model_id": "ddb3141907564d72b96ebb042704ed8e",
       "version_major": 2,
       "version_minor": 0
      },
      "text/plain": [
       "  0%|          | 0/741 [00:00<?, ?it/s]"
      ]
     },
     "metadata": {},
     "output_type": "display_data"
    }
   ],
   "source": [
    "param_grid = {'n_estimators': list(range(1, 40)), 'max_depth': list(range(1, 20))}\n",
    "params = list(ParameterGrid(param_grid))\n",
    "for param in tqdm(params):\n",
    "    model = RandomForestClassifier(random_state=12345, n_estimators=param['n_estimators'], max_depth=param['max_depth'], class_weight='balanced')\n",
    "    model.fit(features_train_upsampled, target_train_upsampled)\n",
    "    predicted_valid = model.predict(features_valid)\n",
    "    result = f1_score(target_valid,predicted_valid)\n",
    "    if result > best_result:\n",
    "        best_result = result\n",
    "        best_model = model  "
   ]
  },
  {
   "cell_type": "code",
   "execution_count": 70,
   "metadata": {},
   "outputs": [
    {
     "name": "stdout",
     "output_type": "stream",
     "text": [
      "Лучшая модель: RandomForestClassifier(class_weight='balanced', max_depth=12, n_estimators=35,\n",
      "                       random_state=12345)\n",
      "Лучний результат, F1: 0.6066606660666067\n"
     ]
    }
   ],
   "source": [
    "print('Лучшая модель:', best_model)\n",
    "print('Лучний результат, F1:', best_result)"
   ]
  },
  {
   "cell_type": "markdown",
   "metadata": {},
   "source": [
    "Проверим модель на тестовой выборке."
   ]
  },
  {
   "cell_type": "code",
   "execution_count": 71,
   "metadata": {},
   "outputs": [
    {
     "name": "stdout",
     "output_type": "stream",
     "text": [
      "F1: 0.60752688172043\n"
     ]
    }
   ],
   "source": [
    "model = best_model\n",
    "model.fit(features_train_upsampled, target_train_upsampled)\n",
    "predicted_test = model.predict(features_test)\n",
    "result = f1_score(target_test,predicted_test)\n",
    "print('F1:', result)"
   ]
  },
  {
   "cell_type": "markdown",
   "metadata": {},
   "source": [
    "С увеличением выборки и применением гиперпараметра class_weight  лучшая модель - RandomForestClassifier(class_weight='balanced', max_depth=12, n_estimators=35, random_state=12345) с F1 - 0.60752688172043."
   ]
  },
  {
   "cell_type": "markdown",
   "metadata": {},
   "source": [
    "После увеличения выборки и применения гиперпараметра class_weight получили улучшение результата F1 с 0.5744934445768772 до 0.60752688172043"
   ]
  },
  {
   "cell_type": "code",
   "execution_count": 72,
   "metadata": {},
   "outputs": [
    {
     "name": "stderr",
     "output_type": "stream",
     "text": [
      "C:\\Users\\Igor\\AppData\\Local\\Temp\\ipykernel_14648\\4060897049.py:1: FutureWarning: The frame.append method is deprecated and will be removed from pandas in a future version. Use pandas.concat instead.\n",
      "  conclusion = conclusion.append({('methods','upsample'): '+',('methods','scaler'):'-',('methods','class_weight'):'+',('results','best_model'): str(best_model), ('results','f1_score'): result}, ignore_index=True)\n"
     ]
    }
   ],
   "source": [
    "conclusion = conclusion.append({('methods','upsample'): '+',('methods','scaler'):'-',('methods','class_weight'):'+',('results','best_model'): str(best_model), ('results','f1_score'): result}, ignore_index=True)"
   ]
  },
  {
   "cell_type": "code",
   "execution_count": 114,
   "metadata": {},
   "outputs": [
    {
     "name": "stderr",
     "output_type": "stream",
     "text": [
      "C:\\Users\\Igor\\AppData\\Local\\Temp\\ipykernel_14648\\3901942397.py:1: FutureWarning:\n",
      "\n",
      "this method is deprecated in favour of `Styler.hide(axis='index')`\n",
      "\n"
     ]
    },
    {
     "data": {
      "text/html": [
       "<style type=\"text/css\">\n",
       "#T_65276 th {\n",
       "  text-align: center;\n",
       "}\n",
       "#T_65276_row0_col0, #T_65276_row0_col1, #T_65276_row0_col2, #T_65276_row0_col3, #T_65276_row0_col4, #T_65276_row2_col0, #T_65276_row2_col1, #T_65276_row2_col2, #T_65276_row2_col3, #T_65276_row2_col4 {\n",
       "  background-color: #f7fcf5;\n",
       "  color: #000000;\n",
       "  text-align: center;\n",
       "}\n",
       "#T_65276_row1_col0, #T_65276_row1_col1, #T_65276_row1_col2, #T_65276_row1_col3, #T_65276_row1_col4 {\n",
       "  background-color: #00441b;\n",
       "  color: #f1f1f1;\n",
       "  text-align: center;\n",
       "}\n",
       "#T_65276_row3_col0, #T_65276_row3_col1, #T_65276_row3_col2, #T_65276_row3_col3, #T_65276_row3_col4 {\n",
       "  background-color: #53b466;\n",
       "  color: #f1f1f1;\n",
       "  text-align: center;\n",
       "}\n",
       "#T_65276_row4_col0, #T_65276_row4_col1, #T_65276_row4_col2, #T_65276_row4_col3, #T_65276_row4_col4 {\n",
       "  background-color: #40aa5d;\n",
       "  color: #f1f1f1;\n",
       "  text-align: center;\n",
       "}\n",
       "#T_65276_row5_col0, #T_65276_row5_col1, #T_65276_row5_col2, #T_65276_row5_col3, #T_65276_row5_col4 {\n",
       "  background-color: #37a055;\n",
       "  color: #f1f1f1;\n",
       "  text-align: center;\n",
       "}\n",
       "</style>\n",
       "<table id=\"T_65276\">\n",
       "  <thead>\n",
       "    <tr>\n",
       "      <th id=\"T_65276_level0_col0\" class=\"col_heading level0 col0\" colspan=\"3\">methods</th>\n",
       "      <th id=\"T_65276_level0_col3\" class=\"col_heading level0 col3\" colspan=\"2\">results</th>\n",
       "    </tr>\n",
       "    <tr>\n",
       "      <th id=\"T_65276_level1_col0\" class=\"col_heading level1 col0\" >upsample</th>\n",
       "      <th id=\"T_65276_level1_col1\" class=\"col_heading level1 col1\" >scaler</th>\n",
       "      <th id=\"T_65276_level1_col2\" class=\"col_heading level1 col2\" >class_weight</th>\n",
       "      <th id=\"T_65276_level1_col3\" class=\"col_heading level1 col3\" >best_model</th>\n",
       "      <th id=\"T_65276_level1_col4\" class=\"col_heading level1 col4\" >f1_score</th>\n",
       "    </tr>\n",
       "  </thead>\n",
       "  <tbody>\n",
       "    <tr>\n",
       "      <td id=\"T_65276_row0_col0\" class=\"data row0 col0\" >-</td>\n",
       "      <td id=\"T_65276_row0_col1\" class=\"data row0 col1\" >-</td>\n",
       "      <td id=\"T_65276_row0_col2\" class=\"data row0 col2\" >-</td>\n",
       "      <td id=\"T_65276_row0_col3\" class=\"data row0 col3\" >RandomForestClassifier(max_depth=11, n_estimators=20, random_state=12345)</td>\n",
       "      <td id=\"T_65276_row0_col4\" class=\"data row0 col4\" >0.574493</td>\n",
       "    </tr>\n",
       "    <tr>\n",
       "      <td id=\"T_65276_row1_col0\" class=\"data row1 col0\" >+</td>\n",
       "      <td id=\"T_65276_row1_col1\" class=\"data row1 col1\" >-</td>\n",
       "      <td id=\"T_65276_row1_col2\" class=\"data row1 col2\" >-</td>\n",
       "      <td id=\"T_65276_row1_col3\" class=\"data row1 col3\" >RandomForestClassifier(max_depth=10, n_estimators=33, random_state=12345)</td>\n",
       "      <td id=\"T_65276_row1_col4\" class=\"data row1 col4\" >0.624060</td>\n",
       "    </tr>\n",
       "    <tr>\n",
       "      <td id=\"T_65276_row2_col0\" class=\"data row2 col0\" >-</td>\n",
       "      <td id=\"T_65276_row2_col1\" class=\"data row2 col1\" >+</td>\n",
       "      <td id=\"T_65276_row2_col2\" class=\"data row2 col2\" >-</td>\n",
       "      <td id=\"T_65276_row2_col3\" class=\"data row2 col3\" >RandomForestClassifier(max_depth=11, n_estimators=20, random_state=12345)</td>\n",
       "      <td id=\"T_65276_row2_col4\" class=\"data row2 col4\" >0.574493</td>\n",
       "    </tr>\n",
       "    <tr>\n",
       "      <td id=\"T_65276_row3_col0\" class=\"data row3 col0\" >-</td>\n",
       "      <td id=\"T_65276_row3_col1\" class=\"data row3 col1\" >-</td>\n",
       "      <td id=\"T_65276_row3_col2\" class=\"data row3 col2\" >+</td>\n",
       "      <td id=\"T_65276_row3_col3\" class=\"data row3 col3\" >RandomForestClassifier(class_weight='balanced', max_depth=7, n_estimators=35,\n",
       "                       random_state=12345)</td>\n",
       "      <td id=\"T_65276_row3_col4\" class=\"data row3 col4\" >0.603333</td>\n",
       "    </tr>\n",
       "    <tr>\n",
       "      <td id=\"T_65276_row4_col0\" class=\"data row4 col0\" >+</td>\n",
       "      <td id=\"T_65276_row4_col1\" class=\"data row4 col1\" >+</td>\n",
       "      <td id=\"T_65276_row4_col2\" class=\"data row4 col2\" >-</td>\n",
       "      <td id=\"T_65276_row4_col3\" class=\"data row4 col3\" >RandomForestClassifier(max_depth=12, n_estimators=29, random_state=12345)</td>\n",
       "      <td id=\"T_65276_row4_col4\" class=\"data row4 col4\" >0.605505</td>\n",
       "    </tr>\n",
       "    <tr>\n",
       "      <td id=\"T_65276_row5_col0\" class=\"data row5 col0\" >+</td>\n",
       "      <td id=\"T_65276_row5_col1\" class=\"data row5 col1\" >-</td>\n",
       "      <td id=\"T_65276_row5_col2\" class=\"data row5 col2\" >+</td>\n",
       "      <td id=\"T_65276_row5_col3\" class=\"data row5 col3\" >RandomForestClassifier(class_weight='balanced', max_depth=12, n_estimators=35,\n",
       "                       random_state=12345)</td>\n",
       "      <td id=\"T_65276_row5_col4\" class=\"data row5 col4\" >0.607527</td>\n",
       "    </tr>\n",
       "  </tbody>\n",
       "</table>\n"
      ],
      "text/plain": [
       "<pandas.io.formats.style.Styler at 0x2505a38d5e0>"
      ]
     },
     "execution_count": 114,
     "metadata": {},
     "output_type": "execute_result"
    }
   ],
   "source": [
    "conclusion.style.background_gradient(gmap=conclusion['results','f1_score'], axis = 0 , cmap = 'Greens') \\\n",
    "    .set_table_styles([dict(selector='th', props=[('text-align', 'center')])]) \\\n",
    "    .set_properties(**{'text-align': 'center'}).hide_index()"
   ]
  },
  {
   "cell_type": "markdown",
   "metadata": {},
   "source": [
    "Итого, лучшая модель удовлетворяет главной задаче исследования - F1 лучшей модели = 0.624060 > 0.59."
   ]
  },
  {
   "cell_type": "markdown",
   "metadata": {},
   "source": [
    "## Сравню лучшую модель с моделью DummyClassifier."
   ]
  },
  {
   "cell_type": "code",
   "execution_count": 74,
   "metadata": {},
   "outputs": [
    {
     "name": "stdout",
     "output_type": "stream",
     "text": [
      "Dummy score =  0.7964\n",
      "Best model score =  0.8252\n"
     ]
    }
   ],
   "source": [
    "best_model = best_model\n",
    "dummy_clf = DummyClassifier(strategy='most_frequent', random_state=12345)  \n",
    "dummy_clf.fit(features_train_upsampled, target_train_upsampled)\n",
    "dummy_score = dummy_clf.score(features_valid, target_valid)\n",
    "model = best_model\n",
    "model.fit(features_train_upsampled, target_train_upsampled)\n",
    "predicted_valid = model.predict(features_valid)\n",
    "best_model_score = accuracy_score(target_valid,predicted_valid)\n",
    "print('Dummy score = ', dummy_score)\n",
    "print('Best model score = ', best_model_score)"
   ]
  },
  {
   "cell_type": "markdown",
   "metadata": {},
   "source": [
    "В итоге, best_model лучше модели DummyClassifier (предсказывает наиболее частое значение на основе таргета)"
   ]
  },
  {
   "cell_type": "markdown",
   "metadata": {},
   "source": [
    "Построим кривую AUC-ROC."
   ]
  },
  {
   "cell_type": "code",
   "execution_count": 75,
   "metadata": {},
   "outputs": [],
   "source": [
    "probabilities_valid = best_model.predict_proba(features_valid)\n",
    "probabilities_one_valid = probabilities_valid[:, 1]\n",
    "fpr, tpr, thresholds = roc_curve(target_valid, probabilities_one_valid)"
   ]
  },
  {
   "cell_type": "code",
   "execution_count": 76,
   "metadata": {},
   "outputs": [
    {
     "data": {
      "application/vnd.plotly.v1+json": {
       "config": {
        "plotlyServerURL": "https://plot.ly"
       },
       "data": [
        {
         "hovertemplate": "False Positive Rate=%{x}<br>True Positive Rate=%{y}<extra></extra>",
         "legendgroup": "",
         "line": {
          "color": "#636efa"
         },
         "marker": {
          "symbol": "circle"
         },
         "mode": "lines",
         "name": "",
         "orientation": "v",
         "showlegend": false,
         "stackgroup": "1",
         "type": "scatter",
         "x": [
          0,
          0,
          0,
          0.0005022601707684581,
          0.0005022601707684581,
          0.0010045203415369162,
          0.0010045203415369162,
          0.0020090406830738324,
          0.0020090406830738324,
          0.0025113008538422904,
          0.0025113008538422904,
          0.0030135610246107484,
          0.0030135610246107484,
          0.0035158211953792064,
          0.0035158211953792064,
          0.004018081366147665,
          0.004018081366147665,
          0.0045203415369161224,
          0.0045203415369161224,
          0.005022601707684581,
          0.005022601707684581,
          0.006027122049221497,
          0.006027122049221497,
          0.007031642390758413,
          0.007031642390758413,
          0.007533902561526871,
          0.007533902561526871,
          0.008538422903063787,
          0.008538422903063787,
          0.009040683073832245,
          0.009040683073832245,
          0.009542943244600702,
          0.009542943244600702,
          0.010045203415369162,
          0.010045203415369162,
          0.01054746358613762,
          0.01054746358613762,
          0.011049723756906077,
          0.011049723756906077,
          0.012054244098442994,
          0.012054244098442994,
          0.012556504269211451,
          0.012556504269211451,
          0.013058764439979909,
          0.013058764439979909,
          0.013561024610748368,
          0.013561024610748368,
          0.014063284781516826,
          0.014063284781516826,
          0.014063284781516826,
          0.014063284781516826,
          0.014565544952285283,
          0.014565544952285283,
          0.0155700652938222,
          0.0155700652938222,
          0.01607232546459066,
          0.01607232546459066,
          0.017076845806127575,
          0.017076845806127575,
          0.01757910597689603,
          0.01757910597689603,
          0.01808136614766449,
          0.01808136614766449,
          0.019588146659969864,
          0.019588146659969864,
          0.020090406830738324,
          0.020090406830738324,
          0.02059266700150678,
          0.02059266700150678,
          0.02109492717227524,
          0.02109492717227524,
          0.022099447513812154,
          0.022099447513812154,
          0.023606228026117528,
          0.023606228026117528,
          0.024108488196885988,
          0.024108488196885988,
          0.025113008538422903,
          0.025113008538422903,
          0.025615268709191362,
          0.025615268709191362,
          0.026117528879959818,
          0.026117528879959818,
          0.027122049221496736,
          0.027122049221496736,
          0.027624309392265192,
          0.027624309392265192,
          0.02812656956303365,
          0.02812656956303365,
          0.02862882973380211,
          0.02862882973380211,
          0.029131089904570567,
          0.029131089904570567,
          0.029633350075339026,
          0.029633350075339026,
          0.030135610246107485,
          0.030135610246107485,
          0.03264691109994977,
          0.03264691109994977,
          0.03314917127071823,
          0.03314917127071823,
          0.03365143144148669,
          0.03365143144148669,
          0.03515821195379206,
          0.03515821195379206,
          0.03616273229532898,
          0.03616273229532898,
          0.0371672526368659,
          0.0371672526368659,
          0.03817177297840281,
          0.03817177297840281,
          0.03967855349070819,
          0.03967855349070819,
          0.04018081366147665,
          0.04018081366147665,
          0.04168759417378202,
          0.04168759417378202,
          0.04218985434455048,
          0.04218985434455048,
          0.045705675539929685,
          0.045705675539929685,
          0.046207935710698145,
          0.046207935710698145,
          0.047714716223003516,
          0.047714716223003516,
          0.048216976393771975,
          0.048216976393771975,
          0.048719236564540434,
          0.048719236564540434,
          0.050226017076845805,
          0.050226017076845805,
          0.053239578101456554,
          0.053239578101456554,
          0.05424409844299347,
          0.05424409844299347,
          0.05474635861376193,
          0.05474635861376193,
          0.055750878955298844,
          0.055750878955298844,
          0.05826217980914113,
          0.05826217980914113,
          0.05876443997990959,
          0.05876443997990959,
          0.05926670015067805,
          0.05926670015067805,
          0.05976896032144651,
          0.05976896032144651,
          0.06177800100452034,
          0.06177800100452034,
          0.06780512305374184,
          0.06780512305374184,
          0.06931190356604722,
          0.06931190356604722,
          0.06981416373681568,
          0.06981416373681568,
          0.07031642390758412,
          0.07031642390758412,
          0.07081868407835258,
          0.07081868407835258,
          0.07383224510296334,
          0.07383224510296334,
          0.0743345052737318,
          0.0743345052737318,
          0.07483676544450026,
          0.07483676544450026,
          0.07533902561526871,
          0.07533902561526871,
          0.077850326469111,
          0.077850326469111,
          0.07935710698141638,
          0.07935710698141638,
          0.07985936715218483,
          0.07985936715218483,
          0.08186840783525866,
          0.08186840783525866,
          0.08237066800602712,
          0.08237066800602712,
          0.0838774485183325,
          0.0838774485183325,
          0.08488196885986941,
          0.08488196885986941,
          0.08638874937217479,
          0.08638874937217479,
          0.08890005022601707,
          0.08890005022601707,
          0.08940231039678553,
          0.08940231039678553,
          0.08990457056755399,
          0.08990457056755399,
          0.09141135107985937,
          0.09141135107985937,
          0.09191361125062783,
          0.09191361125062783,
          0.09241587142139629,
          0.09241587142139629,
          0.09593169261677549,
          0.09593169261677549,
          0.09643395278754395,
          0.09643395278754395,
          0.09693621295831241,
          0.09693621295831241,
          0.09994977398292315,
          0.09994977398292315,
          0.10145655449522853,
          0.10145655449522853,
          0.10195881466599699,
          0.10195881466599699,
          0.10497237569060773,
          0.10497237569060773,
          0.10848819688598695,
          0.10848819688598695,
          0.10949271722752386,
          0.10949271722752386,
          0.11049723756906077,
          0.11049723756906077,
          0.11150175791059769,
          0.11150175791059769,
          0.11200401808136615,
          0.11200401808136615,
          0.1125062782521346,
          0.1125062782521346,
          0.11300853842290307,
          0.11300853842290307,
          0.11551983927674535,
          0.11551983927674535,
          0.11602209944751381,
          0.11602209944751381,
          0.11953792064289302,
          0.11953792064289302,
          0.12154696132596685,
          0.12154696132596685,
          0.12305374183827222,
          0.12305374183827222,
          0.12355600200904068,
          0.12355600200904068,
          0.12405826217980914,
          0.12405826217980914,
          0.1245605223505776,
          0.1245605223505776,
          0.12506278252134606,
          0.12506278252134606,
          0.12556504269211452,
          0.12556504269211452,
          0.12656956303365144,
          0.12656956303365144,
          0.1270718232044199,
          0.1270718232044199,
          0.12908086388749374,
          0.12908086388749374,
          0.12958312405826217,
          0.12958312405826217,
          0.13058764439979909,
          0.13058764439979909,
          0.131592164741336,
          0.131592164741336,
          0.13309894525364138,
          0.13309894525364138,
          0.13510798593671522,
          0.13510798593671522,
          0.13611250627825214,
          0.13611250627825214,
          0.13711702661978906,
          0.13711702661978906,
          0.14063284781516824,
          0.14063284781516824,
          0.1411351079859367,
          0.1411351079859367,
          0.1486690105474636,
          0.1486690105474636,
          0.15017579105976897,
          0.15017579105976897,
          0.15067805123053743,
          0.15067805123053743,
          0.1511803114013059,
          0.1511803114013059,
          0.15268709191361124,
          0.15268709191361124,
          0.15720743345052737,
          0.15720743345052737,
          0.15770969362129583,
          0.15770969362129583,
          0.15871421396283275,
          0.15871421396283275,
          0.1617277749874435,
          0.1617277749874435,
          0.17076845806127575,
          0.17076845806127575,
          0.17428427925665493,
          0.17428427925665493,
          0.1757910597689603,
          0.1757910597689603,
          0.18031140130587645,
          0.18031140130587645,
          0.1808136614766449,
          0.1808136614766449,
          0.18181818181818182,
          0.18181818181818182,
          0.18382722250125566,
          0.18382722250125566,
          0.18633852335509793,
          0.18633852335509793,
          0.18884982420894023,
          0.18884982420894023,
          0.19136112506278252,
          0.19136112506278252,
          0.19638372677046712,
          0.19638372677046712,
          0.19688598694123555,
          0.19688598694123555,
          0.19889502762430938,
          0.19889502762430938,
          0.1998995479658463,
          0.1998995479658463,
          0.20090406830738322,
          0.20090406830738322,
          0.2049221496735309,
          0.2049221496735309,
          0.20843797086891008,
          0.20843797086891008,
          0.20894023103967854,
          0.20894023103967854,
          0.21044701155198392,
          0.21044701155198392,
          0.21747865394274235,
          0.21747865394274235,
          0.21948769462581616,
          0.21948769462581616,
          0.21998995479658462,
          0.21998995479658462,
          0.22149673530889,
          0.22149673530889,
          0.22250125565042692,
          0.22250125565042692,
          0.22702159718734305,
          0.22702159718734305,
          0.2275238573581115,
          0.2275238573581115,
          0.23053741838272224,
          0.23053741838272224,
          0.2310396785534907,
          0.2310396785534907,
          0.2345554997488699,
          0.2345554997488699,
          0.23857358111501759,
          0.23857358111501759,
          0.2395781014565545,
          0.2395781014565545,
          0.24962330487192366,
          0.24962330487192366,
          0.25565042692114515,
          0.25565042692114515,
          0.25615268709191363,
          0.25615268709191363,
          0.25816172777498747,
          0.25816172777498747,
          0.25916624811652433,
          0.25916624811652433,
          0.2596685082872928,
          0.2596685082872928,
          0.2621798091411351,
          0.2621798091411351,
          0.27071823204419887,
          0.27071823204419887,
          0.2722250125565043,
          0.2722250125565043,
          0.2802611752887996,
          0.2802611752887996,
          0.2827724761426419,
          0.2827724761426419,
          0.292817679558011,
          0.292817679558011,
          0.2973380210949272,
          0.2973380210949272,
          0.30135610246107486,
          0.30135610246107486,
          0.3033651431441487,
          0.3033651431441487,
          0.3068809643395279,
          0.3068809643395279,
          0.30989452536413864,
          0.30989452536413864,
          0.3119035660472125,
          0.3119035660472125,
          0.3129080863887494,
          0.3129080863887494,
          0.31541938724259166,
          0.31541938724259166,
          0.316926167754897,
          0.316926167754897,
          0.31893520843797085,
          0.31893520843797085,
          0.32044198895027626,
          0.32044198895027626,
          0.3209442491210447,
          0.3209442491210447,
          0.34555499748869917,
          0.34555499748869917,
          0.34806629834254144,
          0.34806629834254144,
          0.3520843797086891,
          0.3520843797086891,
          0.3616273229532898,
          0.3616273229532898,
          0.36263184329482673,
          0.36263184329482673,
          0.3676544450025113,
          0.3676544450025113,
          0.38272225012556504,
          0.38272225012556504,
          0.3917629331993973,
          0.3917629331993973,
          0.39326971371170266,
          0.39326971371170266,
          0.40281265695630336,
          0.40281265695630336,
          0.4038171772978403,
          0.4038171772978403,
          0.4058262179809141,
          0.4058262179809141,
          0.4103465595178302,
          0.4103465595178302,
          0.41285786037167255,
          0.41285786037167255,
          0.41838272225012557,
          0.41838272225012557,
          0.42089402310396784,
          0.42089402310396784,
          0.4249121044701155,
          0.4249121044701155,
          0.44098442993470616,
          0.44098442993470616,
          0.4455047714716223,
          0.4455047714716223,
          0.44952285283776994,
          0.44952285283776994,
          0.4585635359116022,
          0.4585635359116022,
          0.4645906579608237,
          0.4645906579608237,
          0.4731290808638875,
          0.4731290808638875,
          0.48116524359618285,
          0.48116524359618285,
          0.491210447011552,
          0.491210447011552,
          0.49422400803616273,
          0.49422400803616273,
          0.4992466097438473,
          0.4992466097438473,
          0.5168257157207433,
          0.5168257157207433,
          0.5173279758915118,
          0.5173279758915118,
          0.5213460572576595,
          0.5213460572576595,
          0.532898041185334,
          0.532898041185334,
          0.5334003013561025,
          0.5334003013561025,
          0.5364138623807132,
          0.5364138623807132,
          0.5374183827222502,
          0.5374183827222502,
          0.5414364640883977,
          0.5414364640883977,
          0.5419387242591662,
          0.5419387242591662,
          0.5454545454545454,
          0.5454545454545454,
          0.5464590657960824,
          0.5464590657960824,
          0.5705675539929683,
          0.5705675539929683,
          0.5796082370668006,
          0.5796082370668006,
          0.5836263184329483,
          0.5836263184329483,
          0.5901557006529382,
          0.5901557006529382,
          0.5936715218483174,
          0.5936715218483174,
          0.617277749874435,
          0.617277749874435,
          0.6499246609743847,
          0.6499246609743847,
          0.6519337016574586,
          0.6519337016574586,
          0.6549472626820693,
          0.6549472626820693,
          0.6554495228528378,
          0.6554495228528378,
          0.6649924660974385,
          0.6649924660974385,
          0.6659969864389754,
          0.6659969864389754,
          0.6825715720743345,
          0.6825715720743345,
          0.7026619789050729,
          0.7026619789050729,
          0.7101958814665997,
          0.7101958814665997,
          0.7192365645404319,
          0.7192365645404319,
          0.7242591662481165,
          0.7242591662481165,
          0.7317930688096433,
          0.7317930688096433,
          0.7343043696634857,
          0.7343043696634857,
          0.7569060773480663,
          0.7569060773480663,
          0.7599196383726771,
          0.7599196383726771,
          0.7634354595680563,
          0.7634354595680563,
          0.7769964841788046,
          0.7769964841788046,
          0.7850326469111,
          0.7860371672526368,
          0.8046207935710699,
          0.8046207935710699,
          0.808136614766449,
          0.808136614766449,
          0.8689100954294324,
          0.8699146157709694,
          0.8905072827724761,
          0.8905072827724761,
          0.9316926167754898,
          0.9316926167754898,
          0.9417378201908588,
          0.9417378201908588,
          0.951783023606228,
          0.951783023606228,
          1
         ],
         "xaxis": "x",
         "y": [
          0,
          0.0019646365422396855,
          0.04911591355599214,
          0.04911591355599214,
          0.05697445972495088,
          0.05697445972495088,
          0.06286836935166994,
          0.06286836935166994,
          0.07072691552062868,
          0.07072691552062868,
          0.07269155206286837,
          0.07269155206286837,
          0.11394891944990176,
          0.11394891944990176,
          0.13359528487229863,
          0.13359528487229863,
          0.137524557956778,
          0.137524557956778,
          0.14538310412573674,
          0.14538310412573674,
          0.14734774066797643,
          0.14734774066797643,
          0.15717092337917485,
          0.15717092337917485,
          0.17681728880157171,
          0.17681728880157171,
          0.1787819253438114,
          0.1787819253438114,
          0.1905697445972495,
          0.1905697445972495,
          0.20039292730844793,
          0.20039292730844793,
          0.2082514734774067,
          0.2082514734774067,
          0.2180746561886051,
          0.2180746561886051,
          0.22789783889980353,
          0.22789783889980353,
          0.22986247544204322,
          0.22986247544204322,
          0.2593320235756385,
          0.2593320235756385,
          0.2632612966601179,
          0.2632612966601179,
          0.26719056974459726,
          0.26719056974459726,
          0.27111984282907664,
          0.27111984282907664,
          0.28094302554027506,
          0.28487229862475444,
          0.2888015717092338,
          0.2888015717092338,
          0.30648330058939094,
          0.30648330058939094,
          0.3143418467583497,
          0.3143418467583497,
          0.3163064833005894,
          0.3163064833005894,
          0.3182711198428291,
          0.3182711198428291,
          0.3280943025540275,
          0.3280943025540275,
          0.3300589390962672,
          0.3300589390962672,
          0.3320235756385069,
          0.3320235756385069,
          0.33595284872298625,
          0.33595284872298625,
          0.3418467583497053,
          0.3418467583497053,
          0.343811394891945,
          0.343811394891945,
          0.34577603143418467,
          0.34577603143418467,
          0.3516699410609037,
          0.3516699410609037,
          0.35363457760314343,
          0.35363457760314343,
          0.3575638506876228,
          0.3575638506876228,
          0.36738703339882123,
          0.36738703339882123,
          0.3693516699410609,
          0.3693516699410609,
          0.37328094302554027,
          0.37328094302554027,
          0.37524557956778,
          0.37524557956778,
          0.3850687622789784,
          0.3850687622789784,
          0.38703339882121807,
          0.38703339882121807,
          0.39096267190569745,
          0.39096267190569745,
          0.3968565815324165,
          0.3968565815324165,
          0.40078585461689586,
          0.40078585461689586,
          0.4106090373280943,
          0.4106090373280943,
          0.412573673870334,
          0.412573673870334,
          0.4165029469548134,
          0.4165029469548134,
          0.4223968565815324,
          0.4223968565815324,
          0.43222003929273084,
          0.43222003929273084,
          0.4381139489194499,
          0.4381139489194499,
          0.4400785854616896,
          0.4400785854616896,
          0.44204322200392926,
          0.44204322200392926,
          0.444007858546169,
          0.444007858546169,
          0.44793713163064836,
          0.44793713163064836,
          0.45579567779960706,
          0.45579567779960706,
          0.45972495088408644,
          0.45972495088408644,
          0.4636542239685658,
          0.4636542239685658,
          0.4656188605108055,
          0.4656188605108055,
          0.46954813359528486,
          0.46954813359528486,
          0.47347740667976423,
          0.47347740667976423,
          0.47544204322200395,
          0.47544204322200395,
          0.4774066797642436,
          0.4774066797642436,
          0.481335952848723,
          0.481335952848723,
          0.48330058939096265,
          0.48330058939096265,
          0.4931237721021611,
          0.4931237721021611,
          0.4950884086444008,
          0.4950884086444008,
          0.5049115913555993,
          0.5049115913555993,
          0.5068762278978389,
          0.5068762278978389,
          0.5088408644400786,
          0.5088408644400786,
          0.5108055009823183,
          0.5108055009823183,
          0.5127701375245579,
          0.5127701375245579,
          0.5147347740667977,
          0.5147347740667977,
          0.5166994106090373,
          0.5166994106090373,
          0.518664047151277,
          0.518664047151277,
          0.5206286836935167,
          0.5206286836935167,
          0.5245579567779961,
          0.5245579567779961,
          0.5265225933202358,
          0.5265225933202358,
          0.5324165029469549,
          0.5324165029469549,
          0.5343811394891945,
          0.5343811394891945,
          0.5363457760314342,
          0.5363457760314342,
          0.5383104125736738,
          0.5383104125736738,
          0.5402750491159135,
          0.5402750491159135,
          0.5422396856581533,
          0.5422396856581533,
          0.5461689587426326,
          0.5461689587426326,
          0.550098231827112,
          0.550098231827112,
          0.5520628683693517,
          0.5520628683693517,
          0.5540275049115914,
          0.5540275049115914,
          0.5579567779960707,
          0.5579567779960707,
          0.5599214145383105,
          0.5599214145383105,
          0.5618860510805501,
          0.5618860510805501,
          0.5638506876227898,
          0.5638506876227898,
          0.5658153241650294,
          0.5658153241650294,
          0.5677799607072691,
          0.5677799607072691,
          0.5697445972495089,
          0.5697445972495089,
          0.5717092337917485,
          0.5717092337917485,
          0.5736738703339882,
          0.5736738703339882,
          0.5776031434184676,
          0.5776031434184676,
          0.5795677799607073,
          0.5795677799607073,
          0.5834970530451866,
          0.5834970530451866,
          0.587426326129666,
          0.587426326129666,
          0.5913555992141454,
          0.5913555992141454,
          0.593320235756385,
          0.593320235756385,
          0.5952848722986247,
          0.5952848722986247,
          0.5972495088408645,
          0.5972495088408645,
          0.5992141453831041,
          0.5992141453831041,
          0.6011787819253438,
          0.6011787819253438,
          0.6031434184675835,
          0.6031434184675835,
          0.6051080550098232,
          0.6051080550098232,
          0.6070726915520629,
          0.6070726915520629,
          0.6110019646365422,
          0.6110019646365422,
          0.6129666011787819,
          0.6129666011787819,
          0.6149312377210217,
          0.6149312377210217,
          0.618860510805501,
          0.618860510805501,
          0.6247544204322201,
          0.6247544204322201,
          0.6286836935166994,
          0.6286836935166994,
          0.630648330058939,
          0.630648330058939,
          0.6345776031434185,
          0.6345776031434185,
          0.6404715127701375,
          0.6404715127701375,
          0.6444007858546169,
          0.6444007858546169,
          0.6463654223968566,
          0.6463654223968566,
          0.650294695481336,
          0.650294695481336,
          0.6542239685658153,
          0.6542239685658153,
          0.656188605108055,
          0.656188605108055,
          0.6620825147347741,
          0.6620825147347741,
          0.6640471512770137,
          0.6640471512770137,
          0.6660117878192534,
          0.6660117878192534,
          0.6719056974459725,
          0.6719056974459725,
          0.6738703339882122,
          0.6738703339882122,
          0.6758349705304518,
          0.6758349705304518,
          0.6817288801571709,
          0.6817288801571709,
          0.6836935166994106,
          0.6836935166994106,
          0.6895874263261297,
          0.6895874263261297,
          0.6915520628683693,
          0.6915520628683693,
          0.693516699410609,
          0.693516699410609,
          0.6954813359528488,
          0.6954813359528488,
          0.6994106090373281,
          0.6994106090373281,
          0.7013752455795678,
          0.7013752455795678,
          0.7053045186640472,
          0.7053045186640472,
          0.7111984282907662,
          0.7111984282907662,
          0.7131630648330058,
          0.7131630648330058,
          0.7151277013752456,
          0.7151277013752456,
          0.7170923379174853,
          0.7170923379174853,
          0.7210216110019646,
          0.7210216110019646,
          0.7229862475442044,
          0.7229862475442044,
          0.724950884086444,
          0.724950884086444,
          0.7269155206286837,
          0.7269155206286837,
          0.7288801571709234,
          0.7288801571709234,
          0.730844793713163,
          0.730844793713163,
          0.7328094302554028,
          0.7328094302554028,
          0.7367387033398821,
          0.7367387033398821,
          0.7387033398821218,
          0.7387033398821218,
          0.7406679764243614,
          0.7406679764243614,
          0.7426326129666012,
          0.7426326129666012,
          0.7445972495088409,
          0.7445972495088409,
          0.7465618860510805,
          0.7465618860510805,
          0.7485265225933202,
          0.7485265225933202,
          0.7524557956777996,
          0.7524557956777996,
          0.7544204322200393,
          0.7544204322200393,
          0.756385068762279,
          0.756385068762279,
          0.7603143418467584,
          0.7603143418467584,
          0.7642436149312377,
          0.7642436149312377,
          0.7662082514734774,
          0.7662082514734774,
          0.768172888015717,
          0.768172888015717,
          0.7701375245579568,
          0.7701375245579568,
          0.7721021611001965,
          0.7721021611001965,
          0.7740667976424361,
          0.7740667976424361,
          0.7760314341846758,
          0.7760314341846758,
          0.7799607072691552,
          0.7799607072691552,
          0.7819253438113949,
          0.7819253438113949,
          0.7838899803536346,
          0.7838899803536346,
          0.7858546168958742,
          0.7858546168958742,
          0.787819253438114,
          0.787819253438114,
          0.7956777996070727,
          0.7956777996070727,
          0.7976424361493124,
          0.7976424361493124,
          0.8015717092337917,
          0.8015717092337917,
          0.8074656188605108,
          0.8074656188605108,
          0.8094302554027505,
          0.8094302554027505,
          0.8113948919449901,
          0.8113948919449901,
          0.8133595284872298,
          0.8133595284872298,
          0.8153241650294696,
          0.8153241650294696,
          0.8172888015717092,
          0.8172888015717092,
          0.8192534381139489,
          0.8192534381139489,
          0.8212180746561886,
          0.8212180746561886,
          0.8231827111984283,
          0.8231827111984283,
          0.825147347740668,
          0.825147347740668,
          0.8271119842829077,
          0.8271119842829077,
          0.8290766208251473,
          0.8290766208251473,
          0.831041257367387,
          0.831041257367387,
          0.8330058939096268,
          0.8330058939096268,
          0.8349705304518664,
          0.8349705304518664,
          0.8428290766208252,
          0.8428290766208252,
          0.8447937131630648,
          0.8447937131630648,
          0.8487229862475442,
          0.8487229862475442,
          0.8506876227897839,
          0.8506876227897839,
          0.8526522593320236,
          0.8526522593320236,
          0.8546168958742633,
          0.8546168958742633,
          0.8565815324165029,
          0.8565815324165029,
          0.8605108055009824,
          0.8605108055009824,
          0.862475442043222,
          0.862475442043222,
          0.8644400785854617,
          0.8644400785854617,
          0.8664047151277013,
          0.8664047151277013,
          0.8683693516699411,
          0.8683693516699411,
          0.8703339882121808,
          0.8703339882121808,
          0.8722986247544204,
          0.8722986247544204,
          0.8742632612966601,
          0.8742632612966601,
          0.8762278978388998,
          0.8762278978388998,
          0.8781925343811395,
          0.8781925343811395,
          0.8801571709233792,
          0.8801571709233792,
          0.8821218074656189,
          0.8821218074656189,
          0.8840864440078585,
          0.8840864440078585,
          0.8860510805500982,
          0.8860510805500982,
          0.888015717092338,
          0.888015717092338,
          0.8899803536345776,
          0.8899803536345776,
          0.8919449901768173,
          0.8919449901768173,
          0.8939096267190569,
          0.8939096267190569,
          0.8958742632612967,
          0.8958742632612967,
          0.8978388998035364,
          0.8978388998035364,
          0.899803536345776,
          0.899803536345776,
          0.9056974459724951,
          0.9056974459724951,
          0.9076620825147348,
          0.9076620825147348,
          0.9115913555992141,
          0.9115913555992141,
          0.9155206286836935,
          0.9155206286836935,
          0.9174852652259332,
          0.9174852652259332,
          0.9194499017681729,
          0.9194499017681729,
          0.9214145383104125,
          0.9214145383104125,
          0.925343811394892,
          0.925343811394892,
          0.9273084479371316,
          0.9273084479371316,
          0.9292730844793713,
          0.9292730844793713,
          0.9332023575638507,
          0.9332023575638507,
          0.9351669941060904,
          0.9351669941060904,
          0.93713163064833,
          0.93713163064833,
          0.9390962671905697,
          0.9390962671905697,
          0.9430255402750491,
          0.9430255402750491,
          0.9449901768172888,
          0.9449901768172888,
          0.9489194499017681,
          0.9489194499017681,
          0.9508840864440079,
          0.9508840864440079,
          0.9528487229862476,
          0.9528487229862476,
          0.9548133595284872,
          0.9548133595284872,
          0.9567779960707269,
          0.9567779960707269,
          0.9587426326129665,
          0.9587426326129665,
          0.9607072691552063,
          0.9607072691552063,
          0.962671905697446,
          0.962671905697446,
          0.9646365422396856,
          0.9646365422396856,
          0.9666011787819253,
          0.9666011787819253,
          0.9685658153241651,
          0.9685658153241651,
          0.9724950884086444,
          0.9724950884086444,
          0.9744597249508841,
          0.9744597249508841,
          0.9764243614931237,
          0.9764243614931237,
          0.9783889980353635,
          0.9783889980353635,
          0.9803536345776032,
          0.9803536345776032,
          0.9823182711198428,
          0.9823182711198428,
          0.9842829076620825,
          0.9842829076620825,
          0.9862475442043221,
          0.9862475442043221,
          0.9882121807465619,
          0.9882121807465619,
          0.9882121807465619,
          0.9882121807465619,
          0.9901768172888016,
          0.9901768172888016,
          0.9921414538310412,
          0.9921414538310412,
          0.9921414538310412,
          0.9921414538310412,
          0.9941060903732809,
          0.9941060903732809,
          0.9960707269155207,
          0.9960707269155207,
          0.9980353634577603,
          0.9980353634577603,
          1,
          1
         ],
         "yaxis": "y"
        }
       ],
       "layout": {
        "height": 600,
        "legend": {
         "tracegroupgap": 0
        },
        "shapes": [
         {
          "line": {
           "dash": "dash"
          },
          "type": "line",
          "x0": 0,
          "x1": 1,
          "y0": 0,
          "y1": 1
         }
        ],
        "template": {
         "data": {
          "bar": [
           {
            "error_x": {
             "color": "#2a3f5f"
            },
            "error_y": {
             "color": "#2a3f5f"
            },
            "marker": {
             "line": {
              "color": "#E5ECF6",
              "width": 0.5
             },
             "pattern": {
              "fillmode": "overlay",
              "size": 10,
              "solidity": 0.2
             }
            },
            "type": "bar"
           }
          ],
          "barpolar": [
           {
            "marker": {
             "line": {
              "color": "#E5ECF6",
              "width": 0.5
             },
             "pattern": {
              "fillmode": "overlay",
              "size": 10,
              "solidity": 0.2
             }
            },
            "type": "barpolar"
           }
          ],
          "carpet": [
           {
            "aaxis": {
             "endlinecolor": "#2a3f5f",
             "gridcolor": "white",
             "linecolor": "white",
             "minorgridcolor": "white",
             "startlinecolor": "#2a3f5f"
            },
            "baxis": {
             "endlinecolor": "#2a3f5f",
             "gridcolor": "white",
             "linecolor": "white",
             "minorgridcolor": "white",
             "startlinecolor": "#2a3f5f"
            },
            "type": "carpet"
           }
          ],
          "choropleth": [
           {
            "colorbar": {
             "outlinewidth": 0,
             "ticks": ""
            },
            "type": "choropleth"
           }
          ],
          "contour": [
           {
            "colorbar": {
             "outlinewidth": 0,
             "ticks": ""
            },
            "colorscale": [
             [
              0,
              "#0d0887"
             ],
             [
              0.1111111111111111,
              "#46039f"
             ],
             [
              0.2222222222222222,
              "#7201a8"
             ],
             [
              0.3333333333333333,
              "#9c179e"
             ],
             [
              0.4444444444444444,
              "#bd3786"
             ],
             [
              0.5555555555555556,
              "#d8576b"
             ],
             [
              0.6666666666666666,
              "#ed7953"
             ],
             [
              0.7777777777777778,
              "#fb9f3a"
             ],
             [
              0.8888888888888888,
              "#fdca26"
             ],
             [
              1,
              "#f0f921"
             ]
            ],
            "type": "contour"
           }
          ],
          "contourcarpet": [
           {
            "colorbar": {
             "outlinewidth": 0,
             "ticks": ""
            },
            "type": "contourcarpet"
           }
          ],
          "heatmap": [
           {
            "colorbar": {
             "outlinewidth": 0,
             "ticks": ""
            },
            "colorscale": [
             [
              0,
              "#0d0887"
             ],
             [
              0.1111111111111111,
              "#46039f"
             ],
             [
              0.2222222222222222,
              "#7201a8"
             ],
             [
              0.3333333333333333,
              "#9c179e"
             ],
             [
              0.4444444444444444,
              "#bd3786"
             ],
             [
              0.5555555555555556,
              "#d8576b"
             ],
             [
              0.6666666666666666,
              "#ed7953"
             ],
             [
              0.7777777777777778,
              "#fb9f3a"
             ],
             [
              0.8888888888888888,
              "#fdca26"
             ],
             [
              1,
              "#f0f921"
             ]
            ],
            "type": "heatmap"
           }
          ],
          "heatmapgl": [
           {
            "colorbar": {
             "outlinewidth": 0,
             "ticks": ""
            },
            "colorscale": [
             [
              0,
              "#0d0887"
             ],
             [
              0.1111111111111111,
              "#46039f"
             ],
             [
              0.2222222222222222,
              "#7201a8"
             ],
             [
              0.3333333333333333,
              "#9c179e"
             ],
             [
              0.4444444444444444,
              "#bd3786"
             ],
             [
              0.5555555555555556,
              "#d8576b"
             ],
             [
              0.6666666666666666,
              "#ed7953"
             ],
             [
              0.7777777777777778,
              "#fb9f3a"
             ],
             [
              0.8888888888888888,
              "#fdca26"
             ],
             [
              1,
              "#f0f921"
             ]
            ],
            "type": "heatmapgl"
           }
          ],
          "histogram": [
           {
            "marker": {
             "pattern": {
              "fillmode": "overlay",
              "size": 10,
              "solidity": 0.2
             }
            },
            "type": "histogram"
           }
          ],
          "histogram2d": [
           {
            "colorbar": {
             "outlinewidth": 0,
             "ticks": ""
            },
            "colorscale": [
             [
              0,
              "#0d0887"
             ],
             [
              0.1111111111111111,
              "#46039f"
             ],
             [
              0.2222222222222222,
              "#7201a8"
             ],
             [
              0.3333333333333333,
              "#9c179e"
             ],
             [
              0.4444444444444444,
              "#bd3786"
             ],
             [
              0.5555555555555556,
              "#d8576b"
             ],
             [
              0.6666666666666666,
              "#ed7953"
             ],
             [
              0.7777777777777778,
              "#fb9f3a"
             ],
             [
              0.8888888888888888,
              "#fdca26"
             ],
             [
              1,
              "#f0f921"
             ]
            ],
            "type": "histogram2d"
           }
          ],
          "histogram2dcontour": [
           {
            "colorbar": {
             "outlinewidth": 0,
             "ticks": ""
            },
            "colorscale": [
             [
              0,
              "#0d0887"
             ],
             [
              0.1111111111111111,
              "#46039f"
             ],
             [
              0.2222222222222222,
              "#7201a8"
             ],
             [
              0.3333333333333333,
              "#9c179e"
             ],
             [
              0.4444444444444444,
              "#bd3786"
             ],
             [
              0.5555555555555556,
              "#d8576b"
             ],
             [
              0.6666666666666666,
              "#ed7953"
             ],
             [
              0.7777777777777778,
              "#fb9f3a"
             ],
             [
              0.8888888888888888,
              "#fdca26"
             ],
             [
              1,
              "#f0f921"
             ]
            ],
            "type": "histogram2dcontour"
           }
          ],
          "mesh3d": [
           {
            "colorbar": {
             "outlinewidth": 0,
             "ticks": ""
            },
            "type": "mesh3d"
           }
          ],
          "parcoords": [
           {
            "line": {
             "colorbar": {
              "outlinewidth": 0,
              "ticks": ""
             }
            },
            "type": "parcoords"
           }
          ],
          "pie": [
           {
            "automargin": true,
            "type": "pie"
           }
          ],
          "scatter": [
           {
            "marker": {
             "colorbar": {
              "outlinewidth": 0,
              "ticks": ""
             }
            },
            "type": "scatter"
           }
          ],
          "scatter3d": [
           {
            "line": {
             "colorbar": {
              "outlinewidth": 0,
              "ticks": ""
             }
            },
            "marker": {
             "colorbar": {
              "outlinewidth": 0,
              "ticks": ""
             }
            },
            "type": "scatter3d"
           }
          ],
          "scattercarpet": [
           {
            "marker": {
             "colorbar": {
              "outlinewidth": 0,
              "ticks": ""
             }
            },
            "type": "scattercarpet"
           }
          ],
          "scattergeo": [
           {
            "marker": {
             "colorbar": {
              "outlinewidth": 0,
              "ticks": ""
             }
            },
            "type": "scattergeo"
           }
          ],
          "scattergl": [
           {
            "marker": {
             "colorbar": {
              "outlinewidth": 0,
              "ticks": ""
             }
            },
            "type": "scattergl"
           }
          ],
          "scattermapbox": [
           {
            "marker": {
             "colorbar": {
              "outlinewidth": 0,
              "ticks": ""
             }
            },
            "type": "scattermapbox"
           }
          ],
          "scatterpolar": [
           {
            "marker": {
             "colorbar": {
              "outlinewidth": 0,
              "ticks": ""
             }
            },
            "type": "scatterpolar"
           }
          ],
          "scatterpolargl": [
           {
            "marker": {
             "colorbar": {
              "outlinewidth": 0,
              "ticks": ""
             }
            },
            "type": "scatterpolargl"
           }
          ],
          "scatterternary": [
           {
            "marker": {
             "colorbar": {
              "outlinewidth": 0,
              "ticks": ""
             }
            },
            "type": "scatterternary"
           }
          ],
          "surface": [
           {
            "colorbar": {
             "outlinewidth": 0,
             "ticks": ""
            },
            "colorscale": [
             [
              0,
              "#0d0887"
             ],
             [
              0.1111111111111111,
              "#46039f"
             ],
             [
              0.2222222222222222,
              "#7201a8"
             ],
             [
              0.3333333333333333,
              "#9c179e"
             ],
             [
              0.4444444444444444,
              "#bd3786"
             ],
             [
              0.5555555555555556,
              "#d8576b"
             ],
             [
              0.6666666666666666,
              "#ed7953"
             ],
             [
              0.7777777777777778,
              "#fb9f3a"
             ],
             [
              0.8888888888888888,
              "#fdca26"
             ],
             [
              1,
              "#f0f921"
             ]
            ],
            "type": "surface"
           }
          ],
          "table": [
           {
            "cells": {
             "fill": {
              "color": "#EBF0F8"
             },
             "line": {
              "color": "white"
             }
            },
            "header": {
             "fill": {
              "color": "#C8D4E3"
             },
             "line": {
              "color": "white"
             }
            },
            "type": "table"
           }
          ]
         },
         "layout": {
          "annotationdefaults": {
           "arrowcolor": "#2a3f5f",
           "arrowhead": 0,
           "arrowwidth": 1
          },
          "autotypenumbers": "strict",
          "coloraxis": {
           "colorbar": {
            "outlinewidth": 0,
            "ticks": ""
           }
          },
          "colorscale": {
           "diverging": [
            [
             0,
             "#8e0152"
            ],
            [
             0.1,
             "#c51b7d"
            ],
            [
             0.2,
             "#de77ae"
            ],
            [
             0.3,
             "#f1b6da"
            ],
            [
             0.4,
             "#fde0ef"
            ],
            [
             0.5,
             "#f7f7f7"
            ],
            [
             0.6,
             "#e6f5d0"
            ],
            [
             0.7,
             "#b8e186"
            ],
            [
             0.8,
             "#7fbc41"
            ],
            [
             0.9,
             "#4d9221"
            ],
            [
             1,
             "#276419"
            ]
           ],
           "sequential": [
            [
             0,
             "#0d0887"
            ],
            [
             0.1111111111111111,
             "#46039f"
            ],
            [
             0.2222222222222222,
             "#7201a8"
            ],
            [
             0.3333333333333333,
             "#9c179e"
            ],
            [
             0.4444444444444444,
             "#bd3786"
            ],
            [
             0.5555555555555556,
             "#d8576b"
            ],
            [
             0.6666666666666666,
             "#ed7953"
            ],
            [
             0.7777777777777778,
             "#fb9f3a"
            ],
            [
             0.8888888888888888,
             "#fdca26"
            ],
            [
             1,
             "#f0f921"
            ]
           ],
           "sequentialminus": [
            [
             0,
             "#0d0887"
            ],
            [
             0.1111111111111111,
             "#46039f"
            ],
            [
             0.2222222222222222,
             "#7201a8"
            ],
            [
             0.3333333333333333,
             "#9c179e"
            ],
            [
             0.4444444444444444,
             "#bd3786"
            ],
            [
             0.5555555555555556,
             "#d8576b"
            ],
            [
             0.6666666666666666,
             "#ed7953"
            ],
            [
             0.7777777777777778,
             "#fb9f3a"
            ],
            [
             0.8888888888888888,
             "#fdca26"
            ],
            [
             1,
             "#f0f921"
            ]
           ]
          },
          "colorway": [
           "#636efa",
           "#EF553B",
           "#00cc96",
           "#ab63fa",
           "#FFA15A",
           "#19d3f3",
           "#FF6692",
           "#B6E880",
           "#FF97FF",
           "#FECB52"
          ],
          "font": {
           "color": "#2a3f5f"
          },
          "geo": {
           "bgcolor": "white",
           "lakecolor": "white",
           "landcolor": "#E5ECF6",
           "showlakes": true,
           "showland": true,
           "subunitcolor": "white"
          },
          "hoverlabel": {
           "align": "left"
          },
          "hovermode": "closest",
          "mapbox": {
           "style": "light"
          },
          "paper_bgcolor": "white",
          "plot_bgcolor": "#E5ECF6",
          "polar": {
           "angularaxis": {
            "gridcolor": "white",
            "linecolor": "white",
            "ticks": ""
           },
           "bgcolor": "#E5ECF6",
           "radialaxis": {
            "gridcolor": "white",
            "linecolor": "white",
            "ticks": ""
           }
          },
          "scene": {
           "xaxis": {
            "backgroundcolor": "#E5ECF6",
            "gridcolor": "white",
            "gridwidth": 2,
            "linecolor": "white",
            "showbackground": true,
            "ticks": "",
            "zerolinecolor": "white"
           },
           "yaxis": {
            "backgroundcolor": "#E5ECF6",
            "gridcolor": "white",
            "gridwidth": 2,
            "linecolor": "white",
            "showbackground": true,
            "ticks": "",
            "zerolinecolor": "white"
           },
           "zaxis": {
            "backgroundcolor": "#E5ECF6",
            "gridcolor": "white",
            "gridwidth": 2,
            "linecolor": "white",
            "showbackground": true,
            "ticks": "",
            "zerolinecolor": "white"
           }
          },
          "shapedefaults": {
           "line": {
            "color": "#2a3f5f"
           }
          },
          "ternary": {
           "aaxis": {
            "gridcolor": "white",
            "linecolor": "white",
            "ticks": ""
           },
           "baxis": {
            "gridcolor": "white",
            "linecolor": "white",
            "ticks": ""
           },
           "bgcolor": "#E5ECF6",
           "caxis": {
            "gridcolor": "white",
            "linecolor": "white",
            "ticks": ""
           }
          },
          "title": {
           "x": 0.05
          },
          "xaxis": {
           "automargin": true,
           "gridcolor": "white",
           "linecolor": "white",
           "ticks": "",
           "title": {
            "standoff": 15
           },
           "zerolinecolor": "white",
           "zerolinewidth": 2
          },
          "yaxis": {
           "automargin": true,
           "gridcolor": "white",
           "linecolor": "white",
           "ticks": "",
           "title": {
            "standoff": 15
           },
           "zerolinecolor": "white",
           "zerolinewidth": 2
          }
         }
        },
        "title": {
         "text": "ROC Curve (AUC=0.8486)"
        },
        "width": 600,
        "xaxis": {
         "anchor": "y",
         "constrain": "domain",
         "domain": [
          0,
          1
         ],
         "title": {
          "text": "False Positive Rate"
         }
        },
        "yaxis": {
         "anchor": "x",
         "domain": [
          0,
          1
         ],
         "scaleanchor": "x",
         "scaleratio": 1,
         "title": {
          "text": "True Positive Rate"
         }
        }
       }
      }
     },
     "metadata": {},
     "output_type": "display_data"
    }
   ],
   "source": [
    "fig = px.area(\n",
    "    x=fpr, y=tpr,\n",
    "    title=f'ROC Curve (AUC={auc(fpr, tpr):.4f})',\n",
    "    labels=dict(x='False Positive Rate', y='True Positive Rate'),\n",
    "    width=600, height=600\n",
    ")\n",
    "fig.add_shape(\n",
    "    type='line', line=dict(dash='dash'),\n",
    "    x0=0, x1=1, y0=0, y1=1\n",
    ")\n",
    "\n",
    "\n",
    "fig.update_yaxes(scaleanchor=\"x\", scaleratio=1)\n",
    "fig.update_xaxes(constrain='domain')\n",
    "fig.show()"
   ]
  },
  {
   "cell_type": "markdown",
   "metadata": {},
   "source": [
    "## Вывод"
   ]
  },
  {
   "cell_type": "markdown",
   "metadata": {},
   "source": [
    "В данной работе было сделано следущее:\n",
    "- Исследование данных на предмет пропусков дубликатов;\n",
    "- На основе исходных данных были выбраны признаки для обучения модели - 'CreditScore', 'Geography', 'Gender', 'Age', 'Tenure', 'Balance', 'NumOfProducts', 'HasCrCard', 'IsActiveMember', 'EstimatedSalary' и целевой признак - 'Exited';\n",
    "- Использовались в сравнении три модели - DecisionTreeClassifier, RandomForestClassifier, LogisticRegression до борьбы с дисбалансом и после;\n",
    "- Исбавлялись от дисбаланса тремя методами - расширением выборки, масштабированием признаков и применением гиперпараметра 'class_weight';\n",
    "- Результатом лушей моделей оказалась - RandomForestClassifier с глубиной дерева 10 и кол-вом деревьев 33 при применении метода увеличении выборки, с F1 - 0.624060 и AUC - 0.8486;\n",
    "- Чтобы проверить модель на адекватность, сравнили ее с моделью DummyClassifier. Метрики лучшей модели оказались лучше, значит наша модель имеет место быть."
   ]
  }
 ],
 "metadata": {
  "ExecuteTimeLog": [
   {
    "duration": 1835,
    "start_time": "2022-09-10T12:15:31.143Z"
   },
   {
    "duration": 149,
    "start_time": "2022-09-10T12:15:32.980Z"
   },
   {
    "duration": 0,
    "start_time": "2022-09-10T12:15:33.131Z"
   },
   {
    "duration": 0,
    "start_time": "2022-09-10T12:15:33.132Z"
   },
   {
    "duration": 0,
    "start_time": "2022-09-10T12:15:33.133Z"
   },
   {
    "duration": 0,
    "start_time": "2022-09-10T12:15:33.133Z"
   },
   {
    "duration": 0,
    "start_time": "2022-09-10T12:15:33.135Z"
   },
   {
    "duration": 0,
    "start_time": "2022-09-10T12:15:33.135Z"
   },
   {
    "duration": 0,
    "start_time": "2022-09-10T12:15:33.136Z"
   },
   {
    "duration": 0,
    "start_time": "2022-09-10T12:15:33.136Z"
   },
   {
    "duration": 0,
    "start_time": "2022-09-10T12:15:33.138Z"
   },
   {
    "duration": 0,
    "start_time": "2022-09-10T12:15:33.140Z"
   },
   {
    "duration": 0,
    "start_time": "2022-09-10T12:15:33.141Z"
   },
   {
    "duration": 0,
    "start_time": "2022-09-10T12:15:33.142Z"
   },
   {
    "duration": 0,
    "start_time": "2022-09-10T12:15:33.143Z"
   },
   {
    "duration": 0,
    "start_time": "2022-09-10T12:15:33.145Z"
   },
   {
    "duration": 0,
    "start_time": "2022-09-10T12:15:33.146Z"
   },
   {
    "duration": 0,
    "start_time": "2022-09-10T12:15:33.147Z"
   },
   {
    "duration": 0,
    "start_time": "2022-09-10T12:15:33.148Z"
   },
   {
    "duration": 0,
    "start_time": "2022-09-10T12:15:33.150Z"
   },
   {
    "duration": 0,
    "start_time": "2022-09-10T12:15:33.151Z"
   },
   {
    "duration": 0,
    "start_time": "2022-09-10T12:15:33.152Z"
   },
   {
    "duration": 0,
    "start_time": "2022-09-10T12:15:33.153Z"
   },
   {
    "duration": 0,
    "start_time": "2022-09-10T12:15:33.154Z"
   },
   {
    "duration": 0,
    "start_time": "2022-09-10T12:15:33.155Z"
   },
   {
    "duration": 0,
    "start_time": "2022-09-10T12:15:33.156Z"
   },
   {
    "duration": 0,
    "start_time": "2022-09-10T12:15:33.157Z"
   },
   {
    "duration": 0,
    "start_time": "2022-09-10T12:15:33.159Z"
   },
   {
    "duration": 0,
    "start_time": "2022-09-10T12:15:33.160Z"
   },
   {
    "duration": 0,
    "start_time": "2022-09-10T12:15:33.161Z"
   },
   {
    "duration": 0,
    "start_time": "2022-09-10T12:15:33.163Z"
   },
   {
    "duration": 1782,
    "start_time": "2022-09-10T12:16:38.054Z"
   },
   {
    "duration": 108,
    "start_time": "2022-09-10T12:16:39.838Z"
   },
   {
    "duration": 17,
    "start_time": "2022-09-10T12:16:39.948Z"
   },
   {
    "duration": 2089,
    "start_time": "2022-09-10T12:16:39.967Z"
   },
   {
    "duration": 7,
    "start_time": "2022-09-10T12:16:42.058Z"
   },
   {
    "duration": 12,
    "start_time": "2022-09-10T12:16:42.066Z"
   },
   {
    "duration": 3,
    "start_time": "2022-09-10T12:16:42.080Z"
   },
   {
    "duration": 20,
    "start_time": "2022-09-10T12:16:42.085Z"
   },
   {
    "duration": 45,
    "start_time": "2022-09-10T12:16:42.106Z"
   },
   {
    "duration": 10,
    "start_time": "2022-09-10T12:16:42.154Z"
   },
   {
    "duration": 8,
    "start_time": "2022-09-10T12:16:42.165Z"
   },
   {
    "duration": 139,
    "start_time": "2022-09-10T12:16:42.174Z"
   },
   {
    "duration": 0,
    "start_time": "2022-09-10T12:16:42.314Z"
   },
   {
    "duration": 0,
    "start_time": "2022-09-10T12:16:42.319Z"
   },
   {
    "duration": 0,
    "start_time": "2022-09-10T12:16:42.319Z"
   },
   {
    "duration": 0,
    "start_time": "2022-09-10T12:16:42.320Z"
   },
   {
    "duration": 0,
    "start_time": "2022-09-10T12:16:42.320Z"
   },
   {
    "duration": 0,
    "start_time": "2022-09-10T12:16:42.321Z"
   },
   {
    "duration": 0,
    "start_time": "2022-09-10T12:16:42.321Z"
   },
   {
    "duration": 0,
    "start_time": "2022-09-10T12:16:42.322Z"
   },
   {
    "duration": 0,
    "start_time": "2022-09-10T12:16:42.322Z"
   },
   {
    "duration": 0,
    "start_time": "2022-09-10T12:16:42.322Z"
   },
   {
    "duration": 0,
    "start_time": "2022-09-10T12:16:42.323Z"
   },
   {
    "duration": 0,
    "start_time": "2022-09-10T12:16:42.323Z"
   },
   {
    "duration": 0,
    "start_time": "2022-09-10T12:16:42.324Z"
   },
   {
    "duration": 0,
    "start_time": "2022-09-10T12:16:42.324Z"
   },
   {
    "duration": 0,
    "start_time": "2022-09-10T12:16:42.325Z"
   },
   {
    "duration": 0,
    "start_time": "2022-09-10T12:16:42.325Z"
   },
   {
    "duration": 0,
    "start_time": "2022-09-10T12:16:42.326Z"
   },
   {
    "duration": 0,
    "start_time": "2022-09-10T12:16:42.326Z"
   },
   {
    "duration": 0,
    "start_time": "2022-09-10T12:16:42.327Z"
   },
   {
    "duration": 1238,
    "start_time": "2022-09-10T13:18:07.440Z"
   },
   {
    "duration": 91,
    "start_time": "2022-09-10T13:18:08.680Z"
   },
   {
    "duration": 19,
    "start_time": "2022-09-10T13:18:16.695Z"
   },
   {
    "duration": 1939,
    "start_time": "2022-09-10T13:18:18.622Z"
   },
   {
    "duration": 9,
    "start_time": "2022-09-10T13:18:24.866Z"
   },
   {
    "duration": 15,
    "start_time": "2022-09-10T13:18:27.243Z"
   },
   {
    "duration": 20,
    "start_time": "2022-09-10T13:20:12.037Z"
   },
   {
    "duration": 6,
    "start_time": "2022-09-10T13:20:46.029Z"
   },
   {
    "duration": 4,
    "start_time": "2022-09-10T13:20:53.067Z"
   },
   {
    "duration": 11,
    "start_time": "2022-09-10T13:24:31.701Z"
   },
   {
    "duration": 10,
    "start_time": "2022-09-10T13:24:39.534Z"
   },
   {
    "duration": 5,
    "start_time": "2022-09-10T13:25:46.062Z"
   },
   {
    "duration": 47,
    "start_time": "2022-09-10T13:25:46.537Z"
   },
   {
    "duration": 13,
    "start_time": "2022-09-10T13:25:49.705Z"
   },
   {
    "duration": 1564,
    "start_time": "2022-09-10T13:25:50.689Z"
   },
   {
    "duration": 7,
    "start_time": "2022-09-10T13:25:54.913Z"
   },
   {
    "duration": 10,
    "start_time": "2022-09-10T13:25:56.705Z"
   },
   {
    "duration": 5,
    "start_time": "2022-09-10T13:25:57.073Z"
   },
   {
    "duration": 5,
    "start_time": "2022-09-10T13:25:57.593Z"
   },
   {
    "duration": 10,
    "start_time": "2022-09-10T13:25:59.401Z"
   },
   {
    "duration": 4,
    "start_time": "2022-09-10T13:26:01.025Z"
   },
   {
    "duration": 5,
    "start_time": "2022-09-10T13:26:01.841Z"
   },
   {
    "duration": 10,
    "start_time": "2022-09-10T13:26:02.593Z"
   },
   {
    "duration": 8,
    "start_time": "2022-09-10T13:26:04.169Z"
   },
   {
    "duration": 3,
    "start_time": "2022-09-10T13:26:04.776Z"
   },
   {
    "duration": 10,
    "start_time": "2022-09-10T13:27:53.002Z"
   },
   {
    "duration": 5,
    "start_time": "2022-09-10T13:29:55.453Z"
   },
   {
    "duration": 1198,
    "start_time": "2022-09-10T13:30:04.661Z"
   },
   {
    "duration": 49,
    "start_time": "2022-09-10T13:30:05.861Z"
   },
   {
    "duration": 20,
    "start_time": "2022-09-10T13:30:05.912Z"
   },
   {
    "duration": 1869,
    "start_time": "2022-09-10T13:30:05.933Z"
   },
   {
    "duration": 7,
    "start_time": "2022-09-10T13:30:07.804Z"
   },
   {
    "duration": 33,
    "start_time": "2022-09-10T13:30:07.812Z"
   },
   {
    "duration": 6,
    "start_time": "2022-09-10T13:30:07.847Z"
   },
   {
    "duration": 20,
    "start_time": "2022-09-10T13:30:07.854Z"
   },
   {
    "duration": 22,
    "start_time": "2022-09-10T13:30:07.875Z"
   },
   {
    "duration": 17,
    "start_time": "2022-09-10T13:30:07.899Z"
   },
   {
    "duration": 23,
    "start_time": "2022-09-10T13:30:07.917Z"
   },
   {
    "duration": 20,
    "start_time": "2022-09-10T13:30:07.942Z"
   },
   {
    "duration": 27,
    "start_time": "2022-09-10T13:30:07.964Z"
   },
   {
    "duration": 17,
    "start_time": "2022-09-10T13:30:07.993Z"
   },
   {
    "duration": 56,
    "start_time": "2022-09-10T13:30:08.011Z"
   },
   {
    "duration": 75,
    "start_time": "2022-09-10T13:30:08.069Z"
   },
   {
    "duration": 447,
    "start_time": "2022-09-10T13:30:08.147Z"
   },
   {
    "duration": 4,
    "start_time": "2022-09-10T13:30:08.595Z"
   },
   {
    "duration": 7596,
    "start_time": "2022-09-10T13:30:08.600Z"
   },
   {
    "duration": 4,
    "start_time": "2022-09-10T13:30:16.197Z"
   },
   {
    "duration": 11,
    "start_time": "2022-09-10T13:30:16.203Z"
   },
   {
    "duration": 28,
    "start_time": "2022-09-10T13:30:16.215Z"
   },
   {
    "duration": 22,
    "start_time": "2022-09-10T13:30:16.245Z"
   },
   {
    "duration": 10,
    "start_time": "2022-09-10T13:30:16.268Z"
   },
   {
    "duration": 6,
    "start_time": "2022-09-10T13:30:16.279Z"
   },
   {
    "duration": 55,
    "start_time": "2022-09-10T13:30:16.286Z"
   },
   {
    "duration": 96,
    "start_time": "2022-09-10T13:30:16.343Z"
   },
   {
    "duration": 452,
    "start_time": "2022-09-10T13:30:16.441Z"
   },
   {
    "duration": 3,
    "start_time": "2022-09-10T13:30:16.894Z"
   },
   {
    "duration": 9551,
    "start_time": "2022-09-10T13:30:16.899Z"
   },
   {
    "duration": 4,
    "start_time": "2022-09-10T13:30:26.451Z"
   },
   {
    "duration": 315,
    "start_time": "2022-09-10T13:30:26.456Z"
   },
   {
    "duration": 22,
    "start_time": "2022-09-10T13:30:26.773Z"
   },
   {
    "duration": 523,
    "start_time": "2022-09-10T13:30:26.796Z"
   },
   {
    "duration": 49,
    "start_time": "2022-09-10T13:32:52.151Z"
   },
   {
    "duration": 1222,
    "start_time": "2022-09-10T13:33:03.964Z"
   },
   {
    "duration": 50,
    "start_time": "2022-09-10T13:33:05.188Z"
   },
   {
    "duration": 18,
    "start_time": "2022-09-10T13:33:05.240Z"
   },
   {
    "duration": 1788,
    "start_time": "2022-09-10T13:33:05.261Z"
   },
   {
    "duration": 9,
    "start_time": "2022-09-10T13:33:07.051Z"
   },
   {
    "duration": 15,
    "start_time": "2022-09-10T13:33:07.062Z"
   },
   {
    "duration": 4,
    "start_time": "2022-09-10T13:33:07.079Z"
   },
   {
    "duration": 5,
    "start_time": "2022-09-10T13:33:07.084Z"
   },
   {
    "duration": 9,
    "start_time": "2022-09-10T13:33:07.090Z"
   },
   {
    "duration": 5,
    "start_time": "2022-09-10T13:33:07.101Z"
   },
   {
    "duration": 6,
    "start_time": "2022-09-10T13:33:07.137Z"
   },
   {
    "duration": 21,
    "start_time": "2022-09-10T13:33:07.145Z"
   },
   {
    "duration": 11,
    "start_time": "2022-09-10T13:33:07.168Z"
   },
   {
    "duration": 6,
    "start_time": "2022-09-10T13:33:07.181Z"
   },
   {
    "duration": 60,
    "start_time": "2022-09-10T13:33:07.189Z"
   },
   {
    "duration": 86,
    "start_time": "2022-09-10T13:33:07.251Z"
   },
   {
    "duration": 472,
    "start_time": "2022-09-10T13:33:07.341Z"
   },
   {
    "duration": 3,
    "start_time": "2022-09-10T13:33:07.815Z"
   },
   {
    "duration": 7536,
    "start_time": "2022-09-10T13:33:07.819Z"
   },
   {
    "duration": 5,
    "start_time": "2022-09-10T13:33:15.356Z"
   },
   {
    "duration": 12,
    "start_time": "2022-09-10T13:33:15.362Z"
   },
   {
    "duration": 16,
    "start_time": "2022-09-10T13:33:15.375Z"
   },
   {
    "duration": 47,
    "start_time": "2022-09-10T13:33:15.393Z"
   },
   {
    "duration": 11,
    "start_time": "2022-09-10T13:33:15.441Z"
   },
   {
    "duration": 13,
    "start_time": "2022-09-10T13:33:15.453Z"
   },
   {
    "duration": 71,
    "start_time": "2022-09-10T13:33:15.467Z"
   },
   {
    "duration": 6,
    "start_time": "2022-09-10T13:33:15.539Z"
   },
   {
    "duration": 413,
    "start_time": "2022-09-10T13:33:15.639Z"
   },
   {
    "duration": 3,
    "start_time": "2022-09-10T13:33:16.054Z"
   },
   {
    "duration": 9619,
    "start_time": "2022-09-10T13:33:16.059Z"
   },
   {
    "duration": 4,
    "start_time": "2022-09-10T13:33:25.679Z"
   },
   {
    "duration": 321,
    "start_time": "2022-09-10T13:33:25.685Z"
   },
   {
    "duration": 30,
    "start_time": "2022-09-10T13:33:26.007Z"
   },
   {
    "duration": 446,
    "start_time": "2022-09-10T13:33:26.039Z"
   },
   {
    "duration": 1652,
    "start_time": "2022-09-11T03:50:44.161Z"
   },
   {
    "duration": 51,
    "start_time": "2022-09-11T03:50:45.815Z"
   },
   {
    "duration": 19,
    "start_time": "2022-09-11T03:50:45.868Z"
   },
   {
    "duration": 1770,
    "start_time": "2022-09-11T03:50:45.889Z"
   },
   {
    "duration": 7,
    "start_time": "2022-09-11T03:50:47.661Z"
   },
   {
    "duration": 19,
    "start_time": "2022-09-11T03:50:47.670Z"
   },
   {
    "duration": 5,
    "start_time": "2022-09-11T03:50:47.690Z"
   },
   {
    "duration": 15,
    "start_time": "2022-09-11T03:50:47.696Z"
   },
   {
    "duration": 6,
    "start_time": "2022-09-11T03:50:47.713Z"
   },
   {
    "duration": 10,
    "start_time": "2022-09-11T03:50:47.721Z"
   },
   {
    "duration": 6,
    "start_time": "2022-09-11T03:50:47.732Z"
   },
   {
    "duration": 14,
    "start_time": "2022-09-11T03:50:47.739Z"
   },
   {
    "duration": 13,
    "start_time": "2022-09-11T03:50:47.754Z"
   },
   {
    "duration": 4,
    "start_time": "2022-09-11T03:50:47.770Z"
   },
   {
    "duration": 43,
    "start_time": "2022-09-11T03:50:47.775Z"
   },
   {
    "duration": 5,
    "start_time": "2022-09-11T03:50:47.820Z"
   },
   {
    "duration": 484,
    "start_time": "2022-09-11T03:50:47.910Z"
   },
   {
    "duration": 3,
    "start_time": "2022-09-11T03:50:48.395Z"
   },
   {
    "duration": 8249,
    "start_time": "2022-09-11T03:50:48.399Z"
   },
   {
    "duration": 4,
    "start_time": "2022-09-11T03:50:56.649Z"
   },
   {
    "duration": 12,
    "start_time": "2022-09-11T03:50:56.654Z"
   },
   {
    "duration": 15,
    "start_time": "2022-09-11T03:50:56.667Z"
   },
   {
    "duration": 39,
    "start_time": "2022-09-11T03:50:56.683Z"
   },
   {
    "duration": 11,
    "start_time": "2022-09-11T03:50:56.723Z"
   },
   {
    "duration": 3,
    "start_time": "2022-09-11T03:50:56.736Z"
   },
   {
    "duration": 71,
    "start_time": "2022-09-11T03:50:56.741Z"
   },
   {
    "duration": 97,
    "start_time": "2022-09-11T03:50:56.813Z"
   },
   {
    "duration": 497,
    "start_time": "2022-09-11T03:50:56.912Z"
   },
   {
    "duration": 3,
    "start_time": "2022-09-11T03:50:57.410Z"
   },
   {
    "duration": 10569,
    "start_time": "2022-09-11T03:50:57.414Z"
   },
   {
    "duration": 4,
    "start_time": "2022-09-11T03:51:07.984Z"
   },
   {
    "duration": 349,
    "start_time": "2022-09-11T03:51:07.989Z"
   },
   {
    "duration": 19,
    "start_time": "2022-09-11T03:51:08.339Z"
   },
   {
    "duration": 526,
    "start_time": "2022-09-11T03:51:08.360Z"
   },
   {
    "duration": 1895,
    "start_time": "2022-09-12T06:16:05.051Z"
   },
   {
    "duration": 107,
    "start_time": "2022-09-12T06:16:06.949Z"
   },
   {
    "duration": 26,
    "start_time": "2022-09-12T06:16:07.058Z"
   },
   {
    "duration": 2426,
    "start_time": "2022-09-12T06:16:07.097Z"
   },
   {
    "duration": 8,
    "start_time": "2022-09-12T06:16:09.525Z"
   },
   {
    "duration": 42,
    "start_time": "2022-09-12T06:16:09.535Z"
   },
   {
    "duration": 12,
    "start_time": "2022-09-12T06:16:09.579Z"
   },
   {
    "duration": 32,
    "start_time": "2022-09-12T06:16:09.593Z"
   },
   {
    "duration": 19,
    "start_time": "2022-09-12T06:16:09.627Z"
   },
   {
    "duration": 21,
    "start_time": "2022-09-12T06:16:09.650Z"
   },
   {
    "duration": 18,
    "start_time": "2022-09-12T06:16:09.672Z"
   },
   {
    "duration": 28,
    "start_time": "2022-09-12T06:16:09.692Z"
   },
   {
    "duration": 30,
    "start_time": "2022-09-12T06:16:09.721Z"
   },
   {
    "duration": 10,
    "start_time": "2022-09-12T06:16:09.753Z"
   },
   {
    "duration": 57,
    "start_time": "2022-09-12T06:16:09.764Z"
   },
   {
    "duration": 158,
    "start_time": "2022-09-12T06:16:09.827Z"
   },
   {
    "duration": 303,
    "start_time": "2022-09-12T06:16:09.987Z"
   },
   {
    "duration": 7,
    "start_time": "2022-09-12T06:16:10.292Z"
   },
   {
    "duration": 8252,
    "start_time": "2022-09-12T06:16:10.301Z"
   },
   {
    "duration": 5,
    "start_time": "2022-09-12T06:16:18.555Z"
   },
   {
    "duration": 63592,
    "start_time": "2022-09-12T06:16:18.562Z"
   },
   {
    "duration": 87,
    "start_time": "2022-09-12T06:17:22.156Z"
   },
   {
    "duration": 8,
    "start_time": "2022-09-12T06:17:22.245Z"
   },
   {
    "duration": 36,
    "start_time": "2022-09-12T06:17:22.254Z"
   },
   {
    "duration": 7,
    "start_time": "2022-09-12T06:17:22.292Z"
   },
   {
    "duration": 73,
    "start_time": "2022-09-12T06:17:22.304Z"
   },
   {
    "duration": 7,
    "start_time": "2022-09-12T06:17:22.379Z"
   },
   {
    "duration": 426,
    "start_time": "2022-09-12T06:17:22.395Z"
   },
   {
    "duration": 4,
    "start_time": "2022-09-12T06:17:22.823Z"
   },
   {
    "duration": 8538,
    "start_time": "2022-09-12T06:17:22.829Z"
   },
   {
    "duration": 10,
    "start_time": "2022-09-12T06:17:31.369Z"
   },
   {
    "duration": 87,
    "start_time": "2022-09-12T06:17:31.384Z"
   },
   {
    "duration": 27,
    "start_time": "2022-09-12T06:17:31.473Z"
   },
   {
    "duration": 3,
    "start_time": "2022-09-12T06:17:31.503Z"
   },
   {
    "duration": 42,
    "start_time": "2022-09-12T06:17:31.508Z"
   },
   {
    "duration": 4,
    "start_time": "2022-09-12T06:17:31.579Z"
   },
   {
    "duration": 376,
    "start_time": "2022-09-12T06:17:31.584Z"
   },
   {
    "duration": 3,
    "start_time": "2022-09-12T06:17:31.962Z"
   },
   {
    "duration": 9751,
    "start_time": "2022-09-12T06:17:31.967Z"
   },
   {
    "duration": 4,
    "start_time": "2022-09-12T06:17:41.719Z"
   },
   {
    "duration": 30,
    "start_time": "2022-09-12T06:17:41.725Z"
   },
   {
    "duration": 2,
    "start_time": "2022-09-12T06:17:41.757Z"
   },
   {
    "duration": 37,
    "start_time": "2022-09-12T06:17:41.761Z"
   },
   {
    "duration": 76,
    "start_time": "2022-09-12T06:17:41.803Z"
   },
   {
    "duration": 386,
    "start_time": "2022-09-12T06:17:41.881Z"
   },
   {
    "duration": 9,
    "start_time": "2022-09-12T06:17:42.268Z"
   },
   {
    "duration": 8449,
    "start_time": "2022-09-12T06:17:42.279Z"
   },
   {
    "duration": 5,
    "start_time": "2022-09-12T06:17:50.729Z"
   },
   {
    "duration": 25,
    "start_time": "2022-09-12T06:17:50.735Z"
   },
   {
    "duration": 26,
    "start_time": "2022-09-12T06:17:50.776Z"
   },
   {
    "duration": 9,
    "start_time": "2022-09-12T06:17:50.804Z"
   },
   {
    "duration": 556,
    "start_time": "2022-09-12T06:17:50.815Z"
   },
   {
    "duration": 35688,
    "start_time": "2022-09-12T06:18:16.549Z"
   },
   {
    "duration": 67057,
    "start_time": "2022-09-12T06:19:21.291Z"
   },
   {
    "duration": 62821,
    "start_time": "2022-09-12T06:37:16.817Z"
   },
   {
    "duration": 4,
    "start_time": "2022-09-12T06:40:25.941Z"
   },
   {
    "duration": 63114,
    "start_time": "2022-09-12T06:41:19.210Z"
   },
   {
    "duration": 3,
    "start_time": "2022-09-12T06:43:10.642Z"
   },
   {
    "duration": 16829,
    "start_time": "2022-09-12T06:43:36.172Z"
   },
   {
    "duration": 7595,
    "start_time": "2022-09-12T06:58:18.171Z"
   },
   {
    "duration": 11,
    "start_time": "2022-09-12T06:58:25.767Z"
   },
   {
    "duration": 106,
    "start_time": "2022-09-12T06:58:42.352Z"
   },
   {
    "duration": 3,
    "start_time": "2022-09-12T06:59:06.118Z"
   },
   {
    "duration": 7819,
    "start_time": "2022-09-12T06:59:12.369Z"
   },
   {
    "duration": 5,
    "start_time": "2022-09-12T06:59:20.190Z"
   },
   {
    "duration": 144,
    "start_time": "2022-09-12T06:59:20.197Z"
   },
   {
    "duration": 74536,
    "start_time": "2022-09-12T07:00:58.647Z"
   },
   {
    "duration": 4,
    "start_time": "2022-09-12T07:02:36.266Z"
   },
   {
    "duration": 266,
    "start_time": "2022-09-12T07:02:37.989Z"
   },
   {
    "duration": 5,
    "start_time": "2022-09-12T07:03:11.524Z"
   },
   {
    "duration": 6,
    "start_time": "2022-09-12T07:03:25.745Z"
   },
   {
    "duration": 6,
    "start_time": "2022-09-12T07:03:43.143Z"
   },
   {
    "duration": 18,
    "start_time": "2022-09-12T07:05:42.908Z"
   },
   {
    "duration": 6,
    "start_time": "2022-09-12T07:05:50.324Z"
   },
   {
    "duration": 16,
    "start_time": "2022-09-12T07:06:17.373Z"
   },
   {
    "duration": 16,
    "start_time": "2022-09-12T07:06:33.734Z"
   },
   {
    "duration": 1662,
    "start_time": "2022-09-13T11:43:05.940Z"
   },
   {
    "duration": 81,
    "start_time": "2022-09-13T11:43:07.604Z"
   },
   {
    "duration": 16,
    "start_time": "2022-09-13T11:43:07.687Z"
   },
   {
    "duration": 1820,
    "start_time": "2022-09-13T11:43:07.705Z"
   },
   {
    "duration": 7,
    "start_time": "2022-09-13T11:43:09.527Z"
   },
   {
    "duration": 12,
    "start_time": "2022-09-13T11:43:09.535Z"
   },
   {
    "duration": 4,
    "start_time": "2022-09-13T11:43:09.548Z"
   },
   {
    "duration": 4,
    "start_time": "2022-09-13T11:43:09.554Z"
   },
   {
    "duration": 7,
    "start_time": "2022-09-13T11:43:09.559Z"
   },
   {
    "duration": 5,
    "start_time": "2022-09-13T11:43:09.567Z"
   },
   {
    "duration": 5,
    "start_time": "2022-09-13T11:43:09.574Z"
   },
   {
    "duration": 35,
    "start_time": "2022-09-13T11:43:09.580Z"
   },
   {
    "duration": 13,
    "start_time": "2022-09-13T11:43:09.617Z"
   },
   {
    "duration": 4,
    "start_time": "2022-09-13T11:43:09.632Z"
   },
   {
    "duration": 5,
    "start_time": "2022-09-13T11:43:09.637Z"
   },
   {
    "duration": 65,
    "start_time": "2022-09-13T11:43:09.644Z"
   },
   {
    "duration": 7,
    "start_time": "2022-09-13T11:43:09.711Z"
   },
   {
    "duration": 279,
    "start_time": "2022-09-13T11:43:09.808Z"
   },
   {
    "duration": 3,
    "start_time": "2022-09-13T11:43:10.088Z"
   },
   {
    "duration": 74971,
    "start_time": "2022-09-13T11:43:10.092Z"
   },
   {
    "duration": 4,
    "start_time": "2022-09-13T11:44:25.065Z"
   },
   {
    "duration": 17637,
    "start_time": "2022-09-13T11:44:25.070Z"
   },
   {
    "duration": 139,
    "start_time": "2022-09-13T11:44:42.710Z"
   },
   {
    "duration": 7,
    "start_time": "2022-09-13T11:44:42.851Z"
   },
   {
    "duration": 16,
    "start_time": "2022-09-13T11:44:42.860Z"
   },
   {
    "duration": 16,
    "start_time": "2022-09-13T11:44:42.877Z"
   },
   {
    "duration": 3,
    "start_time": "2022-09-13T11:44:42.908Z"
   },
   {
    "duration": 36,
    "start_time": "2022-09-13T11:44:42.912Z"
   },
   {
    "duration": 3,
    "start_time": "2022-09-13T11:44:43.012Z"
   },
   {
    "duration": 430,
    "start_time": "2022-09-13T11:44:43.017Z"
   },
   {
    "duration": 3,
    "start_time": "2022-09-13T11:44:43.448Z"
   },
   {
    "duration": 91087,
    "start_time": "2022-09-13T11:44:43.452Z"
   },
   {
    "duration": 3,
    "start_time": "2022-09-13T11:46:14.541Z"
   },
   {
    "duration": 224,
    "start_time": "2022-09-13T11:46:14.545Z"
   },
   {
    "duration": 6,
    "start_time": "2022-09-13T11:46:14.770Z"
   },
   {
    "duration": 33,
    "start_time": "2022-09-13T11:46:14.777Z"
   },
   {
    "duration": 2,
    "start_time": "2022-09-13T11:46:14.811Z"
   },
   {
    "duration": 18,
    "start_time": "2022-09-13T11:46:14.815Z"
   },
   {
    "duration": 3,
    "start_time": "2022-09-13T11:46:14.835Z"
   },
   {
    "duration": 432,
    "start_time": "2022-09-13T11:46:14.840Z"
   },
   {
    "duration": 4,
    "start_time": "2022-09-13T11:46:15.276Z"
   },
   {
    "duration": 74964,
    "start_time": "2022-09-13T11:46:15.281Z"
   },
   {
    "duration": 3,
    "start_time": "2022-09-13T11:47:30.247Z"
   },
   {
    "duration": 129,
    "start_time": "2022-09-13T11:47:30.251Z"
   },
   {
    "duration": 6,
    "start_time": "2022-09-13T11:47:30.381Z"
   },
   {
    "duration": 17,
    "start_time": "2022-09-13T11:47:30.388Z"
   },
   {
    "duration": 45,
    "start_time": "2022-09-13T11:47:30.407Z"
   },
   {
    "duration": 158,
    "start_time": "2022-09-13T11:47:30.453Z"
   },
   {
    "duration": 312,
    "start_time": "2022-09-13T11:47:30.613Z"
   },
   {
    "duration": 4,
    "start_time": "2022-09-13T11:47:30.926Z"
   },
   {
    "duration": 74651,
    "start_time": "2022-09-13T11:47:30.931Z"
   },
   {
    "duration": 4,
    "start_time": "2022-09-13T11:48:45.583Z"
   },
   {
    "duration": 173,
    "start_time": "2022-09-13T11:48:45.589Z"
   },
   {
    "duration": 6,
    "start_time": "2022-09-13T11:48:45.764Z"
   },
   {
    "duration": 26,
    "start_time": "2022-09-13T11:48:45.771Z"
   },
   {
    "duration": 3,
    "start_time": "2022-09-13T11:48:45.798Z"
   },
   {
    "duration": 26,
    "start_time": "2022-09-13T11:48:45.802Z"
   },
   {
    "duration": 84,
    "start_time": "2022-09-13T11:48:45.829Z"
   },
   {
    "duration": 426,
    "start_time": "2022-09-13T11:48:45.915Z"
   },
   {
    "duration": 3,
    "start_time": "2022-09-13T11:48:46.342Z"
   },
   {
    "duration": 91185,
    "start_time": "2022-09-13T11:48:46.347Z"
   },
   {
    "duration": 3,
    "start_time": "2022-09-13T11:50:17.534Z"
   },
   {
    "duration": 229,
    "start_time": "2022-09-13T11:50:17.539Z"
   },
   {
    "duration": 6,
    "start_time": "2022-09-13T11:50:17.769Z"
   },
   {
    "duration": 5,
    "start_time": "2022-09-13T11:50:17.776Z"
   },
   {
    "duration": 30,
    "start_time": "2022-09-13T11:50:17.782Z"
   },
   {
    "duration": 4,
    "start_time": "2022-09-13T11:50:17.814Z"
   },
   {
    "duration": 453,
    "start_time": "2022-09-13T11:50:17.910Z"
   },
   {
    "duration": 3,
    "start_time": "2022-09-13T11:50:18.364Z"
   },
   {
    "duration": 92486,
    "start_time": "2022-09-13T11:50:18.368Z"
   },
   {
    "duration": 4,
    "start_time": "2022-09-13T11:51:50.856Z"
   },
   {
    "duration": 190,
    "start_time": "2022-09-13T11:51:50.862Z"
   },
   {
    "duration": 6,
    "start_time": "2022-09-13T11:51:51.054Z"
   },
   {
    "duration": 56,
    "start_time": "2022-09-13T11:51:51.062Z"
   },
   {
    "duration": 189,
    "start_time": "2022-09-13T11:51:51.120Z"
   },
   {
    "duration": 16,
    "start_time": "2022-09-13T11:51:51.311Z"
   },
   {
    "duration": 1173,
    "start_time": "2022-09-13T11:51:51.329Z"
   },
   {
    "duration": 166,
    "start_time": "2022-09-13T11:53:25.449Z"
   },
   {
    "duration": 14,
    "start_time": "2022-09-13T11:53:32.858Z"
   },
   {
    "duration": 7,
    "start_time": "2022-09-13T11:53:36.463Z"
   },
   {
    "duration": 10,
    "start_time": "2022-09-13T11:54:01.777Z"
   },
   {
    "duration": 6,
    "start_time": "2022-09-13T11:56:08.545Z"
   },
   {
    "duration": 6,
    "start_time": "2022-09-13T11:56:17.682Z"
   },
   {
    "duration": 7,
    "start_time": "2022-09-13T11:56:34.665Z"
   },
   {
    "duration": 9,
    "start_time": "2022-09-13T11:57:21.566Z"
   },
   {
    "duration": 9,
    "start_time": "2022-09-13T11:59:09.011Z"
   },
   {
    "duration": 9,
    "start_time": "2022-09-13T11:59:18.515Z"
   },
   {
    "duration": 10,
    "start_time": "2022-09-13T11:59:40.063Z"
   },
   {
    "duration": 11,
    "start_time": "2022-09-13T12:00:20.404Z"
   },
   {
    "duration": 17,
    "start_time": "2022-09-13T12:00:42.663Z"
   },
   {
    "duration": 9,
    "start_time": "2022-09-13T12:00:56.457Z"
   }
  ],
  "kernelspec": {
   "display_name": "Python 3 (ipykernel)",
   "language": "python",
   "name": "python3"
  },
  "language_info": {
   "codemirror_mode": {
    "name": "ipython",
    "version": 3
   },
   "file_extension": ".py",
   "mimetype": "text/x-python",
   "name": "python",
   "nbconvert_exporter": "python",
   "pygments_lexer": "ipython3",
   "version": "3.9.12"
  },
  "toc": {
   "base_numbering": 1,
   "nav_menu": {},
   "number_sections": true,
   "sideBar": true,
   "skip_h1_title": true,
   "title_cell": "Table of Contents",
   "title_sidebar": "Contents",
   "toc_cell": false,
   "toc_position": {},
   "toc_section_display": true,
   "toc_window_display": false
  },
  "vscode": {
   "interpreter": {
    "hash": "1c8c03b3dd9f00cbf1a5a5c63c930805b828fbf388ffb63f05d8fe79c64b8236"
   }
  }
 },
 "nbformat": 4,
 "nbformat_minor": 2
}
