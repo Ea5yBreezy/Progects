{
 "cells": [
  {
   "cell_type": "markdown",
   "metadata": {
    "toc": true
   },
   "source": [
    "<h1>Содержание<span class=\"tocSkip\"></span></h1>\n",
    "<div class=\"toc\"><ul class=\"toc-item\"><li><span><a href=\"#Загрузка-данных\" data-toc-modified-id=\"Загрузка-данных-1\"><span class=\"toc-item-num\">1&nbsp;&nbsp;</span>Загрузка данных</a></span><ul class=\"toc-item\"><li><span><a href=\"#✔-Комментарий-студента-V.0\" data-toc-modified-id=\"✔-Комментарий-студента-V.0-1.1\"><span class=\"toc-item-num\">1.1&nbsp;&nbsp;</span>✔ Комментарий студента V.0</a></span></li><li><span><a href=\"#✔-Комментарий-студента-V.1\" data-toc-modified-id=\"✔-Комментарий-студента-V.1-1.2\"><span class=\"toc-item-num\">1.2&nbsp;&nbsp;</span>✔ Комментарий студента V.1</a></span></li></ul></li><li><span><a href=\"#Умножение-матриц\" data-toc-modified-id=\"Умножение-матриц-2\"><span class=\"toc-item-num\">2&nbsp;&nbsp;</span>Умножение матриц</a></span></li><li><span><a href=\"#Алгоритм-преобразования\" data-toc-modified-id=\"Алгоритм-преобразования-3\"><span class=\"toc-item-num\">3&nbsp;&nbsp;</span>Алгоритм преобразования</a></span><ul class=\"toc-item\"><li><span><a href=\"#✔-Комментарий-студента-V.1\" data-toc-modified-id=\"✔-Комментарий-студента-V.1-3.1\"><span class=\"toc-item-num\">3.1&nbsp;&nbsp;</span>✔ Комментарий студента V.1</a></span></li><li><span><a href=\"#✔-Комментарий-студента-V.0\" data-toc-modified-id=\"✔-Комментарий-студента-V.0-3.2\"><span class=\"toc-item-num\">3.2&nbsp;&nbsp;</span>✔ Комментарий студента V.0</a></span></li><li><span><a href=\"#✔-Комментарий-студента-V.0\" data-toc-modified-id=\"✔-Комментарий-студента-V.0-3.3\"><span class=\"toc-item-num\">3.3&nbsp;&nbsp;</span>✔ Комментарий студента V.0</a></span></li><li><span><a href=\"#✔-Комментарий-студента-V.0\" data-toc-modified-id=\"✔-Комментарий-студента-V.0-3.4\"><span class=\"toc-item-num\">3.4&nbsp;&nbsp;</span>✔ Комментарий студента V.0</a></span></li></ul></li><li><span><a href=\"#Проверка-алгоритма\" data-toc-modified-id=\"Проверка-алгоритма-4\"><span class=\"toc-item-num\">4&nbsp;&nbsp;</span>Проверка алгоритма</a></span></li><li><span><a href=\"#Обоснование-алгоритма-и-равенства-метрик\" data-toc-modified-id=\"Обоснование-алгоритма-и-равенства-метрик-5\"><span class=\"toc-item-num\">5&nbsp;&nbsp;</span>Обоснование алгоритма и равенства метрик</a></span><ul class=\"toc-item\"><li><span><a href=\"#✔-Комментарий-студента-V.0\" data-toc-modified-id=\"✔-Комментарий-студента-V.0-5.1\"><span class=\"toc-item-num\">5.1&nbsp;&nbsp;</span>✔ Комментарий студента V.0</a></span></li><li><span><a href=\"#✔-Комментарий-студента-V.0\" data-toc-modified-id=\"✔-Комментарий-студента-V.0-5.2\"><span class=\"toc-item-num\">5.2&nbsp;&nbsp;</span>✔ Комментарий студента V.0</a></span></li></ul></li><li><span><a href=\"#Чек-лист-проверки\" data-toc-modified-id=\"Чек-лист-проверки-6\"><span class=\"toc-item-num\">6&nbsp;&nbsp;</span>Чек-лист проверки</a></span></li></ul></div>"
   ]
  },
  {
   "cell_type": "markdown",
   "metadata": {},
   "source": [
    "# Защита персональных данных клиентов"
   ]
  },
  {
   "cell_type": "markdown",
   "metadata": {},
   "source": [
    "**Описание проекта.**\n",
    "\n",
    "Вам нужно защитить данные клиентов страховой компании «Хоть потоп». Разработайте такой метод преобразования данных, чтобы по ним было сложно восстановить персональную информацию. Обоснуйте корректность его работы."
   ]
  },
  {
   "cell_type": "markdown",
   "metadata": {},
   "source": [
    "**Цель исследования** - Нужно защитить данные, чтобы при преобразовании качество моделей машинного обучения не ухудшилось. Подбирать наилучшую модель не требуется."
   ]
  },
  {
   "cell_type": "markdown",
   "metadata": {},
   "source": [
    "**Описание данных.**\n",
    " - `Пол` — пол клиента\n",
    " - `Возраст` — возраст клиента\n",
    " - `Зарплата` — зарплата клиента\n",
    " - `Члены семьи` — сколько членов семьи\n",
    " - `Страховые выплаты` — количество страховых выплат за 5 лет"
   ]
  },
  {
   "cell_type": "markdown",
   "metadata": {},
   "source": [
    "**Инструкция по выполнению проекта**\n",
    "<ol>\n",
    "<li>Загрузите и изучите данные.</li>\n",
    "<li>Ответьте на вопрос и обоснуйте решение.</li>\n",
    "<li>Признаки умножают на обратимую матрицу. Изменится ли качество линейной регрессии? (Её можно обучить заново.)</li>\n",
    "a. Изменится. Приведите примеры матриц.<br>\n",
    "b. Не изменится. Укажите, как связаны параметры линейной регрессии в исходной задаче и в преобразованной.\n",
    "<li>Предложите алгоритм преобразования данных для решения задачи. Обоснуйте, почему качество линейной регрессии не поменяется.</li>\n",
    "<li>Запрограммируйте этот алгоритм, применив матричные операции. Проверьте, что качество линейной регрессии из sklearn не отличается до и после преобразования. Примените метрику R2.</li>\n",
    "</ol>"
   ]
  },
  {
   "cell_type": "markdown",
   "metadata": {},
   "source": [
    "## Загрузка данных"
   ]
  },
  {
   "cell_type": "code",
   "execution_count": 2,
   "metadata": {},
   "outputs": [],
   "source": [
    "import pandas as pd\n",
    "import numpy as np\n",
    "import seaborn as sns\n",
    "import matplotlib.pyplot as plt\n",
    "import warnings\n",
    "import phik\n",
    "from phik.report import plot_correlation_matrix\n",
    "from phik import report\n",
    "from sklearn.linear_model import LinearRegression\n",
    "from sklearn.metrics import r2_score\n",
    "from sklearn.model_selection import cross_val_score\n",
    "warnings.simplefilter(\"ignore\")"
   ]
  },
  {
   "cell_type": "code",
   "execution_count": 3,
   "metadata": {},
   "outputs": [
    {
     "name": "stdout",
     "output_type": "stream",
     "text": [
      "<class 'pandas.core.frame.DataFrame'>\n",
      "RangeIndex: 5000 entries, 0 to 4999\n",
      "Data columns (total 5 columns):\n",
      " #   Column             Non-Null Count  Dtype  \n",
      "---  ------             --------------  -----  \n",
      " 0   Пол                5000 non-null   int64  \n",
      " 1   Возраст            5000 non-null   float64\n",
      " 2   Зарплата           5000 non-null   float64\n",
      " 3   Члены семьи        5000 non-null   int64  \n",
      " 4   Страховые выплаты  5000 non-null   int64  \n",
      "dtypes: float64(2), int64(3)\n",
      "memory usage: 195.4 KB\n"
     ]
    }
   ],
   "source": [
    "try:\n",
    "    df = pd.read_csv('/DS/Yandex_Practikum/Projects/datasets/insurance.csv')\n",
    "except:\n",
    "    df = pd.read_csv('/datasets/insurance.csv')\n",
    "df.info()"
   ]
  },
  {
   "cell_type": "code",
   "execution_count": 4,
   "metadata": {},
   "outputs": [
    {
     "data": {
      "text/html": [
       "<div>\n",
       "<style scoped>\n",
       "    .dataframe tbody tr th:only-of-type {\n",
       "        vertical-align: middle;\n",
       "    }\n",
       "\n",
       "    .dataframe tbody tr th {\n",
       "        vertical-align: top;\n",
       "    }\n",
       "\n",
       "    .dataframe thead th {\n",
       "        text-align: right;\n",
       "    }\n",
       "</style>\n",
       "<table border=\"1\" class=\"dataframe\">\n",
       "  <thead>\n",
       "    <tr style=\"text-align: right;\">\n",
       "      <th></th>\n",
       "      <th>Пол</th>\n",
       "      <th>Возраст</th>\n",
       "      <th>Зарплата</th>\n",
       "      <th>Члены семьи</th>\n",
       "      <th>Страховые выплаты</th>\n",
       "    </tr>\n",
       "  </thead>\n",
       "  <tbody>\n",
       "    <tr>\n",
       "      <th>0</th>\n",
       "      <td>1</td>\n",
       "      <td>41.0</td>\n",
       "      <td>49600.0</td>\n",
       "      <td>1</td>\n",
       "      <td>0</td>\n",
       "    </tr>\n",
       "    <tr>\n",
       "      <th>1</th>\n",
       "      <td>0</td>\n",
       "      <td>46.0</td>\n",
       "      <td>38000.0</td>\n",
       "      <td>1</td>\n",
       "      <td>1</td>\n",
       "    </tr>\n",
       "    <tr>\n",
       "      <th>2</th>\n",
       "      <td>0</td>\n",
       "      <td>29.0</td>\n",
       "      <td>21000.0</td>\n",
       "      <td>0</td>\n",
       "      <td>0</td>\n",
       "    </tr>\n",
       "    <tr>\n",
       "      <th>3</th>\n",
       "      <td>0</td>\n",
       "      <td>21.0</td>\n",
       "      <td>41700.0</td>\n",
       "      <td>2</td>\n",
       "      <td>0</td>\n",
       "    </tr>\n",
       "    <tr>\n",
       "      <th>4</th>\n",
       "      <td>1</td>\n",
       "      <td>28.0</td>\n",
       "      <td>26100.0</td>\n",
       "      <td>0</td>\n",
       "      <td>0</td>\n",
       "    </tr>\n",
       "  </tbody>\n",
       "</table>\n",
       "</div>"
      ],
      "text/plain": [
       "   Пол  Возраст  Зарплата  Члены семьи  Страховые выплаты\n",
       "0    1     41.0   49600.0            1                  0\n",
       "1    0     46.0   38000.0            1                  1\n",
       "2    0     29.0   21000.0            0                  0\n",
       "3    0     21.0   41700.0            2                  0\n",
       "4    1     28.0   26100.0            0                  0"
      ]
     },
     "execution_count": 4,
     "metadata": {},
     "output_type": "execute_result"
    }
   ],
   "source": [
    "df.head()"
   ]
  },
  {
   "cell_type": "code",
   "execution_count": 5,
   "metadata": {
    "scrolled": true
   },
   "outputs": [
    {
     "data": {
      "image/png": "[encoded data removed]",
      "text/plain": [
       "<Figure size 1440x720 with 6 Axes>"
      ]
     },
     "metadata": {
      "needs_background": "light"
     },
     "output_type": "display_data"
    }
   ],
   "source": [
    "df.hist(bins = 50,figsize=(20,10))\n",
    "plt.show()"
   ]
  },
  {
   "cell_type": "markdown",
   "metadata": {},
   "source": [
    "Приведем названия столбцов к нижнему регистру"
   ]
  },
  {
   "cell_type": "code",
   "execution_count": 6,
   "metadata": {},
   "outputs": [],
   "source": [
    "df.columns = df.columns.str.lower()\n",
    "df.columns = [c.replace(' ', '_') for c in df.columns]"
   ]
  },
  {
   "cell_type": "code",
   "execution_count": 7,
   "metadata": {},
   "outputs": [
    {
     "data": {
      "text/html": [
       "<div>\n",
       "<style scoped>\n",
       "    .dataframe tbody tr th:only-of-type {\n",
       "        vertical-align: middle;\n",
       "    }\n",
       "\n",
       "    .dataframe tbody tr th {\n",
       "        vertical-align: top;\n",
       "    }\n",
       "\n",
       "    .dataframe thead th {\n",
       "        text-align: right;\n",
       "    }\n",
       "</style>\n",
       "<table border=\"1\" class=\"dataframe\">\n",
       "  <thead>\n",
       "    <tr style=\"text-align: right;\">\n",
       "      <th></th>\n",
       "      <th>пол</th>\n",
       "      <th>возраст</th>\n",
       "      <th>зарплата</th>\n",
       "      <th>члены_семьи</th>\n",
       "      <th>страховые_выплаты</th>\n",
       "    </tr>\n",
       "  </thead>\n",
       "  <tbody>\n",
       "    <tr>\n",
       "      <th>0</th>\n",
       "      <td>1</td>\n",
       "      <td>41.0</td>\n",
       "      <td>49600.0</td>\n",
       "      <td>1</td>\n",
       "      <td>0</td>\n",
       "    </tr>\n",
       "    <tr>\n",
       "      <th>1</th>\n",
       "      <td>0</td>\n",
       "      <td>46.0</td>\n",
       "      <td>38000.0</td>\n",
       "      <td>1</td>\n",
       "      <td>1</td>\n",
       "    </tr>\n",
       "    <tr>\n",
       "      <th>2</th>\n",
       "      <td>0</td>\n",
       "      <td>29.0</td>\n",
       "      <td>21000.0</td>\n",
       "      <td>0</td>\n",
       "      <td>0</td>\n",
       "    </tr>\n",
       "    <tr>\n",
       "      <th>3</th>\n",
       "      <td>0</td>\n",
       "      <td>21.0</td>\n",
       "      <td>41700.0</td>\n",
       "      <td>2</td>\n",
       "      <td>0</td>\n",
       "    </tr>\n",
       "    <tr>\n",
       "      <th>4</th>\n",
       "      <td>1</td>\n",
       "      <td>28.0</td>\n",
       "      <td>26100.0</td>\n",
       "      <td>0</td>\n",
       "      <td>0</td>\n",
       "    </tr>\n",
       "  </tbody>\n",
       "</table>\n",
       "</div>"
      ],
      "text/plain": [
       "   пол  возраст  зарплата  члены_семьи  страховые_выплаты\n",
       "0    1     41.0   49600.0            1                  0\n",
       "1    0     46.0   38000.0            1                  1\n",
       "2    0     29.0   21000.0            0                  0\n",
       "3    0     21.0   41700.0            2                  0\n",
       "4    1     28.0   26100.0            0                  0"
      ]
     },
     "execution_count": 7,
     "metadata": {},
     "output_type": "execute_result"
    }
   ],
   "source": [
    "df.head()"
   ]
  },
  {
   "cell_type": "code",
   "execution_count": 8,
   "metadata": {},
   "outputs": [
    {
     "data": {
      "text/html": [
       "<div>\n",
       "<style scoped>\n",
       "    .dataframe tbody tr th:only-of-type {\n",
       "        vertical-align: middle;\n",
       "    }\n",
       "\n",
       "    .dataframe tbody tr th {\n",
       "        vertical-align: top;\n",
       "    }\n",
       "\n",
       "    .dataframe thead th {\n",
       "        text-align: right;\n",
       "    }\n",
       "</style>\n",
       "<table border=\"1\" class=\"dataframe\">\n",
       "  <thead>\n",
       "    <tr style=\"text-align: right;\">\n",
       "      <th></th>\n",
       "      <th>пол</th>\n",
       "      <th>возраст</th>\n",
       "      <th>зарплата</th>\n",
       "      <th>члены_семьи</th>\n",
       "      <th>страховые_выплаты</th>\n",
       "    </tr>\n",
       "  </thead>\n",
       "  <tbody>\n",
       "  </tbody>\n",
       "</table>\n",
       "</div>"
      ],
      "text/plain": [
       "Empty DataFrame\n",
       "Columns: [пол, возраст, зарплата, члены_семьи, страховые_выплаты]\n",
       "Index: []"
      ]
     },
     "execution_count": 8,
     "metadata": {},
     "output_type": "execute_result"
    }
   ],
   "source": [
    "df.query('возраст % 1 !=0')"
   ]
  },
  {
   "cell_type": "code",
   "execution_count": 9,
   "metadata": {},
   "outputs": [
    {
     "data": {
      "text/html": [
       "<div>\n",
       "<style scoped>\n",
       "    .dataframe tbody tr th:only-of-type {\n",
       "        vertical-align: middle;\n",
       "    }\n",
       "\n",
       "    .dataframe tbody tr th {\n",
       "        vertical-align: top;\n",
       "    }\n",
       "\n",
       "    .dataframe thead th {\n",
       "        text-align: right;\n",
       "    }\n",
       "</style>\n",
       "<table border=\"1\" class=\"dataframe\">\n",
       "  <thead>\n",
       "    <tr style=\"text-align: right;\">\n",
       "      <th></th>\n",
       "      <th>пол</th>\n",
       "      <th>возраст</th>\n",
       "      <th>зарплата</th>\n",
       "      <th>члены_семьи</th>\n",
       "      <th>страховые_выплаты</th>\n",
       "    </tr>\n",
       "  </thead>\n",
       "  <tbody>\n",
       "    <tr>\n",
       "      <th>80</th>\n",
       "      <td>1</td>\n",
       "      <td>41.0</td>\n",
       "      <td>32700.0</td>\n",
       "      <td>0</td>\n",
       "      <td>0</td>\n",
       "    </tr>\n",
       "    <tr>\n",
       "      <th>159</th>\n",
       "      <td>1</td>\n",
       "      <td>19.0</td>\n",
       "      <td>64900.0</td>\n",
       "      <td>2</td>\n",
       "      <td>0</td>\n",
       "    </tr>\n",
       "    <tr>\n",
       "      <th>313</th>\n",
       "      <td>0</td>\n",
       "      <td>25.0</td>\n",
       "      <td>32700.0</td>\n",
       "      <td>1</td>\n",
       "      <td>0</td>\n",
       "    </tr>\n",
       "    <tr>\n",
       "      <th>392</th>\n",
       "      <td>1</td>\n",
       "      <td>43.0</td>\n",
       "      <td>32700.0</td>\n",
       "      <td>1</td>\n",
       "      <td>1</td>\n",
       "    </tr>\n",
       "    <tr>\n",
       "      <th>448</th>\n",
       "      <td>1</td>\n",
       "      <td>32.0</td>\n",
       "      <td>32700.0</td>\n",
       "      <td>2</td>\n",
       "      <td>0</td>\n",
       "    </tr>\n",
       "    <tr>\n",
       "      <th>772</th>\n",
       "      <td>1</td>\n",
       "      <td>20.0</td>\n",
       "      <td>65100.0</td>\n",
       "      <td>1</td>\n",
       "      <td>0</td>\n",
       "    </tr>\n",
       "    <tr>\n",
       "      <th>820</th>\n",
       "      <td>0</td>\n",
       "      <td>29.0</td>\n",
       "      <td>32200.0</td>\n",
       "      <td>2</td>\n",
       "      <td>0</td>\n",
       "    </tr>\n",
       "    <tr>\n",
       "      <th>872</th>\n",
       "      <td>0</td>\n",
       "      <td>23.0</td>\n",
       "      <td>32200.0</td>\n",
       "      <td>3</td>\n",
       "      <td>0</td>\n",
       "    </tr>\n",
       "    <tr>\n",
       "      <th>911</th>\n",
       "      <td>0</td>\n",
       "      <td>30.0</td>\n",
       "      <td>32200.0</td>\n",
       "      <td>0</td>\n",
       "      <td>0</td>\n",
       "    </tr>\n",
       "    <tr>\n",
       "      <th>963</th>\n",
       "      <td>1</td>\n",
       "      <td>20.0</td>\n",
       "      <td>64100.0</td>\n",
       "      <td>0</td>\n",
       "      <td>0</td>\n",
       "    </tr>\n",
       "    <tr>\n",
       "      <th>1020</th>\n",
       "      <td>1</td>\n",
       "      <td>36.0</td>\n",
       "      <td>32700.0</td>\n",
       "      <td>2</td>\n",
       "      <td>0</td>\n",
       "    </tr>\n",
       "    <tr>\n",
       "      <th>1078</th>\n",
       "      <td>0</td>\n",
       "      <td>34.0</td>\n",
       "      <td>32200.0</td>\n",
       "      <td>3</td>\n",
       "      <td>0</td>\n",
       "    </tr>\n",
       "    <tr>\n",
       "      <th>1336</th>\n",
       "      <td>1</td>\n",
       "      <td>19.0</td>\n",
       "      <td>32700.0</td>\n",
       "      <td>0</td>\n",
       "      <td>0</td>\n",
       "    </tr>\n",
       "    <tr>\n",
       "      <th>1485</th>\n",
       "      <td>1</td>\n",
       "      <td>41.0</td>\n",
       "      <td>32700.0</td>\n",
       "      <td>0</td>\n",
       "      <td>0</td>\n",
       "    </tr>\n",
       "    <tr>\n",
       "      <th>1486</th>\n",
       "      <td>1</td>\n",
       "      <td>50.0</td>\n",
       "      <td>32200.0</td>\n",
       "      <td>2</td>\n",
       "      <td>2</td>\n",
       "    </tr>\n",
       "    <tr>\n",
       "      <th>1847</th>\n",
       "      <td>1</td>\n",
       "      <td>31.0</td>\n",
       "      <td>32700.0</td>\n",
       "      <td>0</td>\n",
       "      <td>0</td>\n",
       "    </tr>\n",
       "    <tr>\n",
       "      <th>1981</th>\n",
       "      <td>0</td>\n",
       "      <td>21.0</td>\n",
       "      <td>32200.0</td>\n",
       "      <td>1</td>\n",
       "      <td>0</td>\n",
       "    </tr>\n",
       "    <tr>\n",
       "      <th>2191</th>\n",
       "      <td>1</td>\n",
       "      <td>22.0</td>\n",
       "      <td>32200.0</td>\n",
       "      <td>1</td>\n",
       "      <td>0</td>\n",
       "    </tr>\n",
       "    <tr>\n",
       "      <th>2287</th>\n",
       "      <td>1</td>\n",
       "      <td>40.0</td>\n",
       "      <td>32200.0</td>\n",
       "      <td>3</td>\n",
       "      <td>0</td>\n",
       "    </tr>\n",
       "    <tr>\n",
       "      <th>2342</th>\n",
       "      <td>1</td>\n",
       "      <td>25.0</td>\n",
       "      <td>32700.0</td>\n",
       "      <td>2</td>\n",
       "      <td>0</td>\n",
       "    </tr>\n",
       "    <tr>\n",
       "      <th>2385</th>\n",
       "      <td>1</td>\n",
       "      <td>36.0</td>\n",
       "      <td>32700.0</td>\n",
       "      <td>1</td>\n",
       "      <td>0</td>\n",
       "    </tr>\n",
       "    <tr>\n",
       "      <th>2439</th>\n",
       "      <td>1</td>\n",
       "      <td>44.0</td>\n",
       "      <td>32200.0</td>\n",
       "      <td>1</td>\n",
       "      <td>1</td>\n",
       "    </tr>\n",
       "    <tr>\n",
       "      <th>2443</th>\n",
       "      <td>1</td>\n",
       "      <td>25.0</td>\n",
       "      <td>32700.0</td>\n",
       "      <td>0</td>\n",
       "      <td>0</td>\n",
       "    </tr>\n",
       "    <tr>\n",
       "      <th>2805</th>\n",
       "      <td>0</td>\n",
       "      <td>47.0</td>\n",
       "      <td>32700.0</td>\n",
       "      <td>1</td>\n",
       "      <td>1</td>\n",
       "    </tr>\n",
       "    <tr>\n",
       "      <th>2994</th>\n",
       "      <td>1</td>\n",
       "      <td>29.0</td>\n",
       "      <td>32200.0</td>\n",
       "      <td>1</td>\n",
       "      <td>0</td>\n",
       "    </tr>\n",
       "    <tr>\n",
       "      <th>3063</th>\n",
       "      <td>0</td>\n",
       "      <td>24.0</td>\n",
       "      <td>64400.0</td>\n",
       "      <td>0</td>\n",
       "      <td>0</td>\n",
       "    </tr>\n",
       "    <tr>\n",
       "      <th>3139</th>\n",
       "      <td>1</td>\n",
       "      <td>43.0</td>\n",
       "      <td>32200.0</td>\n",
       "      <td>2</td>\n",
       "      <td>1</td>\n",
       "    </tr>\n",
       "    <tr>\n",
       "      <th>3352</th>\n",
       "      <td>1</td>\n",
       "      <td>23.0</td>\n",
       "      <td>32200.0</td>\n",
       "      <td>5</td>\n",
       "      <td>0</td>\n",
       "    </tr>\n",
       "    <tr>\n",
       "      <th>3466</th>\n",
       "      <td>0</td>\n",
       "      <td>22.0</td>\n",
       "      <td>32700.0</td>\n",
       "      <td>4</td>\n",
       "      <td>0</td>\n",
       "    </tr>\n",
       "    <tr>\n",
       "      <th>3499</th>\n",
       "      <td>1</td>\n",
       "      <td>22.0</td>\n",
       "      <td>65100.0</td>\n",
       "      <td>4</td>\n",
       "      <td>0</td>\n",
       "    </tr>\n",
       "    <tr>\n",
       "      <th>3614</th>\n",
       "      <td>1</td>\n",
       "      <td>24.0</td>\n",
       "      <td>32700.0</td>\n",
       "      <td>1</td>\n",
       "      <td>0</td>\n",
       "    </tr>\n",
       "    <tr>\n",
       "      <th>3717</th>\n",
       "      <td>0</td>\n",
       "      <td>34.0</td>\n",
       "      <td>32700.0</td>\n",
       "      <td>0</td>\n",
       "      <td>0</td>\n",
       "    </tr>\n",
       "    <tr>\n",
       "      <th>3788</th>\n",
       "      <td>0</td>\n",
       "      <td>46.0</td>\n",
       "      <td>32700.0</td>\n",
       "      <td>2</td>\n",
       "      <td>1</td>\n",
       "    </tr>\n",
       "    <tr>\n",
       "      <th>3824</th>\n",
       "      <td>1</td>\n",
       "      <td>37.0</td>\n",
       "      <td>32700.0</td>\n",
       "      <td>2</td>\n",
       "      <td>0</td>\n",
       "    </tr>\n",
       "    <tr>\n",
       "      <th>3938</th>\n",
       "      <td>1</td>\n",
       "      <td>23.0</td>\n",
       "      <td>32200.0</td>\n",
       "      <td>1</td>\n",
       "      <td>0</td>\n",
       "    </tr>\n",
       "    <tr>\n",
       "      <th>4182</th>\n",
       "      <td>0</td>\n",
       "      <td>27.0</td>\n",
       "      <td>32200.0</td>\n",
       "      <td>2</td>\n",
       "      <td>0</td>\n",
       "    </tr>\n",
       "    <tr>\n",
       "      <th>4520</th>\n",
       "      <td>0</td>\n",
       "      <td>18.0</td>\n",
       "      <td>32700.0</td>\n",
       "      <td>3</td>\n",
       "      <td>0</td>\n",
       "    </tr>\n",
       "    <tr>\n",
       "      <th>4833</th>\n",
       "      <td>0</td>\n",
       "      <td>24.0</td>\n",
       "      <td>32200.0</td>\n",
       "      <td>1</td>\n",
       "      <td>0</td>\n",
       "    </tr>\n",
       "    <tr>\n",
       "      <th>4935</th>\n",
       "      <td>1</td>\n",
       "      <td>19.0</td>\n",
       "      <td>32700.0</td>\n",
       "      <td>0</td>\n",
       "      <td>0</td>\n",
       "    </tr>\n",
       "    <tr>\n",
       "      <th>4998</th>\n",
       "      <td>1</td>\n",
       "      <td>22.0</td>\n",
       "      <td>32700.0</td>\n",
       "      <td>3</td>\n",
       "      <td>0</td>\n",
       "    </tr>\n",
       "  </tbody>\n",
       "</table>\n",
       "</div>"
      ],
      "text/plain": [
       "      пол  возраст  зарплата  члены_семьи  страховые_выплаты\n",
       "80      1     41.0   32700.0            0                  0\n",
       "159     1     19.0   64900.0            2                  0\n",
       "313     0     25.0   32700.0            1                  0\n",
       "392     1     43.0   32700.0            1                  1\n",
       "448     1     32.0   32700.0            2                  0\n",
       "772     1     20.0   65100.0            1                  0\n",
       "820     0     29.0   32200.0            2                  0\n",
       "872     0     23.0   32200.0            3                  0\n",
       "911     0     30.0   32200.0            0                  0\n",
       "963     1     20.0   64100.0            0                  0\n",
       "1020    1     36.0   32700.0            2                  0\n",
       "1078    0     34.0   32200.0            3                  0\n",
       "1336    1     19.0   32700.0            0                  0\n",
       "1485    1     41.0   32700.0            0                  0\n",
       "1486    1     50.0   32200.0            2                  2\n",
       "1847    1     31.0   32700.0            0                  0\n",
       "1981    0     21.0   32200.0            1                  0\n",
       "2191    1     22.0   32200.0            1                  0\n",
       "2287    1     40.0   32200.0            3                  0\n",
       "2342    1     25.0   32700.0            2                  0\n",
       "2385    1     36.0   32700.0            1                  0\n",
       "2439    1     44.0   32200.0            1                  1\n",
       "2443    1     25.0   32700.0            0                  0\n",
       "2805    0     47.0   32700.0            1                  1\n",
       "2994    1     29.0   32200.0            1                  0\n",
       "3063    0     24.0   64400.0            0                  0\n",
       "3139    1     43.0   32200.0            2                  1\n",
       "3352    1     23.0   32200.0            5                  0\n",
       "3466    0     22.0   32700.0            4                  0\n",
       "3499    1     22.0   65100.0            4                  0\n",
       "3614    1     24.0   32700.0            1                  0\n",
       "3717    0     34.0   32700.0            0                  0\n",
       "3788    0     46.0   32700.0            2                  1\n",
       "3824    1     37.0   32700.0            2                  0\n",
       "3938    1     23.0   32200.0            1                  0\n",
       "4182    0     27.0   32200.0            2                  0\n",
       "4520    0     18.0   32700.0            3                  0\n",
       "4833    0     24.0   32200.0            1                  0\n",
       "4935    1     19.0   32700.0            0                  0\n",
       "4998    1     22.0   32700.0            3                  0"
      ]
     },
     "execution_count": 9,
     "metadata": {},
     "output_type": "execute_result"
    }
   ],
   "source": [
    "df.query('зарплата % 1 !=0')"
   ]
  },
  {
   "cell_type": "markdown",
   "metadata": {},
   "source": [
    "Преобразуем столбы возраста и зарплаты в тип данных int, т.к. менее затратный формат данных."
   ]
  },
  {
   "cell_type": "code",
   "execution_count": 10,
   "metadata": {},
   "outputs": [],
   "source": [
    "df['возраст'] = df['возраст'].astype('int8')\n",
    "df['зарплата'] = np.around(df['зарплата']).astype('int32')"
   ]
  },
  {
   "cell_type": "code",
   "execution_count": 11,
   "metadata": {},
   "outputs": [
    {
     "name": "stdout",
     "output_type": "stream",
     "text": [
      "interval columns not set, guessing: ['пол', 'возраст', 'зарплата', 'члены_семьи', 'страховые_выплаты']\n"
     ]
    },
    {
     "data": {
      "text/html": [
       "<div>\n",
       "<style scoped>\n",
       "    .dataframe tbody tr th:only-of-type {\n",
       "        vertical-align: middle;\n",
       "    }\n",
       "\n",
       "    .dataframe tbody tr th {\n",
       "        vertical-align: top;\n",
       "    }\n",
       "\n",
       "    .dataframe thead th {\n",
       "        text-align: right;\n",
       "    }\n",
       "</style>\n",
       "<table border=\"1\" class=\"dataframe\">\n",
       "  <thead>\n",
       "    <tr style=\"text-align: right;\">\n",
       "      <th></th>\n",
       "      <th>пол</th>\n",
       "      <th>возраст</th>\n",
       "      <th>зарплата</th>\n",
       "      <th>члены_семьи</th>\n",
       "      <th>страховые_выплаты</th>\n",
       "    </tr>\n",
       "  </thead>\n",
       "  <tbody>\n",
       "    <tr>\n",
       "      <th>пол</th>\n",
       "      <td>1.00</td>\n",
       "      <td>0.00</td>\n",
       "      <td>0.00</td>\n",
       "      <td>0.0</td>\n",
       "      <td>0.03</td>\n",
       "    </tr>\n",
       "    <tr>\n",
       "      <th>возраст</th>\n",
       "      <td>0.00</td>\n",
       "      <td>1.00</td>\n",
       "      <td>0.07</td>\n",
       "      <td>0.0</td>\n",
       "      <td>0.88</td>\n",
       "    </tr>\n",
       "    <tr>\n",
       "      <th>зарплата</th>\n",
       "      <td>0.00</td>\n",
       "      <td>0.07</td>\n",
       "      <td>1.00</td>\n",
       "      <td>0.0</td>\n",
       "      <td>0.00</td>\n",
       "    </tr>\n",
       "    <tr>\n",
       "      <th>члены_семьи</th>\n",
       "      <td>0.00</td>\n",
       "      <td>0.00</td>\n",
       "      <td>0.00</td>\n",
       "      <td>1.0</td>\n",
       "      <td>0.00</td>\n",
       "    </tr>\n",
       "    <tr>\n",
       "      <th>страховые_выплаты</th>\n",
       "      <td>0.03</td>\n",
       "      <td>0.88</td>\n",
       "      <td>0.00</td>\n",
       "      <td>0.0</td>\n",
       "      <td>1.00</td>\n",
       "    </tr>\n",
       "  </tbody>\n",
       "</table>\n",
       "</div>"
      ],
      "text/plain": [
       "                    пол  возраст  зарплата  члены_семьи  страховые_выплаты\n",
       "пол                1.00     0.00      0.00          0.0               0.03\n",
       "возраст            0.00     1.00      0.07          0.0               0.88\n",
       "зарплата           0.00     0.07      1.00          0.0               0.00\n",
       "члены_семьи        0.00     0.00      0.00          1.0               0.00\n",
       "страховые_выплаты  0.03     0.88      0.00          0.0               1.00"
      ]
     },
     "execution_count": 11,
     "metadata": {},
     "output_type": "execute_result"
    }
   ],
   "source": [
    "phik_overview = df.phik_matrix()\n",
    "phik_overview.round(2)"
   ]
  },
  {
   "cell_type": "code",
   "execution_count": 12,
   "metadata": {},
   "outputs": [
    {
     "data": {
      "image/png": "[encoded data removed]",
      "text/plain": [
       "<Figure size 720x576 with 2 Axes>"
      ]
     },
     "metadata": {
      "needs_background": "light"
     },
     "output_type": "display_data"
    }
   ],
   "source": [
    "plot_correlation_matrix(phik_overview.to_numpy(),\n",
    "                        x_labels=phik_overview.columns, \n",
    "                        y_labels=phik_overview.index,\n",
    "                        vmin=0, vmax=1, color_map=\"Reds\", \n",
    "                        title=r\"correlation $\\phi_K$\", \n",
    "                        fontsize_factor=1.5, \n",
    "                        figsize=(10, 8))\n",
    "plt.tight_layout()"
   ]
  },
  {
   "cell_type": "code",
   "execution_count": 13,
   "metadata": {},
   "outputs": [
    {
     "data": {
      "image/png": "[encoded data removed]",
      "text/plain": [
       "<Figure size 504x504 with 1 Axes>"
      ]
     },
     "metadata": {
      "needs_background": "light"
     },
     "output_type": "display_data"
    }
   ],
   "source": [
    "plt.figure(figsize=(7,7))\n",
    "ax = sns.scatterplot(data = df, x = 'возраст', y = 'страховые_выплаты')\n",
    "plt.show()"
   ]
  },
  {
   "cell_type": "markdown",
   "metadata": {},
   "source": [
    "Наибольшую корреляцию с стаховыми выплатами имеет признак возраст, с остальными зависимость отсутствует."
   ]
  },
  {
   "cell_type": "markdown",
   "metadata": {},
   "source": [
    "## Умножение матриц"
   ]
  },
  {
   "cell_type": "markdown",
   "metadata": {},
   "source": [
    "**Алгоритм шифрования данных:**\n",
    "\n",
    "Для этого нам понадобится две формулы\n",
    "$$\n",
    "1) AA^{-1} = A^{-1}A = E\n",
    "$$\n",
    "$$\n",
    "2) AE = EA = A\n",
    "$$\n",
    "где А - исходная матрица,\n",
    "А^-1 - обратная матрица,\n",
    "E - единичная матрица"
   ]
  },
  {
   "cell_type": "markdown",
   "metadata": {},
   "source": [
    "Мы берем исходные фичи и умножаем на квадратную матрицу-ключ(рандомную) и получаем зашифрованные данные. Чтобы получить из этих данных мы зашифрованные данные умножаем на обратную матрицу ключа тем самым получая формулу (2)"
   ]
  },
  {
   "cell_type": "markdown",
   "metadata": {},
   "source": [
    "$$\n",
    "2) A = A*key*key^{-1} = A*E = A\n",
    "$$"
   ]
  },
  {
   "cell_type": "markdown",
   "metadata": {},
   "source": [
    "## Алгоритм преобразования"
   ]
  },
  {
   "cell_type": "markdown",
   "metadata": {},
   "source": [
    "Выделим фичи и таргет из ДФ"
   ]
  },
  {
   "cell_type": "code",
   "execution_count": 14,
   "metadata": {},
   "outputs": [],
   "source": [
    "features = df.drop('страховые_выплаты', axis=1)\n",
    "target = df['страховые_выплаты']"
   ]
  },
  {
   "cell_type": "code",
   "execution_count": 15,
   "metadata": {},
   "outputs": [
    {
     "data": {
      "text/html": [
       "<div>\n",
       "<style scoped>\n",
       "    .dataframe tbody tr th:only-of-type {\n",
       "        vertical-align: middle;\n",
       "    }\n",
       "\n",
       "    .dataframe tbody tr th {\n",
       "        vertical-align: top;\n",
       "    }\n",
       "\n",
       "    .dataframe thead th {\n",
       "        text-align: right;\n",
       "    }\n",
       "</style>\n",
       "<table border=\"1\" class=\"dataframe\">\n",
       "  <thead>\n",
       "    <tr style=\"text-align: right;\">\n",
       "      <th></th>\n",
       "      <th>пол</th>\n",
       "      <th>возраст</th>\n",
       "      <th>зарплата</th>\n",
       "      <th>члены_семьи</th>\n",
       "    </tr>\n",
       "  </thead>\n",
       "  <tbody>\n",
       "    <tr>\n",
       "      <th>0</th>\n",
       "      <td>1</td>\n",
       "      <td>41</td>\n",
       "      <td>49600</td>\n",
       "      <td>1</td>\n",
       "    </tr>\n",
       "    <tr>\n",
       "      <th>1</th>\n",
       "      <td>0</td>\n",
       "      <td>46</td>\n",
       "      <td>38000</td>\n",
       "      <td>1</td>\n",
       "    </tr>\n",
       "    <tr>\n",
       "      <th>2</th>\n",
       "      <td>0</td>\n",
       "      <td>29</td>\n",
       "      <td>21000</td>\n",
       "      <td>0</td>\n",
       "    </tr>\n",
       "    <tr>\n",
       "      <th>3</th>\n",
       "      <td>0</td>\n",
       "      <td>21</td>\n",
       "      <td>41700</td>\n",
       "      <td>2</td>\n",
       "    </tr>\n",
       "    <tr>\n",
       "      <th>4</th>\n",
       "      <td>1</td>\n",
       "      <td>28</td>\n",
       "      <td>26100</td>\n",
       "      <td>0</td>\n",
       "    </tr>\n",
       "    <tr>\n",
       "      <th>...</th>\n",
       "      <td>...</td>\n",
       "      <td>...</td>\n",
       "      <td>...</td>\n",
       "      <td>...</td>\n",
       "    </tr>\n",
       "    <tr>\n",
       "      <th>4995</th>\n",
       "      <td>0</td>\n",
       "      <td>28</td>\n",
       "      <td>35700</td>\n",
       "      <td>2</td>\n",
       "    </tr>\n",
       "    <tr>\n",
       "      <th>4996</th>\n",
       "      <td>0</td>\n",
       "      <td>34</td>\n",
       "      <td>52400</td>\n",
       "      <td>1</td>\n",
       "    </tr>\n",
       "    <tr>\n",
       "      <th>4997</th>\n",
       "      <td>0</td>\n",
       "      <td>20</td>\n",
       "      <td>33900</td>\n",
       "      <td>2</td>\n",
       "    </tr>\n",
       "    <tr>\n",
       "      <th>4998</th>\n",
       "      <td>1</td>\n",
       "      <td>22</td>\n",
       "      <td>32700</td>\n",
       "      <td>3</td>\n",
       "    </tr>\n",
       "    <tr>\n",
       "      <th>4999</th>\n",
       "      <td>1</td>\n",
       "      <td>28</td>\n",
       "      <td>40600</td>\n",
       "      <td>1</td>\n",
       "    </tr>\n",
       "  </tbody>\n",
       "</table>\n",
       "<p>5000 rows × 4 columns</p>\n",
       "</div>"
      ],
      "text/plain": [
       "      пол  возраст  зарплата  члены_семьи\n",
       "0       1       41     49600            1\n",
       "1       0       46     38000            1\n",
       "2       0       29     21000            0\n",
       "3       0       21     41700            2\n",
       "4       1       28     26100            0\n",
       "...   ...      ...       ...          ...\n",
       "4995    0       28     35700            2\n",
       "4996    0       34     52400            1\n",
       "4997    0       20     33900            2\n",
       "4998    1       22     32700            3\n",
       "4999    1       28     40600            1\n",
       "\n",
       "[5000 rows x 4 columns]"
      ]
     },
     "execution_count": 15,
     "metadata": {},
     "output_type": "execute_result"
    }
   ],
   "source": [
    "features"
   ]
  },
  {
   "cell_type": "markdown",
   "metadata": {},
   "source": [
    "Создадим класс шифровщик-дешифровщик"
   ]
  },
  {
   "cell_type": "code",
   "execution_count": 16,
   "metadata": {},
   "outputs": [],
   "source": [
    "class Coder_Decoder:\n",
    "    def __init__(self, coder_features):\n",
    "        self.coder_features = coder_features\n",
    "    def key_matrix(self):\n",
    "        self.__key = np.random.rand(self.coder_features.shape[1],self.coder_features.shape[1])    \n",
    "        try:\n",
    "            np.linalg.inv(self.__key) \n",
    "            #print('матрица ключ\\n',self.__key)\n",
    "            print('обратная матрица-ключ существует')\n",
    "        except:\n",
    "            print('обратной матрицы-ключа не существует')\n",
    "    def coder(self):\n",
    "        return self.coder_features.dot(self.__key)\n",
    "    def decoder(self,features_encrypted):\n",
    "        return features_encrypted.dot(np.linalg.inv(self.__key))"
   ]
  },
  {
   "cell_type": "code",
   "execution_count": 17,
   "metadata": {},
   "outputs": [],
   "source": [
    "obj = Coder_Decoder(features)"
   ]
  },
  {
   "cell_type": "code",
   "execution_count": 18,
   "metadata": {},
   "outputs": [
    {
     "name": "stdout",
     "output_type": "stream",
     "text": [
      "обратная матрица-ключ существует\n"
     ]
    }
   ],
   "source": [
    "np.random.seed(42)\n",
    "obj.key_matrix()"
   ]
  },
  {
   "cell_type": "code",
   "execution_count": 19,
   "metadata": {},
   "outputs": [],
   "source": [
    "features_encrypted = obj.coder(features)\n",
    "features_after_decoder = obj.decoder(features_encrypted)"
   ]
  },
  {
   "cell_type": "code",
   "execution_count": 20,
   "metadata": {},
   "outputs": [
    {
     "name": "stdout",
     "output_type": "stream",
     "text": [
      "закодированные данные\n"
     ]
    },
    {
     "data": {
      "text/html": [
       "<div>\n",
       "<style scoped>\n",
       "    .dataframe tbody tr th:only-of-type {\n",
       "        vertical-align: middle;\n",
       "    }\n",
       "\n",
       "    .dataframe tbody tr th {\n",
       "        vertical-align: top;\n",
       "    }\n",
       "\n",
       "    .dataframe thead th {\n",
       "        text-align: right;\n",
       "    }\n",
       "</style>\n",
       "<table border=\"1\" class=\"dataframe\">\n",
       "  <thead>\n",
       "    <tr style=\"text-align: right;\">\n",
       "      <th></th>\n",
       "      <th>0</th>\n",
       "      <th>1</th>\n",
       "      <th>2</th>\n",
       "      <th>3</th>\n",
       "    </tr>\n",
       "  </thead>\n",
       "  <tbody>\n",
       "    <tr>\n",
       "      <th>0</th>\n",
       "      <td>29822.908329</td>\n",
       "      <td>35127.958687</td>\n",
       "      <td>1024.286164</td>\n",
       "      <td>48143.823952</td>\n",
       "    </tr>\n",
       "    <tr>\n",
       "      <th>1</th>\n",
       "      <td>22850.379746</td>\n",
       "      <td>26914.146043</td>\n",
       "      <td>785.064454</td>\n",
       "      <td>36896.601889</td>\n",
       "    </tr>\n",
       "    <tr>\n",
       "      <th>2</th>\n",
       "      <td>12627.939787</td>\n",
       "      <td>14874.047975</td>\n",
       "      <td>433.958805</td>\n",
       "      <td>20393.226004</td>\n",
       "    </tr>\n",
       "    <tr>\n",
       "      <th>3</th>\n",
       "      <td>25071.437266</td>\n",
       "      <td>29530.327057</td>\n",
       "      <td>859.956818</td>\n",
       "      <td>40463.797343</td>\n",
       "    </tr>\n",
       "    <tr>\n",
       "      <th>4</th>\n",
       "      <td>15693.844869</td>\n",
       "      <td>18486.012841</td>\n",
       "      <td>539.613636</td>\n",
       "      <td>25339.498732</td>\n",
       "    </tr>\n",
       "  </tbody>\n",
       "</table>\n",
       "</div>"
      ],
      "text/plain": [
       "              0             1            2             3\n",
       "0  29822.908329  35127.958687  1024.286164  48143.823952\n",
       "1  22850.379746  26914.146043   785.064454  36896.601889\n",
       "2  12627.939787  14874.047975   433.958805  20393.226004\n",
       "3  25071.437266  29530.327057   859.956818  40463.797343\n",
       "4  15693.844869  18486.012841   539.613636  25339.498732"
      ]
     },
     "execution_count": 20,
     "metadata": {},
     "output_type": "execute_result"
    }
   ],
   "source": [
    "print('закодированные данные')\n",
    "features_encrypted.head()"
   ]
  },
  {
   "cell_type": "code",
   "execution_count": 21,
   "metadata": {},
   "outputs": [
    {
     "name": "stdout",
     "output_type": "stream",
     "text": [
      "данные, полученные дешифровкой\n"
     ]
    },
    {
     "data": {
      "text/html": [
       "<div>\n",
       "<style scoped>\n",
       "    .dataframe tbody tr th:only-of-type {\n",
       "        vertical-align: middle;\n",
       "    }\n",
       "\n",
       "    .dataframe tbody tr th {\n",
       "        vertical-align: top;\n",
       "    }\n",
       "\n",
       "    .dataframe thead th {\n",
       "        text-align: right;\n",
       "    }\n",
       "</style>\n",
       "<table border=\"1\" class=\"dataframe\">\n",
       "  <thead>\n",
       "    <tr style=\"text-align: right;\">\n",
       "      <th></th>\n",
       "      <th>0</th>\n",
       "      <th>1</th>\n",
       "      <th>2</th>\n",
       "      <th>3</th>\n",
       "    </tr>\n",
       "  </thead>\n",
       "  <tbody>\n",
       "    <tr>\n",
       "      <th>0</th>\n",
       "      <td>1</td>\n",
       "      <td>41</td>\n",
       "      <td>49600</td>\n",
       "      <td>1</td>\n",
       "    </tr>\n",
       "    <tr>\n",
       "      <th>1</th>\n",
       "      <td>0</td>\n",
       "      <td>46</td>\n",
       "      <td>38000</td>\n",
       "      <td>1</td>\n",
       "    </tr>\n",
       "    <tr>\n",
       "      <th>2</th>\n",
       "      <td>0</td>\n",
       "      <td>29</td>\n",
       "      <td>21000</td>\n",
       "      <td>0</td>\n",
       "    </tr>\n",
       "    <tr>\n",
       "      <th>3</th>\n",
       "      <td>0</td>\n",
       "      <td>21</td>\n",
       "      <td>41700</td>\n",
       "      <td>2</td>\n",
       "    </tr>\n",
       "    <tr>\n",
       "      <th>4</th>\n",
       "      <td>1</td>\n",
       "      <td>28</td>\n",
       "      <td>26100</td>\n",
       "      <td>0</td>\n",
       "    </tr>\n",
       "  </tbody>\n",
       "</table>\n",
       "</div>"
      ],
      "text/plain": [
       "   0   1      2  3\n",
       "0  1  41  49600  1\n",
       "1  0  46  38000  1\n",
       "2  0  29  21000  0\n",
       "3  0  21  41700  2\n",
       "4  1  28  26100  0"
      ]
     },
     "execution_count": 21,
     "metadata": {},
     "output_type": "execute_result"
    }
   ],
   "source": [
    "print('данные, полученные дешифровкой')\n",
    "np.around(features_after_decoder).astype('int32').head()"
   ]
  },
  {
   "cell_type": "code",
   "execution_count": 22,
   "metadata": {},
   "outputs": [
    {
     "name": "stdout",
     "output_type": "stream",
     "text": [
      "исходные данные, хранящиеся внутри класса\n"
     ]
    },
    {
     "data": {
      "text/html": [
       "<div>\n",
       "<style scoped>\n",
       "    .dataframe tbody tr th:only-of-type {\n",
       "        vertical-align: middle;\n",
       "    }\n",
       "\n",
       "    .dataframe tbody tr th {\n",
       "        vertical-align: top;\n",
       "    }\n",
       "\n",
       "    .dataframe thead th {\n",
       "        text-align: right;\n",
       "    }\n",
       "</style>\n",
       "<table border=\"1\" class=\"dataframe\">\n",
       "  <thead>\n",
       "    <tr style=\"text-align: right;\">\n",
       "      <th></th>\n",
       "      <th>пол</th>\n",
       "      <th>возраст</th>\n",
       "      <th>зарплата</th>\n",
       "      <th>члены_семьи</th>\n",
       "    </tr>\n",
       "  </thead>\n",
       "  <tbody>\n",
       "    <tr>\n",
       "      <th>0</th>\n",
       "      <td>1</td>\n",
       "      <td>41</td>\n",
       "      <td>49600</td>\n",
       "      <td>1</td>\n",
       "    </tr>\n",
       "    <tr>\n",
       "      <th>1</th>\n",
       "      <td>0</td>\n",
       "      <td>46</td>\n",
       "      <td>38000</td>\n",
       "      <td>1</td>\n",
       "    </tr>\n",
       "    <tr>\n",
       "      <th>2</th>\n",
       "      <td>0</td>\n",
       "      <td>29</td>\n",
       "      <td>21000</td>\n",
       "      <td>0</td>\n",
       "    </tr>\n",
       "    <tr>\n",
       "      <th>3</th>\n",
       "      <td>0</td>\n",
       "      <td>21</td>\n",
       "      <td>41700</td>\n",
       "      <td>2</td>\n",
       "    </tr>\n",
       "    <tr>\n",
       "      <th>4</th>\n",
       "      <td>1</td>\n",
       "      <td>28</td>\n",
       "      <td>26100</td>\n",
       "      <td>0</td>\n",
       "    </tr>\n",
       "  </tbody>\n",
       "</table>\n",
       "</div>"
      ],
      "text/plain": [
       "   пол  возраст  зарплата  члены_семьи\n",
       "0    1       41     49600            1\n",
       "1    0       46     38000            1\n",
       "2    0       29     21000            0\n",
       "3    0       21     41700            2\n",
       "4    1       28     26100            0"
      ]
     },
     "execution_count": 22,
     "metadata": {},
     "output_type": "execute_result"
    }
   ],
   "source": [
    "print('исходные данные, хранящиеся внутри класса')\n",
    "obj.coder_features.head()"
   ]
  },
  {
   "cell_type": "markdown",
   "metadata": {},
   "source": [
    "Проверим равны ли матрицы исходные и полученные путем дешифрования"
   ]
  },
  {
   "cell_type": "code",
   "execution_count": 23,
   "metadata": {},
   "outputs": [
    {
     "data": {
      "text/html": [
       "<div>\n",
       "<style scoped>\n",
       "    .dataframe tbody tr th:only-of-type {\n",
       "        vertical-align: middle;\n",
       "    }\n",
       "\n",
       "    .dataframe tbody tr th {\n",
       "        vertical-align: top;\n",
       "    }\n",
       "\n",
       "    .dataframe thead th {\n",
       "        text-align: right;\n",
       "    }\n",
       "</style>\n",
       "<table border=\"1\" class=\"dataframe\">\n",
       "  <thead>\n",
       "    <tr style=\"text-align: right;\">\n",
       "      <th></th>\n",
       "      <th>пол</th>\n",
       "      <th>возраст</th>\n",
       "      <th>зарплата</th>\n",
       "      <th>члены_семьи</th>\n",
       "    </tr>\n",
       "  </thead>\n",
       "  <tbody>\n",
       "    <tr>\n",
       "      <th>count</th>\n",
       "      <td>5000.000000</td>\n",
       "      <td>5000.000000</td>\n",
       "      <td>5000.000000</td>\n",
       "      <td>5000.000000</td>\n",
       "    </tr>\n",
       "    <tr>\n",
       "      <th>mean</th>\n",
       "      <td>0.499000</td>\n",
       "      <td>30.952800</td>\n",
       "      <td>39916.360000</td>\n",
       "      <td>1.194200</td>\n",
       "    </tr>\n",
       "    <tr>\n",
       "      <th>std</th>\n",
       "      <td>0.500049</td>\n",
       "      <td>8.440807</td>\n",
       "      <td>9900.083569</td>\n",
       "      <td>1.091387</td>\n",
       "    </tr>\n",
       "    <tr>\n",
       "      <th>min</th>\n",
       "      <td>0.000000</td>\n",
       "      <td>18.000000</td>\n",
       "      <td>5300.000000</td>\n",
       "      <td>0.000000</td>\n",
       "    </tr>\n",
       "    <tr>\n",
       "      <th>25%</th>\n",
       "      <td>0.000000</td>\n",
       "      <td>24.000000</td>\n",
       "      <td>33300.000000</td>\n",
       "      <td>0.000000</td>\n",
       "    </tr>\n",
       "    <tr>\n",
       "      <th>50%</th>\n",
       "      <td>0.000000</td>\n",
       "      <td>30.000000</td>\n",
       "      <td>40200.000000</td>\n",
       "      <td>1.000000</td>\n",
       "    </tr>\n",
       "    <tr>\n",
       "      <th>75%</th>\n",
       "      <td>1.000000</td>\n",
       "      <td>37.000000</td>\n",
       "      <td>46600.000000</td>\n",
       "      <td>2.000000</td>\n",
       "    </tr>\n",
       "    <tr>\n",
       "      <th>max</th>\n",
       "      <td>1.000000</td>\n",
       "      <td>65.000000</td>\n",
       "      <td>79000.000000</td>\n",
       "      <td>6.000000</td>\n",
       "    </tr>\n",
       "  </tbody>\n",
       "</table>\n",
       "</div>"
      ],
      "text/plain": [
       "               пол      возраст      зарплата  члены_семьи\n",
       "count  5000.000000  5000.000000   5000.000000  5000.000000\n",
       "mean      0.499000    30.952800  39916.360000     1.194200\n",
       "std       0.500049     8.440807   9900.083569     1.091387\n",
       "min       0.000000    18.000000   5300.000000     0.000000\n",
       "25%       0.000000    24.000000  33300.000000     0.000000\n",
       "50%       0.000000    30.000000  40200.000000     1.000000\n",
       "75%       1.000000    37.000000  46600.000000     2.000000\n",
       "max       1.000000    65.000000  79000.000000     6.000000"
      ]
     },
     "execution_count": 23,
     "metadata": {},
     "output_type": "execute_result"
    }
   ],
   "source": [
    "obj.coder_features.describe()"
   ]
  },
  {
   "cell_type": "code",
   "execution_count": 24,
   "metadata": {},
   "outputs": [
    {
     "data": {
      "text/html": [
       "<div>\n",
       "<style scoped>\n",
       "    .dataframe tbody tr th:only-of-type {\n",
       "        vertical-align: middle;\n",
       "    }\n",
       "\n",
       "    .dataframe tbody tr th {\n",
       "        vertical-align: top;\n",
       "    }\n",
       "\n",
       "    .dataframe thead th {\n",
       "        text-align: right;\n",
       "    }\n",
       "</style>\n",
       "<table border=\"1\" class=\"dataframe\">\n",
       "  <thead>\n",
       "    <tr style=\"text-align: right;\">\n",
       "      <th></th>\n",
       "      <th>0</th>\n",
       "      <th>1</th>\n",
       "      <th>2</th>\n",
       "      <th>3</th>\n",
       "    </tr>\n",
       "  </thead>\n",
       "  <tbody>\n",
       "    <tr>\n",
       "      <th>count</th>\n",
       "      <td>5000.000000</td>\n",
       "      <td>5000.000000</td>\n",
       "      <td>5000.000000</td>\n",
       "      <td>5000.000000</td>\n",
       "    </tr>\n",
       "    <tr>\n",
       "      <th>mean</th>\n",
       "      <td>0.499000</td>\n",
       "      <td>30.952800</td>\n",
       "      <td>39916.360000</td>\n",
       "      <td>1.194200</td>\n",
       "    </tr>\n",
       "    <tr>\n",
       "      <th>std</th>\n",
       "      <td>0.500049</td>\n",
       "      <td>8.440807</td>\n",
       "      <td>9900.083569</td>\n",
       "      <td>1.091387</td>\n",
       "    </tr>\n",
       "    <tr>\n",
       "      <th>min</th>\n",
       "      <td>0.000000</td>\n",
       "      <td>18.000000</td>\n",
       "      <td>5300.000000</td>\n",
       "      <td>0.000000</td>\n",
       "    </tr>\n",
       "    <tr>\n",
       "      <th>25%</th>\n",
       "      <td>0.000000</td>\n",
       "      <td>24.000000</td>\n",
       "      <td>33300.000000</td>\n",
       "      <td>0.000000</td>\n",
       "    </tr>\n",
       "    <tr>\n",
       "      <th>50%</th>\n",
       "      <td>0.000000</td>\n",
       "      <td>30.000000</td>\n",
       "      <td>40200.000000</td>\n",
       "      <td>1.000000</td>\n",
       "    </tr>\n",
       "    <tr>\n",
       "      <th>75%</th>\n",
       "      <td>1.000000</td>\n",
       "      <td>37.000000</td>\n",
       "      <td>46600.000000</td>\n",
       "      <td>2.000000</td>\n",
       "    </tr>\n",
       "    <tr>\n",
       "      <th>max</th>\n",
       "      <td>1.000000</td>\n",
       "      <td>65.000000</td>\n",
       "      <td>79000.000000</td>\n",
       "      <td>6.000000</td>\n",
       "    </tr>\n",
       "  </tbody>\n",
       "</table>\n",
       "</div>"
      ],
      "text/plain": [
       "                 0            1             2            3\n",
       "count  5000.000000  5000.000000   5000.000000  5000.000000\n",
       "mean      0.499000    30.952800  39916.360000     1.194200\n",
       "std       0.500049     8.440807   9900.083569     1.091387\n",
       "min       0.000000    18.000000   5300.000000     0.000000\n",
       "25%       0.000000    24.000000  33300.000000     0.000000\n",
       "50%       0.000000    30.000000  40200.000000     1.000000\n",
       "75%       1.000000    37.000000  46600.000000     2.000000\n",
       "max       1.000000    65.000000  79000.000000     6.000000"
      ]
     },
     "execution_count": 24,
     "metadata": {},
     "output_type": "execute_result"
    }
   ],
   "source": [
    "np.around(features_after_decoder).astype('int32').describe()"
   ]
  },
  {
   "cell_type": "markdown",
   "metadata": {},
   "source": [
    "Матрицы можно считать равными, т.к. размерности совпадают, элементы и распределение данных"
   ]
  },
  {
   "cell_type": "markdown",
   "metadata": {},
   "source": [
    "## Проверка алгоритма"
   ]
  },
  {
   "cell_type": "code",
   "execution_count": 26,
   "metadata": {},
   "outputs": [
    {
     "name": "stdout",
     "output_type": "stream",
     "text": [
      "исходный r2_score: 0.4231137691590766\n"
     ]
    }
   ],
   "source": [
    "model = LinearRegression()\n",
    "scores = cross_val_score(model, features, target, cv=5, scoring='r2', error_score='raise', n_jobs= -1)\n",
    "final_score_original = sum(scores) / len(scores) \n",
    "print('исходный r2_score:',final_score_original)"
   ]
  },
  {
   "cell_type": "code",
   "execution_count": 27,
   "metadata": {},
   "outputs": [
    {
     "name": "stdout",
     "output_type": "stream",
     "text": [
      "зашифрованный r2_score: 0.42311376915915383\n"
     ]
    }
   ],
   "source": [
    "model = LinearRegression()\n",
    "scores = cross_val_score(model, features_encrypted, target, cv=5, scoring='r2', error_score='raise', n_jobs= -1)\n",
    "final_score_encrypted = sum(scores) / len(scores) \n",
    "print('зашифрованный r2_score:',final_score_encrypted)"
   ]
  },
  {
   "cell_type": "code",
   "execution_count": 28,
   "metadata": {},
   "outputs": [
    {
     "name": "stdout",
     "output_type": "stream",
     "text": [
      "отношения метрик качества моделей обученных на исходных данных к зашифрованным 0.9999999999998175\n"
     ]
    }
   ],
   "source": [
    "print('отношения метрик качества моделей обученных на исходных данных к зашифрованным',final_score_original/final_score_encrypted)"
   ]
  },
  {
   "cell_type": "markdown",
   "metadata": {},
   "source": [
    "Метрики качества равны"
   ]
  },
  {
   "cell_type": "markdown",
   "metadata": {},
   "source": [
    "## Обоснование алгоритма и равенства метрик"
   ]
  },
  {
   "cell_type": "markdown",
   "metadata": {},
   "source": [
    "Предсказания:\n",
    "\n",
    "$$\n",
    "a = Xw\n",
    "$$\n",
    "\n",
    "Формула обучения:\n",
    "\n",
    "$$\n",
    "w = (X^T X)^{-1} X^T*y\n",
    "$$"
   ]
  },
  {
   "cell_type": "markdown",
   "metadata": {},
   "source": [
    "Домножим Х на нашу матрицу ключ K\n",
    "$$\n",
    "w = ((XK)^T XK)^{-1} (XK)^T y\n",
    "$$\n",
    "$$\n",
    "w = (K^{T}*[X^{T}*X]*K)^{-1}*(XK)^{T}*y\n",
    "$$\n",
    "$$\n",
    "w = K^{-1}*(X^{T}*X)^{-1}*[(K^{T})^{-1}*K^{T}]*X^{T}*y\n",
    "$$\n",
    "$$\n",
    "w = K^{-1}*(X^{T}*X)^{-1}*E*X^{T}*y\n",
    "$$\n",
    "$$\n",
    "w = K^{-1}*[(X^{T}*X)^{-1}*X^{T}*y]\n",
    "$$\n",
    "Соответственно исходная формуа обучения отличается от формулы обучения зашифрованной даты на множитель матрицы обратную ключу\n",
    "$$\n",
    "w(зашифрованная) = K^{-1}*w(исходная)\n",
    "$$"
   ]
  },
  {
   "cell_type": "markdown",
   "metadata": {},
   "source": [
    "Исходная:\n",
    "$$\n",
    "a(зашифр) = XKw(зашифр)\n",
    "$$\n",
    "Зашифрованная:\n",
    "$$\n",
    "a(зашифр) = XKw(зашифр) = X*K*K^{-1}*w(исходная) = X*E*w(исходная) = X*w(исходная)\n",
    "$$\n",
    "Итог:\n",
    "$$\n",
    "a(зашифрованная) = a(исходная)\n",
    "$$\n"
   ]
  },
  {
   "cell_type": "markdown",
   "metadata": {},
   "source": [
    "# Вывод"
   ]
  }
 ],
 "metadata": {
  "ExecuteTimeLog": [
   {
    "duration": 2118,
    "start_time": "2022-10-25T13:45:15.700Z"
   },
   {
    "duration": 107,
    "start_time": "2022-10-25T13:45:18.433Z"
   },
   {
    "duration": 15,
    "start_time": "2022-10-25T13:45:22.779Z"
   },
   {
    "duration": 942,
    "start_time": "2022-10-25T13:45:23.033Z"
   },
   {
    "duration": 4,
    "start_time": "2022-10-25T13:45:24.196Z"
   },
   {
    "duration": 13,
    "start_time": "2022-10-25T13:45:24.696Z"
   },
   {
    "duration": 16,
    "start_time": "2022-10-25T13:45:24.911Z"
   },
   {
    "duration": 25,
    "start_time": "2022-10-25T13:45:25.135Z"
   },
   {
    "duration": 6,
    "start_time": "2022-10-25T13:45:25.758Z"
   },
   {
    "duration": 12,
    "start_time": "2022-10-25T13:45:26.043Z"
   },
   {
    "duration": 241,
    "start_time": "2022-10-25T13:45:26.523Z"
   },
   {
    "duration": 4,
    "start_time": "2022-10-25T13:45:30.610Z"
   },
   {
    "duration": 12,
    "start_time": "2022-10-25T13:45:33.437Z"
   },
   {
    "duration": 5,
    "start_time": "2022-10-25T13:45:37.706Z"
   },
   {
    "duration": 146,
    "start_time": "2022-10-25T13:45:39.160Z"
   },
   {
    "duration": 5,
    "start_time": "2022-10-25T13:47:06.488Z"
   },
   {
    "duration": 10,
    "start_time": "2022-10-25T13:47:06.833Z"
   },
   {
    "duration": 5,
    "start_time": "2022-10-25T13:48:29.646Z"
   },
   {
    "duration": 9,
    "start_time": "2022-10-25T13:48:30.092Z"
   },
   {
    "duration": 6,
    "start_time": "2022-10-25T13:48:48.338Z"
   },
   {
    "duration": 16,
    "start_time": "2022-10-25T13:48:48.980Z"
   },
   {
    "duration": 4,
    "start_time": "2022-10-25T13:58:48.906Z"
   },
   {
    "duration": 9,
    "start_time": "2022-10-25T13:58:49.536Z"
   },
   {
    "duration": 12,
    "start_time": "2022-10-25T13:59:12.135Z"
   },
   {
    "duration": 110,
    "start_time": "2022-10-25T13:59:50.223Z"
   },
   {
    "duration": 12,
    "start_time": "2022-10-25T14:01:10.792Z"
   },
   {
    "duration": 5,
    "start_time": "2022-10-25T14:07:06.903Z"
   },
   {
    "duration": 11,
    "start_time": "2022-10-25T14:07:44.018Z"
   },
   {
    "duration": 15,
    "start_time": "2022-10-25T14:21:34.739Z"
   },
   {
    "duration": 15,
    "start_time": "2022-10-25T14:22:31.890Z"
   },
   {
    "duration": 8,
    "start_time": "2022-10-25T14:36:09.591Z"
   },
   {
    "duration": 1406,
    "start_time": "2022-10-26T14:19:38.617Z"
   },
   {
    "duration": 0,
    "start_time": "2022-10-26T14:19:40.025Z"
   },
   {
    "duration": 0,
    "start_time": "2022-10-26T14:19:40.028Z"
   },
   {
    "duration": 0,
    "start_time": "2022-10-26T14:19:40.029Z"
   },
   {
    "duration": 0,
    "start_time": "2022-10-26T14:19:40.030Z"
   },
   {
    "duration": 0,
    "start_time": "2022-10-26T14:19:40.031Z"
   },
   {
    "duration": 0,
    "start_time": "2022-10-26T14:19:40.032Z"
   },
   {
    "duration": 0,
    "start_time": "2022-10-26T14:19:40.033Z"
   },
   {
    "duration": 0,
    "start_time": "2022-10-26T14:19:40.035Z"
   },
   {
    "duration": 0,
    "start_time": "2022-10-26T14:19:40.035Z"
   },
   {
    "duration": 0,
    "start_time": "2022-10-26T14:19:40.036Z"
   },
   {
    "duration": 0,
    "start_time": "2022-10-26T14:19:40.038Z"
   },
   {
    "duration": 0,
    "start_time": "2022-10-26T14:19:40.039Z"
   },
   {
    "duration": 0,
    "start_time": "2022-10-26T14:19:40.041Z"
   },
   {
    "duration": 0,
    "start_time": "2022-10-26T14:19:40.042Z"
   },
   {
    "duration": 0,
    "start_time": "2022-10-26T14:19:40.044Z"
   },
   {
    "duration": 0,
    "start_time": "2022-10-26T14:19:40.045Z"
   },
   {
    "duration": 0,
    "start_time": "2022-10-26T14:19:40.047Z"
   },
   {
    "duration": 0,
    "start_time": "2022-10-26T14:19:40.048Z"
   },
   {
    "duration": 0,
    "start_time": "2022-10-26T14:19:40.049Z"
   },
   {
    "duration": 0,
    "start_time": "2022-10-26T14:19:40.051Z"
   },
   {
    "duration": 0,
    "start_time": "2022-10-26T14:19:40.052Z"
   },
   {
    "duration": 0,
    "start_time": "2022-10-26T14:19:40.053Z"
   },
   {
    "duration": 0,
    "start_time": "2022-10-26T14:19:40.055Z"
   },
   {
    "duration": 0,
    "start_time": "2022-10-26T14:19:40.056Z"
   },
   {
    "duration": 0,
    "start_time": "2022-10-26T14:19:40.110Z"
   },
   {
    "duration": 0,
    "start_time": "2022-10-26T14:19:40.111Z"
   },
   {
    "duration": 2422,
    "start_time": "2022-10-26T14:20:04.461Z"
   },
   {
    "duration": 1601,
    "start_time": "2022-10-26T14:20:06.885Z"
   },
   {
    "duration": 124,
    "start_time": "2022-10-26T14:20:08.488Z"
   },
   {
    "duration": 12,
    "start_time": "2022-10-26T14:20:08.614Z"
   },
   {
    "duration": 800,
    "start_time": "2022-10-26T14:20:08.627Z"
   },
   {
    "duration": 5,
    "start_time": "2022-10-26T14:20:09.428Z"
   },
   {
    "duration": 58,
    "start_time": "2022-10-26T14:20:09.435Z"
   },
   {
    "duration": 38,
    "start_time": "2022-10-26T14:20:09.494Z"
   },
   {
    "duration": 120,
    "start_time": "2022-10-26T14:20:09.534Z"
   },
   {
    "duration": 25,
    "start_time": "2022-10-26T14:20:09.657Z"
   },
   {
    "duration": 124,
    "start_time": "2022-10-26T14:20:09.684Z"
   },
   {
    "duration": 514,
    "start_time": "2022-10-26T14:20:09.810Z"
   },
   {
    "duration": 138,
    "start_time": "2022-10-26T14:20:10.326Z"
   },
   {
    "duration": 4,
    "start_time": "2022-10-26T14:20:10.465Z"
   },
   {
    "duration": 69,
    "start_time": "2022-10-26T14:20:10.470Z"
   },
   {
    "duration": 28,
    "start_time": "2022-10-26T14:20:10.541Z"
   },
   {
    "duration": 21,
    "start_time": "2022-10-26T14:20:10.570Z"
   },
   {
    "duration": 40,
    "start_time": "2022-10-26T14:20:10.593Z"
   },
   {
    "duration": 76,
    "start_time": "2022-10-26T14:20:10.635Z"
   },
   {
    "duration": 97,
    "start_time": "2022-10-26T14:20:10.713Z"
   },
   {
    "duration": 14,
    "start_time": "2022-10-26T14:20:10.812Z"
   },
   {
    "duration": 82,
    "start_time": "2022-10-26T14:20:10.832Z"
   },
   {
    "duration": 83,
    "start_time": "2022-10-26T14:20:10.916Z"
   },
   {
    "duration": 25,
    "start_time": "2022-10-26T14:20:11.000Z"
   },
   {
    "duration": 20,
    "start_time": "2022-10-26T14:20:11.026Z"
   },
   {
    "duration": 52,
    "start_time": "2022-10-26T14:20:11.048Z"
   },
   {
    "duration": 36,
    "start_time": "2022-10-26T14:20:11.101Z"
   },
   {
    "duration": 18,
    "start_time": "2022-10-26T14:20:11.140Z"
   },
   {
    "duration": 6,
    "start_time": "2022-10-26T14:26:18.087Z"
   },
   {
    "duration": 13,
    "start_time": "2022-10-26T14:27:04.414Z"
   },
   {
    "duration": 10,
    "start_time": "2022-10-26T14:27:17.746Z"
   },
   {
    "duration": 10,
    "start_time": "2022-10-26T14:27:37.555Z"
   },
   {
    "duration": 120,
    "start_time": "2022-10-26T14:28:41.891Z"
   },
   {
    "duration": 9,
    "start_time": "2022-10-26T14:29:52.000Z"
   },
   {
    "duration": 9,
    "start_time": "2022-10-26T14:30:00.290Z"
   },
   {
    "duration": 5,
    "start_time": "2022-10-26T14:30:30.582Z"
   },
   {
    "duration": 15,
    "start_time": "2022-10-26T14:30:31.043Z"
   },
   {
    "duration": 13,
    "start_time": "2022-10-26T14:30:32.009Z"
   },
   {
    "duration": 8,
    "start_time": "2022-10-26T14:30:33.337Z"
   },
   {
    "duration": 9,
    "start_time": "2022-10-26T14:30:54.034Z"
   },
   {
    "duration": 11,
    "start_time": "2022-10-26T14:31:07.129Z"
   },
   {
    "duration": 5,
    "start_time": "2022-10-26T14:32:11.173Z"
   },
   {
    "duration": 15,
    "start_time": "2022-10-26T14:32:11.895Z"
   },
   {
    "duration": 9,
    "start_time": "2022-10-26T14:32:13.780Z"
   },
   {
    "duration": 13,
    "start_time": "2022-10-26T14:32:14.444Z"
   },
   {
    "duration": 6,
    "start_time": "2022-10-26T14:32:19.024Z"
   },
   {
    "duration": 16,
    "start_time": "2022-10-26T14:32:25.643Z"
   },
   {
    "duration": 12,
    "start_time": "2022-10-26T14:32:33.803Z"
   },
   {
    "duration": 18,
    "start_time": "2022-10-26T14:33:01.351Z"
   },
   {
    "duration": 13,
    "start_time": "2022-10-26T14:33:23.428Z"
   },
   {
    "duration": 15,
    "start_time": "2022-10-26T14:33:58.768Z"
   },
   {
    "duration": 15,
    "start_time": "2022-10-26T14:34:12.626Z"
   },
   {
    "duration": 9,
    "start_time": "2022-10-26T14:34:22.675Z"
   },
   {
    "duration": 13,
    "start_time": "2022-10-26T14:34:23.139Z"
   },
   {
    "duration": 11,
    "start_time": "2022-10-26T14:34:32.379Z"
   },
   {
    "duration": 8,
    "start_time": "2022-10-26T14:34:54.367Z"
   },
   {
    "duration": 14,
    "start_time": "2022-10-26T14:36:08.674Z"
   },
   {
    "duration": 21,
    "start_time": "2022-10-26T14:40:22.608Z"
   },
   {
    "duration": 11,
    "start_time": "2022-10-26T14:41:04.882Z"
   },
   {
    "duration": 6,
    "start_time": "2022-10-26T14:42:09.444Z"
   },
   {
    "duration": 14,
    "start_time": "2022-10-26T14:42:09.970Z"
   },
   {
    "duration": 5,
    "start_time": "2022-10-26T14:42:45.691Z"
   },
   {
    "duration": 15,
    "start_time": "2022-10-26T14:42:46.065Z"
   },
   {
    "duration": 11,
    "start_time": "2022-10-26T14:42:52.060Z"
   },
   {
    "duration": 21,
    "start_time": "2022-10-26T14:50:10.605Z"
   },
   {
    "duration": 20,
    "start_time": "2022-10-26T14:51:41.960Z"
   },
   {
    "duration": 4,
    "start_time": "2022-10-26T14:51:57.444Z"
   },
   {
    "duration": 10,
    "start_time": "2022-10-26T14:51:59.244Z"
   },
   {
    "duration": 9,
    "start_time": "2022-10-26T14:52:11.636Z"
   },
   {
    "duration": 5,
    "start_time": "2022-10-26T14:52:24.730Z"
   },
   {
    "duration": 4,
    "start_time": "2022-10-26T14:53:35.628Z"
   },
   {
    "duration": 14,
    "start_time": "2022-10-26T14:53:36.457Z"
   },
   {
    "duration": 4,
    "start_time": "2022-10-26T14:54:19.369Z"
   },
   {
    "duration": 4,
    "start_time": "2022-10-26T14:54:24.153Z"
   },
   {
    "duration": 9,
    "start_time": "2022-10-26T14:54:24.418Z"
   },
   {
    "duration": 72,
    "start_time": "2022-10-26T14:54:32.546Z"
   },
   {
    "duration": 4,
    "start_time": "2022-10-26T14:55:04.134Z"
   },
   {
    "duration": 2091,
    "start_time": "2022-10-26T14:55:53.885Z"
   },
   {
    "duration": 1587,
    "start_time": "2022-10-26T14:55:55.979Z"
   },
   {
    "duration": 38,
    "start_time": "2022-10-26T14:55:57.571Z"
   },
   {
    "duration": 13,
    "start_time": "2022-10-26T14:55:57.612Z"
   },
   {
    "duration": 817,
    "start_time": "2022-10-26T14:55:57.627Z"
   },
   {
    "duration": 4,
    "start_time": "2022-10-26T14:55:58.446Z"
   },
   {
    "duration": 14,
    "start_time": "2022-10-26T14:55:58.451Z"
   },
   {
    "duration": 11,
    "start_time": "2022-10-26T14:55:58.467Z"
   },
   {
    "duration": 94,
    "start_time": "2022-10-26T14:55:58.479Z"
   },
   {
    "duration": 4,
    "start_time": "2022-10-26T14:55:58.575Z"
   },
   {
    "duration": 105,
    "start_time": "2022-10-26T14:55:58.581Z"
   },
   {
    "duration": 495,
    "start_time": "2022-10-26T14:55:58.688Z"
   },
   {
    "duration": 132,
    "start_time": "2022-10-26T14:55:59.186Z"
   },
   {
    "duration": 3,
    "start_time": "2022-10-26T14:55:59.320Z"
   },
   {
    "duration": 12,
    "start_time": "2022-10-26T14:55:59.325Z"
   },
   {
    "duration": 19,
    "start_time": "2022-10-26T15:24:54.010Z"
   },
   {
    "duration": 4,
    "start_time": "2022-10-26T15:25:05.757Z"
   }
  ],
  "kernelspec": {
   "display_name": "Python 3 (ipykernel)",
   "language": "python",
   "name": "python3"
  },
  "language_info": {
   "codemirror_mode": {
    "name": "ipython",
    "version": 3
   },
   "file_extension": ".py",
   "mimetype": "text/x-python",
   "name": "python",
   "nbconvert_exporter": "python",
   "pygments_lexer": "ipython3",
   "version": "3.9.12"
  },
  "toc": {
   "base_numbering": 1,
   "nav_menu": {},
   "number_sections": true,
   "sideBar": true,
   "skip_h1_title": true,
   "title_cell": "Содержание",
   "title_sidebar": "Contents",
   "toc_cell": true,
   "toc_position": {},
   "toc_section_display": true,
   "toc_window_display": true
  },
  "vscode": {
   "interpreter": {
    "hash": "1c8c03b3dd9f00cbf1a5a5c63c930805b828fbf388ffb63f05d8fe79c64b8236"
   }
  }
 },
 "nbformat": 4,
 "nbformat_minor": 2
}
