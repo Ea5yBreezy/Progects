{
 "cells": [
  {
   "cell_type": "markdown",
   "metadata": {},
   "source": [
    "<div style=\"border:solid Chocolate 2px; padding: 40px\">\n",
    "\n",
    "<b>Привет, Игорь!👋</b>\n",
    "\n",
    "Меня зовут Зуева Юлия, можно просто Юля 😏 Я буду ревьюером твоего проекта. Предлагаю обращаться на \"ты\", но если это неудобно, пожалуйста, скажи об этом!\n",
    "    \n",
    "Моя основная цель - помочь тебе стать компетентным Data Scientist'ом: вместе преодолеть трудности и еще больше развить твои сильные навыки 💪 Очень постараюсь сделать это как можно быстрее :) В твоей работе я оставила комментарии, которые должны в этом помочь. Для твоего удобства комментарии расскрашены разными цветами: \n",
    "\n",
    "<br/>\n",
    "\n",
    "<div class=\"alert alert-success\">\n",
    "<h2> Комментарий ревьюера <a class=\"tocSkip\"> </h2>\n",
    "\n",
    "<b>Все отлично!👍:</b> В случае, если решение на отдельном шаге является полностью правильным, или если я посчитаю нужным тебя за что-то похвалить. На такие решения можно опираться в будущих проектах.\n",
    "</div>\n",
    "\n",
    "<br/>\n",
    "\n",
    "<div class=\"alert alert-warning\">\n",
    "    <h2> Комментарий ревьюера <a class=\"tocSkip\"> </h2>\n",
    "    \n",
    "<b>Некоторые замечания и рекомендации💡:</b> В случае, когда решение на отдельном шаге станет еще лучше, если внести небольшие коррективы. Ты можешь учесть эти комментарии при выполнении будущих заданий или доработать проект сейчас (однако это не обязательно).\n",
    "</div>\n",
    "\n",
    "\n",
    "<br/>\n",
    "<div class=\"alert alert-block alert-danger\">\n",
    "<h2> Комментарий ревьюера <a class=\"tocSkip\"></h2>\n",
    "\n",
    "    \n",
    "<b>На доработку🤔:</b>\n",
    " В случае, когда решение на отдельном шаге требует существенной переработки и внесения правок. Напоминаю, что проект не может быть принят с первого раза, если ревью содержит комментарии, рекомендующие доработать шаги.\n",
    "</div>\n",
    "    \n",
    "\n",
    "\n",
    "Чтобы наша с тобой работа была еще эффективнее, ты точно так же можешь оставлять комментарии и задавать мне вопросы. Для таких случаев, пожалуйста, выбери собственное оформление комментариев, которое будет отличаться от моего, чтобы не создавалась путаница. По этой же причине попрошу тебя не удалять и не изменять мои комментарии. Все это позволит лучше ориентироваться в нашем с тобой диалоге, а повторную проверку (в случае ее необходимости) выполнять оперативнее 🚀\n",
    "\n",
    "Не спеши расстраиваться, если что-то не удалось с первого раза. Вместе мы обязательно разберемся со всеми трудностями! 🤓"
   ]
  },
  {
   "cell_type": "markdown",
   "metadata": {
    "toc": true
   },
   "source": [
    "<h1>Содержание<span class=\"tocSkip\"></span></h1>\n",
    "<div class=\"toc\"><ul class=\"toc-item\"><li><span><a href=\"#Загрузка-данных\" data-toc-modified-id=\"Загрузка-данных-1\"><span class=\"toc-item-num\">1&nbsp;&nbsp;</span>Загрузка данных</a></span><ul class=\"toc-item\"><li><span><a href=\"#✔-Комментарий-студента-V.0\" data-toc-modified-id=\"✔-Комментарий-студента-V.0-1.1\"><span class=\"toc-item-num\">1.1&nbsp;&nbsp;</span>✔ Комментарий студента V.0</a></span></li></ul></li><li><span><a href=\"#Умножение-матриц\" data-toc-modified-id=\"Умножение-матриц-2\"><span class=\"toc-item-num\">2&nbsp;&nbsp;</span>Умножение матриц</a></span></li><li><span><a href=\"#Алгоритм-преобразования\" data-toc-modified-id=\"Алгоритм-преобразования-3\"><span class=\"toc-item-num\">3&nbsp;&nbsp;</span>Алгоритм преобразования</a></span><ul class=\"toc-item\"><li><span><a href=\"#✔-Комментарий-студента-V.0\" data-toc-modified-id=\"✔-Комментарий-студента-V.0-3.1\"><span class=\"toc-item-num\">3.1&nbsp;&nbsp;</span>✔ Комментарий студента V.0</a></span></li><li><span><a href=\"#✔-Комментарий-студента-V.0\" data-toc-modified-id=\"✔-Комментарий-студента-V.0-3.2\"><span class=\"toc-item-num\">3.2&nbsp;&nbsp;</span>✔ Комментарий студента V.0</a></span></li><li><span><a href=\"#✔-Комментарий-студента-V.0\" data-toc-modified-id=\"✔-Комментарий-студента-V.0-3.3\"><span class=\"toc-item-num\">3.3&nbsp;&nbsp;</span>✔ Комментарий студента V.0</a></span></li></ul></li><li><span><a href=\"#Проверка-алгоритма\" data-toc-modified-id=\"Проверка-алгоритма-4\"><span class=\"toc-item-num\">4&nbsp;&nbsp;</span>Проверка алгоритма</a></span></li><li><span><a href=\"#Обоснование-алгоритма-и-равенства-метрик\" data-toc-modified-id=\"Обоснование-алгоритма-и-равенства-метрик-5\"><span class=\"toc-item-num\">5&nbsp;&nbsp;</span>Обоснование алгоритма и равенства метрик</a></span><ul class=\"toc-item\"><li><span><a href=\"#✔-Комментарий-студента-V.0\" data-toc-modified-id=\"✔-Комментарий-студента-V.0-5.1\"><span class=\"toc-item-num\">5.1&nbsp;&nbsp;</span>✔ Комментарий студента V.0</a></span></li><li><span><a href=\"#✔-Комментарий-студента-V.0\" data-toc-modified-id=\"✔-Комментарий-студента-V.0-5.2\"><span class=\"toc-item-num\">5.2&nbsp;&nbsp;</span>✔ Комментарий студента V.0</a></span></li></ul></li><li><span><a href=\"#Чек-лист-проверки\" data-toc-modified-id=\"Чек-лист-проверки-6\"><span class=\"toc-item-num\">6&nbsp;&nbsp;</span>Чек-лист проверки</a></span></li></ul></div>"
   ]
  },
  {
   "cell_type": "markdown",
   "metadata": {},
   "source": [
    "# Защита персональных данных клиентов"
   ]
  },
  {
   "cell_type": "markdown",
   "metadata": {},
   "source": [
    "**Описание проекта.**\n",
    "\n",
    "Вам нужно защитить данные клиентов страховой компании «Хоть потоп». Разработайте такой метод преобразования данных, чтобы по ним было сложно восстановить персональную информацию. Обоснуйте корректность его работы."
   ]
  },
  {
   "cell_type": "markdown",
   "metadata": {},
   "source": [
    "**Цель исследования** - Нужно защитить данные, чтобы при преобразовании качество моделей машинного обучения не ухудшилось. Подбирать наилучшую модель не требуется."
   ]
  },
  {
   "cell_type": "markdown",
   "metadata": {},
   "source": [
    "**Описание данных.**\n",
    " - `Пол` — пол клиента\n",
    " - `Возраст` — возраст клиента\n",
    " - `Зарплата` — зарплата клиента\n",
    " - `Члены семьи` — сколько членов семьи\n",
    " - `Страховые выплаты` — количество страховых выплат за 5 лет"
   ]
  },
  {
   "cell_type": "markdown",
   "metadata": {},
   "source": [
    "**Инструкция по выполнению проекта**\n",
    "<ol>\n",
    "<li>Загрузите и изучите данные.</li>\n",
    "<li>Ответьте на вопрос и обоснуйте решение.</li>\n",
    "<li>Признаки умножают на обратимую матрицу. Изменится ли качество линейной регрессии? (Её можно обучить заново.)</li>\n",
    "a. Изменится. Приведите примеры матриц.<br>\n",
    "b. Не изменится. Укажите, как связаны параметры линейной регрессии в исходной задаче и в преобразованной.\n",
    "<li>Предложите алгоритм преобразования данных для решения задачи. Обоснуйте, почему качество линейной регрессии не поменяется.</li>\n",
    "<li>Запрограммируйте этот алгоритм, применив матричные операции. Проверьте, что качество линейной регрессии из sklearn не отличается до и после преобразования. Примените метрику R2.</li>\n",
    "</ol>"
   ]
  },
  {
   "cell_type": "markdown",
   "metadata": {},
   "source": [
    "<div class=\"alert alert-success\">\n",
    "<h2> Комментарий ревьюера <a class=\"tocSkip\"> </h2> \n",
    "    \n",
    "<b>Все отлично! 👍:</b> \n",
    "    \n",
    "Очень хорошо, что помещаешь в начале проекта его описание! Любой, кто захочет взглянуть на работу, сможет сразу погрузиться в суть задачи :)"
   ]
  },
  {
   "cell_type": "markdown",
   "metadata": {},
   "source": [
    "## Загрузка данных"
   ]
  },
  {
   "cell_type": "code",
   "execution_count": 147,
   "metadata": {},
   "outputs": [],
   "source": [
    "import pandas as pd\n",
    "import numpy as np\n",
    "import seaborn as sns\n",
    "import matplotlib.pyplot as plt\n",
    "import warnings\n",
    "import phik\n",
    "from phik.report import plot_correlation_matrix\n",
    "from phik import report\n",
    "from sklearn.linear_model import LinearRegression\n",
    "from sklearn.metrics import r2_score\n",
    "from sklearn.model_selection import cross_val_score\n",
    "warnings.simplefilter(\"ignore\")"
   ]
  },
  {
   "cell_type": "code",
   "execution_count": 148,
   "metadata": {},
   "outputs": [
    {
     "name": "stdout",
     "output_type": "stream",
     "text": [
      "<class 'pandas.core.frame.DataFrame'>\n",
      "RangeIndex: 5000 entries, 0 to 4999\n",
      "Data columns (total 5 columns):\n",
      " #   Column             Non-Null Count  Dtype  \n",
      "---  ------             --------------  -----  \n",
      " 0   Пол                5000 non-null   int64  \n",
      " 1   Возраст            5000 non-null   float64\n",
      " 2   Зарплата           5000 non-null   float64\n",
      " 3   Члены семьи        5000 non-null   int64  \n",
      " 4   Страховые выплаты  5000 non-null   int64  \n",
      "dtypes: float64(2), int64(3)\n",
      "memory usage: 195.4 KB\n"
     ]
    }
   ],
   "source": [
    "try:\n",
    "    df = pd.read_csv('/DS/Yandex_Practikum/Projects/datasets/insurance.csv')\n",
    "except:\n",
    "    df = pd.read_csv('/datasets/insurance.csv')\n",
    "df.info()"
   ]
  },
  {
   "cell_type": "code",
   "execution_count": 149,
   "metadata": {},
   "outputs": [
    {
     "data": {
      "text/html": [
       "<div>\n",
       "<style scoped>\n",
       "    .dataframe tbody tr th:only-of-type {\n",
       "        vertical-align: middle;\n",
       "    }\n",
       "\n",
       "    .dataframe tbody tr th {\n",
       "        vertical-align: top;\n",
       "    }\n",
       "\n",
       "    .dataframe thead th {\n",
       "        text-align: right;\n",
       "    }\n",
       "</style>\n",
       "<table border=\"1\" class=\"dataframe\">\n",
       "  <thead>\n",
       "    <tr style=\"text-align: right;\">\n",
       "      <th></th>\n",
       "      <th>Пол</th>\n",
       "      <th>Возраст</th>\n",
       "      <th>Зарплата</th>\n",
       "      <th>Члены семьи</th>\n",
       "      <th>Страховые выплаты</th>\n",
       "    </tr>\n",
       "  </thead>\n",
       "  <tbody>\n",
       "    <tr>\n",
       "      <th>0</th>\n",
       "      <td>1</td>\n",
       "      <td>41.0</td>\n",
       "      <td>49600.0</td>\n",
       "      <td>1</td>\n",
       "      <td>0</td>\n",
       "    </tr>\n",
       "    <tr>\n",
       "      <th>1</th>\n",
       "      <td>0</td>\n",
       "      <td>46.0</td>\n",
       "      <td>38000.0</td>\n",
       "      <td>1</td>\n",
       "      <td>1</td>\n",
       "    </tr>\n",
       "    <tr>\n",
       "      <th>2</th>\n",
       "      <td>0</td>\n",
       "      <td>29.0</td>\n",
       "      <td>21000.0</td>\n",
       "      <td>0</td>\n",
       "      <td>0</td>\n",
       "    </tr>\n",
       "    <tr>\n",
       "      <th>3</th>\n",
       "      <td>0</td>\n",
       "      <td>21.0</td>\n",
       "      <td>41700.0</td>\n",
       "      <td>2</td>\n",
       "      <td>0</td>\n",
       "    </tr>\n",
       "    <tr>\n",
       "      <th>4</th>\n",
       "      <td>1</td>\n",
       "      <td>28.0</td>\n",
       "      <td>26100.0</td>\n",
       "      <td>0</td>\n",
       "      <td>0</td>\n",
       "    </tr>\n",
       "  </tbody>\n",
       "</table>\n",
       "</div>"
      ],
      "text/plain": [
       "   Пол  Возраст  Зарплата  Члены семьи  Страховые выплаты\n",
       "0    1     41.0   49600.0            1                  0\n",
       "1    0     46.0   38000.0            1                  1\n",
       "2    0     29.0   21000.0            0                  0\n",
       "3    0     21.0   41700.0            2                  0\n",
       "4    1     28.0   26100.0            0                  0"
      ]
     },
     "execution_count": 149,
     "metadata": {},
     "output_type": "execute_result"
    }
   ],
   "source": [
    "df.head()"
   ]
  },
  {
   "cell_type": "code",
   "execution_count": 150,
   "metadata": {
    "scrolled": true
   },
   "outputs": [
    {
     "data": {
      "image/png": "[encoded data removed]",
      "text/plain": [
       "<Figure size 1440x720 with 6 Axes>"
      ]
     },
     "metadata": {
      "needs_background": "light"
     },
     "output_type": "display_data"
    }
   ],
   "source": [
    "df.hist(bins = 50,figsize=(20,10))\n",
    "plt.show()"
   ]
  },
  {
   "cell_type": "markdown",
   "metadata": {},
   "source": [
    "Приведем названия столбцов к нижнему регистру"
   ]
  },
  {
   "cell_type": "code",
   "execution_count": 151,
   "metadata": {},
   "outputs": [],
   "source": [
    "df.columns = df.columns.str.lower()\n",
    "df.columns = [c.replace(' ', '_') for c in df.columns]"
   ]
  },
  {
   "cell_type": "code",
   "execution_count": 152,
   "metadata": {},
   "outputs": [
    {
     "data": {
      "text/html": [
       "<div>\n",
       "<style scoped>\n",
       "    .dataframe tbody tr th:only-of-type {\n",
       "        vertical-align: middle;\n",
       "    }\n",
       "\n",
       "    .dataframe tbody tr th {\n",
       "        vertical-align: top;\n",
       "    }\n",
       "\n",
       "    .dataframe thead th {\n",
       "        text-align: right;\n",
       "    }\n",
       "</style>\n",
       "<table border=\"1\" class=\"dataframe\">\n",
       "  <thead>\n",
       "    <tr style=\"text-align: right;\">\n",
       "      <th></th>\n",
       "      <th>пол</th>\n",
       "      <th>возраст</th>\n",
       "      <th>зарплата</th>\n",
       "      <th>члены_семьи</th>\n",
       "      <th>страховые_выплаты</th>\n",
       "    </tr>\n",
       "  </thead>\n",
       "  <tbody>\n",
       "    <tr>\n",
       "      <th>0</th>\n",
       "      <td>1</td>\n",
       "      <td>41.0</td>\n",
       "      <td>49600.0</td>\n",
       "      <td>1</td>\n",
       "      <td>0</td>\n",
       "    </tr>\n",
       "    <tr>\n",
       "      <th>1</th>\n",
       "      <td>0</td>\n",
       "      <td>46.0</td>\n",
       "      <td>38000.0</td>\n",
       "      <td>1</td>\n",
       "      <td>1</td>\n",
       "    </tr>\n",
       "    <tr>\n",
       "      <th>2</th>\n",
       "      <td>0</td>\n",
       "      <td>29.0</td>\n",
       "      <td>21000.0</td>\n",
       "      <td>0</td>\n",
       "      <td>0</td>\n",
       "    </tr>\n",
       "    <tr>\n",
       "      <th>3</th>\n",
       "      <td>0</td>\n",
       "      <td>21.0</td>\n",
       "      <td>41700.0</td>\n",
       "      <td>2</td>\n",
       "      <td>0</td>\n",
       "    </tr>\n",
       "    <tr>\n",
       "      <th>4</th>\n",
       "      <td>1</td>\n",
       "      <td>28.0</td>\n",
       "      <td>26100.0</td>\n",
       "      <td>0</td>\n",
       "      <td>0</td>\n",
       "    </tr>\n",
       "  </tbody>\n",
       "</table>\n",
       "</div>"
      ],
      "text/plain": [
       "   пол  возраст  зарплата  члены_семьи  страховые_выплаты\n",
       "0    1     41.0   49600.0            1                  0\n",
       "1    0     46.0   38000.0            1                  1\n",
       "2    0     29.0   21000.0            0                  0\n",
       "3    0     21.0   41700.0            2                  0\n",
       "4    1     28.0   26100.0            0                  0"
      ]
     },
     "execution_count": 152,
     "metadata": {},
     "output_type": "execute_result"
    }
   ],
   "source": [
    "df.head()"
   ]
  },
  {
   "cell_type": "code",
   "execution_count": 153,
   "metadata": {},
   "outputs": [
    {
     "data": {
      "text/html": [
       "<div>\n",
       "<style scoped>\n",
       "    .dataframe tbody tr th:only-of-type {\n",
       "        vertical-align: middle;\n",
       "    }\n",
       "\n",
       "    .dataframe tbody tr th {\n",
       "        vertical-align: top;\n",
       "    }\n",
       "\n",
       "    .dataframe thead th {\n",
       "        text-align: right;\n",
       "    }\n",
       "</style>\n",
       "<table border=\"1\" class=\"dataframe\">\n",
       "  <thead>\n",
       "    <tr style=\"text-align: right;\">\n",
       "      <th></th>\n",
       "      <th>пол</th>\n",
       "      <th>возраст</th>\n",
       "      <th>зарплата</th>\n",
       "      <th>члены_семьи</th>\n",
       "      <th>страховые_выплаты</th>\n",
       "    </tr>\n",
       "  </thead>\n",
       "  <tbody>\n",
       "  </tbody>\n",
       "</table>\n",
       "</div>"
      ],
      "text/plain": [
       "Empty DataFrame\n",
       "Columns: [пол, возраст, зарплата, члены_семьи, страховые_выплаты]\n",
       "Index: []"
      ]
     },
     "execution_count": 153,
     "metadata": {},
     "output_type": "execute_result"
    }
   ],
   "source": [
    "df.query('возраст % 1 !=0')"
   ]
  },
  {
   "cell_type": "code",
   "execution_count": 154,
   "metadata": {},
   "outputs": [
    {
     "data": {
      "text/html": [
       "<div>\n",
       "<style scoped>\n",
       "    .dataframe tbody tr th:only-of-type {\n",
       "        vertical-align: middle;\n",
       "    }\n",
       "\n",
       "    .dataframe tbody tr th {\n",
       "        vertical-align: top;\n",
       "    }\n",
       "\n",
       "    .dataframe thead th {\n",
       "        text-align: right;\n",
       "    }\n",
       "</style>\n",
       "<table border=\"1\" class=\"dataframe\">\n",
       "  <thead>\n",
       "    <tr style=\"text-align: right;\">\n",
       "      <th></th>\n",
       "      <th>пол</th>\n",
       "      <th>возраст</th>\n",
       "      <th>зарплата</th>\n",
       "      <th>члены_семьи</th>\n",
       "      <th>страховые_выплаты</th>\n",
       "    </tr>\n",
       "  </thead>\n",
       "  <tbody>\n",
       "    <tr>\n",
       "      <th>80</th>\n",
       "      <td>1</td>\n",
       "      <td>41.0</td>\n",
       "      <td>32700.0</td>\n",
       "      <td>0</td>\n",
       "      <td>0</td>\n",
       "    </tr>\n",
       "    <tr>\n",
       "      <th>159</th>\n",
       "      <td>1</td>\n",
       "      <td>19.0</td>\n",
       "      <td>64900.0</td>\n",
       "      <td>2</td>\n",
       "      <td>0</td>\n",
       "    </tr>\n",
       "    <tr>\n",
       "      <th>313</th>\n",
       "      <td>0</td>\n",
       "      <td>25.0</td>\n",
       "      <td>32700.0</td>\n",
       "      <td>1</td>\n",
       "      <td>0</td>\n",
       "    </tr>\n",
       "    <tr>\n",
       "      <th>392</th>\n",
       "      <td>1</td>\n",
       "      <td>43.0</td>\n",
       "      <td>32700.0</td>\n",
       "      <td>1</td>\n",
       "      <td>1</td>\n",
       "    </tr>\n",
       "    <tr>\n",
       "      <th>448</th>\n",
       "      <td>1</td>\n",
       "      <td>32.0</td>\n",
       "      <td>32700.0</td>\n",
       "      <td>2</td>\n",
       "      <td>0</td>\n",
       "    </tr>\n",
       "    <tr>\n",
       "      <th>772</th>\n",
       "      <td>1</td>\n",
       "      <td>20.0</td>\n",
       "      <td>65100.0</td>\n",
       "      <td>1</td>\n",
       "      <td>0</td>\n",
       "    </tr>\n",
       "    <tr>\n",
       "      <th>820</th>\n",
       "      <td>0</td>\n",
       "      <td>29.0</td>\n",
       "      <td>32200.0</td>\n",
       "      <td>2</td>\n",
       "      <td>0</td>\n",
       "    </tr>\n",
       "    <tr>\n",
       "      <th>872</th>\n",
       "      <td>0</td>\n",
       "      <td>23.0</td>\n",
       "      <td>32200.0</td>\n",
       "      <td>3</td>\n",
       "      <td>0</td>\n",
       "    </tr>\n",
       "    <tr>\n",
       "      <th>911</th>\n",
       "      <td>0</td>\n",
       "      <td>30.0</td>\n",
       "      <td>32200.0</td>\n",
       "      <td>0</td>\n",
       "      <td>0</td>\n",
       "    </tr>\n",
       "    <tr>\n",
       "      <th>963</th>\n",
       "      <td>1</td>\n",
       "      <td>20.0</td>\n",
       "      <td>64100.0</td>\n",
       "      <td>0</td>\n",
       "      <td>0</td>\n",
       "    </tr>\n",
       "    <tr>\n",
       "      <th>1020</th>\n",
       "      <td>1</td>\n",
       "      <td>36.0</td>\n",
       "      <td>32700.0</td>\n",
       "      <td>2</td>\n",
       "      <td>0</td>\n",
       "    </tr>\n",
       "    <tr>\n",
       "      <th>1078</th>\n",
       "      <td>0</td>\n",
       "      <td>34.0</td>\n",
       "      <td>32200.0</td>\n",
       "      <td>3</td>\n",
       "      <td>0</td>\n",
       "    </tr>\n",
       "    <tr>\n",
       "      <th>1336</th>\n",
       "      <td>1</td>\n",
       "      <td>19.0</td>\n",
       "      <td>32700.0</td>\n",
       "      <td>0</td>\n",
       "      <td>0</td>\n",
       "    </tr>\n",
       "    <tr>\n",
       "      <th>1485</th>\n",
       "      <td>1</td>\n",
       "      <td>41.0</td>\n",
       "      <td>32700.0</td>\n",
       "      <td>0</td>\n",
       "      <td>0</td>\n",
       "    </tr>\n",
       "    <tr>\n",
       "      <th>1486</th>\n",
       "      <td>1</td>\n",
       "      <td>50.0</td>\n",
       "      <td>32200.0</td>\n",
       "      <td>2</td>\n",
       "      <td>2</td>\n",
       "    </tr>\n",
       "    <tr>\n",
       "      <th>1847</th>\n",
       "      <td>1</td>\n",
       "      <td>31.0</td>\n",
       "      <td>32700.0</td>\n",
       "      <td>0</td>\n",
       "      <td>0</td>\n",
       "    </tr>\n",
       "    <tr>\n",
       "      <th>1981</th>\n",
       "      <td>0</td>\n",
       "      <td>21.0</td>\n",
       "      <td>32200.0</td>\n",
       "      <td>1</td>\n",
       "      <td>0</td>\n",
       "    </tr>\n",
       "    <tr>\n",
       "      <th>2191</th>\n",
       "      <td>1</td>\n",
       "      <td>22.0</td>\n",
       "      <td>32200.0</td>\n",
       "      <td>1</td>\n",
       "      <td>0</td>\n",
       "    </tr>\n",
       "    <tr>\n",
       "      <th>2287</th>\n",
       "      <td>1</td>\n",
       "      <td>40.0</td>\n",
       "      <td>32200.0</td>\n",
       "      <td>3</td>\n",
       "      <td>0</td>\n",
       "    </tr>\n",
       "    <tr>\n",
       "      <th>2342</th>\n",
       "      <td>1</td>\n",
       "      <td>25.0</td>\n",
       "      <td>32700.0</td>\n",
       "      <td>2</td>\n",
       "      <td>0</td>\n",
       "    </tr>\n",
       "    <tr>\n",
       "      <th>2385</th>\n",
       "      <td>1</td>\n",
       "      <td>36.0</td>\n",
       "      <td>32700.0</td>\n",
       "      <td>1</td>\n",
       "      <td>0</td>\n",
       "    </tr>\n",
       "    <tr>\n",
       "      <th>2439</th>\n",
       "      <td>1</td>\n",
       "      <td>44.0</td>\n",
       "      <td>32200.0</td>\n",
       "      <td>1</td>\n",
       "      <td>1</td>\n",
       "    </tr>\n",
       "    <tr>\n",
       "      <th>2443</th>\n",
       "      <td>1</td>\n",
       "      <td>25.0</td>\n",
       "      <td>32700.0</td>\n",
       "      <td>0</td>\n",
       "      <td>0</td>\n",
       "    </tr>\n",
       "    <tr>\n",
       "      <th>2805</th>\n",
       "      <td>0</td>\n",
       "      <td>47.0</td>\n",
       "      <td>32700.0</td>\n",
       "      <td>1</td>\n",
       "      <td>1</td>\n",
       "    </tr>\n",
       "    <tr>\n",
       "      <th>2994</th>\n",
       "      <td>1</td>\n",
       "      <td>29.0</td>\n",
       "      <td>32200.0</td>\n",
       "      <td>1</td>\n",
       "      <td>0</td>\n",
       "    </tr>\n",
       "    <tr>\n",
       "      <th>3063</th>\n",
       "      <td>0</td>\n",
       "      <td>24.0</td>\n",
       "      <td>64400.0</td>\n",
       "      <td>0</td>\n",
       "      <td>0</td>\n",
       "    </tr>\n",
       "    <tr>\n",
       "      <th>3139</th>\n",
       "      <td>1</td>\n",
       "      <td>43.0</td>\n",
       "      <td>32200.0</td>\n",
       "      <td>2</td>\n",
       "      <td>1</td>\n",
       "    </tr>\n",
       "    <tr>\n",
       "      <th>3352</th>\n",
       "      <td>1</td>\n",
       "      <td>23.0</td>\n",
       "      <td>32200.0</td>\n",
       "      <td>5</td>\n",
       "      <td>0</td>\n",
       "    </tr>\n",
       "    <tr>\n",
       "      <th>3466</th>\n",
       "      <td>0</td>\n",
       "      <td>22.0</td>\n",
       "      <td>32700.0</td>\n",
       "      <td>4</td>\n",
       "      <td>0</td>\n",
       "    </tr>\n",
       "    <tr>\n",
       "      <th>3499</th>\n",
       "      <td>1</td>\n",
       "      <td>22.0</td>\n",
       "      <td>65100.0</td>\n",
       "      <td>4</td>\n",
       "      <td>0</td>\n",
       "    </tr>\n",
       "    <tr>\n",
       "      <th>3614</th>\n",
       "      <td>1</td>\n",
       "      <td>24.0</td>\n",
       "      <td>32700.0</td>\n",
       "      <td>1</td>\n",
       "      <td>0</td>\n",
       "    </tr>\n",
       "    <tr>\n",
       "      <th>3717</th>\n",
       "      <td>0</td>\n",
       "      <td>34.0</td>\n",
       "      <td>32700.0</td>\n",
       "      <td>0</td>\n",
       "      <td>0</td>\n",
       "    </tr>\n",
       "    <tr>\n",
       "      <th>3788</th>\n",
       "      <td>0</td>\n",
       "      <td>46.0</td>\n",
       "      <td>32700.0</td>\n",
       "      <td>2</td>\n",
       "      <td>1</td>\n",
       "    </tr>\n",
       "    <tr>\n",
       "      <th>3824</th>\n",
       "      <td>1</td>\n",
       "      <td>37.0</td>\n",
       "      <td>32700.0</td>\n",
       "      <td>2</td>\n",
       "      <td>0</td>\n",
       "    </tr>\n",
       "    <tr>\n",
       "      <th>3938</th>\n",
       "      <td>1</td>\n",
       "      <td>23.0</td>\n",
       "      <td>32200.0</td>\n",
       "      <td>1</td>\n",
       "      <td>0</td>\n",
       "    </tr>\n",
       "    <tr>\n",
       "      <th>4182</th>\n",
       "      <td>0</td>\n",
       "      <td>27.0</td>\n",
       "      <td>32200.0</td>\n",
       "      <td>2</td>\n",
       "      <td>0</td>\n",
       "    </tr>\n",
       "    <tr>\n",
       "      <th>4520</th>\n",
       "      <td>0</td>\n",
       "      <td>18.0</td>\n",
       "      <td>32700.0</td>\n",
       "      <td>3</td>\n",
       "      <td>0</td>\n",
       "    </tr>\n",
       "    <tr>\n",
       "      <th>4833</th>\n",
       "      <td>0</td>\n",
       "      <td>24.0</td>\n",
       "      <td>32200.0</td>\n",
       "      <td>1</td>\n",
       "      <td>0</td>\n",
       "    </tr>\n",
       "    <tr>\n",
       "      <th>4935</th>\n",
       "      <td>1</td>\n",
       "      <td>19.0</td>\n",
       "      <td>32700.0</td>\n",
       "      <td>0</td>\n",
       "      <td>0</td>\n",
       "    </tr>\n",
       "    <tr>\n",
       "      <th>4998</th>\n",
       "      <td>1</td>\n",
       "      <td>22.0</td>\n",
       "      <td>32700.0</td>\n",
       "      <td>3</td>\n",
       "      <td>0</td>\n",
       "    </tr>\n",
       "  </tbody>\n",
       "</table>\n",
       "</div>"
      ],
      "text/plain": [
       "      пол  возраст  зарплата  члены_семьи  страховые_выплаты\n",
       "80      1     41.0   32700.0            0                  0\n",
       "159     1     19.0   64900.0            2                  0\n",
       "313     0     25.0   32700.0            1                  0\n",
       "392     1     43.0   32700.0            1                  1\n",
       "448     1     32.0   32700.0            2                  0\n",
       "772     1     20.0   65100.0            1                  0\n",
       "820     0     29.0   32200.0            2                  0\n",
       "872     0     23.0   32200.0            3                  0\n",
       "911     0     30.0   32200.0            0                  0\n",
       "963     1     20.0   64100.0            0                  0\n",
       "1020    1     36.0   32700.0            2                  0\n",
       "1078    0     34.0   32200.0            3                  0\n",
       "1336    1     19.0   32700.0            0                  0\n",
       "1485    1     41.0   32700.0            0                  0\n",
       "1486    1     50.0   32200.0            2                  2\n",
       "1847    1     31.0   32700.0            0                  0\n",
       "1981    0     21.0   32200.0            1                  0\n",
       "2191    1     22.0   32200.0            1                  0\n",
       "2287    1     40.0   32200.0            3                  0\n",
       "2342    1     25.0   32700.0            2                  0\n",
       "2385    1     36.0   32700.0            1                  0\n",
       "2439    1     44.0   32200.0            1                  1\n",
       "2443    1     25.0   32700.0            0                  0\n",
       "2805    0     47.0   32700.0            1                  1\n",
       "2994    1     29.0   32200.0            1                  0\n",
       "3063    0     24.0   64400.0            0                  0\n",
       "3139    1     43.0   32200.0            2                  1\n",
       "3352    1     23.0   32200.0            5                  0\n",
       "3466    0     22.0   32700.0            4                  0\n",
       "3499    1     22.0   65100.0            4                  0\n",
       "3614    1     24.0   32700.0            1                  0\n",
       "3717    0     34.0   32700.0            0                  0\n",
       "3788    0     46.0   32700.0            2                  1\n",
       "3824    1     37.0   32700.0            2                  0\n",
       "3938    1     23.0   32200.0            1                  0\n",
       "4182    0     27.0   32200.0            2                  0\n",
       "4520    0     18.0   32700.0            3                  0\n",
       "4833    0     24.0   32200.0            1                  0\n",
       "4935    1     19.0   32700.0            0                  0\n",
       "4998    1     22.0   32700.0            3                  0"
      ]
     },
     "execution_count": 154,
     "metadata": {},
     "output_type": "execute_result"
    }
   ],
   "source": [
    "df.query('зарплата % 1 !=0')"
   ]
  },
  {
   "cell_type": "markdown",
   "metadata": {},
   "source": [
    "Преобразуем столбы возраста и зарплаты в тип данных int, т.к. менее затратный формат данных."
   ]
  },
  {
   "cell_type": "code",
   "execution_count": 155,
   "metadata": {},
   "outputs": [],
   "source": [
    "df['возраст'] = df['возраст'].astype('int8')\n",
    "df['зарплата'] = np.around(df['зарплата']).astype('int32')"
   ]
  },
  {
   "cell_type": "code",
   "execution_count": 156,
   "metadata": {},
   "outputs": [
    {
     "name": "stdout",
     "output_type": "stream",
     "text": [
      "interval columns not set, guessing: ['пол', 'возраст', 'зарплата', 'члены_семьи', 'страховые_выплаты']\n"
     ]
    },
    {
     "data": {
      "text/html": [
       "<div>\n",
       "<style scoped>\n",
       "    .dataframe tbody tr th:only-of-type {\n",
       "        vertical-align: middle;\n",
       "    }\n",
       "\n",
       "    .dataframe tbody tr th {\n",
       "        vertical-align: top;\n",
       "    }\n",
       "\n",
       "    .dataframe thead th {\n",
       "        text-align: right;\n",
       "    }\n",
       "</style>\n",
       "<table border=\"1\" class=\"dataframe\">\n",
       "  <thead>\n",
       "    <tr style=\"text-align: right;\">\n",
       "      <th></th>\n",
       "      <th>пол</th>\n",
       "      <th>возраст</th>\n",
       "      <th>зарплата</th>\n",
       "      <th>члены_семьи</th>\n",
       "      <th>страховые_выплаты</th>\n",
       "    </tr>\n",
       "  </thead>\n",
       "  <tbody>\n",
       "    <tr>\n",
       "      <th>пол</th>\n",
       "      <td>1.00</td>\n",
       "      <td>0.00</td>\n",
       "      <td>0.00</td>\n",
       "      <td>0.0</td>\n",
       "      <td>0.03</td>\n",
       "    </tr>\n",
       "    <tr>\n",
       "      <th>возраст</th>\n",
       "      <td>0.00</td>\n",
       "      <td>1.00</td>\n",
       "      <td>0.07</td>\n",
       "      <td>0.0</td>\n",
       "      <td>0.88</td>\n",
       "    </tr>\n",
       "    <tr>\n",
       "      <th>зарплата</th>\n",
       "      <td>0.00</td>\n",
       "      <td>0.07</td>\n",
       "      <td>1.00</td>\n",
       "      <td>0.0</td>\n",
       "      <td>0.00</td>\n",
       "    </tr>\n",
       "    <tr>\n",
       "      <th>члены_семьи</th>\n",
       "      <td>0.00</td>\n",
       "      <td>0.00</td>\n",
       "      <td>0.00</td>\n",
       "      <td>1.0</td>\n",
       "      <td>0.00</td>\n",
       "    </tr>\n",
       "    <tr>\n",
       "      <th>страховые_выплаты</th>\n",
       "      <td>0.03</td>\n",
       "      <td>0.88</td>\n",
       "      <td>0.00</td>\n",
       "      <td>0.0</td>\n",
       "      <td>1.00</td>\n",
       "    </tr>\n",
       "  </tbody>\n",
       "</table>\n",
       "</div>"
      ],
      "text/plain": [
       "                    пол  возраст  зарплата  члены_семьи  страховые_выплаты\n",
       "пол                1.00     0.00      0.00          0.0               0.03\n",
       "возраст            0.00     1.00      0.07          0.0               0.88\n",
       "зарплата           0.00     0.07      1.00          0.0               0.00\n",
       "члены_семьи        0.00     0.00      0.00          1.0               0.00\n",
       "страховые_выплаты  0.03     0.88      0.00          0.0               1.00"
      ]
     },
     "execution_count": 156,
     "metadata": {},
     "output_type": "execute_result"
    }
   ],
   "source": [
    "phik_overview = df.phik_matrix()\n",
    "phik_overview.round(2)"
   ]
  },
  {
   "cell_type": "code",
   "execution_count": 157,
   "metadata": {},
   "outputs": [
    {
     "data": {
      "image/png": "[encoded data removed]",
      "text/plain": [
       "<Figure size 720x576 with 2 Axes>"
      ]
     },
     "metadata": {
      "needs_background": "light"
     },
     "output_type": "display_data"
    }
   ],
   "source": [
    "plot_correlation_matrix(phik_overview.to_numpy(),\n",
    "                        x_labels=phik_overview.columns, \n",
    "                        y_labels=phik_overview.index,\n",
    "                        vmin=0, vmax=1, color_map=\"Reds\", \n",
    "                        title=r\"correlation $\\phi_K$\", \n",
    "                        fontsize_factor=1.5, \n",
    "                        figsize=(10, 8))\n",
    "plt.tight_layout()"
   ]
  },
  {
   "cell_type": "code",
   "execution_count": 158,
   "metadata": {},
   "outputs": [
    {
     "data": {
      "image/png": "[encoded data removed]",
      "text/plain": [
       "<Figure size 504x504 with 1 Axes>"
      ]
     },
     "metadata": {
      "needs_background": "light"
     },
     "output_type": "display_data"
    }
   ],
   "source": [
    "plt.figure(figsize=(7,7))\n",
    "ax = sns.scatterplot(data = df, x = 'возраст', y = 'страховые_выплаты')\n",
    "plt.show()"
   ]
  },
  {
   "cell_type": "markdown",
   "metadata": {},
   "source": [
    "Наибольшую корреляцию с стаховыми выплатами имеет признак возраст, с остальными зависимость отсутствует."
   ]
  },
  {
   "cell_type": "markdown",
   "metadata": {},
   "source": [
    "<div class=\"alert alert-success\">\n",
    "<h2> Комментарий ревьюера <a class=\"tocSkip\"> </h2>\n",
    "\n",
    "<b>Отличная работа!👍:</b> \n",
    "\n",
    "Класс! С данными познакомились, можем двигаться дальше :)"
   ]
  },
  {
   "cell_type": "markdown",
   "metadata": {},
   "source": [
    "<div class=\"alert alert-warning\">\n",
    "    <h2> Комментарий ревьюера <a class=\"tocSkip\"> </h2>\n",
    "    \n",
    "<b>Некоторые замечания и рекомендации💡:</b> \n",
    "  \n",
    "        \n",
    "* Поскольку дальше в работе мы планируем использовать линейную регрессию, было бы интересно предварительно провести корреляционный анализ и посмотреть, как переменные взаимосвязаны между собой. В нашем проекте это не повлияет на дальнейшие действия, так как наша цель не в получении наиболее точных предсказаний и интерпретации результатов обучения, но все-таки сможет дать некоторые инсайты о том, что же повлияло на это качество.\n",
    "        \n",
    "        \n",
    "* У нас есть два признака, которые хранятся в типе данных float, хотя очень похожи на int (внеше и идеологически). Это возраст и зарплата. Float - достаточно ресурсотратный тип данных относительно int, различие особо ощутимо на очень крупных наборах данных. Поэтому можно задуматься о том, чтобы перевести какие-то значения в менее затратный формат int. Но прежде чем менять формат по-хорошему на всякий случай нужно убеждаться, не потеряем ли мы от такого перехода какой-то информации, необходимой для обучения (что если, например, у некоторых наблюдений зарплата указана в тысячах). Проверить это мы можем, изучив дробную часть этих признаков. Получить ее можно как остаток от деления на 1 (`3.45 % 1` = 0.45). Таким образом мы можем определить дробную часть сразу для всего вектора значений. После этого мы можем посмотреть максимальное и минимальное значение дробной части, или вывести все отличные от нуля значения, посчитать их количество.\n",
    "\n",
    "    Кстати, чтобы еще больше сократить объем занимаемой памяти, можно некоторые признаки перевести в еще менее затратные типы int8, int16, int32 (если это доступно). Подробнее <a href='https://pyprog.pro/data_types.html'>тут</a>."
   ]
  },
  {
   "cell_type": "markdown",
   "metadata": {},
   "source": [
    "<div class=\"alert alert-info\"; style=\"border-left: 8px solid blue\">\n",
    "<h3>✔ Комментарий студента V.0</h3> \n",
    "Привет, Юль! Подправил, спасибо!\n",
    "</div>  "
   ]
  },
  {
   "cell_type": "markdown",
   "metadata": {},
   "source": [
    "<div class=\"alert alert-warning\">\n",
    "    <h2> Комментарий ревьюера 2<a class=\"tocSkip\"> </h2>\n",
    "    \n",
    "<b>Некоторые замечания и рекомендации💡:</b> Здорово! Пара дополнительных рекомендаций:\n",
    "        \n",
    "        \n",
    "* Для наглядности удобно выводить матрицу корреляций в виде pandas таблицы с добавлением <a href = 'https://pandas.pydata.org/docs/user_guide/style.html'>расцветки</a>, либо в виде тепловой карты.\n",
    "        \n",
    "        \n",
    "* Функция corr() по дефолту считает корреляцию Пирсона. Но данный вид корреляции, во-первых, способен улавливать только линейные взаимосвязи, во-вторых, основан на предположениях, что переменные распределены нормально и однородны (представляют одну генеральную совокупность, не имеют выбросов), что далеко не всегда выполняется (как и в нашем случае, если проверить распределения). Нарушение данных предположений может приводить к некорректной оценке степени корреляции, что будет вводить нас в заблуждение. \n",
    "        \n",
    "    Помимо корреляции Пирсона интересно также проверять <a href = 'https://towardsdatascience.com/phik-k-get-familiar-with-the-latest-correlation-coefficient-9ba0032b37e7#:~:text=Phik%20(%F0%9D%9C%99k)%20is%20a%20new,a%20bivariate%20normal%20input%20distribution.'>Phik корреляцию</a>, у которой нет таких строгих предположений, и к тому же она способно улавливать нелинейные взаимосвязи, которые будут моделироваться в линейной регрессии немного иначе в зависимости от хараетера взаимосвязи."
   ]
  },
  {
   "cell_type": "markdown",
   "metadata": {},
   "source": [
    "<div class=\"alert alert-info\"; style=\"border-left: 8px solid blue\">\n",
    "<h3>✔ Комментарий студента V.1</h3> \n",
    "Посмтроил, спасибо! Как раз на днях досмотрел курс на степике от Карпова по статистике и там были ограничения по корреляции Пирсона\n",
    "</div>  "
   ]
  },
  {
   "cell_type": "markdown",
   "metadata": {},
   "source": [
    "## Умножение матриц"
   ]
  },
  {
   "cell_type": "markdown",
   "metadata": {},
   "source": [
    "**Алгоритм шифрования данных:**\n",
    "\n",
    "Для этого нам понадобится две формулы\n",
    "$$\n",
    "1) AA^{-1} = A^{-1}A = E\n",
    "$$\n",
    "$$\n",
    "2) AE = EA = A\n",
    "$$\n",
    "где А - исходная матрица,\n",
    "А^-1 - обратная матрица,\n",
    "E - единичная матрица"
   ]
  },
  {
   "cell_type": "markdown",
   "metadata": {},
   "source": [
    "Мы берем исходные фичи и умножаем на квадратную матрицу-ключ(рандомную) и получаем зашифрованные данные. Чтобы получить из этих данных мы зашифрованные данные умножаем на обратную матрицу ключа тем самым получая формулу (2)"
   ]
  },
  {
   "cell_type": "markdown",
   "metadata": {},
   "source": [
    "$$\n",
    "2) A = A*key*key^{-1} = A*E = A\n",
    "$$"
   ]
  },
  {
   "cell_type": "markdown",
   "metadata": {},
   "source": [
    "## Алгоритм преобразования"
   ]
  },
  {
   "cell_type": "markdown",
   "metadata": {},
   "source": [
    "Выделим фичи и таргет из ДФ"
   ]
  },
  {
   "cell_type": "code",
   "execution_count": 159,
   "metadata": {},
   "outputs": [],
   "source": [
    "features = df.drop('страховые_выплаты', axis=1)\n",
    "target = df['страховые_выплаты']"
   ]
  },
  {
   "cell_type": "code",
   "execution_count": 160,
   "metadata": {},
   "outputs": [
    {
     "data": {
      "text/html": [
       "<div>\n",
       "<style scoped>\n",
       "    .dataframe tbody tr th:only-of-type {\n",
       "        vertical-align: middle;\n",
       "    }\n",
       "\n",
       "    .dataframe tbody tr th {\n",
       "        vertical-align: top;\n",
       "    }\n",
       "\n",
       "    .dataframe thead th {\n",
       "        text-align: right;\n",
       "    }\n",
       "</style>\n",
       "<table border=\"1\" class=\"dataframe\">\n",
       "  <thead>\n",
       "    <tr style=\"text-align: right;\">\n",
       "      <th></th>\n",
       "      <th>пол</th>\n",
       "      <th>возраст</th>\n",
       "      <th>зарплата</th>\n",
       "      <th>члены_семьи</th>\n",
       "    </tr>\n",
       "  </thead>\n",
       "  <tbody>\n",
       "    <tr>\n",
       "      <th>0</th>\n",
       "      <td>1</td>\n",
       "      <td>41</td>\n",
       "      <td>49600</td>\n",
       "      <td>1</td>\n",
       "    </tr>\n",
       "    <tr>\n",
       "      <th>1</th>\n",
       "      <td>0</td>\n",
       "      <td>46</td>\n",
       "      <td>38000</td>\n",
       "      <td>1</td>\n",
       "    </tr>\n",
       "    <tr>\n",
       "      <th>2</th>\n",
       "      <td>0</td>\n",
       "      <td>29</td>\n",
       "      <td>21000</td>\n",
       "      <td>0</td>\n",
       "    </tr>\n",
       "    <tr>\n",
       "      <th>3</th>\n",
       "      <td>0</td>\n",
       "      <td>21</td>\n",
       "      <td>41700</td>\n",
       "      <td>2</td>\n",
       "    </tr>\n",
       "    <tr>\n",
       "      <th>4</th>\n",
       "      <td>1</td>\n",
       "      <td>28</td>\n",
       "      <td>26100</td>\n",
       "      <td>0</td>\n",
       "    </tr>\n",
       "    <tr>\n",
       "      <th>...</th>\n",
       "      <td>...</td>\n",
       "      <td>...</td>\n",
       "      <td>...</td>\n",
       "      <td>...</td>\n",
       "    </tr>\n",
       "    <tr>\n",
       "      <th>4995</th>\n",
       "      <td>0</td>\n",
       "      <td>28</td>\n",
       "      <td>35700</td>\n",
       "      <td>2</td>\n",
       "    </tr>\n",
       "    <tr>\n",
       "      <th>4996</th>\n",
       "      <td>0</td>\n",
       "      <td>34</td>\n",
       "      <td>52400</td>\n",
       "      <td>1</td>\n",
       "    </tr>\n",
       "    <tr>\n",
       "      <th>4997</th>\n",
       "      <td>0</td>\n",
       "      <td>20</td>\n",
       "      <td>33900</td>\n",
       "      <td>2</td>\n",
       "    </tr>\n",
       "    <tr>\n",
       "      <th>4998</th>\n",
       "      <td>1</td>\n",
       "      <td>22</td>\n",
       "      <td>32700</td>\n",
       "      <td>3</td>\n",
       "    </tr>\n",
       "    <tr>\n",
       "      <th>4999</th>\n",
       "      <td>1</td>\n",
       "      <td>28</td>\n",
       "      <td>40600</td>\n",
       "      <td>1</td>\n",
       "    </tr>\n",
       "  </tbody>\n",
       "</table>\n",
       "<p>5000 rows × 4 columns</p>\n",
       "</div>"
      ],
      "text/plain": [
       "      пол  возраст  зарплата  члены_семьи\n",
       "0       1       41     49600            1\n",
       "1       0       46     38000            1\n",
       "2       0       29     21000            0\n",
       "3       0       21     41700            2\n",
       "4       1       28     26100            0\n",
       "...   ...      ...       ...          ...\n",
       "4995    0       28     35700            2\n",
       "4996    0       34     52400            1\n",
       "4997    0       20     33900            2\n",
       "4998    1       22     32700            3\n",
       "4999    1       28     40600            1\n",
       "\n",
       "[5000 rows x 4 columns]"
      ]
     },
     "execution_count": 160,
     "metadata": {},
     "output_type": "execute_result"
    }
   ],
   "source": [
    "features"
   ]
  },
  {
   "cell_type": "markdown",
   "metadata": {},
   "source": [
    "Создадим класс шифровщик-дешифровщик"
   ]
  },
  {
   "cell_type": "code",
   "execution_count": 161,
   "metadata": {},
   "outputs": [],
   "source": [
    "class Coder_Decoder:\n",
    "    def __init__(self, coder_features):\n",
    "        self.coder_features = coder_features\n",
    "    def key_matrix(self):\n",
    "        self.__key = np.random.rand(features.shape[1],features.shape[1])    \n",
    "        try:\n",
    "            np.linalg.inv(self.__key) \n",
    "            #print('матрица ключ\\n',self.__key)\n",
    "            print('обратная матрица-ключ существует')\n",
    "        except:\n",
    "            return self.key_matrix()\n",
    "    def coder(self,features):\n",
    "        return self.coder_features.dot(self.__key)\n",
    "    def decoder(self,features_encrypted):\n",
    "        return features_encrypted.dot(np.linalg.inv(self.__key))"
   ]
  },
  {
   "cell_type": "code",
   "execution_count": 162,
   "metadata": {},
   "outputs": [],
   "source": [
    "obj = Coder_Decoder(features)"
   ]
  },
  {
   "cell_type": "code",
   "execution_count": 163,
   "metadata": {},
   "outputs": [
    {
     "name": "stdout",
     "output_type": "stream",
     "text": [
      "обратная матрица-ключ существует\n"
     ]
    }
   ],
   "source": [
    "np.random.seed(42)\n",
    "obj.key_matrix()"
   ]
  },
  {
   "cell_type": "code",
   "execution_count": 164,
   "metadata": {},
   "outputs": [],
   "source": [
    "features_encrypted = obj.coder(features)\n",
    "features_after_decoder = obj.decoder(features_encrypted)"
   ]
  },
  {
   "cell_type": "code",
   "execution_count": 177,
   "metadata": {},
   "outputs": [
    {
     "name": "stdout",
     "output_type": "stream",
     "text": [
      "закодированные данные\n"
     ]
    },
    {
     "data": {
      "text/html": [
       "<div>\n",
       "<style scoped>\n",
       "    .dataframe tbody tr th:only-of-type {\n",
       "        vertical-align: middle;\n",
       "    }\n",
       "\n",
       "    .dataframe tbody tr th {\n",
       "        vertical-align: top;\n",
       "    }\n",
       "\n",
       "    .dataframe thead th {\n",
       "        text-align: right;\n",
       "    }\n",
       "</style>\n",
       "<table border=\"1\" class=\"dataframe\">\n",
       "  <thead>\n",
       "    <tr style=\"text-align: right;\">\n",
       "      <th></th>\n",
       "      <th>0</th>\n",
       "      <th>1</th>\n",
       "      <th>2</th>\n",
       "      <th>3</th>\n",
       "    </tr>\n",
       "  </thead>\n",
       "  <tbody>\n",
       "    <tr>\n",
       "      <th>0</th>\n",
       "      <td>29822.908329</td>\n",
       "      <td>35127.958687</td>\n",
       "      <td>1024.286164</td>\n",
       "      <td>48143.823952</td>\n",
       "    </tr>\n",
       "    <tr>\n",
       "      <th>1</th>\n",
       "      <td>22850.379746</td>\n",
       "      <td>26914.146043</td>\n",
       "      <td>785.064454</td>\n",
       "      <td>36896.601889</td>\n",
       "    </tr>\n",
       "    <tr>\n",
       "      <th>2</th>\n",
       "      <td>12627.939787</td>\n",
       "      <td>14874.047975</td>\n",
       "      <td>433.958805</td>\n",
       "      <td>20393.226004</td>\n",
       "    </tr>\n",
       "    <tr>\n",
       "      <th>3</th>\n",
       "      <td>25071.437266</td>\n",
       "      <td>29530.327057</td>\n",
       "      <td>859.956818</td>\n",
       "      <td>40463.797343</td>\n",
       "    </tr>\n",
       "    <tr>\n",
       "      <th>4</th>\n",
       "      <td>15693.844869</td>\n",
       "      <td>18486.012841</td>\n",
       "      <td>539.613636</td>\n",
       "      <td>25339.498732</td>\n",
       "    </tr>\n",
       "  </tbody>\n",
       "</table>\n",
       "</div>"
      ],
      "text/plain": [
       "              0             1            2             3\n",
       "0  29822.908329  35127.958687  1024.286164  48143.823952\n",
       "1  22850.379746  26914.146043   785.064454  36896.601889\n",
       "2  12627.939787  14874.047975   433.958805  20393.226004\n",
       "3  25071.437266  29530.327057   859.956818  40463.797343\n",
       "4  15693.844869  18486.012841   539.613636  25339.498732"
      ]
     },
     "execution_count": 177,
     "metadata": {},
     "output_type": "execute_result"
    }
   ],
   "source": [
    "print('закодированные данные')\n",
    "features_encrypted.head()"
   ]
  },
  {
   "cell_type": "code",
   "execution_count": 178,
   "metadata": {},
   "outputs": [
    {
     "name": "stdout",
     "output_type": "stream",
     "text": [
      "данные, полученные дешифровкой\n"
     ]
    },
    {
     "data": {
      "text/html": [
       "<div>\n",
       "<style scoped>\n",
       "    .dataframe tbody tr th:only-of-type {\n",
       "        vertical-align: middle;\n",
       "    }\n",
       "\n",
       "    .dataframe tbody tr th {\n",
       "        vertical-align: top;\n",
       "    }\n",
       "\n",
       "    .dataframe thead th {\n",
       "        text-align: right;\n",
       "    }\n",
       "</style>\n",
       "<table border=\"1\" class=\"dataframe\">\n",
       "  <thead>\n",
       "    <tr style=\"text-align: right;\">\n",
       "      <th></th>\n",
       "      <th>0</th>\n",
       "      <th>1</th>\n",
       "      <th>2</th>\n",
       "      <th>3</th>\n",
       "    </tr>\n",
       "  </thead>\n",
       "  <tbody>\n",
       "    <tr>\n",
       "      <th>0</th>\n",
       "      <td>1</td>\n",
       "      <td>41</td>\n",
       "      <td>49600</td>\n",
       "      <td>1</td>\n",
       "    </tr>\n",
       "    <tr>\n",
       "      <th>1</th>\n",
       "      <td>0</td>\n",
       "      <td>46</td>\n",
       "      <td>38000</td>\n",
       "      <td>1</td>\n",
       "    </tr>\n",
       "    <tr>\n",
       "      <th>2</th>\n",
       "      <td>0</td>\n",
       "      <td>29</td>\n",
       "      <td>21000</td>\n",
       "      <td>0</td>\n",
       "    </tr>\n",
       "    <tr>\n",
       "      <th>3</th>\n",
       "      <td>0</td>\n",
       "      <td>21</td>\n",
       "      <td>41700</td>\n",
       "      <td>2</td>\n",
       "    </tr>\n",
       "    <tr>\n",
       "      <th>4</th>\n",
       "      <td>1</td>\n",
       "      <td>28</td>\n",
       "      <td>26100</td>\n",
       "      <td>0</td>\n",
       "    </tr>\n",
       "  </tbody>\n",
       "</table>\n",
       "</div>"
      ],
      "text/plain": [
       "   0   1      2  3\n",
       "0  1  41  49600  1\n",
       "1  0  46  38000  1\n",
       "2  0  29  21000  0\n",
       "3  0  21  41700  2\n",
       "4  1  28  26100  0"
      ]
     },
     "execution_count": 178,
     "metadata": {},
     "output_type": "execute_result"
    }
   ],
   "source": [
    "print('данные, полученные дешифровкой')\n",
    "np.around(features_after_decoder).astype('int32').head()"
   ]
  },
  {
   "cell_type": "code",
   "execution_count": 179,
   "metadata": {},
   "outputs": [
    {
     "name": "stdout",
     "output_type": "stream",
     "text": [
      "исходные данные, хранящиеся внутри класса\n"
     ]
    },
    {
     "data": {
      "text/html": [
       "<div>\n",
       "<style scoped>\n",
       "    .dataframe tbody tr th:only-of-type {\n",
       "        vertical-align: middle;\n",
       "    }\n",
       "\n",
       "    .dataframe tbody tr th {\n",
       "        vertical-align: top;\n",
       "    }\n",
       "\n",
       "    .dataframe thead th {\n",
       "        text-align: right;\n",
       "    }\n",
       "</style>\n",
       "<table border=\"1\" class=\"dataframe\">\n",
       "  <thead>\n",
       "    <tr style=\"text-align: right;\">\n",
       "      <th></th>\n",
       "      <th>пол</th>\n",
       "      <th>возраст</th>\n",
       "      <th>зарплата</th>\n",
       "      <th>члены_семьи</th>\n",
       "    </tr>\n",
       "  </thead>\n",
       "  <tbody>\n",
       "    <tr>\n",
       "      <th>0</th>\n",
       "      <td>1</td>\n",
       "      <td>41</td>\n",
       "      <td>49600</td>\n",
       "      <td>1</td>\n",
       "    </tr>\n",
       "    <tr>\n",
       "      <th>1</th>\n",
       "      <td>0</td>\n",
       "      <td>46</td>\n",
       "      <td>38000</td>\n",
       "      <td>1</td>\n",
       "    </tr>\n",
       "    <tr>\n",
       "      <th>2</th>\n",
       "      <td>0</td>\n",
       "      <td>29</td>\n",
       "      <td>21000</td>\n",
       "      <td>0</td>\n",
       "    </tr>\n",
       "    <tr>\n",
       "      <th>3</th>\n",
       "      <td>0</td>\n",
       "      <td>21</td>\n",
       "      <td>41700</td>\n",
       "      <td>2</td>\n",
       "    </tr>\n",
       "    <tr>\n",
       "      <th>4</th>\n",
       "      <td>1</td>\n",
       "      <td>28</td>\n",
       "      <td>26100</td>\n",
       "      <td>0</td>\n",
       "    </tr>\n",
       "  </tbody>\n",
       "</table>\n",
       "</div>"
      ],
      "text/plain": [
       "   пол  возраст  зарплата  члены_семьи\n",
       "0    1       41     49600            1\n",
       "1    0       46     38000            1\n",
       "2    0       29     21000            0\n",
       "3    0       21     41700            2\n",
       "4    1       28     26100            0"
      ]
     },
     "execution_count": 179,
     "metadata": {},
     "output_type": "execute_result"
    }
   ],
   "source": [
    "print('исходные данные, хранящиеся внутри класса')\n",
    "obj.coder_features.head()"
   ]
  },
  {
   "cell_type": "markdown",
   "metadata": {},
   "source": [
    "Проверим равны ли матрицы исходные и полученные путем дешифрования"
   ]
  },
  {
   "cell_type": "code",
   "execution_count": 183,
   "metadata": {},
   "outputs": [
    {
     "data": {
      "text/html": [
       "<div>\n",
       "<style scoped>\n",
       "    .dataframe tbody tr th:only-of-type {\n",
       "        vertical-align: middle;\n",
       "    }\n",
       "\n",
       "    .dataframe tbody tr th {\n",
       "        vertical-align: top;\n",
       "    }\n",
       "\n",
       "    .dataframe thead th {\n",
       "        text-align: right;\n",
       "    }\n",
       "</style>\n",
       "<table border=\"1\" class=\"dataframe\">\n",
       "  <thead>\n",
       "    <tr style=\"text-align: right;\">\n",
       "      <th></th>\n",
       "      <th>пол</th>\n",
       "      <th>возраст</th>\n",
       "      <th>зарплата</th>\n",
       "      <th>члены_семьи</th>\n",
       "    </tr>\n",
       "  </thead>\n",
       "  <tbody>\n",
       "    <tr>\n",
       "      <th>count</th>\n",
       "      <td>5000.000000</td>\n",
       "      <td>5000.000000</td>\n",
       "      <td>5000.000000</td>\n",
       "      <td>5000.000000</td>\n",
       "    </tr>\n",
       "    <tr>\n",
       "      <th>mean</th>\n",
       "      <td>0.499000</td>\n",
       "      <td>30.952800</td>\n",
       "      <td>39916.360000</td>\n",
       "      <td>1.194200</td>\n",
       "    </tr>\n",
       "    <tr>\n",
       "      <th>std</th>\n",
       "      <td>0.500049</td>\n",
       "      <td>8.440807</td>\n",
       "      <td>9900.083569</td>\n",
       "      <td>1.091387</td>\n",
       "    </tr>\n",
       "    <tr>\n",
       "      <th>min</th>\n",
       "      <td>0.000000</td>\n",
       "      <td>18.000000</td>\n",
       "      <td>5300.000000</td>\n",
       "      <td>0.000000</td>\n",
       "    </tr>\n",
       "    <tr>\n",
       "      <th>25%</th>\n",
       "      <td>0.000000</td>\n",
       "      <td>24.000000</td>\n",
       "      <td>33300.000000</td>\n",
       "      <td>0.000000</td>\n",
       "    </tr>\n",
       "    <tr>\n",
       "      <th>50%</th>\n",
       "      <td>0.000000</td>\n",
       "      <td>30.000000</td>\n",
       "      <td>40200.000000</td>\n",
       "      <td>1.000000</td>\n",
       "    </tr>\n",
       "    <tr>\n",
       "      <th>75%</th>\n",
       "      <td>1.000000</td>\n",
       "      <td>37.000000</td>\n",
       "      <td>46600.000000</td>\n",
       "      <td>2.000000</td>\n",
       "    </tr>\n",
       "    <tr>\n",
       "      <th>max</th>\n",
       "      <td>1.000000</td>\n",
       "      <td>65.000000</td>\n",
       "      <td>79000.000000</td>\n",
       "      <td>6.000000</td>\n",
       "    </tr>\n",
       "  </tbody>\n",
       "</table>\n",
       "</div>"
      ],
      "text/plain": [
       "               пол      возраст      зарплата  члены_семьи\n",
       "count  5000.000000  5000.000000   5000.000000  5000.000000\n",
       "mean      0.499000    30.952800  39916.360000     1.194200\n",
       "std       0.500049     8.440807   9900.083569     1.091387\n",
       "min       0.000000    18.000000   5300.000000     0.000000\n",
       "25%       0.000000    24.000000  33300.000000     0.000000\n",
       "50%       0.000000    30.000000  40200.000000     1.000000\n",
       "75%       1.000000    37.000000  46600.000000     2.000000\n",
       "max       1.000000    65.000000  79000.000000     6.000000"
      ]
     },
     "execution_count": 183,
     "metadata": {},
     "output_type": "execute_result"
    }
   ],
   "source": [
    "obj.coder_features.describe()"
   ]
  },
  {
   "cell_type": "code",
   "execution_count": 184,
   "metadata": {},
   "outputs": [
    {
     "data": {
      "text/html": [
       "<div>\n",
       "<style scoped>\n",
       "    .dataframe tbody tr th:only-of-type {\n",
       "        vertical-align: middle;\n",
       "    }\n",
       "\n",
       "    .dataframe tbody tr th {\n",
       "        vertical-align: top;\n",
       "    }\n",
       "\n",
       "    .dataframe thead th {\n",
       "        text-align: right;\n",
       "    }\n",
       "</style>\n",
       "<table border=\"1\" class=\"dataframe\">\n",
       "  <thead>\n",
       "    <tr style=\"text-align: right;\">\n",
       "      <th></th>\n",
       "      <th>0</th>\n",
       "      <th>1</th>\n",
       "      <th>2</th>\n",
       "      <th>3</th>\n",
       "    </tr>\n",
       "  </thead>\n",
       "  <tbody>\n",
       "    <tr>\n",
       "      <th>count</th>\n",
       "      <td>5000.000000</td>\n",
       "      <td>5000.000000</td>\n",
       "      <td>5000.000000</td>\n",
       "      <td>5000.000000</td>\n",
       "    </tr>\n",
       "    <tr>\n",
       "      <th>mean</th>\n",
       "      <td>0.499000</td>\n",
       "      <td>30.952800</td>\n",
       "      <td>39916.360000</td>\n",
       "      <td>1.194200</td>\n",
       "    </tr>\n",
       "    <tr>\n",
       "      <th>std</th>\n",
       "      <td>0.500049</td>\n",
       "      <td>8.440807</td>\n",
       "      <td>9900.083569</td>\n",
       "      <td>1.091387</td>\n",
       "    </tr>\n",
       "    <tr>\n",
       "      <th>min</th>\n",
       "      <td>0.000000</td>\n",
       "      <td>18.000000</td>\n",
       "      <td>5300.000000</td>\n",
       "      <td>0.000000</td>\n",
       "    </tr>\n",
       "    <tr>\n",
       "      <th>25%</th>\n",
       "      <td>0.000000</td>\n",
       "      <td>24.000000</td>\n",
       "      <td>33300.000000</td>\n",
       "      <td>0.000000</td>\n",
       "    </tr>\n",
       "    <tr>\n",
       "      <th>50%</th>\n",
       "      <td>0.000000</td>\n",
       "      <td>30.000000</td>\n",
       "      <td>40200.000000</td>\n",
       "      <td>1.000000</td>\n",
       "    </tr>\n",
       "    <tr>\n",
       "      <th>75%</th>\n",
       "      <td>1.000000</td>\n",
       "      <td>37.000000</td>\n",
       "      <td>46600.000000</td>\n",
       "      <td>2.000000</td>\n",
       "    </tr>\n",
       "    <tr>\n",
       "      <th>max</th>\n",
       "      <td>1.000000</td>\n",
       "      <td>65.000000</td>\n",
       "      <td>79000.000000</td>\n",
       "      <td>6.000000</td>\n",
       "    </tr>\n",
       "  </tbody>\n",
       "</table>\n",
       "</div>"
      ],
      "text/plain": [
       "                 0            1             2            3\n",
       "count  5000.000000  5000.000000   5000.000000  5000.000000\n",
       "mean      0.499000    30.952800  39916.360000     1.194200\n",
       "std       0.500049     8.440807   9900.083569     1.091387\n",
       "min       0.000000    18.000000   5300.000000     0.000000\n",
       "25%       0.000000    24.000000  33300.000000     0.000000\n",
       "50%       0.000000    30.000000  40200.000000     1.000000\n",
       "75%       1.000000    37.000000  46600.000000     2.000000\n",
       "max       1.000000    65.000000  79000.000000     6.000000"
      ]
     },
     "execution_count": 184,
     "metadata": {},
     "output_type": "execute_result"
    }
   ],
   "source": [
    "np.around(features_after_decoder).astype('int32').describe()"
   ]
  },
  {
   "cell_type": "markdown",
   "metadata": {},
   "source": [
    "Матрицы можно считать равными, т.к. размерности совпадают, элементы и распределение данных"
   ]
  },
  {
   "cell_type": "markdown",
   "metadata": {},
   "source": [
    "<div class=\"alert alert-info\"; style=\"border-left: 8px solid blue\">\n",
    "<h3>✔ Комментарий студента V.1</h3> \n",
    "Кать, вроде работает, хотя не понимаю почему =/. Да и ключ не вытащить от туда, что хорошо. Я пробовал убирать инит, добавлять аргумент в класс и все время выдавало ошибки. Да и проверочку сделал вроде так, как ты подсказала.\n",
    "</div>  "
   ]
  },
  {
   "cell_type": "code",
   "execution_count": null,
   "metadata": {},
   "outputs": [],
   "source": [
    "''''\n",
    "class Coder_Decoder(features):\n",
    "    def key_matrix(self):\n",
    "        self.__key = np.random.rand(features.shape[1],features.shape[1])    \n",
    "        try:\n",
    "            np.linalg.inv(self.__key) \n",
    "            #print('матрица ключ\\n',self.__key)\n",
    "            print('обратная матрица-ключ существует')\n",
    "        except:\n",
    "            return self.key_matrix()\n",
    "    def coder(self,features):\n",
    "        return self.features.dot(self.__key)\n",
    "    def decoder(self,features_encrypted):\n",
    "        return features_encrypted.dot(np.linalg.inv(self.__key))\n",
    "'''"
   ]
  },
  {
   "cell_type": "markdown",
   "metadata": {},
   "source": [
    " Buffer has wrong number of dimensions (expected 1, got 3)"
   ]
  },
  {
   "cell_type": "markdown",
   "metadata": {},
   "source": [
    "<div class=\"alert alert-success\">\n",
    "<h2> Комментарий ревьюера <a class=\"tocSkip\"> </h2>\n",
    "\n",
    "<b>Отличная работа!👍:</b> \n",
    "    \n",
    "Здорово, что фиксируешь random state! Когда в работе используются случайности (как здесь при генерации матрицы, или, например, когда мы случайно делим выборку на тестовую и тренировочную), нам важно использовать фиксированный random state, чтобы спустя время мы могли воспроизвести тот же самый результат. Так у нас будет возможность восстановить ключ шифрования, если мы его потеряем (без ключа мы бы не смогли расшифровать данные). \n",
    "    \n",
    "Кстати, самое излюбленное число для random state - это 42, ответ на главный вопрос жизни, вселенной и всего такого (из книги Дугласа Адамса «Путеводитель для путешествующих автостопом по галактике») :)"
   ]
  },
  {
   "cell_type": "markdown",
   "metadata": {},
   "source": [
    "<div class=\"alert alert-warning\">\n",
    "    <h2> Комментарий ревьюера <a class=\"tocSkip\"> </h2>\n",
    "    \n",
    "<b>Некоторые замечания и рекомендации💡:</b> \n",
    "        \n",
    "Круто, что проверяешь матрицу на обратимость! Можно усовершенствовать этот шаг, создав алгоритм, который способен гарантированно выдавать обратимую матрицу. Это можно сделать несколькими способами. \n",
    "\n",
    "1. Рекурсивная функция с конструкцией try-except: внутри функции производится генерация, затем для проверки ее на обратимость мы переходим в блок `try` и пытаемся найти обратную матрицу, если при `try` все успешно, то функция прямо там и делает `return` (если на какой-то строке раздела `try` возникает ошибка, то функция не смотрит следующие строки, а срвзу выходит из `try`), если матрица оказывается необратима, то функция переходит в раздел `except`, в котором вызывает саму себя же (обязательно через `return`).  \n",
    "\n",
    "2. Зацикливание проверки на обратимость: внутри функции запускается цикл `while` с проверкой условия неравенства определителя нулю или со сравнением значения ранга и размера матрицы, если матрица не проходит проверку, то цикл переходит на следующую итерацию, где генерирует новую матрицу. Мы не сможем выйти из цикла, пока матрица не пройдет проверку успешно.\n",
    "\n",
    "Важное замечание: при итеративной генерации (любым из способов выше) внутри алгоритма не должен перезадаваться random state, иначе на каждой итерации мы будем получать одну и ту же матрицу. Чтобы этого избежать, мы можем задавать random state за пределами алогоритма."
   ]
  },
  {
   "cell_type": "markdown",
   "metadata": {},
   "source": [
    "<div class=\"alert alert-info\"; style=\"border-left: 8px solid blue\">\n",
    "<h3>✔ Комментарий студента V.0</h3> \n",
    "Не выходит запустить код, не пойму как сделать надо =(. При использовании то try except сид не нужен же, верно? Если он должен перебирать рандомные матрицы пока не получит ту, из ктр можно сделать обратную.\n",
    "</div>  "
   ]
  },
  {
   "cell_type": "markdown",
   "metadata": {},
   "source": [
    "<div class=\"alert alert-warning\">\n",
    "    <h2> Комментарий ревьюера 2<a class=\"tocSkip\"> </h2>\n",
    "    \n",
    "<b>Некоторые замечания и рекомендации💡:</b> \n",
    "        \n",
    "1. Первая ошибка возникает из-за того, что ты в `__init__` добавил признаки. `__init__` запускается автоматически при создании объекта (как только ты запускаешь `Coder_Decoder()`), и поскольку у аргумента `coder_features` в `__init__` не задано никакого дефолтного значения, без его указания при создании объекта `__init__` не может выполниться (выдает ошибку, что пропущен аргумент). Чтобы исправить, либо задаем признаки при создании объекта (`Coder_Decoder(features)`), либо не создаем `__init__` так, чтобы он требовал этот аргумент (тогда по идее в твоем случае `__init__` уже и не нужен будет, если ты больше ничего не хочешь загружать автоматически при создании объекта). \n",
    "        \n",
    "    Я бы на твоем месте все-таки загружала признаки сразу, чтобы созданный наш объект и ключи внутри него подходили только под одну матрицу признаков (если захотим создать для другой матрицы призаков, просто запустим так же класс с новыми признаками, сохранив объект в другую переменную). При этом, раз признаки уже будут храниться в объекте, их не нужно дополнительно передавать при вызове функции `coder()` (если сейчас посмотришь, то `features`, которые ты передаешь аргументом этой функции внутри тела самой функции у тебя никак не задействованы, ты все равно обращаешься к `self.coder_features`).\n",
    "        \n",
    "        \n",
    "2. Вторая проблема, с которой ты столкнешься после исправления первой - это то, что функция для создания ключа у тебя существует, но она нигде не запускается, поэтому ключ не создается. Нужно либо прописать автоматический запуск функции внутри тела функции `coder()`, либо производить запуск генерации ключа самостоятельно, то есть мы сначала создаем объект с нашими признаками `obj = Coder_Decoder(features)`, затем в отдельной строке мы запускаем генерацию ключа `obj.key_matrix()`, таким образом у нас внутри нашего объекта создается b сохраняется ключ `__key` (так как у нас прописано его сохранение в self), это значит, что теперь мы можем обращаться к этому объекту при выполнении других функций объекта. После этого уже можем произвести шифрование и сохранить его результат: `features_encrypted = obj.coder()`.\n",
    "        \n",
    "        \n",
    "3. Еще одна проблема возникнет при попытке расшифровать данные: поскольку у тебя нигде не был сохранен сам объект (как у меня в пункте выше `obj`), то когда ты пытаешься заново обратиться к классу `Coder_Decoder`, ты обращаешься к уже совершенно новому пустому объекту, который ничего не знает ни про наши признаки, ни про ключи. Чтобы решить проблему в продолжение примера выше мы должны вызывать функцию декодирования от нашего изначального объекта: `obj.decoder(features_encrypted)`.\n",
    "        \n",
    "        \n",
    "4. Еще одна проблема кроется в самой генерации ключа: она будет работать до тех пор, пока не появится необратимая матрица, и не придется перейти в раздел except. Если ты указываешь `return key_matrix()`, то алгоритм будет пытаться найти функцию `key_matrix` среди глобальных объектов, но ее скорее всего существовать не будет, ведь мы задаем ее тольео локально внутри класса, поэтому она тоже явлется частью `self` и обращаться к ней нужно соответствующе.\n",
    "        \n",
    "        \n",
    "Дополнительные рекомендации:\n",
    "        \n",
    "* Размер матрицы лучше определять автоматически по количеству столбцов передаваемой матрицы признаков, иначе наш класс подходит только для шифрования матриц с 4 столбцами.\n",
    "        \n",
    "        \n",
    "* random_state все-таки лучше задать, вдруг мы потеряем объект `obj` с хранящимся в нем ключем. Нужно иметь возможность его восстановить.\n",
    "        \n",
    "        \n",
    "* Поскольку сейчас при расшифровке ты самостоятельно передаешь зашифрованные данные, а не хранишь и обращаешься к зашифрованным данным внктри объекта, то было бы неплохо еще реализовать проверку того, что ты применил расшифровку к той же матрице признаков (или ее части, на случай если у нас будет разделение на тестовую и тренировочную). То есть можно конечно выдавать результат перемножения на ключ, но также дополнительно печатать сопроводительное пояснение, совпало ли содержание расшифрованного объекта с исходными данными, которые хранятся внутри объекта."
   ]
  },
  {
   "cell_type": "markdown",
   "metadata": {},
   "source": [
    "Получаем зашифрованные данные"
   ]
  },
  {
   "cell_type": "markdown",
   "metadata": {},
   "source": [
    "<div class=\"alert alert-warning\">\n",
    "<h2> Комментарий ревьюера <a class=\"tocSkip\"> </h2>\n",
    "    \n",
    "<b>Некоторые замечания и рекомендации💡:</b> \n",
    "    \n",
    "На будущее хочу предостеречь: в питоне есть несколько способов получить произведение матриц (`numpy.dot()`, `numpy.multiply()`, `numpy.matmul()`, через операторы  `*` и `@`), но нужно учитывать, что результаты некоторых из них могут отличаться.\n",
    "\n",
    "* `numpy.multiply()` - это поэлементное перемножение матриц (новая матрица заполняется произведениями элементов с одинаковыми индексами), аналог оператора `*`\n",
    "\n",
    "* `numpy.matmul()` - аналог оператора `@`\n",
    "\n",
    "* `numpy.dot()` - на двумерных матрицах выдает тот же результат, что и `numpy.matmul()` и `@`, но на трехмерных и более многомерных матрицах результаты уже будут отличаться\n",
    "\n",
    "Какую когда выбирать, зависит от задачи, которую ты решаешь. То есть важно понимать, какой результат ты получишь, и соответствует ли это тому, что тебе необходимо получить. Если хорошо владеешь английским, то вот <a href='https://mkang32.github.io/python/2020/08/30/numpy-matmul.html'>тут</a> достаточно хорошо разбирается различие между этими функциями."
   ]
  },
  {
   "cell_type": "markdown",
   "metadata": {},
   "source": [
    "<div class=\"alert alert-info\"; style=\"border-left: 8px solid blue\">\n",
    "<h3>✔ Комментарий студента V.0</h3> \n",
    "Спасибо! Почитаю\n",
    "</div>  "
   ]
  },
  {
   "cell_type": "markdown",
   "metadata": {},
   "source": [
    "<div class=\"alert alert-success\">\n",
    "<b>Комментарий ревьюера 2:</b> 😉"
   ]
  },
  {
   "cell_type": "markdown",
   "metadata": {},
   "source": [
    "<div class=\"alert alert-success\">\n",
    "<h2> Комментарий ревьюера <a class=\"tocSkip\"> </h2>\n",
    "\n",
    "<b>Отличная работа!👍:</b> \n",
    "    \n",
    "Отлично! Здесь можно заметить некоторую погрешность вычислений. Все дело в том, что формат float имеет особый способ хранения значений, который не позволяет производить вычисления со 100% точностью (подробнее о проблеме <a href = 'https://docs-python.ru/tutorial/operatsii-chislami-python/problemy-chisel-plavajuschej-zapjatoj/'>тут</a>). Без округления данных они имеют экспоненциальную запись числа (число до e умножается на 10 в степени, которая указана после е), но значения приближены к ожидаемым (в чем ты как раз и убедился). Чтобы исправить погрешность вычислений, мы можем произвести огругление (останется проблема с отрицательными нулями) и затем перевести в формат int (сразу перевести не можем, так как astype(int) возьмет целую часть от числа, если было 0.99, то он превратит 0). "
   ]
  },
  {
   "cell_type": "markdown",
   "metadata": {},
   "source": [
    "<div class=\"alert alert-info\"; style=\"border-left: 8px solid blue\">\n",
    "<h3>✔ Комментарий студента V.0</h3> \n",
    "Округлил методом around и затем перевел в инт32\n",
    "</div>  "
   ]
  },
  {
   "cell_type": "markdown",
   "metadata": {},
   "source": [
    "<div class=\"alert alert-success\">\n",
    "<h2> Комментарий ревьюера 2<a class=\"tocSkip\"> </h2>\n",
    "\n",
    "<b>Отличная работа!👍:</b> \n",
    "    \n",
    "Класс!"
   ]
  },
  {
   "cell_type": "markdown",
   "metadata": {},
   "source": [
    "<div class=\"alert alert-warning\">\n",
    "<h2> Комментарий ревьюера <a class=\"tocSkip\"> </h2>\n",
    "    \n",
    "<b>Некоторые замечания и рекомендации💡:</b> \n",
    "    \n",
    "Есть еще предложение попробовать создать специальный алгоритм-дешифровщик и объединить его с алгоритмом-шифровщиком одним классом: шифровщик будет генерировать матрицу, проверять ее и сохранять внутри объекта, а дешифровщик сможет обращаться к ключу, хранящемуся внутри объекта, и использовать его для расшифровки. Подробнее про классы <a href = 'https://highload.today/kak-sozdavat-klassy-v-python-so-znaniem-dela-razbiraem-na-primerah/'>тут</a>."
   ]
  },
  {
   "cell_type": "markdown",
   "metadata": {},
   "source": [
    "## Проверка алгоритма"
   ]
  },
  {
   "cell_type": "code",
   "execution_count": 171,
   "metadata": {},
   "outputs": [
    {
     "name": "stdout",
     "output_type": "stream",
     "text": [
      "исходный r2_score: 0.4231137691590773\n"
     ]
    }
   ],
   "source": [
    "model = LinearRegression()\n",
    "scores = cross_val_score(model, features, target, cv=5, scoring='r2', error_score='raise', n_jobs= -1)\n",
    "final_score_original = sum(scores) / len(scores) \n",
    "print('исходный r2_score:',final_score_original)"
   ]
  },
  {
   "cell_type": "code",
   "execution_count": 172,
   "metadata": {},
   "outputs": [
    {
     "name": "stdout",
     "output_type": "stream",
     "text": [
      "зашифрованный r2_score: 0.4231137691591663\n"
     ]
    }
   ],
   "source": [
    "model = LinearRegression()\n",
    "scores = cross_val_score(model, features_encrypted, target, cv=5, scoring='r2', error_score='raise', n_jobs= -1)\n",
    "final_score_encrypted = sum(scores) / len(scores) \n",
    "print('зашифрованный r2_score:',final_score_encrypted)"
   ]
  },
  {
   "cell_type": "code",
   "execution_count": 173,
   "metadata": {},
   "outputs": [
    {
     "name": "stdout",
     "output_type": "stream",
     "text": [
      "отношения метрик качества моделей обученных на исходных данных к зашифрованным 0.9999999999997896\n"
     ]
    }
   ],
   "source": [
    "print('отношения метрик качества моделей обученных на исходных данных к зашифрованным',final_score_original/final_score_encrypted)"
   ]
  },
  {
   "cell_type": "markdown",
   "metadata": {},
   "source": [
    "Метрики качества равны"
   ]
  },
  {
   "cell_type": "markdown",
   "metadata": {},
   "source": [
    "<div class=\"alert alert-success\">\n",
    "<h2> Комментарий ревьюера <a class=\"tocSkip\"> </h2>\n",
    "\n",
    "<b>Отличная работа!👍:</b>\n",
    "    \n",
    "Супер! С практическим доказательством справились :)"
   ]
  },
  {
   "cell_type": "markdown",
   "metadata": {},
   "source": [
    "## Обоснование алгоритма и равенства метрик"
   ]
  },
  {
   "cell_type": "markdown",
   "metadata": {},
   "source": [
    "Предсказания:\n",
    "\n",
    "$$\n",
    "a = Xw\n",
    "$$\n",
    "\n",
    "Формула обучения:\n",
    "\n",
    "$$\n",
    "w = (X^T X)^{-1} X^T*y\n",
    "$$"
   ]
  },
  {
   "cell_type": "markdown",
   "metadata": {},
   "source": [
    "Домножим Х на нашу матрицу ключ K\n",
    "$$\n",
    "w = ((XK)^T XK)^{-1} (XK)^T y\n",
    "$$\n",
    "$$\n",
    "w = (K^{T}*[X^{T}*X]*K)^{-1}*(XK)^{T}*y\n",
    "$$\n",
    "$$\n",
    "w = K^{-1}*(X^{T}*X)^{-1}*[(K^{T})^{-1}*K^{T}]*X^{T}*y\n",
    "$$\n",
    "$$\n",
    "w = K^{-1}*(X^{T}*X)^{-1}*E*X^{T}*y\n",
    "$$\n",
    "$$\n",
    "w = K^{-1}*[(X^{T}*X)^{-1}*X^{T}*y]\n",
    "$$\n",
    "Соответственно исходная формуа обучения отличается от формулы обучения зашифрованной даты на множитель матрицы обратную ключу\n",
    "$$\n",
    "w(зашифрованная) = K^{-1}*w(исходная)\n",
    "$$"
   ]
  },
  {
   "cell_type": "markdown",
   "metadata": {},
   "source": [
    "Исходная:\n",
    "$$\n",
    "a(зашифр) = XKw(зашифр)\n",
    "$$\n",
    "Зашифрованная:\n",
    "$$\n",
    "a(зашифр) = XKw(зашифр) = X*K*K^{-1}*w(исходная) = X*E*w(исходная) = X*w(исходная)\n",
    "$$\n",
    "Итог:\n",
    "$$\n",
    "a(зашифрованная) = a(исходная)\n",
    "$$\n"
   ]
  },
  {
   "cell_type": "markdown",
   "metadata": {},
   "source": [
    "<div class=\"alert alert-block alert-danger\">\n",
    "<h2> Комментарий ревьюера <a class=\"tocSkip\"></h2>\n",
    "\n",
    "<b>На доработку🤔:</b>\n",
    "    \n",
    "Направление твоего доказательства верное! Но есть пара важных моментов, которые следует поправить. \n",
    "    \n",
    "1. Ты не совсем корректно используешь свойства обращения и транспонирования произведения матриц. На самом деле они выглядят так (обрати внимание, что порядок матриц меняется):     \n",
    "$$\n",
    "(AB)^T=B^T A^T\n",
    "$$\n",
    "$$\n",
    "(AB)^{-1} = B^{-1} A^{-1}\n",
    "$$\n",
    "    \n",
    "    Почему мы так заостряем внимание на порядке? Если при умножении обычных чисел нам не важно, умножаем ли мы 2 на 3 или 3 на 2, в результате все равно получим 6, то это становится важно при перемножении матриц. Чтобы произведение между двумя матрицами в принципе возможно было найти, должно выполняться условие: количество столбцов левой матрицы должно быть равно количеству строк правой. Если это условие выполнится, то в результате перемножения мы получим матрицу с количеством строк как у левой матрицы и количеством столбцов как у правой: $A_{2\\times 3}B_{3\\times 4} = C_{2\\times 4}$. (заметь, что в примере умножить $B$ на $A$ уже не получится) \n",
    "    \n",
    "    Посмотрим на другой пример: $A_{2\\times 3}B_{3\\times 2} = C_{2\\times 2}$ и $B_{3\\times 2}A_{2\\times 3} = D_{3\\times 3}$. Как видишь, теперь у нас размерности соблюдаются и после перестановки, но обрати внимание, что из-за этого на выходе мы получаем совершенно разные матрицы. Поэтому произвольно менять местами матрицы в формуле недопустимо, так как это повлияет на результат вычислений.\n",
    "    \n",
    "    С произведением двух матриц разобрались. Что если матриц больше? Как и в случае чисел, нам совершенно не важно, в каком порядке мы будем выполнять само умножение для получения результата. Допустим, нам нужно умножить 2 на 3 и на 4. Мы можем умножить сначала 2 на 3 и получить 6, а потом 6 умножить на 4 и получить 24. А можем сначала умножить 3 на 4, получить 12, а потом 2 умножить на 12 и получить те же самые 24. С матрицами точно так же (эта называется сочетательным свойством матриц или ассоциативностью): \n",
    "    $$A_{2\\times 3}B_{3\\times 4}C_{4\\times 5} = (AB)_{2\\times 4}C_{4\\times 5} = A_{2\\times 3}(BC)_{3\\times 5} = D_{2\\times 5}$$\n",
    "    \n",
    "    Заметь, что даже при различном сочетании матриц для произведения мы сохраняеим их порядок, чтобы не нарушалось сочетание размерностей соседних матриц. То есть мы можем перемножить между собой любые две **соседние** матрицы, но самостоятельно их передвигать, чтобы они оказались рядом, нельзя. Это достаточно важный момент в понимании линейной алгебры, поэтому хочу тебя попросить все-таки записать формулы с верной последовательностью перемножения матриц.\n",
    "    \n",
    "    \n",
    "2. Следующий важный момент касается именно обращения матриц. Матрица $X$ имеет размерность 5000 на 4, то есть не квадратная. Если мы умножаем матрицу $X$ на $K$, то в результате получаем тоже матрицу 5000 на 4 - неквадратную. Для неквадратных матриц невозможно найти определитель, который нужен для расчета обратной матрицы, соответственно, обратную матрицу мы посчитать не сможем. В связи с этим некорректно записывать $(XK)^{-1}$, $(X^{T})^{-1}$ и $X^{-1}$, так как обратные матрицы для них не существуют, получается, при такой записи мы не сможем воспользоваться формулой. Но мы можем заметить, что произведение $X^T$ и $X$ как раз будет квадратным (4 на 4), и мы можем для него найти обратную матрицу (именно поэтому в формуле коэффициентов $w$ данная скобка не раскрывается). Таким образом, раскрытие скобок нам лучше начать с транспонирования, тогда внутри скобки с обращением у нас получается три квадратных множителя ($K^{T}_{4\\times 4}$, $(X^{T}_{4\\times 5000}X_{5000\\times 4})_{4\\times 4}$, $K_{4\\times 4}$), для которых сущетсвуют обратные матрицы. Для трех множителей свойство аналогичное и выводится из свойства для двух множителей (+ сочетательное свойство):\n",
    "    $$(ABC)^{-1} = C^{-1}(AB)^{-1} = (BC)^{-1}A^{-1} = C^{-1}B^{-1}A^{-1},$$\n",
    " где А, В, С - квадратные матрицы."
   ]
  },
  {
   "cell_type": "markdown",
   "metadata": {},
   "source": [
    "<div class=\"alert alert-info\"; style=\"border-left: 8px solid blue\">\n",
    "<h3>✔ Комментарий студента V.0</h3> \n",
    "Подправил. Да, забыл я линал =/\n",
    "</div>  "
   ]
  },
  {
   "cell_type": "markdown",
   "metadata": {},
   "source": [
    "<div class=\"alert alert-success\">\n",
    "<h2> Комментарий ревьюера 2<a class=\"tocSkip\"> </h2>\n",
    "\n",
    "<b>Отличная работа!👍:</b> \n",
    "    \n",
    "Супер, теперь все верно! Ничего страшного, это нормально, когда какие-то знания и навыки подзабываются, если долгое время никак не применяются :)"
   ]
  },
  {
   "cell_type": "markdown",
   "metadata": {},
   "source": [
    "<div class=\"alert alert-warning\">\n",
    "<h2> Комментарий ревьюера <a class=\"tocSkip\"> </h2>\n",
    "    \n",
    "<b>Некоторые замечания и рекомендации💡:</b> \n",
    "    \n",
    "В обосновании можно немного дополнить формульное доказательство и попробовать объяснить своими словами, что за процессы происходят внутри матрицы при преобразовании с помощью ключа, и что мы получаем в итоге, что из себя представляют столбцы зашифрованной матрицы, как формируются коэффициенты при этих новых признаках, и почему этим коэффициентам удается нивелировать шифрование и выдавать тот же вектор предсказаний. Также можно еще пояснить по поводу того, что возможен и обратный процесс расшифровки, который, опять же, не приведет к потере качества. "
   ]
  },
  {
   "cell_type": "markdown",
   "metadata": {},
   "source": [
    "<div class=\"alert alert-info\"; style=\"border-left: 8px solid blue\">\n",
    "<h3>✔ Комментарий студента V.0</h3> \n",
    "Хм..... Надо подумать как именно расписать все. Не закрывай, пожайлуста, проект, если нет критических замечаний. Я хочу добить реализацию шифрования через класс.\n",
    "</div>  "
   ]
  },
  {
   "cell_type": "markdown",
   "metadata": {},
   "source": [
    "<div class=\"alert alert-success\">\n",
    "<b>Комментарий ревьюера 2:</b> Хорошо :) Я постаралась обозначить все ошибки класса, но, возможно, что-то могла упустить."
   ]
  },
  {
   "cell_type": "markdown",
   "metadata": {},
   "source": [
    "## Чек-лист проверки"
   ]
  },
  {
   "cell_type": "markdown",
   "metadata": {},
   "source": [
    "Поставьте 'x' в выполненных пунктах. Далее нажмите Shift+Enter."
   ]
  },
  {
   "cell_type": "markdown",
   "metadata": {},
   "source": [
    "- [x]  Jupyter Notebook открыт\n",
    "- [ ]  Весь код выполняется без ошибок\n",
    "- [ ]  Ячейки с кодом расположены в порядке исполнения\n",
    "- [ ]  Выполнен шаг 1: данные загружены\n",
    "- [ ]  Выполнен шаг 2: получен ответ на вопрос об умножении матриц\n",
    "    - [ ]  Указан правильный вариант ответа\n",
    "    - [ ]  Вариант обоснован\n",
    "- [ ]  Выполнен шаг 3: предложен алгоритм преобразования\n",
    "    - [ ]  Алгоритм описан\n",
    "    - [ ]  Алгоритм обоснован\n",
    "- [ ]  Выполнен шаг 4: алгоритм проверен\n",
    "    - [ ]  Алгоритм реализован\n",
    "    - [ ]  Проведено сравнение качества моделей до и после преобразования"
   ]
  },
  {
   "cell_type": "markdown",
   "metadata": {},
   "source": [
    "<div style=\"border:solid Chocolate 2px; padding: 40px\">\n",
    "\n",
    "**Общий вывод по проекту**\n",
    "\n",
    "Игорь, спасибо за твой проект! У тебя замечательная работа! Очень аккуратная, снабженная пояснениями и выводами. Проверять - одно удовольствие! Осталось только доработать теоретическое доказательство, тогда все будет на высоте :) Если у тебя есть вопросы, или появится желание разобраться в чем-то подробнее, смело обращайся!\n",
    "\n",
    "**Желаю удачи и жду твой проект на повторное ревью!** 😉\n",
    "    \n",
    "<img src=\"https://c.tenor.com/D4geDkAW9jgAAAAj/cat-paw.gif\" width=\"100\" height=\"50\"/>"
   ]
  }
 ],
 "metadata": {
  "ExecuteTimeLog": [
   {
    "duration": 2118,
    "start_time": "2022-10-25T13:45:15.700Z"
   },
   {
    "duration": 107,
    "start_time": "2022-10-25T13:45:18.433Z"
   },
   {
    "duration": 15,
    "start_time": "2022-10-25T13:45:22.779Z"
   },
   {
    "duration": 942,
    "start_time": "2022-10-25T13:45:23.033Z"
   },
   {
    "duration": 4,
    "start_time": "2022-10-25T13:45:24.196Z"
   },
   {
    "duration": 13,
    "start_time": "2022-10-25T13:45:24.696Z"
   },
   {
    "duration": 16,
    "start_time": "2022-10-25T13:45:24.911Z"
   },
   {
    "duration": 25,
    "start_time": "2022-10-25T13:45:25.135Z"
   },
   {
    "duration": 6,
    "start_time": "2022-10-25T13:45:25.758Z"
   },
   {
    "duration": 12,
    "start_time": "2022-10-25T13:45:26.043Z"
   },
   {
    "duration": 241,
    "start_time": "2022-10-25T13:45:26.523Z"
   },
   {
    "duration": 4,
    "start_time": "2022-10-25T13:45:30.610Z"
   },
   {
    "duration": 12,
    "start_time": "2022-10-25T13:45:33.437Z"
   },
   {
    "duration": 5,
    "start_time": "2022-10-25T13:45:37.706Z"
   },
   {
    "duration": 146,
    "start_time": "2022-10-25T13:45:39.160Z"
   },
   {
    "duration": 5,
    "start_time": "2022-10-25T13:47:06.488Z"
   },
   {
    "duration": 10,
    "start_time": "2022-10-25T13:47:06.833Z"
   },
   {
    "duration": 5,
    "start_time": "2022-10-25T13:48:29.646Z"
   },
   {
    "duration": 9,
    "start_time": "2022-10-25T13:48:30.092Z"
   },
   {
    "duration": 6,
    "start_time": "2022-10-25T13:48:48.338Z"
   },
   {
    "duration": 16,
    "start_time": "2022-10-25T13:48:48.980Z"
   },
   {
    "duration": 4,
    "start_time": "2022-10-25T13:58:48.906Z"
   },
   {
    "duration": 9,
    "start_time": "2022-10-25T13:58:49.536Z"
   },
   {
    "duration": 12,
    "start_time": "2022-10-25T13:59:12.135Z"
   },
   {
    "duration": 110,
    "start_time": "2022-10-25T13:59:50.223Z"
   },
   {
    "duration": 12,
    "start_time": "2022-10-25T14:01:10.792Z"
   },
   {
    "duration": 5,
    "start_time": "2022-10-25T14:07:06.903Z"
   },
   {
    "duration": 11,
    "start_time": "2022-10-25T14:07:44.018Z"
   },
   {
    "duration": 15,
    "start_time": "2022-10-25T14:21:34.739Z"
   },
   {
    "duration": 15,
    "start_time": "2022-10-25T14:22:31.890Z"
   },
   {
    "duration": 8,
    "start_time": "2022-10-25T14:36:09.591Z"
   }
  ],
  "kernelspec": {
   "display_name": "Python 3 (ipykernel)",
   "language": "python",
   "name": "python3"
  },
  "language_info": {
   "codemirror_mode": {
    "name": "ipython",
    "version": 3
   },
   "file_extension": ".py",
   "mimetype": "text/x-python",
   "name": "python",
   "nbconvert_exporter": "python",
   "pygments_lexer": "ipython3",
   "version": "3.9.12"
  },
  "toc": {
   "base_numbering": 1,
   "nav_menu": {},
   "number_sections": true,
   "sideBar": true,
   "skip_h1_title": true,
   "title_cell": "Содержание",
   "title_sidebar": "Contents",
   "toc_cell": true,
   "toc_position": {},
   "toc_section_display": true,
   "toc_window_display": true
  },
  "vscode": {
   "interpreter": {
    "hash": "1c8c03b3dd9f00cbf1a5a5c63c930805b828fbf388ffb63f05d8fe79c64b8236"
   }
  }
 },
 "nbformat": 4,
 "nbformat_minor": 2
}
