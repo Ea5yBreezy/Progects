{
 "cells": [
  {
   "cell_type": "markdown",
   "metadata": {},
   "source": [
    "# Выбор локации для скважины"
   ]
  },
  {
   "cell_type": "markdown",
   "metadata": {},
   "source": [
    "**Описание проекта.**\n",
    "\n",
    "Допустим, вы работаете в добывающей компании «ГлавРосГосНефть». Нужно решить, где бурить новую скважину.\n",
    "\n",
    "Вам предоставлены пробы нефти в трёх регионах: в каждом 10 000 месторождений, где измерили качество нефти и объём её запасов. Постройте модель машинного обучения, которая поможет определить регион, где добыча принесёт наибольшую прибыль. Проанализируйте возможную прибыль и риски техникой *Bootstrap.*\n",
    "\n",
    "Шаги для выбора локации:\n",
    "\n",
    "- В избранном регионе ищут месторождения, для каждого определяют значения признаков;\n",
    "- Строят модель и оценивают объём запасов;\n",
    "- Выбирают месторождения с самым высокими оценками значений. Количество месторождений зависит от бюджета компании и стоимости разработки одной скважины;\n",
    "- Прибыль равна суммарной прибыли отобранных месторождений.\n",
    "\n",
    "\n",
    "Условия задачи:\n",
    "- Для обучения модели подходит только линейная регрессия (остальные — недостаточно предсказуемые).\n",
    "- При разведке региона исследуют 500 точек, из которых с помощью машинного обучения выбирают 200 лучших для разработки.\n",
    "- Бюджет на разработку скважин в регионе — 10 млрд рублей.\n",
    "- При нынешних ценах один баррель сырья приносит 450 рублей дохода. Доход с каждой единицы продукта составляет 450 тыс. рублей, поскольку объём указан в тысячах баррелей.\n",
    "- После оценки рисков нужно оставить лишь те регионы, в которых вероятность убытков меньше 2.5%. Среди них выбирают регион с наибольшей средней прибылью."
   ]
  },
  {
   "cell_type": "markdown",
   "metadata": {},
   "source": [
    "**Цель исследования** - Постройте модель машинного обучения, которая поможет определить регион, где добыча принесёт наибольшую прибыль. Проанализируйте возможную прибыль и риски техникой *Bootstrap.*"
   ]
  },
  {
   "cell_type": "markdown",
   "metadata": {},
   "source": [
    "**Описание данных.**\n",
    " - `id` — уникальный идентификатор скважины\n",
    " - `f0`,`f1`,`f2` — три признака точек (неважно, что они означают, но сами признаки значимы)\n",
    " - `product ` — объём запасов в скважине (тыс. баррелей)"
   ]
  },
  {
   "cell_type": "markdown",
   "metadata": {},
   "source": [
    "## Загрузка и подготовка данных"
   ]
  },
  {
   "cell_type": "code",
   "execution_count": 93,
   "metadata": {},
   "outputs": [],
   "source": [
    "import pandas as pd\n",
    "import numpy as np\n",
    "import warnings\n",
    "from sklearn.linear_model import LinearRegression\n",
    "from sklearn.preprocessing import StandardScaler\n",
    "from sklearn.model_selection import train_test_split\n",
    "from sklearn.metrics import mean_squared_error\n",
    "pd.set_option('display.max_rows', 1000)\n",
    "pd.set_option('display.max_columns', 1000)\n",
    "pd.set_option('display.width', 1500)\n",
    "warnings.simplefilter(\"ignore\")"
   ]
  },
  {
   "cell_type": "code",
   "execution_count": 94,
   "metadata": {},
   "outputs": [
    {
     "name": "stdout",
     "output_type": "stream",
     "text": [
      "<class 'pandas.core.frame.DataFrame'>\n",
      "RangeIndex: 100000 entries, 0 to 99999\n",
      "Data columns (total 5 columns):\n",
      " #   Column   Non-Null Count   Dtype  \n",
      "---  ------   --------------   -----  \n",
      " 0   id       100000 non-null  object \n",
      " 1   f0       100000 non-null  float64\n",
      " 2   f1       100000 non-null  float64\n",
      " 3   f2       100000 non-null  float64\n",
      " 4   product  100000 non-null  float64\n",
      "dtypes: float64(4), object(1)\n",
      "memory usage: 3.8+ MB\n"
     ]
    }
   ],
   "source": [
    "try:\n",
    "  df0 = pd.read_csv('/DS/Yandex_Practikum/Projects/datasets/geo_data_0.csv')\n",
    "except:\n",
    "  df0 = pd.read_csv('/datasets/geo_data_0.csv')\n",
    "df0.info()"
   ]
  },
  {
   "cell_type": "code",
   "execution_count": 95,
   "metadata": {},
   "outputs": [
    {
     "name": "stdout",
     "output_type": "stream",
     "text": [
      "<class 'pandas.core.frame.DataFrame'>\n",
      "RangeIndex: 100000 entries, 0 to 99999\n",
      "Data columns (total 5 columns):\n",
      " #   Column   Non-Null Count   Dtype  \n",
      "---  ------   --------------   -----  \n",
      " 0   id       100000 non-null  object \n",
      " 1   f0       100000 non-null  float64\n",
      " 2   f1       100000 non-null  float64\n",
      " 3   f2       100000 non-null  float64\n",
      " 4   product  100000 non-null  float64\n",
      "dtypes: float64(4), object(1)\n",
      "memory usage: 3.8+ MB\n"
     ]
    }
   ],
   "source": [
    "try:\n",
    "  df1 = pd.read_csv('/DS/Yandex_Practikum/Projects/datasets/geo_data_1.csv')\n",
    "except:\n",
    "  df1 = pd.read_csv('/datasets/geo_data_1.csv')\n",
    "df1.info()"
   ]
  },
  {
   "cell_type": "code",
   "execution_count": 96,
   "metadata": {},
   "outputs": [
    {
     "name": "stdout",
     "output_type": "stream",
     "text": [
      "<class 'pandas.core.frame.DataFrame'>\n",
      "RangeIndex: 100000 entries, 0 to 99999\n",
      "Data columns (total 5 columns):\n",
      " #   Column   Non-Null Count   Dtype  \n",
      "---  ------   --------------   -----  \n",
      " 0   id       100000 non-null  object \n",
      " 1   f0       100000 non-null  float64\n",
      " 2   f1       100000 non-null  float64\n",
      " 3   f2       100000 non-null  float64\n",
      " 4   product  100000 non-null  float64\n",
      "dtypes: float64(4), object(1)\n",
      "memory usage: 3.8+ MB\n"
     ]
    }
   ],
   "source": [
    "try:\n",
    "  df2 = pd.read_csv('/DS/Yandex_Practikum/Projects/datasets/geo_data_2.csv')\n",
    "except:\n",
    "  df2 = pd.read_csv('/datasets/geo_data_2.csv')\n",
    "df2.info()"
   ]
  },
  {
   "cell_type": "code",
   "execution_count": 97,
   "metadata": {},
   "outputs": [
    {
     "data": {
      "text/html": [
       "<div>\n",
       "<style scoped>\n",
       "    .dataframe tbody tr th:only-of-type {\n",
       "        vertical-align: middle;\n",
       "    }\n",
       "\n",
       "    .dataframe tbody tr th {\n",
       "        vertical-align: top;\n",
       "    }\n",
       "\n",
       "    .dataframe thead th {\n",
       "        text-align: right;\n",
       "    }\n",
       "</style>\n",
       "<table border=\"1\" class=\"dataframe\">\n",
       "  <thead>\n",
       "    <tr style=\"text-align: right;\">\n",
       "      <th></th>\n",
       "      <th>id</th>\n",
       "      <th>f0</th>\n",
       "      <th>f1</th>\n",
       "      <th>f2</th>\n",
       "      <th>product</th>\n",
       "    </tr>\n",
       "  </thead>\n",
       "  <tbody>\n",
       "    <tr>\n",
       "      <th>0</th>\n",
       "      <td>txEyH</td>\n",
       "      <td>0.705745</td>\n",
       "      <td>-0.497823</td>\n",
       "      <td>1.221170</td>\n",
       "      <td>105.280062</td>\n",
       "    </tr>\n",
       "    <tr>\n",
       "      <th>1</th>\n",
       "      <td>2acmU</td>\n",
       "      <td>1.334711</td>\n",
       "      <td>-0.340164</td>\n",
       "      <td>4.365080</td>\n",
       "      <td>73.037750</td>\n",
       "    </tr>\n",
       "    <tr>\n",
       "      <th>2</th>\n",
       "      <td>409Wp</td>\n",
       "      <td>1.022732</td>\n",
       "      <td>0.151990</td>\n",
       "      <td>1.419926</td>\n",
       "      <td>85.265647</td>\n",
       "    </tr>\n",
       "    <tr>\n",
       "      <th>3</th>\n",
       "      <td>iJLyR</td>\n",
       "      <td>-0.032172</td>\n",
       "      <td>0.139033</td>\n",
       "      <td>2.978566</td>\n",
       "      <td>168.620776</td>\n",
       "    </tr>\n",
       "    <tr>\n",
       "      <th>4</th>\n",
       "      <td>Xdl7t</td>\n",
       "      <td>1.988431</td>\n",
       "      <td>0.155413</td>\n",
       "      <td>4.751769</td>\n",
       "      <td>154.036647</td>\n",
       "    </tr>\n",
       "  </tbody>\n",
       "</table>\n",
       "</div>"
      ],
      "text/plain": [
       "      id        f0        f1        f2     product\n",
       "0  txEyH  0.705745 -0.497823  1.221170  105.280062\n",
       "1  2acmU  1.334711 -0.340164  4.365080   73.037750\n",
       "2  409Wp  1.022732  0.151990  1.419926   85.265647\n",
       "3  iJLyR -0.032172  0.139033  2.978566  168.620776\n",
       "4  Xdl7t  1.988431  0.155413  4.751769  154.036647"
      ]
     },
     "execution_count": 97,
     "metadata": {},
     "output_type": "execute_result"
    }
   ],
   "source": [
    "df0.head()"
   ]
  },
  {
   "cell_type": "code",
   "execution_count": 98,
   "metadata": {},
   "outputs": [],
   "source": [
    "features0 = df0.drop(['product','id'],axis = 1)\n",
    "target0 = df0['product'] "
   ]
  },
  {
   "cell_type": "code",
   "execution_count": 99,
   "metadata": {},
   "outputs": [],
   "source": [
    "features1 = df1.drop(['product','id'],axis = 1)\n",
    "target1 = df1['product'] "
   ]
  },
  {
   "cell_type": "code",
   "execution_count": 100,
   "metadata": {},
   "outputs": [],
   "source": [
    "features2 = df2.drop(['product','id'],axis = 1)\n",
    "target2 = df2['product'] "
   ]
  },
  {
   "cell_type": "code",
   "execution_count": 101,
   "metadata": {},
   "outputs": [],
   "source": [
    "state = np.random.RandomState(12345)"
   ]
  },
  {
   "cell_type": "code",
   "execution_count": 102,
   "metadata": {},
   "outputs": [],
   "source": [
    "def split(features,target):\n",
    "    features_train, features_valid, target_train, target_valid = train_test_split(\n",
    "    features, target, test_size=0.25, random_state=state)\n",
    "    return features_train, features_valid, target_train, target_valid"
   ]
  },
  {
   "cell_type": "code",
   "execution_count": 103,
   "metadata": {},
   "outputs": [],
   "source": [
    "scaler = StandardScaler()\n",
    "def numeric(features_train,features_valid):\n",
    "    scaler.fit(features_train)\n",
    "\n",
    "    features_train_numeric = scaler.transform(features_train)\n",
    "    features_valid_numeric = scaler.transform(features_valid)\n",
    "    \n",
    "    return features_train_numeric, features_valid_numeric"
   ]
  },
  {
   "cell_type": "code",
   "execution_count": 104,
   "metadata": {},
   "outputs": [],
   "source": [
    "features_train0, features_valid0, target_train0, target_valid0 = split(features0,target0)\n",
    "features_train1, features_valid1, target_train1, target_valid1 = split(features1,target1)\n",
    "features_train2, features_valid2, target_train2, target_valid2 = split(features2,target2)"
   ]
  },
  {
   "cell_type": "code",
   "execution_count": 105,
   "metadata": {},
   "outputs": [],
   "source": [
    "features_train_numeric0, features_valid_numeric0 = numeric(features_train0,features_valid0)\n",
    "features_train_numeric1, features_valid_numeric1 = numeric(features_train1,features_valid1)\n",
    "features_train_numeric2, features_valid_numeric2 = numeric(features_train2,features_valid2)"
   ]
  },
  {
   "cell_type": "markdown",
   "metadata": {},
   "source": [
    "## Обучение и проверка модели"
   ]
  },
  {
   "cell_type": "code",
   "execution_count": 106,
   "metadata": {},
   "outputs": [],
   "source": [
    "model = LinearRegression()\n",
    "def model_linear_regression(features_train,target_train,features_valid,target_valid,features):\n",
    "    model.fit(features_train, target_train)\n",
    "    predicted_valid = model.predict(features_valid)\n",
    "    result = mean_squared_error(target_valid,predicted_valid)\n",
    "    rmse = result ** 0.5\n",
    "    predicted = model.predict(features)\n",
    "    return predicted_valid, rmse, predicted"
   ]
  },
  {
   "cell_type": "code",
   "execution_count": 107,
   "metadata": {},
   "outputs": [],
   "source": [
    "predicted_valid0, rmse0, predicted_values0 = model_linear_regression (features_train0, target_train0, features_valid0, target_valid0, features0)\n",
    "predicted_valid1, rmse1, predicted_values1 = model_linear_regression (features_train1, target_train1, features_valid1, target_valid1, features1)\n",
    "predicted_valid2, rmse2, predicted_values2 = model_linear_regression (features_train2, target_train2, features_valid2, target_valid2, features2)"
   ]
  },
  {
   "cell_type": "code",
   "execution_count": 108,
   "metadata": {},
   "outputs": [
    {
     "name": "stdout",
     "output_type": "stream",
     "text": [
      "Среднее значение предсказанного сырья 0 региона: 92.59256778438035    rmse: 37.5794217150813\n",
      "Среднее значение предсказанного сырья 1 региона: 68.76995145799754    rmse: 0.8897367737680649\n",
      "Среднее значение предсказанного сырья 2 региона: 95.087528122523      rmse: 39.958042459521614\n"
     ]
    }
   ],
   "source": [
    "print('Среднее значение предсказанного сырья 0 региона:',predicted_valid0.mean(),'   rmse:',rmse0)\n",
    "print('Среднее значение предсказанного сырья 1 региона:',predicted_valid1.mean(),'   rmse:',rmse1)\n",
    "print('Среднее значение предсказанного сырья 2 региона:',predicted_valid2.mean(),'     rmse:',rmse2)"
   ]
  },
  {
   "cell_type": "code",
   "execution_count": 109,
   "metadata": {},
   "outputs": [],
   "source": [
    "predicted_valid0, rmse0, predicted_values0 = model_linear_regression (features_train_numeric0, target_train0, features_valid_numeric0, target_valid0, features0)\n",
    "predicted_valid1, rmse1, predicted_values1 = model_linear_regression (features_train_numeric1, target_train1, features_valid_numeric1, target_valid1, features1)\n",
    "predicted_valid2, rmse2, predicted_values2 = model_linear_regression (features_train_numeric2, target_train2, features_valid_numeric2, target_valid2, features2)"
   ]
  },
  {
   "cell_type": "code",
   "execution_count": 110,
   "metadata": {},
   "outputs": [
    {
     "name": "stdout",
     "output_type": "stream",
     "text": [
      "Среднее значение предсказанного сырья 0 региона: 92.59256778438035    rmse: 37.5794217150813\n",
      "Среднее значение предсказанного сырья 1 региона: 68.76995145799754    rmse: 0.889736773768065\n",
      "Среднее значение предсказанного сырья 2 региона: 95.087528122523      rmse: 39.958042459521614\n"
     ]
    }
   ],
   "source": [
    "print('Среднее значение предсказанного сырья 0 региона:',predicted_valid0.mean(),'   rmse:',rmse0)\n",
    "print('Среднее значение предсказанного сырья 1 региона:',predicted_valid1.mean(),'   rmse:',rmse1)\n",
    "print('Среднее значение предсказанного сырья 2 региона:',predicted_valid2.mean(),'     rmse:',rmse2)"
   ]
  },
  {
   "cell_type": "markdown",
   "metadata": {},
   "source": [
    "Из представленных результатов видно, что предсказанные результаты для первого и третьего региона с большой ошибкой не зависимо от использованяи стандартизации признаков."
   ]
  },
  {
   "cell_type": "code",
   "execution_count": 111,
   "metadata": {},
   "outputs": [],
   "source": [
    "def df_predicted(data,predicted_values):\n",
    "    df_predicted = data.copy()\n",
    "    df_predicted['product_predicted'] = predicted_values\n",
    "    return df_predicted"
   ]
  },
  {
   "cell_type": "code",
   "execution_count": 112,
   "metadata": {},
   "outputs": [],
   "source": [
    "df0_predicted = df_predicted(df0,predicted_values0)\n",
    "df1_predicted = df_predicted(df1,predicted_values1)\n",
    "df2_predicted = df_predicted(df2,predicted_values2)"
   ]
  },
  {
   "cell_type": "markdown",
   "metadata": {},
   "source": [
    "## Подготовка к расчёту прибыли"
   ]
  },
  {
   "cell_type": "code",
   "execution_count": 113,
   "metadata": {},
   "outputs": [],
   "source": [
    "NUMBER_OF_BEST_POINTS = 200\n",
    "PRICE_PER_PRODUCT = 450 * 10 ** 3\n",
    "BUDGET = 10 ** 10"
   ]
  },
  {
   "cell_type": "code",
   "execution_count": 114,
   "metadata": {},
   "outputs": [
    {
     "data": {
      "text/plain": [
       "22222.222222222223"
      ]
     },
     "execution_count": 114,
     "metadata": {},
     "output_type": "execute_result"
    }
   ],
   "source": [
    "PRODUCT_SUM = BUDGET / PRICE_PER_PRODUCT\n",
    "PRODUCT_SUM"
   ]
  },
  {
   "cell_type": "markdown",
   "metadata": {},
   "source": [
    "Безубыточное количество продукта на разработку каждого региона равно 22222.222222222223 (тыс. баррелей). Т.е. в 200 лучших точек для разработки должно быть в сумме не менее 22222.222222222223 продукта"
   ]
  },
  {
   "cell_type": "code",
   "execution_count": 115,
   "metadata": {},
   "outputs": [
    {
     "data": {
      "text/plain": [
       "111.11111111111111"
      ]
     },
     "execution_count": 115,
     "metadata": {},
     "output_type": "execute_result"
    }
   ],
   "source": [
    "PRODUCT_PER_POINT = PRODUCT_SUM / NUMBER_OF_BEST_POINTS\n",
    "PRODUCT_PER_POINT"
   ]
  },
  {
   "cell_type": "markdown",
   "metadata": {},
   "source": [
    "Средний безубыточный объем каждой скважины больше средних предказанных значений по регионам"
   ]
  },
  {
   "cell_type": "markdown",
   "metadata": {},
   "source": [
    "## Расчёт прибыли и рисков "
   ]
  },
  {
   "cell_type": "code",
   "execution_count": 116,
   "metadata": {},
   "outputs": [],
   "source": [
    "def income(data):\n",
    "    product_sum = data.sort_values(by = 'product_predicted', ascending=False).head(200)['product'].sum()\n",
    "    revenue = product_sum * PRICE_PER_PRODUCT\n",
    "    income = revenue - BUDGET\n",
    "    return income"
   ]
  },
  {
   "cell_type": "code",
   "execution_count": 117,
   "metadata": {},
   "outputs": [],
   "source": [
    "def bootstrap(data):\n",
    "    values = []\n",
    "    for i in range(1000):\n",
    "        subsample = data.sample(n = 500, replace=True, random_state=state)\n",
    "        subsample = income(subsample)\n",
    "        values.append(subsample)\n",
    "        values_series = pd.Series(values)\n",
    "        risk =  values_series.where(values_series < 0).count() / values_series.shape[0]\n",
    "    return values_series.mean() , values_series.quantile(0.025), values_series.quantile(0.975), risk "
   ]
  },
  {
   "cell_type": "code",
   "execution_count": 118,
   "metadata": {},
   "outputs": [],
   "source": [
    "income0, quantile_lower0, quantile_upper0, risk0 = bootstrap(df0_predicted)\n",
    "income1, quantile_lower1, quantile_upper1, risk1 = bootstrap(df1_predicted)\n",
    "income2, quantile_lower2, quantile_upper2, risk2 = bootstrap(df2_predicted)"
   ]
  },
  {
   "cell_type": "code",
   "execution_count": 119,
   "metadata": {},
   "outputs": [
    {
     "name": "stdout",
     "output_type": "stream",
     "text": [
      "Регион 0: средняя рибыль =   0.33 млрд.руб. | 95% доверительынй интервал =  -0.17 млрд.руб. <  0.86 млрд.руб. | вероятность убытка = 11.70%\n",
      "Регион 1: средняя рибыль =   0.44 млрд.руб. | 95% доверительынй интервал =   0.07 млрд.руб. <  0.84 млрд.руб. | вероятность убытка = 0.90%\n",
      "Регион 2: средняя рибыль =   0.37 млрд.руб. | 95% доверительынй интервал =  -0.17 млрд.руб. <  0.89 млрд.руб. | вероятность убытка = 8.30%\n"
     ]
    }
   ],
   "source": [
    "print(f'Регион 0: средняя рибыль = {income0/10**9:6.2f} млрд.руб. | 95% доверительынй интервал = {quantile_lower0/10**9:6.2f} млрд.руб. <{quantile_upper0/10**9:6.2f} млрд.руб. | вероятность убытка = {risk0:4.2%}')\n",
    "print(f'Регион 1: средняя рибыль = {income1/10**9:6.2f} млрд.руб. | 95% доверительынй интервал = {quantile_lower1/10**9:6.2f} млрд.руб. <{quantile_upper1/10**9:6.2f} млрд.руб. | вероятность убытка = {risk1:4.2%}')\n",
    "print(f'Регион 2: средняя рибыль = {income2/10**9:6.2f} млрд.руб. | 95% доверительынй интервал = {quantile_lower2/10**9:6.2f} млрд.руб. <{quantile_upper2/10**9:6.2f} млрд.руб. | вероятность убытка = {risk2:4.2%}')"
   ]
  },
  {
   "cell_type": "markdown",
   "metadata": {},
   "source": [
    "Исходя из представленных результатов выше, лучший регион для разработки первый."
   ]
  },
  {
   "cell_type": "markdown",
   "metadata": {},
   "source": [
    "## Вывод: \n",
    "<div class=\"alert alert-info\"; style=\"border: 3px solid green\">\n",
    "Наилучший регион для разработки - 1. Средняя прибыль составляет 0.44 млрд.руб. с доверительным 95% интервалом от 0.04 млрд.руб до 0.84 млрд.руб с вероятностью убытка в 0.90%\n",
    "</div>  "
   ]
  }
 ],
 "metadata": {
  "kernelspec": {
   "display_name": "Python 3 (ipykernel)",
   "language": "python",
   "name": "python3"
  },
  "language_info": {
   "codemirror_mode": {
    "name": "ipython",
    "version": 3
   },
   "file_extension": ".py",
   "mimetype": "text/x-python",
   "name": "python",
   "nbconvert_exporter": "python",
   "pygments_lexer": "ipython3",
   "version": "3.9.12"
  },
  "toc": {
   "base_numbering": 1,
   "nav_menu": {},
   "number_sections": true,
   "sideBar": true,
   "skip_h1_title": true,
   "title_cell": "Table of Contents",
   "title_sidebar": "Contents",
   "toc_cell": false,
   "toc_position": {},
   "toc_section_display": true,
   "toc_window_display": false
  },
  "vscode": {
   "interpreter": {
    "hash": "1c8c03b3dd9f00cbf1a5a5c63c930805b828fbf388ffb63f05d8fe79c64b8236"
   }
  }
 },
 "nbformat": 4,
 "nbformat_minor": 2
}
