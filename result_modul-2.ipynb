{
 "cells": [
  {
   "cell_type": "markdown",
   "metadata": {},
   "source": [
    "# Проект в процессе доработки"
   ]
  },
  {
   "cell_type": "markdown",
   "metadata": {},
   "source": [
    "# Восстановление золота из руды"
   ]
  },
  {
   "cell_type": "markdown",
   "metadata": {},
   "source": [
    "Подготовьте прототип модели машинного обучения для «Цифры». Компания разрабатывает решения для эффективной работы промышленных предприятий.\n",
    "\n",
    "Модель должна предсказать коэффициент восстановления золота из золотосодержащей руды. Используйте данные с параметрами добычи и очистки. \n",
    "\n",
    "Модель поможет оптимизировать производство, чтобы не запускать предприятие с убыточными характеристиками.\n",
    "\n",
    "Вам нужно:\n",
    "\n",
    "1. Подготовить данные;\n",
    "2. Провести исследовательский анализ данных;\n",
    "3. Построить и обучить модель.\n",
    "\n",
    "Чтобы выполнить проект, обращайтесь к библиотекам *pandas*, *matplotlib* и *sklearn.* Вам поможет их документация."
   ]
  },
  {
   "cell_type": "markdown",
   "metadata": {},
   "source": [
    "## Подготовка данных"
   ]
  },
  {
   "cell_type": "code",
   "execution_count": 1,
   "metadata": {},
   "outputs": [],
   "source": [
    "import pandas as pd\n",
    "import numpy as np\n",
    "import warnings\n",
    "import matplotlib.pyplot as plt\n",
    "from sklearn.tree import DecisionTreeRegressor\n",
    "from sklearn.ensemble import RandomForestRegressor\n",
    "from sklearn.linear_model import LinearRegression \n",
    "from sklearn.preprocessing import StandardScaler\n",
    "from sklearn.dummy import DummyRegressor\n",
    "from sklearn.metrics import make_scorer\n",
    "from sklearn.model_selection import cross_val_score\n",
    "from sklearn.metrics import mean_absolute_error\n",
    "from sklearn.model_selection import ParameterGrid\n",
    "from sklearn.utils import shuffle\n",
    "from tqdm.notebook import tqdm\n",
    "pd.set_option('display.max_rows', 1000)\n",
    "pd.set_option('display.max_columns', 1000)\n",
    "pd.set_option('display.width', 1500)\n",
    "warnings.simplefilter(\"ignore\")"
   ]
  },
  {
   "cell_type": "code",
   "execution_count": 2,
   "metadata": {},
   "outputs": [
    {
     "name": "stdout",
     "output_type": "stream",
     "text": [
      "<class 'pandas.core.frame.DataFrame'>\n",
      "RangeIndex: 19439 entries, 0 to 19438\n",
      "Data columns (total 87 columns):\n",
      " #   Column                                              Non-Null Count  Dtype  \n",
      "---  ------                                              --------------  -----  \n",
      " 0   date                                                19439 non-null  object \n",
      " 1   final.output.concentrate_ag                         19438 non-null  float64\n",
      " 2   final.output.concentrate_pb                         19438 non-null  float64\n",
      " 3   final.output.concentrate_sol                        19228 non-null  float64\n",
      " 4   final.output.concentrate_au                         19439 non-null  float64\n",
      " 5   final.output.recovery                               19439 non-null  float64\n",
      " 6   final.output.tail_ag                                19438 non-null  float64\n",
      " 7   final.output.tail_pb                                19338 non-null  float64\n",
      " 8   final.output.tail_sol                               19433 non-null  float64\n",
      " 9   final.output.tail_au                                19439 non-null  float64\n",
      " 10  primary_cleaner.input.sulfate                       19415 non-null  float64\n",
      " 11  primary_cleaner.input.depressant                    19402 non-null  float64\n",
      " 12  primary_cleaner.input.feed_size                     19439 non-null  float64\n",
      " 13  primary_cleaner.input.xanthate                      19335 non-null  float64\n",
      " 14  primary_cleaner.output.concentrate_ag               19439 non-null  float64\n",
      " 15  primary_cleaner.output.concentrate_pb               19323 non-null  float64\n",
      " 16  primary_cleaner.output.concentrate_sol              19069 non-null  float64\n",
      " 17  primary_cleaner.output.concentrate_au               19439 non-null  float64\n",
      " 18  primary_cleaner.output.tail_ag                      19435 non-null  float64\n",
      " 19  primary_cleaner.output.tail_pb                      19418 non-null  float64\n",
      " 20  primary_cleaner.output.tail_sol                     19377 non-null  float64\n",
      " 21  primary_cleaner.output.tail_au                      19439 non-null  float64\n",
      " 22  primary_cleaner.state.floatbank8_a_air              19435 non-null  float64\n",
      " 23  primary_cleaner.state.floatbank8_a_level            19438 non-null  float64\n",
      " 24  primary_cleaner.state.floatbank8_b_air              19435 non-null  float64\n",
      " 25  primary_cleaner.state.floatbank8_b_level            19438 non-null  float64\n",
      " 26  primary_cleaner.state.floatbank8_c_air              19437 non-null  float64\n",
      " 27  primary_cleaner.state.floatbank8_c_level            19438 non-null  float64\n",
      " 28  primary_cleaner.state.floatbank8_d_air              19436 non-null  float64\n",
      " 29  primary_cleaner.state.floatbank8_d_level            19438 non-null  float64\n",
      " 30  rougher.calculation.sulfate_to_au_concentrate       19437 non-null  float64\n",
      " 31  rougher.calculation.floatbank10_sulfate_to_au_feed  19437 non-null  float64\n",
      " 32  rougher.calculation.floatbank11_sulfate_to_au_feed  19437 non-null  float64\n",
      " 33  rougher.calculation.au_pb_ratio                     19439 non-null  float64\n",
      " 34  rougher.input.feed_ag                               19439 non-null  float64\n",
      " 35  rougher.input.feed_pb                               19339 non-null  float64\n",
      " 36  rougher.input.feed_rate                             19428 non-null  float64\n",
      " 37  rougher.input.feed_size                             19294 non-null  float64\n",
      " 38  rougher.input.feed_sol                              19340 non-null  float64\n",
      " 39  rougher.input.feed_au                               19439 non-null  float64\n",
      " 40  rougher.input.floatbank10_sulfate                   19405 non-null  float64\n",
      " 41  rougher.input.floatbank10_xanthate                  19431 non-null  float64\n",
      " 42  rougher.input.floatbank11_sulfate                   19395 non-null  float64\n",
      " 43  rougher.input.floatbank11_xanthate                  18986 non-null  float64\n",
      " 44  rougher.output.concentrate_ag                       19439 non-null  float64\n",
      " 45  rougher.output.concentrate_pb                       19439 non-null  float64\n",
      " 46  rougher.output.concentrate_sol                      19416 non-null  float64\n",
      " 47  rougher.output.concentrate_au                       19439 non-null  float64\n",
      " 48  rougher.output.recovery                             19439 non-null  float64\n",
      " 49  rougher.output.tail_ag                              19438 non-null  float64\n",
      " 50  rougher.output.tail_pb                              19439 non-null  float64\n",
      " 51  rougher.output.tail_sol                             19439 non-null  float64\n",
      " 52  rougher.output.tail_au                              19439 non-null  float64\n",
      " 53  rougher.state.floatbank10_a_air                     19438 non-null  float64\n",
      " 54  rougher.state.floatbank10_a_level                   19438 non-null  float64\n",
      " 55  rougher.state.floatbank10_b_air                     19438 non-null  float64\n",
      " 56  rougher.state.floatbank10_b_level                   19438 non-null  float64\n",
      " 57  rougher.state.floatbank10_c_air                     19438 non-null  float64\n",
      " 58  rougher.state.floatbank10_c_level                   19438 non-null  float64\n",
      " 59  rougher.state.floatbank10_d_air                     19439 non-null  float64\n",
      " 60  rougher.state.floatbank10_d_level                   19439 non-null  float64\n",
      " 61  rougher.state.floatbank10_e_air                     19003 non-null  float64\n",
      " 62  rougher.state.floatbank10_e_level                   19439 non-null  float64\n",
      " 63  rougher.state.floatbank10_f_air                     19439 non-null  float64\n",
      " 64  rougher.state.floatbank10_f_level                   19439 non-null  float64\n",
      " 65  secondary_cleaner.output.tail_ag                    19437 non-null  float64\n",
      " 66  secondary_cleaner.output.tail_pb                    19427 non-null  float64\n",
      " 67  secondary_cleaner.output.tail_sol                   17691 non-null  float64\n",
      " 68  secondary_cleaner.output.tail_au                    19439 non-null  float64\n",
      " 69  secondary_cleaner.state.floatbank2_a_air            19219 non-null  float64\n",
      " 70  secondary_cleaner.state.floatbank2_a_level          19438 non-null  float64\n",
      " 71  secondary_cleaner.state.floatbank2_b_air            19416 non-null  float64\n",
      " 72  secondary_cleaner.state.floatbank2_b_level          19438 non-null  float64\n",
      " 73  secondary_cleaner.state.floatbank3_a_air            19426 non-null  float64\n",
      " 74  secondary_cleaner.state.floatbank3_a_level          19438 non-null  float64\n",
      " 75  secondary_cleaner.state.floatbank3_b_air            19438 non-null  float64\n",
      " 76  secondary_cleaner.state.floatbank3_b_level          19438 non-null  float64\n",
      " 77  secondary_cleaner.state.floatbank4_a_air            19433 non-null  float64\n",
      " 78  secondary_cleaner.state.floatbank4_a_level          19438 non-null  float64\n",
      " 79  secondary_cleaner.state.floatbank4_b_air            19438 non-null  float64\n",
      " 80  secondary_cleaner.state.floatbank4_b_level          19438 non-null  float64\n",
      " 81  secondary_cleaner.state.floatbank5_a_air            19438 non-null  float64\n",
      " 82  secondary_cleaner.state.floatbank5_a_level          19438 non-null  float64\n",
      " 83  secondary_cleaner.state.floatbank5_b_air            19438 non-null  float64\n",
      " 84  secondary_cleaner.state.floatbank5_b_level          19438 non-null  float64\n",
      " 85  secondary_cleaner.state.floatbank6_a_air            19437 non-null  float64\n",
      " 86  secondary_cleaner.state.floatbank6_a_level          19438 non-null  float64\n",
      "dtypes: float64(86), object(1)\n",
      "memory usage: 12.9+ MB\n"
     ]
    }
   ],
   "source": [
    "try:\n",
    "    df_original = pd.read_csv('/DS/Yandex_Practikum/Projects/datasets/gold_recovery_full_new.csv')\n",
    "except:\n",
    "    df_original = pd.read_csv('/datasets/gold_recovery_full_new.csv')\n",
    "df_original.info()"
   ]
  },
  {
   "cell_type": "code",
   "execution_count": 3,
   "metadata": {
    "collapsed": true
   },
   "outputs": [
    {
     "name": "stdout",
     "output_type": "stream",
     "text": [
      "<class 'pandas.core.frame.DataFrame'>\n",
      "RangeIndex: 5290 entries, 0 to 5289\n",
      "Data columns (total 53 columns):\n",
      " #   Column                                      Non-Null Count  Dtype  \n",
      "---  ------                                      --------------  -----  \n",
      " 0   date                                        5290 non-null   object \n",
      " 1   primary_cleaner.input.sulfate               5286 non-null   float64\n",
      " 2   primary_cleaner.input.depressant            5285 non-null   float64\n",
      " 3   primary_cleaner.input.feed_size             5290 non-null   float64\n",
      " 4   primary_cleaner.input.xanthate              5286 non-null   float64\n",
      " 5   primary_cleaner.state.floatbank8_a_air      5290 non-null   float64\n",
      " 6   primary_cleaner.state.floatbank8_a_level    5290 non-null   float64\n",
      " 7   primary_cleaner.state.floatbank8_b_air      5290 non-null   float64\n",
      " 8   primary_cleaner.state.floatbank8_b_level    5290 non-null   float64\n",
      " 9   primary_cleaner.state.floatbank8_c_air      5290 non-null   float64\n",
      " 10  primary_cleaner.state.floatbank8_c_level    5290 non-null   float64\n",
      " 11  primary_cleaner.state.floatbank8_d_air      5290 non-null   float64\n",
      " 12  primary_cleaner.state.floatbank8_d_level    5290 non-null   float64\n",
      " 13  rougher.input.feed_ag                       5290 non-null   float64\n",
      " 14  rougher.input.feed_pb                       5290 non-null   float64\n",
      " 15  rougher.input.feed_rate                     5287 non-null   float64\n",
      " 16  rougher.input.feed_size                     5289 non-null   float64\n",
      " 17  rougher.input.feed_sol                      5269 non-null   float64\n",
      " 18  rougher.input.feed_au                       5290 non-null   float64\n",
      " 19  rougher.input.floatbank10_sulfate           5285 non-null   float64\n",
      " 20  rougher.input.floatbank10_xanthate          5290 non-null   float64\n",
      " 21  rougher.input.floatbank11_sulfate           5282 non-null   float64\n",
      " 22  rougher.input.floatbank11_xanthate          5265 non-null   float64\n",
      " 23  rougher.state.floatbank10_a_air             5290 non-null   float64\n",
      " 24  rougher.state.floatbank10_a_level           5290 non-null   float64\n",
      " 25  rougher.state.floatbank10_b_air             5290 non-null   float64\n",
      " 26  rougher.state.floatbank10_b_level           5290 non-null   float64\n",
      " 27  rougher.state.floatbank10_c_air             5290 non-null   float64\n",
      " 28  rougher.state.floatbank10_c_level           5290 non-null   float64\n",
      " 29  rougher.state.floatbank10_d_air             5290 non-null   float64\n",
      " 30  rougher.state.floatbank10_d_level           5290 non-null   float64\n",
      " 31  rougher.state.floatbank10_e_air             5290 non-null   float64\n",
      " 32  rougher.state.floatbank10_e_level           5290 non-null   float64\n",
      " 33  rougher.state.floatbank10_f_air             5290 non-null   float64\n",
      " 34  rougher.state.floatbank10_f_level           5290 non-null   float64\n",
      " 35  secondary_cleaner.state.floatbank2_a_air    5287 non-null   float64\n",
      " 36  secondary_cleaner.state.floatbank2_a_level  5290 non-null   float64\n",
      " 37  secondary_cleaner.state.floatbank2_b_air    5288 non-null   float64\n",
      " 38  secondary_cleaner.state.floatbank2_b_level  5290 non-null   float64\n",
      " 39  secondary_cleaner.state.floatbank3_a_air    5281 non-null   float64\n",
      " 40  secondary_cleaner.state.floatbank3_a_level  5290 non-null   float64\n",
      " 41  secondary_cleaner.state.floatbank3_b_air    5290 non-null   float64\n",
      " 42  secondary_cleaner.state.floatbank3_b_level  5290 non-null   float64\n",
      " 43  secondary_cleaner.state.floatbank4_a_air    5290 non-null   float64\n",
      " 44  secondary_cleaner.state.floatbank4_a_level  5290 non-null   float64\n",
      " 45  secondary_cleaner.state.floatbank4_b_air    5290 non-null   float64\n",
      " 46  secondary_cleaner.state.floatbank4_b_level  5290 non-null   float64\n",
      " 47  secondary_cleaner.state.floatbank5_a_air    5290 non-null   float64\n",
      " 48  secondary_cleaner.state.floatbank5_a_level  5290 non-null   float64\n",
      " 49  secondary_cleaner.state.floatbank5_b_air    5290 non-null   float64\n",
      " 50  secondary_cleaner.state.floatbank5_b_level  5290 non-null   float64\n",
      " 51  secondary_cleaner.state.floatbank6_a_air    5290 non-null   float64\n",
      " 52  secondary_cleaner.state.floatbank6_a_level  5290 non-null   float64\n",
      "dtypes: float64(52), object(1)\n",
      "memory usage: 2.1+ MB\n"
     ]
    }
   ],
   "source": [
    "try:\n",
    "    df_test = pd.read_csv('/DS/Yandex_Practikum/Projects/datasets/gold_recovery_test_new.csv')\n",
    "except:\n",
    "    df_test = pd.read_csv('/datasets/gold_recovery_test_new.csv')\n",
    "df_test.info()"
   ]
  },
  {
   "cell_type": "code",
   "execution_count": 4,
   "metadata": {
    "collapsed": true
   },
   "outputs": [
    {
     "name": "stdout",
     "output_type": "stream",
     "text": [
      "<class 'pandas.core.frame.DataFrame'>\n",
      "RangeIndex: 14149 entries, 0 to 14148\n",
      "Data columns (total 87 columns):\n",
      " #   Column                                              Non-Null Count  Dtype  \n",
      "---  ------                                              --------------  -----  \n",
      " 0   date                                                14149 non-null  object \n",
      " 1   final.output.concentrate_ag                         14148 non-null  float64\n",
      " 2   final.output.concentrate_pb                         14148 non-null  float64\n",
      " 3   final.output.concentrate_sol                        13938 non-null  float64\n",
      " 4   final.output.concentrate_au                         14149 non-null  float64\n",
      " 5   final.output.recovery                               14149 non-null  float64\n",
      " 6   final.output.tail_ag                                14149 non-null  float64\n",
      " 7   final.output.tail_pb                                14049 non-null  float64\n",
      " 8   final.output.tail_sol                               14144 non-null  float64\n",
      " 9   final.output.tail_au                                14149 non-null  float64\n",
      " 10  primary_cleaner.input.sulfate                       14129 non-null  float64\n",
      " 11  primary_cleaner.input.depressant                    14117 non-null  float64\n",
      " 12  primary_cleaner.input.feed_size                     14149 non-null  float64\n",
      " 13  primary_cleaner.input.xanthate                      14049 non-null  float64\n",
      " 14  primary_cleaner.output.concentrate_ag               14149 non-null  float64\n",
      " 15  primary_cleaner.output.concentrate_pb               14063 non-null  float64\n",
      " 16  primary_cleaner.output.concentrate_sol              13863 non-null  float64\n",
      " 17  primary_cleaner.output.concentrate_au               14149 non-null  float64\n",
      " 18  primary_cleaner.output.tail_ag                      14148 non-null  float64\n",
      " 19  primary_cleaner.output.tail_pb                      14134 non-null  float64\n",
      " 20  primary_cleaner.output.tail_sol                     14103 non-null  float64\n",
      " 21  primary_cleaner.output.tail_au                      14149 non-null  float64\n",
      " 22  primary_cleaner.state.floatbank8_a_air              14145 non-null  float64\n",
      " 23  primary_cleaner.state.floatbank8_a_level            14148 non-null  float64\n",
      " 24  primary_cleaner.state.floatbank8_b_air              14145 non-null  float64\n",
      " 25  primary_cleaner.state.floatbank8_b_level            14148 non-null  float64\n",
      " 26  primary_cleaner.state.floatbank8_c_air              14147 non-null  float64\n",
      " 27  primary_cleaner.state.floatbank8_c_level            14148 non-null  float64\n",
      " 28  primary_cleaner.state.floatbank8_d_air              14146 non-null  float64\n",
      " 29  primary_cleaner.state.floatbank8_d_level            14148 non-null  float64\n",
      " 30  rougher.calculation.sulfate_to_au_concentrate       14148 non-null  float64\n",
      " 31  rougher.calculation.floatbank10_sulfate_to_au_feed  14148 non-null  float64\n",
      " 32  rougher.calculation.floatbank11_sulfate_to_au_feed  14148 non-null  float64\n",
      " 33  rougher.calculation.au_pb_ratio                     14149 non-null  float64\n",
      " 34  rougher.input.feed_ag                               14149 non-null  float64\n",
      " 35  rougher.input.feed_pb                               14049 non-null  float64\n",
      " 36  rougher.input.feed_rate                             14141 non-null  float64\n",
      " 37  rougher.input.feed_size                             14005 non-null  float64\n",
      " 38  rougher.input.feed_sol                              14071 non-null  float64\n",
      " 39  rougher.input.feed_au                               14149 non-null  float64\n",
      " 40  rougher.input.floatbank10_sulfate                   14120 non-null  float64\n",
      " 41  rougher.input.floatbank10_xanthate                  14141 non-null  float64\n",
      " 42  rougher.input.floatbank11_sulfate                   14113 non-null  float64\n",
      " 43  rougher.input.floatbank11_xanthate                  13721 non-null  float64\n",
      " 44  rougher.output.concentrate_ag                       14149 non-null  float64\n",
      " 45  rougher.output.concentrate_pb                       14149 non-null  float64\n",
      " 46  rougher.output.concentrate_sol                      14127 non-null  float64\n",
      " 47  rougher.output.concentrate_au                       14149 non-null  float64\n",
      " 48  rougher.output.recovery                             14149 non-null  float64\n",
      " 49  rougher.output.tail_ag                              14148 non-null  float64\n",
      " 50  rougher.output.tail_pb                              14149 non-null  float64\n",
      " 51  rougher.output.tail_sol                             14149 non-null  float64\n",
      " 52  rougher.output.tail_au                              14149 non-null  float64\n",
      " 53  rougher.state.floatbank10_a_air                     14148 non-null  float64\n",
      " 54  rougher.state.floatbank10_a_level                   14148 non-null  float64\n",
      " 55  rougher.state.floatbank10_b_air                     14148 non-null  float64\n",
      " 56  rougher.state.floatbank10_b_level                   14148 non-null  float64\n",
      " 57  rougher.state.floatbank10_c_air                     14148 non-null  float64\n",
      " 58  rougher.state.floatbank10_c_level                   14148 non-null  float64\n",
      " 59  rougher.state.floatbank10_d_air                     14149 non-null  float64\n",
      " 60  rougher.state.floatbank10_d_level                   14149 non-null  float64\n",
      " 61  rougher.state.floatbank10_e_air                     13713 non-null  float64\n",
      " 62  rougher.state.floatbank10_e_level                   14149 non-null  float64\n",
      " 63  rougher.state.floatbank10_f_air                     14149 non-null  float64\n",
      " 64  rougher.state.floatbank10_f_level                   14149 non-null  float64\n",
      " 65  secondary_cleaner.output.tail_ag                    14147 non-null  float64\n",
      " 66  secondary_cleaner.output.tail_pb                    14139 non-null  float64\n",
      " 67  secondary_cleaner.output.tail_sol                   12544 non-null  float64\n",
      " 68  secondary_cleaner.output.tail_au                    14149 non-null  float64\n",
      " 69  secondary_cleaner.state.floatbank2_a_air            13932 non-null  float64\n",
      " 70  secondary_cleaner.state.floatbank2_a_level          14148 non-null  float64\n",
      " 71  secondary_cleaner.state.floatbank2_b_air            14128 non-null  float64\n",
      " 72  secondary_cleaner.state.floatbank2_b_level          14148 non-null  float64\n",
      " 73  secondary_cleaner.state.floatbank3_a_air            14145 non-null  float64\n",
      " 74  secondary_cleaner.state.floatbank3_a_level          14148 non-null  float64\n",
      " 75  secondary_cleaner.state.floatbank3_b_air            14148 non-null  float64\n",
      " 76  secondary_cleaner.state.floatbank3_b_level          14148 non-null  float64\n",
      " 77  secondary_cleaner.state.floatbank4_a_air            14143 non-null  float64\n",
      " 78  secondary_cleaner.state.floatbank4_a_level          14148 non-null  float64\n",
      " 79  secondary_cleaner.state.floatbank4_b_air            14148 non-null  float64\n",
      " 80  secondary_cleaner.state.floatbank4_b_level          14148 non-null  float64\n",
      " 81  secondary_cleaner.state.floatbank5_a_air            14148 non-null  float64\n",
      " 82  secondary_cleaner.state.floatbank5_a_level          14148 non-null  float64\n",
      " 83  secondary_cleaner.state.floatbank5_b_air            14148 non-null  float64\n",
      " 84  secondary_cleaner.state.floatbank5_b_level          14148 non-null  float64\n",
      " 85  secondary_cleaner.state.floatbank6_a_air            14147 non-null  float64\n",
      " 86  secondary_cleaner.state.floatbank6_a_level          14148 non-null  float64\n",
      "dtypes: float64(86), object(1)\n",
      "memory usage: 9.4+ MB\n"
     ]
    }
   ],
   "source": [
    "try:\n",
    "    df_train = pd.read_csv('/DS/Yandex_Practikum/Projects/datasets/gold_recovery_train_new.csv')\n",
    "except:\n",
    "    df_train = pd.read_csv('/datasets/gold_recovery_train_new.csv')\n",
    "df_train.info()"
   ]
  },
  {
   "cell_type": "code",
   "execution_count": 5,
   "metadata": {
    "collapsed": true
   },
   "outputs": [
    {
     "data": {
      "text/html": [
       "<div>\n",
       "<style scoped>\n",
       "    .dataframe tbody tr th:only-of-type {\n",
       "        vertical-align: middle;\n",
       "    }\n",
       "\n",
       "    .dataframe tbody tr th {\n",
       "        vertical-align: top;\n",
       "    }\n",
       "\n",
       "    .dataframe thead th {\n",
       "        text-align: right;\n",
       "    }\n",
       "</style>\n",
       "<table border=\"1\" class=\"dataframe\">\n",
       "  <thead>\n",
       "    <tr style=\"text-align: right;\">\n",
       "      <th></th>\n",
       "      <th>date</th>\n",
       "      <th>final.output.concentrate_ag</th>\n",
       "      <th>final.output.concentrate_pb</th>\n",
       "      <th>final.output.concentrate_sol</th>\n",
       "      <th>final.output.concentrate_au</th>\n",
       "      <th>final.output.recovery</th>\n",
       "      <th>final.output.tail_ag</th>\n",
       "      <th>final.output.tail_pb</th>\n",
       "      <th>final.output.tail_sol</th>\n",
       "      <th>final.output.tail_au</th>\n",
       "      <th>primary_cleaner.input.sulfate</th>\n",
       "      <th>primary_cleaner.input.depressant</th>\n",
       "      <th>primary_cleaner.input.feed_size</th>\n",
       "      <th>primary_cleaner.input.xanthate</th>\n",
       "      <th>primary_cleaner.output.concentrate_ag</th>\n",
       "      <th>primary_cleaner.output.concentrate_pb</th>\n",
       "      <th>primary_cleaner.output.concentrate_sol</th>\n",
       "      <th>primary_cleaner.output.concentrate_au</th>\n",
       "      <th>primary_cleaner.output.tail_ag</th>\n",
       "      <th>primary_cleaner.output.tail_pb</th>\n",
       "      <th>primary_cleaner.output.tail_sol</th>\n",
       "      <th>primary_cleaner.output.tail_au</th>\n",
       "      <th>primary_cleaner.state.floatbank8_a_air</th>\n",
       "      <th>primary_cleaner.state.floatbank8_a_level</th>\n",
       "      <th>primary_cleaner.state.floatbank8_b_air</th>\n",
       "      <th>primary_cleaner.state.floatbank8_b_level</th>\n",
       "      <th>primary_cleaner.state.floatbank8_c_air</th>\n",
       "      <th>primary_cleaner.state.floatbank8_c_level</th>\n",
       "      <th>primary_cleaner.state.floatbank8_d_air</th>\n",
       "      <th>primary_cleaner.state.floatbank8_d_level</th>\n",
       "      <th>rougher.calculation.sulfate_to_au_concentrate</th>\n",
       "      <th>rougher.calculation.floatbank10_sulfate_to_au_feed</th>\n",
       "      <th>rougher.calculation.floatbank11_sulfate_to_au_feed</th>\n",
       "      <th>rougher.calculation.au_pb_ratio</th>\n",
       "      <th>rougher.input.feed_ag</th>\n",
       "      <th>rougher.input.feed_pb</th>\n",
       "      <th>rougher.input.feed_rate</th>\n",
       "      <th>rougher.input.feed_size</th>\n",
       "      <th>rougher.input.feed_sol</th>\n",
       "      <th>rougher.input.feed_au</th>\n",
       "      <th>rougher.input.floatbank10_sulfate</th>\n",
       "      <th>rougher.input.floatbank10_xanthate</th>\n",
       "      <th>rougher.input.floatbank11_sulfate</th>\n",
       "      <th>rougher.input.floatbank11_xanthate</th>\n",
       "      <th>rougher.output.concentrate_ag</th>\n",
       "      <th>rougher.output.concentrate_pb</th>\n",
       "      <th>rougher.output.concentrate_sol</th>\n",
       "      <th>rougher.output.concentrate_au</th>\n",
       "      <th>rougher.output.recovery</th>\n",
       "      <th>rougher.output.tail_ag</th>\n",
       "      <th>rougher.output.tail_pb</th>\n",
       "      <th>rougher.output.tail_sol</th>\n",
       "      <th>rougher.output.tail_au</th>\n",
       "      <th>rougher.state.floatbank10_a_air</th>\n",
       "      <th>rougher.state.floatbank10_a_level</th>\n",
       "      <th>rougher.state.floatbank10_b_air</th>\n",
       "      <th>rougher.state.floatbank10_b_level</th>\n",
       "      <th>rougher.state.floatbank10_c_air</th>\n",
       "      <th>rougher.state.floatbank10_c_level</th>\n",
       "      <th>rougher.state.floatbank10_d_air</th>\n",
       "      <th>rougher.state.floatbank10_d_level</th>\n",
       "      <th>rougher.state.floatbank10_e_air</th>\n",
       "      <th>rougher.state.floatbank10_e_level</th>\n",
       "      <th>rougher.state.floatbank10_f_air</th>\n",
       "      <th>rougher.state.floatbank10_f_level</th>\n",
       "      <th>secondary_cleaner.output.tail_ag</th>\n",
       "      <th>secondary_cleaner.output.tail_pb</th>\n",
       "      <th>secondary_cleaner.output.tail_sol</th>\n",
       "      <th>secondary_cleaner.output.tail_au</th>\n",
       "      <th>secondary_cleaner.state.floatbank2_a_air</th>\n",
       "      <th>secondary_cleaner.state.floatbank2_a_level</th>\n",
       "      <th>secondary_cleaner.state.floatbank2_b_air</th>\n",
       "      <th>secondary_cleaner.state.floatbank2_b_level</th>\n",
       "      <th>secondary_cleaner.state.floatbank3_a_air</th>\n",
       "      <th>secondary_cleaner.state.floatbank3_a_level</th>\n",
       "      <th>secondary_cleaner.state.floatbank3_b_air</th>\n",
       "      <th>secondary_cleaner.state.floatbank3_b_level</th>\n",
       "      <th>secondary_cleaner.state.floatbank4_a_air</th>\n",
       "      <th>secondary_cleaner.state.floatbank4_a_level</th>\n",
       "      <th>secondary_cleaner.state.floatbank4_b_air</th>\n",
       "      <th>secondary_cleaner.state.floatbank4_b_level</th>\n",
       "      <th>secondary_cleaner.state.floatbank5_a_air</th>\n",
       "      <th>secondary_cleaner.state.floatbank5_a_level</th>\n",
       "      <th>secondary_cleaner.state.floatbank5_b_air</th>\n",
       "      <th>secondary_cleaner.state.floatbank5_b_level</th>\n",
       "      <th>secondary_cleaner.state.floatbank6_a_air</th>\n",
       "      <th>secondary_cleaner.state.floatbank6_a_level</th>\n",
       "    </tr>\n",
       "  </thead>\n",
       "  <tbody>\n",
       "    <tr>\n",
       "      <th>72</th>\n",
       "      <td>2016-01-18 02:00:00</td>\n",
       "      <td>4.537821</td>\n",
       "      <td>11.108789</td>\n",
       "      <td>4.964392</td>\n",
       "      <td>44.631736</td>\n",
       "      <td>72.825821</td>\n",
       "      <td>10.188482</td>\n",
       "      <td>1.410536</td>\n",
       "      <td>20.955075</td>\n",
       "      <td>2.238369</td>\n",
       "      <td>167.068597</td>\n",
       "      <td>12.009001</td>\n",
       "      <td>7.25</td>\n",
       "      <td>1.106190</td>\n",
       "      <td>6.346876</td>\n",
       "      <td>NaN</td>\n",
       "      <td>NaN</td>\n",
       "      <td>33.939208</td>\n",
       "      <td>14.464623</td>\n",
       "      <td>2.595068</td>\n",
       "      <td>8.285282</td>\n",
       "      <td>2.175427</td>\n",
       "      <td>1600.026961</td>\n",
       "      <td>-499.027108</td>\n",
       "      <td>1598.899033</td>\n",
       "      <td>-499.271032</td>\n",
       "      <td>1599.029653</td>\n",
       "      <td>-500.350350</td>\n",
       "      <td>1600.123785</td>\n",
       "      <td>-500.312615</td>\n",
       "      <td>44960.879378</td>\n",
       "      <td>3202.827344</td>\n",
       "      <td>3192.749494</td>\n",
       "      <td>2.510374</td>\n",
       "      <td>7.355083</td>\n",
       "      <td>2.892469</td>\n",
       "      <td>609.288428</td>\n",
       "      <td>64.262634</td>\n",
       "      <td>40.637758</td>\n",
       "      <td>7.261177</td>\n",
       "      <td>15.006824</td>\n",
       "      <td>7.493341</td>\n",
       "      <td>14.988413</td>\n",
       "      <td>7.502243</td>\n",
       "      <td>10.504703</td>\n",
       "      <td>7.451145</td>\n",
       "      <td>25.603770</td>\n",
       "      <td>18.785028</td>\n",
       "      <td>80.490217</td>\n",
       "      <td>4.807123</td>\n",
       "      <td>0.933264</td>\n",
       "      <td>20.662700</td>\n",
       "      <td>2.056461</td>\n",
       "      <td>1000.517881</td>\n",
       "      <td>-500.281385</td>\n",
       "      <td>1599.967985</td>\n",
       "      <td>-500.566184</td>\n",
       "      <td>1599.778321</td>\n",
       "      <td>-501.129662</td>\n",
       "      <td>1403.929724</td>\n",
       "      <td>-500.233309</td>\n",
       "      <td>1200.077323</td>\n",
       "      <td>-499.611883</td>\n",
       "      <td>1199.722091</td>\n",
       "      <td>-504.587045</td>\n",
       "      <td>12.713855</td>\n",
       "      <td>4.521709</td>\n",
       "      <td>10.618930</td>\n",
       "      <td>2.193209</td>\n",
       "      <td>27.944862</td>\n",
       "      <td>-500.206351</td>\n",
       "      <td>25.940298</td>\n",
       "      <td>-499.998019</td>\n",
       "      <td>25.043226</td>\n",
       "      <td>-501.753172</td>\n",
       "      <td>23.973076</td>\n",
       "      <td>-499.810448</td>\n",
       "      <td>14.064474</td>\n",
       "      <td>-551.573603</td>\n",
       "      <td>11.974107</td>\n",
       "      <td>-550.699412</td>\n",
       "      <td>10.028196</td>\n",
       "      <td>-500.331171</td>\n",
       "      <td>8.072443</td>\n",
       "      <td>-499.359611</td>\n",
       "      <td>11.973959</td>\n",
       "      <td>-600.580952</td>\n",
       "    </tr>\n",
       "    <tr>\n",
       "      <th>445</th>\n",
       "      <td>2016-02-05 00:00:00</td>\n",
       "      <td>9.913419</td>\n",
       "      <td>7.303278</td>\n",
       "      <td>NaN</td>\n",
       "      <td>43.483467</td>\n",
       "      <td>5.128833</td>\n",
       "      <td>10.246254</td>\n",
       "      <td>2.120942</td>\n",
       "      <td>15.929437</td>\n",
       "      <td>5.797123</td>\n",
       "      <td>61.785548</td>\n",
       "      <td>9.012200</td>\n",
       "      <td>8.17</td>\n",
       "      <td>1.340832</td>\n",
       "      <td>7.566748</td>\n",
       "      <td>NaN</td>\n",
       "      <td>NaN</td>\n",
       "      <td>36.961197</td>\n",
       "      <td>15.176236</td>\n",
       "      <td>4.334502</td>\n",
       "      <td>8.427522</td>\n",
       "      <td>16.349499</td>\n",
       "      <td>1601.847270</td>\n",
       "      <td>-499.437665</td>\n",
       "      <td>1600.104613</td>\n",
       "      <td>-500.625417</td>\n",
       "      <td>1602.901559</td>\n",
       "      <td>-501.846695</td>\n",
       "      <td>1594.985003</td>\n",
       "      <td>-501.082888</td>\n",
       "      <td>26445.439582</td>\n",
       "      <td>3000.749428</td>\n",
       "      <td>2996.459131</td>\n",
       "      <td>2.907550</td>\n",
       "      <td>8.391241</td>\n",
       "      <td>2.086566</td>\n",
       "      <td>495.446945</td>\n",
       "      <td>43.454331</td>\n",
       "      <td>32.130910</td>\n",
       "      <td>6.066797</td>\n",
       "      <td>9.096775</td>\n",
       "      <td>7.254125</td>\n",
       "      <td>9.101697</td>\n",
       "      <td>7.254814</td>\n",
       "      <td>12.363906</td>\n",
       "      <td>7.278220</td>\n",
       "      <td>25.258325</td>\n",
       "      <td>18.393568</td>\n",
       "      <td>80.986000</td>\n",
       "      <td>5.326957</td>\n",
       "      <td>0.362822</td>\n",
       "      <td>19.945964</td>\n",
       "      <td>1.573979</td>\n",
       "      <td>1000.001622</td>\n",
       "      <td>-500.410171</td>\n",
       "      <td>1700.524320</td>\n",
       "      <td>-500.281392</td>\n",
       "      <td>1699.866571</td>\n",
       "      <td>-500.250001</td>\n",
       "      <td>1659.030053</td>\n",
       "      <td>-500.245771</td>\n",
       "      <td>1551.922510</td>\n",
       "      <td>-497.456522</td>\n",
       "      <td>1452.089473</td>\n",
       "      <td>-500.161596</td>\n",
       "      <td>13.329747</td>\n",
       "      <td>5.299300</td>\n",
       "      <td>13.190685</td>\n",
       "      <td>13.837308</td>\n",
       "      <td>25.024664</td>\n",
       "      <td>-402.512820</td>\n",
       "      <td>23.978602</td>\n",
       "      <td>-500.239096</td>\n",
       "      <td>23.997138</td>\n",
       "      <td>-498.224947</td>\n",
       "      <td>24.001545</td>\n",
       "      <td>-499.566804</td>\n",
       "      <td>17.001952</td>\n",
       "      <td>-498.193455</td>\n",
       "      <td>15.993364</td>\n",
       "      <td>-493.907097</td>\n",
       "      <td>17.951822</td>\n",
       "      <td>-495.812234</td>\n",
       "      <td>15.980995</td>\n",
       "      <td>-499.328891</td>\n",
       "      <td>18.002004</td>\n",
       "      <td>-498.705453</td>\n",
       "    </tr>\n",
       "    <tr>\n",
       "      <th>1058</th>\n",
       "      <td>2016-03-02 17:00:00</td>\n",
       "      <td>7.103273</td>\n",
       "      <td>10.234169</td>\n",
       "      <td>NaN</td>\n",
       "      <td>39.052646</td>\n",
       "      <td>51.076750</td>\n",
       "      <td>11.546684</td>\n",
       "      <td>1.642448</td>\n",
       "      <td>2.996640</td>\n",
       "      <td>3.872456</td>\n",
       "      <td>52.911234</td>\n",
       "      <td>3.999540</td>\n",
       "      <td>7.62</td>\n",
       "      <td>0.526372</td>\n",
       "      <td>6.113449</td>\n",
       "      <td>NaN</td>\n",
       "      <td>NaN</td>\n",
       "      <td>36.103988</td>\n",
       "      <td>14.290606</td>\n",
       "      <td>2.539646</td>\n",
       "      <td>5.475582</td>\n",
       "      <td>6.979944</td>\n",
       "      <td>1598.646041</td>\n",
       "      <td>-452.135846</td>\n",
       "      <td>1597.969536</td>\n",
       "      <td>-450.483004</td>\n",
       "      <td>1599.639247</td>\n",
       "      <td>-451.753054</td>\n",
       "      <td>741.741402</td>\n",
       "      <td>-350.139343</td>\n",
       "      <td>49701.433398</td>\n",
       "      <td>3122.344505</td>\n",
       "      <td>3122.213156</td>\n",
       "      <td>2.397951</td>\n",
       "      <td>7.478537</td>\n",
       "      <td>2.991224</td>\n",
       "      <td>180.356345</td>\n",
       "      <td>60.077635</td>\n",
       "      <td>38.661857</td>\n",
       "      <td>7.172807</td>\n",
       "      <td>4.001025</td>\n",
       "      <td>1.996469</td>\n",
       "      <td>4.002125</td>\n",
       "      <td>2.000002</td>\n",
       "      <td>11.783644</td>\n",
       "      <td>7.659558</td>\n",
       "      <td>25.782524</td>\n",
       "      <td>15.742497</td>\n",
       "      <td>87.151105</td>\n",
       "      <td>3.920244</td>\n",
       "      <td>0.492251</td>\n",
       "      <td>10.389648</td>\n",
       "      <td>1.528629</td>\n",
       "      <td>999.472036</td>\n",
       "      <td>-499.950354</td>\n",
       "      <td>1695.981220</td>\n",
       "      <td>-500.471436</td>\n",
       "      <td>1693.174370</td>\n",
       "      <td>-498.127274</td>\n",
       "      <td>1684.363842</td>\n",
       "      <td>-505.240489</td>\n",
       "      <td>1595.975557</td>\n",
       "      <td>-500.358997</td>\n",
       "      <td>1596.397516</td>\n",
       "      <td>-501.274466</td>\n",
       "      <td>12.194593</td>\n",
       "      <td>4.670659</td>\n",
       "      <td>7.658886</td>\n",
       "      <td>5.584425</td>\n",
       "      <td>31.030911</td>\n",
       "      <td>-500.103852</td>\n",
       "      <td>28.988696</td>\n",
       "      <td>-500.724514</td>\n",
       "      <td>27.990346</td>\n",
       "      <td>-500.007388</td>\n",
       "      <td>25.974458</td>\n",
       "      <td>-500.407452</td>\n",
       "      <td>14.028251</td>\n",
       "      <td>-501.166807</td>\n",
       "      <td>13.968885</td>\n",
       "      <td>-500.599345</td>\n",
       "      <td>11.942642</td>\n",
       "      <td>-500.747711</td>\n",
       "      <td>10.046074</td>\n",
       "      <td>-500.570464</td>\n",
       "      <td>20.014470</td>\n",
       "      <td>-502.453802</td>\n",
       "    </tr>\n",
       "    <tr>\n",
       "      <th>1059</th>\n",
       "      <td>2016-03-02 18:00:00</td>\n",
       "      <td>5.624455</td>\n",
       "      <td>10.217690</td>\n",
       "      <td>NaN</td>\n",
       "      <td>41.315692</td>\n",
       "      <td>56.916567</td>\n",
       "      <td>11.566314</td>\n",
       "      <td>1.482532</td>\n",
       "      <td>3.032499</td>\n",
       "      <td>3.400498</td>\n",
       "      <td>57.824273</td>\n",
       "      <td>4.091550</td>\n",
       "      <td>7.62</td>\n",
       "      <td>0.565280</td>\n",
       "      <td>5.964104</td>\n",
       "      <td>NaN</td>\n",
       "      <td>NaN</td>\n",
       "      <td>36.013201</td>\n",
       "      <td>14.594978</td>\n",
       "      <td>2.450434</td>\n",
       "      <td>5.080307</td>\n",
       "      <td>5.447789</td>\n",
       "      <td>1598.529701</td>\n",
       "      <td>-449.382345</td>\n",
       "      <td>1600.055319</td>\n",
       "      <td>-449.848078</td>\n",
       "      <td>1596.895067</td>\n",
       "      <td>-449.654941</td>\n",
       "      <td>734.791471</td>\n",
       "      <td>-350.155874</td>\n",
       "      <td>53510.094208</td>\n",
       "      <td>3132.298362</td>\n",
       "      <td>3128.665228</td>\n",
       "      <td>2.386886</td>\n",
       "      <td>7.392582</td>\n",
       "      <td>2.982457</td>\n",
       "      <td>180.337510</td>\n",
       "      <td>68.552120</td>\n",
       "      <td>38.719416</td>\n",
       "      <td>7.118784</td>\n",
       "      <td>4.000906</td>\n",
       "      <td>1.999895</td>\n",
       "      <td>3.995647</td>\n",
       "      <td>2.000953</td>\n",
       "      <td>11.509057</td>\n",
       "      <td>7.516534</td>\n",
       "      <td>25.342839</td>\n",
       "      <td>15.500766</td>\n",
       "      <td>86.374040</td>\n",
       "      <td>3.804169</td>\n",
       "      <td>0.794326</td>\n",
       "      <td>13.485051</td>\n",
       "      <td>1.607764</td>\n",
       "      <td>997.133184</td>\n",
       "      <td>-500.472317</td>\n",
       "      <td>1699.351663</td>\n",
       "      <td>-500.194767</td>\n",
       "      <td>1698.718744</td>\n",
       "      <td>-499.755950</td>\n",
       "      <td>1697.931691</td>\n",
       "      <td>-499.504728</td>\n",
       "      <td>1599.787762</td>\n",
       "      <td>-499.768620</td>\n",
       "      <td>1599.780980</td>\n",
       "      <td>-499.992408</td>\n",
       "      <td>12.158175</td>\n",
       "      <td>4.469167</td>\n",
       "      <td>7.042710</td>\n",
       "      <td>4.150192</td>\n",
       "      <td>31.069694</td>\n",
       "      <td>-500.547764</td>\n",
       "      <td>28.964678</td>\n",
       "      <td>-500.037425</td>\n",
       "      <td>27.933038</td>\n",
       "      <td>-499.964411</td>\n",
       "      <td>25.942084</td>\n",
       "      <td>-499.737041</td>\n",
       "      <td>14.020548</td>\n",
       "      <td>-500.092751</td>\n",
       "      <td>13.930844</td>\n",
       "      <td>-499.646384</td>\n",
       "      <td>12.007554</td>\n",
       "      <td>-499.411748</td>\n",
       "      <td>9.945841</td>\n",
       "      <td>-499.965390</td>\n",
       "      <td>20.038856</td>\n",
       "      <td>-499.320476</td>\n",
       "    </tr>\n",
       "    <tr>\n",
       "      <th>1060</th>\n",
       "      <td>2016-03-02 19:00:00</td>\n",
       "      <td>5.415315</td>\n",
       "      <td>10.130675</td>\n",
       "      <td>2.710059</td>\n",
       "      <td>41.761268</td>\n",
       "      <td>56.355506</td>\n",
       "      <td>11.635384</td>\n",
       "      <td>1.403602</td>\n",
       "      <td>2.952720</td>\n",
       "      <td>3.069832</td>\n",
       "      <td>58.328329</td>\n",
       "      <td>3.961007</td>\n",
       "      <td>7.62</td>\n",
       "      <td>0.599017</td>\n",
       "      <td>5.810685</td>\n",
       "      <td>NaN</td>\n",
       "      <td>NaN</td>\n",
       "      <td>36.058594</td>\n",
       "      <td>14.700187</td>\n",
       "      <td>2.366228</td>\n",
       "      <td>4.881217</td>\n",
       "      <td>4.604212</td>\n",
       "      <td>1598.895326</td>\n",
       "      <td>-451.583640</td>\n",
       "      <td>1601.578261</td>\n",
       "      <td>-449.442476</td>\n",
       "      <td>1597.665702</td>\n",
       "      <td>-449.605850</td>\n",
       "      <td>744.108985</td>\n",
       "      <td>-349.692034</td>\n",
       "      <td>53497.046924</td>\n",
       "      <td>3362.962089</td>\n",
       "      <td>3362.322069</td>\n",
       "      <td>2.440588</td>\n",
       "      <td>7.820740</td>\n",
       "      <td>2.632141</td>\n",
       "      <td>179.321910</td>\n",
       "      <td>71.422821</td>\n",
       "      <td>30.481283</td>\n",
       "      <td>6.423972</td>\n",
       "      <td>4.003446</td>\n",
       "      <td>2.000680</td>\n",
       "      <td>4.001197</td>\n",
       "      <td>2.001641</td>\n",
       "      <td>11.639792</td>\n",
       "      <td>7.411216</td>\n",
       "      <td>25.567038</td>\n",
       "      <td>15.608488</td>\n",
       "      <td>82.884102</td>\n",
       "      <td>3.687890</td>\n",
       "      <td>0.974382</td>\n",
       "      <td>15.766912</td>\n",
       "      <td>1.668786</td>\n",
       "      <td>1005.190914</td>\n",
       "      <td>-500.698367</td>\n",
       "      <td>1708.540218</td>\n",
       "      <td>-499.567371</td>\n",
       "      <td>1708.761646</td>\n",
       "      <td>-498.479697</td>\n",
       "      <td>1716.272224</td>\n",
       "      <td>-500.878136</td>\n",
       "      <td>1600.717202</td>\n",
       "      <td>-500.143587</td>\n",
       "      <td>1603.227334</td>\n",
       "      <td>-500.131748</td>\n",
       "      <td>12.343722</td>\n",
       "      <td>4.460530</td>\n",
       "      <td>6.689590</td>\n",
       "      <td>3.613602</td>\n",
       "      <td>31.073532</td>\n",
       "      <td>-500.109956</td>\n",
       "      <td>29.017190</td>\n",
       "      <td>-500.192692</td>\n",
       "      <td>28.060382</td>\n",
       "      <td>-500.506917</td>\n",
       "      <td>26.007784</td>\n",
       "      <td>-499.820016</td>\n",
       "      <td>14.039379</td>\n",
       "      <td>-500.137328</td>\n",
       "      <td>13.921526</td>\n",
       "      <td>-500.455467</td>\n",
       "      <td>11.971144</td>\n",
       "      <td>-499.861886</td>\n",
       "      <td>10.005474</td>\n",
       "      <td>-500.093687</td>\n",
       "      <td>20.012113</td>\n",
       "      <td>-500.270329</td>\n",
       "    </tr>\n",
       "    <tr>\n",
       "      <th>1061</th>\n",
       "      <td>2016-03-03 00:00:00</td>\n",
       "      <td>6.679058</td>\n",
       "      <td>11.458260</td>\n",
       "      <td>NaN</td>\n",
       "      <td>37.609988</td>\n",
       "      <td>23.587405</td>\n",
       "      <td>11.526404</td>\n",
       "      <td>1.446846</td>\n",
       "      <td>3.736397</td>\n",
       "      <td>3.185766</td>\n",
       "      <td>32.146564</td>\n",
       "      <td>4.070972</td>\n",
       "      <td>7.62</td>\n",
       "      <td>0.602415</td>\n",
       "      <td>5.934116</td>\n",
       "      <td>2.690785</td>\n",
       "      <td>NaN</td>\n",
       "      <td>22.819286</td>\n",
       "      <td>14.301325</td>\n",
       "      <td>2.247058</td>\n",
       "      <td>4.848652</td>\n",
       "      <td>5.755170</td>\n",
       "      <td>1599.416891</td>\n",
       "      <td>-450.801407</td>\n",
       "      <td>1603.451081</td>\n",
       "      <td>-449.251976</td>\n",
       "      <td>1600.850470</td>\n",
       "      <td>-449.493269</td>\n",
       "      <td>829.412822</td>\n",
       "      <td>-350.106117</td>\n",
       "      <td>68548.942067</td>\n",
       "      <td>5829.034754</td>\n",
       "      <td>5813.763330</td>\n",
       "      <td>2.861629</td>\n",
       "      <td>8.436220</td>\n",
       "      <td>1.419796</td>\n",
       "      <td>152.548234</td>\n",
       "      <td>75.936489</td>\n",
       "      <td>NaN</td>\n",
       "      <td>4.062929</td>\n",
       "      <td>3.997416</td>\n",
       "      <td>2.001029</td>\n",
       "      <td>3.999568</td>\n",
       "      <td>1.997980</td>\n",
       "      <td>9.948273</td>\n",
       "      <td>8.086406</td>\n",
       "      <td>18.102263</td>\n",
       "      <td>15.394890</td>\n",
       "      <td>54.399824</td>\n",
       "      <td>4.124551</td>\n",
       "      <td>1.216272</td>\n",
       "      <td>15.737280</td>\n",
       "      <td>2.163283</td>\n",
       "      <td>1000.188545</td>\n",
       "      <td>-499.887750</td>\n",
       "      <td>1700.481321</td>\n",
       "      <td>-499.410892</td>\n",
       "      <td>1699.624699</td>\n",
       "      <td>-501.711993</td>\n",
       "      <td>1700.446259</td>\n",
       "      <td>-499.506898</td>\n",
       "      <td>1598.958130</td>\n",
       "      <td>-503.536344</td>\n",
       "      <td>1599.843564</td>\n",
       "      <td>-502.173062</td>\n",
       "      <td>11.872514</td>\n",
       "      <td>4.445261</td>\n",
       "      <td>7.285611</td>\n",
       "      <td>5.339048</td>\n",
       "      <td>30.914393</td>\n",
       "      <td>-500.302490</td>\n",
       "      <td>29.070457</td>\n",
       "      <td>-499.331373</td>\n",
       "      <td>27.952824</td>\n",
       "      <td>-500.324195</td>\n",
       "      <td>26.033145</td>\n",
       "      <td>-499.627157</td>\n",
       "      <td>14.023844</td>\n",
       "      <td>-499.939551</td>\n",
       "      <td>13.850933</td>\n",
       "      <td>-500.471241</td>\n",
       "      <td>12.073684</td>\n",
       "      <td>-500.197102</td>\n",
       "      <td>10.031157</td>\n",
       "      <td>-499.759717</td>\n",
       "      <td>20.018253</td>\n",
       "      <td>-499.897782</td>\n",
       "    </tr>\n",
       "    <tr>\n",
       "      <th>1062</th>\n",
       "      <td>2016-03-03 01:00:00</td>\n",
       "      <td>7.762595</td>\n",
       "      <td>11.891823</td>\n",
       "      <td>NaN</td>\n",
       "      <td>35.600960</td>\n",
       "      <td>30.466500</td>\n",
       "      <td>11.638538</td>\n",
       "      <td>1.521815</td>\n",
       "      <td>2.358935</td>\n",
       "      <td>3.629297</td>\n",
       "      <td>30.991441</td>\n",
       "      <td>3.952205</td>\n",
       "      <td>7.62</td>\n",
       "      <td>0.594835</td>\n",
       "      <td>7.824355</td>\n",
       "      <td>3.053213</td>\n",
       "      <td>NaN</td>\n",
       "      <td>33.265563</td>\n",
       "      <td>13.966963</td>\n",
       "      <td>2.342353</td>\n",
       "      <td>5.193278</td>\n",
       "      <td>7.570741</td>\n",
       "      <td>1599.862707</td>\n",
       "      <td>-448.751329</td>\n",
       "      <td>1603.192607</td>\n",
       "      <td>-450.879386</td>\n",
       "      <td>1597.678181</td>\n",
       "      <td>-450.064632</td>\n",
       "      <td>822.292514</td>\n",
       "      <td>-350.696756</td>\n",
       "      <td>57316.929805</td>\n",
       "      <td>2906.125460</td>\n",
       "      <td>2930.049045</td>\n",
       "      <td>2.684077</td>\n",
       "      <td>9.125712</td>\n",
       "      <td>1.861468</td>\n",
       "      <td>494.915648</td>\n",
       "      <td>38.270590</td>\n",
       "      <td>NaN</td>\n",
       "      <td>4.996322</td>\n",
       "      <td>4.014177</td>\n",
       "      <td>2.708977</td>\n",
       "      <td>4.026480</td>\n",
       "      <td>2.709342</td>\n",
       "      <td>10.311205</td>\n",
       "      <td>8.189271</td>\n",
       "      <td>18.989257</td>\n",
       "      <td>15.814391</td>\n",
       "      <td>61.976448</td>\n",
       "      <td>4.330739</td>\n",
       "      <td>1.213452</td>\n",
       "      <td>13.422149</td>\n",
       "      <td>2.362338</td>\n",
       "      <td>999.173809</td>\n",
       "      <td>-503.057108</td>\n",
       "      <td>1694.313435</td>\n",
       "      <td>-498.331963</td>\n",
       "      <td>1695.901242</td>\n",
       "      <td>-492.372207</td>\n",
       "      <td>1690.739124</td>\n",
       "      <td>-501.662238</td>\n",
       "      <td>1601.082784</td>\n",
       "      <td>-503.821277</td>\n",
       "      <td>1601.346939</td>\n",
       "      <td>-482.055300</td>\n",
       "      <td>11.669126</td>\n",
       "      <td>4.369948</td>\n",
       "      <td>7.659242</td>\n",
       "      <td>6.838973</td>\n",
       "      <td>30.829934</td>\n",
       "      <td>-499.081097</td>\n",
       "      <td>28.988488</td>\n",
       "      <td>-499.380413</td>\n",
       "      <td>28.023471</td>\n",
       "      <td>-499.645883</td>\n",
       "      <td>26.015157</td>\n",
       "      <td>-500.031226</td>\n",
       "      <td>14.017758</td>\n",
       "      <td>-499.797982</td>\n",
       "      <td>14.033361</td>\n",
       "      <td>-500.580601</td>\n",
       "      <td>12.031868</td>\n",
       "      <td>-498.821663</td>\n",
       "      <td>9.965720</td>\n",
       "      <td>-500.058442</td>\n",
       "      <td>20.008216</td>\n",
       "      <td>-499.108830</td>\n",
       "    </tr>\n",
       "    <tr>\n",
       "      <th>1063</th>\n",
       "      <td>2016-03-03 02:00:00</td>\n",
       "      <td>6.793950</td>\n",
       "      <td>11.904176</td>\n",
       "      <td>NaN</td>\n",
       "      <td>36.999454</td>\n",
       "      <td>42.976059</td>\n",
       "      <td>10.927713</td>\n",
       "      <td>1.555264</td>\n",
       "      <td>8.926884</td>\n",
       "      <td>3.764338</td>\n",
       "      <td>57.933277</td>\n",
       "      <td>8.143546</td>\n",
       "      <td>7.62</td>\n",
       "      <td>0.828163</td>\n",
       "      <td>8.798243</td>\n",
       "      <td>6.726686</td>\n",
       "      <td>NaN</td>\n",
       "      <td>32.920681</td>\n",
       "      <td>14.226373</td>\n",
       "      <td>2.363663</td>\n",
       "      <td>4.884207</td>\n",
       "      <td>7.119554</td>\n",
       "      <td>1600.360136</td>\n",
       "      <td>-450.223482</td>\n",
       "      <td>1602.226657</td>\n",
       "      <td>-447.813703</td>\n",
       "      <td>1597.999048</td>\n",
       "      <td>-446.196225</td>\n",
       "      <td>810.776523</td>\n",
       "      <td>-351.784597</td>\n",
       "      <td>54363.721448</td>\n",
       "      <td>2808.549900</td>\n",
       "      <td>2812.892634</td>\n",
       "      <td>2.361179</td>\n",
       "      <td>7.980634</td>\n",
       "      <td>2.596673</td>\n",
       "      <td>416.739645</td>\n",
       "      <td>49.255505</td>\n",
       "      <td>29.002996</td>\n",
       "      <td>6.131209</td>\n",
       "      <td>6.824278</td>\n",
       "      <td>4.609833</td>\n",
       "      <td>6.821409</td>\n",
       "      <td>4.592494</td>\n",
       "      <td>9.478746</td>\n",
       "      <td>8.095206</td>\n",
       "      <td>20.052817</td>\n",
       "      <td>17.007525</td>\n",
       "      <td>61.299992</td>\n",
       "      <td>6.039222</td>\n",
       "      <td>1.369448</td>\n",
       "      <td>16.813997</td>\n",
       "      <td>3.045875</td>\n",
       "      <td>1000.058479</td>\n",
       "      <td>-505.990067</td>\n",
       "      <td>1700.305254</td>\n",
       "      <td>-504.027576</td>\n",
       "      <td>1701.556365</td>\n",
       "      <td>-508.650674</td>\n",
       "      <td>1695.481919</td>\n",
       "      <td>-502.240803</td>\n",
       "      <td>1599.111464</td>\n",
       "      <td>-494.529149</td>\n",
       "      <td>1598.208534</td>\n",
       "      <td>-526.767946</td>\n",
       "      <td>11.304422</td>\n",
       "      <td>4.535328</td>\n",
       "      <td>8.305464</td>\n",
       "      <td>7.010547</td>\n",
       "      <td>30.970566</td>\n",
       "      <td>-473.106038</td>\n",
       "      <td>28.938348</td>\n",
       "      <td>-499.985518</td>\n",
       "      <td>27.957694</td>\n",
       "      <td>-499.873678</td>\n",
       "      <td>26.060408</td>\n",
       "      <td>-500.248533</td>\n",
       "      <td>13.971568</td>\n",
       "      <td>-501.112791</td>\n",
       "      <td>14.099543</td>\n",
       "      <td>-500.532699</td>\n",
       "      <td>12.001743</td>\n",
       "      <td>-497.968386</td>\n",
       "      <td>10.009567</td>\n",
       "      <td>-499.676603</td>\n",
       "      <td>19.954140</td>\n",
       "      <td>-498.325103</td>\n",
       "    </tr>\n",
       "    <tr>\n",
       "      <th>1162</th>\n",
       "      <td>2016-03-07 23:00:00</td>\n",
       "      <td>7.449749</td>\n",
       "      <td>7.814327</td>\n",
       "      <td>NaN</td>\n",
       "      <td>41.506126</td>\n",
       "      <td>5.813479</td>\n",
       "      <td>11.656130</td>\n",
       "      <td>1.246949</td>\n",
       "      <td>3.811963</td>\n",
       "      <td>2.484487</td>\n",
       "      <td>54.988718</td>\n",
       "      <td>3.980148</td>\n",
       "      <td>7.30</td>\n",
       "      <td>0.795548</td>\n",
       "      <td>5.370160</td>\n",
       "      <td>NaN</td>\n",
       "      <td>NaN</td>\n",
       "      <td>37.748178</td>\n",
       "      <td>15.420331</td>\n",
       "      <td>2.286908</td>\n",
       "      <td>4.120302</td>\n",
       "      <td>2.804423</td>\n",
       "      <td>1799.173437</td>\n",
       "      <td>-349.762899</td>\n",
       "      <td>1797.116474</td>\n",
       "      <td>-350.589053</td>\n",
       "      <td>1794.245695</td>\n",
       "      <td>-348.842238</td>\n",
       "      <td>870.529634</td>\n",
       "      <td>-350.255761</td>\n",
       "      <td>782969.772356</td>\n",
       "      <td>9335.170609</td>\n",
       "      <td>9318.242032</td>\n",
       "      <td>-0.000465</td>\n",
       "      <td>7.566549</td>\n",
       "      <td>NaN</td>\n",
       "      <td>179.425096</td>\n",
       "      <td>61.097736</td>\n",
       "      <td>NaN</td>\n",
       "      <td>2.628128</td>\n",
       "      <td>4.003762</td>\n",
       "      <td>2.496125</td>\n",
       "      <td>4.000845</td>\n",
       "      <td>2.505056</td>\n",
       "      <td>10.030226</td>\n",
       "      <td>7.002800</td>\n",
       "      <td>15.631355</td>\n",
       "      <td>14.988903</td>\n",
       "      <td>50.549013</td>\n",
       "      <td>3.852503</td>\n",
       "      <td>0.515366</td>\n",
       "      <td>10.798746</td>\n",
       "      <td>1.426026</td>\n",
       "      <td>1000.079060</td>\n",
       "      <td>-499.443426</td>\n",
       "      <td>1649.198756</td>\n",
       "      <td>-300.329515</td>\n",
       "      <td>1550.011749</td>\n",
       "      <td>-301.118955</td>\n",
       "      <td>1548.566653</td>\n",
       "      <td>-501.818228</td>\n",
       "      <td>1450.675632</td>\n",
       "      <td>-299.995213</td>\n",
       "      <td>1450.447976</td>\n",
       "      <td>-402.379211</td>\n",
       "      <td>12.417707</td>\n",
       "      <td>4.744868</td>\n",
       "      <td>5.958196</td>\n",
       "      <td>3.278362</td>\n",
       "      <td>29.953975</td>\n",
       "      <td>-314.819823</td>\n",
       "      <td>28.027122</td>\n",
       "      <td>-399.691296</td>\n",
       "      <td>28.003955</td>\n",
       "      <td>-399.767769</td>\n",
       "      <td>25.986504</td>\n",
       "      <td>-399.763957</td>\n",
       "      <td>13.970984</td>\n",
       "      <td>-399.475581</td>\n",
       "      <td>13.997681</td>\n",
       "      <td>-400.009206</td>\n",
       "      <td>11.871199</td>\n",
       "      <td>-399.757824</td>\n",
       "      <td>9.967461</td>\n",
       "      <td>-400.146402</td>\n",
       "      <td>19.911032</td>\n",
       "      <td>-397.173392</td>\n",
       "    </tr>\n",
       "    <tr>\n",
       "      <th>1163</th>\n",
       "      <td>2016-03-08 00:00:00</td>\n",
       "      <td>7.206511</td>\n",
       "      <td>7.453374</td>\n",
       "      <td>NaN</td>\n",
       "      <td>42.368582</td>\n",
       "      <td>33.313360</td>\n",
       "      <td>11.463791</td>\n",
       "      <td>1.221444</td>\n",
       "      <td>4.872956</td>\n",
       "      <td>2.432494</td>\n",
       "      <td>55.016078</td>\n",
       "      <td>4.076038</td>\n",
       "      <td>7.30</td>\n",
       "      <td>0.804198</td>\n",
       "      <td>5.417422</td>\n",
       "      <td>NaN</td>\n",
       "      <td>NaN</td>\n",
       "      <td>37.705205</td>\n",
       "      <td>14.984543</td>\n",
       "      <td>2.200586</td>\n",
       "      <td>4.455515</td>\n",
       "      <td>2.757406</td>\n",
       "      <td>1799.241020</td>\n",
       "      <td>-350.941666</td>\n",
       "      <td>1798.440754</td>\n",
       "      <td>-348.428215</td>\n",
       "      <td>1800.187528</td>\n",
       "      <td>-349.690504</td>\n",
       "      <td>868.331214</td>\n",
       "      <td>-350.020485</td>\n",
       "      <td>234926.459189</td>\n",
       "      <td>5724.715270</td>\n",
       "      <td>5730.358144</td>\n",
       "      <td>3.955393</td>\n",
       "      <td>7.304813</td>\n",
       "      <td>0.896484</td>\n",
       "      <td>181.612086</td>\n",
       "      <td>89.475280</td>\n",
       "      <td>12.906936</td>\n",
       "      <td>3.545949</td>\n",
       "      <td>4.002341</td>\n",
       "      <td>2.504969</td>\n",
       "      <td>3.996440</td>\n",
       "      <td>2.497418</td>\n",
       "      <td>9.849409</td>\n",
       "      <td>7.087804</td>\n",
       "      <td>15.641762</td>\n",
       "      <td>14.791463</td>\n",
       "      <td>68.639566</td>\n",
       "      <td>3.714258</td>\n",
       "      <td>0.573741</td>\n",
       "      <td>12.769735</td>\n",
       "      <td>1.331048</td>\n",
       "      <td>999.756600</td>\n",
       "      <td>-499.718081</td>\n",
       "      <td>1649.417057</td>\n",
       "      <td>-300.166338</td>\n",
       "      <td>1550.640573</td>\n",
       "      <td>-300.775454</td>\n",
       "      <td>1545.829765</td>\n",
       "      <td>-499.815597</td>\n",
       "      <td>1449.395583</td>\n",
       "      <td>-300.176575</td>\n",
       "      <td>1449.888947</td>\n",
       "      <td>-400.077727</td>\n",
       "      <td>12.302512</td>\n",
       "      <td>4.831132</td>\n",
       "      <td>6.015690</td>\n",
       "      <td>3.438537</td>\n",
       "      <td>29.984814</td>\n",
       "      <td>-360.532553</td>\n",
       "      <td>27.955833</td>\n",
       "      <td>-399.899710</td>\n",
       "      <td>28.104936</td>\n",
       "      <td>-399.065022</td>\n",
       "      <td>26.027655</td>\n",
       "      <td>-400.238905</td>\n",
       "      <td>14.051269</td>\n",
       "      <td>-399.689123</td>\n",
       "      <td>14.007580</td>\n",
       "      <td>-400.505608</td>\n",
       "      <td>12.027252</td>\n",
       "      <td>-399.534251</td>\n",
       "      <td>9.957752</td>\n",
       "      <td>-400.866053</td>\n",
       "      <td>20.025852</td>\n",
       "      <td>-399.869428</td>\n",
       "    </tr>\n",
       "  </tbody>\n",
       "</table>\n",
       "</div>"
      ],
      "text/plain": [
       "                     date  final.output.concentrate_ag  final.output.concentrate_pb  final.output.concentrate_sol  final.output.concentrate_au  final.output.recovery  final.output.tail_ag  final.output.tail_pb  final.output.tail_sol  final.output.tail_au  primary_cleaner.input.sulfate  primary_cleaner.input.depressant  primary_cleaner.input.feed_size  primary_cleaner.input.xanthate  primary_cleaner.output.concentrate_ag  primary_cleaner.output.concentrate_pb  primary_cleaner.output.concentrate_sol  primary_cleaner.output.concentrate_au  primary_cleaner.output.tail_ag  primary_cleaner.output.tail_pb  primary_cleaner.output.tail_sol  primary_cleaner.output.tail_au  primary_cleaner.state.floatbank8_a_air  primary_cleaner.state.floatbank8_a_level  primary_cleaner.state.floatbank8_b_air  primary_cleaner.state.floatbank8_b_level  primary_cleaner.state.floatbank8_c_air  primary_cleaner.state.floatbank8_c_level  primary_cleaner.state.floatbank8_d_air  primary_cleaner.state.floatbank8_d_level  rougher.calculation.sulfate_to_au_concentrate  rougher.calculation.floatbank10_sulfate_to_au_feed  rougher.calculation.floatbank11_sulfate_to_au_feed  rougher.calculation.au_pb_ratio  rougher.input.feed_ag  rougher.input.feed_pb  rougher.input.feed_rate  rougher.input.feed_size  rougher.input.feed_sol  rougher.input.feed_au  rougher.input.floatbank10_sulfate  rougher.input.floatbank10_xanthate  rougher.input.floatbank11_sulfate  rougher.input.floatbank11_xanthate  \\\n",
       "72    2016-01-18 02:00:00                     4.537821                    11.108789                      4.964392                    44.631736              72.825821             10.188482              1.410536              20.955075              2.238369                     167.068597                         12.009001                             7.25                        1.106190                               6.346876                                    NaN                                     NaN                              33.939208                       14.464623                        2.595068                         8.285282                        2.175427                             1600.026961                               -499.027108                             1598.899033                               -499.271032                             1599.029653                               -500.350350                             1600.123785                               -500.312615                                   44960.879378                                        3202.827344                                         3192.749494                          2.510374               7.355083               2.892469               609.288428                64.262634               40.637758               7.261177                          15.006824                            7.493341                          14.988413                            7.502243   \n",
       "445   2016-02-05 00:00:00                     9.913419                     7.303278                           NaN                    43.483467               5.128833             10.246254              2.120942              15.929437              5.797123                      61.785548                          9.012200                             8.17                        1.340832                               7.566748                                    NaN                                     NaN                              36.961197                       15.176236                        4.334502                         8.427522                       16.349499                             1601.847270                               -499.437665                             1600.104613                               -500.625417                             1602.901559                               -501.846695                             1594.985003                               -501.082888                                   26445.439582                                        3000.749428                                         2996.459131                          2.907550               8.391241               2.086566               495.446945                43.454331               32.130910               6.066797                           9.096775                            7.254125                           9.101697                            7.254814   \n",
       "1058  2016-03-02 17:00:00                     7.103273                    10.234169                           NaN                    39.052646              51.076750             11.546684              1.642448               2.996640              3.872456                      52.911234                          3.999540                             7.62                        0.526372                               6.113449                                    NaN                                     NaN                              36.103988                       14.290606                        2.539646                         5.475582                        6.979944                             1598.646041                               -452.135846                             1597.969536                               -450.483004                             1599.639247                               -451.753054                              741.741402                               -350.139343                                   49701.433398                                        3122.344505                                         3122.213156                          2.397951               7.478537               2.991224               180.356345                60.077635               38.661857               7.172807                           4.001025                            1.996469                           4.002125                            2.000002   \n",
       "1059  2016-03-02 18:00:00                     5.624455                    10.217690                           NaN                    41.315692              56.916567             11.566314              1.482532               3.032499              3.400498                      57.824273                          4.091550                             7.62                        0.565280                               5.964104                                    NaN                                     NaN                              36.013201                       14.594978                        2.450434                         5.080307                        5.447789                             1598.529701                               -449.382345                             1600.055319                               -449.848078                             1596.895067                               -449.654941                              734.791471                               -350.155874                                   53510.094208                                        3132.298362                                         3128.665228                          2.386886               7.392582               2.982457               180.337510                68.552120               38.719416               7.118784                           4.000906                            1.999895                           3.995647                            2.000953   \n",
       "1060  2016-03-02 19:00:00                     5.415315                    10.130675                      2.710059                    41.761268              56.355506             11.635384              1.403602               2.952720              3.069832                      58.328329                          3.961007                             7.62                        0.599017                               5.810685                                    NaN                                     NaN                              36.058594                       14.700187                        2.366228                         4.881217                        4.604212                             1598.895326                               -451.583640                             1601.578261                               -449.442476                             1597.665702                               -449.605850                              744.108985                               -349.692034                                   53497.046924                                        3362.962089                                         3362.322069                          2.440588               7.820740               2.632141               179.321910                71.422821               30.481283               6.423972                           4.003446                            2.000680                           4.001197                            2.001641   \n",
       "1061  2016-03-03 00:00:00                     6.679058                    11.458260                           NaN                    37.609988              23.587405             11.526404              1.446846               3.736397              3.185766                      32.146564                          4.070972                             7.62                        0.602415                               5.934116                               2.690785                                     NaN                              22.819286                       14.301325                        2.247058                         4.848652                        5.755170                             1599.416891                               -450.801407                             1603.451081                               -449.251976                             1600.850470                               -449.493269                              829.412822                               -350.106117                                   68548.942067                                        5829.034754                                         5813.763330                          2.861629               8.436220               1.419796               152.548234                75.936489                     NaN               4.062929                           3.997416                            2.001029                           3.999568                            1.997980   \n",
       "1062  2016-03-03 01:00:00                     7.762595                    11.891823                           NaN                    35.600960              30.466500             11.638538              1.521815               2.358935              3.629297                      30.991441                          3.952205                             7.62                        0.594835                               7.824355                               3.053213                                     NaN                              33.265563                       13.966963                        2.342353                         5.193278                        7.570741                             1599.862707                               -448.751329                             1603.192607                               -450.879386                             1597.678181                               -450.064632                              822.292514                               -350.696756                                   57316.929805                                        2906.125460                                         2930.049045                          2.684077               9.125712               1.861468               494.915648                38.270590                     NaN               4.996322                           4.014177                            2.708977                           4.026480                            2.709342   \n",
       "1063  2016-03-03 02:00:00                     6.793950                    11.904176                           NaN                    36.999454              42.976059             10.927713              1.555264               8.926884              3.764338                      57.933277                          8.143546                             7.62                        0.828163                               8.798243                               6.726686                                     NaN                              32.920681                       14.226373                        2.363663                         4.884207                        7.119554                             1600.360136                               -450.223482                             1602.226657                               -447.813703                             1597.999048                               -446.196225                              810.776523                               -351.784597                                   54363.721448                                        2808.549900                                         2812.892634                          2.361179               7.980634               2.596673               416.739645                49.255505               29.002996               6.131209                           6.824278                            4.609833                           6.821409                            4.592494   \n",
       "1162  2016-03-07 23:00:00                     7.449749                     7.814327                           NaN                    41.506126               5.813479             11.656130              1.246949               3.811963              2.484487                      54.988718                          3.980148                             7.30                        0.795548                               5.370160                                    NaN                                     NaN                              37.748178                       15.420331                        2.286908                         4.120302                        2.804423                             1799.173437                               -349.762899                             1797.116474                               -350.589053                             1794.245695                               -348.842238                              870.529634                               -350.255761                                  782969.772356                                        9335.170609                                         9318.242032                         -0.000465               7.566549                    NaN               179.425096                61.097736                     NaN               2.628128                           4.003762                            2.496125                           4.000845                            2.505056   \n",
       "1163  2016-03-08 00:00:00                     7.206511                     7.453374                           NaN                    42.368582              33.313360             11.463791              1.221444               4.872956              2.432494                      55.016078                          4.076038                             7.30                        0.804198                               5.417422                                    NaN                                     NaN                              37.705205                       14.984543                        2.200586                         4.455515                        2.757406                             1799.241020                               -350.941666                             1798.440754                               -348.428215                             1800.187528                               -349.690504                              868.331214                               -350.020485                                  234926.459189                                        5724.715270                                         5730.358144                          3.955393               7.304813               0.896484               181.612086                89.475280               12.906936               3.545949                           4.002341                            2.504969                           3.996440                            2.497418   \n",
       "\n",
       "      rougher.output.concentrate_ag  rougher.output.concentrate_pb  rougher.output.concentrate_sol  rougher.output.concentrate_au  rougher.output.recovery  rougher.output.tail_ag  rougher.output.tail_pb  rougher.output.tail_sol  rougher.output.tail_au  rougher.state.floatbank10_a_air  rougher.state.floatbank10_a_level  rougher.state.floatbank10_b_air  rougher.state.floatbank10_b_level  rougher.state.floatbank10_c_air  rougher.state.floatbank10_c_level  rougher.state.floatbank10_d_air  rougher.state.floatbank10_d_level  rougher.state.floatbank10_e_air  rougher.state.floatbank10_e_level  rougher.state.floatbank10_f_air  rougher.state.floatbank10_f_level  secondary_cleaner.output.tail_ag  secondary_cleaner.output.tail_pb  secondary_cleaner.output.tail_sol  secondary_cleaner.output.tail_au  secondary_cleaner.state.floatbank2_a_air  secondary_cleaner.state.floatbank2_a_level  secondary_cleaner.state.floatbank2_b_air  secondary_cleaner.state.floatbank2_b_level  secondary_cleaner.state.floatbank3_a_air  secondary_cleaner.state.floatbank3_a_level  secondary_cleaner.state.floatbank3_b_air  secondary_cleaner.state.floatbank3_b_level  secondary_cleaner.state.floatbank4_a_air  secondary_cleaner.state.floatbank4_a_level  secondary_cleaner.state.floatbank4_b_air  secondary_cleaner.state.floatbank4_b_level  secondary_cleaner.state.floatbank5_a_air  secondary_cleaner.state.floatbank5_a_level  secondary_cleaner.state.floatbank5_b_air  secondary_cleaner.state.floatbank5_b_level  \\\n",
       "72                        10.504703                       7.451145                       25.603770                      18.785028                80.490217                4.807123                0.933264                20.662700                2.056461                      1000.517881                        -500.281385                      1599.967985                        -500.566184                      1599.778321                        -501.129662                      1403.929724                        -500.233309                      1200.077323                        -499.611883                      1199.722091                        -504.587045                         12.713855                          4.521709                          10.618930                          2.193209                                 27.944862                                 -500.206351                                 25.940298                                 -499.998019                                 25.043226                                 -501.753172                                 23.973076                                 -499.810448                                 14.064474                                 -551.573603                                 11.974107                                 -550.699412                                 10.028196                                 -500.331171                                  8.072443                                 -499.359611   \n",
       "445                       12.363906                       7.278220                       25.258325                      18.393568                80.986000                5.326957                0.362822                19.945964                1.573979                      1000.001622                        -500.410171                      1700.524320                        -500.281392                      1699.866571                        -500.250001                      1659.030053                        -500.245771                      1551.922510                        -497.456522                      1452.089473                        -500.161596                         13.329747                          5.299300                          13.190685                         13.837308                                 25.024664                                 -402.512820                                 23.978602                                 -500.239096                                 23.997138                                 -498.224947                                 24.001545                                 -499.566804                                 17.001952                                 -498.193455                                 15.993364                                 -493.907097                                 17.951822                                 -495.812234                                 15.980995                                 -499.328891   \n",
       "1058                      11.783644                       7.659558                       25.782524                      15.742497                87.151105                3.920244                0.492251                10.389648                1.528629                       999.472036                        -499.950354                      1695.981220                        -500.471436                      1693.174370                        -498.127274                      1684.363842                        -505.240489                      1595.975557                        -500.358997                      1596.397516                        -501.274466                         12.194593                          4.670659                           7.658886                          5.584425                                 31.030911                                 -500.103852                                 28.988696                                 -500.724514                                 27.990346                                 -500.007388                                 25.974458                                 -500.407452                                 14.028251                                 -501.166807                                 13.968885                                 -500.599345                                 11.942642                                 -500.747711                                 10.046074                                 -500.570464   \n",
       "1059                      11.509057                       7.516534                       25.342839                      15.500766                86.374040                3.804169                0.794326                13.485051                1.607764                       997.133184                        -500.472317                      1699.351663                        -500.194767                      1698.718744                        -499.755950                      1697.931691                        -499.504728                      1599.787762                        -499.768620                      1599.780980                        -499.992408                         12.158175                          4.469167                           7.042710                          4.150192                                 31.069694                                 -500.547764                                 28.964678                                 -500.037425                                 27.933038                                 -499.964411                                 25.942084                                 -499.737041                                 14.020548                                 -500.092751                                 13.930844                                 -499.646384                                 12.007554                                 -499.411748                                  9.945841                                 -499.965390   \n",
       "1060                      11.639792                       7.411216                       25.567038                      15.608488                82.884102                3.687890                0.974382                15.766912                1.668786                      1005.190914                        -500.698367                      1708.540218                        -499.567371                      1708.761646                        -498.479697                      1716.272224                        -500.878136                      1600.717202                        -500.143587                      1603.227334                        -500.131748                         12.343722                          4.460530                           6.689590                          3.613602                                 31.073532                                 -500.109956                                 29.017190                                 -500.192692                                 28.060382                                 -500.506917                                 26.007784                                 -499.820016                                 14.039379                                 -500.137328                                 13.921526                                 -500.455467                                 11.971144                                 -499.861886                                 10.005474                                 -500.093687   \n",
       "1061                       9.948273                       8.086406                       18.102263                      15.394890                54.399824                4.124551                1.216272                15.737280                2.163283                      1000.188545                        -499.887750                      1700.481321                        -499.410892                      1699.624699                        -501.711993                      1700.446259                        -499.506898                      1598.958130                        -503.536344                      1599.843564                        -502.173062                         11.872514                          4.445261                           7.285611                          5.339048                                 30.914393                                 -500.302490                                 29.070457                                 -499.331373                                 27.952824                                 -500.324195                                 26.033145                                 -499.627157                                 14.023844                                 -499.939551                                 13.850933                                 -500.471241                                 12.073684                                 -500.197102                                 10.031157                                 -499.759717   \n",
       "1062                      10.311205                       8.189271                       18.989257                      15.814391                61.976448                4.330739                1.213452                13.422149                2.362338                       999.173809                        -503.057108                      1694.313435                        -498.331963                      1695.901242                        -492.372207                      1690.739124                        -501.662238                      1601.082784                        -503.821277                      1601.346939                        -482.055300                         11.669126                          4.369948                           7.659242                          6.838973                                 30.829934                                 -499.081097                                 28.988488                                 -499.380413                                 28.023471                                 -499.645883                                 26.015157                                 -500.031226                                 14.017758                                 -499.797982                                 14.033361                                 -500.580601                                 12.031868                                 -498.821663                                  9.965720                                 -500.058442   \n",
       "1063                       9.478746                       8.095206                       20.052817                      17.007525                61.299992                6.039222                1.369448                16.813997                3.045875                      1000.058479                        -505.990067                      1700.305254                        -504.027576                      1701.556365                        -508.650674                      1695.481919                        -502.240803                      1599.111464                        -494.529149                      1598.208534                        -526.767946                         11.304422                          4.535328                           8.305464                          7.010547                                 30.970566                                 -473.106038                                 28.938348                                 -499.985518                                 27.957694                                 -499.873678                                 26.060408                                 -500.248533                                 13.971568                                 -501.112791                                 14.099543                                 -500.532699                                 12.001743                                 -497.968386                                 10.009567                                 -499.676603   \n",
       "1162                      10.030226                       7.002800                       15.631355                      14.988903                50.549013                3.852503                0.515366                10.798746                1.426026                      1000.079060                        -499.443426                      1649.198756                        -300.329515                      1550.011749                        -301.118955                      1548.566653                        -501.818228                      1450.675632                        -299.995213                      1450.447976                        -402.379211                         12.417707                          4.744868                           5.958196                          3.278362                                 29.953975                                 -314.819823                                 28.027122                                 -399.691296                                 28.003955                                 -399.767769                                 25.986504                                 -399.763957                                 13.970984                                 -399.475581                                 13.997681                                 -400.009206                                 11.871199                                 -399.757824                                  9.967461                                 -400.146402   \n",
       "1163                       9.849409                       7.087804                       15.641762                      14.791463                68.639566                3.714258                0.573741                12.769735                1.331048                       999.756600                        -499.718081                      1649.417057                        -300.166338                      1550.640573                        -300.775454                      1545.829765                        -499.815597                      1449.395583                        -300.176575                      1449.888947                        -400.077727                         12.302512                          4.831132                           6.015690                          3.438537                                 29.984814                                 -360.532553                                 27.955833                                 -399.899710                                 28.104936                                 -399.065022                                 26.027655                                 -400.238905                                 14.051269                                 -399.689123                                 14.007580                                 -400.505608                                 12.027252                                 -399.534251                                  9.957752                                 -400.866053   \n",
       "\n",
       "      secondary_cleaner.state.floatbank6_a_air  secondary_cleaner.state.floatbank6_a_level  \n",
       "72                                   11.973959                                 -600.580952  \n",
       "445                                  18.002004                                 -498.705453  \n",
       "1058                                 20.014470                                 -502.453802  \n",
       "1059                                 20.038856                                 -499.320476  \n",
       "1060                                 20.012113                                 -500.270329  \n",
       "1061                                 20.018253                                 -499.897782  \n",
       "1062                                 20.008216                                 -499.108830  \n",
       "1063                                 19.954140                                 -498.325103  \n",
       "1162                                 19.911032                                 -397.173392  \n",
       "1163                                 20.025852                                 -399.869428  "
      ]
     },
     "execution_count": 5,
     "metadata": {},
     "output_type": "execute_result"
    }
   ],
   "source": [
    "df_train.loc[df_train['primary_cleaner.output.concentrate_sol'].isna()].head(10)"
   ]
  },
  {
   "cell_type": "code",
   "execution_count": 6,
   "metadata": {
    "collapsed": true
   },
   "outputs": [
    {
     "data": {
      "image/png": "[encoded data removed]",
      "text/plain": [
       "<Figure size 5760x5040 with 90 Axes>"
      ]
     },
     "metadata": {
      "needs_background": "light"
     },
     "output_type": "display_data"
    }
   ],
   "source": [
    "df_original.hist(bins = 50, figsize =(80,70))\n",
    "None"
   ]
  },
  {
   "cell_type": "markdown",
   "metadata": {},
   "source": [
    "## Анализ данных"
   ]
  },
  {
   "cell_type": "markdown",
   "metadata": {},
   "source": [
    "### Проверка расчета rougher.output.recovery"
   ]
  },
  {
   "cell_type": "code",
   "execution_count": 7,
   "metadata": {},
   "outputs": [],
   "source": [
    "STATE = np.random.RandomState(12345)"
   ]
  },
  {
   "cell_type": "markdown",
   "metadata": {},
   "source": [
    "Проверью, что эффективность обогащения рассчитана правильно. Вычисляю её на обучающей выборке для признака rougher.output.recovery. Нахожу MAE между моими расчётами и значением признака.\n"
   ]
  },
  {
   "cell_type": "code",
   "execution_count": 8,
   "metadata": {},
   "outputs": [],
   "source": [
    "recovery_df = df_train[['rougher.output.concentrate_au','rougher.input.feed_au','rougher.output.tail_au','rougher.output.recovery']]"
   ]
  },
  {
   "cell_type": "code",
   "execution_count": 9,
   "metadata": {},
   "outputs": [],
   "source": [
    "recovery_df['recovery'] = (recovery_df['rougher.output.concentrate_au'] * (recovery_df['rougher.input.feed_au'] - recovery_df['rougher.output.tail_au'])) / \\\n",
    "    (recovery_df['rougher.input.feed_au'] * (recovery_df['rougher.output.concentrate_au'] - recovery_df['rougher.output.tail_au']))*100"
   ]
  },
  {
   "cell_type": "code",
   "execution_count": 10,
   "metadata": {},
   "outputs": [
    {
     "data": {
      "text/plain": [
       "9.73512347450521e-15"
      ]
     },
     "execution_count": 10,
     "metadata": {},
     "output_type": "execute_result"
    }
   ],
   "source": [
    "mean_absolute_error(recovery_df['rougher.output.recovery'],recovery_df['recovery'])"
   ]
  },
  {
   "cell_type": "markdown",
   "metadata": {},
   "source": [
    "В результате проверки MAE между моим расчетным значением и значением признака составляет 1.3885438295121047e-16. Что говорит о праавильности расчета признака в данных."
   ]
  },
  {
   "cell_type": "markdown",
   "metadata": {},
   "source": [
    "### Признаки в недоступные в тестовой выборке"
   ]
  },
  {
   "cell_type": "code",
   "execution_count": 11,
   "metadata": {},
   "outputs": [
    {
     "name": "stdout",
     "output_type": "stream",
     "text": [
      "['final.output.concentrate_ag', 'final.output.concentrate_pb', 'final.output.concentrate_sol', 'final.output.concentrate_au', 'final.output.recovery', 'final.output.tail_ag', 'final.output.tail_pb', 'final.output.tail_sol', 'final.output.tail_au', 'primary_cleaner.output.concentrate_ag', 'primary_cleaner.output.concentrate_pb', 'primary_cleaner.output.concentrate_sol', 'primary_cleaner.output.concentrate_au', 'primary_cleaner.output.tail_ag', 'primary_cleaner.output.tail_pb', 'primary_cleaner.output.tail_sol', 'primary_cleaner.output.tail_au', 'rougher.calculation.sulfate_to_au_concentrate', 'rougher.calculation.floatbank10_sulfate_to_au_feed', 'rougher.calculation.floatbank11_sulfate_to_au_feed', 'rougher.calculation.au_pb_ratio', 'rougher.output.concentrate_ag', 'rougher.output.concentrate_pb', 'rougher.output.concentrate_sol', 'rougher.output.concentrate_au', 'rougher.output.recovery', 'rougher.output.tail_ag', 'rougher.output.tail_pb', 'rougher.output.tail_sol', 'rougher.output.tail_au', 'secondary_cleaner.output.tail_ag', 'secondary_cleaner.output.tail_pb', 'secondary_cleaner.output.tail_sol', 'secondary_cleaner.output.tail_au']\n"
     ]
    }
   ],
   "source": [
    "colum = []\n",
    "for col in df_train.columns:\n",
    "    if col not in df_test.columns:\n",
    "        colum.append(col)\n",
    "print(colum)"
   ]
  },
  {
   "cell_type": "markdown",
   "metadata": {},
   "source": [
    "В тестовой выборке отсутствуют целевые признаки для обучения. Добавим в тестовоую выборки столбцы 'rougher.output.recovery', 'final.output.recovery' и удалим лишние столбцы из тренировочной выборки."
   ]
  },
  {
   "cell_type": "code",
   "execution_count": 12,
   "metadata": {},
   "outputs": [],
   "source": [
    "colum.remove(\"final.output.recovery\")\n",
    "colum.remove(\"rougher.output.recovery\")"
   ]
  },
  {
   "cell_type": "code",
   "execution_count": 13,
   "metadata": {},
   "outputs": [],
   "source": [
    "df_train = df_train.drop(columns = colum)"
   ]
  },
  {
   "cell_type": "code",
   "execution_count": 14,
   "metadata": {
    "scrolled": true
   },
   "outputs": [
    {
     "data": {
      "text/html": [
       "<div>\n",
       "<style scoped>\n",
       "    .dataframe tbody tr th:only-of-type {\n",
       "        vertical-align: middle;\n",
       "    }\n",
       "\n",
       "    .dataframe tbody tr th {\n",
       "        vertical-align: top;\n",
       "    }\n",
       "\n",
       "    .dataframe thead th {\n",
       "        text-align: right;\n",
       "    }\n",
       "</style>\n",
       "<table border=\"1\" class=\"dataframe\">\n",
       "  <thead>\n",
       "    <tr style=\"text-align: right;\">\n",
       "      <th></th>\n",
       "      <th>date</th>\n",
       "      <th>primary_cleaner.input.sulfate</th>\n",
       "      <th>primary_cleaner.input.depressant</th>\n",
       "      <th>primary_cleaner.input.feed_size</th>\n",
       "      <th>primary_cleaner.input.xanthate</th>\n",
       "      <th>primary_cleaner.state.floatbank8_a_air</th>\n",
       "      <th>primary_cleaner.state.floatbank8_a_level</th>\n",
       "      <th>primary_cleaner.state.floatbank8_b_air</th>\n",
       "      <th>primary_cleaner.state.floatbank8_b_level</th>\n",
       "      <th>primary_cleaner.state.floatbank8_c_air</th>\n",
       "      <th>primary_cleaner.state.floatbank8_c_level</th>\n",
       "      <th>primary_cleaner.state.floatbank8_d_air</th>\n",
       "      <th>primary_cleaner.state.floatbank8_d_level</th>\n",
       "      <th>rougher.input.feed_ag</th>\n",
       "      <th>rougher.input.feed_pb</th>\n",
       "      <th>rougher.input.feed_rate</th>\n",
       "      <th>rougher.input.feed_size</th>\n",
       "      <th>rougher.input.feed_sol</th>\n",
       "      <th>rougher.input.feed_au</th>\n",
       "      <th>rougher.input.floatbank10_sulfate</th>\n",
       "      <th>rougher.input.floatbank10_xanthate</th>\n",
       "      <th>rougher.input.floatbank11_sulfate</th>\n",
       "      <th>rougher.input.floatbank11_xanthate</th>\n",
       "      <th>rougher.state.floatbank10_a_air</th>\n",
       "      <th>rougher.state.floatbank10_a_level</th>\n",
       "      <th>rougher.state.floatbank10_b_air</th>\n",
       "      <th>rougher.state.floatbank10_b_level</th>\n",
       "      <th>rougher.state.floatbank10_c_air</th>\n",
       "      <th>rougher.state.floatbank10_c_level</th>\n",
       "      <th>rougher.state.floatbank10_d_air</th>\n",
       "      <th>rougher.state.floatbank10_d_level</th>\n",
       "      <th>rougher.state.floatbank10_e_air</th>\n",
       "      <th>rougher.state.floatbank10_e_level</th>\n",
       "      <th>rougher.state.floatbank10_f_air</th>\n",
       "      <th>rougher.state.floatbank10_f_level</th>\n",
       "      <th>secondary_cleaner.state.floatbank2_a_air</th>\n",
       "      <th>secondary_cleaner.state.floatbank2_a_level</th>\n",
       "      <th>secondary_cleaner.state.floatbank2_b_air</th>\n",
       "      <th>secondary_cleaner.state.floatbank2_b_level</th>\n",
       "      <th>secondary_cleaner.state.floatbank3_a_air</th>\n",
       "      <th>secondary_cleaner.state.floatbank3_a_level</th>\n",
       "      <th>secondary_cleaner.state.floatbank3_b_air</th>\n",
       "      <th>secondary_cleaner.state.floatbank3_b_level</th>\n",
       "      <th>secondary_cleaner.state.floatbank4_a_air</th>\n",
       "      <th>secondary_cleaner.state.floatbank4_a_level</th>\n",
       "      <th>secondary_cleaner.state.floatbank4_b_air</th>\n",
       "      <th>secondary_cleaner.state.floatbank4_b_level</th>\n",
       "      <th>secondary_cleaner.state.floatbank5_a_air</th>\n",
       "      <th>secondary_cleaner.state.floatbank5_a_level</th>\n",
       "      <th>secondary_cleaner.state.floatbank5_b_air</th>\n",
       "      <th>secondary_cleaner.state.floatbank5_b_level</th>\n",
       "      <th>secondary_cleaner.state.floatbank6_a_air</th>\n",
       "      <th>secondary_cleaner.state.floatbank6_a_level</th>\n",
       "    </tr>\n",
       "  </thead>\n",
       "  <tbody>\n",
       "    <tr>\n",
       "      <th>0</th>\n",
       "      <td>2016-09-01 00:59:59</td>\n",
       "      <td>210.800909</td>\n",
       "      <td>14.993118</td>\n",
       "      <td>8.080000</td>\n",
       "      <td>1.005021</td>\n",
       "      <td>1398.981301</td>\n",
       "      <td>-500.225577</td>\n",
       "      <td>1399.144926</td>\n",
       "      <td>-499.919735</td>\n",
       "      <td>1400.102998</td>\n",
       "      <td>-500.704369</td>\n",
       "      <td>1399.001695</td>\n",
       "      <td>-499.485144</td>\n",
       "      <td>13.128569</td>\n",
       "      <td>5.636710</td>\n",
       "      <td>489.793655</td>\n",
       "      <td>62.710452</td>\n",
       "      <td>42.022440</td>\n",
       "      <td>12.084103</td>\n",
       "      <td>16.922877</td>\n",
       "      <td>6.153479</td>\n",
       "      <td>16.867518</td>\n",
       "      <td>6.150709</td>\n",
       "      <td>1001.849317</td>\n",
       "      <td>-350.301265</td>\n",
       "      <td>1249.738612</td>\n",
       "      <td>-399.107531</td>\n",
       "      <td>1249.750520</td>\n",
       "      <td>-399.396730</td>\n",
       "      <td>1198.287855</td>\n",
       "      <td>-399.488594</td>\n",
       "      <td>999.472250</td>\n",
       "      <td>-399.530962</td>\n",
       "      <td>949.566189</td>\n",
       "      <td>-398.180807</td>\n",
       "      <td>24.938200</td>\n",
       "      <td>-500.490963</td>\n",
       "      <td>14.947607</td>\n",
       "      <td>-500.013837</td>\n",
       "      <td>20.018166</td>\n",
       "      <td>-450.395995</td>\n",
       "      <td>13.987058</td>\n",
       "      <td>-449.831513</td>\n",
       "      <td>12.023554</td>\n",
       "      <td>-497.795834</td>\n",
       "      <td>8.016656</td>\n",
       "      <td>-501.289139</td>\n",
       "      <td>7.946562</td>\n",
       "      <td>-432.317850</td>\n",
       "      <td>4.872511</td>\n",
       "      <td>-500.037437</td>\n",
       "      <td>26.705889</td>\n",
       "      <td>-499.709414</td>\n",
       "    </tr>\n",
       "    <tr>\n",
       "      <th>1</th>\n",
       "      <td>2016-09-01 01:59:59</td>\n",
       "      <td>215.392455</td>\n",
       "      <td>14.987471</td>\n",
       "      <td>8.080000</td>\n",
       "      <td>0.990469</td>\n",
       "      <td>1398.777912</td>\n",
       "      <td>-500.057435</td>\n",
       "      <td>1398.055362</td>\n",
       "      <td>-499.778182</td>\n",
       "      <td>1396.151033</td>\n",
       "      <td>-499.240168</td>\n",
       "      <td>1399.508091</td>\n",
       "      <td>-500.416324</td>\n",
       "      <td>13.036280</td>\n",
       "      <td>5.526065</td>\n",
       "      <td>490.104534</td>\n",
       "      <td>61.961163</td>\n",
       "      <td>41.187903</td>\n",
       "      <td>11.918977</td>\n",
       "      <td>17.002532</td>\n",
       "      <td>5.999043</td>\n",
       "      <td>16.996063</td>\n",
       "      <td>6.002315</td>\n",
       "      <td>998.690785</td>\n",
       "      <td>-350.425704</td>\n",
       "      <td>1248.395457</td>\n",
       "      <td>-399.946025</td>\n",
       "      <td>1249.514451</td>\n",
       "      <td>-399.630810</td>\n",
       "      <td>1200.506459</td>\n",
       "      <td>-399.942434</td>\n",
       "      <td>1000.002114</td>\n",
       "      <td>-399.491528</td>\n",
       "      <td>950.200009</td>\n",
       "      <td>-405.787514</td>\n",
       "      <td>24.923466</td>\n",
       "      <td>-499.813963</td>\n",
       "      <td>14.930873</td>\n",
       "      <td>-500.764452</td>\n",
       "      <td>19.988503</td>\n",
       "      <td>-450.114024</td>\n",
       "      <td>14.092981</td>\n",
       "      <td>-450.059163</td>\n",
       "      <td>12.058140</td>\n",
       "      <td>-498.695773</td>\n",
       "      <td>8.130979</td>\n",
       "      <td>-499.634209</td>\n",
       "      <td>7.958270</td>\n",
       "      <td>-525.839648</td>\n",
       "      <td>4.878850</td>\n",
       "      <td>-500.162375</td>\n",
       "      <td>25.019940</td>\n",
       "      <td>-499.819438</td>\n",
       "    </tr>\n",
       "    <tr>\n",
       "      <th>2</th>\n",
       "      <td>2016-09-01 02:59:59</td>\n",
       "      <td>215.259946</td>\n",
       "      <td>12.884934</td>\n",
       "      <td>7.786667</td>\n",
       "      <td>0.996043</td>\n",
       "      <td>1398.493666</td>\n",
       "      <td>-500.868360</td>\n",
       "      <td>1398.860436</td>\n",
       "      <td>-499.764529</td>\n",
       "      <td>1398.075709</td>\n",
       "      <td>-502.151509</td>\n",
       "      <td>1399.497088</td>\n",
       "      <td>-499.715479</td>\n",
       "      <td>13.138412</td>\n",
       "      <td>5.426561</td>\n",
       "      <td>489.617969</td>\n",
       "      <td>66.903807</td>\n",
       "      <td>42.546294</td>\n",
       "      <td>12.091332</td>\n",
       "      <td>16.992520</td>\n",
       "      <td>5.850632</td>\n",
       "      <td>16.982096</td>\n",
       "      <td>5.853594</td>\n",
       "      <td>998.516720</td>\n",
       "      <td>-349.783538</td>\n",
       "      <td>1247.440748</td>\n",
       "      <td>-400.264330</td>\n",
       "      <td>1248.207204</td>\n",
       "      <td>-401.074405</td>\n",
       "      <td>1199.770026</td>\n",
       "      <td>-400.790582</td>\n",
       "      <td>999.925519</td>\n",
       "      <td>-399.236999</td>\n",
       "      <td>950.320481</td>\n",
       "      <td>-400.864340</td>\n",
       "      <td>24.908732</td>\n",
       "      <td>-500.304035</td>\n",
       "      <td>14.996511</td>\n",
       "      <td>-500.993821</td>\n",
       "      <td>20.039689</td>\n",
       "      <td>-450.263164</td>\n",
       "      <td>14.077881</td>\n",
       "      <td>-449.660997</td>\n",
       "      <td>11.962366</td>\n",
       "      <td>-498.767484</td>\n",
       "      <td>8.096893</td>\n",
       "      <td>-500.827423</td>\n",
       "      <td>8.071056</td>\n",
       "      <td>-500.801673</td>\n",
       "      <td>4.905125</td>\n",
       "      <td>-499.828510</td>\n",
       "      <td>24.994862</td>\n",
       "      <td>-500.622559</td>\n",
       "    </tr>\n",
       "    <tr>\n",
       "      <th>3</th>\n",
       "      <td>2016-09-01 03:59:59</td>\n",
       "      <td>215.336236</td>\n",
       "      <td>12.006805</td>\n",
       "      <td>7.640000</td>\n",
       "      <td>0.863514</td>\n",
       "      <td>1399.618111</td>\n",
       "      <td>-498.863574</td>\n",
       "      <td>1397.440120</td>\n",
       "      <td>-499.211024</td>\n",
       "      <td>1400.129303</td>\n",
       "      <td>-498.355873</td>\n",
       "      <td>1401.065165</td>\n",
       "      <td>-501.038738</td>\n",
       "      <td>12.400507</td>\n",
       "      <td>5.114758</td>\n",
       "      <td>476.618130</td>\n",
       "      <td>59.865919</td>\n",
       "      <td>41.060195</td>\n",
       "      <td>12.181597</td>\n",
       "      <td>16.532144</td>\n",
       "      <td>5.801935</td>\n",
       "      <td>16.515277</td>\n",
       "      <td>5.803657</td>\n",
       "      <td>1000.276604</td>\n",
       "      <td>-350.172597</td>\n",
       "      <td>1251.322675</td>\n",
       "      <td>-398.655289</td>\n",
       "      <td>1250.493702</td>\n",
       "      <td>-399.746728</td>\n",
       "      <td>1199.398691</td>\n",
       "      <td>-397.503052</td>\n",
       "      <td>1001.930679</td>\n",
       "      <td>-400.437573</td>\n",
       "      <td>950.735324</td>\n",
       "      <td>-399.802986</td>\n",
       "      <td>24.893998</td>\n",
       "      <td>-499.382374</td>\n",
       "      <td>14.916674</td>\n",
       "      <td>-499.862299</td>\n",
       "      <td>20.031100</td>\n",
       "      <td>-449.372570</td>\n",
       "      <td>14.013968</td>\n",
       "      <td>-449.526900</td>\n",
       "      <td>12.033091</td>\n",
       "      <td>-498.350935</td>\n",
       "      <td>8.074946</td>\n",
       "      <td>-499.474407</td>\n",
       "      <td>7.897085</td>\n",
       "      <td>-500.868509</td>\n",
       "      <td>4.931400</td>\n",
       "      <td>-499.963623</td>\n",
       "      <td>24.948919</td>\n",
       "      <td>-498.709987</td>\n",
       "    </tr>\n",
       "    <tr>\n",
       "      <th>4</th>\n",
       "      <td>2016-09-01 04:59:59</td>\n",
       "      <td>199.099327</td>\n",
       "      <td>10.682530</td>\n",
       "      <td>7.530000</td>\n",
       "      <td>0.805575</td>\n",
       "      <td>1401.268123</td>\n",
       "      <td>-500.808305</td>\n",
       "      <td>1398.128818</td>\n",
       "      <td>-499.504543</td>\n",
       "      <td>1402.172226</td>\n",
       "      <td>-500.810606</td>\n",
       "      <td>1399.480508</td>\n",
       "      <td>-499.374053</td>\n",
       "      <td>11.327427</td>\n",
       "      <td>4.767383</td>\n",
       "      <td>488.248117</td>\n",
       "      <td>63.315324</td>\n",
       "      <td>41.269161</td>\n",
       "      <td>11.290425</td>\n",
       "      <td>13.607257</td>\n",
       "      <td>5.738081</td>\n",
       "      <td>13.650053</td>\n",
       "      <td>5.739634</td>\n",
       "      <td>996.541302</td>\n",
       "      <td>-350.562517</td>\n",
       "      <td>1304.658848</td>\n",
       "      <td>-399.511519</td>\n",
       "      <td>1306.455515</td>\n",
       "      <td>-399.050685</td>\n",
       "      <td>1248.699349</td>\n",
       "      <td>-400.876894</td>\n",
       "      <td>1058.839106</td>\n",
       "      <td>-398.988239</td>\n",
       "      <td>949.645313</td>\n",
       "      <td>-399.277632</td>\n",
       "      <td>24.886905</td>\n",
       "      <td>-499.357375</td>\n",
       "      <td>14.979233</td>\n",
       "      <td>-500.186804</td>\n",
       "      <td>19.962364</td>\n",
       "      <td>-450.638828</td>\n",
       "      <td>14.009245</td>\n",
       "      <td>-450.022259</td>\n",
       "      <td>12.025367</td>\n",
       "      <td>-500.786497</td>\n",
       "      <td>8.054678</td>\n",
       "      <td>-500.397500</td>\n",
       "      <td>8.107890</td>\n",
       "      <td>-509.526725</td>\n",
       "      <td>4.957674</td>\n",
       "      <td>-500.360026</td>\n",
       "      <td>25.003331</td>\n",
       "      <td>-500.856333</td>\n",
       "    </tr>\n",
       "    <tr>\n",
       "      <th>...</th>\n",
       "      <td>...</td>\n",
       "      <td>...</td>\n",
       "      <td>...</td>\n",
       "      <td>...</td>\n",
       "      <td>...</td>\n",
       "      <td>...</td>\n",
       "      <td>...</td>\n",
       "      <td>...</td>\n",
       "      <td>...</td>\n",
       "      <td>...</td>\n",
       "      <td>...</td>\n",
       "      <td>...</td>\n",
       "      <td>...</td>\n",
       "      <td>...</td>\n",
       "      <td>...</td>\n",
       "      <td>...</td>\n",
       "      <td>...</td>\n",
       "      <td>...</td>\n",
       "      <td>...</td>\n",
       "      <td>...</td>\n",
       "      <td>...</td>\n",
       "      <td>...</td>\n",
       "      <td>...</td>\n",
       "      <td>...</td>\n",
       "      <td>...</td>\n",
       "      <td>...</td>\n",
       "      <td>...</td>\n",
       "      <td>...</td>\n",
       "      <td>...</td>\n",
       "      <td>...</td>\n",
       "      <td>...</td>\n",
       "      <td>...</td>\n",
       "      <td>...</td>\n",
       "      <td>...</td>\n",
       "      <td>...</td>\n",
       "      <td>...</td>\n",
       "      <td>...</td>\n",
       "      <td>...</td>\n",
       "      <td>...</td>\n",
       "      <td>...</td>\n",
       "      <td>...</td>\n",
       "      <td>...</td>\n",
       "      <td>...</td>\n",
       "      <td>...</td>\n",
       "      <td>...</td>\n",
       "      <td>...</td>\n",
       "      <td>...</td>\n",
       "      <td>...</td>\n",
       "      <td>...</td>\n",
       "      <td>...</td>\n",
       "      <td>...</td>\n",
       "      <td>...</td>\n",
       "      <td>...</td>\n",
       "    </tr>\n",
       "    <tr>\n",
       "      <th>5285</th>\n",
       "      <td>2017-12-31 19:59:59</td>\n",
       "      <td>173.957757</td>\n",
       "      <td>15.963399</td>\n",
       "      <td>8.070000</td>\n",
       "      <td>0.896701</td>\n",
       "      <td>1401.930554</td>\n",
       "      <td>-499.728848</td>\n",
       "      <td>1401.441445</td>\n",
       "      <td>-499.193423</td>\n",
       "      <td>1399.810313</td>\n",
       "      <td>-499.599127</td>\n",
       "      <td>1400.334792</td>\n",
       "      <td>-499.243459</td>\n",
       "      <td>11.638973</td>\n",
       "      <td>4.695306</td>\n",
       "      <td>521.685155</td>\n",
       "      <td>66.758479</td>\n",
       "      <td>42.022027</td>\n",
       "      <td>10.554544</td>\n",
       "      <td>10.109194</td>\n",
       "      <td>7.203935</td>\n",
       "      <td>10.110793</td>\n",
       "      <td>7.198171</td>\n",
       "      <td>1399.935264</td>\n",
       "      <td>-299.999637</td>\n",
       "      <td>1049.641991</td>\n",
       "      <td>-500.074887</td>\n",
       "      <td>951.923857</td>\n",
       "      <td>-499.648793</td>\n",
       "      <td>852.337438</td>\n",
       "      <td>-498.464443</td>\n",
       "      <td>851.436769</td>\n",
       "      <td>-500.285584</td>\n",
       "      <td>851.461345</td>\n",
       "      <td>-499.735650</td>\n",
       "      <td>21.912132</td>\n",
       "      <td>-499.915179</td>\n",
       "      <td>19.909080</td>\n",
       "      <td>-499.734909</td>\n",
       "      <td>24.939573</td>\n",
       "      <td>-500.098479</td>\n",
       "      <td>12.968448</td>\n",
       "      <td>-499.952023</td>\n",
       "      <td>13.995957</td>\n",
       "      <td>-500.157454</td>\n",
       "      <td>12.069155</td>\n",
       "      <td>-499.673279</td>\n",
       "      <td>7.977259</td>\n",
       "      <td>-499.516126</td>\n",
       "      <td>5.933319</td>\n",
       "      <td>-499.965973</td>\n",
       "      <td>8.987171</td>\n",
       "      <td>-499.755909</td>\n",
       "    </tr>\n",
       "    <tr>\n",
       "      <th>5286</th>\n",
       "      <td>2017-12-31 20:59:59</td>\n",
       "      <td>172.910270</td>\n",
       "      <td>16.002605</td>\n",
       "      <td>8.070000</td>\n",
       "      <td>0.896519</td>\n",
       "      <td>1447.075722</td>\n",
       "      <td>-494.716823</td>\n",
       "      <td>1448.851892</td>\n",
       "      <td>-465.963026</td>\n",
       "      <td>1443.890424</td>\n",
       "      <td>-503.587739</td>\n",
       "      <td>1447.653388</td>\n",
       "      <td>-480.403849</td>\n",
       "      <td>11.338091</td>\n",
       "      <td>4.478381</td>\n",
       "      <td>530.195798</td>\n",
       "      <td>62.560684</td>\n",
       "      <td>41.096377</td>\n",
       "      <td>10.254051</td>\n",
       "      <td>9.979495</td>\n",
       "      <td>7.200895</td>\n",
       "      <td>9.978855</td>\n",
       "      <td>7.201957</td>\n",
       "      <td>1406.122319</td>\n",
       "      <td>-299.057200</td>\n",
       "      <td>1055.715243</td>\n",
       "      <td>-498.250207</td>\n",
       "      <td>956.850266</td>\n",
       "      <td>-497.403941</td>\n",
       "      <td>855.386714</td>\n",
       "      <td>-495.702676</td>\n",
       "      <td>852.071335</td>\n",
       "      <td>-499.442753</td>\n",
       "      <td>851.328986</td>\n",
       "      <td>-496.579809</td>\n",
       "      <td>25.322301</td>\n",
       "      <td>-497.034975</td>\n",
       "      <td>23.310568</td>\n",
       "      <td>-498.892647</td>\n",
       "      <td>26.369171</td>\n",
       "      <td>-499.222375</td>\n",
       "      <td>17.704862</td>\n",
       "      <td>-499.545681</td>\n",
       "      <td>16.749781</td>\n",
       "      <td>-496.031539</td>\n",
       "      <td>13.365371</td>\n",
       "      <td>-499.122723</td>\n",
       "      <td>9.288553</td>\n",
       "      <td>-496.892967</td>\n",
       "      <td>7.372897</td>\n",
       "      <td>-499.942956</td>\n",
       "      <td>8.986832</td>\n",
       "      <td>-499.903761</td>\n",
       "    </tr>\n",
       "    <tr>\n",
       "      <th>5287</th>\n",
       "      <td>2017-12-31 21:59:59</td>\n",
       "      <td>171.135718</td>\n",
       "      <td>15.993669</td>\n",
       "      <td>8.070000</td>\n",
       "      <td>1.165996</td>\n",
       "      <td>1498.836182</td>\n",
       "      <td>-501.770403</td>\n",
       "      <td>1499.572353</td>\n",
       "      <td>-495.516347</td>\n",
       "      <td>1502.749213</td>\n",
       "      <td>-520.667442</td>\n",
       "      <td>1502.585343</td>\n",
       "      <td>-498.260225</td>\n",
       "      <td>11.285908</td>\n",
       "      <td>4.405327</td>\n",
       "      <td>546.306868</td>\n",
       "      <td>73.647513</td>\n",
       "      <td>41.095485</td>\n",
       "      <td>10.169094</td>\n",
       "      <td>10.182219</td>\n",
       "      <td>7.196255</td>\n",
       "      <td>10.185461</td>\n",
       "      <td>7.198676</td>\n",
       "      <td>1396.203070</td>\n",
       "      <td>-300.210722</td>\n",
       "      <td>1047.879742</td>\n",
       "      <td>-499.604248</td>\n",
       "      <td>948.963429</td>\n",
       "      <td>-499.549567</td>\n",
       "      <td>856.325597</td>\n",
       "      <td>-500.095616</td>\n",
       "      <td>850.614597</td>\n",
       "      <td>-499.473713</td>\n",
       "      <td>850.279578</td>\n",
       "      <td>-498.508374</td>\n",
       "      <td>29.075948</td>\n",
       "      <td>-500.528402</td>\n",
       "      <td>26.888005</td>\n",
       "      <td>-500.975799</td>\n",
       "      <td>28.000224</td>\n",
       "      <td>-500.565876</td>\n",
       "      <td>22.996528</td>\n",
       "      <td>-500.477583</td>\n",
       "      <td>19.994130</td>\n",
       "      <td>-499.791312</td>\n",
       "      <td>15.101425</td>\n",
       "      <td>-499.936252</td>\n",
       "      <td>10.989181</td>\n",
       "      <td>-498.347898</td>\n",
       "      <td>9.020944</td>\n",
       "      <td>-500.040448</td>\n",
       "      <td>8.982038</td>\n",
       "      <td>-497.789882</td>\n",
       "    </tr>\n",
       "    <tr>\n",
       "      <th>5288</th>\n",
       "      <td>2017-12-31 22:59:59</td>\n",
       "      <td>179.697158</td>\n",
       "      <td>15.438979</td>\n",
       "      <td>8.070000</td>\n",
       "      <td>1.501068</td>\n",
       "      <td>1498.466243</td>\n",
       "      <td>-500.483984</td>\n",
       "      <td>1497.986986</td>\n",
       "      <td>-519.200340</td>\n",
       "      <td>1496.569047</td>\n",
       "      <td>-487.479567</td>\n",
       "      <td>1502.688918</td>\n",
       "      <td>-501.569723</td>\n",
       "      <td>11.289710</td>\n",
       "      <td>4.343488</td>\n",
       "      <td>547.331405</td>\n",
       "      <td>78.066446</td>\n",
       "      <td>41.715740</td>\n",
       "      <td>10.071156</td>\n",
       "      <td>10.730915</td>\n",
       "      <td>7.200058</td>\n",
       "      <td>10.726349</td>\n",
       "      <td>7.200834</td>\n",
       "      <td>1403.942288</td>\n",
       "      <td>-300.030119</td>\n",
       "      <td>1049.802289</td>\n",
       "      <td>-499.795576</td>\n",
       "      <td>950.769390</td>\n",
       "      <td>-500.374645</td>\n",
       "      <td>847.647198</td>\n",
       "      <td>-499.920332</td>\n",
       "      <td>849.413040</td>\n",
       "      <td>-500.380529</td>\n",
       "      <td>850.075026</td>\n",
       "      <td>-500.478250</td>\n",
       "      <td>29.103185</td>\n",
       "      <td>-499.692672</td>\n",
       "      <td>27.051742</td>\n",
       "      <td>-499.858337</td>\n",
       "      <td>27.980387</td>\n",
       "      <td>-499.907225</td>\n",
       "      <td>23.046562</td>\n",
       "      <td>-499.744914</td>\n",
       "      <td>19.958760</td>\n",
       "      <td>-499.958750</td>\n",
       "      <td>15.026853</td>\n",
       "      <td>-499.723143</td>\n",
       "      <td>11.011607</td>\n",
       "      <td>-499.985046</td>\n",
       "      <td>9.009783</td>\n",
       "      <td>-499.937902</td>\n",
       "      <td>9.012660</td>\n",
       "      <td>-500.154284</td>\n",
       "    </tr>\n",
       "    <tr>\n",
       "      <th>5289</th>\n",
       "      <td>2017-12-31 23:59:59</td>\n",
       "      <td>181.556856</td>\n",
       "      <td>14.995850</td>\n",
       "      <td>8.070000</td>\n",
       "      <td>1.623454</td>\n",
       "      <td>1498.096303</td>\n",
       "      <td>-499.796922</td>\n",
       "      <td>1501.743791</td>\n",
       "      <td>-505.146931</td>\n",
       "      <td>1499.535978</td>\n",
       "      <td>-492.428226</td>\n",
       "      <td>1499.674340</td>\n",
       "      <td>-499.766717</td>\n",
       "      <td>10.904646</td>\n",
       "      <td>4.090591</td>\n",
       "      <td>564.540376</td>\n",
       "      <td>77.678700</td>\n",
       "      <td>40.891121</td>\n",
       "      <td>9.697259</td>\n",
       "      <td>10.789493</td>\n",
       "      <td>7.195776</td>\n",
       "      <td>10.792881</td>\n",
       "      <td>7.201037</td>\n",
       "      <td>1400.611544</td>\n",
       "      <td>-299.989405</td>\n",
       "      <td>1052.782756</td>\n",
       "      <td>-499.762966</td>\n",
       "      <td>950.793740</td>\n",
       "      <td>-499.357170</td>\n",
       "      <td>850.639537</td>\n",
       "      <td>-500.433782</td>\n",
       "      <td>850.370801</td>\n",
       "      <td>-500.819351</td>\n",
       "      <td>850.680188</td>\n",
       "      <td>-498.539198</td>\n",
       "      <td>29.098116</td>\n",
       "      <td>-500.429872</td>\n",
       "      <td>26.892401</td>\n",
       "      <td>-500.087131</td>\n",
       "      <td>28.023491</td>\n",
       "      <td>-500.170406</td>\n",
       "      <td>23.013559</td>\n",
       "      <td>-500.218801</td>\n",
       "      <td>20.034715</td>\n",
       "      <td>-500.728588</td>\n",
       "      <td>14.914199</td>\n",
       "      <td>-499.948518</td>\n",
       "      <td>10.986607</td>\n",
       "      <td>-500.658027</td>\n",
       "      <td>8.989497</td>\n",
       "      <td>-500.337588</td>\n",
       "      <td>8.988632</td>\n",
       "      <td>-500.764937</td>\n",
       "    </tr>\n",
       "  </tbody>\n",
       "</table>\n",
       "<p>5290 rows × 53 columns</p>\n",
       "</div>"
      ],
      "text/plain": [
       "                     date  primary_cleaner.input.sulfate  primary_cleaner.input.depressant  primary_cleaner.input.feed_size  primary_cleaner.input.xanthate  primary_cleaner.state.floatbank8_a_air  primary_cleaner.state.floatbank8_a_level  primary_cleaner.state.floatbank8_b_air  primary_cleaner.state.floatbank8_b_level  primary_cleaner.state.floatbank8_c_air  primary_cleaner.state.floatbank8_c_level  primary_cleaner.state.floatbank8_d_air  primary_cleaner.state.floatbank8_d_level  rougher.input.feed_ag  rougher.input.feed_pb  rougher.input.feed_rate  rougher.input.feed_size  rougher.input.feed_sol  rougher.input.feed_au  rougher.input.floatbank10_sulfate  rougher.input.floatbank10_xanthate  rougher.input.floatbank11_sulfate  rougher.input.floatbank11_xanthate  rougher.state.floatbank10_a_air  rougher.state.floatbank10_a_level  rougher.state.floatbank10_b_air  rougher.state.floatbank10_b_level  rougher.state.floatbank10_c_air  rougher.state.floatbank10_c_level  rougher.state.floatbank10_d_air  rougher.state.floatbank10_d_level  rougher.state.floatbank10_e_air  rougher.state.floatbank10_e_level  rougher.state.floatbank10_f_air  rougher.state.floatbank10_f_level  secondary_cleaner.state.floatbank2_a_air  secondary_cleaner.state.floatbank2_a_level  secondary_cleaner.state.floatbank2_b_air  secondary_cleaner.state.floatbank2_b_level  secondary_cleaner.state.floatbank3_a_air  secondary_cleaner.state.floatbank3_a_level  secondary_cleaner.state.floatbank3_b_air  \\\n",
       "0     2016-09-01 00:59:59                     210.800909                         14.993118                         8.080000                        1.005021                             1398.981301                               -500.225577                             1399.144926                               -499.919735                             1400.102998                               -500.704369                             1399.001695                               -499.485144              13.128569               5.636710               489.793655                62.710452               42.022440              12.084103                          16.922877                            6.153479                          16.867518                            6.150709                      1001.849317                        -350.301265                      1249.738612                        -399.107531                      1249.750520                        -399.396730                      1198.287855                        -399.488594                       999.472250                        -399.530962                       949.566189                        -398.180807                                 24.938200                                 -500.490963                                 14.947607                                 -500.013837                                 20.018166                                 -450.395995                                 13.987058   \n",
       "1     2016-09-01 01:59:59                     215.392455                         14.987471                         8.080000                        0.990469                             1398.777912                               -500.057435                             1398.055362                               -499.778182                             1396.151033                               -499.240168                             1399.508091                               -500.416324              13.036280               5.526065               490.104534                61.961163               41.187903              11.918977                          17.002532                            5.999043                          16.996063                            6.002315                       998.690785                        -350.425704                      1248.395457                        -399.946025                      1249.514451                        -399.630810                      1200.506459                        -399.942434                      1000.002114                        -399.491528                       950.200009                        -405.787514                                 24.923466                                 -499.813963                                 14.930873                                 -500.764452                                 19.988503                                 -450.114024                                 14.092981   \n",
       "2     2016-09-01 02:59:59                     215.259946                         12.884934                         7.786667                        0.996043                             1398.493666                               -500.868360                             1398.860436                               -499.764529                             1398.075709                               -502.151509                             1399.497088                               -499.715479              13.138412               5.426561               489.617969                66.903807               42.546294              12.091332                          16.992520                            5.850632                          16.982096                            5.853594                       998.516720                        -349.783538                      1247.440748                        -400.264330                      1248.207204                        -401.074405                      1199.770026                        -400.790582                       999.925519                        -399.236999                       950.320481                        -400.864340                                 24.908732                                 -500.304035                                 14.996511                                 -500.993821                                 20.039689                                 -450.263164                                 14.077881   \n",
       "3     2016-09-01 03:59:59                     215.336236                         12.006805                         7.640000                        0.863514                             1399.618111                               -498.863574                             1397.440120                               -499.211024                             1400.129303                               -498.355873                             1401.065165                               -501.038738              12.400507               5.114758               476.618130                59.865919               41.060195              12.181597                          16.532144                            5.801935                          16.515277                            5.803657                      1000.276604                        -350.172597                      1251.322675                        -398.655289                      1250.493702                        -399.746728                      1199.398691                        -397.503052                      1001.930679                        -400.437573                       950.735324                        -399.802986                                 24.893998                                 -499.382374                                 14.916674                                 -499.862299                                 20.031100                                 -449.372570                                 14.013968   \n",
       "4     2016-09-01 04:59:59                     199.099327                         10.682530                         7.530000                        0.805575                             1401.268123                               -500.808305                             1398.128818                               -499.504543                             1402.172226                               -500.810606                             1399.480508                               -499.374053              11.327427               4.767383               488.248117                63.315324               41.269161              11.290425                          13.607257                            5.738081                          13.650053                            5.739634                       996.541302                        -350.562517                      1304.658848                        -399.511519                      1306.455515                        -399.050685                      1248.699349                        -400.876894                      1058.839106                        -398.988239                       949.645313                        -399.277632                                 24.886905                                 -499.357375                                 14.979233                                 -500.186804                                 19.962364                                 -450.638828                                 14.009245   \n",
       "...                   ...                            ...                               ...                              ...                             ...                                     ...                                       ...                                     ...                                       ...                                     ...                                       ...                                     ...                                       ...                    ...                    ...                      ...                      ...                     ...                    ...                                ...                                 ...                                ...                                 ...                              ...                                ...                              ...                                ...                              ...                                ...                              ...                                ...                              ...                                ...                              ...                                ...                                       ...                                         ...                                       ...                                         ...                                       ...                                         ...                                       ...   \n",
       "5285  2017-12-31 19:59:59                     173.957757                         15.963399                         8.070000                        0.896701                             1401.930554                               -499.728848                             1401.441445                               -499.193423                             1399.810313                               -499.599127                             1400.334792                               -499.243459              11.638973               4.695306               521.685155                66.758479               42.022027              10.554544                          10.109194                            7.203935                          10.110793                            7.198171                      1399.935264                        -299.999637                      1049.641991                        -500.074887                       951.923857                        -499.648793                       852.337438                        -498.464443                       851.436769                        -500.285584                       851.461345                        -499.735650                                 21.912132                                 -499.915179                                 19.909080                                 -499.734909                                 24.939573                                 -500.098479                                 12.968448   \n",
       "5286  2017-12-31 20:59:59                     172.910270                         16.002605                         8.070000                        0.896519                             1447.075722                               -494.716823                             1448.851892                               -465.963026                             1443.890424                               -503.587739                             1447.653388                               -480.403849              11.338091               4.478381               530.195798                62.560684               41.096377              10.254051                           9.979495                            7.200895                           9.978855                            7.201957                      1406.122319                        -299.057200                      1055.715243                        -498.250207                       956.850266                        -497.403941                       855.386714                        -495.702676                       852.071335                        -499.442753                       851.328986                        -496.579809                                 25.322301                                 -497.034975                                 23.310568                                 -498.892647                                 26.369171                                 -499.222375                                 17.704862   \n",
       "5287  2017-12-31 21:59:59                     171.135718                         15.993669                         8.070000                        1.165996                             1498.836182                               -501.770403                             1499.572353                               -495.516347                             1502.749213                               -520.667442                             1502.585343                               -498.260225              11.285908               4.405327               546.306868                73.647513               41.095485              10.169094                          10.182219                            7.196255                          10.185461                            7.198676                      1396.203070                        -300.210722                      1047.879742                        -499.604248                       948.963429                        -499.549567                       856.325597                        -500.095616                       850.614597                        -499.473713                       850.279578                        -498.508374                                 29.075948                                 -500.528402                                 26.888005                                 -500.975799                                 28.000224                                 -500.565876                                 22.996528   \n",
       "5288  2017-12-31 22:59:59                     179.697158                         15.438979                         8.070000                        1.501068                             1498.466243                               -500.483984                             1497.986986                               -519.200340                             1496.569047                               -487.479567                             1502.688918                               -501.569723              11.289710               4.343488               547.331405                78.066446               41.715740              10.071156                          10.730915                            7.200058                          10.726349                            7.200834                      1403.942288                        -300.030119                      1049.802289                        -499.795576                       950.769390                        -500.374645                       847.647198                        -499.920332                       849.413040                        -500.380529                       850.075026                        -500.478250                                 29.103185                                 -499.692672                                 27.051742                                 -499.858337                                 27.980387                                 -499.907225                                 23.046562   \n",
       "5289  2017-12-31 23:59:59                     181.556856                         14.995850                         8.070000                        1.623454                             1498.096303                               -499.796922                             1501.743791                               -505.146931                             1499.535978                               -492.428226                             1499.674340                               -499.766717              10.904646               4.090591               564.540376                77.678700               40.891121               9.697259                          10.789493                            7.195776                          10.792881                            7.201037                      1400.611544                        -299.989405                      1052.782756                        -499.762966                       950.793740                        -499.357170                       850.639537                        -500.433782                       850.370801                        -500.819351                       850.680188                        -498.539198                                 29.098116                                 -500.429872                                 26.892401                                 -500.087131                                 28.023491                                 -500.170406                                 23.013559   \n",
       "\n",
       "      secondary_cleaner.state.floatbank3_b_level  secondary_cleaner.state.floatbank4_a_air  secondary_cleaner.state.floatbank4_a_level  secondary_cleaner.state.floatbank4_b_air  secondary_cleaner.state.floatbank4_b_level  secondary_cleaner.state.floatbank5_a_air  secondary_cleaner.state.floatbank5_a_level  secondary_cleaner.state.floatbank5_b_air  secondary_cleaner.state.floatbank5_b_level  secondary_cleaner.state.floatbank6_a_air  secondary_cleaner.state.floatbank6_a_level  \n",
       "0                                    -449.831513                                 12.023554                                 -497.795834                                  8.016656                                 -501.289139                                  7.946562                                 -432.317850                                  4.872511                                 -500.037437                                 26.705889                                 -499.709414  \n",
       "1                                    -450.059163                                 12.058140                                 -498.695773                                  8.130979                                 -499.634209                                  7.958270                                 -525.839648                                  4.878850                                 -500.162375                                 25.019940                                 -499.819438  \n",
       "2                                    -449.660997                                 11.962366                                 -498.767484                                  8.096893                                 -500.827423                                  8.071056                                 -500.801673                                  4.905125                                 -499.828510                                 24.994862                                 -500.622559  \n",
       "3                                    -449.526900                                 12.033091                                 -498.350935                                  8.074946                                 -499.474407                                  7.897085                                 -500.868509                                  4.931400                                 -499.963623                                 24.948919                                 -498.709987  \n",
       "4                                    -450.022259                                 12.025367                                 -500.786497                                  8.054678                                 -500.397500                                  8.107890                                 -509.526725                                  4.957674                                 -500.360026                                 25.003331                                 -500.856333  \n",
       "...                                          ...                                       ...                                         ...                                       ...                                         ...                                       ...                                         ...                                       ...                                         ...                                       ...                                         ...  \n",
       "5285                                 -499.952023                                 13.995957                                 -500.157454                                 12.069155                                 -499.673279                                  7.977259                                 -499.516126                                  5.933319                                 -499.965973                                  8.987171                                 -499.755909  \n",
       "5286                                 -499.545681                                 16.749781                                 -496.031539                                 13.365371                                 -499.122723                                  9.288553                                 -496.892967                                  7.372897                                 -499.942956                                  8.986832                                 -499.903761  \n",
       "5287                                 -500.477583                                 19.994130                                 -499.791312                                 15.101425                                 -499.936252                                 10.989181                                 -498.347898                                  9.020944                                 -500.040448                                  8.982038                                 -497.789882  \n",
       "5288                                 -499.744914                                 19.958760                                 -499.958750                                 15.026853                                 -499.723143                                 11.011607                                 -499.985046                                  9.009783                                 -499.937902                                  9.012660                                 -500.154284  \n",
       "5289                                 -500.218801                                 20.034715                                 -500.728588                                 14.914199                                 -499.948518                                 10.986607                                 -500.658027                                  8.989497                                 -500.337588                                  8.988632                                 -500.764937  \n",
       "\n",
       "[5290 rows x 53 columns]"
      ]
     },
     "execution_count": 14,
     "metadata": {},
     "output_type": "execute_result"
    }
   ],
   "source": [
    "df_test"
   ]
  },
  {
   "cell_type": "code",
   "execution_count": 15,
   "metadata": {},
   "outputs": [],
   "source": [
    "df_test = df_test.merge(df_original[['date','final.output.recovery', 'rougher.output.recovery', ]], how='left', on='date')"
   ]
  },
  {
   "cell_type": "code",
   "execution_count": 16,
   "metadata": {},
   "outputs": [
    {
     "data": {
      "text/html": [
       "<div>\n",
       "<style scoped>\n",
       "    .dataframe tbody tr th:only-of-type {\n",
       "        vertical-align: middle;\n",
       "    }\n",
       "\n",
       "    .dataframe tbody tr th {\n",
       "        vertical-align: top;\n",
       "    }\n",
       "\n",
       "    .dataframe thead th {\n",
       "        text-align: right;\n",
       "    }\n",
       "</style>\n",
       "<table border=\"1\" class=\"dataframe\">\n",
       "  <thead>\n",
       "    <tr style=\"text-align: right;\">\n",
       "      <th></th>\n",
       "      <th>date</th>\n",
       "      <th>primary_cleaner.input.sulfate</th>\n",
       "      <th>primary_cleaner.input.depressant</th>\n",
       "      <th>primary_cleaner.input.feed_size</th>\n",
       "      <th>primary_cleaner.input.xanthate</th>\n",
       "      <th>primary_cleaner.state.floatbank8_a_air</th>\n",
       "      <th>primary_cleaner.state.floatbank8_a_level</th>\n",
       "      <th>primary_cleaner.state.floatbank8_b_air</th>\n",
       "      <th>primary_cleaner.state.floatbank8_b_level</th>\n",
       "      <th>primary_cleaner.state.floatbank8_c_air</th>\n",
       "      <th>primary_cleaner.state.floatbank8_c_level</th>\n",
       "      <th>primary_cleaner.state.floatbank8_d_air</th>\n",
       "      <th>primary_cleaner.state.floatbank8_d_level</th>\n",
       "      <th>rougher.input.feed_ag</th>\n",
       "      <th>rougher.input.feed_pb</th>\n",
       "      <th>rougher.input.feed_rate</th>\n",
       "      <th>rougher.input.feed_size</th>\n",
       "      <th>rougher.input.feed_sol</th>\n",
       "      <th>rougher.input.feed_au</th>\n",
       "      <th>rougher.input.floatbank10_sulfate</th>\n",
       "      <th>rougher.input.floatbank10_xanthate</th>\n",
       "      <th>rougher.input.floatbank11_sulfate</th>\n",
       "      <th>rougher.input.floatbank11_xanthate</th>\n",
       "      <th>rougher.state.floatbank10_a_air</th>\n",
       "      <th>rougher.state.floatbank10_a_level</th>\n",
       "      <th>rougher.state.floatbank10_b_air</th>\n",
       "      <th>rougher.state.floatbank10_b_level</th>\n",
       "      <th>rougher.state.floatbank10_c_air</th>\n",
       "      <th>rougher.state.floatbank10_c_level</th>\n",
       "      <th>rougher.state.floatbank10_d_air</th>\n",
       "      <th>rougher.state.floatbank10_d_level</th>\n",
       "      <th>rougher.state.floatbank10_e_air</th>\n",
       "      <th>rougher.state.floatbank10_e_level</th>\n",
       "      <th>rougher.state.floatbank10_f_air</th>\n",
       "      <th>rougher.state.floatbank10_f_level</th>\n",
       "      <th>secondary_cleaner.state.floatbank2_a_air</th>\n",
       "      <th>secondary_cleaner.state.floatbank2_a_level</th>\n",
       "      <th>secondary_cleaner.state.floatbank2_b_air</th>\n",
       "      <th>secondary_cleaner.state.floatbank2_b_level</th>\n",
       "      <th>secondary_cleaner.state.floatbank3_a_air</th>\n",
       "      <th>secondary_cleaner.state.floatbank3_a_level</th>\n",
       "      <th>secondary_cleaner.state.floatbank3_b_air</th>\n",
       "      <th>secondary_cleaner.state.floatbank3_b_level</th>\n",
       "      <th>secondary_cleaner.state.floatbank4_a_air</th>\n",
       "      <th>secondary_cleaner.state.floatbank4_a_level</th>\n",
       "      <th>secondary_cleaner.state.floatbank4_b_air</th>\n",
       "      <th>secondary_cleaner.state.floatbank4_b_level</th>\n",
       "      <th>secondary_cleaner.state.floatbank5_a_air</th>\n",
       "      <th>secondary_cleaner.state.floatbank5_a_level</th>\n",
       "      <th>secondary_cleaner.state.floatbank5_b_air</th>\n",
       "      <th>secondary_cleaner.state.floatbank5_b_level</th>\n",
       "      <th>secondary_cleaner.state.floatbank6_a_air</th>\n",
       "      <th>secondary_cleaner.state.floatbank6_a_level</th>\n",
       "      <th>final.output.recovery</th>\n",
       "      <th>rougher.output.recovery</th>\n",
       "    </tr>\n",
       "  </thead>\n",
       "  <tbody>\n",
       "    <tr>\n",
       "      <th>0</th>\n",
       "      <td>2016-09-01 00:59:59</td>\n",
       "      <td>210.800909</td>\n",
       "      <td>14.993118</td>\n",
       "      <td>8.080000</td>\n",
       "      <td>1.005021</td>\n",
       "      <td>1398.981301</td>\n",
       "      <td>-500.225577</td>\n",
       "      <td>1399.144926</td>\n",
       "      <td>-499.919735</td>\n",
       "      <td>1400.102998</td>\n",
       "      <td>-500.704369</td>\n",
       "      <td>1399.001695</td>\n",
       "      <td>-499.485144</td>\n",
       "      <td>13.128569</td>\n",
       "      <td>5.636710</td>\n",
       "      <td>489.793655</td>\n",
       "      <td>62.710452</td>\n",
       "      <td>42.022440</td>\n",
       "      <td>12.084103</td>\n",
       "      <td>16.922877</td>\n",
       "      <td>6.153479</td>\n",
       "      <td>16.867518</td>\n",
       "      <td>6.150709</td>\n",
       "      <td>1001.849317</td>\n",
       "      <td>-350.301265</td>\n",
       "      <td>1249.738612</td>\n",
       "      <td>-399.107531</td>\n",
       "      <td>1249.750520</td>\n",
       "      <td>-399.396730</td>\n",
       "      <td>1198.287855</td>\n",
       "      <td>-399.488594</td>\n",
       "      <td>999.472250</td>\n",
       "      <td>-399.530962</td>\n",
       "      <td>949.566189</td>\n",
       "      <td>-398.180807</td>\n",
       "      <td>24.938200</td>\n",
       "      <td>-500.490963</td>\n",
       "      <td>14.947607</td>\n",
       "      <td>-500.013837</td>\n",
       "      <td>20.018166</td>\n",
       "      <td>-450.395995</td>\n",
       "      <td>13.987058</td>\n",
       "      <td>-449.831513</td>\n",
       "      <td>12.023554</td>\n",
       "      <td>-497.795834</td>\n",
       "      <td>8.016656</td>\n",
       "      <td>-501.289139</td>\n",
       "      <td>7.946562</td>\n",
       "      <td>-432.317850</td>\n",
       "      <td>4.872511</td>\n",
       "      <td>-500.037437</td>\n",
       "      <td>26.705889</td>\n",
       "      <td>-499.709414</td>\n",
       "      <td>70.273583</td>\n",
       "      <td>89.993421</td>\n",
       "    </tr>\n",
       "    <tr>\n",
       "      <th>1</th>\n",
       "      <td>2016-09-01 01:59:59</td>\n",
       "      <td>215.392455</td>\n",
       "      <td>14.987471</td>\n",
       "      <td>8.080000</td>\n",
       "      <td>0.990469</td>\n",
       "      <td>1398.777912</td>\n",
       "      <td>-500.057435</td>\n",
       "      <td>1398.055362</td>\n",
       "      <td>-499.778182</td>\n",
       "      <td>1396.151033</td>\n",
       "      <td>-499.240168</td>\n",
       "      <td>1399.508091</td>\n",
       "      <td>-500.416324</td>\n",
       "      <td>13.036280</td>\n",
       "      <td>5.526065</td>\n",
       "      <td>490.104534</td>\n",
       "      <td>61.961163</td>\n",
       "      <td>41.187903</td>\n",
       "      <td>11.918977</td>\n",
       "      <td>17.002532</td>\n",
       "      <td>5.999043</td>\n",
       "      <td>16.996063</td>\n",
       "      <td>6.002315</td>\n",
       "      <td>998.690785</td>\n",
       "      <td>-350.425704</td>\n",
       "      <td>1248.395457</td>\n",
       "      <td>-399.946025</td>\n",
       "      <td>1249.514451</td>\n",
       "      <td>-399.630810</td>\n",
       "      <td>1200.506459</td>\n",
       "      <td>-399.942434</td>\n",
       "      <td>1000.002114</td>\n",
       "      <td>-399.491528</td>\n",
       "      <td>950.200009</td>\n",
       "      <td>-405.787514</td>\n",
       "      <td>24.923466</td>\n",
       "      <td>-499.813963</td>\n",
       "      <td>14.930873</td>\n",
       "      <td>-500.764452</td>\n",
       "      <td>19.988503</td>\n",
       "      <td>-450.114024</td>\n",
       "      <td>14.092981</td>\n",
       "      <td>-450.059163</td>\n",
       "      <td>12.058140</td>\n",
       "      <td>-498.695773</td>\n",
       "      <td>8.130979</td>\n",
       "      <td>-499.634209</td>\n",
       "      <td>7.958270</td>\n",
       "      <td>-525.839648</td>\n",
       "      <td>4.878850</td>\n",
       "      <td>-500.162375</td>\n",
       "      <td>25.019940</td>\n",
       "      <td>-499.819438</td>\n",
       "      <td>68.910432</td>\n",
       "      <td>88.089657</td>\n",
       "    </tr>\n",
       "    <tr>\n",
       "      <th>2</th>\n",
       "      <td>2016-09-01 02:59:59</td>\n",
       "      <td>215.259946</td>\n",
       "      <td>12.884934</td>\n",
       "      <td>7.786667</td>\n",
       "      <td>0.996043</td>\n",
       "      <td>1398.493666</td>\n",
       "      <td>-500.868360</td>\n",
       "      <td>1398.860436</td>\n",
       "      <td>-499.764529</td>\n",
       "      <td>1398.075709</td>\n",
       "      <td>-502.151509</td>\n",
       "      <td>1399.497088</td>\n",
       "      <td>-499.715479</td>\n",
       "      <td>13.138412</td>\n",
       "      <td>5.426561</td>\n",
       "      <td>489.617969</td>\n",
       "      <td>66.903807</td>\n",
       "      <td>42.546294</td>\n",
       "      <td>12.091332</td>\n",
       "      <td>16.992520</td>\n",
       "      <td>5.850632</td>\n",
       "      <td>16.982096</td>\n",
       "      <td>5.853594</td>\n",
       "      <td>998.516720</td>\n",
       "      <td>-349.783538</td>\n",
       "      <td>1247.440748</td>\n",
       "      <td>-400.264330</td>\n",
       "      <td>1248.207204</td>\n",
       "      <td>-401.074405</td>\n",
       "      <td>1199.770026</td>\n",
       "      <td>-400.790582</td>\n",
       "      <td>999.925519</td>\n",
       "      <td>-399.236999</td>\n",
       "      <td>950.320481</td>\n",
       "      <td>-400.864340</td>\n",
       "      <td>24.908732</td>\n",
       "      <td>-500.304035</td>\n",
       "      <td>14.996511</td>\n",
       "      <td>-500.993821</td>\n",
       "      <td>20.039689</td>\n",
       "      <td>-450.263164</td>\n",
       "      <td>14.077881</td>\n",
       "      <td>-449.660997</td>\n",
       "      <td>11.962366</td>\n",
       "      <td>-498.767484</td>\n",
       "      <td>8.096893</td>\n",
       "      <td>-500.827423</td>\n",
       "      <td>8.071056</td>\n",
       "      <td>-500.801673</td>\n",
       "      <td>4.905125</td>\n",
       "      <td>-499.828510</td>\n",
       "      <td>24.994862</td>\n",
       "      <td>-500.622559</td>\n",
       "      <td>68.143213</td>\n",
       "      <td>88.412756</td>\n",
       "    </tr>\n",
       "    <tr>\n",
       "      <th>3</th>\n",
       "      <td>2016-09-01 03:59:59</td>\n",
       "      <td>215.336236</td>\n",
       "      <td>12.006805</td>\n",
       "      <td>7.640000</td>\n",
       "      <td>0.863514</td>\n",
       "      <td>1399.618111</td>\n",
       "      <td>-498.863574</td>\n",
       "      <td>1397.440120</td>\n",
       "      <td>-499.211024</td>\n",
       "      <td>1400.129303</td>\n",
       "      <td>-498.355873</td>\n",
       "      <td>1401.065165</td>\n",
       "      <td>-501.038738</td>\n",
       "      <td>12.400507</td>\n",
       "      <td>5.114758</td>\n",
       "      <td>476.618130</td>\n",
       "      <td>59.865919</td>\n",
       "      <td>41.060195</td>\n",
       "      <td>12.181597</td>\n",
       "      <td>16.532144</td>\n",
       "      <td>5.801935</td>\n",
       "      <td>16.515277</td>\n",
       "      <td>5.803657</td>\n",
       "      <td>1000.276604</td>\n",
       "      <td>-350.172597</td>\n",
       "      <td>1251.322675</td>\n",
       "      <td>-398.655289</td>\n",
       "      <td>1250.493702</td>\n",
       "      <td>-399.746728</td>\n",
       "      <td>1199.398691</td>\n",
       "      <td>-397.503052</td>\n",
       "      <td>1001.930679</td>\n",
       "      <td>-400.437573</td>\n",
       "      <td>950.735324</td>\n",
       "      <td>-399.802986</td>\n",
       "      <td>24.893998</td>\n",
       "      <td>-499.382374</td>\n",
       "      <td>14.916674</td>\n",
       "      <td>-499.862299</td>\n",
       "      <td>20.031100</td>\n",
       "      <td>-449.372570</td>\n",
       "      <td>14.013968</td>\n",
       "      <td>-449.526900</td>\n",
       "      <td>12.033091</td>\n",
       "      <td>-498.350935</td>\n",
       "      <td>8.074946</td>\n",
       "      <td>-499.474407</td>\n",
       "      <td>7.897085</td>\n",
       "      <td>-500.868509</td>\n",
       "      <td>4.931400</td>\n",
       "      <td>-499.963623</td>\n",
       "      <td>24.948919</td>\n",
       "      <td>-498.709987</td>\n",
       "      <td>67.776393</td>\n",
       "      <td>87.360133</td>\n",
       "    </tr>\n",
       "    <tr>\n",
       "      <th>4</th>\n",
       "      <td>2016-09-01 04:59:59</td>\n",
       "      <td>199.099327</td>\n",
       "      <td>10.682530</td>\n",
       "      <td>7.530000</td>\n",
       "      <td>0.805575</td>\n",
       "      <td>1401.268123</td>\n",
       "      <td>-500.808305</td>\n",
       "      <td>1398.128818</td>\n",
       "      <td>-499.504543</td>\n",
       "      <td>1402.172226</td>\n",
       "      <td>-500.810606</td>\n",
       "      <td>1399.480508</td>\n",
       "      <td>-499.374053</td>\n",
       "      <td>11.327427</td>\n",
       "      <td>4.767383</td>\n",
       "      <td>488.248117</td>\n",
       "      <td>63.315324</td>\n",
       "      <td>41.269161</td>\n",
       "      <td>11.290425</td>\n",
       "      <td>13.607257</td>\n",
       "      <td>5.738081</td>\n",
       "      <td>13.650053</td>\n",
       "      <td>5.739634</td>\n",
       "      <td>996.541302</td>\n",
       "      <td>-350.562517</td>\n",
       "      <td>1304.658848</td>\n",
       "      <td>-399.511519</td>\n",
       "      <td>1306.455515</td>\n",
       "      <td>-399.050685</td>\n",
       "      <td>1248.699349</td>\n",
       "      <td>-400.876894</td>\n",
       "      <td>1058.839106</td>\n",
       "      <td>-398.988239</td>\n",
       "      <td>949.645313</td>\n",
       "      <td>-399.277632</td>\n",
       "      <td>24.886905</td>\n",
       "      <td>-499.357375</td>\n",
       "      <td>14.979233</td>\n",
       "      <td>-500.186804</td>\n",
       "      <td>19.962364</td>\n",
       "      <td>-450.638828</td>\n",
       "      <td>14.009245</td>\n",
       "      <td>-450.022259</td>\n",
       "      <td>12.025367</td>\n",
       "      <td>-500.786497</td>\n",
       "      <td>8.054678</td>\n",
       "      <td>-500.397500</td>\n",
       "      <td>8.107890</td>\n",
       "      <td>-509.526725</td>\n",
       "      <td>4.957674</td>\n",
       "      <td>-500.360026</td>\n",
       "      <td>25.003331</td>\n",
       "      <td>-500.856333</td>\n",
       "      <td>61.467078</td>\n",
       "      <td>83.236367</td>\n",
       "    </tr>\n",
       "  </tbody>\n",
       "</table>\n",
       "</div>"
      ],
      "text/plain": [
       "                  date  primary_cleaner.input.sulfate  primary_cleaner.input.depressant  primary_cleaner.input.feed_size  primary_cleaner.input.xanthate  primary_cleaner.state.floatbank8_a_air  primary_cleaner.state.floatbank8_a_level  primary_cleaner.state.floatbank8_b_air  primary_cleaner.state.floatbank8_b_level  primary_cleaner.state.floatbank8_c_air  primary_cleaner.state.floatbank8_c_level  primary_cleaner.state.floatbank8_d_air  primary_cleaner.state.floatbank8_d_level  rougher.input.feed_ag  rougher.input.feed_pb  rougher.input.feed_rate  rougher.input.feed_size  rougher.input.feed_sol  rougher.input.feed_au  rougher.input.floatbank10_sulfate  rougher.input.floatbank10_xanthate  rougher.input.floatbank11_sulfate  rougher.input.floatbank11_xanthate  rougher.state.floatbank10_a_air  rougher.state.floatbank10_a_level  rougher.state.floatbank10_b_air  rougher.state.floatbank10_b_level  rougher.state.floatbank10_c_air  rougher.state.floatbank10_c_level  rougher.state.floatbank10_d_air  rougher.state.floatbank10_d_level  rougher.state.floatbank10_e_air  rougher.state.floatbank10_e_level  rougher.state.floatbank10_f_air  rougher.state.floatbank10_f_level  secondary_cleaner.state.floatbank2_a_air  secondary_cleaner.state.floatbank2_a_level  secondary_cleaner.state.floatbank2_b_air  secondary_cleaner.state.floatbank2_b_level  secondary_cleaner.state.floatbank3_a_air  secondary_cleaner.state.floatbank3_a_level  secondary_cleaner.state.floatbank3_b_air  \\\n",
       "0  2016-09-01 00:59:59                     210.800909                         14.993118                         8.080000                        1.005021                             1398.981301                               -500.225577                             1399.144926                               -499.919735                             1400.102998                               -500.704369                             1399.001695                               -499.485144              13.128569               5.636710               489.793655                62.710452               42.022440              12.084103                          16.922877                            6.153479                          16.867518                            6.150709                      1001.849317                        -350.301265                      1249.738612                        -399.107531                      1249.750520                        -399.396730                      1198.287855                        -399.488594                       999.472250                        -399.530962                       949.566189                        -398.180807                                 24.938200                                 -500.490963                                 14.947607                                 -500.013837                                 20.018166                                 -450.395995                                 13.987058   \n",
       "1  2016-09-01 01:59:59                     215.392455                         14.987471                         8.080000                        0.990469                             1398.777912                               -500.057435                             1398.055362                               -499.778182                             1396.151033                               -499.240168                             1399.508091                               -500.416324              13.036280               5.526065               490.104534                61.961163               41.187903              11.918977                          17.002532                            5.999043                          16.996063                            6.002315                       998.690785                        -350.425704                      1248.395457                        -399.946025                      1249.514451                        -399.630810                      1200.506459                        -399.942434                      1000.002114                        -399.491528                       950.200009                        -405.787514                                 24.923466                                 -499.813963                                 14.930873                                 -500.764452                                 19.988503                                 -450.114024                                 14.092981   \n",
       "2  2016-09-01 02:59:59                     215.259946                         12.884934                         7.786667                        0.996043                             1398.493666                               -500.868360                             1398.860436                               -499.764529                             1398.075709                               -502.151509                             1399.497088                               -499.715479              13.138412               5.426561               489.617969                66.903807               42.546294              12.091332                          16.992520                            5.850632                          16.982096                            5.853594                       998.516720                        -349.783538                      1247.440748                        -400.264330                      1248.207204                        -401.074405                      1199.770026                        -400.790582                       999.925519                        -399.236999                       950.320481                        -400.864340                                 24.908732                                 -500.304035                                 14.996511                                 -500.993821                                 20.039689                                 -450.263164                                 14.077881   \n",
       "3  2016-09-01 03:59:59                     215.336236                         12.006805                         7.640000                        0.863514                             1399.618111                               -498.863574                             1397.440120                               -499.211024                             1400.129303                               -498.355873                             1401.065165                               -501.038738              12.400507               5.114758               476.618130                59.865919               41.060195              12.181597                          16.532144                            5.801935                          16.515277                            5.803657                      1000.276604                        -350.172597                      1251.322675                        -398.655289                      1250.493702                        -399.746728                      1199.398691                        -397.503052                      1001.930679                        -400.437573                       950.735324                        -399.802986                                 24.893998                                 -499.382374                                 14.916674                                 -499.862299                                 20.031100                                 -449.372570                                 14.013968   \n",
       "4  2016-09-01 04:59:59                     199.099327                         10.682530                         7.530000                        0.805575                             1401.268123                               -500.808305                             1398.128818                               -499.504543                             1402.172226                               -500.810606                             1399.480508                               -499.374053              11.327427               4.767383               488.248117                63.315324               41.269161              11.290425                          13.607257                            5.738081                          13.650053                            5.739634                       996.541302                        -350.562517                      1304.658848                        -399.511519                      1306.455515                        -399.050685                      1248.699349                        -400.876894                      1058.839106                        -398.988239                       949.645313                        -399.277632                                 24.886905                                 -499.357375                                 14.979233                                 -500.186804                                 19.962364                                 -450.638828                                 14.009245   \n",
       "\n",
       "   secondary_cleaner.state.floatbank3_b_level  secondary_cleaner.state.floatbank4_a_air  secondary_cleaner.state.floatbank4_a_level  secondary_cleaner.state.floatbank4_b_air  secondary_cleaner.state.floatbank4_b_level  secondary_cleaner.state.floatbank5_a_air  secondary_cleaner.state.floatbank5_a_level  secondary_cleaner.state.floatbank5_b_air  secondary_cleaner.state.floatbank5_b_level  secondary_cleaner.state.floatbank6_a_air  secondary_cleaner.state.floatbank6_a_level  final.output.recovery  rougher.output.recovery  \n",
       "0                                 -449.831513                                 12.023554                                 -497.795834                                  8.016656                                 -501.289139                                  7.946562                                 -432.317850                                  4.872511                                 -500.037437                                 26.705889                                 -499.709414              70.273583                89.993421  \n",
       "1                                 -450.059163                                 12.058140                                 -498.695773                                  8.130979                                 -499.634209                                  7.958270                                 -525.839648                                  4.878850                                 -500.162375                                 25.019940                                 -499.819438              68.910432                88.089657  \n",
       "2                                 -449.660997                                 11.962366                                 -498.767484                                  8.096893                                 -500.827423                                  8.071056                                 -500.801673                                  4.905125                                 -499.828510                                 24.994862                                 -500.622559              68.143213                88.412756  \n",
       "3                                 -449.526900                                 12.033091                                 -498.350935                                  8.074946                                 -499.474407                                  7.897085                                 -500.868509                                  4.931400                                 -499.963623                                 24.948919                                 -498.709987              67.776393                87.360133  \n",
       "4                                 -450.022259                                 12.025367                                 -500.786497                                  8.054678                                 -500.397500                                  8.107890                                 -509.526725                                  4.957674                                 -500.360026                                 25.003331                                 -500.856333              61.467078                83.236367  "
      ]
     },
     "execution_count": 16,
     "metadata": {},
     "output_type": "execute_result"
    }
   ],
   "source": [
    "df_test.head()"
   ]
  },
  {
   "cell_type": "code",
   "execution_count": 17,
   "metadata": {},
   "outputs": [
    {
     "data": {
      "text/html": [
       "<div>\n",
       "<style scoped>\n",
       "    .dataframe tbody tr th:only-of-type {\n",
       "        vertical-align: middle;\n",
       "    }\n",
       "\n",
       "    .dataframe tbody tr th {\n",
       "        vertical-align: top;\n",
       "    }\n",
       "\n",
       "    .dataframe thead th {\n",
       "        text-align: right;\n",
       "    }\n",
       "</style>\n",
       "<table border=\"1\" class=\"dataframe\">\n",
       "  <thead>\n",
       "    <tr style=\"text-align: right;\">\n",
       "      <th></th>\n",
       "      <th>date</th>\n",
       "      <th>final.output.recovery</th>\n",
       "      <th>primary_cleaner.input.sulfate</th>\n",
       "      <th>primary_cleaner.input.depressant</th>\n",
       "      <th>primary_cleaner.input.feed_size</th>\n",
       "      <th>primary_cleaner.input.xanthate</th>\n",
       "      <th>primary_cleaner.state.floatbank8_a_air</th>\n",
       "      <th>primary_cleaner.state.floatbank8_a_level</th>\n",
       "      <th>primary_cleaner.state.floatbank8_b_air</th>\n",
       "      <th>primary_cleaner.state.floatbank8_b_level</th>\n",
       "      <th>primary_cleaner.state.floatbank8_c_air</th>\n",
       "      <th>primary_cleaner.state.floatbank8_c_level</th>\n",
       "      <th>primary_cleaner.state.floatbank8_d_air</th>\n",
       "      <th>primary_cleaner.state.floatbank8_d_level</th>\n",
       "      <th>rougher.input.feed_ag</th>\n",
       "      <th>rougher.input.feed_pb</th>\n",
       "      <th>rougher.input.feed_rate</th>\n",
       "      <th>rougher.input.feed_size</th>\n",
       "      <th>rougher.input.feed_sol</th>\n",
       "      <th>rougher.input.feed_au</th>\n",
       "      <th>rougher.input.floatbank10_sulfate</th>\n",
       "      <th>rougher.input.floatbank10_xanthate</th>\n",
       "      <th>rougher.input.floatbank11_sulfate</th>\n",
       "      <th>rougher.input.floatbank11_xanthate</th>\n",
       "      <th>rougher.output.recovery</th>\n",
       "      <th>rougher.state.floatbank10_a_air</th>\n",
       "      <th>rougher.state.floatbank10_a_level</th>\n",
       "      <th>rougher.state.floatbank10_b_air</th>\n",
       "      <th>rougher.state.floatbank10_b_level</th>\n",
       "      <th>rougher.state.floatbank10_c_air</th>\n",
       "      <th>rougher.state.floatbank10_c_level</th>\n",
       "      <th>rougher.state.floatbank10_d_air</th>\n",
       "      <th>rougher.state.floatbank10_d_level</th>\n",
       "      <th>rougher.state.floatbank10_e_air</th>\n",
       "      <th>rougher.state.floatbank10_e_level</th>\n",
       "      <th>rougher.state.floatbank10_f_air</th>\n",
       "      <th>rougher.state.floatbank10_f_level</th>\n",
       "      <th>secondary_cleaner.state.floatbank2_a_air</th>\n",
       "      <th>secondary_cleaner.state.floatbank2_a_level</th>\n",
       "      <th>secondary_cleaner.state.floatbank2_b_air</th>\n",
       "      <th>secondary_cleaner.state.floatbank2_b_level</th>\n",
       "      <th>secondary_cleaner.state.floatbank3_a_air</th>\n",
       "      <th>secondary_cleaner.state.floatbank3_a_level</th>\n",
       "      <th>secondary_cleaner.state.floatbank3_b_air</th>\n",
       "      <th>secondary_cleaner.state.floatbank3_b_level</th>\n",
       "      <th>secondary_cleaner.state.floatbank4_a_air</th>\n",
       "      <th>secondary_cleaner.state.floatbank4_a_level</th>\n",
       "      <th>secondary_cleaner.state.floatbank4_b_air</th>\n",
       "      <th>secondary_cleaner.state.floatbank4_b_level</th>\n",
       "      <th>secondary_cleaner.state.floatbank5_a_air</th>\n",
       "      <th>secondary_cleaner.state.floatbank5_a_level</th>\n",
       "      <th>secondary_cleaner.state.floatbank5_b_air</th>\n",
       "      <th>secondary_cleaner.state.floatbank5_b_level</th>\n",
       "      <th>secondary_cleaner.state.floatbank6_a_air</th>\n",
       "      <th>secondary_cleaner.state.floatbank6_a_level</th>\n",
       "    </tr>\n",
       "  </thead>\n",
       "  <tbody>\n",
       "    <tr>\n",
       "      <th>0</th>\n",
       "      <td>2016-01-15 00:00:00</td>\n",
       "      <td>70.541216</td>\n",
       "      <td>127.092003</td>\n",
       "      <td>10.128295</td>\n",
       "      <td>7.25</td>\n",
       "      <td>0.988759</td>\n",
       "      <td>1549.775757</td>\n",
       "      <td>-498.912140</td>\n",
       "      <td>1551.434204</td>\n",
       "      <td>-516.403442</td>\n",
       "      <td>1549.873901</td>\n",
       "      <td>-498.666595</td>\n",
       "      <td>1554.367432</td>\n",
       "      <td>-493.428131</td>\n",
       "      <td>6.100378</td>\n",
       "      <td>2.284912</td>\n",
       "      <td>523.546326</td>\n",
       "      <td>55.486599</td>\n",
       "      <td>36.808594</td>\n",
       "      <td>6.486150</td>\n",
       "      <td>11.986616</td>\n",
       "      <td>6.007990</td>\n",
       "      <td>11.836743</td>\n",
       "      <td>6.005818</td>\n",
       "      <td>87.107763</td>\n",
       "      <td>999.706909</td>\n",
       "      <td>-404.066986</td>\n",
       "      <td>1603.011353</td>\n",
       "      <td>-434.715027</td>\n",
       "      <td>1602.375000</td>\n",
       "      <td>-442.204468</td>\n",
       "      <td>1598.937256</td>\n",
       "      <td>-451.294128</td>\n",
       "      <td>1404.472046</td>\n",
       "      <td>-455.462982</td>\n",
       "      <td>1416.354980</td>\n",
       "      <td>-451.939636</td>\n",
       "      <td>25.853109</td>\n",
       "      <td>-498.526489</td>\n",
       "      <td>23.893660</td>\n",
       "      <td>-501.406281</td>\n",
       "      <td>23.961798</td>\n",
       "      <td>-495.262817</td>\n",
       "      <td>21.940409</td>\n",
       "      <td>-499.340973</td>\n",
       "      <td>14.016835</td>\n",
       "      <td>-502.488007</td>\n",
       "      <td>12.099931</td>\n",
       "      <td>-504.715942</td>\n",
       "      <td>9.925633</td>\n",
       "      <td>-498.310211</td>\n",
       "      <td>8.079666</td>\n",
       "      <td>-500.470978</td>\n",
       "      <td>14.151341</td>\n",
       "      <td>-605.841980</td>\n",
       "    </tr>\n",
       "    <tr>\n",
       "      <th>1</th>\n",
       "      <td>2016-01-15 01:00:00</td>\n",
       "      <td>69.266198</td>\n",
       "      <td>125.629232</td>\n",
       "      <td>10.296251</td>\n",
       "      <td>7.25</td>\n",
       "      <td>1.002663</td>\n",
       "      <td>1576.166671</td>\n",
       "      <td>-500.904965</td>\n",
       "      <td>1575.950626</td>\n",
       "      <td>-499.865889</td>\n",
       "      <td>1575.994189</td>\n",
       "      <td>-499.315107</td>\n",
       "      <td>1574.479259</td>\n",
       "      <td>-498.931665</td>\n",
       "      <td>6.161113</td>\n",
       "      <td>2.266033</td>\n",
       "      <td>525.290581</td>\n",
       "      <td>57.278666</td>\n",
       "      <td>35.753385</td>\n",
       "      <td>6.478583</td>\n",
       "      <td>11.971193</td>\n",
       "      <td>6.005766</td>\n",
       "      <td>11.996163</td>\n",
       "      <td>6.012594</td>\n",
       "      <td>86.843261</td>\n",
       "      <td>1000.286398</td>\n",
       "      <td>-400.065196</td>\n",
       "      <td>1600.754587</td>\n",
       "      <td>-449.953435</td>\n",
       "      <td>1600.479580</td>\n",
       "      <td>-449.830646</td>\n",
       "      <td>1600.527589</td>\n",
       "      <td>-449.953649</td>\n",
       "      <td>1399.227084</td>\n",
       "      <td>-450.869848</td>\n",
       "      <td>1399.719514</td>\n",
       "      <td>-450.119001</td>\n",
       "      <td>25.880539</td>\n",
       "      <td>-499.989656</td>\n",
       "      <td>23.889530</td>\n",
       "      <td>-500.372428</td>\n",
       "      <td>23.970550</td>\n",
       "      <td>-500.085473</td>\n",
       "      <td>22.085714</td>\n",
       "      <td>-499.446897</td>\n",
       "      <td>13.992281</td>\n",
       "      <td>-505.503262</td>\n",
       "      <td>11.950531</td>\n",
       "      <td>-501.331529</td>\n",
       "      <td>10.039245</td>\n",
       "      <td>-500.169983</td>\n",
       "      <td>7.984757</td>\n",
       "      <td>-500.582168</td>\n",
       "      <td>13.998353</td>\n",
       "      <td>-599.787184</td>\n",
       "    </tr>\n",
       "    <tr>\n",
       "      <th>2</th>\n",
       "      <td>2016-01-15 02:00:00</td>\n",
       "      <td>68.116445</td>\n",
       "      <td>123.819808</td>\n",
       "      <td>11.316280</td>\n",
       "      <td>7.25</td>\n",
       "      <td>0.991265</td>\n",
       "      <td>1601.556163</td>\n",
       "      <td>-499.997791</td>\n",
       "      <td>1600.386685</td>\n",
       "      <td>-500.607762</td>\n",
       "      <td>1602.003542</td>\n",
       "      <td>-500.870069</td>\n",
       "      <td>1599.541515</td>\n",
       "      <td>-499.827444</td>\n",
       "      <td>6.116455</td>\n",
       "      <td>2.159622</td>\n",
       "      <td>530.026610</td>\n",
       "      <td>57.510649</td>\n",
       "      <td>35.971630</td>\n",
       "      <td>6.362222</td>\n",
       "      <td>11.920603</td>\n",
       "      <td>6.197377</td>\n",
       "      <td>11.920305</td>\n",
       "      <td>6.204633</td>\n",
       "      <td>86.842308</td>\n",
       "      <td>999.719565</td>\n",
       "      <td>-400.074028</td>\n",
       "      <td>1599.337330</td>\n",
       "      <td>-450.008530</td>\n",
       "      <td>1599.672797</td>\n",
       "      <td>-449.954491</td>\n",
       "      <td>1599.849325</td>\n",
       "      <td>-449.954185</td>\n",
       "      <td>1399.180945</td>\n",
       "      <td>-449.937588</td>\n",
       "      <td>1400.316682</td>\n",
       "      <td>-450.527147</td>\n",
       "      <td>26.005245</td>\n",
       "      <td>-499.929616</td>\n",
       "      <td>23.886657</td>\n",
       "      <td>-499.951928</td>\n",
       "      <td>23.913535</td>\n",
       "      <td>-499.442343</td>\n",
       "      <td>23.957717</td>\n",
       "      <td>-499.901982</td>\n",
       "      <td>14.015015</td>\n",
       "      <td>-502.520901</td>\n",
       "      <td>11.912783</td>\n",
       "      <td>-501.133383</td>\n",
       "      <td>10.070913</td>\n",
       "      <td>-500.129135</td>\n",
       "      <td>8.013877</td>\n",
       "      <td>-500.517572</td>\n",
       "      <td>14.028663</td>\n",
       "      <td>-601.427363</td>\n",
       "    </tr>\n",
       "    <tr>\n",
       "      <th>3</th>\n",
       "      <td>2016-01-15 03:00:00</td>\n",
       "      <td>68.347543</td>\n",
       "      <td>122.270188</td>\n",
       "      <td>11.322140</td>\n",
       "      <td>7.25</td>\n",
       "      <td>0.996739</td>\n",
       "      <td>1599.968720</td>\n",
       "      <td>-500.951778</td>\n",
       "      <td>1600.659236</td>\n",
       "      <td>-499.677094</td>\n",
       "      <td>1600.304144</td>\n",
       "      <td>-500.727997</td>\n",
       "      <td>1600.449520</td>\n",
       "      <td>-500.052575</td>\n",
       "      <td>6.043309</td>\n",
       "      <td>2.037807</td>\n",
       "      <td>542.590390</td>\n",
       "      <td>57.792734</td>\n",
       "      <td>36.862241</td>\n",
       "      <td>6.118189</td>\n",
       "      <td>11.630094</td>\n",
       "      <td>6.203177</td>\n",
       "      <td>11.692450</td>\n",
       "      <td>6.196578</td>\n",
       "      <td>87.226430</td>\n",
       "      <td>999.814770</td>\n",
       "      <td>-400.200179</td>\n",
       "      <td>1600.059442</td>\n",
       "      <td>-450.619948</td>\n",
       "      <td>1600.012842</td>\n",
       "      <td>-449.910497</td>\n",
       "      <td>1597.725177</td>\n",
       "      <td>-450.130127</td>\n",
       "      <td>1400.943157</td>\n",
       "      <td>-450.030142</td>\n",
       "      <td>1400.234743</td>\n",
       "      <td>-449.790835</td>\n",
       "      <td>25.942508</td>\n",
       "      <td>-499.176749</td>\n",
       "      <td>23.955516</td>\n",
       "      <td>-499.848796</td>\n",
       "      <td>23.966838</td>\n",
       "      <td>-500.008812</td>\n",
       "      <td>23.954443</td>\n",
       "      <td>-499.944710</td>\n",
       "      <td>14.036510</td>\n",
       "      <td>-500.857308</td>\n",
       "      <td>11.999550</td>\n",
       "      <td>-501.193686</td>\n",
       "      <td>9.970366</td>\n",
       "      <td>-499.201640</td>\n",
       "      <td>7.977324</td>\n",
       "      <td>-500.255908</td>\n",
       "      <td>14.005551</td>\n",
       "      <td>-599.996129</td>\n",
       "    </tr>\n",
       "    <tr>\n",
       "      <th>4</th>\n",
       "      <td>2016-01-15 04:00:00</td>\n",
       "      <td>66.927016</td>\n",
       "      <td>117.988169</td>\n",
       "      <td>11.913613</td>\n",
       "      <td>7.25</td>\n",
       "      <td>1.009869</td>\n",
       "      <td>1601.339707</td>\n",
       "      <td>-498.975456</td>\n",
       "      <td>1601.437854</td>\n",
       "      <td>-500.323246</td>\n",
       "      <td>1599.581894</td>\n",
       "      <td>-500.888152</td>\n",
       "      <td>1602.649541</td>\n",
       "      <td>-500.593010</td>\n",
       "      <td>6.060915</td>\n",
       "      <td>1.786875</td>\n",
       "      <td>540.531893</td>\n",
       "      <td>56.047189</td>\n",
       "      <td>34.347666</td>\n",
       "      <td>5.663707</td>\n",
       "      <td>10.957755</td>\n",
       "      <td>6.198826</td>\n",
       "      <td>10.960521</td>\n",
       "      <td>6.194897</td>\n",
       "      <td>86.688794</td>\n",
       "      <td>999.678690</td>\n",
       "      <td>-399.752729</td>\n",
       "      <td>1600.208824</td>\n",
       "      <td>-449.599614</td>\n",
       "      <td>1600.357732</td>\n",
       "      <td>-450.034364</td>\n",
       "      <td>1599.759049</td>\n",
       "      <td>-449.909799</td>\n",
       "      <td>1401.560902</td>\n",
       "      <td>-448.877187</td>\n",
       "      <td>1401.160227</td>\n",
       "      <td>-450.407128</td>\n",
       "      <td>26.024787</td>\n",
       "      <td>-500.279091</td>\n",
       "      <td>23.955345</td>\n",
       "      <td>-500.593614</td>\n",
       "      <td>23.985703</td>\n",
       "      <td>-500.083811</td>\n",
       "      <td>23.958945</td>\n",
       "      <td>-499.990309</td>\n",
       "      <td>14.027298</td>\n",
       "      <td>-499.838632</td>\n",
       "      <td>11.953070</td>\n",
       "      <td>-501.053894</td>\n",
       "      <td>9.925709</td>\n",
       "      <td>-501.686727</td>\n",
       "      <td>7.894242</td>\n",
       "      <td>-500.356035</td>\n",
       "      <td>13.996647</td>\n",
       "      <td>-601.496691</td>\n",
       "    </tr>\n",
       "  </tbody>\n",
       "</table>\n",
       "</div>"
      ],
      "text/plain": [
       "                  date  final.output.recovery  primary_cleaner.input.sulfate  primary_cleaner.input.depressant  primary_cleaner.input.feed_size  primary_cleaner.input.xanthate  primary_cleaner.state.floatbank8_a_air  primary_cleaner.state.floatbank8_a_level  primary_cleaner.state.floatbank8_b_air  primary_cleaner.state.floatbank8_b_level  primary_cleaner.state.floatbank8_c_air  primary_cleaner.state.floatbank8_c_level  primary_cleaner.state.floatbank8_d_air  primary_cleaner.state.floatbank8_d_level  rougher.input.feed_ag  rougher.input.feed_pb  rougher.input.feed_rate  rougher.input.feed_size  rougher.input.feed_sol  rougher.input.feed_au  rougher.input.floatbank10_sulfate  rougher.input.floatbank10_xanthate  rougher.input.floatbank11_sulfate  rougher.input.floatbank11_xanthate  rougher.output.recovery  rougher.state.floatbank10_a_air  rougher.state.floatbank10_a_level  rougher.state.floatbank10_b_air  rougher.state.floatbank10_b_level  rougher.state.floatbank10_c_air  rougher.state.floatbank10_c_level  rougher.state.floatbank10_d_air  rougher.state.floatbank10_d_level  rougher.state.floatbank10_e_air  rougher.state.floatbank10_e_level  rougher.state.floatbank10_f_air  rougher.state.floatbank10_f_level  secondary_cleaner.state.floatbank2_a_air  secondary_cleaner.state.floatbank2_a_level  secondary_cleaner.state.floatbank2_b_air  secondary_cleaner.state.floatbank2_b_level  secondary_cleaner.state.floatbank3_a_air  secondary_cleaner.state.floatbank3_a_level  \\\n",
       "0  2016-01-15 00:00:00              70.541216                     127.092003                         10.128295                             7.25                        0.988759                             1549.775757                               -498.912140                             1551.434204                               -516.403442                             1549.873901                               -498.666595                             1554.367432                               -493.428131               6.100378               2.284912               523.546326                55.486599               36.808594               6.486150                          11.986616                            6.007990                          11.836743                            6.005818                87.107763                       999.706909                        -404.066986                      1603.011353                        -434.715027                      1602.375000                        -442.204468                      1598.937256                        -451.294128                      1404.472046                        -455.462982                      1416.354980                        -451.939636                                 25.853109                                 -498.526489                                 23.893660                                 -501.406281                                 23.961798                                 -495.262817   \n",
       "1  2016-01-15 01:00:00              69.266198                     125.629232                         10.296251                             7.25                        1.002663                             1576.166671                               -500.904965                             1575.950626                               -499.865889                             1575.994189                               -499.315107                             1574.479259                               -498.931665               6.161113               2.266033               525.290581                57.278666               35.753385               6.478583                          11.971193                            6.005766                          11.996163                            6.012594                86.843261                      1000.286398                        -400.065196                      1600.754587                        -449.953435                      1600.479580                        -449.830646                      1600.527589                        -449.953649                      1399.227084                        -450.869848                      1399.719514                        -450.119001                                 25.880539                                 -499.989656                                 23.889530                                 -500.372428                                 23.970550                                 -500.085473   \n",
       "2  2016-01-15 02:00:00              68.116445                     123.819808                         11.316280                             7.25                        0.991265                             1601.556163                               -499.997791                             1600.386685                               -500.607762                             1602.003542                               -500.870069                             1599.541515                               -499.827444               6.116455               2.159622               530.026610                57.510649               35.971630               6.362222                          11.920603                            6.197377                          11.920305                            6.204633                86.842308                       999.719565                        -400.074028                      1599.337330                        -450.008530                      1599.672797                        -449.954491                      1599.849325                        -449.954185                      1399.180945                        -449.937588                      1400.316682                        -450.527147                                 26.005245                                 -499.929616                                 23.886657                                 -499.951928                                 23.913535                                 -499.442343   \n",
       "3  2016-01-15 03:00:00              68.347543                     122.270188                         11.322140                             7.25                        0.996739                             1599.968720                               -500.951778                             1600.659236                               -499.677094                             1600.304144                               -500.727997                             1600.449520                               -500.052575               6.043309               2.037807               542.590390                57.792734               36.862241               6.118189                          11.630094                            6.203177                          11.692450                            6.196578                87.226430                       999.814770                        -400.200179                      1600.059442                        -450.619948                      1600.012842                        -449.910497                      1597.725177                        -450.130127                      1400.943157                        -450.030142                      1400.234743                        -449.790835                                 25.942508                                 -499.176749                                 23.955516                                 -499.848796                                 23.966838                                 -500.008812   \n",
       "4  2016-01-15 04:00:00              66.927016                     117.988169                         11.913613                             7.25                        1.009869                             1601.339707                               -498.975456                             1601.437854                               -500.323246                             1599.581894                               -500.888152                             1602.649541                               -500.593010               6.060915               1.786875               540.531893                56.047189               34.347666               5.663707                          10.957755                            6.198826                          10.960521                            6.194897                86.688794                       999.678690                        -399.752729                      1600.208824                        -449.599614                      1600.357732                        -450.034364                      1599.759049                        -449.909799                      1401.560902                        -448.877187                      1401.160227                        -450.407128                                 26.024787                                 -500.279091                                 23.955345                                 -500.593614                                 23.985703                                 -500.083811   \n",
       "\n",
       "   secondary_cleaner.state.floatbank3_b_air  secondary_cleaner.state.floatbank3_b_level  secondary_cleaner.state.floatbank4_a_air  secondary_cleaner.state.floatbank4_a_level  secondary_cleaner.state.floatbank4_b_air  secondary_cleaner.state.floatbank4_b_level  secondary_cleaner.state.floatbank5_a_air  secondary_cleaner.state.floatbank5_a_level  secondary_cleaner.state.floatbank5_b_air  secondary_cleaner.state.floatbank5_b_level  secondary_cleaner.state.floatbank6_a_air  secondary_cleaner.state.floatbank6_a_level  \n",
       "0                                 21.940409                                 -499.340973                                 14.016835                                 -502.488007                                 12.099931                                 -504.715942                                  9.925633                                 -498.310211                                  8.079666                                 -500.470978                                 14.151341                                 -605.841980  \n",
       "1                                 22.085714                                 -499.446897                                 13.992281                                 -505.503262                                 11.950531                                 -501.331529                                 10.039245                                 -500.169983                                  7.984757                                 -500.582168                                 13.998353                                 -599.787184  \n",
       "2                                 23.957717                                 -499.901982                                 14.015015                                 -502.520901                                 11.912783                                 -501.133383                                 10.070913                                 -500.129135                                  8.013877                                 -500.517572                                 14.028663                                 -601.427363  \n",
       "3                                 23.954443                                 -499.944710                                 14.036510                                 -500.857308                                 11.999550                                 -501.193686                                  9.970366                                 -499.201640                                  7.977324                                 -500.255908                                 14.005551                                 -599.996129  \n",
       "4                                 23.958945                                 -499.990309                                 14.027298                                 -499.838632                                 11.953070                                 -501.053894                                  9.925709                                 -501.686727                                  7.894242                                 -500.356035                                 13.996647                                 -601.496691  "
      ]
     },
     "execution_count": 17,
     "metadata": {},
     "output_type": "execute_result"
    }
   ],
   "source": [
    "df_train.head()"
   ]
  },
  {
   "cell_type": "markdown",
   "metadata": {},
   "source": [
    "Столбцы имеют одинаковое количество столбцов, можно приступать к предобработке"
   ]
  },
  {
   "cell_type": "markdown",
   "metadata": {},
   "source": [
    "### Предобработка данных"
   ]
  },
  {
   "cell_type": "markdown",
   "metadata": {},
   "source": [
    "#### Тестовая выборка"
   ]
  },
  {
   "cell_type": "code",
   "execution_count": 18,
   "metadata": {},
   "outputs": [
    {
     "data": {
      "text/plain": [
       "rougher.state.floatbank10_e_air             436\n",
       "rougher.input.floatbank11_xanthate          428\n",
       "secondary_cleaner.state.floatbank2_a_air    217\n",
       "rougher.input.feed_size                     144\n",
       "rougher.input.feed_pb                       100\n",
       "primary_cleaner.input.xanthate              100\n",
       "rougher.input.feed_sol                       78\n",
       "rougher.input.floatbank11_sulfate            36\n",
       "primary_cleaner.input.depressant             32\n",
       "rougher.input.floatbank10_sulfate            29\n",
       "secondary_cleaner.state.floatbank2_b_air     21\n",
       "primary_cleaner.input.sulfate                20\n",
       "rougher.input.feed_rate                       8\n",
       "rougher.input.floatbank10_xanthate            8\n",
       "secondary_cleaner.state.floatbank4_a_air      6\n",
       "dtype: int64"
      ]
     },
     "execution_count": 18,
     "metadata": {},
     "output_type": "execute_result"
    }
   ],
   "source": [
    "df_train.isna().sum().sort_values(ascending=False).head(15)"
   ]
  },
  {
   "cell_type": "code",
   "execution_count": 19,
   "metadata": {},
   "outputs": [
    {
     "data": {
      "text/plain": [
       "rougher.input.floatbank11_xanthate            25\n",
       "rougher.input.feed_sol                        21\n",
       "secondary_cleaner.state.floatbank3_a_air       9\n",
       "rougher.input.floatbank11_sulfate              8\n",
       "primary_cleaner.input.depressant               5\n",
       "rougher.input.floatbank10_sulfate              5\n",
       "primary_cleaner.input.xanthate                 4\n",
       "primary_cleaner.input.sulfate                  4\n",
       "secondary_cleaner.state.floatbank2_a_air       3\n",
       "rougher.input.feed_rate                        3\n",
       "secondary_cleaner.state.floatbank2_b_air       2\n",
       "rougher.input.feed_size                        1\n",
       "secondary_cleaner.state.floatbank3_a_level     0\n",
       "secondary_cleaner.state.floatbank3_b_level     0\n",
       "secondary_cleaner.state.floatbank3_b_air       0\n",
       "dtype: int64"
      ]
     },
     "execution_count": 19,
     "metadata": {},
     "output_type": "execute_result"
    }
   ],
   "source": [
    "df_test.isna().sum().sort_values(ascending=False).head(15)"
   ]
  },
  {
   "cell_type": "markdown",
   "metadata": {},
   "source": [
    "Т.к. соседние данные похожи, то заменим пропуски и нули функцией fillna и методом ffill"
   ]
  },
  {
   "cell_type": "code",
   "execution_count": 20,
   "metadata": {},
   "outputs": [],
   "source": [
    "df_original = df_original.replace(0,np.nan)\n",
    "df_test = df_test.replace(0,np.nan)\n",
    "df_train = df_train.replace(0,np.nan)\n",
    "\n",
    "df_original = df_original.fillna(method = 'ffill')\n",
    "df_test = df_test.fillna(method = 'ffill')\n",
    "df_train = df_train.fillna(method = 'ffill')"
   ]
  },
  {
   "cell_type": "markdown",
   "metadata": {},
   "source": [
    "### Анализ концентрации металлов на разных стадиях очистки"
   ]
  },
  {
   "cell_type": "code",
   "execution_count": 21,
   "metadata": {},
   "outputs": [
    {
     "name": "stdout",
     "output_type": "stream",
     "text": [
      "['rougher.input.feed_au', 'rougher.input.feed_sol', 'rougher.input.feed_size', 'rougher.input.feed_rate', 'rougher.input.feed_pb', 'rougher.input.feed_ag']\n"
     ]
    }
   ],
   "source": [
    "columns_metals = []\n",
    "for col in df_original.columns[::-1]:\n",
    "    if 'rougher.input.feed' in col:\n",
    "        columns_metals.append(col)\n",
    "print(columns_metals)"
   ]
  },
  {
   "cell_type": "code",
   "execution_count": 22,
   "metadata": {},
   "outputs": [],
   "source": [
    "df_au = df_original[['rougher.input.feed_au','rougher.output.concentrate_au', 'primary_cleaner.output.concentrate_au', 'final.output.concentrate_au']]\n",
    "df_ag = df_original[['rougher.input.feed_ag','rougher.output.concentrate_ag', 'primary_cleaner.output.concentrate_ag', 'final.output.concentrate_ag']]\n",
    "df_pb = df_original[['rougher.input.feed_pb','rougher.output.concentrate_pb', 'primary_cleaner.output.concentrate_pb', 'final.output.concentrate_pb']]"
   ]
  },
  {
   "cell_type": "code",
   "execution_count": 23,
   "metadata": {},
   "outputs": [
    {
     "data": {
      "image/png": "[encoded data removed]",
      "text/plain": [
       "<Figure size 2160x720 with 1 Axes>"
      ]
     },
     "metadata": {
      "needs_background": "light"
     },
     "output_type": "display_data"
    }
   ],
   "source": [
    "df_au.boxplot(figsize = (30,10), fontsize = 15)\n",
    "plt.title('Concentrate Au', fontsize=20)\n",
    "plt.show()"
   ]
  },
  {
   "cell_type": "code",
   "execution_count": 24,
   "metadata": {},
   "outputs": [
    {
     "data": {
      "image/png": "[encoded data removed]",
      "text/plain": [
       "<Figure size 2160x720 with 1 Axes>"
      ]
     },
     "metadata": {
      "needs_background": "light"
     },
     "output_type": "display_data"
    }
   ],
   "source": [
    "df_ag.boxplot(figsize = (30,10), fontsize = 15)\n",
    "plt.title('Concentrate Ag', fontsize=20)\n",
    "plt.show()"
   ]
  },
  {
   "cell_type": "code",
   "execution_count": 25,
   "metadata": {},
   "outputs": [
    {
     "data": {
      "image/png": "[encoded data removed]",
      "text/plain": [
       "<Figure size 2160x720 with 1 Axes>"
      ]
     },
     "metadata": {
      "needs_background": "light"
     },
     "output_type": "display_data"
    }
   ],
   "source": [
    "df_pb.boxplot(figsize = (30,10), fontsize = 15)\n",
    "plt.title('Concentrate Pb', fontsize=20)\n",
    "plt.show()"
   ]
  },
  {
   "cell_type": "markdown",
   "metadata": {},
   "source": [
    "Итого: от этапа к этапу концентрация золота и свинца возрастает, концентрация серебра снижается."
   ]
  },
  {
   "cell_type": "markdown",
   "metadata": {},
   "source": [
    "### Размеры гранул сырья"
   ]
  },
  {
   "cell_type": "code",
   "execution_count": 26,
   "metadata": {},
   "outputs": [
    {
     "name": "stdout",
     "output_type": "stream",
     "text": [
      "['primary_cleaner.input.feed_size', 'rougher.input.feed_size']\n"
     ]
    }
   ],
   "source": [
    "columns_feed = []\n",
    "for col in df_original.columns:\n",
    "    if 'feed_size' in col:\n",
    "        columns_feed.append(col)\n",
    "print(columns_feed)"
   ]
  },
  {
   "cell_type": "code",
   "execution_count": 27,
   "metadata": {},
   "outputs": [
    {
     "data": {
      "image/png": "[encoded data removed]",
      "text/plain": [
       "<Figure size 432x288 with 1 Axes>"
      ]
     },
     "metadata": {
      "needs_background": "light"
     },
     "output_type": "display_data"
    }
   ],
   "source": [
    "plt.hist(df_train[['primary_cleaner.input.feed_size']], bins = 60, label = 'df_train', density=True, alpha = 0.5)\n",
    "plt.hist(df_test[['primary_cleaner.input.feed_size']], bins = 60, label = 'df_test', density=True, alpha = 0.5)\n",
    "plt.legend(loc='upper right')\n",
    "plt.title('primary_cleaner.input.feed_size')\n",
    "plt.show()"
   ]
  },
  {
   "cell_type": "code",
   "execution_count": 28,
   "metadata": {},
   "outputs": [
    {
     "data": {
      "image/png": "[encoded data removed]",
      "text/plain": [
       "<Figure size 432x288 with 1 Axes>"
      ]
     },
     "metadata": {
      "needs_background": "light"
     },
     "output_type": "display_data"
    }
   ],
   "source": [
    "plt.hist(df_train[['rougher.input.feed_size']], bins = 60, label = 'df_train', density=True, alpha = 0.5)\n",
    "plt.hist(df_test[['rougher.input.feed_size']], bins = 60, label = 'df_test', density=True, alpha = 0.5)\n",
    "plt.legend(loc='upper right')\n",
    "plt.title('rougher.input.feed_size')\n",
    "plt.show()"
   ]
  },
  {
   "cell_type": "markdown",
   "metadata": {},
   "source": [
    "Распределение размера гранул между тестовой и тренирововчной выборкой на этапах флотации и первого этапа очистки совпадает"
   ]
  },
  {
   "cell_type": "markdown",
   "metadata": {},
   "source": [
    "### Суммарная концентрация всех веществ на разных стадиях"
   ]
  },
  {
   "cell_type": "code",
   "execution_count": 29,
   "metadata": {},
   "outputs": [
    {
     "name": "stdout",
     "output_type": "stream",
     "text": [
      "['rougher.input.feed_au', 'rougher.input.feed_sol', 'rougher.input.feed_size', 'rougher.input.feed_rate', 'rougher.input.feed_pb', 'rougher.input.feed_ag']\n"
     ]
    }
   ],
   "source": [
    "columns_metals = []\n",
    "for col in df_original.columns[::-1]:\n",
    "    if 'rougher.input.feed' in col:\n",
    "        columns_metals.append(col)\n",
    "print(columns_metals)"
   ]
  },
  {
   "cell_type": "code",
   "execution_count": 30,
   "metadata": {},
   "outputs": [],
   "source": [
    "df_concentrate_train = pd.DataFrame()"
   ]
  },
  {
   "cell_type": "code",
   "execution_count": 31,
   "metadata": {},
   "outputs": [],
   "source": [
    "def sum_concentrate(data):\n",
    "    data_conc = pd.DataFrame()\n",
    "    data_conc['rougher.feed'] = data[['rougher.input.feed_au', 'rougher.input.feed_ag', 'rougher.input.feed_pb','rougher.input.feed_sol']].sum(axis=1)\n",
    "    data_conc['rougher.output'] = data[['rougher.output.concentrate_au', 'rougher.output.concentrate_ag', 'rougher.output.concentrate_pb','rougher.output.concentrate_sol']].sum(axis=1)\n",
    "    data_conc['final.output'] = data[['final.output.concentrate_au', 'final.output.concentrate_ag', 'final.output.concentrate_pb','final.output.concentrate_sol']].sum(axis=1)\n",
    "    return data_conc"
   ]
  },
  {
   "cell_type": "code",
   "execution_count": 32,
   "metadata": {},
   "outputs": [],
   "source": [
    "df_train_sum_concentrate = sum_concentrate(df_original)"
   ]
  },
  {
   "cell_type": "code",
   "execution_count": 33,
   "metadata": {},
   "outputs": [
    {
     "data": {
      "text/html": [
       "<div>\n",
       "<style scoped>\n",
       "    .dataframe tbody tr th:only-of-type {\n",
       "        vertical-align: middle;\n",
       "    }\n",
       "\n",
       "    .dataframe tbody tr th {\n",
       "        vertical-align: top;\n",
       "    }\n",
       "\n",
       "    .dataframe thead th {\n",
       "        text-align: right;\n",
       "    }\n",
       "</style>\n",
       "<table border=\"1\" class=\"dataframe\">\n",
       "  <thead>\n",
       "    <tr style=\"text-align: right;\">\n",
       "      <th></th>\n",
       "      <th>rougher.feed</th>\n",
       "      <th>rougher.output</th>\n",
       "      <th>final.output</th>\n",
       "    </tr>\n",
       "  </thead>\n",
       "  <tbody>\n",
       "    <tr>\n",
       "      <th>0</th>\n",
       "      <td>51.680034</td>\n",
       "      <td>66.424950</td>\n",
       "      <td>63.644396</td>\n",
       "    </tr>\n",
       "    <tr>\n",
       "      <th>1</th>\n",
       "      <td>50.659114</td>\n",
       "      <td>67.012710</td>\n",
       "      <td>63.957723</td>\n",
       "    </tr>\n",
       "    <tr>\n",
       "      <th>2</th>\n",
       "      <td>50.609929</td>\n",
       "      <td>66.103793</td>\n",
       "      <td>64.311180</td>\n",
       "    </tr>\n",
       "    <tr>\n",
       "      <th>3</th>\n",
       "      <td>51.061546</td>\n",
       "      <td>65.752751</td>\n",
       "      <td>63.573449</td>\n",
       "    </tr>\n",
       "    <tr>\n",
       "      <th>4</th>\n",
       "      <td>47.859163</td>\n",
       "      <td>65.908382</td>\n",
       "      <td>64.004667</td>\n",
       "    </tr>\n",
       "    <tr>\n",
       "      <th>...</th>\n",
       "      <td>...</td>\n",
       "      <td>...</td>\n",
       "      <td>...</td>\n",
       "    </tr>\n",
       "    <tr>\n",
       "      <th>19434</th>\n",
       "      <td>53.415050</td>\n",
       "      <td>70.781325</td>\n",
       "      <td>68.098589</td>\n",
       "    </tr>\n",
       "    <tr>\n",
       "      <th>19435</th>\n",
       "      <td>53.696482</td>\n",
       "      <td>70.539603</td>\n",
       "      <td>68.274362</td>\n",
       "    </tr>\n",
       "    <tr>\n",
       "      <th>19436</th>\n",
       "      <td>54.589604</td>\n",
       "      <td>55.376330</td>\n",
       "      <td>68.226068</td>\n",
       "    </tr>\n",
       "    <tr>\n",
       "      <th>19437</th>\n",
       "      <td>54.027355</td>\n",
       "      <td>69.201689</td>\n",
       "      <td>68.200449</td>\n",
       "    </tr>\n",
       "    <tr>\n",
       "      <th>19438</th>\n",
       "      <td>53.535054</td>\n",
       "      <td>69.544003</td>\n",
       "      <td>68.353154</td>\n",
       "    </tr>\n",
       "  </tbody>\n",
       "</table>\n",
       "<p>19439 rows × 3 columns</p>\n",
       "</div>"
      ],
      "text/plain": [
       "       rougher.feed  rougher.output  final.output\n",
       "0         51.680034       66.424950     63.644396\n",
       "1         50.659114       67.012710     63.957723\n",
       "2         50.609929       66.103793     64.311180\n",
       "3         51.061546       65.752751     63.573449\n",
       "4         47.859163       65.908382     64.004667\n",
       "...             ...             ...           ...\n",
       "19434     53.415050       70.781325     68.098589\n",
       "19435     53.696482       70.539603     68.274362\n",
       "19436     54.589604       55.376330     68.226068\n",
       "19437     54.027355       69.201689     68.200449\n",
       "19438     53.535054       69.544003     68.353154\n",
       "\n",
       "[19439 rows x 3 columns]"
      ]
     },
     "execution_count": 33,
     "metadata": {},
     "output_type": "execute_result"
    }
   ],
   "source": [
    "df_train_sum_concentrate"
   ]
  },
  {
   "cell_type": "code",
   "execution_count": 34,
   "metadata": {
    "scrolled": true
   },
   "outputs": [
    {
     "data": {
      "image/png": "[encoded data removed]",
      "text/plain": [
       "<Figure size 432x288 with 1 Axes>"
      ]
     },
     "metadata": {
      "needs_background": "light"
     },
     "output_type": "display_data"
    }
   ],
   "source": [
    "sns.histplot(data = df_train_sum_concentrate).set(title = 'Concentration of metals')\n",
    "sns.set(rc={\"figure.figsize\":(25, 10)})\n",
    "sns.set(font_scale=1.5)\n",
    "plt.show()"
   ]
  },
  {
   "cell_type": "markdown",
   "metadata": {},
   "source": [
    "## Модель"
   ]
  },
  {
   "cell_type": "markdown",
   "metadata": {},
   "source": [
    "### Расчет для двух таргетов одновременно"
   ]
  },
  {
   "cell_type": "code",
   "execution_count": 35,
   "metadata": {},
   "outputs": [],
   "source": [
    "def sMAPE(y_true,y_pred):\n",
    "    rougher_true = pd.Series(y_true[:,1])\n",
    "    rougher_pred= pd.Series(y_pred[:,1])\n",
    "    final_true = pd.Series(y_true[:,0])\n",
    "    final_pred= pd.Series(y_pred[:,0])\n",
    "    smape_rougher = 1 / rougher_true.shape[0] * (abs(rougher_true - rougher_pred)/((abs(rougher_true) + abs(rougher_pred))/2)).sum()*100\n",
    "    smape_final = 1 / rougher_true.shape[0] * (abs(final_true - final_pred)/((abs(final_true) + abs(final_pred))/2)).sum()*100\n",
    "    smape_total = 0.25 * smape_rougher + 0.75 * smape_final\n",
    "    return smape_total"
   ]
  },
  {
   "cell_type": "code",
   "execution_count": 36,
   "metadata": {},
   "outputs": [],
   "source": [
    "my_scorer = make_scorer(sMAPE)"
   ]
  },
  {
   "cell_type": "code",
   "execution_count": 37,
   "metadata": {},
   "outputs": [],
   "source": [
    "best_model = None\n",
    "best_result = 100"
   ]
  },
  {
   "cell_type": "code",
   "execution_count": 38,
   "metadata": {},
   "outputs": [],
   "source": [
    "df_train= shuffle(df_train, random_state=STATE)"
   ]
  },
  {
   "cell_type": "code",
   "execution_count": 39,
   "metadata": {},
   "outputs": [],
   "source": [
    "target = df_train[['final.output.recovery','rougher.output.recovery']]\n",
    "features = df_train.drop(['final.output.recovery','rougher.output.recovery','date'], axis=1)"
   ]
  },
  {
   "cell_type": "code",
   "execution_count": 40,
   "metadata": {},
   "outputs": [],
   "source": [
    "target = target.to_numpy()\n",
    "features = features.to_numpy()"
   ]
  },
  {
   "cell_type": "markdown",
   "metadata": {},
   "source": [
    "Линейная регрессия"
   ]
  },
  {
   "cell_type": "code",
   "execution_count": 41,
   "metadata": {},
   "outputs": [],
   "source": [
    "model = LinearRegression()\n",
    "scores = cross_val_score(model, features, target, cv=5, scoring=my_scorer, error_score='raise', n_jobs= -1)\n",
    "final_score = sum(scores) / len(scores)  \n",
    "if best_result > final_score:\n",
    "    best_result = final_score\n",
    "    best_model = model "
   ]
  },
  {
   "cell_type": "code",
   "execution_count": 42,
   "metadata": {},
   "outputs": [
    {
     "name": "stdout",
     "output_type": "stream",
     "text": [
      "LinearRegression()\n",
      "7.337715052014691\n"
     ]
    }
   ],
   "source": [
    "print(best_model)\n",
    "print(best_result)"
   ]
  },
  {
   "cell_type": "markdown",
   "metadata": {},
   "source": [
    "Дерево решений регрессии"
   ]
  },
  {
   "cell_type": "code",
   "execution_count": 43,
   "metadata": {},
   "outputs": [],
   "source": [
    "for depth in range(1, 20, 1):\n",
    "    model = DecisionTreeRegressor(max_depth=depth, random_state=STATE)\n",
    "    scores = cross_val_score(model, features, target, cv=5, scoring=my_scorer, error_score='raise', n_jobs= -1)\n",
    "    final_score = sum(scores) / len(scores)  \n",
    "    if best_result > final_score:\n",
    "        best_result = final_score\n",
    "        best_model = model "
   ]
  },
  {
   "cell_type": "code",
   "execution_count": 44,
   "metadata": {},
   "outputs": [
    {
     "name": "stdout",
     "output_type": "stream",
     "text": [
      "DecisionTreeRegressor(max_depth=11,\n",
      "                      random_state=RandomState(MT19937) at 0x247D9476840)\n",
      "6.495242913915573\n"
     ]
    }
   ],
   "source": [
    "print(best_model)\n",
    "print(best_result)"
   ]
  },
  {
   "cell_type": "markdown",
   "metadata": {},
   "source": [
    "Случайный лес регрессии"
   ]
  },
  {
   "cell_type": "code",
   "execution_count": 45,
   "metadata": {},
   "outputs": [
    {
     "data": {
      "application/vnd.jupyter.widget-view+json": {
       "model_id": "5f441ece620d4cab8613086510bf0ab5",
       "version_major": 2,
       "version_minor": 0
      },
      "text/plain": [
       "  0%|          | 0/576 [00:00<?, ?it/s]"
      ]
     },
     "metadata": {},
     "output_type": "display_data"
    }
   ],
   "source": [
    "param_grid = {'n_estimators': list(range(1, 25)), 'max_depth': list(range(1, 25))}\n",
    "params = list(ParameterGrid(param_grid))\n",
    "for param in tqdm(params):\n",
    "    model = RandomForestRegressor(random_state=STATE, n_estimators=param['n_estimators'], max_depth=param['max_depth'])\n",
    "    scores = cross_val_score(model, features, target, cv=5, scoring=my_scorer, error_score='raise', n_jobs= -1)\n",
    "    final_score = sum(scores) / len(scores)  \n",
    "    if best_result > final_score:\n",
    "        best_result = final_score\n",
    "        best_model = model  "
   ]
  },
  {
   "cell_type": "code",
   "execution_count": 46,
   "metadata": {},
   "outputs": [
    {
     "name": "stdout",
     "output_type": "stream",
     "text": [
      "RandomForestRegressor(max_depth=23, n_estimators=24,\n",
      "                      random_state=RandomState(MT19937) at 0x247D9476840)\n",
      "5.009119820340892\n"
     ]
    }
   ],
   "source": [
    "print(best_model)\n",
    "print(best_result)"
   ]
  },
  {
   "cell_type": "code",
   "execution_count": 47,
   "metadata": {},
   "outputs": [],
   "source": [
    "smape_total_both_targets = best_result\n",
    "best_model_both_targets = best_model"
   ]
  },
  {
   "cell_type": "markdown",
   "metadata": {},
   "source": [
    "### Расчет для двух таргетов отдельно"
   ]
  },
  {
   "cell_type": "code",
   "execution_count": 48,
   "metadata": {},
   "outputs": [],
   "source": [
    "def MAPE(y_true,y_pred):\n",
    "    true = pd.Series(y_true)\n",
    "    pred= pd.Series(y_pred)\n",
    "    mape = 1 / true.shape[0] * (abs(true - pred)/((abs(true) + abs(pred))/2)).sum()*100\n",
    "    return mape"
   ]
  },
  {
   "cell_type": "code",
   "execution_count": 49,
   "metadata": {},
   "outputs": [],
   "source": [
    "my_scorer = make_scorer(MAPE)"
   ]
  },
  {
   "cell_type": "code",
   "execution_count": 50,
   "metadata": {},
   "outputs": [],
   "source": [
    "target_final = df_train['final.output.recovery']\n",
    "target_rougher = df_train['rougher.output.recovery']"
   ]
  },
  {
   "cell_type": "code",
   "execution_count": 51,
   "metadata": {},
   "outputs": [],
   "source": [
    "target_final = target_final.to_numpy()\n",
    "target_rougher = target_rougher.to_numpy()"
   ]
  },
  {
   "cell_type": "markdown",
   "metadata": {},
   "source": [
    "#### Target - final.output.recovery"
   ]
  },
  {
   "cell_type": "code",
   "execution_count": 52,
   "metadata": {},
   "outputs": [],
   "source": [
    "best_model = None\n",
    "best_result = 100"
   ]
  },
  {
   "cell_type": "markdown",
   "metadata": {},
   "source": [
    "Линейная регрессия"
   ]
  },
  {
   "cell_type": "code",
   "execution_count": 53,
   "metadata": {},
   "outputs": [],
   "source": [
    "model = LinearRegression()\n",
    "scores = cross_val_score(model, features, target_final, cv=5, scoring=my_scorer, error_score='raise', n_jobs= -1)\n",
    "final_score = sum(scores) / len(scores)  \n",
    "if best_result > final_score:\n",
    "    best_result = final_score\n",
    "    best_model = model "
   ]
  },
  {
   "cell_type": "markdown",
   "metadata": {},
   "source": [
    "Дерево решений регрессии"
   ]
  },
  {
   "cell_type": "code",
   "execution_count": 54,
   "metadata": {},
   "outputs": [],
   "source": [
    "for depth in range(1, 20, 1):\n",
    "    model = DecisionTreeRegressor(max_depth=depth, random_state=STATE)\n",
    "    scores = cross_val_score(model, features, target_final, cv=5, scoring=my_scorer, error_score='raise', n_jobs= -1)\n",
    "    final_score = sum(scores) / len(scores)  \n",
    "    if best_result > final_score:\n",
    "        best_result = final_score\n",
    "        best_model = model "
   ]
  },
  {
   "cell_type": "code",
   "execution_count": 55,
   "metadata": {},
   "outputs": [
    {
     "name": "stdout",
     "output_type": "stream",
     "text": [
      "DecisionTreeRegressor(max_depth=10,\n",
      "                      random_state=RandomState(MT19937) at 0x247D9476840)\n",
      "7.653715469945496\n"
     ]
    }
   ],
   "source": [
    "print(best_model)\n",
    "print(best_result)"
   ]
  },
  {
   "cell_type": "markdown",
   "metadata": {},
   "source": [
    "Случайный лес регрессии"
   ]
  },
  {
   "cell_type": "code",
   "execution_count": 56,
   "metadata": {},
   "outputs": [
    {
     "data": {
      "application/vnd.jupyter.widget-view+json": {
       "model_id": "52959d48a90d4a3ba5bae280b1f4d639",
       "version_major": 2,
       "version_minor": 0
      },
      "text/plain": [
       "  0%|          | 0/576 [00:00<?, ?it/s]"
      ]
     },
     "metadata": {},
     "output_type": "display_data"
    }
   ],
   "source": [
    "param_grid = {'n_estimators': list(range(1, 25)), 'max_depth': list(range(1, 25))}\n",
    "params = list(ParameterGrid(param_grid))\n",
    "for param in tqdm(params):\n",
    "    model = RandomForestRegressor(random_state=STATE, n_estimators=param['n_estimators'], max_depth=param['max_depth'])\n",
    "    scores = cross_val_score(model, features, target_final, cv=5, scoring=my_scorer, error_score='raise', n_jobs= -1)\n",
    "    final_score = sum(scores) / len(scores)  \n",
    "    if best_result > final_score:\n",
    "        best_result = final_score\n",
    "        best_model = model  "
   ]
  },
  {
   "cell_type": "code",
   "execution_count": 57,
   "metadata": {},
   "outputs": [
    {
     "name": "stdout",
     "output_type": "stream",
     "text": [
      "RandomForestRegressor(max_depth=24, n_estimators=24,\n",
      "                      random_state=RandomState(MT19937) at 0x247D9476840)\n",
      "5.9438410540728395\n"
     ]
    }
   ],
   "source": [
    "smape_final = best_result\n",
    "print(best_model)\n",
    "print(best_result)"
   ]
  },
  {
   "cell_type": "code",
   "execution_count": 58,
   "metadata": {},
   "outputs": [],
   "source": [
    "best_model_final = best_model"
   ]
  },
  {
   "cell_type": "markdown",
   "metadata": {},
   "source": [
    "#### Target - rougher.output.recovery"
   ]
  },
  {
   "cell_type": "code",
   "execution_count": 59,
   "metadata": {},
   "outputs": [],
   "source": [
    "best_model = None\n",
    "best_result = 100"
   ]
  },
  {
   "cell_type": "markdown",
   "metadata": {},
   "source": [
    "Линейная регрессия"
   ]
  },
  {
   "cell_type": "code",
   "execution_count": 60,
   "metadata": {},
   "outputs": [],
   "source": [
    "model = LinearRegression()\n",
    "scores = cross_val_score(model, features, target_rougher, cv=5, scoring=my_scorer, error_score='raise', n_jobs= -1)\n",
    "final_score = sum(scores) / len(scores)  \n",
    "if best_result > final_score:\n",
    "    best_result = final_score\n",
    "    best_model = model "
   ]
  },
  {
   "cell_type": "markdown",
   "metadata": {},
   "source": [
    "Дерево решений регрессии"
   ]
  },
  {
   "cell_type": "code",
   "execution_count": 61,
   "metadata": {},
   "outputs": [],
   "source": [
    "for depth in range(1, 20, 1):\n",
    "    model = DecisionTreeRegressor(max_depth=depth, random_state=STATE)\n",
    "    scores = cross_val_score(model, features, target_rougher, cv=5, scoring=my_scorer, error_score='raise', n_jobs= -1)\n",
    "    final_score = sum(scores) / len(scores)  \n",
    "    if best_result > final_score:\n",
    "        best_result = final_score\n",
    "        best_model = model "
   ]
  },
  {
   "cell_type": "markdown",
   "metadata": {},
   "source": [
    "Случайный лес регрессии"
   ]
  },
  {
   "cell_type": "code",
   "execution_count": 62,
   "metadata": {},
   "outputs": [
    {
     "data": {
      "application/vnd.jupyter.widget-view+json": {
       "model_id": "3c1e479ec8b8412bbff3f581c54474b2",
       "version_major": 2,
       "version_minor": 0
      },
      "text/plain": [
       "  0%|          | 0/576 [00:00<?, ?it/s]"
      ]
     },
     "metadata": {},
     "output_type": "display_data"
    }
   ],
   "source": [
    "param_grid = {'n_estimators': list(range(1, 25)), 'max_depth': list(range(1, 25))}\n",
    "params = list(ParameterGrid(param_grid))\n",
    "for param in tqdm(params):\n",
    "    model = RandomForestRegressor(random_state=STATE, n_estimators=param['n_estimators'], max_depth=param['max_depth'])\n",
    "    scores = cross_val_score(model, features, target_rougher, cv=5, scoring=my_scorer, error_score='raise', n_jobs= -1)\n",
    "    final_score = sum(scores) / len(scores)  \n",
    "    if best_result > final_score:\n",
    "        best_result = final_score\n",
    "        best_model = model  "
   ]
  },
  {
   "cell_type": "code",
   "execution_count": 63,
   "metadata": {},
   "outputs": [
    {
     "name": "stdout",
     "output_type": "stream",
     "text": [
      "RandomForestRegressor(max_depth=24, n_estimators=24,\n",
      "                      random_state=RandomState(MT19937) at 0x247D9476840)\n",
      "2.691251677769223\n"
     ]
    }
   ],
   "source": [
    "smape_rougher = best_result\n",
    "print(best_model)\n",
    "print(best_result)"
   ]
  },
  {
   "cell_type": "code",
   "execution_count": 64,
   "metadata": {},
   "outputs": [],
   "source": [
    "best_model_rougher = best_model"
   ]
  },
  {
   "cell_type": "code",
   "execution_count": 65,
   "metadata": {},
   "outputs": [],
   "source": [
    "smape_total_separate_targets = 0.25 * smape_rougher + 0.75 * smape_final"
   ]
  },
  {
   "cell_type": "code",
   "execution_count": 66,
   "metadata": {},
   "outputs": [
    {
     "name": "stdout",
     "output_type": "stream",
     "text": [
      "При использовании моделей для двух таргетов сразу лучшая модель: RandomForestRegressor(max_depth=23, n_estimators=24,\n",
      "                      random_state=RandomState(MT19937) at 0x247D9476840) \n",
      "Лучший результат метрики sMAPE: 5.009119820340892\n"
     ]
    }
   ],
   "source": [
    "print('При использовании моделей для двух таргетов сразу лучшая модель:',best_model_both_targets,'\\nЛучший результат метрики sMAPE:',smape_total_both_targets)"
   ]
  },
  {
   "cell_type": "code",
   "execution_count": 67,
   "metadata": {},
   "outputs": [
    {
     "name": "stdout",
     "output_type": "stream",
     "text": [
      "При использовании моделей для двух таргетов раздельно лучшая модель:\n",
      "Для таргета final.output.recovery RandomForestRegressor(max_depth=24, n_estimators=24,\n",
      "                      random_state=RandomState(MT19937) at 0x247D9476840) \n",
      "Для таргета rougher.output.recovery RandomForestRegressor(max_depth=24, n_estimators=24,\n",
      "                      random_state=RandomState(MT19937) at 0x247D9476840) \n",
      "Лучший результат метрики sMAPE: 5.130693709996935\n"
     ]
    }
   ],
   "source": [
    "print('При использовании моделей для двух таргетов раздельно лучшая модель:\\nДля таргета final.output.recovery',best_model_final,'\\nДля таргета rougher.output.recovery',best_model_rougher,'\\nЛучший результат метрики sMAPE:',smape_total_separate_targets)"
   ]
  },
  {
   "cell_type": "markdown",
   "metadata": {},
   "source": [
    "### Проверка модели на тестовой выборке"
   ]
  },
  {
   "cell_type": "markdown",
   "metadata": {},
   "source": [
    "#### Для двух таргетов отдельно"
   ]
  },
  {
   "cell_type": "code",
   "execution_count": 68,
   "metadata": {},
   "outputs": [],
   "source": [
    "target_test_final = df_test['final.output.recovery']\n",
    "target_test_rougher = df_test['rougher.output.recovery']\n",
    "features_test = df_test.drop(['final.output.recovery','rougher.output.recovery','date'], axis=1)"
   ]
  },
  {
   "cell_type": "code",
   "execution_count": 69,
   "metadata": {},
   "outputs": [],
   "source": [
    "target_test_final = target_test_final.to_numpy()\n",
    "target_test_rougher = target_test_rougher.to_numpy()\n",
    "features_test = features_test.to_numpy()"
   ]
  },
  {
   "cell_type": "code",
   "execution_count": 70,
   "metadata": {},
   "outputs": [],
   "source": [
    "model = best_model_final\n",
    "model.fit(features, target_final)\n",
    "predicted_test = model.predict(features_test)\n",
    "mape_test_final = MAPE(target_test_final,predicted_test)"
   ]
  },
  {
   "cell_type": "code",
   "execution_count": 71,
   "metadata": {},
   "outputs": [
    {
     "data": {
      "text/plain": [
       "8.785239490858068"
      ]
     },
     "execution_count": 71,
     "metadata": {},
     "output_type": "execute_result"
    }
   ],
   "source": [
    "mape_test_final"
   ]
  },
  {
   "cell_type": "code",
   "execution_count": 72,
   "metadata": {},
   "outputs": [],
   "source": [
    "model = best_model_rougher\n",
    "model.fit(features, target_rougher)\n",
    "predicted_test = model.predict(features_test)\n",
    "mape_test_rougher = MAPE(target_test_rougher,predicted_test)"
   ]
  },
  {
   "cell_type": "code",
   "execution_count": 73,
   "metadata": {},
   "outputs": [
    {
     "data": {
      "text/plain": [
       "4.558935603467754"
      ]
     },
     "execution_count": 73,
     "metadata": {},
     "output_type": "execute_result"
    }
   ],
   "source": [
    "mape_test_rougher"
   ]
  },
  {
   "cell_type": "code",
   "execution_count": 74,
   "metadata": {},
   "outputs": [
    {
     "name": "stdout",
     "output_type": "stream",
     "text": [
      "7.728663519010489\n"
     ]
    }
   ],
   "source": [
    "smape_test_total = 0.25 * mape_test_rougher + 0.75 * mape_test_final\n",
    "print(smape_test_total)"
   ]
  },
  {
   "cell_type": "code",
   "execution_count": 75,
   "metadata": {},
   "outputs": [
    {
     "name": "stdout",
     "output_type": "stream",
     "text": [
      "Значение метрики на тестовой выборке составляет для двух таргетов отдельно 7.728663519010489\n"
     ]
    }
   ],
   "source": [
    "print('Значение метрики на тестовой выборке составляет для двух таргетов отдельно',smape_test_total)"
   ]
  },
  {
   "cell_type": "markdown",
   "metadata": {},
   "source": [
    "#### Для двух таргетов вместе"
   ]
  },
  {
   "cell_type": "code",
   "execution_count": 76,
   "metadata": {},
   "outputs": [],
   "source": [
    "target_test = df_test[['final.output.recovery','rougher.output.recovery']]"
   ]
  },
  {
   "cell_type": "code",
   "execution_count": 77,
   "metadata": {},
   "outputs": [],
   "source": [
    "target_test = target_test.to_numpy()"
   ]
  },
  {
   "cell_type": "code",
   "execution_count": 78,
   "metadata": {},
   "outputs": [],
   "source": [
    "model = best_model_both_targets"
   ]
  },
  {
   "cell_type": "code",
   "execution_count": 79,
   "metadata": {},
   "outputs": [],
   "source": [
    "model.fit(features, target)\n",
    "predicted_test = model.predict(features_test)\n",
    "smape_test_both = sMAPE(target_test,predicted_test)"
   ]
  },
  {
   "cell_type": "code",
   "execution_count": 80,
   "metadata": {},
   "outputs": [
    {
     "name": "stdout",
     "output_type": "stream",
     "text": [
      "Значение метрики на тестовой выборке составляет для двух таргетов вместе 8.756078902064676\n"
     ]
    }
   ],
   "source": [
    "print('Значение метрики на тестовой выборке составляет для двух таргетов вместе',smape_test_both)"
   ]
  },
  {
   "cell_type": "markdown",
   "metadata": {},
   "source": [
    "### Проверка модели на адекватность"
   ]
  },
  {
   "cell_type": "code",
   "execution_count": 81,
   "metadata": {},
   "outputs": [],
   "source": [
    "model = DummyRegressor (strategy=\"mean\")\n",
    "model.fit(features, target_final)\n",
    "mape_dummy_final = MAPE(target_test_final, model.predict(features_test))"
   ]
  },
  {
   "cell_type": "code",
   "execution_count": 82,
   "metadata": {},
   "outputs": [
    {
     "data": {
      "text/plain": [
       "8.795435026048937"
      ]
     },
     "execution_count": 82,
     "metadata": {},
     "output_type": "execute_result"
    }
   ],
   "source": [
    "mape_dummy_final"
   ]
  },
  {
   "cell_type": "code",
   "execution_count": 83,
   "metadata": {},
   "outputs": [],
   "source": [
    "model.fit(features, target_rougher)\n",
    "mape_dummy_rougher = MAPE(target_test_rougher, model.predict(features_test))"
   ]
  },
  {
   "cell_type": "code",
   "execution_count": 84,
   "metadata": {},
   "outputs": [
    {
     "data": {
      "text/plain": [
       "5.4609469081871636"
      ]
     },
     "execution_count": 84,
     "metadata": {},
     "output_type": "execute_result"
    }
   ],
   "source": [
    "mape_dummy_rougher"
   ]
  },
  {
   "cell_type": "code",
   "execution_count": 85,
   "metadata": {},
   "outputs": [
    {
     "name": "stdout",
     "output_type": "stream",
     "text": [
      "7.961812996583494\n"
     ]
    }
   ],
   "source": [
    "smape_dummy_total = 0.25 * mape_dummy_rougher + 0.75 * mape_dummy_final\n",
    "print(smape_dummy_total)"
   ]
  },
  {
   "cell_type": "code",
   "execution_count": 89,
   "metadata": {},
   "outputs": [
    {
     "name": "stdout",
     "output_type": "stream",
     "text": [
      "Лучшие модели на тестовой выборке дали результат в sMAPE 7.728663519010489 для двух таргетов отдельно.\n",
      "Для таргета rougher: RandomForestRegressor(max_depth=24, n_estimators=24,\n",
      "                      random_state=RandomState(MT19937) at 0x247D9476840) \n",
      "Для таргета final: RandomForestRegressor(max_depth=24, n_estimators=24,\n",
      "                      random_state=RandomState(MT19937) at 0x247D9476840) \n",
      "Результат проверки модели DummyRegressor дал результат sMAPE 7.961812996583494\n"
     ]
    }
   ],
   "source": [
    "print('Лучшие модели на тестовой выборке дали результат в sMAPE', smape_test_total,'для двух таргетов отдельно.\\nДля таргета rougher:',best_model_rougher,\\\n",
    "    '\\nДля таргета final:',best_model_final,'\\nРезультат проверки модели DummyRegressor дал результат sMAPE',smape_dummy_total)"
   ]
  },
  {
   "cell_type": "markdown",
   "metadata": {},
   "source": [
    "В результате проведенного исследования полученные модели дали результат лучше константной модели. Значит модели имеют место быть."
   ]
  },
  {
   "cell_type": "markdown",
   "metadata": {},
   "source": [
    "# Вывод"
   ]
  },
  {
   "cell_type": "markdown",
   "metadata": {},
   "source": [
    "Лучший результат предсказания получился в результате предсказания двух таргетов отдельно моделями RandomForestRegressor(max_depth=24, n_estimators=24) для обоих таргетов с результирующим значением sMAPE 7.728663519010489"
   ]
  },
  {
   "cell_type": "markdown",
   "metadata": {},
   "source": []
  }
 ],
 "metadata": {
  "ExecuteTimeLog": [
   {
    "duration": 2125,
    "start_time": "2022-10-13T10:29:15.267Z"
   },
   {
    "duration": 536,
    "start_time": "2022-10-13T10:29:17.394Z"
   },
   {
    "duration": 137,
    "start_time": "2022-10-13T10:29:17.931Z"
   },
   {
    "duration": 976,
    "start_time": "2022-10-13T10:29:18.070Z"
   },
   {
    "duration": 70,
    "start_time": "2022-10-13T10:29:19.048Z"
   },
   {
    "duration": 17449,
    "start_time": "2022-10-13T10:29:19.120Z"
   },
   {
    "duration": 3,
    "start_time": "2022-10-13T10:29:36.571Z"
   },
   {
    "duration": 17,
    "start_time": "2022-10-13T10:29:36.575Z"
   },
   {
    "duration": 12,
    "start_time": "2022-10-13T10:29:36.594Z"
   },
   {
    "duration": 5,
    "start_time": "2022-10-13T10:29:36.609Z"
   },
   {
    "duration": 5,
    "start_time": "2022-10-13T10:29:36.616Z"
   },
   {
    "duration": 5,
    "start_time": "2022-10-13T10:29:36.622Z"
   },
   {
    "duration": 12,
    "start_time": "2022-10-13T10:29:36.629Z"
   },
   {
    "duration": 49,
    "start_time": "2022-10-13T10:29:36.642Z"
   },
   {
    "duration": 15,
    "start_time": "2022-10-13T10:29:36.693Z"
   },
   {
    "duration": 56,
    "start_time": "2022-10-13T10:29:36.709Z"
   },
   {
    "duration": 38,
    "start_time": "2022-10-13T10:29:36.766Z"
   },
   {
    "duration": 9,
    "start_time": "2022-10-13T10:29:36.806Z"
   },
   {
    "duration": 21,
    "start_time": "2022-10-13T10:29:36.817Z"
   },
   {
    "duration": 48,
    "start_time": "2022-10-13T10:29:36.840Z"
   },
   {
    "duration": 4,
    "start_time": "2022-10-13T10:29:36.889Z"
   },
   {
    "duration": 9,
    "start_time": "2022-10-13T10:29:36.894Z"
   },
   {
    "duration": 326,
    "start_time": "2022-10-13T10:29:36.905Z"
   },
   {
    "duration": 288,
    "start_time": "2022-10-13T10:29:37.233Z"
   },
   {
    "duration": 1107,
    "start_time": "2022-10-13T10:29:37.523Z"
   },
   {
    "duration": 3,
    "start_time": "2022-10-13T10:29:38.633Z"
   },
   {
    "duration": 308,
    "start_time": "2022-10-13T10:29:38.638Z"
   },
   {
    "duration": 300,
    "start_time": "2022-10-13T10:29:38.950Z"
   },
   {
    "duration": 4,
    "start_time": "2022-10-13T10:29:39.252Z"
   },
   {
    "duration": 6,
    "start_time": "2022-10-13T10:29:39.257Z"
   },
   {
    "duration": 10,
    "start_time": "2022-10-13T10:29:39.264Z"
   },
   {
    "duration": 23,
    "start_time": "2022-10-13T10:29:39.276Z"
   },
   {
    "duration": 11,
    "start_time": "2022-10-13T10:29:39.300Z"
   },
   {
    "duration": 1043,
    "start_time": "2022-10-13T10:29:39.313Z"
   },
   {
    "duration": 5,
    "start_time": "2022-10-13T10:29:40.358Z"
   },
   {
    "duration": 9,
    "start_time": "2022-10-13T10:29:40.364Z"
   },
   {
    "duration": 8,
    "start_time": "2022-10-13T10:29:40.374Z"
   },
   {
    "duration": 10,
    "start_time": "2022-10-13T10:29:40.384Z"
   },
   {
    "duration": 6,
    "start_time": "2022-10-13T10:29:40.395Z"
   },
   {
    "duration": 1331,
    "start_time": "2022-10-13T10:29:40.403Z"
   },
   {
    "duration": 5,
    "start_time": "2022-10-13T10:29:55.218Z"
   },
   {
    "duration": 48414,
    "start_time": "2022-10-13T10:30:00.856Z"
   },
   {
    "duration": 3,
    "start_time": "2022-10-13T10:30:51.968Z"
   },
   {
    "duration": 3,
    "start_time": "2022-10-13T10:31:02.027Z"
   },
   {
    "duration": 2,
    "start_time": "2022-10-13T10:31:04.633Z"
   },
   {
    "duration": 3,
    "start_time": "2022-10-13T10:31:05.777Z"
   },
   {
    "duration": 3,
    "start_time": "2022-10-13T10:31:06.877Z"
   },
   {
    "duration": 2,
    "start_time": "2022-10-13T10:31:09.710Z"
   },
   {
    "duration": 1229,
    "start_time": "2022-10-13T10:31:12.711Z"
   },
   {
    "duration": 46178,
    "start_time": "2022-10-13T10:31:34.747Z"
   },
   {
    "duration": 4,
    "start_time": "2022-10-13T10:32:25.448Z"
   },
   {
    "duration": 1174,
    "start_time": "2022-10-13T10:32:43.360Z"
   },
   {
    "duration": 44122,
    "start_time": "2022-10-13T10:32:50.357Z"
   },
   {
    "duration": 5,
    "start_time": "2022-10-13T10:34:13.169Z"
   },
   {
    "duration": 5,
    "start_time": "2022-10-13T10:34:50.509Z"
   },
   {
    "duration": 3,
    "start_time": "2022-10-13T10:34:51.302Z"
   },
   {
    "duration": 109,
    "start_time": "2022-10-13T10:34:52.326Z"
   },
   {
    "duration": 9,
    "start_time": "2022-10-13T10:36:47.042Z"
   },
   {
    "duration": 3,
    "start_time": "2022-10-13T10:37:23.939Z"
   },
   {
    "duration": 2379,
    "start_time": "2022-10-13T10:37:30.489Z"
   },
   {
    "duration": 4,
    "start_time": "2022-10-13T10:37:42.054Z"
   },
   {
    "duration": 3,
    "start_time": "2022-10-13T10:39:09.178Z"
   },
   {
    "duration": 3975,
    "start_time": "2022-10-13T10:39:10.420Z"
   },
   {
    "duration": 4,
    "start_time": "2022-10-13T10:39:16.545Z"
   },
   {
    "duration": 4,
    "start_time": "2022-10-13T10:39:21.524Z"
   },
   {
    "duration": 3,
    "start_time": "2022-10-13T10:39:25.545Z"
   },
   {
    "duration": 6,
    "start_time": "2022-10-13T10:39:29.052Z"
   },
   {
    "duration": 3,
    "start_time": "2022-10-13T10:39:29.610Z"
   },
   {
    "duration": 5,
    "start_time": "2022-10-13T10:39:30.474Z"
   },
   {
    "duration": 4,
    "start_time": "2022-10-13T10:39:31.154Z"
   },
   {
    "duration": 3,
    "start_time": "2022-10-13T10:39:31.777Z"
   },
   {
    "duration": 4,
    "start_time": "2022-10-13T10:39:36.258Z"
   }
  ],
  "kernelspec": {
   "display_name": "Python 3 (ipykernel)",
   "language": "python",
   "name": "python3"
  },
  "language_info": {
   "codemirror_mode": {
    "name": "ipython",
    "version": 3
   },
   "file_extension": ".py",
   "mimetype": "text/x-python",
   "name": "python",
   "nbconvert_exporter": "python",
   "pygments_lexer": "ipython3",
   "version": "3.9.12"
  },
  "toc": {
   "base_numbering": 1,
   "nav_menu": {},
   "number_sections": true,
   "sideBar": true,
   "skip_h1_title": true,
   "title_cell": "Содержание",
   "title_sidebar": "Contents",
   "toc_cell": true,
   "toc_position": {},
   "toc_section_display": true,
   "toc_window_display": true
  },
  "vscode": {
   "interpreter": {
    "hash": "1c8c03b3dd9f00cbf1a5a5c63c930805b828fbf388ffb63f05d8fe79c64b8236"
   }
  }
 },
 "nbformat": 4,
 "nbformat_minor": 2
}
