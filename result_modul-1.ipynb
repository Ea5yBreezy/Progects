{
 "cells": [
  {
   "cell_type": "markdown",
   "metadata": {},
   "source": [
    "# Исследование успешности игр"
   ]
  },
  {
   "cell_type": "markdown",
   "metadata": {},
   "source": [
    "**Описание проекта**\n",
    "\n",
    "Вы работаете в интернет-магазине «Стримчик», который продаёт по всему миру компьютерные игры. Из открытых источников доступны исторические данные о продажах игр, оценки пользователей и экспертов, жанры и платформы (например, Xbox или PlayStation). Вам нужно выявить определяющие успешность игры закономерности. Это позволит сделать ставку на потенциально популярный продукт и спланировать рекламные кампании.\n",
    "\n",
    "Перед вами данные до 2016 года. Представим, что сейчас декабрь 2016 г., и вы планируете кампанию на 2017-й. Нужно отработать принцип работы с данными."
   ]
  },
  {
   "cell_type": "markdown",
   "metadata": {},
   "source": [
    "**Цель** - Нужно выявить определяющие успешность игры закономерности. Это позволит сделать ставку на потенциально популярный продукт и спланировать рекламные кампании."
   ]
  },
  {
   "cell_type": "markdown",
   "metadata": {},
   "source": [
    "**Описание данных.**\n",
    " - `Name` — название игры\n",
    " - `Platform` — платформа\n",
    " - `Year_of_Release` — год выпуска\n",
    " - `Genre` — жанр игры\n",
    " - `NA_sales` — продажи в Северной Америке (миллионы проданных копий)\n",
    " - `EU_sales` — продажи в Европе (миллионы проданных копий)\n",
    " - `JP_sales` — продажи в Японии (миллионы проданных копий)\n",
    " - `Other_sales` — продажи в других странах (миллионы проданных копий)\n",
    " - `Critic_Score ` — оценка критиков (максимум 100)\n",
    " - `User_Score ` — оценка пользователей (максимум 10)\n",
    " - `Rating ` — рейтинг от организации ESRB (англ. Entertainment Software Rating Board). Эта ассоциация определяет рейтинг компьютерных игр и присваивает им подходящую возрастную категорию"
   ]
  },
  {
   "cell_type": "markdown",
   "metadata": {},
   "source": [
    "## Открываю файл с данными и изучаю общую информацию"
   ]
  },
  {
   "cell_type": "code",
   "execution_count": 1,
   "metadata": {},
   "outputs": [],
   "source": [
    "import pandas as pd\n",
    "import seaborn as sns\n",
    "import matplotlib.pyplot as plt\n",
    "pd.set_option('display.max_columns', 50)\n",
    "pd.set_option('display.max_rows', 100)\n",
    "from scipy import stats as st\n",
    "import numpy as np"
   ]
  },
  {
   "cell_type": "code",
   "execution_count": 2,
   "metadata": {},
   "outputs": [
    {
     "name": "stdout",
     "output_type": "stream",
     "text": [
      "<class 'pandas.core.frame.DataFrame'>\n",
      "RangeIndex: 16715 entries, 0 to 16714\n",
      "Data columns (total 11 columns):\n",
      " #   Column           Non-Null Count  Dtype  \n",
      "---  ------           --------------  -----  \n",
      " 0   Name             16713 non-null  object \n",
      " 1   Platform         16715 non-null  object \n",
      " 2   Year_of_Release  16446 non-null  float64\n",
      " 3   Genre            16713 non-null  object \n",
      " 4   NA_sales         16715 non-null  float64\n",
      " 5   EU_sales         16715 non-null  float64\n",
      " 6   JP_sales         16715 non-null  float64\n",
      " 7   Other_sales      16715 non-null  float64\n",
      " 8   Critic_Score     8137 non-null   float64\n",
      " 9   User_Score       10014 non-null  object \n",
      " 10  Rating           9949 non-null   object \n",
      "dtypes: float64(6), object(5)\n",
      "memory usage: 1.4+ MB\n"
     ]
    }
   ],
   "source": [
    "data = pd.read_csv('/DS/Yandex_Practikum/Projects/datasets/games.csv')\n",
    "data.info()"
   ]
  },
  {
   "cell_type": "code",
   "execution_count": 3,
   "metadata": {},
   "outputs": [
    {
     "data": {
      "text/html": [
       "<div>\n",
       "<style scoped>\n",
       "    .dataframe tbody tr th:only-of-type {\n",
       "        vertical-align: middle;\n",
       "    }\n",
       "\n",
       "    .dataframe tbody tr th {\n",
       "        vertical-align: top;\n",
       "    }\n",
       "\n",
       "    .dataframe thead th {\n",
       "        text-align: right;\n",
       "    }\n",
       "</style>\n",
       "<table border=\"1\" class=\"dataframe\">\n",
       "  <thead>\n",
       "    <tr style=\"text-align: right;\">\n",
       "      <th></th>\n",
       "      <th>Name</th>\n",
       "      <th>Platform</th>\n",
       "      <th>Year_of_Release</th>\n",
       "      <th>Genre</th>\n",
       "      <th>NA_sales</th>\n",
       "      <th>EU_sales</th>\n",
       "      <th>JP_sales</th>\n",
       "      <th>Other_sales</th>\n",
       "      <th>Critic_Score</th>\n",
       "      <th>User_Score</th>\n",
       "      <th>Rating</th>\n",
       "    </tr>\n",
       "  </thead>\n",
       "  <tbody>\n",
       "    <tr>\n",
       "      <th>0</th>\n",
       "      <td>Wii Sports</td>\n",
       "      <td>Wii</td>\n",
       "      <td>2006.0</td>\n",
       "      <td>Sports</td>\n",
       "      <td>41.36</td>\n",
       "      <td>28.96</td>\n",
       "      <td>3.77</td>\n",
       "      <td>8.45</td>\n",
       "      <td>76.0</td>\n",
       "      <td>8</td>\n",
       "      <td>E</td>\n",
       "    </tr>\n",
       "    <tr>\n",
       "      <th>1</th>\n",
       "      <td>Super Mario Bros.</td>\n",
       "      <td>NES</td>\n",
       "      <td>1985.0</td>\n",
       "      <td>Platform</td>\n",
       "      <td>29.08</td>\n",
       "      <td>3.58</td>\n",
       "      <td>6.81</td>\n",
       "      <td>0.77</td>\n",
       "      <td>NaN</td>\n",
       "      <td>NaN</td>\n",
       "      <td>NaN</td>\n",
       "    </tr>\n",
       "    <tr>\n",
       "      <th>2</th>\n",
       "      <td>Mario Kart Wii</td>\n",
       "      <td>Wii</td>\n",
       "      <td>2008.0</td>\n",
       "      <td>Racing</td>\n",
       "      <td>15.68</td>\n",
       "      <td>12.76</td>\n",
       "      <td>3.79</td>\n",
       "      <td>3.29</td>\n",
       "      <td>82.0</td>\n",
       "      <td>8.3</td>\n",
       "      <td>E</td>\n",
       "    </tr>\n",
       "    <tr>\n",
       "      <th>3</th>\n",
       "      <td>Wii Sports Resort</td>\n",
       "      <td>Wii</td>\n",
       "      <td>2009.0</td>\n",
       "      <td>Sports</td>\n",
       "      <td>15.61</td>\n",
       "      <td>10.93</td>\n",
       "      <td>3.28</td>\n",
       "      <td>2.95</td>\n",
       "      <td>80.0</td>\n",
       "      <td>8</td>\n",
       "      <td>E</td>\n",
       "    </tr>\n",
       "    <tr>\n",
       "      <th>4</th>\n",
       "      <td>Pokemon Red/Pokemon Blue</td>\n",
       "      <td>GB</td>\n",
       "      <td>1996.0</td>\n",
       "      <td>Role-Playing</td>\n",
       "      <td>11.27</td>\n",
       "      <td>8.89</td>\n",
       "      <td>10.22</td>\n",
       "      <td>1.00</td>\n",
       "      <td>NaN</td>\n",
       "      <td>NaN</td>\n",
       "      <td>NaN</td>\n",
       "    </tr>\n",
       "    <tr>\n",
       "      <th>...</th>\n",
       "      <td>...</td>\n",
       "      <td>...</td>\n",
       "      <td>...</td>\n",
       "      <td>...</td>\n",
       "      <td>...</td>\n",
       "      <td>...</td>\n",
       "      <td>...</td>\n",
       "      <td>...</td>\n",
       "      <td>...</td>\n",
       "      <td>...</td>\n",
       "      <td>...</td>\n",
       "    </tr>\n",
       "    <tr>\n",
       "      <th>16710</th>\n",
       "      <td>Samurai Warriors: Sanada Maru</td>\n",
       "      <td>PS3</td>\n",
       "      <td>2016.0</td>\n",
       "      <td>Action</td>\n",
       "      <td>0.00</td>\n",
       "      <td>0.00</td>\n",
       "      <td>0.01</td>\n",
       "      <td>0.00</td>\n",
       "      <td>NaN</td>\n",
       "      <td>NaN</td>\n",
       "      <td>NaN</td>\n",
       "    </tr>\n",
       "    <tr>\n",
       "      <th>16711</th>\n",
       "      <td>LMA Manager 2007</td>\n",
       "      <td>X360</td>\n",
       "      <td>2006.0</td>\n",
       "      <td>Sports</td>\n",
       "      <td>0.00</td>\n",
       "      <td>0.01</td>\n",
       "      <td>0.00</td>\n",
       "      <td>0.00</td>\n",
       "      <td>NaN</td>\n",
       "      <td>NaN</td>\n",
       "      <td>NaN</td>\n",
       "    </tr>\n",
       "    <tr>\n",
       "      <th>16712</th>\n",
       "      <td>Haitaka no Psychedelica</td>\n",
       "      <td>PSV</td>\n",
       "      <td>2016.0</td>\n",
       "      <td>Adventure</td>\n",
       "      <td>0.00</td>\n",
       "      <td>0.00</td>\n",
       "      <td>0.01</td>\n",
       "      <td>0.00</td>\n",
       "      <td>NaN</td>\n",
       "      <td>NaN</td>\n",
       "      <td>NaN</td>\n",
       "    </tr>\n",
       "    <tr>\n",
       "      <th>16713</th>\n",
       "      <td>Spirits &amp; Spells</td>\n",
       "      <td>GBA</td>\n",
       "      <td>2003.0</td>\n",
       "      <td>Platform</td>\n",
       "      <td>0.01</td>\n",
       "      <td>0.00</td>\n",
       "      <td>0.00</td>\n",
       "      <td>0.00</td>\n",
       "      <td>NaN</td>\n",
       "      <td>NaN</td>\n",
       "      <td>NaN</td>\n",
       "    </tr>\n",
       "    <tr>\n",
       "      <th>16714</th>\n",
       "      <td>Winning Post 8 2016</td>\n",
       "      <td>PSV</td>\n",
       "      <td>2016.0</td>\n",
       "      <td>Simulation</td>\n",
       "      <td>0.00</td>\n",
       "      <td>0.00</td>\n",
       "      <td>0.01</td>\n",
       "      <td>0.00</td>\n",
       "      <td>NaN</td>\n",
       "      <td>NaN</td>\n",
       "      <td>NaN</td>\n",
       "    </tr>\n",
       "  </tbody>\n",
       "</table>\n",
       "<p>16715 rows × 11 columns</p>\n",
       "</div>"
      ],
      "text/plain": [
       "                                Name Platform  Year_of_Release         Genre  \\\n",
       "0                         Wii Sports      Wii           2006.0        Sports   \n",
       "1                  Super Mario Bros.      NES           1985.0      Platform   \n",
       "2                     Mario Kart Wii      Wii           2008.0        Racing   \n",
       "3                  Wii Sports Resort      Wii           2009.0        Sports   \n",
       "4           Pokemon Red/Pokemon Blue       GB           1996.0  Role-Playing   \n",
       "...                              ...      ...              ...           ...   \n",
       "16710  Samurai Warriors: Sanada Maru      PS3           2016.0        Action   \n",
       "16711               LMA Manager 2007     X360           2006.0        Sports   \n",
       "16712        Haitaka no Psychedelica      PSV           2016.0     Adventure   \n",
       "16713               Spirits & Spells      GBA           2003.0      Platform   \n",
       "16714            Winning Post 8 2016      PSV           2016.0    Simulation   \n",
       "\n",
       "       NA_sales  EU_sales  JP_sales  Other_sales  Critic_Score User_Score  \\\n",
       "0         41.36     28.96      3.77         8.45          76.0          8   \n",
       "1         29.08      3.58      6.81         0.77           NaN        NaN   \n",
       "2         15.68     12.76      3.79         3.29          82.0        8.3   \n",
       "3         15.61     10.93      3.28         2.95          80.0          8   \n",
       "4         11.27      8.89     10.22         1.00           NaN        NaN   \n",
       "...         ...       ...       ...          ...           ...        ...   \n",
       "16710      0.00      0.00      0.01         0.00           NaN        NaN   \n",
       "16711      0.00      0.01      0.00         0.00           NaN        NaN   \n",
       "16712      0.00      0.00      0.01         0.00           NaN        NaN   \n",
       "16713      0.01      0.00      0.00         0.00           NaN        NaN   \n",
       "16714      0.00      0.00      0.01         0.00           NaN        NaN   \n",
       "\n",
       "      Rating  \n",
       "0          E  \n",
       "1        NaN  \n",
       "2          E  \n",
       "3          E  \n",
       "4        NaN  \n",
       "...      ...  \n",
       "16710    NaN  \n",
       "16711    NaN  \n",
       "16712    NaN  \n",
       "16713    NaN  \n",
       "16714    NaN  \n",
       "\n",
       "[16715 rows x 11 columns]"
      ]
     },
     "execution_count": 3,
     "metadata": {},
     "output_type": "execute_result"
    }
   ],
   "source": [
    "data"
   ]
  },
  {
   "cell_type": "code",
   "execution_count": 4,
   "metadata": {},
   "outputs": [
    {
     "data": {
      "image/png": "[encoded data removed]",
      "text/plain": [
       "<Figure size 720x720 with 6 Axes>"
      ]
     },
     "metadata": {
      "needs_background": "light"
     },
     "output_type": "display_data"
    }
   ],
   "source": [
    "data.hist(figsize=(10, 10), bins = 50)\n",
    "None"
   ]
  },
  {
   "cell_type": "markdown",
   "metadata": {},
   "source": [
    "Большая часть игр была выпущена с 2004 по 2011 год. Большая часть игр продалась до 1млн копий. Оценки критиков выше 65% по большей части."
   ]
  },
  {
   "cell_type": "markdown",
   "metadata": {},
   "source": [
    "Дана сет состоит из 11 колонок и 16715 строк. Названия колонок:\n",
    "- Name — название игры\n",
    "- Platform — платформа\n",
    "- Year_of_Release — год выпуска\n",
    "- Genre — жанр игры\n",
    "- NA_sales — продажи в Северной Америке (миллионы проданных копий)\n",
    "- EU_sales — продажи в Европе (миллионы проданных копий)\n",
    "- JP_sales — продажи в Японии (миллионы проданных копий)\n",
    "- Other_sales — продажи в других странах (миллионы проданных копий)\n",
    "- Critic_Score — оценка критиков (максимум 100)\n",
    "- User_Score — оценка пользователей (максимум 10)\n",
    "- Rating — рейтинг от организации ESRB (англ. Entertainment Software Rating Board). Эта ассоциация определяет рейтинг компьютерных игр и присваивает им подходящую возрастную категорию."
   ]
  },
  {
   "cell_type": "markdown",
   "metadata": {},
   "source": [
    "## Предобработка данных"
   ]
  },
  {
   "cell_type": "markdown",
   "metadata": {},
   "source": [
    "### Привожу к нижнему регистру названия столбцов"
   ]
  },
  {
   "cell_type": "code",
   "execution_count": 5,
   "metadata": {},
   "outputs": [],
   "source": [
    "data= data.rename(columns=str.lower)"
   ]
  },
  {
   "cell_type": "markdown",
   "metadata": {},
   "source": [
    "### Преобразовываю столбцы в другие форматы данных и обрабатываю пропуски"
   ]
  },
  {
   "cell_type": "code",
   "execution_count": 6,
   "metadata": {},
   "outputs": [],
   "source": [
    "#data['Year_of_Release'] = pd.to_datetime(data['Year_of_Release'],format = '%Y') "
   ]
  },
  {
   "cell_type": "raw",
   "metadata": {},
   "source": [
    "не стал преобразовывать в формат даты, т.к. не вижу в этом смысла"
   ]
  },
  {
   "cell_type": "markdown",
   "metadata": {},
   "source": [
    "tbd  - to be detemined. Чтобы гарантировать, что METASCORES точно отражает обзоры, данные критиками для любого конкретного фильма, игры, телешоу или альбома, мы не отображаем METASCORE для тех элементов, которые не имеют по крайней мере четырех (4) обзоров в нашей базе данных. Как только будет достигнуто это минимальное количество отзывов, отобразится METASCORE.\n",
    "Поэтому заменяю на **0** пропуски и tbd. В дальнейшем может получится связать как-то с количеством продаж и выставить рейтинг относительно этого"
   ]
  },
  {
   "cell_type": "code",
   "execution_count": 7,
   "metadata": {},
   "outputs": [],
   "source": [
    "data.loc[data['user_score'] == 'tbd',['user_score']] = 0"
   ]
  },
  {
   "cell_type": "code",
   "execution_count": 8,
   "metadata": {},
   "outputs": [],
   "source": [
    "data.loc[data['user_score'].isna(),['user_score']] = 0"
   ]
  },
  {
   "cell_type": "code",
   "execution_count": 9,
   "metadata": {},
   "outputs": [],
   "source": [
    "data.loc[data['rating'].isna(),['rating']] = 'No_Rating'"
   ]
  },
  {
   "cell_type": "code",
   "execution_count": 10,
   "metadata": {},
   "outputs": [],
   "source": [
    "data.loc[data['critic_score'].isna(),['critic_score']] = 0"
   ]
  },
  {
   "cell_type": "code",
   "execution_count": 11,
   "metadata": {},
   "outputs": [],
   "source": [
    "data['user_score'] = data['user_score'].astype('float')"
   ]
  },
  {
   "cell_type": "code",
   "execution_count": 12,
   "metadata": {},
   "outputs": [
    {
     "data": {
      "text/plain": [
       "name                 2\n",
       "platform             0\n",
       "year_of_release    269\n",
       "genre                2\n",
       "na_sales             0\n",
       "eu_sales             0\n",
       "jp_sales             0\n",
       "other_sales          0\n",
       "critic_score         0\n",
       "user_score           0\n",
       "rating               0\n",
       "dtype: int64"
      ]
     },
     "execution_count": 12,
     "metadata": {},
     "output_type": "execute_result"
    }
   ],
   "source": [
    "data.isna().sum()"
   ]
  },
  {
   "cell_type": "code",
   "execution_count": 13,
   "metadata": {},
   "outputs": [
    {
     "data": {
      "text/plain": [
       "name                object\n",
       "platform            object\n",
       "year_of_release    float64\n",
       "genre               object\n",
       "na_sales           float64\n",
       "eu_sales           float64\n",
       "jp_sales           float64\n",
       "other_sales        float64\n",
       "critic_score       float64\n",
       "user_score         float64\n",
       "rating              object\n",
       "dtype: object"
      ]
     },
     "execution_count": 13,
     "metadata": {},
     "output_type": "execute_result"
    }
   ],
   "source": [
    "#Код ревьюера\n",
    "data.dtypes"
   ]
  },
  {
   "cell_type": "code",
   "execution_count": 14,
   "metadata": {},
   "outputs": [
    {
     "data": {
      "text/html": [
       "<div>\n",
       "<style scoped>\n",
       "    .dataframe tbody tr th:only-of-type {\n",
       "        vertical-align: middle;\n",
       "    }\n",
       "\n",
       "    .dataframe tbody tr th {\n",
       "        vertical-align: top;\n",
       "    }\n",
       "\n",
       "    .dataframe thead th {\n",
       "        text-align: right;\n",
       "    }\n",
       "</style>\n",
       "<table border=\"1\" class=\"dataframe\">\n",
       "  <thead>\n",
       "    <tr style=\"text-align: right;\">\n",
       "      <th></th>\n",
       "      <th>name</th>\n",
       "      <th>platform</th>\n",
       "      <th>year_of_release</th>\n",
       "      <th>genre</th>\n",
       "      <th>na_sales</th>\n",
       "      <th>eu_sales</th>\n",
       "      <th>jp_sales</th>\n",
       "      <th>other_sales</th>\n",
       "      <th>critic_score</th>\n",
       "      <th>user_score</th>\n",
       "      <th>rating</th>\n",
       "    </tr>\n",
       "  </thead>\n",
       "  <tbody>\n",
       "    <tr>\n",
       "      <th>183</th>\n",
       "      <td>Madden NFL 2004</td>\n",
       "      <td>PS2</td>\n",
       "      <td>NaN</td>\n",
       "      <td>Sports</td>\n",
       "      <td>4.26</td>\n",
       "      <td>0.26</td>\n",
       "      <td>0.01</td>\n",
       "      <td>0.71</td>\n",
       "      <td>94.0</td>\n",
       "      <td>8.5</td>\n",
       "      <td>E</td>\n",
       "    </tr>\n",
       "    <tr>\n",
       "      <th>377</th>\n",
       "      <td>FIFA Soccer 2004</td>\n",
       "      <td>PS2</td>\n",
       "      <td>NaN</td>\n",
       "      <td>Sports</td>\n",
       "      <td>0.59</td>\n",
       "      <td>2.36</td>\n",
       "      <td>0.04</td>\n",
       "      <td>0.51</td>\n",
       "      <td>84.0</td>\n",
       "      <td>6.4</td>\n",
       "      <td>E</td>\n",
       "    </tr>\n",
       "    <tr>\n",
       "      <th>456</th>\n",
       "      <td>LEGO Batman: The Videogame</td>\n",
       "      <td>Wii</td>\n",
       "      <td>NaN</td>\n",
       "      <td>Action</td>\n",
       "      <td>1.80</td>\n",
       "      <td>0.97</td>\n",
       "      <td>0.00</td>\n",
       "      <td>0.29</td>\n",
       "      <td>74.0</td>\n",
       "      <td>7.9</td>\n",
       "      <td>E10+</td>\n",
       "    </tr>\n",
       "    <tr>\n",
       "      <th>475</th>\n",
       "      <td>wwe Smackdown vs. Raw 2006</td>\n",
       "      <td>PS2</td>\n",
       "      <td>NaN</td>\n",
       "      <td>Fighting</td>\n",
       "      <td>1.57</td>\n",
       "      <td>1.02</td>\n",
       "      <td>0.00</td>\n",
       "      <td>0.41</td>\n",
       "      <td>0.0</td>\n",
       "      <td>0.0</td>\n",
       "      <td>No_Rating</td>\n",
       "    </tr>\n",
       "    <tr>\n",
       "      <th>609</th>\n",
       "      <td>Space Invaders</td>\n",
       "      <td>2600</td>\n",
       "      <td>NaN</td>\n",
       "      <td>Shooter</td>\n",
       "      <td>2.36</td>\n",
       "      <td>0.14</td>\n",
       "      <td>0.00</td>\n",
       "      <td>0.03</td>\n",
       "      <td>0.0</td>\n",
       "      <td>0.0</td>\n",
       "      <td>No_Rating</td>\n",
       "    </tr>\n",
       "    <tr>\n",
       "      <th>...</th>\n",
       "      <td>...</td>\n",
       "      <td>...</td>\n",
       "      <td>...</td>\n",
       "      <td>...</td>\n",
       "      <td>...</td>\n",
       "      <td>...</td>\n",
       "      <td>...</td>\n",
       "      <td>...</td>\n",
       "      <td>...</td>\n",
       "      <td>...</td>\n",
       "      <td>...</td>\n",
       "    </tr>\n",
       "    <tr>\n",
       "      <th>16373</th>\n",
       "      <td>PDC World Championship Darts 2008</td>\n",
       "      <td>PSP</td>\n",
       "      <td>NaN</td>\n",
       "      <td>Sports</td>\n",
       "      <td>0.01</td>\n",
       "      <td>0.00</td>\n",
       "      <td>0.00</td>\n",
       "      <td>0.00</td>\n",
       "      <td>43.0</td>\n",
       "      <td>0.0</td>\n",
       "      <td>E10+</td>\n",
       "    </tr>\n",
       "    <tr>\n",
       "      <th>16405</th>\n",
       "      <td>Freaky Flyers</td>\n",
       "      <td>GC</td>\n",
       "      <td>NaN</td>\n",
       "      <td>Racing</td>\n",
       "      <td>0.01</td>\n",
       "      <td>0.00</td>\n",
       "      <td>0.00</td>\n",
       "      <td>0.00</td>\n",
       "      <td>69.0</td>\n",
       "      <td>6.5</td>\n",
       "      <td>T</td>\n",
       "    </tr>\n",
       "    <tr>\n",
       "      <th>16448</th>\n",
       "      <td>Inversion</td>\n",
       "      <td>PC</td>\n",
       "      <td>NaN</td>\n",
       "      <td>Shooter</td>\n",
       "      <td>0.01</td>\n",
       "      <td>0.00</td>\n",
       "      <td>0.00</td>\n",
       "      <td>0.00</td>\n",
       "      <td>59.0</td>\n",
       "      <td>6.7</td>\n",
       "      <td>M</td>\n",
       "    </tr>\n",
       "    <tr>\n",
       "      <th>16458</th>\n",
       "      <td>Hakuouki: Shinsengumi Kitan</td>\n",
       "      <td>PS3</td>\n",
       "      <td>NaN</td>\n",
       "      <td>Adventure</td>\n",
       "      <td>0.01</td>\n",
       "      <td>0.00</td>\n",
       "      <td>0.00</td>\n",
       "      <td>0.00</td>\n",
       "      <td>0.0</td>\n",
       "      <td>0.0</td>\n",
       "      <td>No_Rating</td>\n",
       "    </tr>\n",
       "    <tr>\n",
       "      <th>16522</th>\n",
       "      <td>Virtua Quest</td>\n",
       "      <td>GC</td>\n",
       "      <td>NaN</td>\n",
       "      <td>Role-Playing</td>\n",
       "      <td>0.01</td>\n",
       "      <td>0.00</td>\n",
       "      <td>0.00</td>\n",
       "      <td>0.00</td>\n",
       "      <td>55.0</td>\n",
       "      <td>5.5</td>\n",
       "      <td>T</td>\n",
       "    </tr>\n",
       "  </tbody>\n",
       "</table>\n",
       "<p>269 rows × 11 columns</p>\n",
       "</div>"
      ],
      "text/plain": [
       "                                    name platform  year_of_release  \\\n",
       "183                      Madden NFL 2004      PS2              NaN   \n",
       "377                     FIFA Soccer 2004      PS2              NaN   \n",
       "456           LEGO Batman: The Videogame      Wii              NaN   \n",
       "475           wwe Smackdown vs. Raw 2006      PS2              NaN   \n",
       "609                       Space Invaders     2600              NaN   \n",
       "...                                  ...      ...              ...   \n",
       "16373  PDC World Championship Darts 2008      PSP              NaN   \n",
       "16405                      Freaky Flyers       GC              NaN   \n",
       "16448                          Inversion       PC              NaN   \n",
       "16458        Hakuouki: Shinsengumi Kitan      PS3              NaN   \n",
       "16522                       Virtua Quest       GC              NaN   \n",
       "\n",
       "              genre  na_sales  eu_sales  jp_sales  other_sales  critic_score  \\\n",
       "183          Sports      4.26      0.26      0.01         0.71          94.0   \n",
       "377          Sports      0.59      2.36      0.04         0.51          84.0   \n",
       "456          Action      1.80      0.97      0.00         0.29          74.0   \n",
       "475        Fighting      1.57      1.02      0.00         0.41           0.0   \n",
       "609         Shooter      2.36      0.14      0.00         0.03           0.0   \n",
       "...             ...       ...       ...       ...          ...           ...   \n",
       "16373        Sports      0.01      0.00      0.00         0.00          43.0   \n",
       "16405        Racing      0.01      0.00      0.00         0.00          69.0   \n",
       "16448       Shooter      0.01      0.00      0.00         0.00          59.0   \n",
       "16458     Adventure      0.01      0.00      0.00         0.00           0.0   \n",
       "16522  Role-Playing      0.01      0.00      0.00         0.00          55.0   \n",
       "\n",
       "       user_score     rating  \n",
       "183           8.5          E  \n",
       "377           6.4          E  \n",
       "456           7.9       E10+  \n",
       "475           0.0  No_Rating  \n",
       "609           0.0  No_Rating  \n",
       "...           ...        ...  \n",
       "16373         0.0       E10+  \n",
       "16405         6.5          T  \n",
       "16448         6.7          M  \n",
       "16458         0.0  No_Rating  \n",
       "16522         5.5          T  \n",
       "\n",
       "[269 rows x 11 columns]"
      ]
     },
     "execution_count": 14,
     "metadata": {},
     "output_type": "execute_result"
    }
   ],
   "source": [
    "data.loc[data['year_of_release'].isna()]"
   ]
  },
  {
   "cell_type": "markdown",
   "metadata": {},
   "source": [
    "В названии игры может присутствовать год выпуска"
   ]
  },
  {
   "cell_type": "code",
   "execution_count": 15,
   "metadata": {},
   "outputs": [
    {
     "name": "stdout",
     "output_type": "stream",
     "text": [
      "All-Star Baseball 2005\n",
      "FIFA Soccer 2004\n",
      "Football Manager 2007\n",
      "Jet X20\n",
      "MLB SlugFest 20-03\n",
      "Madden NFL 2002\n",
      "Madden NFL 2004\n",
      "NASCAR Thunder 2003\n",
      "NBA Live 2003\n",
      "NFL GameDay 2003\n",
      "PDC World Championship Darts 2008\n",
      "PES 2009: Pro Evolution Soccer\n",
      "Sega Rally 2006\n",
      "Tomb Raider (2013)\n",
      "Tour de France 2011\n",
      "wwe Smackdown vs. Raw 2006\n"
     ]
    }
   ],
   "source": [
    "for i in data.loc[data['year_of_release'].isna()].sort_values(by = 'name')['name'].unique():\n",
    "    if '20' in str(i) or '19' in str(i) or '21' in str(i):\n",
    "        print(i)"
   ]
  },
  {
   "cell_type": "code",
   "execution_count": 16,
   "metadata": {},
   "outputs": [],
   "source": [
    "data.loc[data['name'] == 'All-Star Baseball 2005',['year_of_release']] = 2005\n",
    "data.loc[data['name'] == 'FIFA Soccer 2004',['year_of_release']] = 2004\n",
    "data.loc[data['name'] == 'Football Manager 2007',['year_of_release']] = 2007\n",
    "data.loc[data['name'] == 'Madden NFL 2002',['year_of_release']] = 2002\n",
    "data.loc[data['name'] == 'Madden NFL 2004',['year_of_release']] = 2004\n",
    "data.loc[data['name'] == 'NASCAR Thunder 2003',['year_of_release']] = 2003\n",
    "data.loc[data['name'] == 'PDC World Championship Darts 2008',['year_of_release']] = 2008\n",
    "data.loc[data['name'] == 'PES 2009: Pro Evolution Soccer',['year_of_release']] = 2009\n",
    "data.loc[data['name'] == 'Sega Rally 2006',['year_of_release']] = 2006\n",
    "data.loc[data['name'] == 'Tomb Raider (2013)',['year_of_release']] = 2013\n",
    "data.loc[data['name'] == 'Tour de France 2011',['year_of_release']] = 2011\n",
    "data.loc[data['name'] == 'wwe Smackdown vs. Raw 2006',['year_of_release']] = 2006\n",
    "data.loc[data['name'] == 'NBA Live 2003',['year_of_release']] = 2003\n",
    "data.loc[data['name'] == 'NFL GameDay 2003',['year_of_release']] = 2003"
   ]
  },
  {
   "cell_type": "code",
   "execution_count": 17,
   "metadata": {},
   "outputs": [],
   "source": [
    "data['name'] = data['name'].fillna(value = 'No_name')"
   ]
  },
  {
   "cell_type": "code",
   "execution_count": 18,
   "metadata": {},
   "outputs": [
    {
     "data": {
      "text/plain": [
       "name                 0\n",
       "platform             0\n",
       "year_of_release    252\n",
       "genre                2\n",
       "na_sales             0\n",
       "eu_sales             0\n",
       "jp_sales             0\n",
       "other_sales          0\n",
       "critic_score         0\n",
       "user_score           0\n",
       "rating               0\n",
       "dtype: int64"
      ]
     },
     "execution_count": 18,
     "metadata": {},
     "output_type": "execute_result"
    }
   ],
   "source": [
    "data.isna().sum()"
   ]
  },
  {
   "cell_type": "code",
   "execution_count": 19,
   "metadata": {},
   "outputs": [
    {
     "data": {
      "text/html": [
       "<div>\n",
       "<style scoped>\n",
       "    .dataframe tbody tr th:only-of-type {\n",
       "        vertical-align: middle;\n",
       "    }\n",
       "\n",
       "    .dataframe tbody tr th {\n",
       "        vertical-align: top;\n",
       "    }\n",
       "\n",
       "    .dataframe thead th {\n",
       "        text-align: right;\n",
       "    }\n",
       "</style>\n",
       "<table border=\"1\" class=\"dataframe\">\n",
       "  <thead>\n",
       "    <tr style=\"text-align: right;\">\n",
       "      <th></th>\n",
       "      <th>name</th>\n",
       "      <th>platform</th>\n",
       "      <th>year_of_release</th>\n",
       "      <th>genre</th>\n",
       "      <th>na_sales</th>\n",
       "      <th>eu_sales</th>\n",
       "      <th>jp_sales</th>\n",
       "      <th>other_sales</th>\n",
       "      <th>critic_score</th>\n",
       "      <th>user_score</th>\n",
       "      <th>rating</th>\n",
       "    </tr>\n",
       "  </thead>\n",
       "  <tbody>\n",
       "    <tr>\n",
       "      <th>0</th>\n",
       "      <td>Wii Sports</td>\n",
       "      <td>Wii</td>\n",
       "      <td>2006.0</td>\n",
       "      <td>Sports</td>\n",
       "      <td>41.36</td>\n",
       "      <td>28.96</td>\n",
       "      <td>3.77</td>\n",
       "      <td>8.45</td>\n",
       "      <td>76.0</td>\n",
       "      <td>8.0</td>\n",
       "      <td>E</td>\n",
       "    </tr>\n",
       "    <tr>\n",
       "      <th>1</th>\n",
       "      <td>Super Mario Bros.</td>\n",
       "      <td>NES</td>\n",
       "      <td>1985.0</td>\n",
       "      <td>Platform</td>\n",
       "      <td>29.08</td>\n",
       "      <td>3.58</td>\n",
       "      <td>6.81</td>\n",
       "      <td>0.77</td>\n",
       "      <td>0.0</td>\n",
       "      <td>0.0</td>\n",
       "      <td>No_Rating</td>\n",
       "    </tr>\n",
       "    <tr>\n",
       "      <th>2</th>\n",
       "      <td>Mario Kart Wii</td>\n",
       "      <td>Wii</td>\n",
       "      <td>2008.0</td>\n",
       "      <td>Racing</td>\n",
       "      <td>15.68</td>\n",
       "      <td>12.76</td>\n",
       "      <td>3.79</td>\n",
       "      <td>3.29</td>\n",
       "      <td>82.0</td>\n",
       "      <td>8.3</td>\n",
       "      <td>E</td>\n",
       "    </tr>\n",
       "    <tr>\n",
       "      <th>3</th>\n",
       "      <td>Wii Sports Resort</td>\n",
       "      <td>Wii</td>\n",
       "      <td>2009.0</td>\n",
       "      <td>Sports</td>\n",
       "      <td>15.61</td>\n",
       "      <td>10.93</td>\n",
       "      <td>3.28</td>\n",
       "      <td>2.95</td>\n",
       "      <td>80.0</td>\n",
       "      <td>8.0</td>\n",
       "      <td>E</td>\n",
       "    </tr>\n",
       "    <tr>\n",
       "      <th>4</th>\n",
       "      <td>Pokemon Red/Pokemon Blue</td>\n",
       "      <td>GB</td>\n",
       "      <td>1996.0</td>\n",
       "      <td>Role-Playing</td>\n",
       "      <td>11.27</td>\n",
       "      <td>8.89</td>\n",
       "      <td>10.22</td>\n",
       "      <td>1.00</td>\n",
       "      <td>0.0</td>\n",
       "      <td>0.0</td>\n",
       "      <td>No_Rating</td>\n",
       "    </tr>\n",
       "    <tr>\n",
       "      <th>...</th>\n",
       "      <td>...</td>\n",
       "      <td>...</td>\n",
       "      <td>...</td>\n",
       "      <td>...</td>\n",
       "      <td>...</td>\n",
       "      <td>...</td>\n",
       "      <td>...</td>\n",
       "      <td>...</td>\n",
       "      <td>...</td>\n",
       "      <td>...</td>\n",
       "      <td>...</td>\n",
       "    </tr>\n",
       "    <tr>\n",
       "      <th>16710</th>\n",
       "      <td>Samurai Warriors: Sanada Maru</td>\n",
       "      <td>PS3</td>\n",
       "      <td>2016.0</td>\n",
       "      <td>Action</td>\n",
       "      <td>0.00</td>\n",
       "      <td>0.00</td>\n",
       "      <td>0.01</td>\n",
       "      <td>0.00</td>\n",
       "      <td>0.0</td>\n",
       "      <td>0.0</td>\n",
       "      <td>No_Rating</td>\n",
       "    </tr>\n",
       "    <tr>\n",
       "      <th>16711</th>\n",
       "      <td>LMA Manager 2007</td>\n",
       "      <td>X360</td>\n",
       "      <td>2006.0</td>\n",
       "      <td>Sports</td>\n",
       "      <td>0.00</td>\n",
       "      <td>0.01</td>\n",
       "      <td>0.00</td>\n",
       "      <td>0.00</td>\n",
       "      <td>0.0</td>\n",
       "      <td>0.0</td>\n",
       "      <td>No_Rating</td>\n",
       "    </tr>\n",
       "    <tr>\n",
       "      <th>16712</th>\n",
       "      <td>Haitaka no Psychedelica</td>\n",
       "      <td>PSV</td>\n",
       "      <td>2016.0</td>\n",
       "      <td>Adventure</td>\n",
       "      <td>0.00</td>\n",
       "      <td>0.00</td>\n",
       "      <td>0.01</td>\n",
       "      <td>0.00</td>\n",
       "      <td>0.0</td>\n",
       "      <td>0.0</td>\n",
       "      <td>No_Rating</td>\n",
       "    </tr>\n",
       "    <tr>\n",
       "      <th>16713</th>\n",
       "      <td>Spirits &amp; Spells</td>\n",
       "      <td>GBA</td>\n",
       "      <td>2003.0</td>\n",
       "      <td>Platform</td>\n",
       "      <td>0.01</td>\n",
       "      <td>0.00</td>\n",
       "      <td>0.00</td>\n",
       "      <td>0.00</td>\n",
       "      <td>0.0</td>\n",
       "      <td>0.0</td>\n",
       "      <td>No_Rating</td>\n",
       "    </tr>\n",
       "    <tr>\n",
       "      <th>16714</th>\n",
       "      <td>Winning Post 8 2016</td>\n",
       "      <td>PSV</td>\n",
       "      <td>2016.0</td>\n",
       "      <td>Simulation</td>\n",
       "      <td>0.00</td>\n",
       "      <td>0.00</td>\n",
       "      <td>0.01</td>\n",
       "      <td>0.00</td>\n",
       "      <td>0.0</td>\n",
       "      <td>0.0</td>\n",
       "      <td>No_Rating</td>\n",
       "    </tr>\n",
       "  </tbody>\n",
       "</table>\n",
       "<p>16715 rows × 11 columns</p>\n",
       "</div>"
      ],
      "text/plain": [
       "                                name platform  year_of_release         genre  \\\n",
       "0                         Wii Sports      Wii           2006.0        Sports   \n",
       "1                  Super Mario Bros.      NES           1985.0      Platform   \n",
       "2                     Mario Kart Wii      Wii           2008.0        Racing   \n",
       "3                  Wii Sports Resort      Wii           2009.0        Sports   \n",
       "4           Pokemon Red/Pokemon Blue       GB           1996.0  Role-Playing   \n",
       "...                              ...      ...              ...           ...   \n",
       "16710  Samurai Warriors: Sanada Maru      PS3           2016.0        Action   \n",
       "16711               LMA Manager 2007     X360           2006.0        Sports   \n",
       "16712        Haitaka no Psychedelica      PSV           2016.0     Adventure   \n",
       "16713               Spirits & Spells      GBA           2003.0      Platform   \n",
       "16714            Winning Post 8 2016      PSV           2016.0    Simulation   \n",
       "\n",
       "       na_sales  eu_sales  jp_sales  other_sales  critic_score  user_score  \\\n",
       "0         41.36     28.96      3.77         8.45          76.0         8.0   \n",
       "1         29.08      3.58      6.81         0.77           0.0         0.0   \n",
       "2         15.68     12.76      3.79         3.29          82.0         8.3   \n",
       "3         15.61     10.93      3.28         2.95          80.0         8.0   \n",
       "4         11.27      8.89     10.22         1.00           0.0         0.0   \n",
       "...         ...       ...       ...          ...           ...         ...   \n",
       "16710      0.00      0.00      0.01         0.00           0.0         0.0   \n",
       "16711      0.00      0.01      0.00         0.00           0.0         0.0   \n",
       "16712      0.00      0.00      0.01         0.00           0.0         0.0   \n",
       "16713      0.01      0.00      0.00         0.00           0.0         0.0   \n",
       "16714      0.00      0.00      0.01         0.00           0.0         0.0   \n",
       "\n",
       "          rating  \n",
       "0              E  \n",
       "1      No_Rating  \n",
       "2              E  \n",
       "3              E  \n",
       "4      No_Rating  \n",
       "...          ...  \n",
       "16710  No_Rating  \n",
       "16711  No_Rating  \n",
       "16712  No_Rating  \n",
       "16713  No_Rating  \n",
       "16714  No_Rating  \n",
       "\n",
       "[16715 rows x 11 columns]"
      ]
     },
     "execution_count": 19,
     "metadata": {},
     "output_type": "execute_result"
    }
   ],
   "source": [
    "data"
   ]
  },
  {
   "cell_type": "markdown",
   "metadata": {},
   "source": [
    "Добавим стольбец с суммарными продажами"
   ]
  },
  {
   "cell_type": "code",
   "execution_count": 20,
   "metadata": {},
   "outputs": [],
   "source": [
    "data['total_sales'] = data['na_sales'] + data['eu_sales'] + data['jp_sales'] + data['other_sales']"
   ]
  },
  {
   "cell_type": "markdown",
   "metadata": {},
   "source": [
    "Избавлюсь от игр, у ктр неизвестен год выпуска"
   ]
  },
  {
   "cell_type": "code",
   "execution_count": 21,
   "metadata": {},
   "outputs": [],
   "source": [
    "data = data.dropna(subset=['year_of_release'])"
   ]
  },
  {
   "cell_type": "markdown",
   "metadata": {},
   "source": [
    "Полные дупликаты отсутсвуют"
   ]
  },
  {
   "cell_type": "code",
   "execution_count": 22,
   "metadata": {},
   "outputs": [
    {
     "data": {
      "text/plain": [
       "0"
      ]
     },
     "execution_count": 22,
     "metadata": {},
     "output_type": "execute_result"
    }
   ],
   "source": [
    "data.duplicated().sum()"
   ]
  },
  {
   "cell_type": "code",
   "execution_count": 23,
   "metadata": {},
   "outputs": [
    {
     "data": {
      "text/html": [
       "<div>\n",
       "<style scoped>\n",
       "    .dataframe tbody tr th:only-of-type {\n",
       "        vertical-align: middle;\n",
       "    }\n",
       "\n",
       "    .dataframe tbody tr th {\n",
       "        vertical-align: top;\n",
       "    }\n",
       "\n",
       "    .dataframe thead th {\n",
       "        text-align: right;\n",
       "    }\n",
       "</style>\n",
       "<table border=\"1\" class=\"dataframe\">\n",
       "  <thead>\n",
       "    <tr style=\"text-align: right;\">\n",
       "      <th></th>\n",
       "      <th>name</th>\n",
       "      <th>platform</th>\n",
       "      <th>year_of_release</th>\n",
       "      <th>genre</th>\n",
       "      <th>na_sales</th>\n",
       "      <th>eu_sales</th>\n",
       "      <th>jp_sales</th>\n",
       "      <th>other_sales</th>\n",
       "      <th>critic_score</th>\n",
       "      <th>user_score</th>\n",
       "      <th>rating</th>\n",
       "      <th>total_sales</th>\n",
       "    </tr>\n",
       "  </thead>\n",
       "  <tbody>\n",
       "    <tr>\n",
       "      <th>0</th>\n",
       "      <td>Wii Sports</td>\n",
       "      <td>Wii</td>\n",
       "      <td>2006.0</td>\n",
       "      <td>Sports</td>\n",
       "      <td>41.36</td>\n",
       "      <td>28.96</td>\n",
       "      <td>3.77</td>\n",
       "      <td>8.45</td>\n",
       "      <td>76.0</td>\n",
       "      <td>8.0</td>\n",
       "      <td>E</td>\n",
       "      <td>82.54</td>\n",
       "    </tr>\n",
       "    <tr>\n",
       "      <th>1</th>\n",
       "      <td>Super Mario Bros.</td>\n",
       "      <td>NES</td>\n",
       "      <td>1985.0</td>\n",
       "      <td>Platform</td>\n",
       "      <td>29.08</td>\n",
       "      <td>3.58</td>\n",
       "      <td>6.81</td>\n",
       "      <td>0.77</td>\n",
       "      <td>0.0</td>\n",
       "      <td>0.0</td>\n",
       "      <td>No_Rating</td>\n",
       "      <td>40.24</td>\n",
       "    </tr>\n",
       "    <tr>\n",
       "      <th>2</th>\n",
       "      <td>Mario Kart Wii</td>\n",
       "      <td>Wii</td>\n",
       "      <td>2008.0</td>\n",
       "      <td>Racing</td>\n",
       "      <td>15.68</td>\n",
       "      <td>12.76</td>\n",
       "      <td>3.79</td>\n",
       "      <td>3.29</td>\n",
       "      <td>82.0</td>\n",
       "      <td>8.3</td>\n",
       "      <td>E</td>\n",
       "      <td>35.52</td>\n",
       "    </tr>\n",
       "    <tr>\n",
       "      <th>3</th>\n",
       "      <td>Wii Sports Resort</td>\n",
       "      <td>Wii</td>\n",
       "      <td>2009.0</td>\n",
       "      <td>Sports</td>\n",
       "      <td>15.61</td>\n",
       "      <td>10.93</td>\n",
       "      <td>3.28</td>\n",
       "      <td>2.95</td>\n",
       "      <td>80.0</td>\n",
       "      <td>8.0</td>\n",
       "      <td>E</td>\n",
       "      <td>32.77</td>\n",
       "    </tr>\n",
       "    <tr>\n",
       "      <th>4</th>\n",
       "      <td>Pokemon Red/Pokemon Blue</td>\n",
       "      <td>GB</td>\n",
       "      <td>1996.0</td>\n",
       "      <td>Role-Playing</td>\n",
       "      <td>11.27</td>\n",
       "      <td>8.89</td>\n",
       "      <td>10.22</td>\n",
       "      <td>1.00</td>\n",
       "      <td>0.0</td>\n",
       "      <td>0.0</td>\n",
       "      <td>No_Rating</td>\n",
       "      <td>31.38</td>\n",
       "    </tr>\n",
       "    <tr>\n",
       "      <th>...</th>\n",
       "      <td>...</td>\n",
       "      <td>...</td>\n",
       "      <td>...</td>\n",
       "      <td>...</td>\n",
       "      <td>...</td>\n",
       "      <td>...</td>\n",
       "      <td>...</td>\n",
       "      <td>...</td>\n",
       "      <td>...</td>\n",
       "      <td>...</td>\n",
       "      <td>...</td>\n",
       "      <td>...</td>\n",
       "    </tr>\n",
       "    <tr>\n",
       "      <th>16710</th>\n",
       "      <td>Samurai Warriors: Sanada Maru</td>\n",
       "      <td>PS3</td>\n",
       "      <td>2016.0</td>\n",
       "      <td>Action</td>\n",
       "      <td>0.00</td>\n",
       "      <td>0.00</td>\n",
       "      <td>0.01</td>\n",
       "      <td>0.00</td>\n",
       "      <td>0.0</td>\n",
       "      <td>0.0</td>\n",
       "      <td>No_Rating</td>\n",
       "      <td>0.01</td>\n",
       "    </tr>\n",
       "    <tr>\n",
       "      <th>16711</th>\n",
       "      <td>LMA Manager 2007</td>\n",
       "      <td>X360</td>\n",
       "      <td>2006.0</td>\n",
       "      <td>Sports</td>\n",
       "      <td>0.00</td>\n",
       "      <td>0.01</td>\n",
       "      <td>0.00</td>\n",
       "      <td>0.00</td>\n",
       "      <td>0.0</td>\n",
       "      <td>0.0</td>\n",
       "      <td>No_Rating</td>\n",
       "      <td>0.01</td>\n",
       "    </tr>\n",
       "    <tr>\n",
       "      <th>16712</th>\n",
       "      <td>Haitaka no Psychedelica</td>\n",
       "      <td>PSV</td>\n",
       "      <td>2016.0</td>\n",
       "      <td>Adventure</td>\n",
       "      <td>0.00</td>\n",
       "      <td>0.00</td>\n",
       "      <td>0.01</td>\n",
       "      <td>0.00</td>\n",
       "      <td>0.0</td>\n",
       "      <td>0.0</td>\n",
       "      <td>No_Rating</td>\n",
       "      <td>0.01</td>\n",
       "    </tr>\n",
       "    <tr>\n",
       "      <th>16713</th>\n",
       "      <td>Spirits &amp; Spells</td>\n",
       "      <td>GBA</td>\n",
       "      <td>2003.0</td>\n",
       "      <td>Platform</td>\n",
       "      <td>0.01</td>\n",
       "      <td>0.00</td>\n",
       "      <td>0.00</td>\n",
       "      <td>0.00</td>\n",
       "      <td>0.0</td>\n",
       "      <td>0.0</td>\n",
       "      <td>No_Rating</td>\n",
       "      <td>0.01</td>\n",
       "    </tr>\n",
       "    <tr>\n",
       "      <th>16714</th>\n",
       "      <td>Winning Post 8 2016</td>\n",
       "      <td>PSV</td>\n",
       "      <td>2016.0</td>\n",
       "      <td>Simulation</td>\n",
       "      <td>0.00</td>\n",
       "      <td>0.00</td>\n",
       "      <td>0.01</td>\n",
       "      <td>0.00</td>\n",
       "      <td>0.0</td>\n",
       "      <td>0.0</td>\n",
       "      <td>No_Rating</td>\n",
       "      <td>0.01</td>\n",
       "    </tr>\n",
       "  </tbody>\n",
       "</table>\n",
       "<p>16463 rows × 12 columns</p>\n",
       "</div>"
      ],
      "text/plain": [
       "                                name platform  year_of_release         genre  \\\n",
       "0                         Wii Sports      Wii           2006.0        Sports   \n",
       "1                  Super Mario Bros.      NES           1985.0      Platform   \n",
       "2                     Mario Kart Wii      Wii           2008.0        Racing   \n",
       "3                  Wii Sports Resort      Wii           2009.0        Sports   \n",
       "4           Pokemon Red/Pokemon Blue       GB           1996.0  Role-Playing   \n",
       "...                              ...      ...              ...           ...   \n",
       "16710  Samurai Warriors: Sanada Maru      PS3           2016.0        Action   \n",
       "16711               LMA Manager 2007     X360           2006.0        Sports   \n",
       "16712        Haitaka no Psychedelica      PSV           2016.0     Adventure   \n",
       "16713               Spirits & Spells      GBA           2003.0      Platform   \n",
       "16714            Winning Post 8 2016      PSV           2016.0    Simulation   \n",
       "\n",
       "       na_sales  eu_sales  jp_sales  other_sales  critic_score  user_score  \\\n",
       "0         41.36     28.96      3.77         8.45          76.0         8.0   \n",
       "1         29.08      3.58      6.81         0.77           0.0         0.0   \n",
       "2         15.68     12.76      3.79         3.29          82.0         8.3   \n",
       "3         15.61     10.93      3.28         2.95          80.0         8.0   \n",
       "4         11.27      8.89     10.22         1.00           0.0         0.0   \n",
       "...         ...       ...       ...          ...           ...         ...   \n",
       "16710      0.00      0.00      0.01         0.00           0.0         0.0   \n",
       "16711      0.00      0.01      0.00         0.00           0.0         0.0   \n",
       "16712      0.00      0.00      0.01         0.00           0.0         0.0   \n",
       "16713      0.01      0.00      0.00         0.00           0.0         0.0   \n",
       "16714      0.00      0.00      0.01         0.00           0.0         0.0   \n",
       "\n",
       "          rating  total_sales  \n",
       "0              E        82.54  \n",
       "1      No_Rating        40.24  \n",
       "2              E        35.52  \n",
       "3              E        32.77  \n",
       "4      No_Rating        31.38  \n",
       "...          ...          ...  \n",
       "16710  No_Rating         0.01  \n",
       "16711  No_Rating         0.01  \n",
       "16712  No_Rating         0.01  \n",
       "16713  No_Rating         0.01  \n",
       "16714  No_Rating         0.01  \n",
       "\n",
       "[16463 rows x 12 columns]"
      ]
     },
     "execution_count": 23,
     "metadata": {},
     "output_type": "execute_result"
    }
   ],
   "source": [
    "data"
   ]
  },
  {
   "cell_type": "markdown",
   "metadata": {},
   "source": [
    "В результате предобработки данных было сделано следущее:\n",
    "- заменены пропуски и tdb в столбцах **Critic_Score**, **User_Score** на 0 с возможностью дальнейшей обработки\n",
    "- отбросил строки с пропусками в **Year_of_Release**\n",
    "- изменен формат данных в столбце **Critic_Score**, **User_Score** на float"
   ]
  },
  {
   "cell_type": "markdown",
   "metadata": {},
   "source": [
    "## Исследовательский анализ данных"
   ]
  },
  {
   "cell_type": "markdown",
   "metadata": {},
   "source": [
    "### Анализ количества выпущенных игр по годам"
   ]
  },
  {
   "cell_type": "code",
   "execution_count": 24,
   "metadata": {},
   "outputs": [
    {
     "data": {
      "text/plain": [
       "array([2006., 1985., 2008., 2009., 1996., 1989., 1984., 2005., 1999.,\n",
       "       2007., 2010., 2013., 2004., 1990., 1988., 2002., 2001., 2011.,\n",
       "       1998., 2015., 2012., 2014., 1992., 1997., 1993., 1994., 1982.,\n",
       "       2016., 2003., 1986., 2000., 1995., 1991., 1981., 1987., 1980.,\n",
       "       1983.])"
      ]
     },
     "execution_count": 24,
     "metadata": {},
     "output_type": "execute_result"
    }
   ],
   "source": [
    "data['year_of_release'].unique()"
   ]
  },
  {
   "cell_type": "code",
   "execution_count": 25,
   "metadata": {},
   "outputs": [
    {
     "data": {
      "image/png": "[encoded data removed]",
      "text/plain": [
       "<Figure size 1080x720 with 1 Axes>"
      ]
     },
     "metadata": {
      "needs_background": "light"
     },
     "output_type": "display_data"
    }
   ],
   "source": [
    "data.value_counts('year_of_release', sort=False).plot(kind = 'bar', figsize=(15, 10))\n",
    "None"
   ]
  },
  {
   "cell_type": "markdown",
   "metadata": {},
   "source": [
    "Основной выпуск игр приходится на года с 2002 по текущий год. Хотя с 2012 резко упало количество, но там данные будут наиболее уданые для оценки успешности успешности, т.к. наиболее свежие."
   ]
  },
  {
   "cell_type": "markdown",
   "metadata": {},
   "source": [
    "### Анализ количества игр по платформам"
   ]
  },
  {
   "cell_type": "code",
   "execution_count": 26,
   "metadata": {},
   "outputs": [
    {
     "data": {
      "text/plain": [
       "platform\n",
       "GG         1\n",
       "PCFX       1\n",
       "TG16       2\n",
       "3DO        3\n",
       "WS         6\n",
       "SCD        6\n",
       "NG        12\n",
       "GEN       29\n",
       "DC        52\n",
       "GB        97\n",
       "NES       98\n",
       "2600     116\n",
       "WiiU     147\n",
       "SAT      173\n",
       "SNES     239\n",
       "XOne     247\n",
       "N64      316\n",
       "PS4      392\n",
       "PSV      429\n",
       "3DS      512\n",
       "GC       543\n",
       "XB       806\n",
       "GBA      811\n",
       "PC       958\n",
       "PS      1190\n",
       "PSP     1195\n",
       "X360    1234\n",
       "Wii     1286\n",
       "PS3     1306\n",
       "DS      2122\n",
       "PS2     2134\n",
       "Name: year_of_release, dtype: int64"
      ]
     },
     "execution_count": 26,
     "metadata": {},
     "output_type": "execute_result"
    }
   ],
   "source": [
    "data.groupby(['platform'])['year_of_release'].count().sort_values()"
   ]
  },
  {
   "cell_type": "code",
   "execution_count": 27,
   "metadata": {},
   "outputs": [
    {
     "data": {
      "text/plain": [
       "<AxesSubplot:xlabel='platform'>"
      ]
     },
     "execution_count": 27,
     "metadata": {},
     "output_type": "execute_result"
    },
    {
     "data": {
      "image/png": "[encoded data removed]",
      "text/plain": [
       "<Figure size 1080x720 with 1 Axes>"
      ]
     },
     "metadata": {
      "needs_background": "light"
     },
     "output_type": "display_data"
    }
   ],
   "source": [
    "data.groupby(['platform'])['year_of_release'].count().sort_values().plot(kind = 'bar', figsize=(15, 10))"
   ]
  },
  {
   "cell_type": "markdown",
   "metadata": {},
   "source": [
    "### Найдем средний жизненный цикл платформы"
   ]
  },
  {
   "cell_type": "code",
   "execution_count": 28,
   "metadata": {},
   "outputs": [
    {
     "data": {
      "text/html": [
       "<div>\n",
       "<style scoped>\n",
       "    .dataframe tbody tr th:only-of-type {\n",
       "        vertical-align: middle;\n",
       "    }\n",
       "\n",
       "    .dataframe tbody tr th {\n",
       "        vertical-align: top;\n",
       "    }\n",
       "\n",
       "    .dataframe thead tr th {\n",
       "        text-align: left;\n",
       "    }\n",
       "</style>\n",
       "<table border=\"1\" class=\"dataframe\">\n",
       "  <thead>\n",
       "    <tr>\n",
       "      <th></th>\n",
       "      <th>platform</th>\n",
       "      <th colspan=\"2\" halign=\"left\">year_of_release</th>\n",
       "      <th>platform_life</th>\n",
       "    </tr>\n",
       "    <tr>\n",
       "      <th></th>\n",
       "      <th></th>\n",
       "      <th>min</th>\n",
       "      <th>max</th>\n",
       "      <th></th>\n",
       "    </tr>\n",
       "  </thead>\n",
       "  <tbody>\n",
       "    <tr>\n",
       "      <th>0</th>\n",
       "      <td>2600</td>\n",
       "      <td>1980.0</td>\n",
       "      <td>1989.0</td>\n",
       "      <td>9.0</td>\n",
       "    </tr>\n",
       "    <tr>\n",
       "      <th>1</th>\n",
       "      <td>3DO</td>\n",
       "      <td>1994.0</td>\n",
       "      <td>1995.0</td>\n",
       "      <td>1.0</td>\n",
       "    </tr>\n",
       "    <tr>\n",
       "      <th>2</th>\n",
       "      <td>3DS</td>\n",
       "      <td>2011.0</td>\n",
       "      <td>2016.0</td>\n",
       "      <td>5.0</td>\n",
       "    </tr>\n",
       "    <tr>\n",
       "      <th>3</th>\n",
       "      <td>DC</td>\n",
       "      <td>1998.0</td>\n",
       "      <td>2008.0</td>\n",
       "      <td>10.0</td>\n",
       "    </tr>\n",
       "    <tr>\n",
       "      <th>4</th>\n",
       "      <td>DS</td>\n",
       "      <td>1985.0</td>\n",
       "      <td>2013.0</td>\n",
       "      <td>28.0</td>\n",
       "    </tr>\n",
       "    <tr>\n",
       "      <th>5</th>\n",
       "      <td>GB</td>\n",
       "      <td>1988.0</td>\n",
       "      <td>2001.0</td>\n",
       "      <td>13.0</td>\n",
       "    </tr>\n",
       "    <tr>\n",
       "      <th>6</th>\n",
       "      <td>GBA</td>\n",
       "      <td>2000.0</td>\n",
       "      <td>2007.0</td>\n",
       "      <td>7.0</td>\n",
       "    </tr>\n",
       "    <tr>\n",
       "      <th>7</th>\n",
       "      <td>GC</td>\n",
       "      <td>2001.0</td>\n",
       "      <td>2007.0</td>\n",
       "      <td>6.0</td>\n",
       "    </tr>\n",
       "    <tr>\n",
       "      <th>8</th>\n",
       "      <td>GEN</td>\n",
       "      <td>1990.0</td>\n",
       "      <td>1994.0</td>\n",
       "      <td>4.0</td>\n",
       "    </tr>\n",
       "    <tr>\n",
       "      <th>9</th>\n",
       "      <td>GG</td>\n",
       "      <td>1992.0</td>\n",
       "      <td>1992.0</td>\n",
       "      <td>0.0</td>\n",
       "    </tr>\n",
       "    <tr>\n",
       "      <th>10</th>\n",
       "      <td>N64</td>\n",
       "      <td>1996.0</td>\n",
       "      <td>2002.0</td>\n",
       "      <td>6.0</td>\n",
       "    </tr>\n",
       "    <tr>\n",
       "      <th>11</th>\n",
       "      <td>NES</td>\n",
       "      <td>1983.0</td>\n",
       "      <td>1994.0</td>\n",
       "      <td>11.0</td>\n",
       "    </tr>\n",
       "    <tr>\n",
       "      <th>12</th>\n",
       "      <td>NG</td>\n",
       "      <td>1993.0</td>\n",
       "      <td>1996.0</td>\n",
       "      <td>3.0</td>\n",
       "    </tr>\n",
       "    <tr>\n",
       "      <th>13</th>\n",
       "      <td>PC</td>\n",
       "      <td>1985.0</td>\n",
       "      <td>2016.0</td>\n",
       "      <td>31.0</td>\n",
       "    </tr>\n",
       "    <tr>\n",
       "      <th>14</th>\n",
       "      <td>PCFX</td>\n",
       "      <td>1996.0</td>\n",
       "      <td>1996.0</td>\n",
       "      <td>0.0</td>\n",
       "    </tr>\n",
       "    <tr>\n",
       "      <th>15</th>\n",
       "      <td>PS</td>\n",
       "      <td>1994.0</td>\n",
       "      <td>2003.0</td>\n",
       "      <td>9.0</td>\n",
       "    </tr>\n",
       "    <tr>\n",
       "      <th>16</th>\n",
       "      <td>PS2</td>\n",
       "      <td>2000.0</td>\n",
       "      <td>2011.0</td>\n",
       "      <td>11.0</td>\n",
       "    </tr>\n",
       "    <tr>\n",
       "      <th>17</th>\n",
       "      <td>PS3</td>\n",
       "      <td>2006.0</td>\n",
       "      <td>2016.0</td>\n",
       "      <td>10.0</td>\n",
       "    </tr>\n",
       "    <tr>\n",
       "      <th>18</th>\n",
       "      <td>PS4</td>\n",
       "      <td>2013.0</td>\n",
       "      <td>2016.0</td>\n",
       "      <td>3.0</td>\n",
       "    </tr>\n",
       "    <tr>\n",
       "      <th>19</th>\n",
       "      <td>PSP</td>\n",
       "      <td>2004.0</td>\n",
       "      <td>2015.0</td>\n",
       "      <td>11.0</td>\n",
       "    </tr>\n",
       "    <tr>\n",
       "      <th>20</th>\n",
       "      <td>PSV</td>\n",
       "      <td>2011.0</td>\n",
       "      <td>2016.0</td>\n",
       "      <td>5.0</td>\n",
       "    </tr>\n",
       "    <tr>\n",
       "      <th>21</th>\n",
       "      <td>SAT</td>\n",
       "      <td>1994.0</td>\n",
       "      <td>1999.0</td>\n",
       "      <td>5.0</td>\n",
       "    </tr>\n",
       "    <tr>\n",
       "      <th>22</th>\n",
       "      <td>SCD</td>\n",
       "      <td>1993.0</td>\n",
       "      <td>1994.0</td>\n",
       "      <td>1.0</td>\n",
       "    </tr>\n",
       "    <tr>\n",
       "      <th>23</th>\n",
       "      <td>SNES</td>\n",
       "      <td>1990.0</td>\n",
       "      <td>1999.0</td>\n",
       "      <td>9.0</td>\n",
       "    </tr>\n",
       "    <tr>\n",
       "      <th>24</th>\n",
       "      <td>TG16</td>\n",
       "      <td>1995.0</td>\n",
       "      <td>1995.0</td>\n",
       "      <td>0.0</td>\n",
       "    </tr>\n",
       "    <tr>\n",
       "      <th>25</th>\n",
       "      <td>WS</td>\n",
       "      <td>1999.0</td>\n",
       "      <td>2001.0</td>\n",
       "      <td>2.0</td>\n",
       "    </tr>\n",
       "    <tr>\n",
       "      <th>26</th>\n",
       "      <td>Wii</td>\n",
       "      <td>2006.0</td>\n",
       "      <td>2016.0</td>\n",
       "      <td>10.0</td>\n",
       "    </tr>\n",
       "    <tr>\n",
       "      <th>27</th>\n",
       "      <td>WiiU</td>\n",
       "      <td>2012.0</td>\n",
       "      <td>2016.0</td>\n",
       "      <td>4.0</td>\n",
       "    </tr>\n",
       "    <tr>\n",
       "      <th>28</th>\n",
       "      <td>X360</td>\n",
       "      <td>2005.0</td>\n",
       "      <td>2016.0</td>\n",
       "      <td>11.0</td>\n",
       "    </tr>\n",
       "    <tr>\n",
       "      <th>29</th>\n",
       "      <td>XB</td>\n",
       "      <td>2000.0</td>\n",
       "      <td>2008.0</td>\n",
       "      <td>8.0</td>\n",
       "    </tr>\n",
       "    <tr>\n",
       "      <th>30</th>\n",
       "      <td>XOne</td>\n",
       "      <td>2013.0</td>\n",
       "      <td>2016.0</td>\n",
       "      <td>3.0</td>\n",
       "    </tr>\n",
       "  </tbody>\n",
       "</table>\n",
       "</div>"
      ],
      "text/plain": [
       "   platform year_of_release         platform_life\n",
       "                        min     max              \n",
       "0      2600          1980.0  1989.0           9.0\n",
       "1       3DO          1994.0  1995.0           1.0\n",
       "2       3DS          2011.0  2016.0           5.0\n",
       "3        DC          1998.0  2008.0          10.0\n",
       "4        DS          1985.0  2013.0          28.0\n",
       "5        GB          1988.0  2001.0          13.0\n",
       "6       GBA          2000.0  2007.0           7.0\n",
       "7        GC          2001.0  2007.0           6.0\n",
       "8       GEN          1990.0  1994.0           4.0\n",
       "9        GG          1992.0  1992.0           0.0\n",
       "10      N64          1996.0  2002.0           6.0\n",
       "11      NES          1983.0  1994.0          11.0\n",
       "12       NG          1993.0  1996.0           3.0\n",
       "13       PC          1985.0  2016.0          31.0\n",
       "14     PCFX          1996.0  1996.0           0.0\n",
       "15       PS          1994.0  2003.0           9.0\n",
       "16      PS2          2000.0  2011.0          11.0\n",
       "17      PS3          2006.0  2016.0          10.0\n",
       "18      PS4          2013.0  2016.0           3.0\n",
       "19      PSP          2004.0  2015.0          11.0\n",
       "20      PSV          2011.0  2016.0           5.0\n",
       "21      SAT          1994.0  1999.0           5.0\n",
       "22      SCD          1993.0  1994.0           1.0\n",
       "23     SNES          1990.0  1999.0           9.0\n",
       "24     TG16          1995.0  1995.0           0.0\n",
       "25       WS          1999.0  2001.0           2.0\n",
       "26      Wii          2006.0  2016.0          10.0\n",
       "27     WiiU          2012.0  2016.0           4.0\n",
       "28     X360          2005.0  2016.0          11.0\n",
       "29       XB          2000.0  2008.0           8.0\n",
       "30     XOne          2013.0  2016.0           3.0"
      ]
     },
     "execution_count": 28,
     "metadata": {},
     "output_type": "execute_result"
    }
   ],
   "source": [
    "data_year = data.groupby('platform').agg({'year_of_release' : ['min','max']}).reset_index()\n",
    "data_year['platform_life'] = data_year['year_of_release','max'] - data_year['year_of_release','min']\n",
    "data_year"
   ]
  },
  {
   "cell_type": "code",
   "execution_count": 29,
   "metadata": {},
   "outputs": [
    {
     "data": {
      "text/plain": [
       "3.806451612903226"
      ]
     },
     "execution_count": 29,
     "metadata": {},
     "output_type": "execute_result"
    }
   ],
   "source": [
    "platform_mean_life = data_year['platform_life'].mean()/2\n",
    "platform_mean_life"
   ]
  },
  {
   "cell_type": "markdown",
   "metadata": {},
   "source": [
    "Жизненный цикл платформы 7.612903225806452. Я поделил его пополам, чтобы не брать в расчет спад популярности платформы и попасть точно в пик популярности. Так как, строим прогноз на 2017 год при жизненном цикле таком-то, то актуальный период берем [2017 - 7.612903225806452;2017]"
   ]
  },
  {
   "cell_type": "code",
   "execution_count": 30,
   "metadata": {},
   "outputs": [
    {
     "data": {
      "text/plain": [
       "2014.0"
      ]
     },
     "execution_count": 30,
     "metadata": {},
     "output_type": "execute_result"
    }
   ],
   "source": [
    "np.ceil(2017 - platform_mean_life)"
   ]
  },
  {
   "cell_type": "markdown",
   "metadata": {},
   "source": [
    "Создаю конечный ДФ для работы"
   ]
  },
  {
   "cell_type": "code",
   "execution_count": 31,
   "metadata": {},
   "outputs": [],
   "source": [
    "data_2 = data.loc[data['year_of_release'] > (2017-platform_mean_life)].reset_index(drop = True)"
   ]
  },
  {
   "cell_type": "code",
   "execution_count": 32,
   "metadata": {},
   "outputs": [
    {
     "data": {
      "text/html": [
       "<div>\n",
       "<style scoped>\n",
       "    .dataframe tbody tr th:only-of-type {\n",
       "        vertical-align: middle;\n",
       "    }\n",
       "\n",
       "    .dataframe tbody tr th {\n",
       "        vertical-align: top;\n",
       "    }\n",
       "\n",
       "    .dataframe thead th {\n",
       "        text-align: right;\n",
       "    }\n",
       "</style>\n",
       "<table border=\"1\" class=\"dataframe\">\n",
       "  <thead>\n",
       "    <tr style=\"text-align: right;\">\n",
       "      <th></th>\n",
       "      <th>name</th>\n",
       "      <th>platform</th>\n",
       "      <th>year_of_release</th>\n",
       "      <th>genre</th>\n",
       "      <th>na_sales</th>\n",
       "      <th>eu_sales</th>\n",
       "      <th>jp_sales</th>\n",
       "      <th>other_sales</th>\n",
       "      <th>critic_score</th>\n",
       "      <th>user_score</th>\n",
       "      <th>rating</th>\n",
       "      <th>total_sales</th>\n",
       "    </tr>\n",
       "  </thead>\n",
       "  <tbody>\n",
       "    <tr>\n",
       "      <th>0</th>\n",
       "      <td>Call of Duty: Black Ops 3</td>\n",
       "      <td>PS4</td>\n",
       "      <td>2015.0</td>\n",
       "      <td>Shooter</td>\n",
       "      <td>6.03</td>\n",
       "      <td>5.86</td>\n",
       "      <td>0.36</td>\n",
       "      <td>2.38</td>\n",
       "      <td>0.0</td>\n",
       "      <td>0.0</td>\n",
       "      <td>No_Rating</td>\n",
       "      <td>14.63</td>\n",
       "    </tr>\n",
       "    <tr>\n",
       "      <th>1</th>\n",
       "      <td>Grand Theft Auto V</td>\n",
       "      <td>PS4</td>\n",
       "      <td>2014.0</td>\n",
       "      <td>Action</td>\n",
       "      <td>3.96</td>\n",
       "      <td>6.31</td>\n",
       "      <td>0.38</td>\n",
       "      <td>1.97</td>\n",
       "      <td>97.0</td>\n",
       "      <td>8.3</td>\n",
       "      <td>M</td>\n",
       "      <td>12.62</td>\n",
       "    </tr>\n",
       "    <tr>\n",
       "      <th>2</th>\n",
       "      <td>Pokemon Omega Ruby/Pokemon Alpha Sapphire</td>\n",
       "      <td>3DS</td>\n",
       "      <td>2014.0</td>\n",
       "      <td>Role-Playing</td>\n",
       "      <td>4.35</td>\n",
       "      <td>3.49</td>\n",
       "      <td>3.10</td>\n",
       "      <td>0.74</td>\n",
       "      <td>0.0</td>\n",
       "      <td>0.0</td>\n",
       "      <td>No_Rating</td>\n",
       "      <td>11.68</td>\n",
       "    </tr>\n",
       "    <tr>\n",
       "      <th>3</th>\n",
       "      <td>FIFA 16</td>\n",
       "      <td>PS4</td>\n",
       "      <td>2015.0</td>\n",
       "      <td>Sports</td>\n",
       "      <td>1.12</td>\n",
       "      <td>6.12</td>\n",
       "      <td>0.06</td>\n",
       "      <td>1.28</td>\n",
       "      <td>82.0</td>\n",
       "      <td>4.3</td>\n",
       "      <td>E</td>\n",
       "      <td>8.58</td>\n",
       "    </tr>\n",
       "    <tr>\n",
       "      <th>4</th>\n",
       "      <td>Star Wars Battlefront (2015)</td>\n",
       "      <td>PS4</td>\n",
       "      <td>2015.0</td>\n",
       "      <td>Shooter</td>\n",
       "      <td>2.99</td>\n",
       "      <td>3.49</td>\n",
       "      <td>0.22</td>\n",
       "      <td>1.28</td>\n",
       "      <td>0.0</td>\n",
       "      <td>0.0</td>\n",
       "      <td>No_Rating</td>\n",
       "      <td>7.98</td>\n",
       "    </tr>\n",
       "    <tr>\n",
       "      <th>...</th>\n",
       "      <td>...</td>\n",
       "      <td>...</td>\n",
       "      <td>...</td>\n",
       "      <td>...</td>\n",
       "      <td>...</td>\n",
       "      <td>...</td>\n",
       "      <td>...</td>\n",
       "      <td>...</td>\n",
       "      <td>...</td>\n",
       "      <td>...</td>\n",
       "      <td>...</td>\n",
       "      <td>...</td>\n",
       "    </tr>\n",
       "    <tr>\n",
       "      <th>1682</th>\n",
       "      <td>Strawberry Nauts</td>\n",
       "      <td>PSV</td>\n",
       "      <td>2016.0</td>\n",
       "      <td>Adventure</td>\n",
       "      <td>0.00</td>\n",
       "      <td>0.00</td>\n",
       "      <td>0.01</td>\n",
       "      <td>0.00</td>\n",
       "      <td>0.0</td>\n",
       "      <td>0.0</td>\n",
       "      <td>No_Rating</td>\n",
       "      <td>0.01</td>\n",
       "    </tr>\n",
       "    <tr>\n",
       "      <th>1683</th>\n",
       "      <td>Aiyoku no Eustia</td>\n",
       "      <td>PSV</td>\n",
       "      <td>2014.0</td>\n",
       "      <td>Misc</td>\n",
       "      <td>0.00</td>\n",
       "      <td>0.00</td>\n",
       "      <td>0.01</td>\n",
       "      <td>0.00</td>\n",
       "      <td>0.0</td>\n",
       "      <td>0.0</td>\n",
       "      <td>No_Rating</td>\n",
       "      <td>0.01</td>\n",
       "    </tr>\n",
       "    <tr>\n",
       "      <th>1684</th>\n",
       "      <td>Samurai Warriors: Sanada Maru</td>\n",
       "      <td>PS3</td>\n",
       "      <td>2016.0</td>\n",
       "      <td>Action</td>\n",
       "      <td>0.00</td>\n",
       "      <td>0.00</td>\n",
       "      <td>0.01</td>\n",
       "      <td>0.00</td>\n",
       "      <td>0.0</td>\n",
       "      <td>0.0</td>\n",
       "      <td>No_Rating</td>\n",
       "      <td>0.01</td>\n",
       "    </tr>\n",
       "    <tr>\n",
       "      <th>1685</th>\n",
       "      <td>Haitaka no Psychedelica</td>\n",
       "      <td>PSV</td>\n",
       "      <td>2016.0</td>\n",
       "      <td>Adventure</td>\n",
       "      <td>0.00</td>\n",
       "      <td>0.00</td>\n",
       "      <td>0.01</td>\n",
       "      <td>0.00</td>\n",
       "      <td>0.0</td>\n",
       "      <td>0.0</td>\n",
       "      <td>No_Rating</td>\n",
       "      <td>0.01</td>\n",
       "    </tr>\n",
       "    <tr>\n",
       "      <th>1686</th>\n",
       "      <td>Winning Post 8 2016</td>\n",
       "      <td>PSV</td>\n",
       "      <td>2016.0</td>\n",
       "      <td>Simulation</td>\n",
       "      <td>0.00</td>\n",
       "      <td>0.00</td>\n",
       "      <td>0.01</td>\n",
       "      <td>0.00</td>\n",
       "      <td>0.0</td>\n",
       "      <td>0.0</td>\n",
       "      <td>No_Rating</td>\n",
       "      <td>0.01</td>\n",
       "    </tr>\n",
       "  </tbody>\n",
       "</table>\n",
       "<p>1687 rows × 12 columns</p>\n",
       "</div>"
      ],
      "text/plain": [
       "                                           name platform  year_of_release  \\\n",
       "0                     Call of Duty: Black Ops 3      PS4           2015.0   \n",
       "1                            Grand Theft Auto V      PS4           2014.0   \n",
       "2     Pokemon Omega Ruby/Pokemon Alpha Sapphire      3DS           2014.0   \n",
       "3                                       FIFA 16      PS4           2015.0   \n",
       "4                  Star Wars Battlefront (2015)      PS4           2015.0   \n",
       "...                                         ...      ...              ...   \n",
       "1682                           Strawberry Nauts      PSV           2016.0   \n",
       "1683                           Aiyoku no Eustia      PSV           2014.0   \n",
       "1684              Samurai Warriors: Sanada Maru      PS3           2016.0   \n",
       "1685                    Haitaka no Psychedelica      PSV           2016.0   \n",
       "1686                        Winning Post 8 2016      PSV           2016.0   \n",
       "\n",
       "             genre  na_sales  eu_sales  jp_sales  other_sales  critic_score  \\\n",
       "0          Shooter      6.03      5.86      0.36         2.38           0.0   \n",
       "1           Action      3.96      6.31      0.38         1.97          97.0   \n",
       "2     Role-Playing      4.35      3.49      3.10         0.74           0.0   \n",
       "3           Sports      1.12      6.12      0.06         1.28          82.0   \n",
       "4          Shooter      2.99      3.49      0.22         1.28           0.0   \n",
       "...            ...       ...       ...       ...          ...           ...   \n",
       "1682     Adventure      0.00      0.00      0.01         0.00           0.0   \n",
       "1683          Misc      0.00      0.00      0.01         0.00           0.0   \n",
       "1684        Action      0.00      0.00      0.01         0.00           0.0   \n",
       "1685     Adventure      0.00      0.00      0.01         0.00           0.0   \n",
       "1686    Simulation      0.00      0.00      0.01         0.00           0.0   \n",
       "\n",
       "      user_score     rating  total_sales  \n",
       "0            0.0  No_Rating        14.63  \n",
       "1            8.3          M        12.62  \n",
       "2            0.0  No_Rating        11.68  \n",
       "3            4.3          E         8.58  \n",
       "4            0.0  No_Rating         7.98  \n",
       "...          ...        ...          ...  \n",
       "1682         0.0  No_Rating         0.01  \n",
       "1683         0.0  No_Rating         0.01  \n",
       "1684         0.0  No_Rating         0.01  \n",
       "1685         0.0  No_Rating         0.01  \n",
       "1686         0.0  No_Rating         0.01  \n",
       "\n",
       "[1687 rows x 12 columns]"
      ]
     },
     "execution_count": 32,
     "metadata": {},
     "output_type": "execute_result"
    }
   ],
   "source": [
    "data_2"
   ]
  },
  {
   "cell_type": "markdown",
   "metadata": {},
   "source": [
    "Итого в нашем распоряжении для анализа 1687 игр с 2014 по 2016 год"
   ]
  },
  {
   "cell_type": "markdown",
   "metadata": {},
   "source": [
    "### Проанализируем изменения продаж по платформам за актуальный период"
   ]
  },
  {
   "cell_type": "code",
   "execution_count": 33,
   "metadata": {
    "scrolled": true
   },
   "outputs": [
    {
     "data": {
      "text/html": [
       "<div>\n",
       "<style scoped>\n",
       "    .dataframe tbody tr th:only-of-type {\n",
       "        vertical-align: middle;\n",
       "    }\n",
       "\n",
       "    .dataframe tbody tr th {\n",
       "        vertical-align: top;\n",
       "    }\n",
       "\n",
       "    .dataframe thead th {\n",
       "        text-align: right;\n",
       "    }\n",
       "</style>\n",
       "<table border=\"1\" class=\"dataframe\">\n",
       "  <thead>\n",
       "    <tr style=\"text-align: right;\">\n",
       "      <th></th>\n",
       "      <th>year_of_release</th>\n",
       "      <th>platform</th>\n",
       "      <th>количество</th>\n",
       "    </tr>\n",
       "  </thead>\n",
       "  <tbody>\n",
       "    <tr>\n",
       "      <th>0</th>\n",
       "      <td>2014.0</td>\n",
       "      <td>3DS</td>\n",
       "      <td>80</td>\n",
       "    </tr>\n",
       "    <tr>\n",
       "      <th>1</th>\n",
       "      <td>2014.0</td>\n",
       "      <td>PC</td>\n",
       "      <td>47</td>\n",
       "    </tr>\n",
       "    <tr>\n",
       "      <th>2</th>\n",
       "      <td>2014.0</td>\n",
       "      <td>PS3</td>\n",
       "      <td>108</td>\n",
       "    </tr>\n",
       "    <tr>\n",
       "      <th>3</th>\n",
       "      <td>2014.0</td>\n",
       "      <td>PS4</td>\n",
       "      <td>74</td>\n",
       "    </tr>\n",
       "    <tr>\n",
       "      <th>4</th>\n",
       "      <td>2014.0</td>\n",
       "      <td>PSP</td>\n",
       "      <td>10</td>\n",
       "    </tr>\n",
       "    <tr>\n",
       "      <th>5</th>\n",
       "      <td>2014.0</td>\n",
       "      <td>PSV</td>\n",
       "      <td>100</td>\n",
       "    </tr>\n",
       "    <tr>\n",
       "      <th>6</th>\n",
       "      <td>2014.0</td>\n",
       "      <td>Wii</td>\n",
       "      <td>6</td>\n",
       "    </tr>\n",
       "    <tr>\n",
       "      <th>7</th>\n",
       "      <td>2014.0</td>\n",
       "      <td>WiiU</td>\n",
       "      <td>31</td>\n",
       "    </tr>\n",
       "    <tr>\n",
       "      <th>8</th>\n",
       "      <td>2014.0</td>\n",
       "      <td>X360</td>\n",
       "      <td>63</td>\n",
       "    </tr>\n",
       "    <tr>\n",
       "      <th>9</th>\n",
       "      <td>2014.0</td>\n",
       "      <td>XOne</td>\n",
       "      <td>60</td>\n",
       "    </tr>\n",
       "    <tr>\n",
       "      <th>10</th>\n",
       "      <td>2015.0</td>\n",
       "      <td>3DS</td>\n",
       "      <td>86</td>\n",
       "    </tr>\n",
       "    <tr>\n",
       "      <th>11</th>\n",
       "      <td>2015.0</td>\n",
       "      <td>PC</td>\n",
       "      <td>50</td>\n",
       "    </tr>\n",
       "    <tr>\n",
       "      <th>12</th>\n",
       "      <td>2015.0</td>\n",
       "      <td>PS3</td>\n",
       "      <td>73</td>\n",
       "    </tr>\n",
       "    <tr>\n",
       "      <th>13</th>\n",
       "      <td>2015.0</td>\n",
       "      <td>PS4</td>\n",
       "      <td>137</td>\n",
       "    </tr>\n",
       "    <tr>\n",
       "      <th>14</th>\n",
       "      <td>2015.0</td>\n",
       "      <td>PSP</td>\n",
       "      <td>3</td>\n",
       "    </tr>\n",
       "    <tr>\n",
       "      <th>15</th>\n",
       "      <td>2015.0</td>\n",
       "      <td>PSV</td>\n",
       "      <td>110</td>\n",
       "    </tr>\n",
       "    <tr>\n",
       "      <th>16</th>\n",
       "      <td>2015.0</td>\n",
       "      <td>Wii</td>\n",
       "      <td>4</td>\n",
       "    </tr>\n",
       "    <tr>\n",
       "      <th>17</th>\n",
       "      <td>2015.0</td>\n",
       "      <td>WiiU</td>\n",
       "      <td>28</td>\n",
       "    </tr>\n",
       "    <tr>\n",
       "      <th>18</th>\n",
       "      <td>2015.0</td>\n",
       "      <td>X360</td>\n",
       "      <td>35</td>\n",
       "    </tr>\n",
       "    <tr>\n",
       "      <th>19</th>\n",
       "      <td>2015.0</td>\n",
       "      <td>XOne</td>\n",
       "      <td>80</td>\n",
       "    </tr>\n",
       "    <tr>\n",
       "      <th>20</th>\n",
       "      <td>2016.0</td>\n",
       "      <td>3DS</td>\n",
       "      <td>46</td>\n",
       "    </tr>\n",
       "    <tr>\n",
       "      <th>21</th>\n",
       "      <td>2016.0</td>\n",
       "      <td>PC</td>\n",
       "      <td>54</td>\n",
       "    </tr>\n",
       "    <tr>\n",
       "      <th>22</th>\n",
       "      <td>2016.0</td>\n",
       "      <td>PS3</td>\n",
       "      <td>38</td>\n",
       "    </tr>\n",
       "    <tr>\n",
       "      <th>23</th>\n",
       "      <td>2016.0</td>\n",
       "      <td>PS4</td>\n",
       "      <td>164</td>\n",
       "    </tr>\n",
       "    <tr>\n",
       "      <th>24</th>\n",
       "      <td>2016.0</td>\n",
       "      <td>PSV</td>\n",
       "      <td>85</td>\n",
       "    </tr>\n",
       "    <tr>\n",
       "      <th>25</th>\n",
       "      <td>2016.0</td>\n",
       "      <td>Wii</td>\n",
       "      <td>1</td>\n",
       "    </tr>\n",
       "    <tr>\n",
       "      <th>26</th>\n",
       "      <td>2016.0</td>\n",
       "      <td>WiiU</td>\n",
       "      <td>14</td>\n",
       "    </tr>\n",
       "    <tr>\n",
       "      <th>27</th>\n",
       "      <td>2016.0</td>\n",
       "      <td>X360</td>\n",
       "      <td>13</td>\n",
       "    </tr>\n",
       "    <tr>\n",
       "      <th>28</th>\n",
       "      <td>2016.0</td>\n",
       "      <td>XOne</td>\n",
       "      <td>87</td>\n",
       "    </tr>\n",
       "  </tbody>\n",
       "</table>\n",
       "</div>"
      ],
      "text/plain": [
       "    year_of_release platform  количество\n",
       "0            2014.0      3DS          80\n",
       "1            2014.0       PC          47\n",
       "2            2014.0      PS3         108\n",
       "3            2014.0      PS4          74\n",
       "4            2014.0      PSP          10\n",
       "5            2014.0      PSV         100\n",
       "6            2014.0      Wii           6\n",
       "7            2014.0     WiiU          31\n",
       "8            2014.0     X360          63\n",
       "9            2014.0     XOne          60\n",
       "10           2015.0      3DS          86\n",
       "11           2015.0       PC          50\n",
       "12           2015.0      PS3          73\n",
       "13           2015.0      PS4         137\n",
       "14           2015.0      PSP           3\n",
       "15           2015.0      PSV         110\n",
       "16           2015.0      Wii           4\n",
       "17           2015.0     WiiU          28\n",
       "18           2015.0     X360          35\n",
       "19           2015.0     XOne          80\n",
       "20           2016.0      3DS          46\n",
       "21           2016.0       PC          54\n",
       "22           2016.0      PS3          38\n",
       "23           2016.0      PS4         164\n",
       "24           2016.0      PSV          85\n",
       "25           2016.0      Wii           1\n",
       "26           2016.0     WiiU          14\n",
       "27           2016.0     X360          13\n",
       "28           2016.0     XOne          87"
      ]
     },
     "execution_count": 33,
     "metadata": {},
     "output_type": "execute_result"
    }
   ],
   "source": [
    "data_grouped_number_games = data_2.groupby(['year_of_release','platform']).agg(количество=('year_of_release','count')).reset_index()\n",
    "data_grouped_number_games"
   ]
  },
  {
   "cell_type": "code",
   "execution_count": 34,
   "metadata": {},
   "outputs": [
    {
     "data": {
      "image/png": "[encoded data removed]",
      "text/plain": [
       "<Figure size 1080x720 with 1 Axes>"
      ]
     },
     "metadata": {
      "needs_background": "light"
     },
     "output_type": "display_data"
    }
   ],
   "source": [
    "plt.figure(figsize=(15, 10))\n",
    "sns.barplot(x='platform',y='количество', data = data_grouped_number_games, hue = 'year_of_release')\n",
    "plt.legend(loc='upper right')\n",
    "None"
   ]
  },
  {
   "cell_type": "markdown",
   "metadata": {},
   "source": [
    "У всех платформ количество игр падают кроме PC, PS4, Xbox One. Наибольшее количество игр и наибольший прирост имеет платформа PS4"
   ]
  },
  {
   "cell_type": "code",
   "execution_count": 35,
   "metadata": {},
   "outputs": [
    {
     "data": {
      "image/png": "[encoded data removed]",
      "text/plain": [
       "<Figure size 1080x720 with 1 Axes>"
      ]
     },
     "metadata": {
      "needs_background": "light"
     },
     "output_type": "display_data"
    }
   ],
   "source": [
    "data_grouped_total_sales = data_2.groupby(['year_of_release','platform']).agg(продажи=('total_sales','sum')).reset_index()\n",
    "plt.figure(figsize=(15, 10))\n",
    "sns.barplot(x='platform',y='продажи', data = data_grouped_total_sales, hue = 'year_of_release')\n",
    "plt.legend(loc='upper right')\n",
    "None"
   ]
  },
  {
   "cell_type": "markdown",
   "metadata": {},
   "source": [
    "У всех платформ общие продажи в упадке за 2016 год, но данные не полные и в полне может быть, что при полных данных будет большее количество чем в 2015. Наиболее успешная платформа в перспективе PS4, т.к. она имеет нибольший прирост за данный промежуток времени. Хорошие показатели еще у Xone,PC."
   ]
  },
  {
   "cell_type": "markdown",
   "metadata": {},
   "source": [
    "### Построю ящик с усами в разбивке по платформам"
   ]
  },
  {
   "cell_type": "code",
   "execution_count": 36,
   "metadata": {},
   "outputs": [
    {
     "data": {
      "text/plain": [
       "(0.0, 2.0)"
      ]
     },
     "execution_count": 36,
     "metadata": {},
     "output_type": "execute_result"
    },
    {
     "data": {
      "image/png": "[encoded data removed]",
      "text/plain": [
       "<Figure size 1080x1080 with 1 Axes>"
      ]
     },
     "metadata": {
      "needs_background": "light"
     },
     "output_type": "display_data"
    }
   ],
   "source": [
    "data_2.boxplot(column= 'total_sales', by = 'platform', figsize = (15,15))\n",
    "plt.ylim(0,2)"
   ]
  },
  {
   "cell_type": "markdown",
   "metadata": {},
   "source": [
    "Большое количество выбросов говорит, о очень большом количестве продуктов с очень маленькими продажами. Исходя из этого графика делаем вывод, что самые удачные платформы это Wii, PS4, X360, XOne, WiiU"
   ]
  },
  {
   "cell_type": "markdown",
   "metadata": {},
   "source": [
    "### Построю диаграмму рассеивания по отзывам и продажам по платформам и проанализирую корреляции"
   ]
  },
  {
   "cell_type": "markdown",
   "metadata": {},
   "source": [
    "В результате предыдущих исследований останавливаемся на платформах PC, PS4, Xone."
   ]
  },
  {
   "cell_type": "markdown",
   "metadata": {},
   "source": [
    "Чтобы нули в столбцах **critic_score** и **user_score** не вносили искажения в исследования корреляций, создам новый ДФ без данных строк."
   ]
  },
  {
   "cell_type": "code",
   "execution_count": 37,
   "metadata": {},
   "outputs": [],
   "source": [
    "data_2_no_zero = data_2.loc[(data_2['critic_score'] != 0) & (data_2['user_score'] != 0)]"
   ]
  },
  {
   "cell_type": "markdown",
   "metadata": {},
   "source": [
    "**Для PC**"
   ]
  },
  {
   "cell_type": "code",
   "execution_count": 38,
   "metadata": {},
   "outputs": [
    {
     "data": {
      "text/html": [
       "<div>\n",
       "<style scoped>\n",
       "    .dataframe tbody tr th:only-of-type {\n",
       "        vertical-align: middle;\n",
       "    }\n",
       "\n",
       "    .dataframe tbody tr th {\n",
       "        vertical-align: top;\n",
       "    }\n",
       "\n",
       "    .dataframe thead th {\n",
       "        text-align: right;\n",
       "    }\n",
       "</style>\n",
       "<table border=\"1\" class=\"dataframe\">\n",
       "  <thead>\n",
       "    <tr style=\"text-align: right;\">\n",
       "      <th></th>\n",
       "      <th>critic_score</th>\n",
       "      <th>user_score</th>\n",
       "      <th>total_sales</th>\n",
       "    </tr>\n",
       "  </thead>\n",
       "  <tbody>\n",
       "    <tr>\n",
       "      <th>critic_score</th>\n",
       "      <td>1.000000</td>\n",
       "      <td>0.466099</td>\n",
       "      <td>0.172061</td>\n",
       "    </tr>\n",
       "    <tr>\n",
       "      <th>user_score</th>\n",
       "      <td>0.466099</td>\n",
       "      <td>1.000000</td>\n",
       "      <td>-0.089974</td>\n",
       "    </tr>\n",
       "    <tr>\n",
       "      <th>total_sales</th>\n",
       "      <td>0.172061</td>\n",
       "      <td>-0.089974</td>\n",
       "      <td>1.000000</td>\n",
       "    </tr>\n",
       "  </tbody>\n",
       "</table>\n",
       "</div>"
      ],
      "text/plain": [
       "              critic_score  user_score  total_sales\n",
       "critic_score      1.000000    0.466099     0.172061\n",
       "user_score        0.466099    1.000000    -0.089974\n",
       "total_sales       0.172061   -0.089974     1.000000"
      ]
     },
     "execution_count": 38,
     "metadata": {},
     "output_type": "execute_result"
    },
    {
     "data": {
      "image/png": "[encoded data removed]",
      "text/plain": [
       "<Figure size 1080x720 with 9 Axes>"
      ]
     },
     "metadata": {
      "needs_background": "light"
     },
     "output_type": "display_data"
    }
   ],
   "source": [
    "correlation_list = list(['critic_score','user_score','total_sales'])\n",
    "pd.plotting.scatter_matrix(data_2_no_zero.loc[data_2_no_zero['platform'] == 'PC'][correlation_list], figsize=(15, 10))\n",
    "None\n",
    "data_2_no_zero.loc[data_2_no_zero['platform'] == 'PC'][correlation_list].corr()"
   ]
  },
  {
   "cell_type": "markdown",
   "metadata": {},
   "source": [
    "**Для PS4**"
   ]
  },
  {
   "cell_type": "code",
   "execution_count": 39,
   "metadata": {},
   "outputs": [
    {
     "data": {
      "text/html": [
       "<div>\n",
       "<style scoped>\n",
       "    .dataframe tbody tr th:only-of-type {\n",
       "        vertical-align: middle;\n",
       "    }\n",
       "\n",
       "    .dataframe tbody tr th {\n",
       "        vertical-align: top;\n",
       "    }\n",
       "\n",
       "    .dataframe thead th {\n",
       "        text-align: right;\n",
       "    }\n",
       "</style>\n",
       "<table border=\"1\" class=\"dataframe\">\n",
       "  <thead>\n",
       "    <tr style=\"text-align: right;\">\n",
       "      <th></th>\n",
       "      <th>critic_score</th>\n",
       "      <th>user_score</th>\n",
       "      <th>total_sales</th>\n",
       "    </tr>\n",
       "  </thead>\n",
       "  <tbody>\n",
       "    <tr>\n",
       "      <th>critic_score</th>\n",
       "      <td>1.000000</td>\n",
       "      <td>0.546434</td>\n",
       "      <td>0.401903</td>\n",
       "    </tr>\n",
       "    <tr>\n",
       "      <th>user_score</th>\n",
       "      <td>0.546434</td>\n",
       "      <td>1.000000</td>\n",
       "      <td>-0.043186</td>\n",
       "    </tr>\n",
       "    <tr>\n",
       "      <th>total_sales</th>\n",
       "      <td>0.401903</td>\n",
       "      <td>-0.043186</td>\n",
       "      <td>1.000000</td>\n",
       "    </tr>\n",
       "  </tbody>\n",
       "</table>\n",
       "</div>"
      ],
      "text/plain": [
       "              critic_score  user_score  total_sales\n",
       "critic_score      1.000000    0.546434     0.401903\n",
       "user_score        0.546434    1.000000    -0.043186\n",
       "total_sales       0.401903   -0.043186     1.000000"
      ]
     },
     "execution_count": 39,
     "metadata": {},
     "output_type": "execute_result"
    },
    {
     "data": {
      "image/png": "[encoded data removed]",
      "text/plain": [
       "<Figure size 1080x720 with 9 Axes>"
      ]
     },
     "metadata": {
      "needs_background": "light"
     },
     "output_type": "display_data"
    }
   ],
   "source": [
    "pd.plotting.scatter_matrix(data_2_no_zero.loc[data_2_no_zero['platform'] == 'PS4'][correlation_list], figsize=(15, 10))\n",
    "None\n",
    "data_2_no_zero.loc[data_2_no_zero['platform'] == 'PS4'][correlation_list].corr()"
   ]
  },
  {
   "cell_type": "markdown",
   "metadata": {},
   "source": [
    "**Для XOne**"
   ]
  },
  {
   "cell_type": "code",
   "execution_count": 40,
   "metadata": {},
   "outputs": [
    {
     "data": {
      "text/html": [
       "<div>\n",
       "<style scoped>\n",
       "    .dataframe tbody tr th:only-of-type {\n",
       "        vertical-align: middle;\n",
       "    }\n",
       "\n",
       "    .dataframe tbody tr th {\n",
       "        vertical-align: top;\n",
       "    }\n",
       "\n",
       "    .dataframe thead th {\n",
       "        text-align: right;\n",
       "    }\n",
       "</style>\n",
       "<table border=\"1\" class=\"dataframe\">\n",
       "  <thead>\n",
       "    <tr style=\"text-align: right;\">\n",
       "      <th></th>\n",
       "      <th>critic_score</th>\n",
       "      <th>user_score</th>\n",
       "      <th>total_sales</th>\n",
       "    </tr>\n",
       "  </thead>\n",
       "  <tbody>\n",
       "    <tr>\n",
       "      <th>critic_score</th>\n",
       "      <td>1.000000</td>\n",
       "      <td>0.440977</td>\n",
       "      <td>0.422112</td>\n",
       "    </tr>\n",
       "    <tr>\n",
       "      <th>user_score</th>\n",
       "      <td>0.440977</td>\n",
       "      <td>1.000000</td>\n",
       "      <td>-0.091734</td>\n",
       "    </tr>\n",
       "    <tr>\n",
       "      <th>total_sales</th>\n",
       "      <td>0.422112</td>\n",
       "      <td>-0.091734</td>\n",
       "      <td>1.000000</td>\n",
       "    </tr>\n",
       "  </tbody>\n",
       "</table>\n",
       "</div>"
      ],
      "text/plain": [
       "              critic_score  user_score  total_sales\n",
       "critic_score      1.000000    0.440977     0.422112\n",
       "user_score        0.440977    1.000000    -0.091734\n",
       "total_sales       0.422112   -0.091734     1.000000"
      ]
     },
     "execution_count": 40,
     "metadata": {},
     "output_type": "execute_result"
    },
    {
     "data": {
      "image/png": "[encoded data removed]",
      "text/plain": [
       "<Figure size 1080x720 with 9 Axes>"
      ]
     },
     "metadata": {
      "needs_background": "light"
     },
     "output_type": "display_data"
    }
   ],
   "source": [
    "pd.plotting.scatter_matrix(data_2_no_zero.loc[data_2_no_zero['platform'] == 'XOne'][correlation_list], figsize=(15, 10))\n",
    "None\n",
    "data_2_no_zero.loc[data_2_no_zero['platform'] == 'XOne'][correlation_list].corr()"
   ]
  },
  {
   "cell_type": "code",
   "execution_count": 41,
   "metadata": {},
   "outputs": [
    {
     "data": {
      "text/plain": [
       "critic_score    0.172061\n",
       "user_score     -0.089974\n",
       "total_sales     1.000000\n",
       "Name: total_sales, dtype: float64"
      ]
     },
     "execution_count": 41,
     "metadata": {},
     "output_type": "execute_result"
    }
   ],
   "source": [
    "data_2_no_zero.loc[data_2_no_zero['platform'] == 'PC'][correlation_list].corr().iloc[2]"
   ]
  },
  {
   "cell_type": "code",
   "execution_count": 42,
   "metadata": {},
   "outputs": [
    {
     "data": {
      "text/plain": [
       "critic_score    0.401903\n",
       "user_score     -0.043186\n",
       "total_sales     1.000000\n",
       "Name: total_sales, dtype: float64"
      ]
     },
     "execution_count": 42,
     "metadata": {},
     "output_type": "execute_result"
    }
   ],
   "source": [
    "data_2_no_zero.loc[data_2_no_zero['platform'] == 'PS4'][correlation_list].corr().iloc[2]"
   ]
  },
  {
   "cell_type": "code",
   "execution_count": 43,
   "metadata": {},
   "outputs": [
    {
     "data": {
      "text/plain": [
       "critic_score    0.422112\n",
       "user_score     -0.091734\n",
       "total_sales     1.000000\n",
       "Name: total_sales, dtype: float64"
      ]
     },
     "execution_count": 43,
     "metadata": {},
     "output_type": "execute_result"
    }
   ],
   "source": [
    "data_2_no_zero.loc[data_2_no_zero['platform'] == 'XOne'][correlation_list].corr().iloc[2]"
   ]
  },
  {
   "cell_type": "markdown",
   "metadata": {},
   "source": [
    "Итого: корреляция между общими продажами и отзывами пользователей отсутствует. Корреляция между оценками критиков на ПС и продажами очень слабая, на PS4 и XOne средняя. Следовательно, на платформах PS4,XOne чем выше оценки критиков, тем выше продажи."
   ]
  },
  {
   "cell_type": "markdown",
   "metadata": {},
   "source": [
    "### Нахожу популярный жанр"
   ]
  },
  {
   "cell_type": "code",
   "execution_count": 44,
   "metadata": {},
   "outputs": [
    {
     "data": {
      "text/html": [
       "<style  type=\"text/css\" >\n",
       "#T_b7fc2_row0_col0,#T_b7fc2_row0_col1{\n",
       "            background-color:  #023858;\n",
       "            color:  #f1f1f1;\n",
       "        }#T_b7fc2_row1_col0{\n",
       "            background-color:  #80aed2;\n",
       "            color:  #000000;\n",
       "        }#T_b7fc2_row1_col1{\n",
       "            background-color:  #bcc7e1;\n",
       "            color:  #000000;\n",
       "        }#T_b7fc2_row2_col0{\n",
       "            background-color:  #bdc8e1;\n",
       "            color:  #000000;\n",
       "        }#T_b7fc2_row2_col1{\n",
       "            background-color:  #d5d5e8;\n",
       "            color:  #000000;\n",
       "        }#T_b7fc2_row3_col0{\n",
       "            background-color:  #bfc9e1;\n",
       "            color:  #000000;\n",
       "        }#T_b7fc2_row3_col1{\n",
       "            background-color:  #dcdaeb;\n",
       "            color:  #000000;\n",
       "        }#T_b7fc2_row4_col0{\n",
       "            background-color:  #c1cae2;\n",
       "            color:  #000000;\n",
       "        }#T_b7fc2_row4_col1,#T_b7fc2_row8_col0{\n",
       "            background-color:  #e3e0ee;\n",
       "            color:  #000000;\n",
       "        }#T_b7fc2_row5_col0{\n",
       "            background-color:  #d2d2e7;\n",
       "            color:  #000000;\n",
       "        }#T_b7fc2_row5_col1,#T_b7fc2_row6_col1,#T_b7fc2_row7_col1{\n",
       "            background-color:  #ede7f2;\n",
       "            color:  #000000;\n",
       "        }#T_b7fc2_row6_col0{\n",
       "            background-color:  #dedcec;\n",
       "            color:  #000000;\n",
       "        }#T_b7fc2_row7_col0{\n",
       "            background-color:  #e0dded;\n",
       "            color:  #000000;\n",
       "        }#T_b7fc2_row8_col1{\n",
       "            background-color:  #e8e4f0;\n",
       "            color:  #000000;\n",
       "        }#T_b7fc2_row9_col0{\n",
       "            background-color:  #f8f1f8;\n",
       "            color:  #000000;\n",
       "        }#T_b7fc2_row9_col1{\n",
       "            background-color:  #fbf3f9;\n",
       "            color:  #000000;\n",
       "        }#T_b7fc2_row10_col0{\n",
       "            background-color:  #fef6fa;\n",
       "            color:  #000000;\n",
       "        }#T_b7fc2_row10_col1{\n",
       "            background-color:  #f6eff7;\n",
       "            color:  #000000;\n",
       "        }#T_b7fc2_row11_col0,#T_b7fc2_row11_col1{\n",
       "            background-color:  #fff7fb;\n",
       "            color:  #000000;\n",
       "        }</style><table id=\"T_b7fc2_\" ><thead>    <tr>        <th class=\"blank level0\" ></th>        <th class=\"col_heading level0 col0\" >продажи_средние</th>        <th class=\"col_heading level0 col1\" >продажи_медианные</th>    </tr>    <tr>        <th class=\"index_name level0\" >genre</th>        <th class=\"blank\" ></th>        <th class=\"blank\" ></th>    </tr></thead><tbody>\n",
       "                <tr>\n",
       "                        <th id=\"T_b7fc2_level0_row0\" class=\"row_heading level0 row0\" >Shooter</th>\n",
       "                        <td id=\"T_b7fc2_row0_col0\" class=\"data row0 col0\" >1.335469</td>\n",
       "                        <td id=\"T_b7fc2_row0_col1\" class=\"data row0 col1\" >0.515000</td>\n",
       "            </tr>\n",
       "            <tr>\n",
       "                        <th id=\"T_b7fc2_level0_row1\" class=\"row_heading level0 row1\" >Sports</th>\n",
       "                        <td id=\"T_b7fc2_row1_col0\" class=\"data row1 col0\" >0.680000</td>\n",
       "                        <td id=\"T_b7fc2_row1_col1\" class=\"data row1 col1\" >0.180000</td>\n",
       "            </tr>\n",
       "            <tr>\n",
       "                        <th id=\"T_b7fc2_level0_row2\" class=\"row_heading level0 row2\" >Platform</th>\n",
       "                        <td id=\"T_b7fc2_row2_col0\" class=\"data row2 col0\" >0.476053</td>\n",
       "                        <td id=\"T_b7fc2_row2_col1\" class=\"data row2 col1\" >0.140000</td>\n",
       "            </tr>\n",
       "            <tr>\n",
       "                        <th id=\"T_b7fc2_level0_row3\" class=\"row_heading level0 row3\" >Fighting</th>\n",
       "                        <td id=\"T_b7fc2_row3_col0\" class=\"data row3 col0\" >0.470333</td>\n",
       "                        <td id=\"T_b7fc2_row3_col1\" class=\"data row3 col1\" >0.125000</td>\n",
       "            </tr>\n",
       "            <tr>\n",
       "                        <th id=\"T_b7fc2_level0_row4\" class=\"row_heading level0 row4\" >Role-Playing</th>\n",
       "                        <td id=\"T_b7fc2_row4_col0\" class=\"data row4 col0\" >0.459005</td>\n",
       "                        <td id=\"T_b7fc2_row4_col1\" class=\"data row4 col1\" >0.110000</td>\n",
       "            </tr>\n",
       "            <tr>\n",
       "                        <th id=\"T_b7fc2_level0_row5\" class=\"row_heading level0 row5\" >Racing</th>\n",
       "                        <td id=\"T_b7fc2_row5_col0\" class=\"data row5 col0\" >0.398841</td>\n",
       "                        <td id=\"T_b7fc2_row5_col1\" class=\"data row5 col1\" >0.090000</td>\n",
       "            </tr>\n",
       "            <tr>\n",
       "                        <th id=\"T_b7fc2_level0_row6\" class=\"row_heading level0 row6\" >Misc</th>\n",
       "                        <td id=\"T_b7fc2_row6_col0\" class=\"data row6 col0\" >0.332301</td>\n",
       "                        <td id=\"T_b7fc2_row6_col1\" class=\"data row6 col1\" >0.090000</td>\n",
       "            </tr>\n",
       "            <tr>\n",
       "                        <th id=\"T_b7fc2_level0_row7\" class=\"row_heading level0 row7\" >Action</th>\n",
       "                        <td id=\"T_b7fc2_row7_col0\" class=\"data row7 col0\" >0.319854</td>\n",
       "                        <td id=\"T_b7fc2_row7_col1\" class=\"data row7 col1\" >0.090000</td>\n",
       "            </tr>\n",
       "            <tr>\n",
       "                        <th id=\"T_b7fc2_level0_row8\" class=\"row_heading level0 row8\" >Simulation</th>\n",
       "                        <td id=\"T_b7fc2_row8_col0\" class=\"data row8 col0\" >0.298409</td>\n",
       "                        <td id=\"T_b7fc2_row8_col1\" class=\"data row8 col1\" >0.100000</td>\n",
       "            </tr>\n",
       "            <tr>\n",
       "                        <th id=\"T_b7fc2_level0_row9\" class=\"row_heading level0 row9\" >Puzzle</th>\n",
       "                        <td id=\"T_b7fc2_row9_col0\" class=\"data row9 col0\" >0.157857</td>\n",
       "                        <td id=\"T_b7fc2_row9_col1\" class=\"data row9 col1\" >0.045000</td>\n",
       "            </tr>\n",
       "            <tr>\n",
       "                        <th id=\"T_b7fc2_level0_row10\" class=\"row_heading level0 row10\" >Strategy</th>\n",
       "                        <td id=\"T_b7fc2_row10_col0\" class=\"data row10 col0\" >0.107027</td>\n",
       "                        <td id=\"T_b7fc2_row10_col1\" class=\"data row10 col1\" >0.060000</td>\n",
       "            </tr>\n",
       "            <tr>\n",
       "                        <th id=\"T_b7fc2_level0_row11\" class=\"row_heading level0 row11\" >Adventure</th>\n",
       "                        <td id=\"T_b7fc2_row11_col0\" class=\"data row11 col0\" >0.094865</td>\n",
       "                        <td id=\"T_b7fc2_row11_col1\" class=\"data row11 col1\" >0.030000</td>\n",
       "            </tr>\n",
       "    </tbody></table>"
      ],
      "text/plain": [
       "<pandas.io.formats.style.Styler at 0x7f2ee0a916d0>"
      ]
     },
     "execution_count": 44,
     "metadata": {},
     "output_type": "execute_result"
    }
   ],
   "source": [
    "data_2.groupby('genre').agg(продажи_средние=('total_sales','mean'), продажи_медианные=('total_sales','median')) \\\n",
    "    .sort_values(by = 'продажи_средние', ascending = False) \\\n",
    "    .style.background_gradient(subset=('продажи_средние')). background_gradient(subset=('продажи_медианные'))"
   ]
  },
  {
   "cell_type": "markdown",
   "metadata": {},
   "source": [
    "Можно сделать вывод, что наилучшие продажи показывает жанр Shooter, затем Sports, затем Platform.\n",
    "Самые плохие результаты показывают Adventure, Puzzle, Strategy."
   ]
  },
  {
   "cell_type": "markdown",
   "metadata": {},
   "source": [
    "## Нахожу портрет каждого региона"
   ]
  },
  {
   "cell_type": "markdown",
   "metadata": {},
   "source": [
    "### Регион NA"
   ]
  },
  {
   "cell_type": "code",
   "execution_count": 45,
   "metadata": {},
   "outputs": [
    {
     "data": {
      "image/png": "[encoded data removed]",
      "text/plain": [
       "<Figure size 1080x720 with 1 Axes>"
      ]
     },
     "metadata": {
      "needs_background": "light"
     },
     "output_type": "display_data"
    }
   ],
   "source": [
    "data_2.groupby('platform')['na_sales'].sum().sort_values(ascending=False).head(5) \\\n",
    "    .plot(kind = 'bar', title = 'Популярные платформы в NA регионе', xlabel = 'Платформа', ylabel = 'Количество игр', figsize = (15,10))\n",
    "None"
   ]
  },
  {
   "cell_type": "code",
   "execution_count": 46,
   "metadata": {},
   "outputs": [
    {
     "data": {
      "image/png": "[encoded data removed]",
      "text/plain": [
       "<Figure size 1080x720 with 1 Axes>"
      ]
     },
     "metadata": {
      "needs_background": "light"
     },
     "output_type": "display_data"
    }
   ],
   "source": [
    "data_2.groupby('genre')['na_sales'].sum().sort_values(ascending=False).head(5) \\\n",
    "    .plot(kind = 'bar', title = 'Популярные жанры в NA регионе', xlabel = 'Платформа', ylabel = 'Количество игр', figsize = (15,10))\n",
    "None"
   ]
  },
  {
   "cell_type": "code",
   "execution_count": 47,
   "metadata": {},
   "outputs": [
    {
     "data": {
      "image/png": "[encoded data removed]",
      "text/plain": [
       "<Figure size 1080x720 with 1 Axes>"
      ]
     },
     "metadata": {
      "needs_background": "light"
     },
     "output_type": "display_data"
    }
   ],
   "source": [
    "data_2.groupby('rating')['na_sales'].sum().sort_values(ascending=False).head(5) \\\n",
    "    .plot(kind = 'bar', title = 'Популярные возрастные рейтинги в NA регионе', xlabel = 'Платформа', ylabel = 'Количество игр', figsize = (15,10))\n",
    "None"
   ]
  },
  {
   "cell_type": "markdown",
   "metadata": {},
   "source": [
    "Для региона Северная Америка наибольшие продажи имеют:\n",
    "- платформы PS4, XOne, X360, 3DS, PS3\n",
    "- жанры Shooter, Action, Sports, Role-Playing, Misc\n",
    "- рейтинг M, No_rating, E, T, E10"
   ]
  },
  {
   "cell_type": "markdown",
   "metadata": {},
   "source": [
    "### Регион EU"
   ]
  },
  {
   "cell_type": "code",
   "execution_count": 48,
   "metadata": {},
   "outputs": [
    {
     "data": {
      "image/png": "[encoded data removed]",
      "text/plain": [
       "<Figure size 1080x720 with 1 Axes>"
      ]
     },
     "metadata": {
      "needs_background": "light"
     },
     "output_type": "display_data"
    }
   ],
   "source": [
    "data_2.groupby('platform')['eu_sales'].sum().sort_values(ascending=False).head(5) \\\n",
    "    .plot(kind = 'bar', title = 'Популярные платформы в EU регионе', xlabel = 'Платформа', ylabel = 'Количество игр', figsize = (15,10))\n",
    "None"
   ]
  },
  {
   "cell_type": "code",
   "execution_count": 49,
   "metadata": {},
   "outputs": [
    {
     "data": {
      "image/png": "[encoded data removed]",
      "text/plain": [
       "<Figure size 1080x720 with 1 Axes>"
      ]
     },
     "metadata": {
      "needs_background": "light"
     },
     "output_type": "display_data"
    }
   ],
   "source": [
    "data_2.groupby('genre')['eu_sales'].sum().sort_values(ascending=False).head(5) \\\n",
    "    .plot(kind = 'bar', title = 'Популярные жанры в EU регионе', xlabel = 'Платформа', ylabel = 'Количество игр', figsize = (15,10))\n",
    "None"
   ]
  },
  {
   "cell_type": "code",
   "execution_count": 50,
   "metadata": {},
   "outputs": [
    {
     "data": {
      "image/png": "[encoded data removed]",
      "text/plain": [
       "<Figure size 1080x720 with 1 Axes>"
      ]
     },
     "metadata": {
      "needs_background": "light"
     },
     "output_type": "display_data"
    }
   ],
   "source": [
    "data_2.groupby('rating')['eu_sales'].sum().sort_values(ascending=False).head(5) \\\n",
    "    .plot(kind = 'bar', title = 'Популярные возрастные рейтинги в EU регионе', xlabel = 'Платформа', ylabel = 'Количество игр', figsize = (15,10))\n",
    "None"
   ]
  },
  {
   "cell_type": "markdown",
   "metadata": {},
   "source": [
    "Для региона Европа наибольшие продажи имеют:\n",
    "- плтформы PS4, XOne, PS3, PC, 3DS\n",
    "- жанры Action, Shooter, Sports, Role-Playing, Racing\n",
    "- рейтинг M, No_rating, E, T, E10"
   ]
  },
  {
   "cell_type": "markdown",
   "metadata": {},
   "source": [
    "### Регион JP"
   ]
  },
  {
   "cell_type": "code",
   "execution_count": 51,
   "metadata": {},
   "outputs": [
    {
     "data": {
      "image/png": "[encoded data removed]",
      "text/plain": [
       "<Figure size 1080x720 with 1 Axes>"
      ]
     },
     "metadata": {
      "needs_background": "light"
     },
     "output_type": "display_data"
    }
   ],
   "source": [
    "data_2.groupby('platform')['jp_sales'].sum().sort_values(ascending=False).head(5) \\\n",
    "    .plot(kind = 'bar', title = 'Популярные платформы в JP регионе', xlabel = 'Платформа', ylabel = 'Количество игр', figsize = (15,10))\n",
    "None"
   ]
  },
  {
   "cell_type": "code",
   "execution_count": 52,
   "metadata": {},
   "outputs": [
    {
     "data": {
      "image/png": "[encoded data removed]",
      "text/plain": [
       "<Figure size 1080x720 with 1 Axes>"
      ]
     },
     "metadata": {
      "needs_background": "light"
     },
     "output_type": "display_data"
    }
   ],
   "source": [
    "data_2.groupby('genre')['jp_sales'].sum().sort_values(ascending=False).head(5) \\\n",
    "    .plot(kind = 'bar', title = 'Популярные жанры в JP регионе', xlabel = 'Платформа', ylabel = 'Количество игр', figsize = (15,10))\n",
    "None"
   ]
  },
  {
   "cell_type": "code",
   "execution_count": 53,
   "metadata": {},
   "outputs": [
    {
     "data": {
      "image/png": "[encoded data removed]",
      "text/plain": [
       "<Figure size 1080x720 with 1 Axes>"
      ]
     },
     "metadata": {
      "needs_background": "light"
     },
     "output_type": "display_data"
    }
   ],
   "source": [
    "data_2.groupby('rating')['jp_sales'].sum().sort_values(ascending=False).head(5) \\\n",
    "    .plot(kind = 'bar', title = 'Популярные возрастные рейтинги в JP регионе', xlabel = 'Платформа', ylabel = 'Количество игр', figsize = (15,10))\n",
    "None"
   ]
  },
  {
   "cell_type": "markdown",
   "metadata": {},
   "source": [
    "Для региона Япония наибольшие продажи имеют:\n",
    "- платформы 3DS, PS4, PSV, PS3, WiiU\n",
    "- жанры Role-Playing, Action, Fighting, Misc, Shooter\n",
    "- рейтинг No-Rating, E, T, M, E10+\n",
    "\n",
    "Наличие такого количества No_Rating объясняет тем, что огромное количество игр создается только для внутренней аудитории, соответвенно иностранные агенства их не оценивают."
   ]
  },
  {
   "cell_type": "markdown",
   "metadata": {},
   "source": [
    "## Проверка гипотез"
   ]
  },
  {
   "cell_type": "markdown",
   "metadata": {},
   "source": [
    "Альфа взял 0.05, т.к. такое значение наиболее популярное. Тест провожу о равенстве средних двух генеральных совокупностей. Т.к. надо сравнить средние двух генеральных совокупностей)"
   ]
  },
  {
   "cell_type": "markdown",
   "metadata": {},
   "source": [
    "```\n",
    "H_0: Средние пользовательские рейтинги (User_Score) платформ Xbox One и PC одинаковые;\n",
    "Н_1: Средние пользовательские рейтинги (User_Score) платформ Xbox One и PC не одинаковые;\n",
    "```"
   ]
  },
  {
   "cell_type": "code",
   "execution_count": 54,
   "metadata": {},
   "outputs": [
    {
     "name": "stdout",
     "output_type": "stream",
     "text": [
      "0.1403785186826978\n",
      "Не получилось отвергнуть нулевую гипотезу\n"
     ]
    }
   ],
   "source": [
    "results = st.ttest_ind(\n",
    "    data_2_no_zero.loc[(data_2_no_zero['platform'] =='PC')]['user_score'], \n",
    "    data_2_no_zero.loc[(data_2_no_zero['platform'] =='XOne')]['user_score'], equal_var = False)\n",
    "# alpha = задайте значение уровня значимости\n",
    "alpha = 0.05\n",
    "# вывод значения p-value на экран \n",
    "print(results.pvalue)\n",
    "# условный оператор с выводом строки с ответом\n",
    "if results.pvalue < alpha:\n",
    "    print(\"Отвергаем нулевую гипотезу\")\n",
    "else:\n",
    "    print(\"Не получилось отвергнуть нулевую гипотезу\")"
   ]
  },
  {
   "cell_type": "markdown",
   "metadata": {},
   "source": [
    "Не получилось отвергнуть гипотезу H_0: Средние пользовательские рейтинги (User_Score) платформ Xbox One и PC одинаковые, следовательна она верна."
   ]
  },
  {
   "cell_type": "markdown",
   "metadata": {},
   "source": [
    "```\n",
    "H_0: Средние пользовательские рейтинги жанров Action (англ. «действие», экшен-игры) и Sports (англ. «спортивные соревнования») одинаковые;\n",
    "Н_1: Средние пользовательские рейтинги жанров Action (англ. «действие», экшен-игры) и Sports (англ. «спортивные соревнования») не одинаковые;\n",
    "```"
   ]
  },
  {
   "cell_type": "code",
   "execution_count": 55,
   "metadata": {},
   "outputs": [
    {
     "name": "stdout",
     "output_type": "stream",
     "text": [
      "8.327612976032047e-09\n",
      "Отвергаем нулевую гипотезу\n"
     ]
    }
   ],
   "source": [
    "results = st.ttest_ind(\n",
    "    data_2_no_zero.loc[(data_2_no_zero['genre'] =='Action')]['user_score'], \n",
    "    data_2_no_zero.loc[(data_2_no_zero['genre'] =='Sports')]['user_score'], equal_var = False)\n",
    "# alpha = задайте значение уровня значимости\n",
    "alpha = 0.05\n",
    "# вывод значения p-value на экран \n",
    "print(results.pvalue)\n",
    "# условный оператор с выводом строки с ответом\n",
    "if results.pvalue < alpha:\n",
    "    print(\"Отвергаем нулевую гипотезу\")\n",
    "else:\n",
    "    print(\"Не получилось отвергнуть нулевую гипотезу\")"
   ]
  },
  {
   "cell_type": "markdown",
   "metadata": {},
   "source": [
    "Отвергаем нулевую гипотезу, значит верна гипотеза альтернативная Н_1: Средние пользовательские рейтинги жанров Action (англ. «действие», экшен-игры) и Sports (англ. «спортивные соревнования») не одинаковые"
   ]
  },
  {
   "cell_type": "markdown",
   "metadata": {},
   "source": [
    "# Вывод"
   ]
  },
  {
   "cell_type": "markdown",
   "metadata": {},
   "source": [
    "- Основной выпуск игр приходится на года с 2002 по текущий год. Хотя с 2012 резко упало количество, но там данные будут наиболее уданые для оценки успешности успешности, т.к. наиболее свежие.;\n",
    "- Основные платформы PC, PS4, Xbox One;\n",
    "- Самые высокие продажи у PS4 в размере 80млн копий, что превышает вторую по продаваемости консоль XOne в два раза и PC в десятки раз;\n",
    "- Самые высокие оценки на PC;\n",
    "- На платформах PS4,XOne чем выше оценки критиков, тем выше продажи.\n",
    "- Самые кассовые жанры Shooter с средней продажей 1.34 млн копий, затем Sports, Platform. Самые не продаваемые это Adventure, Puzzle, Strategy;\n",
    "- Самый популярный жанр Action в мире, большую долю вносят регионы EU и NA;\n",
    "- Рейтинг самый продаваемый M;\n",
    "- Оценки пользователей у PC и Xbox One не отличаются;\n",
    "- Оценки пользователей у Action и Sports отличаются."
   ]
  },
  {
   "cell_type": "markdown",
   "metadata": {},
   "source": [
    "**Итого:**\n",
    "Чтобы выбрать потенциально популярный продукт и спланировать рекламную кампанию, необходимо обратить внимание на:\n",
    "- жанр Shooter;\n",
    "- платформу PS4 или, в зависимости от разработчика, можно посмотреть в сторону PC или Xbox One, т.к. большинство продуктов становятся мультиплатформенными в конечном итоге."
   ]
  }
 ],
 "metadata": {
  "ExecuteTimeLog": [
   {
    "duration": 1332,
    "start_time": "2022-08-11T06:42:23.662Z"
   },
   {
    "duration": 169,
    "start_time": "2022-08-11T06:42:24.997Z"
   },
   {
    "duration": 13,
    "start_time": "2022-08-11T06:42:44.011Z"
   },
   {
    "duration": 113,
    "start_time": "2022-08-11T06:42:51.170Z"
   },
   {
    "duration": 23,
    "start_time": "2022-08-11T06:43:02.217Z"
   },
   {
    "duration": 675,
    "start_time": "2022-08-11T06:43:25.815Z"
   },
   {
    "duration": 711,
    "start_time": "2022-08-11T06:43:32.533Z"
   },
   {
    "duration": 722,
    "start_time": "2022-08-11T06:43:46.782Z"
   },
   {
    "duration": 6,
    "start_time": "2022-08-11T06:49:40.276Z"
   },
   {
    "duration": 20,
    "start_time": "2022-08-11T06:49:43.692Z"
   },
   {
    "duration": 22,
    "start_time": "2022-08-11T06:50:24.534Z"
   },
   {
    "duration": 12,
    "start_time": "2022-08-11T06:50:34.141Z"
   },
   {
    "duration": 12,
    "start_time": "2022-08-11T06:50:52.213Z"
   },
   {
    "duration": 30,
    "start_time": "2022-08-11T06:50:52.776Z"
   },
   {
    "duration": 21,
    "start_time": "2022-08-11T06:50:59.358Z"
   },
   {
    "duration": 4,
    "start_time": "2022-08-11T06:51:11.493Z"
   },
   {
    "duration": 19,
    "start_time": "2022-08-11T06:51:11.869Z"
   },
   {
    "duration": 19,
    "start_time": "2022-08-11T06:51:12.686Z"
   },
   {
    "duration": 17,
    "start_time": "2022-08-11T06:53:02.479Z"
   },
   {
    "duration": 18,
    "start_time": "2022-08-11T06:53:07.184Z"
   },
   {
    "duration": 14,
    "start_time": "2022-08-11T06:53:18.527Z"
   },
   {
    "duration": 21,
    "start_time": "2022-08-11T06:54:48.129Z"
   },
   {
    "duration": 18,
    "start_time": "2022-08-11T06:55:16.786Z"
   },
   {
    "duration": 7,
    "start_time": "2022-08-11T06:55:26.250Z"
   },
   {
    "duration": 20,
    "start_time": "2022-08-11T06:55:31.497Z"
   },
   {
    "duration": 8,
    "start_time": "2022-08-11T06:57:42.188Z"
   },
   {
    "duration": 19,
    "start_time": "2022-08-11T06:57:42.857Z"
   },
   {
    "duration": 6,
    "start_time": "2022-08-11T06:57:50.252Z"
   },
   {
    "duration": 18,
    "start_time": "2022-08-11T06:57:51.348Z"
   },
   {
    "duration": 1085,
    "start_time": "2022-08-11T06:58:03.827Z"
   },
   {
    "duration": 68,
    "start_time": "2022-08-11T06:58:04.914Z"
   },
   {
    "duration": 21,
    "start_time": "2022-08-11T06:58:04.983Z"
   },
   {
    "duration": 653,
    "start_time": "2022-08-11T06:58:05.006Z"
   },
   {
    "duration": 128,
    "start_time": "2022-08-11T06:58:05.661Z"
   },
   {
    "duration": 1,
    "start_time": "2022-08-11T06:58:05.790Z"
   },
   {
    "duration": 11,
    "start_time": "2022-08-11T06:58:24.768Z"
   },
   {
    "duration": 3,
    "start_time": "2022-08-11T06:58:34.857Z"
   },
   {
    "duration": 14,
    "start_time": "2022-08-11T06:58:43.215Z"
   },
   {
    "duration": 6,
    "start_time": "2022-08-11T06:58:50.321Z"
   },
   {
    "duration": 8,
    "start_time": "2022-08-11T06:59:00.722Z"
   },
   {
    "duration": 10,
    "start_time": "2022-08-11T06:59:08.851Z"
   },
   {
    "duration": 4,
    "start_time": "2022-08-11T07:00:00.411Z"
   },
   {
    "duration": 7,
    "start_time": "2022-08-11T07:00:13.578Z"
   },
   {
    "duration": 674,
    "start_time": "2022-08-11T07:02:04.637Z"
   },
   {
    "duration": 60,
    "start_time": "2022-08-11T07:06:38.702Z"
   },
   {
    "duration": 11,
    "start_time": "2022-08-11T07:06:44.377Z"
   },
   {
    "duration": 10,
    "start_time": "2022-08-11T07:07:38.154Z"
   },
   {
    "duration": 12,
    "start_time": "2022-08-11T07:08:12.130Z"
   },
   {
    "duration": 1172,
    "start_time": "2022-08-11T07:08:30.389Z"
   },
   {
    "duration": 64,
    "start_time": "2022-08-11T07:08:31.563Z"
   },
   {
    "duration": 21,
    "start_time": "2022-08-11T07:08:31.629Z"
   },
   {
    "duration": 727,
    "start_time": "2022-08-11T07:08:31.652Z"
   },
   {
    "duration": 7,
    "start_time": "2022-08-11T07:08:32.381Z"
   },
   {
    "duration": 153,
    "start_time": "2022-08-11T07:08:32.389Z"
   },
   {
    "duration": 12,
    "start_time": "2022-08-11T07:08:44.524Z"
   },
   {
    "duration": 18,
    "start_time": "2022-08-11T09:02:48.683Z"
   },
   {
    "duration": 9,
    "start_time": "2022-08-11T09:02:55.296Z"
   },
   {
    "duration": 9,
    "start_time": "2022-08-11T09:03:04.475Z"
   },
   {
    "duration": 6,
    "start_time": "2022-08-11T11:27:12.292Z"
   },
   {
    "duration": 7,
    "start_time": "2022-08-11T11:27:17.756Z"
   },
   {
    "duration": 11,
    "start_time": "2022-08-11T11:27:35.204Z"
   },
   {
    "duration": 8,
    "start_time": "2022-08-11T11:27:52.493Z"
   },
   {
    "duration": 15,
    "start_time": "2022-08-11T11:29:25.223Z"
   },
   {
    "duration": 11,
    "start_time": "2022-08-11T11:30:48.656Z"
   },
   {
    "duration": 9,
    "start_time": "2022-08-11T11:30:58.185Z"
   },
   {
    "duration": 16,
    "start_time": "2022-08-11T11:31:05.704Z"
   },
   {
    "duration": 8,
    "start_time": "2022-08-11T11:32:17.153Z"
   },
   {
    "duration": 30,
    "start_time": "2022-08-11T11:33:42.291Z"
   },
   {
    "duration": 23,
    "start_time": "2022-08-11T11:33:48.612Z"
   },
   {
    "duration": 56,
    "start_time": "2022-08-11T11:34:17.899Z"
   },
   {
    "duration": 50,
    "start_time": "2022-08-11T11:34:24.788Z"
   },
   {
    "duration": 47,
    "start_time": "2022-08-11T11:34:29.003Z"
   },
   {
    "duration": 21,
    "start_time": "2022-08-11T11:34:47.324Z"
   },
   {
    "duration": 20,
    "start_time": "2022-08-11T13:01:31.300Z"
   },
   {
    "duration": 6,
    "start_time": "2022-08-11T13:48:56.520Z"
   },
   {
    "duration": 20,
    "start_time": "2022-08-11T13:49:03.040Z"
   },
   {
    "duration": 22,
    "start_time": "2022-08-11T13:49:33.584Z"
   },
   {
    "duration": 22,
    "start_time": "2022-08-11T13:49:51.168Z"
   },
   {
    "duration": 33,
    "start_time": "2022-08-11T13:50:24.109Z"
   },
   {
    "duration": 20,
    "start_time": "2022-08-11T13:50:29.369Z"
   },
   {
    "duration": 11,
    "start_time": "2022-08-11T13:50:47.073Z"
   },
   {
    "duration": 11,
    "start_time": "2022-08-11T13:50:55.074Z"
   },
   {
    "duration": 23,
    "start_time": "2022-08-11T13:51:26.546Z"
   },
   {
    "duration": 11,
    "start_time": "2022-08-11T13:52:32.067Z"
   },
   {
    "duration": 8,
    "start_time": "2022-08-11T16:26:16.615Z"
   },
   {
    "duration": 5,
    "start_time": "2022-08-11T16:26:21.647Z"
   },
   {
    "duration": 7,
    "start_time": "2022-08-11T16:26:29.663Z"
   },
   {
    "duration": 5,
    "start_time": "2022-08-11T16:26:38.311Z"
   },
   {
    "duration": 8,
    "start_time": "2022-08-11T16:26:49.231Z"
   },
   {
    "duration": 8,
    "start_time": "2022-08-11T16:27:00.608Z"
   },
   {
    "duration": 1134,
    "start_time": "2022-08-11T16:27:28.085Z"
   },
   {
    "duration": 69,
    "start_time": "2022-08-11T16:27:29.220Z"
   },
   {
    "duration": 22,
    "start_time": "2022-08-11T16:27:29.291Z"
   },
   {
    "duration": 719,
    "start_time": "2022-08-11T16:27:29.316Z"
   },
   {
    "duration": 10,
    "start_time": "2022-08-11T16:27:30.037Z"
   },
   {
    "duration": 8,
    "start_time": "2022-08-11T16:27:30.049Z"
   },
   {
    "duration": 53,
    "start_time": "2022-08-11T16:27:30.059Z"
   },
   {
    "duration": 31,
    "start_time": "2022-08-11T16:27:30.114Z"
   },
   {
    "duration": 11,
    "start_time": "2022-08-11T16:27:30.146Z"
   },
   {
    "duration": 23,
    "start_time": "2022-08-11T16:27:30.159Z"
   },
   {
    "duration": 48,
    "start_time": "2022-08-11T16:27:30.184Z"
   },
   {
    "duration": 5,
    "start_time": "2022-08-11T16:28:01.110Z"
   },
   {
    "duration": 8,
    "start_time": "2022-08-11T16:36:09.826Z"
   },
   {
    "duration": 16,
    "start_time": "2022-08-11T16:40:49.913Z"
   },
   {
    "duration": 13,
    "start_time": "2022-08-11T16:40:55.184Z"
   },
   {
    "duration": 14,
    "start_time": "2022-08-11T16:40:59.712Z"
   },
   {
    "duration": 13,
    "start_time": "2022-08-11T16:41:09.432Z"
   },
   {
    "duration": 5,
    "start_time": "2022-08-11T16:57:43.862Z"
   },
   {
    "duration": 34,
    "start_time": "2022-08-11T16:57:52.751Z"
   },
   {
    "duration": 30,
    "start_time": "2022-08-11T16:58:02.729Z"
   },
   {
    "duration": 9,
    "start_time": "2022-08-11T16:58:18.041Z"
   },
   {
    "duration": 1088,
    "start_time": "2022-08-11T17:01:07.708Z"
   },
   {
    "duration": 61,
    "start_time": "2022-08-11T17:01:08.797Z"
   },
   {
    "duration": 23,
    "start_time": "2022-08-11T17:01:08.859Z"
   },
   {
    "duration": 687,
    "start_time": "2022-08-11T17:01:08.884Z"
   },
   {
    "duration": 6,
    "start_time": "2022-08-11T17:01:09.574Z"
   },
   {
    "duration": 13,
    "start_time": "2022-08-11T17:01:09.581Z"
   },
   {
    "duration": 16,
    "start_time": "2022-08-11T17:01:09.596Z"
   },
   {
    "duration": 10,
    "start_time": "2022-08-11T17:01:09.614Z"
   },
   {
    "duration": 5,
    "start_time": "2022-08-11T17:01:09.625Z"
   },
   {
    "duration": 13,
    "start_time": "2022-08-11T17:01:09.631Z"
   },
   {
    "duration": 15,
    "start_time": "2022-08-11T17:01:09.645Z"
   },
   {
    "duration": 19,
    "start_time": "2022-08-11T17:01:23.193Z"
   },
   {
    "duration": 9,
    "start_time": "2022-08-11T17:01:33.721Z"
   },
   {
    "duration": 6,
    "start_time": "2022-08-11T17:02:04.057Z"
   },
   {
    "duration": 6,
    "start_time": "2022-08-11T17:02:20.649Z"
   },
   {
    "duration": 5,
    "start_time": "2022-08-11T17:02:36.794Z"
   },
   {
    "duration": 6,
    "start_time": "2022-08-11T17:02:55.970Z"
   },
   {
    "duration": 6,
    "start_time": "2022-08-11T17:03:09.450Z"
   },
   {
    "duration": 6,
    "start_time": "2022-08-11T17:03:18.947Z"
   },
   {
    "duration": 1038,
    "start_time": "2022-08-11T17:04:21.348Z"
   },
   {
    "duration": 73,
    "start_time": "2022-08-11T17:04:22.388Z"
   },
   {
    "duration": 24,
    "start_time": "2022-08-11T17:04:22.463Z"
   },
   {
    "duration": 775,
    "start_time": "2022-08-11T17:04:22.489Z"
   },
   {
    "duration": 6,
    "start_time": "2022-08-11T17:04:23.266Z"
   },
   {
    "duration": 10,
    "start_time": "2022-08-11T17:04:23.273Z"
   },
   {
    "duration": 5,
    "start_time": "2022-08-11T17:04:23.285Z"
   },
   {
    "duration": 125,
    "start_time": "2022-08-11T17:04:23.292Z"
   },
   {
    "duration": 0,
    "start_time": "2022-08-11T17:04:23.418Z"
   },
   {
    "duration": 0,
    "start_time": "2022-08-11T17:04:23.420Z"
   },
   {
    "duration": 8,
    "start_time": "2022-08-11T17:04:54.280Z"
   },
   {
    "duration": 7,
    "start_time": "2022-08-11T17:05:02.633Z"
   },
   {
    "duration": 5,
    "start_time": "2022-08-11T17:05:56.273Z"
   },
   {
    "duration": 5,
    "start_time": "2022-08-11T17:05:57.354Z"
   },
   {
    "duration": 10,
    "start_time": "2022-08-11T17:06:59.874Z"
   },
   {
    "duration": 43,
    "start_time": "2022-08-12T05:52:28.347Z"
   },
   {
    "duration": 1345,
    "start_time": "2022-08-12T05:52:40.756Z"
   },
   {
    "duration": 121,
    "start_time": "2022-08-12T05:52:42.104Z"
   },
   {
    "duration": 22,
    "start_time": "2022-08-12T05:52:42.227Z"
   },
   {
    "duration": 867,
    "start_time": "2022-08-12T05:52:42.251Z"
   },
   {
    "duration": 6,
    "start_time": "2022-08-12T05:52:43.120Z"
   },
   {
    "duration": 7,
    "start_time": "2022-08-12T05:52:43.127Z"
   },
   {
    "duration": 8,
    "start_time": "2022-08-12T05:52:43.135Z"
   },
   {
    "duration": 11,
    "start_time": "2022-08-12T05:52:43.144Z"
   },
   {
    "duration": 8,
    "start_time": "2022-08-12T05:52:43.156Z"
   },
   {
    "duration": 25,
    "start_time": "2022-08-12T05:52:43.166Z"
   },
   {
    "duration": 8,
    "start_time": "2022-08-12T05:52:43.192Z"
   },
   {
    "duration": 28,
    "start_time": "2022-08-12T05:52:43.201Z"
   },
   {
    "duration": 22,
    "start_time": "2022-08-12T05:54:12.755Z"
   },
   {
    "duration": 6,
    "start_time": "2022-08-12T05:55:10.217Z"
   },
   {
    "duration": 32,
    "start_time": "2022-08-12T05:55:13.079Z"
   },
   {
    "duration": 1165,
    "start_time": "2022-08-12T05:55:31.659Z"
   },
   {
    "duration": 69,
    "start_time": "2022-08-12T05:55:32.826Z"
   },
   {
    "duration": 28,
    "start_time": "2022-08-12T05:55:32.898Z"
   },
   {
    "duration": 751,
    "start_time": "2022-08-12T05:55:32.928Z"
   },
   {
    "duration": 8,
    "start_time": "2022-08-12T05:55:33.686Z"
   },
   {
    "duration": 12,
    "start_time": "2022-08-12T05:55:33.695Z"
   },
   {
    "duration": 8,
    "start_time": "2022-08-12T05:55:33.709Z"
   },
   {
    "duration": 7,
    "start_time": "2022-08-12T05:55:33.719Z"
   },
   {
    "duration": 11,
    "start_time": "2022-08-12T05:55:33.727Z"
   },
   {
    "duration": 9,
    "start_time": "2022-08-12T05:55:33.739Z"
   },
   {
    "duration": 38,
    "start_time": "2022-08-12T05:55:33.749Z"
   },
   {
    "duration": 8,
    "start_time": "2022-08-12T05:55:33.790Z"
   },
   {
    "duration": 25,
    "start_time": "2022-08-12T05:55:33.800Z"
   },
   {
    "duration": 10,
    "start_time": "2022-08-12T05:55:49.260Z"
   },
   {
    "duration": 15,
    "start_time": "2022-08-12T05:55:57.325Z"
   },
   {
    "duration": 22,
    "start_time": "2022-08-12T05:56:11.720Z"
   },
   {
    "duration": 78,
    "start_time": "2022-08-12T06:02:09.656Z"
   },
   {
    "duration": 7,
    "start_time": "2022-08-12T06:02:44.644Z"
   },
   {
    "duration": 106,
    "start_time": "2022-08-12T06:03:59.524Z"
   },
   {
    "duration": 12,
    "start_time": "2022-08-12T06:04:32.093Z"
   },
   {
    "duration": 15,
    "start_time": "2022-08-12T06:04:47.485Z"
   },
   {
    "duration": 15,
    "start_time": "2022-08-12T06:05:44.950Z"
   },
   {
    "duration": 10,
    "start_time": "2022-08-12T06:06:01.327Z"
   },
   {
    "duration": 42,
    "start_time": "2022-08-12T06:06:07.886Z"
   },
   {
    "duration": 10,
    "start_time": "2022-08-12T06:06:16.931Z"
   },
   {
    "duration": 34,
    "start_time": "2022-08-12T06:10:44.381Z"
   },
   {
    "duration": 7,
    "start_time": "2022-08-12T06:11:00.228Z"
   },
   {
    "duration": 50,
    "start_time": "2022-08-12T06:11:34.895Z"
   },
   {
    "duration": 8,
    "start_time": "2022-08-12T06:11:37.014Z"
   },
   {
    "duration": 10,
    "start_time": "2022-08-12T06:11:41.414Z"
   },
   {
    "duration": 1174,
    "start_time": "2022-08-12T06:11:47.832Z"
   },
   {
    "duration": 67,
    "start_time": "2022-08-12T06:11:49.008Z"
   },
   {
    "duration": 25,
    "start_time": "2022-08-12T06:11:49.077Z"
   },
   {
    "duration": 778,
    "start_time": "2022-08-12T06:11:49.103Z"
   },
   {
    "duration": 7,
    "start_time": "2022-08-12T06:11:49.883Z"
   },
   {
    "duration": 7,
    "start_time": "2022-08-12T06:11:49.892Z"
   },
   {
    "duration": 8,
    "start_time": "2022-08-12T06:11:49.900Z"
   },
   {
    "duration": 8,
    "start_time": "2022-08-12T06:11:49.909Z"
   },
   {
    "duration": 11,
    "start_time": "2022-08-12T06:11:49.919Z"
   },
   {
    "duration": 8,
    "start_time": "2022-08-12T06:11:49.932Z"
   },
   {
    "duration": 46,
    "start_time": "2022-08-12T06:11:49.942Z"
   },
   {
    "duration": 8,
    "start_time": "2022-08-12T06:11:49.989Z"
   },
   {
    "duration": 95,
    "start_time": "2022-08-12T06:11:49.999Z"
   },
   {
    "duration": 10,
    "start_time": "2022-08-12T06:11:50.098Z"
   },
   {
    "duration": 5,
    "start_time": "2022-08-12T06:11:50.110Z"
   },
   {
    "duration": 28,
    "start_time": "2022-08-12T06:11:50.117Z"
   },
   {
    "duration": 8,
    "start_time": "2022-08-12T06:13:26.927Z"
   },
   {
    "duration": 23,
    "start_time": "2022-08-12T06:13:30.084Z"
   },
   {
    "duration": 11,
    "start_time": "2022-08-12T06:13:40.715Z"
   },
   {
    "duration": 95,
    "start_time": "2022-08-12T06:18:29.339Z"
   },
   {
    "duration": 10,
    "start_time": "2022-08-12T06:18:40.915Z"
   },
   {
    "duration": 367,
    "start_time": "2022-08-12T06:18:43.818Z"
   },
   {
    "duration": 260,
    "start_time": "2022-08-12T06:19:05.763Z"
   },
   {
    "duration": 4,
    "start_time": "2022-08-12T06:19:27.396Z"
   },
   {
    "duration": 349,
    "start_time": "2022-08-12T06:19:32.171Z"
   },
   {
    "duration": 4,
    "start_time": "2022-08-12T06:19:46.981Z"
   },
   {
    "duration": 11,
    "start_time": "2022-08-12T06:19:50.435Z"
   },
   {
    "duration": 308,
    "start_time": "2022-08-12T06:19:55.318Z"
   },
   {
    "duration": 656,
    "start_time": "2022-08-12T06:19:59.133Z"
   },
   {
    "duration": 369,
    "start_time": "2022-08-12T06:20:35.765Z"
   },
   {
    "duration": 8,
    "start_time": "2022-08-12T06:21:31.678Z"
   },
   {
    "duration": 272,
    "start_time": "2022-08-12T06:21:34.025Z"
   },
   {
    "duration": 9,
    "start_time": "2022-08-12T06:21:50.150Z"
   },
   {
    "duration": 8,
    "start_time": "2022-08-12T06:22:07.231Z"
   },
   {
    "duration": 1117,
    "start_time": "2022-08-12T06:22:49.086Z"
   },
   {
    "duration": 64,
    "start_time": "2022-08-12T06:22:50.205Z"
   },
   {
    "duration": 23,
    "start_time": "2022-08-12T06:22:50.270Z"
   },
   {
    "duration": 748,
    "start_time": "2022-08-12T06:22:50.295Z"
   },
   {
    "duration": 3,
    "start_time": "2022-08-12T06:22:51.045Z"
   },
   {
    "duration": 8,
    "start_time": "2022-08-12T06:22:51.050Z"
   },
   {
    "duration": 8,
    "start_time": "2022-08-12T06:22:51.060Z"
   },
   {
    "duration": 18,
    "start_time": "2022-08-12T06:22:51.070Z"
   },
   {
    "duration": 6,
    "start_time": "2022-08-12T06:22:51.090Z"
   },
   {
    "duration": 11,
    "start_time": "2022-08-12T06:22:51.099Z"
   },
   {
    "duration": 9,
    "start_time": "2022-08-12T06:22:51.112Z"
   },
   {
    "duration": 18,
    "start_time": "2022-08-12T06:22:51.123Z"
   },
   {
    "duration": 8,
    "start_time": "2022-08-12T06:22:51.143Z"
   },
   {
    "duration": 61,
    "start_time": "2022-08-12T06:22:51.152Z"
   },
   {
    "duration": 9,
    "start_time": "2022-08-12T06:22:51.215Z"
   },
   {
    "duration": 6,
    "start_time": "2022-08-12T06:22:51.225Z"
   },
   {
    "duration": 19,
    "start_time": "2022-08-12T06:22:51.232Z"
   },
   {
    "duration": 6,
    "start_time": "2022-08-12T06:22:51.253Z"
   },
   {
    "duration": 5,
    "start_time": "2022-08-12T06:22:51.288Z"
   },
   {
    "duration": 9,
    "start_time": "2022-08-12T06:22:51.294Z"
   },
   {
    "duration": 1177,
    "start_time": "2022-08-12T06:23:29.052Z"
   },
   {
    "duration": 64,
    "start_time": "2022-08-12T06:23:30.232Z"
   },
   {
    "duration": 24,
    "start_time": "2022-08-12T06:23:30.297Z"
   },
   {
    "duration": 800,
    "start_time": "2022-08-12T06:23:30.322Z"
   },
   {
    "duration": 2,
    "start_time": "2022-08-12T06:23:31.125Z"
   },
   {
    "duration": 35,
    "start_time": "2022-08-12T06:23:31.128Z"
   },
   {
    "duration": 28,
    "start_time": "2022-08-12T06:23:31.165Z"
   },
   {
    "duration": 16,
    "start_time": "2022-08-12T06:23:31.195Z"
   },
   {
    "duration": 20,
    "start_time": "2022-08-12T06:23:31.213Z"
   },
   {
    "duration": 34,
    "start_time": "2022-08-12T06:23:31.235Z"
   },
   {
    "duration": 24,
    "start_time": "2022-08-12T06:23:31.270Z"
   },
   {
    "duration": 39,
    "start_time": "2022-08-12T06:23:31.296Z"
   },
   {
    "duration": 17,
    "start_time": "2022-08-12T06:23:31.337Z"
   },
   {
    "duration": 40,
    "start_time": "2022-08-12T06:23:31.357Z"
   },
   {
    "duration": 10,
    "start_time": "2022-08-12T06:23:31.399Z"
   },
   {
    "duration": 14,
    "start_time": "2022-08-12T06:23:31.411Z"
   },
   {
    "duration": 26,
    "start_time": "2022-08-12T06:23:31.426Z"
   },
   {
    "duration": 6,
    "start_time": "2022-08-12T06:23:31.454Z"
   },
   {
    "duration": 14,
    "start_time": "2022-08-12T06:23:31.462Z"
   },
   {
    "duration": 8,
    "start_time": "2022-08-12T06:25:10.781Z"
   },
   {
    "duration": 8,
    "start_time": "2022-08-12T06:25:24.226Z"
   },
   {
    "duration": 9,
    "start_time": "2022-08-12T06:25:31.999Z"
   },
   {
    "duration": 132,
    "start_time": "2022-08-12T06:25:52.262Z"
   },
   {
    "duration": 101,
    "start_time": "2022-08-12T06:26:06.838Z"
   },
   {
    "duration": 290,
    "start_time": "2022-08-12T06:26:44.835Z"
   },
   {
    "duration": 394,
    "start_time": "2022-08-12T06:27:03.925Z"
   },
   {
    "duration": 322,
    "start_time": "2022-08-12T06:27:11.130Z"
   },
   {
    "duration": 395,
    "start_time": "2022-08-12T06:27:16.247Z"
   },
   {
    "duration": 322,
    "start_time": "2022-08-12T06:27:33.814Z"
   },
   {
    "duration": 6,
    "start_time": "2022-08-12T06:30:55.156Z"
   },
   {
    "duration": 14,
    "start_time": "2022-08-12T06:32:43.389Z"
   },
   {
    "duration": 15,
    "start_time": "2022-08-12T06:33:01.547Z"
   },
   {
    "duration": 99,
    "start_time": "2022-08-12T06:35:31.845Z"
   },
   {
    "duration": 17,
    "start_time": "2022-08-12T06:35:50.137Z"
   },
   {
    "duration": 12,
    "start_time": "2022-08-12T06:36:02.839Z"
   },
   {
    "duration": 11,
    "start_time": "2022-08-12T06:38:13.683Z"
   },
   {
    "duration": 19,
    "start_time": "2022-08-12T06:38:21.623Z"
   },
   {
    "duration": 1343,
    "start_time": "2022-08-12T06:38:59.588Z"
   },
   {
    "duration": 13,
    "start_time": "2022-08-12T06:39:06.052Z"
   },
   {
    "duration": 14,
    "start_time": "2022-08-12T06:39:09.451Z"
   },
   {
    "duration": 805,
    "start_time": "2022-08-12T06:39:18.035Z"
   },
   {
    "duration": 12,
    "start_time": "2022-08-12T06:40:26.758Z"
   },
   {
    "duration": 7,
    "start_time": "2022-08-12T06:41:51.774Z"
   },
   {
    "duration": 8,
    "start_time": "2022-08-12T06:42:08.315Z"
   },
   {
    "duration": 275,
    "start_time": "2022-08-12T06:42:37.192Z"
   },
   {
    "duration": 72,
    "start_time": "2022-08-12T06:44:12.372Z"
   },
   {
    "duration": 7,
    "start_time": "2022-08-12T06:44:18.780Z"
   },
   {
    "duration": 127,
    "start_time": "2022-08-12T06:45:18.394Z"
   },
   {
    "duration": 15,
    "start_time": "2022-08-12T06:49:08.052Z"
   },
   {
    "duration": 11,
    "start_time": "2022-08-12T06:49:27.430Z"
   },
   {
    "duration": 22,
    "start_time": "2022-08-12T06:49:31.165Z"
   },
   {
    "duration": 877,
    "start_time": "2022-08-12T06:49:37.023Z"
   },
   {
    "duration": 973,
    "start_time": "2022-08-12T06:49:49.254Z"
   },
   {
    "duration": 8,
    "start_time": "2022-08-12T06:52:58.522Z"
   },
   {
    "duration": 3,
    "start_time": "2022-08-12T06:53:02.470Z"
   },
   {
    "duration": 12,
    "start_time": "2022-08-12T06:53:04.326Z"
   },
   {
    "duration": 11,
    "start_time": "2022-08-12T06:53:54.265Z"
   },
   {
    "duration": 29,
    "start_time": "2022-08-12T06:54:06.465Z"
   },
   {
    "duration": 26,
    "start_time": "2022-08-12T06:54:32.822Z"
   },
   {
    "duration": 27,
    "start_time": "2022-08-12T06:54:41.026Z"
   },
   {
    "duration": 33,
    "start_time": "2022-08-12T06:55:05.747Z"
   },
   {
    "duration": 13,
    "start_time": "2022-08-12T06:55:25.851Z"
   },
   {
    "duration": 22,
    "start_time": "2022-08-12T06:56:10.179Z"
   },
   {
    "duration": 17,
    "start_time": "2022-08-12T06:56:42.836Z"
   },
   {
    "duration": 1708,
    "start_time": "2022-08-12T06:56:48.483Z"
   },
   {
    "duration": 1939,
    "start_time": "2022-08-12T06:57:10.326Z"
   },
   {
    "duration": 2021,
    "start_time": "2022-08-12T06:57:26.047Z"
   },
   {
    "duration": 1928,
    "start_time": "2022-08-12T06:57:36.293Z"
   },
   {
    "duration": 1720,
    "start_time": "2022-08-12T06:58:00.085Z"
   },
   {
    "duration": 2042,
    "start_time": "2022-08-12T06:58:06.765Z"
   },
   {
    "duration": 21,
    "start_time": "2022-08-12T06:59:41.170Z"
   },
   {
    "duration": 15,
    "start_time": "2022-08-12T07:00:49.023Z"
   },
   {
    "duration": 21,
    "start_time": "2022-08-12T07:00:49.414Z"
   },
   {
    "duration": 5,
    "start_time": "2022-08-12T07:05:23.232Z"
   },
   {
    "duration": 21,
    "start_time": "2022-08-12T07:05:24.356Z"
   },
   {
    "duration": 5,
    "start_time": "2022-08-12T07:05:30.425Z"
   },
   {
    "duration": 24,
    "start_time": "2022-08-12T07:05:30.725Z"
   },
   {
    "duration": 5,
    "start_time": "2022-08-12T07:05:37.033Z"
   },
   {
    "duration": 22,
    "start_time": "2022-08-12T07:05:37.956Z"
   },
   {
    "duration": 1833,
    "start_time": "2022-08-12T07:05:42.436Z"
   },
   {
    "duration": 39920,
    "start_time": "2022-08-12T07:07:24.158Z"
   },
   {
    "duration": 90,
    "start_time": "2022-08-12T07:08:42.921Z"
   },
   {
    "duration": 110,
    "start_time": "2022-08-12T07:10:24.688Z"
   },
   {
    "duration": 93,
    "start_time": "2022-08-12T07:10:31.928Z"
   },
   {
    "duration": 94,
    "start_time": "2022-08-12T07:10:37.480Z"
   },
   {
    "duration": 90,
    "start_time": "2022-08-12T07:10:41.032Z"
   },
   {
    "duration": 88,
    "start_time": "2022-08-12T07:10:51.688Z"
   },
   {
    "duration": 4,
    "start_time": "2022-08-12T07:11:15.777Z"
   },
   {
    "duration": 24,
    "start_time": "2022-08-12T07:11:16.559Z"
   },
   {
    "duration": 1806,
    "start_time": "2022-08-12T07:11:22.329Z"
   },
   {
    "duration": 4,
    "start_time": "2022-08-12T07:11:44.122Z"
   },
   {
    "duration": 24,
    "start_time": "2022-08-12T07:11:44.986Z"
   },
   {
    "duration": 19,
    "start_time": "2022-08-12T07:14:45.501Z"
   },
   {
    "duration": 1728,
    "start_time": "2022-08-12T07:15:15.797Z"
   },
   {
    "duration": 2165,
    "start_time": "2022-08-12T07:15:25.325Z"
   },
   {
    "duration": 82,
    "start_time": "2022-08-12T07:15:48.373Z"
   },
   {
    "duration": 18,
    "start_time": "2022-08-12T07:15:52.646Z"
   },
   {
    "duration": 20,
    "start_time": "2022-08-12T07:17:09.550Z"
   },
   {
    "duration": 11,
    "start_time": "2022-08-12T07:17:40.111Z"
   },
   {
    "duration": 3,
    "start_time": "2022-08-12T07:17:48.447Z"
   },
   {
    "duration": 24,
    "start_time": "2022-08-12T07:17:54.543Z"
   },
   {
    "duration": 8,
    "start_time": "2022-08-12T07:21:05.739Z"
   },
   {
    "duration": 21,
    "start_time": "2022-08-12T07:21:09.507Z"
   },
   {
    "duration": 9,
    "start_time": "2022-08-12T07:21:22.178Z"
   },
   {
    "duration": 20,
    "start_time": "2022-08-12T07:21:23.497Z"
   },
   {
    "duration": 1108,
    "start_time": "2022-08-12T07:21:36.977Z"
   },
   {
    "duration": 64,
    "start_time": "2022-08-12T07:21:38.087Z"
   },
   {
    "duration": 21,
    "start_time": "2022-08-12T07:21:38.153Z"
   },
   {
    "duration": 718,
    "start_time": "2022-08-12T07:21:38.176Z"
   },
   {
    "duration": 2,
    "start_time": "2022-08-12T07:21:38.896Z"
   },
   {
    "duration": 16,
    "start_time": "2022-08-12T07:21:38.899Z"
   },
   {
    "duration": 8,
    "start_time": "2022-08-12T07:21:38.916Z"
   },
   {
    "duration": 15,
    "start_time": "2022-08-12T07:21:38.926Z"
   },
   {
    "duration": 20,
    "start_time": "2022-08-12T07:21:38.943Z"
   },
   {
    "duration": 19,
    "start_time": "2022-08-12T07:21:38.965Z"
   },
   {
    "duration": 13,
    "start_time": "2022-08-12T07:21:38.986Z"
   },
   {
    "duration": 22,
    "start_time": "2022-08-12T07:21:39.001Z"
   },
   {
    "duration": 7,
    "start_time": "2022-08-12T07:21:39.025Z"
   },
   {
    "duration": 38,
    "start_time": "2022-08-12T07:21:39.034Z"
   },
   {
    "duration": 16,
    "start_time": "2022-08-12T07:21:39.074Z"
   },
   {
    "duration": 10,
    "start_time": "2022-08-12T07:21:39.091Z"
   },
   {
    "duration": 23,
    "start_time": "2022-08-12T07:21:39.102Z"
   },
   {
    "duration": 5,
    "start_time": "2022-08-12T07:21:39.126Z"
   },
   {
    "duration": 15,
    "start_time": "2022-08-12T07:21:39.133Z"
   },
   {
    "duration": 332,
    "start_time": "2022-08-12T07:21:39.150Z"
   },
   {
    "duration": 7,
    "start_time": "2022-08-12T07:21:39.486Z"
   },
   {
    "duration": 306,
    "start_time": "2022-08-12T07:21:39.495Z"
   },
   {
    "duration": 14,
    "start_time": "2022-08-12T07:21:39.803Z"
   },
   {
    "duration": 192,
    "start_time": "2022-08-12T07:21:39.819Z"
   },
   {
    "duration": 7,
    "start_time": "2022-08-12T07:21:40.013Z"
   },
   {
    "duration": 61,
    "start_time": "2022-08-12T07:21:40.022Z"
   },
   {
    "duration": 2053,
    "start_time": "2022-08-12T07:21:40.085Z"
   },
   {
    "duration": 24,
    "start_time": "2022-08-12T07:21:42.140Z"
   },
   {
    "duration": 8,
    "start_time": "2022-08-12T07:21:42.166Z"
   },
   {
    "duration": 21,
    "start_time": "2022-08-12T07:21:42.176Z"
   },
   {
    "duration": 10,
    "start_time": "2022-08-12T07:22:18.604Z"
   },
   {
    "duration": 21,
    "start_time": "2022-08-12T07:22:19.005Z"
   },
   {
    "duration": 6,
    "start_time": "2022-08-12T07:22:56.053Z"
   },
   {
    "duration": 23,
    "start_time": "2022-08-12T07:22:56.557Z"
   },
   {
    "duration": 1154,
    "start_time": "2022-08-12T07:24:09.369Z"
   },
   {
    "duration": 65,
    "start_time": "2022-08-12T07:24:10.524Z"
   },
   {
    "duration": 23,
    "start_time": "2022-08-12T07:24:10.590Z"
   },
   {
    "duration": 814,
    "start_time": "2022-08-12T07:24:10.615Z"
   },
   {
    "duration": 3,
    "start_time": "2022-08-12T07:24:11.431Z"
   },
   {
    "duration": 14,
    "start_time": "2022-08-12T07:24:11.435Z"
   },
   {
    "duration": 10,
    "start_time": "2022-08-12T07:24:11.450Z"
   },
   {
    "duration": 7,
    "start_time": "2022-08-12T07:24:11.461Z"
   },
   {
    "duration": 18,
    "start_time": "2022-08-12T07:24:11.469Z"
   },
   {
    "duration": 11,
    "start_time": "2022-08-12T07:24:11.488Z"
   },
   {
    "duration": 9,
    "start_time": "2022-08-12T07:24:11.501Z"
   },
   {
    "duration": 19,
    "start_time": "2022-08-12T07:24:11.511Z"
   },
   {
    "duration": 7,
    "start_time": "2022-08-12T07:24:11.532Z"
   },
   {
    "duration": 60,
    "start_time": "2022-08-12T07:24:11.541Z"
   },
   {
    "duration": 9,
    "start_time": "2022-08-12T07:24:11.603Z"
   },
   {
    "duration": 10,
    "start_time": "2022-08-12T07:24:11.614Z"
   },
   {
    "duration": 23,
    "start_time": "2022-08-12T07:24:11.625Z"
   },
   {
    "duration": 4,
    "start_time": "2022-08-12T07:24:11.650Z"
   },
   {
    "duration": 8,
    "start_time": "2022-08-12T07:24:11.656Z"
   },
   {
    "duration": 343,
    "start_time": "2022-08-12T07:24:11.665Z"
   },
   {
    "duration": 7,
    "start_time": "2022-08-12T07:24:12.011Z"
   },
   {
    "duration": 309,
    "start_time": "2022-08-12T07:24:12.020Z"
   },
   {
    "duration": 16,
    "start_time": "2022-08-12T07:24:12.330Z"
   },
   {
    "duration": 191,
    "start_time": "2022-08-12T07:24:12.348Z"
   },
   {
    "duration": 4,
    "start_time": "2022-08-12T07:24:12.540Z"
   },
   {
    "duration": 29,
    "start_time": "2022-08-12T07:24:12.546Z"
   },
   {
    "duration": 2101,
    "start_time": "2022-08-12T07:24:12.577Z"
   },
   {
    "duration": 24,
    "start_time": "2022-08-12T07:24:14.680Z"
   },
   {
    "duration": 6,
    "start_time": "2022-08-12T07:24:14.706Z"
   },
   {
    "duration": 23,
    "start_time": "2022-08-12T07:24:14.714Z"
   },
   {
    "duration": 1691,
    "start_time": "2022-08-12T07:24:14.739Z"
   },
   {
    "duration": 1452,
    "start_time": "2022-08-12T07:24:22.478Z"
   },
   {
    "duration": 26,
    "start_time": "2022-08-12T07:28:01.730Z"
   },
   {
    "duration": 91,
    "start_time": "2022-08-12T07:29:34.300Z"
   },
   {
    "duration": 17,
    "start_time": "2022-08-12T07:29:55.852Z"
   },
   {
    "duration": 93,
    "start_time": "2022-08-12T07:29:56.675Z"
   },
   {
    "duration": 107,
    "start_time": "2022-08-12T07:30:15.972Z"
   },
   {
    "duration": 25,
    "start_time": "2022-08-12T07:33:40.031Z"
   },
   {
    "duration": 19,
    "start_time": "2022-08-12T07:34:52.225Z"
   },
   {
    "duration": 1134,
    "start_time": "2022-08-12T07:35:09.891Z"
   },
   {
    "duration": 67,
    "start_time": "2022-08-12T07:35:11.027Z"
   },
   {
    "duration": 24,
    "start_time": "2022-08-12T07:35:11.096Z"
   },
   {
    "duration": 777,
    "start_time": "2022-08-12T07:35:11.122Z"
   },
   {
    "duration": 2,
    "start_time": "2022-08-12T07:35:11.901Z"
   },
   {
    "duration": 8,
    "start_time": "2022-08-12T07:35:11.905Z"
   },
   {
    "duration": 8,
    "start_time": "2022-08-12T07:35:11.914Z"
   },
   {
    "duration": 7,
    "start_time": "2022-08-12T07:35:11.924Z"
   },
   {
    "duration": 9,
    "start_time": "2022-08-12T07:35:11.932Z"
   },
   {
    "duration": 12,
    "start_time": "2022-08-12T07:35:11.943Z"
   },
   {
    "duration": 31,
    "start_time": "2022-08-12T07:35:11.956Z"
   },
   {
    "duration": 21,
    "start_time": "2022-08-12T07:35:11.989Z"
   },
   {
    "duration": 8,
    "start_time": "2022-08-12T07:35:12.012Z"
   },
   {
    "duration": 33,
    "start_time": "2022-08-12T07:35:12.022Z"
   },
   {
    "duration": 32,
    "start_time": "2022-08-12T07:35:12.056Z"
   },
   {
    "duration": 6,
    "start_time": "2022-08-12T07:35:12.089Z"
   },
   {
    "duration": 21,
    "start_time": "2022-08-12T07:35:12.096Z"
   },
   {
    "duration": 5,
    "start_time": "2022-08-12T07:35:12.118Z"
   },
   {
    "duration": 17,
    "start_time": "2022-08-12T07:35:12.124Z"
   },
   {
    "duration": 350,
    "start_time": "2022-08-12T07:35:12.142Z"
   },
   {
    "duration": 7,
    "start_time": "2022-08-12T07:35:12.494Z"
   },
   {
    "duration": 295,
    "start_time": "2022-08-12T07:35:12.502Z"
   },
   {
    "duration": 20,
    "start_time": "2022-08-12T07:35:12.799Z"
   },
   {
    "duration": 194,
    "start_time": "2022-08-12T07:35:12.821Z"
   },
   {
    "duration": 4,
    "start_time": "2022-08-12T07:35:13.017Z"
   },
   {
    "duration": 24,
    "start_time": "2022-08-12T07:35:13.022Z"
   },
   {
    "duration": 2154,
    "start_time": "2022-08-12T07:35:13.048Z"
   },
   {
    "duration": 19,
    "start_time": "2022-08-12T07:35:15.205Z"
   },
   {
    "duration": 7,
    "start_time": "2022-08-12T07:35:15.225Z"
   },
   {
    "duration": 25,
    "start_time": "2022-08-12T07:35:15.233Z"
   },
   {
    "duration": 1679,
    "start_time": "2022-08-12T07:35:15.259Z"
   },
   {
    "duration": 23,
    "start_time": "2022-08-12T07:35:16.939Z"
   },
   {
    "duration": 3,
    "start_time": "2022-08-12T07:35:48.130Z"
   },
   {
    "duration": 103,
    "start_time": "2022-08-12T07:35:52.427Z"
   },
   {
    "duration": 18,
    "start_time": "2022-08-12T07:35:59.922Z"
   },
   {
    "duration": 106,
    "start_time": "2022-08-12T07:36:00.481Z"
   },
   {
    "duration": 97,
    "start_time": "2022-08-12T07:36:14.914Z"
   },
   {
    "duration": 181,
    "start_time": "2022-08-12T07:36:18.922Z"
   },
   {
    "duration": 5,
    "start_time": "2022-08-12T07:36:30.218Z"
   },
   {
    "duration": 22,
    "start_time": "2022-08-12T07:36:30.779Z"
   },
   {
    "duration": 2245,
    "start_time": "2022-08-12T07:36:37.298Z"
   },
   {
    "duration": 19,
    "start_time": "2022-08-12T07:36:39.545Z"
   },
   {
    "duration": 8,
    "start_time": "2022-08-12T07:36:40.530Z"
   },
   {
    "duration": 25,
    "start_time": "2022-08-12T07:36:41.226Z"
   },
   {
    "duration": 1623,
    "start_time": "2022-08-12T07:36:42.434Z"
   },
   {
    "duration": 28,
    "start_time": "2022-08-12T07:36:44.066Z"
   },
   {
    "duration": 25,
    "start_time": "2022-08-12T07:37:03.706Z"
   },
   {
    "duration": 69,
    "start_time": "2022-08-12T07:37:28.814Z"
   },
   {
    "duration": 24,
    "start_time": "2022-08-12T07:37:32.499Z"
   },
   {
    "duration": 9,
    "start_time": "2022-08-12T07:37:48.099Z"
   },
   {
    "duration": 18,
    "start_time": "2022-08-12T07:37:54.985Z"
   },
   {
    "duration": 24,
    "start_time": "2022-08-12T07:37:59.446Z"
   },
   {
    "duration": 1171,
    "start_time": "2022-08-12T07:38:09.949Z"
   },
   {
    "duration": 73,
    "start_time": "2022-08-12T07:38:11.121Z"
   },
   {
    "duration": 23,
    "start_time": "2022-08-12T07:38:11.196Z"
   },
   {
    "duration": 825,
    "start_time": "2022-08-12T07:38:11.220Z"
   },
   {
    "duration": 3,
    "start_time": "2022-08-12T07:38:12.047Z"
   },
   {
    "duration": 14,
    "start_time": "2022-08-12T07:38:12.051Z"
   },
   {
    "duration": 8,
    "start_time": "2022-08-12T07:38:12.067Z"
   },
   {
    "duration": 17,
    "start_time": "2022-08-12T07:38:12.076Z"
   },
   {
    "duration": 16,
    "start_time": "2022-08-12T07:38:12.094Z"
   },
   {
    "duration": 16,
    "start_time": "2022-08-12T07:38:12.111Z"
   },
   {
    "duration": 13,
    "start_time": "2022-08-12T07:38:12.129Z"
   },
   {
    "duration": 26,
    "start_time": "2022-08-12T07:38:12.144Z"
   },
   {
    "duration": 19,
    "start_time": "2022-08-12T07:38:12.172Z"
   },
   {
    "duration": 36,
    "start_time": "2022-08-12T07:38:12.194Z"
   },
   {
    "duration": 11,
    "start_time": "2022-08-12T07:38:12.232Z"
   },
   {
    "duration": 11,
    "start_time": "2022-08-12T07:38:12.245Z"
   },
   {
    "duration": 39,
    "start_time": "2022-08-12T07:38:12.257Z"
   },
   {
    "duration": 4,
    "start_time": "2022-08-12T07:38:12.298Z"
   },
   {
    "duration": 13,
    "start_time": "2022-08-12T07:38:12.304Z"
   },
   {
    "duration": 343,
    "start_time": "2022-08-12T07:38:12.319Z"
   },
   {
    "duration": 7,
    "start_time": "2022-08-12T07:38:12.664Z"
   },
   {
    "duration": 309,
    "start_time": "2022-08-12T07:38:12.673Z"
   },
   {
    "duration": 20,
    "start_time": "2022-08-12T07:38:12.984Z"
   },
   {
    "duration": 22,
    "start_time": "2022-08-12T07:38:13.006Z"
   },
   {
    "duration": 220,
    "start_time": "2022-08-12T07:38:13.030Z"
   },
   {
    "duration": 6,
    "start_time": "2022-08-12T07:38:13.252Z"
   },
   {
    "duration": 35,
    "start_time": "2022-08-12T07:38:13.260Z"
   },
   {
    "duration": 2249,
    "start_time": "2022-08-12T07:38:13.297Z"
   },
   {
    "duration": 20,
    "start_time": "2022-08-12T07:38:15.548Z"
   },
   {
    "duration": 9,
    "start_time": "2022-08-12T07:38:15.570Z"
   },
   {
    "duration": 22,
    "start_time": "2022-08-12T07:38:15.581Z"
   },
   {
    "duration": 1797,
    "start_time": "2022-08-12T07:38:15.605Z"
   },
   {
    "duration": 22,
    "start_time": "2022-08-12T07:38:17.403Z"
   },
   {
    "duration": 103,
    "start_time": "2022-08-12T07:41:18.791Z"
   },
   {
    "duration": 1074,
    "start_time": "2022-08-12T07:41:53.033Z"
   },
   {
    "duration": 65,
    "start_time": "2022-08-12T07:41:54.109Z"
   },
   {
    "duration": 22,
    "start_time": "2022-08-12T07:41:54.175Z"
   },
   {
    "duration": 757,
    "start_time": "2022-08-12T07:41:54.199Z"
   },
   {
    "duration": 3,
    "start_time": "2022-08-12T07:41:54.959Z"
   },
   {
    "duration": 9,
    "start_time": "2022-08-12T07:41:54.964Z"
   },
   {
    "duration": 17,
    "start_time": "2022-08-12T07:41:54.975Z"
   },
   {
    "duration": 7,
    "start_time": "2022-08-12T07:41:54.994Z"
   },
   {
    "duration": 9,
    "start_time": "2022-08-12T07:41:55.002Z"
   },
   {
    "duration": 12,
    "start_time": "2022-08-12T07:41:55.013Z"
   },
   {
    "duration": 10,
    "start_time": "2022-08-12T07:41:55.026Z"
   },
   {
    "duration": 23,
    "start_time": "2022-08-12T07:41:55.038Z"
   },
   {
    "duration": 30,
    "start_time": "2022-08-12T07:41:55.063Z"
   },
   {
    "duration": 31,
    "start_time": "2022-08-12T07:41:55.097Z"
   },
   {
    "duration": 10,
    "start_time": "2022-08-12T07:41:55.130Z"
   },
   {
    "duration": 10,
    "start_time": "2022-08-12T07:41:55.141Z"
   },
   {
    "duration": 40,
    "start_time": "2022-08-12T07:41:55.152Z"
   },
   {
    "duration": 5,
    "start_time": "2022-08-12T07:41:55.194Z"
   },
   {
    "duration": 9,
    "start_time": "2022-08-12T07:41:55.201Z"
   },
   {
    "duration": 328,
    "start_time": "2022-08-12T07:41:55.211Z"
   },
   {
    "duration": 8,
    "start_time": "2022-08-12T07:41:55.540Z"
   },
   {
    "duration": 290,
    "start_time": "2022-08-12T07:41:55.550Z"
   },
   {
    "duration": 19,
    "start_time": "2022-08-12T07:41:55.842Z"
   },
   {
    "duration": 41,
    "start_time": "2022-08-12T07:41:55.862Z"
   },
   {
    "duration": 195,
    "start_time": "2022-08-12T07:41:55.905Z"
   },
   {
    "duration": 5,
    "start_time": "2022-08-12T07:41:56.102Z"
   },
   {
    "duration": 23,
    "start_time": "2022-08-12T07:41:56.109Z"
   },
   {
    "duration": 2325,
    "start_time": "2022-08-12T07:41:56.133Z"
   },
   {
    "duration": 20,
    "start_time": "2022-08-12T07:41:58.460Z"
   },
   {
    "duration": 7,
    "start_time": "2022-08-12T07:41:58.482Z"
   },
   {
    "duration": 23,
    "start_time": "2022-08-12T07:41:58.490Z"
   },
   {
    "duration": 1714,
    "start_time": "2022-08-12T07:41:58.514Z"
   },
   {
    "duration": 25,
    "start_time": "2022-08-12T07:42:00.230Z"
   },
   {
    "duration": 123,
    "start_time": "2022-08-12T07:42:00.257Z"
   },
   {
    "duration": 0,
    "start_time": "2022-08-12T07:42:00.381Z"
   },
   {
    "duration": 0,
    "start_time": "2022-08-12T07:42:00.387Z"
   },
   {
    "duration": 0,
    "start_time": "2022-08-12T07:42:00.388Z"
   },
   {
    "duration": 14,
    "start_time": "2022-08-12T07:42:55.855Z"
   },
   {
    "duration": 5,
    "start_time": "2022-08-12T07:43:00.916Z"
   },
   {
    "duration": 1164,
    "start_time": "2022-08-12T07:43:12.351Z"
   },
   {
    "duration": 65,
    "start_time": "2022-08-12T07:43:13.517Z"
   },
   {
    "duration": 23,
    "start_time": "2022-08-12T07:43:13.584Z"
   },
   {
    "duration": 807,
    "start_time": "2022-08-12T07:43:13.609Z"
   },
   {
    "duration": 2,
    "start_time": "2022-08-12T07:43:14.419Z"
   },
   {
    "duration": 10,
    "start_time": "2022-08-12T07:43:14.423Z"
   },
   {
    "duration": 9,
    "start_time": "2022-08-12T07:43:14.435Z"
   },
   {
    "duration": 8,
    "start_time": "2022-08-12T07:43:14.445Z"
   },
   {
    "duration": 11,
    "start_time": "2022-08-12T07:43:14.455Z"
   },
   {
    "duration": 32,
    "start_time": "2022-08-12T07:43:14.467Z"
   },
   {
    "duration": 12,
    "start_time": "2022-08-12T07:43:14.500Z"
   },
   {
    "duration": 21,
    "start_time": "2022-08-12T07:43:14.514Z"
   },
   {
    "duration": 7,
    "start_time": "2022-08-12T07:43:14.538Z"
   },
   {
    "duration": 64,
    "start_time": "2022-08-12T07:43:14.549Z"
   },
   {
    "duration": 12,
    "start_time": "2022-08-12T07:43:14.615Z"
   },
   {
    "duration": 7,
    "start_time": "2022-08-12T07:43:14.629Z"
   },
   {
    "duration": 20,
    "start_time": "2022-08-12T07:43:14.637Z"
   },
   {
    "duration": 33,
    "start_time": "2022-08-12T07:43:14.659Z"
   },
   {
    "duration": 25,
    "start_time": "2022-08-12T07:43:14.694Z"
   },
   {
    "duration": 378,
    "start_time": "2022-08-12T07:43:14.721Z"
   },
   {
    "duration": 9,
    "start_time": "2022-08-12T07:43:15.101Z"
   },
   {
    "duration": 342,
    "start_time": "2022-08-12T07:43:15.111Z"
   },
   {
    "duration": 20,
    "start_time": "2022-08-12T07:43:15.455Z"
   },
   {
    "duration": 28,
    "start_time": "2022-08-12T07:43:15.476Z"
   },
   {
    "duration": 212,
    "start_time": "2022-08-12T07:43:15.506Z"
   },
   {
    "duration": 6,
    "start_time": "2022-08-12T07:43:15.721Z"
   },
   {
    "duration": 26,
    "start_time": "2022-08-12T07:43:15.729Z"
   },
   {
    "duration": 2468,
    "start_time": "2022-08-12T07:43:15.758Z"
   },
   {
    "duration": 22,
    "start_time": "2022-08-12T07:43:18.228Z"
   },
   {
    "duration": 7,
    "start_time": "2022-08-12T07:43:18.252Z"
   },
   {
    "duration": 34,
    "start_time": "2022-08-12T07:43:18.261Z"
   },
   {
    "duration": 1746,
    "start_time": "2022-08-12T07:43:18.297Z"
   },
   {
    "duration": 28,
    "start_time": "2022-08-12T07:43:20.045Z"
   },
   {
    "duration": 16,
    "start_time": "2022-08-12T07:43:20.075Z"
   },
   {
    "duration": 30,
    "start_time": "2022-08-12T07:43:20.093Z"
   },
   {
    "duration": 973,
    "start_time": "2022-08-12T07:43:20.125Z"
   },
   {
    "duration": 19,
    "start_time": "2022-08-12T07:43:21.100Z"
   },
   {
    "duration": 101,
    "start_time": "2022-08-12T07:43:44.065Z"
   },
   {
    "duration": 6,
    "start_time": "2022-08-12T07:43:47.782Z"
   },
   {
    "duration": 24,
    "start_time": "2022-08-12T07:43:49.844Z"
   },
   {
    "duration": 6,
    "start_time": "2022-08-12T07:44:25.531Z"
   },
   {
    "duration": 22,
    "start_time": "2022-08-12T07:44:26.838Z"
   },
   {
    "duration": 685,
    "start_time": "2022-08-12T07:44:29.010Z"
   },
   {
    "duration": 666,
    "start_time": "2022-08-12T07:44:37.650Z"
   },
   {
    "duration": 19,
    "start_time": "2022-08-12T07:44:50.770Z"
   },
   {
    "duration": 1164,
    "start_time": "2022-08-12T07:45:55.950Z"
   },
   {
    "duration": 66,
    "start_time": "2022-08-12T07:45:57.116Z"
   },
   {
    "duration": 22,
    "start_time": "2022-08-12T07:45:57.183Z"
   },
   {
    "duration": 784,
    "start_time": "2022-08-12T07:45:57.207Z"
   },
   {
    "duration": 2,
    "start_time": "2022-08-12T07:45:57.993Z"
   },
   {
    "duration": 18,
    "start_time": "2022-08-12T07:45:57.996Z"
   },
   {
    "duration": 18,
    "start_time": "2022-08-12T07:45:58.015Z"
   },
   {
    "duration": 10,
    "start_time": "2022-08-12T07:45:58.035Z"
   },
   {
    "duration": 13,
    "start_time": "2022-08-12T07:45:58.047Z"
   },
   {
    "duration": 12,
    "start_time": "2022-08-12T07:45:58.062Z"
   },
   {
    "duration": 13,
    "start_time": "2022-08-12T07:45:58.076Z"
   },
   {
    "duration": 20,
    "start_time": "2022-08-12T07:45:58.091Z"
   },
   {
    "duration": 7,
    "start_time": "2022-08-12T07:45:58.113Z"
   },
   {
    "duration": 32,
    "start_time": "2022-08-12T07:45:58.124Z"
   },
   {
    "duration": 11,
    "start_time": "2022-08-12T07:45:58.186Z"
   },
   {
    "duration": 9,
    "start_time": "2022-08-12T07:45:58.198Z"
   },
   {
    "duration": 19,
    "start_time": "2022-08-12T07:45:58.209Z"
   },
   {
    "duration": 4,
    "start_time": "2022-08-12T07:45:58.230Z"
   },
   {
    "duration": 24,
    "start_time": "2022-08-12T07:45:58.235Z"
   },
   {
    "duration": 338,
    "start_time": "2022-08-12T07:45:58.261Z"
   },
   {
    "duration": 7,
    "start_time": "2022-08-12T07:45:58.601Z"
   },
   {
    "duration": 293,
    "start_time": "2022-08-12T07:45:58.609Z"
   },
   {
    "duration": 18,
    "start_time": "2022-08-12T07:45:58.904Z"
   },
   {
    "duration": 32,
    "start_time": "2022-08-12T07:45:58.923Z"
   },
   {
    "duration": 190,
    "start_time": "2022-08-12T07:45:58.957Z"
   },
   {
    "duration": 4,
    "start_time": "2022-08-12T07:45:59.149Z"
   },
   {
    "duration": 33,
    "start_time": "2022-08-12T07:45:59.155Z"
   },
   {
    "duration": 2317,
    "start_time": "2022-08-12T07:45:59.189Z"
   },
   {
    "duration": 20,
    "start_time": "2022-08-12T07:46:01.508Z"
   },
   {
    "duration": 20,
    "start_time": "2022-08-12T07:46:01.529Z"
   },
   {
    "duration": 34,
    "start_time": "2022-08-12T07:46:01.551Z"
   },
   {
    "duration": 1727,
    "start_time": "2022-08-12T07:46:01.587Z"
   },
   {
    "duration": 22,
    "start_time": "2022-08-12T07:46:03.316Z"
   },
   {
    "duration": 6,
    "start_time": "2022-08-12T07:46:03.340Z"
   },
   {
    "duration": 25,
    "start_time": "2022-08-12T07:46:03.347Z"
   },
   {
    "duration": 659,
    "start_time": "2022-08-12T07:46:03.387Z"
   },
   {
    "duration": 24,
    "start_time": "2022-08-12T07:46:04.047Z"
   },
   {
    "duration": 6,
    "start_time": "2022-08-12T07:46:15.763Z"
   },
   {
    "duration": 29,
    "start_time": "2022-08-12T07:46:16.178Z"
   },
   {
    "duration": 627,
    "start_time": "2022-08-12T07:46:19.891Z"
   },
   {
    "duration": 17,
    "start_time": "2022-08-12T07:46:20.520Z"
   },
   {
    "duration": 611,
    "start_time": "2022-08-12T07:46:30.213Z"
   },
   {
    "duration": 493,
    "start_time": "2022-08-12T07:46:37.428Z"
   },
   {
    "duration": 400,
    "start_time": "2022-08-12T07:46:45.371Z"
   },
   {
    "duration": 360,
    "start_time": "2022-08-12T07:46:50.459Z"
   },
   {
    "duration": 368,
    "start_time": "2022-08-12T07:46:56.511Z"
   },
   {
    "duration": 123,
    "start_time": "2022-08-12T07:49:31.854Z"
   },
   {
    "duration": 155,
    "start_time": "2022-08-12T07:49:37.534Z"
   },
   {
    "duration": 229,
    "start_time": "2022-08-12T07:49:45.731Z"
   },
   {
    "duration": 201,
    "start_time": "2022-08-12T07:50:39.439Z"
   },
   {
    "duration": 240,
    "start_time": "2022-08-12T11:24:27.636Z"
   },
   {
    "duration": 131,
    "start_time": "2022-08-12T11:25:24.875Z"
   },
   {
    "duration": 123,
    "start_time": "2022-08-12T12:16:31.938Z"
   },
   {
    "duration": 136,
    "start_time": "2022-08-12T12:16:50.369Z"
   },
   {
    "duration": 130,
    "start_time": "2022-08-12T12:18:01.075Z"
   },
   {
    "duration": 132,
    "start_time": "2022-08-12T12:18:19.771Z"
   },
   {
    "duration": 140,
    "start_time": "2022-08-12T12:19:25.380Z"
   },
   {
    "duration": 411,
    "start_time": "2022-08-12T12:20:33.717Z"
   },
   {
    "duration": 111,
    "start_time": "2022-08-12T13:19:09.203Z"
   },
   {
    "duration": 426,
    "start_time": "2022-08-12T13:19:13.635Z"
   },
   {
    "duration": 544,
    "start_time": "2022-08-12T13:19:51.484Z"
   },
   {
    "duration": 419,
    "start_time": "2022-08-12T13:19:58.236Z"
   },
   {
    "duration": 1280,
    "start_time": "2022-08-13T08:21:02.179Z"
   },
   {
    "duration": 110,
    "start_time": "2022-08-13T08:21:03.461Z"
   },
   {
    "duration": 22,
    "start_time": "2022-08-13T08:21:03.573Z"
   },
   {
    "duration": 771,
    "start_time": "2022-08-13T08:21:03.597Z"
   },
   {
    "duration": 3,
    "start_time": "2022-08-13T08:21:04.369Z"
   },
   {
    "duration": 14,
    "start_time": "2022-08-13T08:21:04.373Z"
   },
   {
    "duration": 9,
    "start_time": "2022-08-13T08:21:04.389Z"
   },
   {
    "duration": 11,
    "start_time": "2022-08-13T08:21:04.399Z"
   },
   {
    "duration": 7,
    "start_time": "2022-08-13T08:21:04.411Z"
   },
   {
    "duration": 18,
    "start_time": "2022-08-13T08:21:04.421Z"
   },
   {
    "duration": 12,
    "start_time": "2022-08-13T08:21:04.441Z"
   },
   {
    "duration": 22,
    "start_time": "2022-08-13T08:21:04.454Z"
   },
   {
    "duration": 7,
    "start_time": "2022-08-13T08:21:04.477Z"
   },
   {
    "duration": 51,
    "start_time": "2022-08-13T08:21:04.485Z"
   },
   {
    "duration": 9,
    "start_time": "2022-08-13T08:21:04.538Z"
   },
   {
    "duration": 7,
    "start_time": "2022-08-13T08:21:04.548Z"
   },
   {
    "duration": 16,
    "start_time": "2022-08-13T08:21:04.556Z"
   },
   {
    "duration": 4,
    "start_time": "2022-08-13T08:21:04.573Z"
   },
   {
    "duration": 31,
    "start_time": "2022-08-13T08:21:04.579Z"
   },
   {
    "duration": 360,
    "start_time": "2022-08-13T08:21:04.611Z"
   },
   {
    "duration": 8,
    "start_time": "2022-08-13T08:21:04.973Z"
   },
   {
    "duration": 309,
    "start_time": "2022-08-13T08:21:04.983Z"
   },
   {
    "duration": 26,
    "start_time": "2022-08-13T08:21:05.294Z"
   },
   {
    "duration": 26,
    "start_time": "2022-08-13T08:21:05.322Z"
   },
   {
    "duration": 195,
    "start_time": "2022-08-13T08:21:05.350Z"
   },
   {
    "duration": 4,
    "start_time": "2022-08-13T08:21:05.547Z"
   },
   {
    "duration": 43,
    "start_time": "2022-08-13T08:21:05.552Z"
   },
   {
    "duration": 2280,
    "start_time": "2022-08-13T08:21:05.598Z"
   },
   {
    "duration": 19,
    "start_time": "2022-08-13T08:21:07.880Z"
   },
   {
    "duration": 8,
    "start_time": "2022-08-13T08:21:07.900Z"
   },
   {
    "duration": 27,
    "start_time": "2022-08-13T08:21:07.910Z"
   },
   {
    "duration": 1594,
    "start_time": "2022-08-13T08:21:07.939Z"
   },
   {
    "duration": 20,
    "start_time": "2022-08-13T08:21:09.535Z"
   },
   {
    "duration": 6,
    "start_time": "2022-08-13T08:21:09.557Z"
   },
   {
    "duration": 23,
    "start_time": "2022-08-13T08:21:09.564Z"
   },
   {
    "duration": 343,
    "start_time": "2022-08-13T08:21:09.588Z"
   },
   {
    "duration": 18,
    "start_time": "2022-08-13T08:21:09.933Z"
   },
   {
    "duration": 214,
    "start_time": "2022-08-13T08:21:09.952Z"
   },
   {
    "duration": 6,
    "start_time": "2022-08-13T08:21:10.168Z"
   },
   {
    "duration": 467,
    "start_time": "2022-08-13T08:21:10.175Z"
   },
   {
    "duration": 21,
    "start_time": "2022-08-13T08:21:10.644Z"
   },
   {
    "duration": 22,
    "start_time": "2022-08-13T08:22:33.631Z"
   },
   {
    "duration": 23,
    "start_time": "2022-08-13T08:24:22.584Z"
   },
   {
    "duration": 21,
    "start_time": "2022-08-13T08:24:31.884Z"
   },
   {
    "duration": 21,
    "start_time": "2022-08-13T08:24:36.660Z"
   },
   {
    "duration": 20,
    "start_time": "2022-08-13T08:24:41.292Z"
   },
   {
    "duration": 22,
    "start_time": "2022-08-13T08:24:48.852Z"
   },
   {
    "duration": 36,
    "start_time": "2022-08-13T08:24:54.804Z"
   },
   {
    "duration": 134,
    "start_time": "2022-08-13T08:25:40.181Z"
   },
   {
    "duration": 131,
    "start_time": "2022-08-13T08:25:50.957Z"
   },
   {
    "duration": 135,
    "start_time": "2022-08-13T08:25:56.366Z"
   },
   {
    "duration": 189,
    "start_time": "2022-08-13T08:26:25.743Z"
   },
   {
    "duration": 172,
    "start_time": "2022-08-13T08:26:41.470Z"
   },
   {
    "duration": 235,
    "start_time": "2022-08-13T08:26:47.078Z"
   },
   {
    "duration": 187,
    "start_time": "2022-08-13T08:26:54.343Z"
   },
   {
    "duration": 3,
    "start_time": "2022-08-13T08:35:18.100Z"
   },
   {
    "duration": 191,
    "start_time": "2022-08-13T08:35:18.652Z"
   },
   {
    "duration": 220,
    "start_time": "2022-08-13T08:35:31.020Z"
   },
   {
    "duration": 282,
    "start_time": "2022-08-13T08:36:26.413Z"
   },
   {
    "duration": 155,
    "start_time": "2022-08-13T08:36:51.779Z"
   },
   {
    "duration": 15,
    "start_time": "2022-08-13T08:39:15.701Z"
   },
   {
    "duration": 1542,
    "start_time": "2022-08-13T08:39:42.907Z"
   },
   {
    "duration": 11,
    "start_time": "2022-08-13T08:39:50.526Z"
   },
   {
    "duration": 26,
    "start_time": "2022-08-13T08:40:13.822Z"
   },
   {
    "duration": 11,
    "start_time": "2022-08-13T08:40:25.022Z"
   },
   {
    "duration": 9,
    "start_time": "2022-08-13T08:41:10.799Z"
   },
   {
    "duration": 15,
    "start_time": "2022-08-13T08:41:18.383Z"
   },
   {
    "duration": 12,
    "start_time": "2022-08-13T08:41:33.087Z"
   },
   {
    "duration": 198,
    "start_time": "2022-08-13T08:43:02.530Z"
   },
   {
    "duration": 25,
    "start_time": "2022-08-13T08:46:18.841Z"
   },
   {
    "duration": 34,
    "start_time": "2022-08-13T08:46:44.100Z"
   },
   {
    "duration": 6,
    "start_time": "2022-08-13T08:46:57.238Z"
   },
   {
    "duration": 45,
    "start_time": "2022-08-13T08:47:01.447Z"
   },
   {
    "duration": 144,
    "start_time": "2022-08-13T08:48:08.646Z"
   },
   {
    "duration": 159,
    "start_time": "2022-08-13T08:48:31.691Z"
   },
   {
    "duration": 6,
    "start_time": "2022-08-13T08:49:42.744Z"
   },
   {
    "duration": 4,
    "start_time": "2022-08-13T08:52:41.427Z"
   },
   {
    "duration": 5,
    "start_time": "2022-08-13T08:52:55.187Z"
   },
   {
    "duration": 12,
    "start_time": "2022-08-13T08:53:21.074Z"
   },
   {
    "duration": 1052,
    "start_time": "2022-08-13T08:53:40.957Z"
   },
   {
    "duration": 62,
    "start_time": "2022-08-13T08:53:42.011Z"
   },
   {
    "duration": 21,
    "start_time": "2022-08-13T08:53:42.075Z"
   },
   {
    "duration": 697,
    "start_time": "2022-08-13T08:53:42.098Z"
   },
   {
    "duration": 3,
    "start_time": "2022-08-13T08:53:42.796Z"
   },
   {
    "duration": 13,
    "start_time": "2022-08-13T08:53:42.809Z"
   },
   {
    "duration": 22,
    "start_time": "2022-08-13T08:53:42.823Z"
   },
   {
    "duration": 10,
    "start_time": "2022-08-13T08:53:42.846Z"
   },
   {
    "duration": 13,
    "start_time": "2022-08-13T08:53:42.858Z"
   },
   {
    "duration": 15,
    "start_time": "2022-08-13T08:53:42.874Z"
   },
   {
    "duration": 28,
    "start_time": "2022-08-13T08:53:42.891Z"
   },
   {
    "duration": 8,
    "start_time": "2022-08-13T08:53:42.921Z"
   },
   {
    "duration": 32,
    "start_time": "2022-08-13T08:53:42.930Z"
   },
   {
    "duration": 11,
    "start_time": "2022-08-13T08:53:42.964Z"
   },
   {
    "duration": 35,
    "start_time": "2022-08-13T08:53:42.977Z"
   },
   {
    "duration": 18,
    "start_time": "2022-08-13T08:53:43.014Z"
   },
   {
    "duration": 5,
    "start_time": "2022-08-13T08:53:43.034Z"
   },
   {
    "duration": 8,
    "start_time": "2022-08-13T08:53:43.041Z"
   },
   {
    "duration": 330,
    "start_time": "2022-08-13T08:53:43.051Z"
   },
   {
    "duration": 8,
    "start_time": "2022-08-13T08:53:43.382Z"
   },
   {
    "duration": 284,
    "start_time": "2022-08-13T08:53:43.391Z"
   },
   {
    "duration": 19,
    "start_time": "2022-08-13T08:53:43.677Z"
   },
   {
    "duration": 30,
    "start_time": "2022-08-13T08:53:43.698Z"
   },
   {
    "duration": 196,
    "start_time": "2022-08-13T08:53:43.730Z"
   },
   {
    "duration": 5,
    "start_time": "2022-08-13T08:53:43.927Z"
   },
   {
    "duration": 27,
    "start_time": "2022-08-13T08:53:43.933Z"
   },
   {
    "duration": 2153,
    "start_time": "2022-08-13T08:53:43.961Z"
   },
   {
    "duration": 18,
    "start_time": "2022-08-13T08:53:46.118Z"
   },
   {
    "duration": 6,
    "start_time": "2022-08-13T08:53:46.138Z"
   },
   {
    "duration": 28,
    "start_time": "2022-08-13T08:53:46.145Z"
   },
   {
    "duration": 1665,
    "start_time": "2022-08-13T08:53:46.175Z"
   },
   {
    "duration": 21,
    "start_time": "2022-08-13T08:53:47.841Z"
   },
   {
    "duration": 6,
    "start_time": "2022-08-13T08:53:47.864Z"
   },
   {
    "duration": 38,
    "start_time": "2022-08-13T08:53:47.872Z"
   },
   {
    "duration": 334,
    "start_time": "2022-08-13T08:53:47.912Z"
   },
   {
    "duration": 17,
    "start_time": "2022-08-13T08:53:48.248Z"
   },
   {
    "duration": 206,
    "start_time": "2022-08-13T08:53:48.266Z"
   },
   {
    "duration": 5,
    "start_time": "2022-08-13T08:53:48.473Z"
   },
   {
    "duration": 1701,
    "start_time": "2022-08-13T08:53:48.480Z"
   },
   {
    "duration": 27,
    "start_time": "2022-08-13T08:53:50.182Z"
   },
   {
    "duration": 200,
    "start_time": "2022-08-13T08:53:50.210Z"
   },
   {
    "duration": 5,
    "start_time": "2022-08-13T08:53:50.412Z"
   },
   {
    "duration": 8,
    "start_time": "2022-08-13T08:53:50.418Z"
   },
   {
    "duration": 17,
    "start_time": "2022-08-13T08:53:50.427Z"
   },
   {
    "duration": 7,
    "start_time": "2022-08-13T08:53:50.445Z"
   },
   {
    "duration": 143,
    "start_time": "2022-08-13T08:53:50.453Z"
   },
   {
    "duration": 14,
    "start_time": "2022-08-13T08:53:50.598Z"
   },
   {
    "duration": 11,
    "start_time": "2022-08-13T08:53:50.613Z"
   },
   {
    "duration": 391,
    "start_time": "2022-08-13T08:56:05.019Z"
   },
   {
    "duration": 11,
    "start_time": "2022-08-13T08:56:26.027Z"
   },
   {
    "duration": 1076,
    "start_time": "2022-08-13T08:56:36.562Z"
   },
   {
    "duration": 66,
    "start_time": "2022-08-13T08:56:37.640Z"
   },
   {
    "duration": 23,
    "start_time": "2022-08-13T08:56:37.708Z"
   },
   {
    "duration": 718,
    "start_time": "2022-08-13T08:56:37.734Z"
   },
   {
    "duration": 2,
    "start_time": "2022-08-13T08:56:38.454Z"
   },
   {
    "duration": 9,
    "start_time": "2022-08-13T08:56:38.457Z"
   },
   {
    "duration": 8,
    "start_time": "2022-08-13T08:56:38.467Z"
   },
   {
    "duration": 8,
    "start_time": "2022-08-13T08:56:38.477Z"
   },
   {
    "duration": 12,
    "start_time": "2022-08-13T08:56:38.487Z"
   },
   {
    "duration": 10,
    "start_time": "2022-08-13T08:56:38.508Z"
   },
   {
    "duration": 22,
    "start_time": "2022-08-13T08:56:38.520Z"
   },
   {
    "duration": 7,
    "start_time": "2022-08-13T08:56:38.543Z"
   },
   {
    "duration": 57,
    "start_time": "2022-08-13T08:56:38.552Z"
   },
   {
    "duration": 9,
    "start_time": "2022-08-13T08:56:38.611Z"
   },
   {
    "duration": 10,
    "start_time": "2022-08-13T08:56:38.622Z"
   },
   {
    "duration": 17,
    "start_time": "2022-08-13T08:56:38.634Z"
   },
   {
    "duration": 4,
    "start_time": "2022-08-13T08:56:38.652Z"
   },
   {
    "duration": 9,
    "start_time": "2022-08-13T08:56:38.657Z"
   },
   {
    "duration": 321,
    "start_time": "2022-08-13T08:56:38.668Z"
   },
   {
    "duration": 6,
    "start_time": "2022-08-13T08:56:38.991Z"
   },
   {
    "duration": 267,
    "start_time": "2022-08-13T08:56:39.009Z"
   },
   {
    "duration": 17,
    "start_time": "2022-08-13T08:56:39.278Z"
   },
   {
    "duration": 26,
    "start_time": "2022-08-13T08:56:39.297Z"
   },
   {
    "duration": 188,
    "start_time": "2022-08-13T08:56:39.325Z"
   },
   {
    "duration": 5,
    "start_time": "2022-08-13T08:56:39.515Z"
   },
   {
    "duration": 20,
    "start_time": "2022-08-13T08:56:39.521Z"
   },
   {
    "duration": 2188,
    "start_time": "2022-08-13T08:56:39.542Z"
   },
   {
    "duration": 19,
    "start_time": "2022-08-13T08:56:41.733Z"
   },
   {
    "duration": 7,
    "start_time": "2022-08-13T08:56:41.753Z"
   },
   {
    "duration": 22,
    "start_time": "2022-08-13T08:56:41.761Z"
   },
   {
    "duration": 1590,
    "start_time": "2022-08-13T08:56:41.785Z"
   },
   {
    "duration": 21,
    "start_time": "2022-08-13T08:56:43.377Z"
   },
   {
    "duration": 7,
    "start_time": "2022-08-13T08:56:43.409Z"
   },
   {
    "duration": 23,
    "start_time": "2022-08-13T08:56:43.417Z"
   },
   {
    "duration": 357,
    "start_time": "2022-08-13T08:56:43.442Z"
   },
   {
    "duration": 20,
    "start_time": "2022-08-13T08:56:43.800Z"
   },
   {
    "duration": 198,
    "start_time": "2022-08-13T08:56:43.822Z"
   },
   {
    "duration": 6,
    "start_time": "2022-08-13T08:56:44.022Z"
   },
   {
    "duration": 1674,
    "start_time": "2022-08-13T08:56:44.030Z"
   },
   {
    "duration": 19,
    "start_time": "2022-08-13T08:56:45.708Z"
   },
   {
    "duration": 203,
    "start_time": "2022-08-13T08:56:45.729Z"
   },
   {
    "duration": 6,
    "start_time": "2022-08-13T08:56:45.934Z"
   },
   {
    "duration": 11,
    "start_time": "2022-08-13T08:56:45.942Z"
   },
   {
    "duration": 12,
    "start_time": "2022-08-13T08:56:45.956Z"
   },
   {
    "duration": 8,
    "start_time": "2022-08-13T08:56:45.969Z"
   },
   {
    "duration": 164,
    "start_time": "2022-08-13T08:56:45.978Z"
   },
   {
    "duration": 12,
    "start_time": "2022-08-13T08:56:46.143Z"
   },
   {
    "duration": 10,
    "start_time": "2022-08-13T08:56:46.157Z"
   },
   {
    "duration": 409,
    "start_time": "2022-08-13T08:57:59.275Z"
   },
   {
    "duration": 10,
    "start_time": "2022-08-13T08:58:14.113Z"
   },
   {
    "duration": 5,
    "start_time": "2022-08-13T08:58:21.932Z"
   },
   {
    "duration": 11,
    "start_time": "2022-08-13T08:58:22.653Z"
   },
   {
    "duration": 2,
    "start_time": "2022-08-13T08:58:39.300Z"
   },
   {
    "duration": 735,
    "start_time": "2022-08-13T08:58:39.850Z"
   },
   {
    "duration": 1117,
    "start_time": "2022-08-13T08:59:49.922Z"
   },
   {
    "duration": 63,
    "start_time": "2022-08-13T08:59:51.040Z"
   },
   {
    "duration": 28,
    "start_time": "2022-08-13T08:59:51.105Z"
   },
   {
    "duration": 804,
    "start_time": "2022-08-13T08:59:51.135Z"
   },
   {
    "duration": 2,
    "start_time": "2022-08-13T08:59:51.942Z"
   },
   {
    "duration": 108,
    "start_time": "2022-08-13T08:59:51.945Z"
   },
   {
    "duration": 0,
    "start_time": "2022-08-13T08:59:52.055Z"
   },
   {
    "duration": 0,
    "start_time": "2022-08-13T08:59:52.056Z"
   },
   {
    "duration": 0,
    "start_time": "2022-08-13T08:59:52.057Z"
   },
   {
    "duration": 0,
    "start_time": "2022-08-13T08:59:52.059Z"
   },
   {
    "duration": 0,
    "start_time": "2022-08-13T08:59:52.059Z"
   },
   {
    "duration": 0,
    "start_time": "2022-08-13T08:59:52.060Z"
   },
   {
    "duration": 0,
    "start_time": "2022-08-13T08:59:52.061Z"
   },
   {
    "duration": 0,
    "start_time": "2022-08-13T08:59:52.062Z"
   },
   {
    "duration": 0,
    "start_time": "2022-08-13T08:59:52.063Z"
   },
   {
    "duration": 0,
    "start_time": "2022-08-13T08:59:52.064Z"
   },
   {
    "duration": 0,
    "start_time": "2022-08-13T08:59:52.065Z"
   },
   {
    "duration": 0,
    "start_time": "2022-08-13T08:59:52.066Z"
   },
   {
    "duration": 0,
    "start_time": "2022-08-13T08:59:52.067Z"
   },
   {
    "duration": 0,
    "start_time": "2022-08-13T08:59:52.068Z"
   },
   {
    "duration": 0,
    "start_time": "2022-08-13T08:59:52.069Z"
   },
   {
    "duration": 0,
    "start_time": "2022-08-13T08:59:52.070Z"
   },
   {
    "duration": 0,
    "start_time": "2022-08-13T08:59:52.071Z"
   },
   {
    "duration": 0,
    "start_time": "2022-08-13T08:59:52.071Z"
   },
   {
    "duration": 0,
    "start_time": "2022-08-13T08:59:52.072Z"
   },
   {
    "duration": 0,
    "start_time": "2022-08-13T08:59:52.073Z"
   },
   {
    "duration": 0,
    "start_time": "2022-08-13T08:59:52.110Z"
   },
   {
    "duration": 0,
    "start_time": "2022-08-13T08:59:52.111Z"
   },
   {
    "duration": 0,
    "start_time": "2022-08-13T08:59:52.113Z"
   },
   {
    "duration": 0,
    "start_time": "2022-08-13T08:59:52.114Z"
   },
   {
    "duration": 0,
    "start_time": "2022-08-13T08:59:52.116Z"
   },
   {
    "duration": 0,
    "start_time": "2022-08-13T08:59:52.117Z"
   },
   {
    "duration": 0,
    "start_time": "2022-08-13T08:59:52.118Z"
   },
   {
    "duration": 0,
    "start_time": "2022-08-13T08:59:52.120Z"
   },
   {
    "duration": 0,
    "start_time": "2022-08-13T08:59:52.122Z"
   },
   {
    "duration": 0,
    "start_time": "2022-08-13T08:59:52.124Z"
   },
   {
    "duration": 0,
    "start_time": "2022-08-13T08:59:52.126Z"
   },
   {
    "duration": 0,
    "start_time": "2022-08-13T08:59:52.127Z"
   },
   {
    "duration": 0,
    "start_time": "2022-08-13T08:59:52.128Z"
   },
   {
    "duration": 0,
    "start_time": "2022-08-13T08:59:52.129Z"
   },
   {
    "duration": 0,
    "start_time": "2022-08-13T08:59:52.130Z"
   },
   {
    "duration": 0,
    "start_time": "2022-08-13T08:59:52.131Z"
   },
   {
    "duration": 0,
    "start_time": "2022-08-13T08:59:52.132Z"
   },
   {
    "duration": 0,
    "start_time": "2022-08-13T08:59:52.133Z"
   },
   {
    "duration": 0,
    "start_time": "2022-08-13T08:59:52.134Z"
   },
   {
    "duration": 0,
    "start_time": "2022-08-13T08:59:52.135Z"
   },
   {
    "duration": 0,
    "start_time": "2022-08-13T08:59:52.136Z"
   },
   {
    "duration": 0,
    "start_time": "2022-08-13T08:59:52.137Z"
   },
   {
    "duration": 1206,
    "start_time": "2022-08-13T09:00:01.460Z"
   },
   {
    "duration": 73,
    "start_time": "2022-08-13T09:00:02.668Z"
   },
   {
    "duration": 23,
    "start_time": "2022-08-13T09:00:02.742Z"
   },
   {
    "duration": 795,
    "start_time": "2022-08-13T09:00:02.767Z"
   },
   {
    "duration": 3,
    "start_time": "2022-08-13T09:00:03.564Z"
   },
   {
    "duration": 132,
    "start_time": "2022-08-13T09:00:03.568Z"
   },
   {
    "duration": 0,
    "start_time": "2022-08-13T09:00:03.709Z"
   },
   {
    "duration": 0,
    "start_time": "2022-08-13T09:00:03.711Z"
   },
   {
    "duration": 0,
    "start_time": "2022-08-13T09:00:03.713Z"
   },
   {
    "duration": 0,
    "start_time": "2022-08-13T09:00:03.714Z"
   },
   {
    "duration": 0,
    "start_time": "2022-08-13T09:00:03.716Z"
   },
   {
    "duration": 0,
    "start_time": "2022-08-13T09:00:03.718Z"
   },
   {
    "duration": 0,
    "start_time": "2022-08-13T09:00:03.719Z"
   },
   {
    "duration": 0,
    "start_time": "2022-08-13T09:00:03.721Z"
   },
   {
    "duration": 0,
    "start_time": "2022-08-13T09:00:03.723Z"
   },
   {
    "duration": 0,
    "start_time": "2022-08-13T09:00:03.724Z"
   },
   {
    "duration": 0,
    "start_time": "2022-08-13T09:00:03.725Z"
   },
   {
    "duration": 1,
    "start_time": "2022-08-13T09:00:03.726Z"
   },
   {
    "duration": 0,
    "start_time": "2022-08-13T09:00:03.728Z"
   },
   {
    "duration": 0,
    "start_time": "2022-08-13T09:00:03.729Z"
   },
   {
    "duration": 0,
    "start_time": "2022-08-13T09:00:03.730Z"
   },
   {
    "duration": 0,
    "start_time": "2022-08-13T09:00:03.731Z"
   },
   {
    "duration": 0,
    "start_time": "2022-08-13T09:00:03.731Z"
   },
   {
    "duration": 0,
    "start_time": "2022-08-13T09:00:03.732Z"
   },
   {
    "duration": 0,
    "start_time": "2022-08-13T09:00:03.733Z"
   },
   {
    "duration": 0,
    "start_time": "2022-08-13T09:00:03.734Z"
   },
   {
    "duration": 0,
    "start_time": "2022-08-13T09:00:03.735Z"
   },
   {
    "duration": 0,
    "start_time": "2022-08-13T09:00:03.736Z"
   },
   {
    "duration": 0,
    "start_time": "2022-08-13T09:00:03.737Z"
   },
   {
    "duration": 0,
    "start_time": "2022-08-13T09:00:03.738Z"
   },
   {
    "duration": 0,
    "start_time": "2022-08-13T09:00:03.739Z"
   },
   {
    "duration": 0,
    "start_time": "2022-08-13T09:00:03.740Z"
   },
   {
    "duration": 0,
    "start_time": "2022-08-13T09:00:03.741Z"
   },
   {
    "duration": 0,
    "start_time": "2022-08-13T09:00:03.742Z"
   },
   {
    "duration": 0,
    "start_time": "2022-08-13T09:00:03.743Z"
   },
   {
    "duration": 0,
    "start_time": "2022-08-13T09:00:03.743Z"
   },
   {
    "duration": 0,
    "start_time": "2022-08-13T09:00:03.744Z"
   },
   {
    "duration": 0,
    "start_time": "2022-08-13T09:00:03.745Z"
   },
   {
    "duration": 0,
    "start_time": "2022-08-13T09:00:03.746Z"
   },
   {
    "duration": 0,
    "start_time": "2022-08-13T09:00:03.747Z"
   },
   {
    "duration": 0,
    "start_time": "2022-08-13T09:00:03.748Z"
   },
   {
    "duration": 0,
    "start_time": "2022-08-13T09:00:03.749Z"
   },
   {
    "duration": 0,
    "start_time": "2022-08-13T09:00:03.749Z"
   },
   {
    "duration": 0,
    "start_time": "2022-08-13T09:00:03.751Z"
   },
   {
    "duration": 0,
    "start_time": "2022-08-13T09:00:03.811Z"
   },
   {
    "duration": 0,
    "start_time": "2022-08-13T09:00:03.812Z"
   },
   {
    "duration": 0,
    "start_time": "2022-08-13T09:00:03.814Z"
   },
   {
    "duration": 0,
    "start_time": "2022-08-13T09:00:03.815Z"
   },
   {
    "duration": 1080,
    "start_time": "2022-08-13T09:00:43.456Z"
   },
   {
    "duration": 63,
    "start_time": "2022-08-13T09:00:44.538Z"
   },
   {
    "duration": 28,
    "start_time": "2022-08-13T09:00:44.602Z"
   },
   {
    "duration": 790,
    "start_time": "2022-08-13T09:00:44.632Z"
   },
   {
    "duration": 2,
    "start_time": "2022-08-13T09:00:45.425Z"
   },
   {
    "duration": 122,
    "start_time": "2022-08-13T09:00:45.429Z"
   },
   {
    "duration": 0,
    "start_time": "2022-08-13T09:00:45.555Z"
   },
   {
    "duration": 0,
    "start_time": "2022-08-13T09:00:45.556Z"
   },
   {
    "duration": 0,
    "start_time": "2022-08-13T09:00:45.557Z"
   },
   {
    "duration": 0,
    "start_time": "2022-08-13T09:00:45.559Z"
   },
   {
    "duration": 0,
    "start_time": "2022-08-13T09:00:45.560Z"
   },
   {
    "duration": 0,
    "start_time": "2022-08-13T09:00:45.561Z"
   },
   {
    "duration": 0,
    "start_time": "2022-08-13T09:00:45.563Z"
   },
   {
    "duration": 0,
    "start_time": "2022-08-13T09:00:45.564Z"
   },
   {
    "duration": 0,
    "start_time": "2022-08-13T09:00:45.565Z"
   },
   {
    "duration": 0,
    "start_time": "2022-08-13T09:00:45.567Z"
   },
   {
    "duration": 0,
    "start_time": "2022-08-13T09:00:45.568Z"
   },
   {
    "duration": 0,
    "start_time": "2022-08-13T09:00:45.569Z"
   },
   {
    "duration": 0,
    "start_time": "2022-08-13T09:00:45.570Z"
   },
   {
    "duration": 0,
    "start_time": "2022-08-13T09:00:45.572Z"
   },
   {
    "duration": 0,
    "start_time": "2022-08-13T09:00:45.573Z"
   },
   {
    "duration": 0,
    "start_time": "2022-08-13T09:00:45.574Z"
   },
   {
    "duration": 0,
    "start_time": "2022-08-13T09:00:45.576Z"
   },
   {
    "duration": 0,
    "start_time": "2022-08-13T09:00:45.577Z"
   },
   {
    "duration": 0,
    "start_time": "2022-08-13T09:00:45.610Z"
   },
   {
    "duration": 0,
    "start_time": "2022-08-13T09:00:45.612Z"
   },
   {
    "duration": 0,
    "start_time": "2022-08-13T09:00:45.613Z"
   },
   {
    "duration": 0,
    "start_time": "2022-08-13T09:00:45.615Z"
   },
   {
    "duration": 0,
    "start_time": "2022-08-13T09:00:45.617Z"
   },
   {
    "duration": 0,
    "start_time": "2022-08-13T09:00:45.618Z"
   },
   {
    "duration": 0,
    "start_time": "2022-08-13T09:00:45.620Z"
   },
   {
    "duration": 0,
    "start_time": "2022-08-13T09:00:45.621Z"
   },
   {
    "duration": 0,
    "start_time": "2022-08-13T09:00:45.623Z"
   },
   {
    "duration": 0,
    "start_time": "2022-08-13T09:00:45.625Z"
   },
   {
    "duration": 0,
    "start_time": "2022-08-13T09:00:45.626Z"
   },
   {
    "duration": 0,
    "start_time": "2022-08-13T09:00:45.627Z"
   },
   {
    "duration": 0,
    "start_time": "2022-08-13T09:00:45.628Z"
   },
   {
    "duration": 0,
    "start_time": "2022-08-13T09:00:45.629Z"
   },
   {
    "duration": 0,
    "start_time": "2022-08-13T09:00:45.630Z"
   },
   {
    "duration": 0,
    "start_time": "2022-08-13T09:00:45.631Z"
   },
   {
    "duration": 0,
    "start_time": "2022-08-13T09:00:45.632Z"
   },
   {
    "duration": 0,
    "start_time": "2022-08-13T09:00:45.633Z"
   },
   {
    "duration": 0,
    "start_time": "2022-08-13T09:00:45.634Z"
   },
   {
    "duration": 0,
    "start_time": "2022-08-13T09:00:45.635Z"
   },
   {
    "duration": 0,
    "start_time": "2022-08-13T09:00:45.636Z"
   },
   {
    "duration": 0,
    "start_time": "2022-08-13T09:00:45.637Z"
   },
   {
    "duration": 0,
    "start_time": "2022-08-13T09:00:45.637Z"
   },
   {
    "duration": 0,
    "start_time": "2022-08-13T09:00:45.638Z"
   },
   {
    "duration": 1090,
    "start_time": "2022-08-13T09:01:18.482Z"
   },
   {
    "duration": 75,
    "start_time": "2022-08-13T09:01:19.574Z"
   },
   {
    "duration": 24,
    "start_time": "2022-08-13T09:01:19.651Z"
   },
   {
    "duration": 789,
    "start_time": "2022-08-13T09:01:19.677Z"
   },
   {
    "duration": 3,
    "start_time": "2022-08-13T09:01:20.468Z"
   },
   {
    "duration": 14,
    "start_time": "2022-08-13T09:01:20.473Z"
   },
   {
    "duration": 9,
    "start_time": "2022-08-13T09:01:20.488Z"
   },
   {
    "duration": 14,
    "start_time": "2022-08-13T09:01:20.498Z"
   },
   {
    "duration": 16,
    "start_time": "2022-08-13T09:01:20.514Z"
   },
   {
    "duration": 12,
    "start_time": "2022-08-13T09:01:20.532Z"
   },
   {
    "duration": 9,
    "start_time": "2022-08-13T09:01:20.545Z"
   },
   {
    "duration": 21,
    "start_time": "2022-08-13T09:01:20.555Z"
   },
   {
    "duration": 12,
    "start_time": "2022-08-13T09:01:20.578Z"
   },
   {
    "duration": 53,
    "start_time": "2022-08-13T09:01:20.591Z"
   },
   {
    "duration": 9,
    "start_time": "2022-08-13T09:01:20.646Z"
   },
   {
    "duration": 17,
    "start_time": "2022-08-13T09:01:20.656Z"
   },
   {
    "duration": 28,
    "start_time": "2022-08-13T09:01:20.674Z"
   },
   {
    "duration": 8,
    "start_time": "2022-08-13T09:01:20.703Z"
   },
   {
    "duration": 24,
    "start_time": "2022-08-13T09:01:20.714Z"
   },
   {
    "duration": 324,
    "start_time": "2022-08-13T09:01:20.739Z"
   },
   {
    "duration": 7,
    "start_time": "2022-08-13T09:01:21.065Z"
   },
   {
    "duration": 299,
    "start_time": "2022-08-13T09:01:21.074Z"
   },
   {
    "duration": 19,
    "start_time": "2022-08-13T09:01:21.374Z"
   },
   {
    "duration": 48,
    "start_time": "2022-08-13T09:01:21.395Z"
   },
   {
    "duration": 185,
    "start_time": "2022-08-13T09:01:21.445Z"
   },
   {
    "duration": 4,
    "start_time": "2022-08-13T09:01:21.632Z"
   },
   {
    "duration": 25,
    "start_time": "2022-08-13T09:01:21.638Z"
   },
   {
    "duration": 2292,
    "start_time": "2022-08-13T09:01:21.666Z"
   },
   {
    "duration": 20,
    "start_time": "2022-08-13T09:01:23.959Z"
   },
   {
    "duration": 6,
    "start_time": "2022-08-13T09:01:23.980Z"
   },
   {
    "duration": 26,
    "start_time": "2022-08-13T09:01:23.988Z"
   },
   {
    "duration": 1697,
    "start_time": "2022-08-13T09:01:24.017Z"
   },
   {
    "duration": 24,
    "start_time": "2022-08-13T09:01:25.717Z"
   },
   {
    "duration": 7,
    "start_time": "2022-08-13T09:01:25.743Z"
   },
   {
    "duration": 23,
    "start_time": "2022-08-13T09:01:25.751Z"
   },
   {
    "duration": 405,
    "start_time": "2022-08-13T09:01:25.776Z"
   },
   {
    "duration": 28,
    "start_time": "2022-08-13T09:01:26.182Z"
   },
   {
    "duration": 215,
    "start_time": "2022-08-13T09:01:26.212Z"
   },
   {
    "duration": 4,
    "start_time": "2022-08-13T09:01:26.429Z"
   },
   {
    "duration": 513,
    "start_time": "2022-08-13T09:01:26.435Z"
   },
   {
    "duration": 21,
    "start_time": "2022-08-13T09:01:26.949Z"
   },
   {
    "duration": 234,
    "start_time": "2022-08-13T09:01:26.972Z"
   },
   {
    "duration": 6,
    "start_time": "2022-08-13T09:01:27.209Z"
   },
   {
    "duration": 28,
    "start_time": "2022-08-13T09:01:27.217Z"
   },
   {
    "duration": 43,
    "start_time": "2022-08-13T09:01:27.246Z"
   },
   {
    "duration": 6,
    "start_time": "2022-08-13T09:01:27.291Z"
   },
   {
    "duration": 653,
    "start_time": "2022-08-13T09:01:27.299Z"
   },
   {
    "duration": 7,
    "start_time": "2022-08-13T09:01:27.954Z"
   },
   {
    "duration": 14,
    "start_time": "2022-08-13T09:03:29.339Z"
   },
   {
    "duration": 10,
    "start_time": "2022-08-13T09:04:06.763Z"
   },
   {
    "duration": 103,
    "start_time": "2022-08-13T09:08:20.421Z"
   },
   {
    "duration": 511,
    "start_time": "2022-08-13T09:08:25.768Z"
   },
   {
    "duration": 484,
    "start_time": "2022-08-13T09:08:39.704Z"
   },
   {
    "duration": 620,
    "start_time": "2022-08-13T09:09:29.546Z"
   },
   {
    "duration": 526,
    "start_time": "2022-08-13T09:09:50.657Z"
   },
   {
    "duration": 708,
    "start_time": "2022-08-13T09:09:57.273Z"
   },
   {
    "duration": 11,
    "start_time": "2022-08-13T09:14:59.607Z"
   },
   {
    "duration": 9,
    "start_time": "2022-08-13T09:15:02.647Z"
   },
   {
    "duration": 14,
    "start_time": "2022-08-13T09:15:05.207Z"
   },
   {
    "duration": 84,
    "start_time": "2022-08-13T09:17:18.000Z"
   },
   {
    "duration": 8,
    "start_time": "2022-08-13T09:19:33.443Z"
   },
   {
    "duration": 8,
    "start_time": "2022-08-13T09:19:52.139Z"
   },
   {
    "duration": 11,
    "start_time": "2022-08-13T09:20:17.387Z"
   },
   {
    "duration": 9,
    "start_time": "2022-08-13T09:20:21.979Z"
   },
   {
    "duration": 10,
    "start_time": "2022-08-13T09:20:33.428Z"
   },
   {
    "duration": 8,
    "start_time": "2022-08-13T09:20:48.973Z"
   },
   {
    "duration": 12,
    "start_time": "2022-08-13T09:20:49.905Z"
   },
   {
    "duration": 8,
    "start_time": "2022-08-13T09:20:56.500Z"
   },
   {
    "duration": 12,
    "start_time": "2022-08-13T09:24:58.910Z"
   },
   {
    "duration": 9,
    "start_time": "2022-08-13T09:25:10.921Z"
   },
   {
    "duration": 9,
    "start_time": "2022-08-13T09:25:14.248Z"
   },
   {
    "duration": 7,
    "start_time": "2022-08-13T09:25:21.489Z"
   },
   {
    "duration": 7,
    "start_time": "2022-08-13T09:25:31.121Z"
   },
   {
    "duration": 7,
    "start_time": "2022-08-13T09:25:36.954Z"
   },
   {
    "duration": 8,
    "start_time": "2022-08-13T09:26:41.874Z"
   },
   {
    "duration": 9,
    "start_time": "2022-08-13T09:26:47.138Z"
   },
   {
    "duration": 12,
    "start_time": "2022-08-13T09:26:51.511Z"
   },
   {
    "duration": 8,
    "start_time": "2022-08-13T09:30:44.502Z"
   },
   {
    "duration": 7,
    "start_time": "2022-08-13T09:30:52.863Z"
   },
   {
    "duration": 8,
    "start_time": "2022-08-13T09:30:54.686Z"
   },
   {
    "duration": 8,
    "start_time": "2022-08-13T09:30:57.678Z"
   },
   {
    "duration": 9,
    "start_time": "2022-08-13T09:30:59.686Z"
   },
   {
    "duration": 9,
    "start_time": "2022-08-13T09:31:01.766Z"
   },
   {
    "duration": 9,
    "start_time": "2022-08-13T09:36:25.985Z"
   },
   {
    "duration": 8,
    "start_time": "2022-08-13T09:36:36.321Z"
   },
   {
    "duration": 7,
    "start_time": "2022-08-13T09:36:45.427Z"
   },
   {
    "duration": 9,
    "start_time": "2022-08-13T09:50:04.576Z"
   },
   {
    "duration": 3,
    "start_time": "2022-08-13T09:50:23.432Z"
   },
   {
    "duration": 1247,
    "start_time": "2022-08-13T09:50:24.232Z"
   },
   {
    "duration": 74,
    "start_time": "2022-08-13T09:50:34.169Z"
   },
   {
    "duration": 69,
    "start_time": "2022-08-13T09:51:28.970Z"
   },
   {
    "duration": 8,
    "start_time": "2022-08-13T09:52:05.035Z"
   },
   {
    "duration": 10,
    "start_time": "2022-08-13T09:52:14.731Z"
   },
   {
    "duration": 12,
    "start_time": "2022-08-13T09:52:24.042Z"
   },
   {
    "duration": 13,
    "start_time": "2022-08-13T09:55:18.909Z"
   },
   {
    "duration": 52,
    "start_time": "2022-08-14T08:06:24.590Z"
   },
   {
    "duration": 1514,
    "start_time": "2022-08-14T08:06:35.666Z"
   },
   {
    "duration": 211,
    "start_time": "2022-08-14T08:06:37.182Z"
   },
   {
    "duration": 26,
    "start_time": "2022-08-14T08:06:37.395Z"
   },
   {
    "duration": 875,
    "start_time": "2022-08-14T08:06:37.423Z"
   },
   {
    "duration": 2,
    "start_time": "2022-08-14T08:06:38.300Z"
   },
   {
    "duration": 13,
    "start_time": "2022-08-14T08:06:38.304Z"
   },
   {
    "duration": 10,
    "start_time": "2022-08-14T08:06:38.319Z"
   },
   {
    "duration": 7,
    "start_time": "2022-08-14T08:06:38.331Z"
   },
   {
    "duration": 8,
    "start_time": "2022-08-14T08:06:38.339Z"
   },
   {
    "duration": 13,
    "start_time": "2022-08-14T08:06:38.349Z"
   },
   {
    "duration": 33,
    "start_time": "2022-08-14T08:06:38.363Z"
   },
   {
    "duration": 24,
    "start_time": "2022-08-14T08:06:38.398Z"
   },
   {
    "duration": 18,
    "start_time": "2022-08-14T08:06:38.424Z"
   },
   {
    "duration": 55,
    "start_time": "2022-08-14T08:06:38.445Z"
   },
   {
    "duration": 12,
    "start_time": "2022-08-14T08:06:38.502Z"
   },
   {
    "duration": 11,
    "start_time": "2022-08-14T08:06:38.516Z"
   },
   {
    "duration": 26,
    "start_time": "2022-08-14T08:06:38.529Z"
   },
   {
    "duration": 5,
    "start_time": "2022-08-14T08:06:38.557Z"
   },
   {
    "duration": 31,
    "start_time": "2022-08-14T08:06:38.563Z"
   },
   {
    "duration": 374,
    "start_time": "2022-08-14T08:06:38.596Z"
   },
   {
    "duration": 7,
    "start_time": "2022-08-14T08:06:38.972Z"
   },
   {
    "duration": 334,
    "start_time": "2022-08-14T08:06:38.992Z"
   },
   {
    "duration": 21,
    "start_time": "2022-08-14T08:06:39.328Z"
   },
   {
    "duration": 45,
    "start_time": "2022-08-14T08:06:39.351Z"
   },
   {
    "duration": 217,
    "start_time": "2022-08-14T08:06:39.398Z"
   },
   {
    "duration": 5,
    "start_time": "2022-08-14T08:06:39.616Z"
   },
   {
    "duration": 30,
    "start_time": "2022-08-14T08:06:39.623Z"
   },
   {
    "duration": 2619,
    "start_time": "2022-08-14T08:06:39.657Z"
   },
   {
    "duration": 22,
    "start_time": "2022-08-14T08:06:42.277Z"
   },
   {
    "duration": 8,
    "start_time": "2022-08-14T08:06:42.300Z"
   },
   {
    "duration": 48,
    "start_time": "2022-08-14T08:06:42.310Z"
   },
   {
    "duration": 1829,
    "start_time": "2022-08-14T08:06:42.360Z"
   },
   {
    "duration": 25,
    "start_time": "2022-08-14T08:06:44.190Z"
   },
   {
    "duration": 9,
    "start_time": "2022-08-14T08:06:44.217Z"
   },
   {
    "duration": 40,
    "start_time": "2022-08-14T08:06:44.227Z"
   },
   {
    "duration": 403,
    "start_time": "2022-08-14T08:06:44.269Z"
   },
   {
    "duration": 28,
    "start_time": "2022-08-14T08:06:44.675Z"
   },
   {
    "duration": 243,
    "start_time": "2022-08-14T08:06:44.705Z"
   },
   {
    "duration": 6,
    "start_time": "2022-08-14T08:06:44.950Z"
   },
   {
    "duration": 578,
    "start_time": "2022-08-14T08:06:44.958Z"
   },
   {
    "duration": 25,
    "start_time": "2022-08-14T08:06:45.538Z"
   },
   {
    "duration": 7,
    "start_time": "2022-08-14T08:06:45.565Z"
   },
   {
    "duration": 6,
    "start_time": "2022-08-14T08:06:45.592Z"
   },
   {
    "duration": 22,
    "start_time": "2022-08-14T08:06:45.600Z"
   },
   {
    "duration": 7,
    "start_time": "2022-08-14T08:06:45.623Z"
   },
   {
    "duration": 18,
    "start_time": "2022-08-14T08:06:45.632Z"
   },
   {
    "duration": 687,
    "start_time": "2022-08-14T08:06:45.652Z"
   },
   {
    "duration": 3,
    "start_time": "2022-08-14T08:06:46.341Z"
   },
   {
    "duration": 583,
    "start_time": "2022-08-14T08:06:46.346Z"
   },
   {
    "duration": 9,
    "start_time": "2022-08-14T08:06:46.931Z"
   },
   {
    "duration": 24,
    "start_time": "2022-08-14T08:06:46.941Z"
   },
   {
    "duration": 21,
    "start_time": "2022-08-14T08:06:46.967Z"
   },
   {
    "duration": 19,
    "start_time": "2022-08-14T08:06:46.989Z"
   },
   {
    "duration": 9,
    "start_time": "2022-08-14T08:06:47.010Z"
   },
   {
    "duration": 28,
    "start_time": "2022-08-14T08:06:47.021Z"
   },
   {
    "duration": 16,
    "start_time": "2022-08-14T08:06:47.051Z"
   },
   {
    "duration": 9,
    "start_time": "2022-08-14T08:06:47.069Z"
   },
   {
    "duration": 15,
    "start_time": "2022-08-14T08:06:47.080Z"
   },
   {
    "duration": 20,
    "start_time": "2022-08-14T08:06:47.097Z"
   },
   {
    "duration": 24,
    "start_time": "2022-08-14T08:06:47.120Z"
   },
   {
    "duration": 19,
    "start_time": "2022-08-14T08:06:47.146Z"
   },
   {
    "duration": 27,
    "start_time": "2022-08-14T08:06:47.167Z"
   },
   {
    "duration": 28,
    "start_time": "2022-08-14T08:07:08.416Z"
   },
   {
    "duration": 30,
    "start_time": "2022-08-14T08:07:26.817Z"
   },
   {
    "duration": 29,
    "start_time": "2022-08-14T08:07:36.704Z"
   },
   {
    "duration": 30,
    "start_time": "2022-08-14T08:08:38.043Z"
   },
   {
    "duration": 26,
    "start_time": "2022-08-14T08:08:49.610Z"
   },
   {
    "duration": 28,
    "start_time": "2022-08-14T08:09:17.595Z"
   },
   {
    "duration": 1431,
    "start_time": "2022-08-14T16:42:17.892Z"
   },
   {
    "duration": 211,
    "start_time": "2022-08-14T16:42:19.325Z"
   },
   {
    "duration": 30,
    "start_time": "2022-08-14T16:42:19.538Z"
   },
   {
    "duration": 962,
    "start_time": "2022-08-14T16:42:19.571Z"
   },
   {
    "duration": 4,
    "start_time": "2022-08-14T16:42:20.535Z"
   },
   {
    "duration": 17,
    "start_time": "2022-08-14T16:42:20.541Z"
   },
   {
    "duration": 11,
    "start_time": "2022-08-14T16:42:20.560Z"
   },
   {
    "duration": 16,
    "start_time": "2022-08-14T16:42:20.573Z"
   },
   {
    "duration": 22,
    "start_time": "2022-08-14T16:42:20.591Z"
   },
   {
    "duration": 26,
    "start_time": "2022-08-14T16:42:20.616Z"
   },
   {
    "duration": 11,
    "start_time": "2022-08-14T16:42:20.644Z"
   },
   {
    "duration": 33,
    "start_time": "2022-08-14T16:42:20.656Z"
   },
   {
    "duration": 20,
    "start_time": "2022-08-14T16:42:20.691Z"
   },
   {
    "duration": 40,
    "start_time": "2022-08-14T16:42:20.713Z"
   },
   {
    "duration": 13,
    "start_time": "2022-08-14T16:42:20.755Z"
   },
   {
    "duration": 19,
    "start_time": "2022-08-14T16:42:20.770Z"
   },
   {
    "duration": 35,
    "start_time": "2022-08-14T16:42:20.791Z"
   },
   {
    "duration": 18,
    "start_time": "2022-08-14T16:42:20.828Z"
   },
   {
    "duration": 13,
    "start_time": "2022-08-14T16:42:20.847Z"
   },
   {
    "duration": 385,
    "start_time": "2022-08-14T16:42:20.862Z"
   },
   {
    "duration": 7,
    "start_time": "2022-08-14T16:42:21.249Z"
   },
   {
    "duration": 360,
    "start_time": "2022-08-14T16:42:21.269Z"
   },
   {
    "duration": 19,
    "start_time": "2022-08-14T16:42:21.631Z"
   },
   {
    "duration": 39,
    "start_time": "2022-08-14T16:42:21.652Z"
   },
   {
    "duration": 222,
    "start_time": "2022-08-14T16:42:21.693Z"
   },
   {
    "duration": 5,
    "start_time": "2022-08-14T16:42:21.917Z"
   },
   {
    "duration": 30,
    "start_time": "2022-08-14T16:42:21.924Z"
   },
   {
    "duration": 2526,
    "start_time": "2022-08-14T16:42:21.971Z"
   },
   {
    "duration": 22,
    "start_time": "2022-08-14T16:42:24.499Z"
   },
   {
    "duration": 8,
    "start_time": "2022-08-14T16:42:24.523Z"
   },
   {
    "duration": 27,
    "start_time": "2022-08-14T16:42:24.533Z"
   },
   {
    "duration": 1891,
    "start_time": "2022-08-14T16:42:24.567Z"
   },
   {
    "duration": 36,
    "start_time": "2022-08-14T16:42:26.472Z"
   },
   {
    "duration": 24,
    "start_time": "2022-08-14T16:42:26.514Z"
   },
   {
    "duration": 42,
    "start_time": "2022-08-14T16:42:26.541Z"
   },
   {
    "duration": 499,
    "start_time": "2022-08-14T16:42:26.585Z"
   },
   {
    "duration": 20,
    "start_time": "2022-08-14T16:42:27.086Z"
   },
   {
    "duration": 247,
    "start_time": "2022-08-14T16:42:27.107Z"
   },
   {
    "duration": 14,
    "start_time": "2022-08-14T16:42:27.355Z"
   },
   {
    "duration": 584,
    "start_time": "2022-08-14T16:42:27.370Z"
   },
   {
    "duration": 38,
    "start_time": "2022-08-14T16:42:27.956Z"
   },
   {
    "duration": 6,
    "start_time": "2022-08-14T16:42:27.997Z"
   },
   {
    "duration": 12,
    "start_time": "2022-08-14T16:42:28.005Z"
   },
   {
    "duration": 20,
    "start_time": "2022-08-14T16:42:28.019Z"
   },
   {
    "duration": 4,
    "start_time": "2022-08-14T16:42:28.041Z"
   },
   {
    "duration": 11,
    "start_time": "2022-08-14T16:42:28.068Z"
   },
   {
    "duration": 681,
    "start_time": "2022-08-14T16:42:28.080Z"
   },
   {
    "duration": 6,
    "start_time": "2022-08-14T16:42:28.762Z"
   },
   {
    "duration": 596,
    "start_time": "2022-08-14T16:42:28.770Z"
   },
   {
    "duration": 8,
    "start_time": "2022-08-14T16:42:29.368Z"
   },
   {
    "duration": 8,
    "start_time": "2022-08-14T16:42:29.378Z"
   },
   {
    "duration": 8,
    "start_time": "2022-08-14T16:42:29.388Z"
   },
   {
    "duration": 8,
    "start_time": "2022-08-14T16:42:29.398Z"
   },
   {
    "duration": 8,
    "start_time": "2022-08-14T16:42:29.407Z"
   },
   {
    "duration": 55,
    "start_time": "2022-08-14T16:42:29.417Z"
   },
   {
    "duration": 8,
    "start_time": "2022-08-14T16:42:29.474Z"
   },
   {
    "duration": 10,
    "start_time": "2022-08-14T16:42:29.483Z"
   },
   {
    "duration": 9,
    "start_time": "2022-08-14T16:42:29.495Z"
   },
   {
    "duration": 3,
    "start_time": "2022-08-14T16:42:29.506Z"
   },
   {
    "duration": 39,
    "start_time": "2022-08-14T16:42:29.511Z"
   },
   {
    "duration": 26,
    "start_time": "2022-08-14T16:42:29.552Z"
   },
   {
    "duration": 6,
    "start_time": "2022-08-14T16:49:29.604Z"
   },
   {
    "duration": 1635,
    "start_time": "2022-08-15T14:35:06.490Z"
   },
   {
    "duration": 174,
    "start_time": "2022-08-15T14:35:09.600Z"
   },
   {
    "duration": 34,
    "start_time": "2022-08-15T14:35:10.517Z"
   },
   {
    "duration": 876,
    "start_time": "2022-08-15T14:35:11.331Z"
   },
   {
    "duration": 5,
    "start_time": "2022-08-15T14:35:17.776Z"
   },
   {
    "duration": 2,
    "start_time": "2022-08-15T14:35:19.776Z"
   },
   {
    "duration": 6,
    "start_time": "2022-08-15T14:35:21.276Z"
   },
   {
    "duration": 7,
    "start_time": "2022-08-15T14:35:22.278Z"
   },
   {
    "duration": 6,
    "start_time": "2022-08-15T14:35:26.642Z"
   },
   {
    "duration": 8,
    "start_time": "2022-08-15T14:35:27.138Z"
   },
   {
    "duration": 135,
    "start_time": "2022-08-15T14:35:27.680Z"
   },
   {
    "duration": 11,
    "start_time": "2022-08-15T14:36:08.741Z"
   },
   {
    "duration": 14,
    "start_time": "2022-08-15T14:36:09.913Z"
   },
   {
    "duration": 21,
    "start_time": "2022-08-15T14:36:10.811Z"
   },
   {
    "duration": 21,
    "start_time": "2022-08-15T14:36:13.252Z"
   },
   {
    "duration": 9,
    "start_time": "2022-08-15T14:36:25.681Z"
   },
   {
    "duration": 56,
    "start_time": "2022-08-15T14:36:27.402Z"
   },
   {
    "duration": 13,
    "start_time": "2022-08-15T14:36:28.445Z"
   },
   {
    "duration": 6,
    "start_time": "2022-08-15T14:36:32.588Z"
   },
   {
    "duration": 20,
    "start_time": "2022-08-15T14:36:33.760Z"
   },
   {
    "duration": 21,
    "start_time": "2022-08-15T14:36:47.395Z"
   },
   {
    "duration": 23,
    "start_time": "2022-08-15T14:37:04.038Z"
   },
   {
    "duration": 13,
    "start_time": "2022-08-15T14:37:08.195Z"
   },
   {
    "duration": 11,
    "start_time": "2022-08-15T14:38:04.189Z"
   },
   {
    "duration": 18,
    "start_time": "2022-08-15T14:38:15.636Z"
   },
   {
    "duration": 24,
    "start_time": "2022-08-15T14:38:17.760Z"
   },
   {
    "duration": 46,
    "start_time": "2022-08-15T14:38:18.204Z"
   },
   {
    "duration": 6,
    "start_time": "2022-08-15T14:39:35.094Z"
   },
   {
    "duration": 9,
    "start_time": "2022-08-15T14:39:43.579Z"
   },
   {
    "duration": 4,
    "start_time": "2022-08-15T14:39:46.885Z"
   },
   {
    "duration": 22,
    "start_time": "2022-08-15T14:39:47.640Z"
   },
   {
    "duration": 13,
    "start_time": "2022-08-15T14:39:50.112Z"
   },
   {
    "duration": 1004,
    "start_time": "2022-08-15T14:39:58.853Z"
   },
   {
    "duration": 1202,
    "start_time": "2022-08-15T14:40:36.883Z"
   },
   {
    "duration": 102,
    "start_time": "2022-08-15T14:40:38.086Z"
   },
   {
    "duration": 37,
    "start_time": "2022-08-15T14:40:38.190Z"
   },
   {
    "duration": 864,
    "start_time": "2022-08-15T14:40:38.235Z"
   },
   {
    "duration": 25,
    "start_time": "2022-08-15T14:40:39.101Z"
   },
   {
    "duration": 36,
    "start_time": "2022-08-15T14:40:39.133Z"
   },
   {
    "duration": 8,
    "start_time": "2022-08-15T14:40:39.170Z"
   },
   {
    "duration": 6,
    "start_time": "2022-08-15T14:40:39.180Z"
   },
   {
    "duration": 7,
    "start_time": "2022-08-15T14:40:39.187Z"
   },
   {
    "duration": 5,
    "start_time": "2022-08-15T14:40:39.197Z"
   },
   {
    "duration": 23,
    "start_time": "2022-08-15T14:40:39.203Z"
   },
   {
    "duration": 34,
    "start_time": "2022-08-15T14:40:39.233Z"
   },
   {
    "duration": 5,
    "start_time": "2022-08-15T14:40:39.269Z"
   },
   {
    "duration": 23,
    "start_time": "2022-08-15T14:40:39.276Z"
   },
   {
    "duration": 7,
    "start_time": "2022-08-15T14:40:39.300Z"
   },
   {
    "duration": 80,
    "start_time": "2022-08-15T14:40:39.308Z"
   },
   {
    "duration": 3,
    "start_time": "2022-08-15T14:40:39.390Z"
   },
   {
    "duration": 8,
    "start_time": "2022-08-15T14:40:39.395Z"
   },
   {
    "duration": 118,
    "start_time": "2022-08-15T14:40:39.405Z"
   },
   {
    "duration": 0,
    "start_time": "2022-08-15T14:40:39.526Z"
   },
   {
    "duration": 0,
    "start_time": "2022-08-15T14:40:39.527Z"
   },
   {
    "duration": 0,
    "start_time": "2022-08-15T14:40:39.527Z"
   },
   {
    "duration": 0,
    "start_time": "2022-08-15T14:40:39.529Z"
   },
   {
    "duration": 0,
    "start_time": "2022-08-15T14:40:39.530Z"
   },
   {
    "duration": 0,
    "start_time": "2022-08-15T14:40:39.531Z"
   },
   {
    "duration": 0,
    "start_time": "2022-08-15T14:40:39.531Z"
   },
   {
    "duration": 0,
    "start_time": "2022-08-15T14:40:39.532Z"
   },
   {
    "duration": 0,
    "start_time": "2022-08-15T14:40:39.533Z"
   },
   {
    "duration": 0,
    "start_time": "2022-08-15T14:40:39.534Z"
   },
   {
    "duration": 0,
    "start_time": "2022-08-15T14:40:39.535Z"
   },
   {
    "duration": 0,
    "start_time": "2022-08-15T14:40:39.536Z"
   },
   {
    "duration": 0,
    "start_time": "2022-08-15T14:40:39.537Z"
   },
   {
    "duration": 0,
    "start_time": "2022-08-15T14:40:39.537Z"
   },
   {
    "duration": 0,
    "start_time": "2022-08-15T14:40:39.538Z"
   },
   {
    "duration": 0,
    "start_time": "2022-08-15T14:40:39.539Z"
   },
   {
    "duration": 0,
    "start_time": "2022-08-15T14:40:39.540Z"
   },
   {
    "duration": 0,
    "start_time": "2022-08-15T14:40:39.541Z"
   },
   {
    "duration": 0,
    "start_time": "2022-08-15T14:40:39.542Z"
   },
   {
    "duration": 0,
    "start_time": "2022-08-15T14:40:39.543Z"
   },
   {
    "duration": 0,
    "start_time": "2022-08-15T14:40:39.543Z"
   },
   {
    "duration": 0,
    "start_time": "2022-08-15T14:40:39.544Z"
   },
   {
    "duration": 0,
    "start_time": "2022-08-15T14:40:39.545Z"
   },
   {
    "duration": 0,
    "start_time": "2022-08-15T14:40:39.546Z"
   },
   {
    "duration": 0,
    "start_time": "2022-08-15T14:40:39.547Z"
   },
   {
    "duration": 0,
    "start_time": "2022-08-15T14:40:39.548Z"
   },
   {
    "duration": 0,
    "start_time": "2022-08-15T14:40:39.549Z"
   },
   {
    "duration": 0,
    "start_time": "2022-08-15T14:40:39.550Z"
   },
   {
    "duration": 0,
    "start_time": "2022-08-15T14:40:39.551Z"
   },
   {
    "duration": 0,
    "start_time": "2022-08-15T14:40:39.552Z"
   },
   {
    "duration": 0,
    "start_time": "2022-08-15T14:40:39.553Z"
   },
   {
    "duration": 0,
    "start_time": "2022-08-15T14:40:39.554Z"
   },
   {
    "duration": 0,
    "start_time": "2022-08-15T14:40:39.555Z"
   },
   {
    "duration": 0,
    "start_time": "2022-08-15T14:40:39.555Z"
   },
   {
    "duration": 0,
    "start_time": "2022-08-15T14:40:39.556Z"
   },
   {
    "duration": 0,
    "start_time": "2022-08-15T14:40:39.557Z"
   },
   {
    "duration": 0,
    "start_time": "2022-08-15T14:40:39.558Z"
   },
   {
    "duration": 0,
    "start_time": "2022-08-15T14:40:39.559Z"
   },
   {
    "duration": 0,
    "start_time": "2022-08-15T14:40:39.560Z"
   },
   {
    "duration": 0,
    "start_time": "2022-08-15T14:40:39.561Z"
   },
   {
    "duration": 0,
    "start_time": "2022-08-15T14:40:39.562Z"
   },
   {
    "duration": 0,
    "start_time": "2022-08-15T14:40:39.563Z"
   },
   {
    "duration": 0,
    "start_time": "2022-08-15T14:40:39.564Z"
   },
   {
    "duration": 0,
    "start_time": "2022-08-15T14:40:39.565Z"
   },
   {
    "duration": 0,
    "start_time": "2022-08-15T14:40:39.566Z"
   },
   {
    "duration": 0,
    "start_time": "2022-08-15T14:40:39.566Z"
   },
   {
    "duration": 0,
    "start_time": "2022-08-15T14:40:39.567Z"
   },
   {
    "duration": 0,
    "start_time": "2022-08-15T14:40:39.568Z"
   },
   {
    "duration": 0,
    "start_time": "2022-08-15T14:40:39.569Z"
   },
   {
    "duration": 0,
    "start_time": "2022-08-15T14:40:39.570Z"
   },
   {
    "duration": 0,
    "start_time": "2022-08-15T14:40:39.572Z"
   },
   {
    "duration": 0,
    "start_time": "2022-08-15T14:40:39.613Z"
   },
   {
    "duration": 0,
    "start_time": "2022-08-15T14:40:39.615Z"
   },
   {
    "duration": 0,
    "start_time": "2022-08-15T14:40:39.615Z"
   },
   {
    "duration": 10,
    "start_time": "2022-08-15T14:41:13.779Z"
   },
   {
    "duration": 25,
    "start_time": "2022-08-15T14:41:26.118Z"
   },
   {
    "duration": 5,
    "start_time": "2022-08-15T14:41:33.388Z"
   },
   {
    "duration": 1387,
    "start_time": "2022-08-15T14:41:51.106Z"
   },
   {
    "duration": 93,
    "start_time": "2022-08-15T14:41:52.495Z"
   },
   {
    "duration": 38,
    "start_time": "2022-08-15T14:41:52.593Z"
   },
   {
    "duration": 909,
    "start_time": "2022-08-15T14:41:52.639Z"
   },
   {
    "duration": 5,
    "start_time": "2022-08-15T14:41:53.549Z"
   },
   {
    "duration": 27,
    "start_time": "2022-08-15T14:41:53.556Z"
   },
   {
    "duration": 21,
    "start_time": "2022-08-15T14:41:53.585Z"
   },
   {
    "duration": 67,
    "start_time": "2022-08-15T14:41:53.607Z"
   },
   {
    "duration": 16,
    "start_time": "2022-08-15T14:41:53.677Z"
   },
   {
    "duration": 74,
    "start_time": "2022-08-15T14:41:53.695Z"
   },
   {
    "duration": 20,
    "start_time": "2022-08-15T14:41:53.772Z"
   },
   {
    "duration": 43,
    "start_time": "2022-08-15T14:41:53.793Z"
   },
   {
    "duration": 43,
    "start_time": "2022-08-15T14:41:53.838Z"
   },
   {
    "duration": 45,
    "start_time": "2022-08-15T14:41:53.883Z"
   },
   {
    "duration": 46,
    "start_time": "2022-08-15T14:41:53.930Z"
   },
   {
    "duration": 42,
    "start_time": "2022-08-15T14:41:53.978Z"
   },
   {
    "duration": 26,
    "start_time": "2022-08-15T14:41:54.022Z"
   },
   {
    "duration": 39,
    "start_time": "2022-08-15T14:41:54.050Z"
   },
   {
    "duration": 32,
    "start_time": "2022-08-15T14:41:54.090Z"
   },
   {
    "duration": 57,
    "start_time": "2022-08-15T14:41:54.124Z"
   },
   {
    "duration": 24,
    "start_time": "2022-08-15T14:41:54.182Z"
   },
   {
    "duration": 76,
    "start_time": "2022-08-15T14:41:54.208Z"
   },
   {
    "duration": 21,
    "start_time": "2022-08-15T14:41:54.286Z"
   },
   {
    "duration": 81,
    "start_time": "2022-08-15T14:41:54.308Z"
   },
   {
    "duration": 421,
    "start_time": "2022-08-15T14:41:54.391Z"
   },
   {
    "duration": 11,
    "start_time": "2022-08-15T14:41:54.813Z"
   },
   {
    "duration": 165,
    "start_time": "2022-08-15T14:41:54.831Z"
   },
   {
    "duration": 0,
    "start_time": "2022-08-15T14:41:54.997Z"
   },
   {
    "duration": 0,
    "start_time": "2022-08-15T14:41:54.999Z"
   },
   {
    "duration": 0,
    "start_time": "2022-08-15T14:41:55.000Z"
   },
   {
    "duration": 0,
    "start_time": "2022-08-15T14:41:55.001Z"
   },
   {
    "duration": 0,
    "start_time": "2022-08-15T14:41:55.002Z"
   },
   {
    "duration": 0,
    "start_time": "2022-08-15T14:41:55.003Z"
   },
   {
    "duration": 0,
    "start_time": "2022-08-15T14:41:55.003Z"
   },
   {
    "duration": 0,
    "start_time": "2022-08-15T14:41:55.010Z"
   },
   {
    "duration": 0,
    "start_time": "2022-08-15T14:41:55.011Z"
   },
   {
    "duration": 0,
    "start_time": "2022-08-15T14:41:55.012Z"
   },
   {
    "duration": 0,
    "start_time": "2022-08-15T14:41:55.012Z"
   },
   {
    "duration": 0,
    "start_time": "2022-08-15T14:41:55.013Z"
   },
   {
    "duration": 0,
    "start_time": "2022-08-15T14:41:55.013Z"
   },
   {
    "duration": 0,
    "start_time": "2022-08-15T14:41:55.014Z"
   },
   {
    "duration": 0,
    "start_time": "2022-08-15T14:41:55.015Z"
   },
   {
    "duration": 0,
    "start_time": "2022-08-15T14:41:55.019Z"
   },
   {
    "duration": 0,
    "start_time": "2022-08-15T14:41:55.019Z"
   },
   {
    "duration": 0,
    "start_time": "2022-08-15T14:41:55.020Z"
   },
   {
    "duration": 0,
    "start_time": "2022-08-15T14:41:55.022Z"
   },
   {
    "duration": 0,
    "start_time": "2022-08-15T14:41:55.027Z"
   },
   {
    "duration": 0,
    "start_time": "2022-08-15T14:41:55.028Z"
   },
   {
    "duration": 0,
    "start_time": "2022-08-15T14:41:55.028Z"
   },
   {
    "duration": 0,
    "start_time": "2022-08-15T14:41:55.029Z"
   },
   {
    "duration": 0,
    "start_time": "2022-08-15T14:41:55.030Z"
   },
   {
    "duration": 0,
    "start_time": "2022-08-15T14:41:55.031Z"
   },
   {
    "duration": 0,
    "start_time": "2022-08-15T14:41:55.032Z"
   },
   {
    "duration": 1,
    "start_time": "2022-08-15T14:41:55.032Z"
   },
   {
    "duration": 0,
    "start_time": "2022-08-15T14:41:55.033Z"
   },
   {
    "duration": 0,
    "start_time": "2022-08-15T14:41:55.034Z"
   },
   {
    "duration": 0,
    "start_time": "2022-08-15T14:41:55.035Z"
   },
   {
    "duration": 0,
    "start_time": "2022-08-15T14:41:55.038Z"
   },
   {
    "duration": 0,
    "start_time": "2022-08-15T14:41:55.039Z"
   },
   {
    "duration": 0,
    "start_time": "2022-08-15T14:41:55.040Z"
   },
   {
    "duration": 0,
    "start_time": "2022-08-15T14:41:55.041Z"
   },
   {
    "duration": 0,
    "start_time": "2022-08-15T14:41:55.041Z"
   },
   {
    "duration": 0,
    "start_time": "2022-08-15T14:41:55.042Z"
   },
   {
    "duration": 0,
    "start_time": "2022-08-15T14:41:55.043Z"
   },
   {
    "duration": 0,
    "start_time": "2022-08-15T14:41:55.044Z"
   },
   {
    "duration": 0,
    "start_time": "2022-08-15T14:41:55.047Z"
   },
   {
    "duration": 0,
    "start_time": "2022-08-15T14:41:55.047Z"
   },
   {
    "duration": 0,
    "start_time": "2022-08-15T14:41:55.050Z"
   },
   {
    "duration": 0,
    "start_time": "2022-08-15T14:41:55.051Z"
   },
   {
    "duration": 0,
    "start_time": "2022-08-15T14:41:55.052Z"
   },
   {
    "duration": 0,
    "start_time": "2022-08-15T14:41:55.054Z"
   },
   {
    "duration": 0,
    "start_time": "2022-08-15T14:41:55.055Z"
   },
   {
    "duration": 0,
    "start_time": "2022-08-15T14:41:55.056Z"
   },
   {
    "duration": 0,
    "start_time": "2022-08-15T14:41:55.058Z"
   },
   {
    "duration": 358,
    "start_time": "2022-08-15T14:42:18.660Z"
   },
   {
    "duration": 17,
    "start_time": "2022-08-15T14:42:26.037Z"
   },
   {
    "duration": 11,
    "start_time": "2022-08-15T14:43:12.294Z"
   },
   {
    "duration": 77,
    "start_time": "2022-08-15T14:44:21.552Z"
   },
   {
    "duration": 79,
    "start_time": "2022-08-15T14:44:38.599Z"
   },
   {
    "duration": 1850,
    "start_time": "2022-08-15T14:45:02.335Z"
   },
   {
    "duration": 11,
    "start_time": "2022-08-15T14:45:14.664Z"
   },
   {
    "duration": 11,
    "start_time": "2022-08-15T14:45:34.296Z"
   },
   {
    "duration": 16,
    "start_time": "2022-08-15T14:46:13.730Z"
   },
   {
    "duration": 13,
    "start_time": "2022-08-15T14:46:17.065Z"
   },
   {
    "duration": 24,
    "start_time": "2022-08-15T14:46:45.027Z"
   },
   {
    "duration": 12,
    "start_time": "2022-08-15T14:47:09.458Z"
   },
   {
    "duration": 18,
    "start_time": "2022-08-15T14:47:14.519Z"
   },
   {
    "duration": 12,
    "start_time": "2022-08-15T14:47:28.098Z"
   },
   {
    "duration": 13,
    "start_time": "2022-08-15T14:47:35.290Z"
   },
   {
    "duration": 10,
    "start_time": "2022-08-15T14:47:41.739Z"
   },
   {
    "duration": 94,
    "start_time": "2022-08-15T14:47:45.651Z"
   },
   {
    "duration": 63,
    "start_time": "2022-08-15T14:49:33.637Z"
   },
   {
    "duration": 12,
    "start_time": "2022-08-15T14:49:41.132Z"
   },
   {
    "duration": 108,
    "start_time": "2022-08-15T14:49:54.509Z"
   },
   {
    "duration": 17,
    "start_time": "2022-08-15T14:49:59.828Z"
   },
   {
    "duration": 16,
    "start_time": "2022-08-15T14:50:51.542Z"
   },
   {
    "duration": 16,
    "start_time": "2022-08-15T14:51:00.046Z"
   },
   {
    "duration": 26,
    "start_time": "2022-08-15T14:51:04.942Z"
   },
   {
    "duration": 17,
    "start_time": "2022-08-15T14:51:53.026Z"
   },
   {
    "duration": 19,
    "start_time": "2022-08-15T14:52:22.335Z"
   },
   {
    "duration": 16,
    "start_time": "2022-08-15T14:52:52.353Z"
   },
   {
    "duration": 18,
    "start_time": "2022-08-15T14:52:56.361Z"
   },
   {
    "duration": 17,
    "start_time": "2022-08-15T14:54:34.627Z"
   },
   {
    "duration": 52,
    "start_time": "2022-08-15T14:54:38.538Z"
   },
   {
    "duration": 15,
    "start_time": "2022-08-15T14:54:41.162Z"
   },
   {
    "duration": 15,
    "start_time": "2022-08-15T14:54:46.010Z"
   },
   {
    "duration": 13,
    "start_time": "2022-08-15T14:54:52.363Z"
   },
   {
    "duration": 12,
    "start_time": "2022-08-15T14:54:59.451Z"
   },
   {
    "duration": 13,
    "start_time": "2022-08-15T14:55:14.739Z"
   },
   {
    "duration": 13,
    "start_time": "2022-08-15T14:55:17.243Z"
   },
   {
    "duration": 19,
    "start_time": "2022-08-15T14:55:29.947Z"
   },
   {
    "duration": 13,
    "start_time": "2022-08-15T14:55:34.147Z"
   },
   {
    "duration": 18,
    "start_time": "2022-08-15T14:55:45.003Z"
   },
   {
    "duration": 850,
    "start_time": "2022-08-15T14:57:02.644Z"
   },
   {
    "duration": 16,
    "start_time": "2022-08-15T14:57:07.597Z"
   },
   {
    "duration": 7,
    "start_time": "2022-08-15T14:57:17.013Z"
   },
   {
    "duration": 11,
    "start_time": "2022-08-15T14:57:21.109Z"
   },
   {
    "duration": 6,
    "start_time": "2022-08-15T14:57:25.765Z"
   },
   {
    "duration": 19,
    "start_time": "2022-08-15T14:58:06.655Z"
   },
   {
    "duration": 19,
    "start_time": "2022-08-15T14:58:23.032Z"
   },
   {
    "duration": 5,
    "start_time": "2022-08-15T14:58:28.247Z"
   },
   {
    "duration": 6,
    "start_time": "2022-08-15T14:58:33.789Z"
   },
   {
    "duration": 3,
    "start_time": "2022-08-15T14:59:24.653Z"
   },
   {
    "duration": 4,
    "start_time": "2022-08-15T14:59:44.836Z"
   },
   {
    "duration": 22,
    "start_time": "2022-08-15T14:59:52.228Z"
   },
   {
    "duration": 5,
    "start_time": "2022-08-15T15:00:14.364Z"
   },
   {
    "duration": 21,
    "start_time": "2022-08-15T15:00:14.940Z"
   },
   {
    "duration": 5,
    "start_time": "2022-08-15T15:00:36.811Z"
   },
   {
    "duration": 21,
    "start_time": "2022-08-15T15:00:37.195Z"
   },
   {
    "duration": 5,
    "start_time": "2022-08-15T15:00:40.955Z"
   },
   {
    "duration": 2,
    "start_time": "2022-08-15T15:00:41.227Z"
   },
   {
    "duration": 2,
    "start_time": "2022-08-15T15:00:44.634Z"
   },
   {
    "duration": 6,
    "start_time": "2022-08-15T15:00:51.684Z"
   },
   {
    "duration": 5,
    "start_time": "2022-08-15T15:00:58.691Z"
   },
   {
    "duration": 23,
    "start_time": "2022-08-15T15:00:59.011Z"
   },
   {
    "duration": 5,
    "start_time": "2022-08-15T15:01:15.675Z"
   },
   {
    "duration": 2,
    "start_time": "2022-08-15T15:01:16.083Z"
   },
   {
    "duration": 9,
    "start_time": "2022-08-15T15:01:20.394Z"
   },
   {
    "duration": 4,
    "start_time": "2022-08-15T15:01:33.187Z"
   },
   {
    "duration": 20,
    "start_time": "2022-08-15T15:01:33.490Z"
   },
   {
    "duration": 5,
    "start_time": "2022-08-15T15:01:48.891Z"
   },
   {
    "duration": 22,
    "start_time": "2022-08-15T15:01:49.515Z"
   },
   {
    "duration": 5,
    "start_time": "2022-08-15T15:01:54.117Z"
   },
   {
    "duration": 3,
    "start_time": "2022-08-15T15:01:54.322Z"
   },
   {
    "duration": 5,
    "start_time": "2022-08-15T15:03:15.841Z"
   },
   {
    "duration": 2,
    "start_time": "2022-08-15T15:03:16.082Z"
   },
   {
    "duration": 5,
    "start_time": "2022-08-15T15:03:20.090Z"
   },
   {
    "duration": 3,
    "start_time": "2022-08-15T15:03:20.273Z"
   },
   {
    "duration": 6,
    "start_time": "2022-08-15T15:03:23.929Z"
   },
   {
    "duration": 22,
    "start_time": "2022-08-15T15:03:24.265Z"
   },
   {
    "duration": 4,
    "start_time": "2022-08-15T15:03:38.514Z"
   },
   {
    "duration": 20,
    "start_time": "2022-08-15T15:03:39.554Z"
   },
   {
    "duration": 5,
    "start_time": "2022-08-15T15:04:38.410Z"
   },
   {
    "duration": 23,
    "start_time": "2022-08-15T15:04:39.378Z"
   },
   {
    "duration": 5,
    "start_time": "2022-08-15T15:04:47.505Z"
   },
   {
    "duration": 3,
    "start_time": "2022-08-15T15:04:48.337Z"
   },
   {
    "duration": 5,
    "start_time": "2022-08-15T15:05:51.409Z"
   },
   {
    "duration": 22,
    "start_time": "2022-08-15T15:05:51.809Z"
   },
   {
    "duration": 5,
    "start_time": "2022-08-15T15:06:05.146Z"
   },
   {
    "duration": 21,
    "start_time": "2022-08-15T15:06:08.913Z"
   },
   {
    "duration": 104,
    "start_time": "2022-08-15T15:06:47.377Z"
   },
   {
    "duration": 5,
    "start_time": "2022-08-15T15:06:51.137Z"
   },
   {
    "duration": 22,
    "start_time": "2022-08-15T15:07:03.881Z"
   },
   {
    "duration": 1551,
    "start_time": "2022-08-15T15:07:11.515Z"
   },
   {
    "duration": 1430,
    "start_time": "2022-08-15T15:07:43.234Z"
   },
   {
    "duration": 1426,
    "start_time": "2022-08-15T15:07:51.348Z"
   },
   {
    "duration": 22,
    "start_time": "2022-08-15T15:08:19.361Z"
   },
   {
    "duration": 30,
    "start_time": "2022-08-15T15:09:06.211Z"
   },
   {
    "duration": 20,
    "start_time": "2022-08-15T15:09:13.601Z"
   },
   {
    "duration": 22,
    "start_time": "2022-08-15T15:10:16.905Z"
   },
   {
    "duration": 1452,
    "start_time": "2022-08-15T15:10:36.833Z"
   },
   {
    "duration": 932,
    "start_time": "2022-08-15T15:10:52.090Z"
   },
   {
    "duration": 961,
    "start_time": "2022-08-15T15:11:06.522Z"
   },
   {
    "duration": 1094,
    "start_time": "2022-08-15T15:11:17.673Z"
   },
   {
    "duration": 20,
    "start_time": "2022-08-15T15:13:50.355Z"
   },
   {
    "duration": 1399,
    "start_time": "2022-08-15T15:14:05.131Z"
   },
   {
    "duration": 15,
    "start_time": "2022-08-15T15:14:42.115Z"
   },
   {
    "duration": 5,
    "start_time": "2022-08-15T15:14:58.426Z"
   },
   {
    "duration": 11,
    "start_time": "2022-08-15T15:15:20.579Z"
   },
   {
    "duration": 535,
    "start_time": "2022-08-15T15:15:39.892Z"
   },
   {
    "duration": 267,
    "start_time": "2022-08-15T15:15:59.171Z"
   },
   {
    "duration": 169,
    "start_time": "2022-08-15T15:16:06.443Z"
   },
   {
    "duration": 180,
    "start_time": "2022-08-15T15:16:12.939Z"
   },
   {
    "duration": 183,
    "start_time": "2022-08-15T15:16:15.684Z"
   },
   {
    "duration": 174,
    "start_time": "2022-08-15T15:16:45.004Z"
   },
   {
    "duration": 182,
    "start_time": "2022-08-15T15:17:00.195Z"
   },
   {
    "duration": 167,
    "start_time": "2022-08-15T15:17:13.013Z"
   },
   {
    "duration": 4,
    "start_time": "2022-08-15T15:17:42.580Z"
   },
   {
    "duration": 8,
    "start_time": "2022-08-15T15:17:59.476Z"
   },
   {
    "duration": 3,
    "start_time": "2022-08-15T15:18:03.956Z"
   },
   {
    "duration": 10,
    "start_time": "2022-08-15T15:18:14.020Z"
   },
   {
    "duration": 5,
    "start_time": "2022-08-15T15:18:23.597Z"
   },
   {
    "duration": 1056,
    "start_time": "2022-08-15T15:18:58.054Z"
   },
   {
    "duration": 2041,
    "start_time": "2022-08-15T15:19:14.022Z"
   },
   {
    "duration": 2197,
    "start_time": "2022-08-15T15:19:56.694Z"
   },
   {
    "duration": 2374,
    "start_time": "2022-08-15T15:20:05.406Z"
   },
   {
    "duration": 1420,
    "start_time": "2022-08-15T15:20:32.430Z"
   },
   {
    "duration": 233,
    "start_time": "2022-08-15T15:22:40.392Z"
   },
   {
    "duration": 21,
    "start_time": "2022-08-15T15:25:09.753Z"
   },
   {
    "duration": 10,
    "start_time": "2022-08-15T15:25:26.271Z"
   },
   {
    "duration": 12,
    "start_time": "2022-08-15T15:26:09.083Z"
   },
   {
    "duration": 12,
    "start_time": "2022-08-15T15:26:21.993Z"
   },
   {
    "duration": 11,
    "start_time": "2022-08-15T15:26:38.546Z"
   },
   {
    "duration": 769,
    "start_time": "2022-08-15T15:26:40.330Z"
   },
   {
    "duration": 559,
    "start_time": "2022-08-15T15:28:28.235Z"
   },
   {
    "duration": 23,
    "start_time": "2022-08-15T15:28:55.131Z"
   },
   {
    "duration": 564,
    "start_time": "2022-08-15T15:30:45.024Z"
   },
   {
    "duration": 744,
    "start_time": "2022-08-15T15:30:49.902Z"
   },
   {
    "duration": 602,
    "start_time": "2022-08-15T15:30:59.733Z"
   },
   {
    "duration": 617,
    "start_time": "2022-08-15T15:31:04.957Z"
   },
   {
    "duration": 668,
    "start_time": "2022-08-15T15:31:16.893Z"
   },
   {
    "duration": 79,
    "start_time": "2022-08-15T15:31:23.133Z"
   },
   {
    "duration": 777,
    "start_time": "2022-08-15T15:31:25.765Z"
   },
   {
    "duration": 498,
    "start_time": "2022-08-15T15:32:07.229Z"
   },
   {
    "duration": 409,
    "start_time": "2022-08-15T15:32:48.343Z"
   },
   {
    "duration": 295,
    "start_time": "2022-08-15T15:33:58.425Z"
   },
   {
    "duration": 306,
    "start_time": "2022-08-15T15:34:15.018Z"
   },
   {
    "duration": 295,
    "start_time": "2022-08-15T15:34:24.481Z"
   },
   {
    "duration": 296,
    "start_time": "2022-08-15T15:34:38.089Z"
   },
   {
    "duration": 22,
    "start_time": "2022-08-15T15:37:48.383Z"
   },
   {
    "duration": 595,
    "start_time": "2022-08-15T15:37:50.086Z"
   },
   {
    "duration": 427,
    "start_time": "2022-08-15T15:37:54.215Z"
   },
   {
    "duration": 294,
    "start_time": "2022-08-15T15:42:59.173Z"
   },
   {
    "duration": 13,
    "start_time": "2022-08-15T15:44:05.575Z"
   },
   {
    "duration": 20,
    "start_time": "2022-08-15T15:44:33.335Z"
   },
   {
    "duration": 14,
    "start_time": "2022-08-15T15:44:50.524Z"
   },
   {
    "duration": 14,
    "start_time": "2022-08-15T15:45:37.672Z"
   },
   {
    "duration": 11,
    "start_time": "2022-08-15T15:46:13.369Z"
   },
   {
    "duration": 3091,
    "start_time": "2022-08-15T15:50:21.422Z"
   },
   {
    "duration": 3176,
    "start_time": "2022-08-15T15:50:26.798Z"
   },
   {
    "duration": 11,
    "start_time": "2022-08-15T15:50:47.599Z"
   },
   {
    "duration": 9,
    "start_time": "2022-08-15T15:50:54.223Z"
   },
   {
    "duration": 13,
    "start_time": "2022-08-15T15:51:15.630Z"
   },
   {
    "duration": 895,
    "start_time": "2022-08-15T15:51:25.847Z"
   },
   {
    "duration": 613,
    "start_time": "2022-08-15T15:51:38.015Z"
   },
   {
    "duration": 649,
    "start_time": "2022-08-15T15:51:43.111Z"
   },
   {
    "duration": 10,
    "start_time": "2022-08-15T15:52:29.064Z"
   },
   {
    "duration": 5,
    "start_time": "2022-08-15T15:54:35.770Z"
   },
   {
    "duration": 528,
    "start_time": "2022-08-15T15:54:50.781Z"
   },
   {
    "duration": 611,
    "start_time": "2022-08-15T15:55:01.243Z"
   },
   {
    "duration": 829,
    "start_time": "2022-08-15T15:58:13.126Z"
   },
   {
    "duration": 550,
    "start_time": "2022-08-15T15:59:02.951Z"
   },
   {
    "duration": 546,
    "start_time": "2022-08-15T16:01:41.218Z"
   },
   {
    "duration": 555,
    "start_time": "2022-08-15T16:01:51.674Z"
   },
   {
    "duration": 543,
    "start_time": "2022-08-15T16:01:59.098Z"
   },
   {
    "duration": 809,
    "start_time": "2022-08-15T16:02:59.874Z"
   },
   {
    "duration": 554,
    "start_time": "2022-08-15T16:03:40.531Z"
   },
   {
    "duration": 547,
    "start_time": "2022-08-15T16:03:52.851Z"
   },
   {
    "duration": 556,
    "start_time": "2022-08-15T16:03:59.867Z"
   },
   {
    "duration": 552,
    "start_time": "2022-08-15T16:04:10.300Z"
   },
   {
    "duration": 16,
    "start_time": "2022-08-15T16:04:41.490Z"
   },
   {
    "duration": 12,
    "start_time": "2022-08-15T16:04:47.101Z"
   },
   {
    "duration": 13,
    "start_time": "2022-08-15T16:04:52.356Z"
   },
   {
    "duration": 12,
    "start_time": "2022-08-15T16:05:17.756Z"
   },
   {
    "duration": 8,
    "start_time": "2022-08-15T16:05:29.964Z"
   },
   {
    "duration": 8,
    "start_time": "2022-08-15T16:05:30.379Z"
   },
   {
    "duration": 7,
    "start_time": "2022-08-15T16:05:30.869Z"
   },
   {
    "duration": 16,
    "start_time": "2022-08-15T16:06:37.421Z"
   },
   {
    "duration": 8,
    "start_time": "2022-08-15T16:07:13.126Z"
   },
   {
    "duration": 8,
    "start_time": "2022-08-15T16:07:14.887Z"
   },
   {
    "duration": 8,
    "start_time": "2022-08-15T16:07:15.310Z"
   },
   {
    "duration": 8,
    "start_time": "2022-08-15T16:07:55.790Z"
   },
   {
    "duration": 8,
    "start_time": "2022-08-15T16:08:01.615Z"
   },
   {
    "duration": 13,
    "start_time": "2022-08-15T16:10:27.377Z"
   },
   {
    "duration": 10,
    "start_time": "2022-08-15T16:12:16.771Z"
   },
   {
    "duration": 20,
    "start_time": "2022-08-15T16:12:36.883Z"
   },
   {
    "duration": 14,
    "start_time": "2022-08-15T16:12:44.789Z"
   },
   {
    "duration": 16,
    "start_time": "2022-08-15T16:12:52.083Z"
   },
   {
    "duration": 15,
    "start_time": "2022-08-15T16:13:20.899Z"
   },
   {
    "duration": 16,
    "start_time": "2022-08-15T16:14:38.829Z"
   },
   {
    "duration": 81,
    "start_time": "2022-08-15T16:15:12.510Z"
   },
   {
    "duration": 51,
    "start_time": "2022-08-15T16:15:15.822Z"
   },
   {
    "duration": 21,
    "start_time": "2022-08-15T16:15:34.854Z"
   },
   {
    "duration": 23,
    "start_time": "2022-08-15T16:15:46.624Z"
   },
   {
    "duration": 18,
    "start_time": "2022-08-15T16:16:53.056Z"
   },
   {
    "duration": 15,
    "start_time": "2022-08-15T16:18:29.289Z"
   },
   {
    "duration": 16,
    "start_time": "2022-08-15T16:18:44.113Z"
   },
   {
    "duration": 20,
    "start_time": "2022-08-15T16:19:02.730Z"
   },
   {
    "duration": 16,
    "start_time": "2022-08-15T16:19:06.953Z"
   },
   {
    "duration": 22,
    "start_time": "2022-08-15T16:19:23.417Z"
   },
   {
    "duration": 61,
    "start_time": "2022-08-15T16:21:20.261Z"
   },
   {
    "duration": 6,
    "start_time": "2022-08-15T16:21:27.395Z"
   },
   {
    "duration": 18,
    "start_time": "2022-08-15T16:21:30.356Z"
   },
   {
    "duration": 14,
    "start_time": "2022-08-15T16:24:11.015Z"
   },
   {
    "duration": 12,
    "start_time": "2022-08-15T16:24:15.998Z"
   },
   {
    "duration": 10,
    "start_time": "2022-08-15T16:24:24.367Z"
   },
   {
    "duration": 8,
    "start_time": "2022-08-15T16:24:51.847Z"
   },
   {
    "duration": 7,
    "start_time": "2022-08-15T16:26:24.602Z"
   },
   {
    "duration": 8,
    "start_time": "2022-08-15T16:26:32.513Z"
   },
   {
    "duration": 118,
    "start_time": "2022-08-15T16:26:49.840Z"
   },
   {
    "duration": 127,
    "start_time": "2022-08-15T16:27:01.097Z"
   },
   {
    "duration": 115,
    "start_time": "2022-08-15T16:27:03.425Z"
   },
   {
    "duration": 110,
    "start_time": "2022-08-15T16:30:29.428Z"
   },
   {
    "duration": 105,
    "start_time": "2022-08-15T16:30:55.061Z"
   },
   {
    "duration": 348,
    "start_time": "2022-08-15T16:31:03.797Z"
   },
   {
    "duration": 99,
    "start_time": "2022-08-15T16:32:40.375Z"
   },
   {
    "duration": 104,
    "start_time": "2022-08-15T16:32:49.231Z"
   },
   {
    "duration": 108,
    "start_time": "2022-08-15T16:32:59.151Z"
   },
   {
    "duration": 1055,
    "start_time": "2022-08-15T16:38:54.853Z"
   },
   {
    "duration": 14,
    "start_time": "2022-08-15T16:39:12.814Z"
   },
   {
    "duration": 1086,
    "start_time": "2022-08-15T16:39:26.766Z"
   },
   {
    "duration": 8,
    "start_time": "2022-08-15T16:39:36.086Z"
   },
   {
    "duration": 9,
    "start_time": "2022-08-15T16:41:03.087Z"
   },
   {
    "duration": 1351,
    "start_time": "2022-08-15T17:01:24.555Z"
   },
   {
    "duration": 74,
    "start_time": "2022-08-15T17:01:25.910Z"
   },
   {
    "duration": 25,
    "start_time": "2022-08-15T17:01:25.987Z"
   },
   {
    "duration": 760,
    "start_time": "2022-08-15T17:01:26.015Z"
   },
   {
    "duration": 5,
    "start_time": "2022-08-15T17:01:26.777Z"
   },
   {
    "duration": 8,
    "start_time": "2022-08-15T17:01:26.783Z"
   },
   {
    "duration": 18,
    "start_time": "2022-08-15T17:01:26.793Z"
   },
   {
    "duration": 12,
    "start_time": "2022-08-15T17:01:26.812Z"
   },
   {
    "duration": 20,
    "start_time": "2022-08-15T17:01:26.826Z"
   },
   {
    "duration": 12,
    "start_time": "2022-08-15T17:01:26.850Z"
   },
   {
    "duration": 27,
    "start_time": "2022-08-15T17:01:26.863Z"
   },
   {
    "duration": 19,
    "start_time": "2022-08-15T17:01:26.892Z"
   },
   {
    "duration": 6,
    "start_time": "2022-08-15T17:01:26.913Z"
   },
   {
    "duration": 23,
    "start_time": "2022-08-15T17:01:26.921Z"
   },
   {
    "duration": 12,
    "start_time": "2022-08-15T17:01:26.945Z"
   },
   {
    "duration": 31,
    "start_time": "2022-08-15T17:01:26.958Z"
   },
   {
    "duration": 21,
    "start_time": "2022-08-15T17:01:26.990Z"
   },
   {
    "duration": 13,
    "start_time": "2022-08-15T17:01:27.012Z"
   },
   {
    "duration": 21,
    "start_time": "2022-08-15T17:01:27.026Z"
   },
   {
    "duration": 10,
    "start_time": "2022-08-15T17:01:27.049Z"
   },
   {
    "duration": 8,
    "start_time": "2022-08-15T17:01:27.061Z"
   },
   {
    "duration": 15,
    "start_time": "2022-08-15T17:01:27.071Z"
   },
   {
    "duration": 40,
    "start_time": "2022-08-15T17:01:27.087Z"
   },
   {
    "duration": 7,
    "start_time": "2022-08-15T17:01:27.129Z"
   },
   {
    "duration": 418,
    "start_time": "2022-08-15T17:01:27.137Z"
   },
   {
    "duration": 7,
    "start_time": "2022-08-15T17:01:27.557Z"
   },
   {
    "duration": 312,
    "start_time": "2022-08-15T17:01:27.565Z"
   },
   {
    "duration": 114,
    "start_time": "2022-08-15T17:01:27.881Z"
   },
   {
    "duration": 18,
    "start_time": "2022-08-15T17:01:27.996Z"
   },
   {
    "duration": 7,
    "start_time": "2022-08-15T17:01:28.016Z"
   },
   {
    "duration": 7,
    "start_time": "2022-08-15T17:01:28.025Z"
   },
   {
    "duration": 22,
    "start_time": "2022-08-15T17:01:28.034Z"
   },
   {
    "duration": 124,
    "start_time": "2022-08-15T17:01:28.058Z"
   },
   {
    "duration": 0,
    "start_time": "2022-08-15T17:01:28.185Z"
   },
   {
    "duration": 0,
    "start_time": "2022-08-15T17:01:28.186Z"
   },
   {
    "duration": 0,
    "start_time": "2022-08-15T17:01:28.188Z"
   },
   {
    "duration": 0,
    "start_time": "2022-08-15T17:01:28.189Z"
   },
   {
    "duration": 0,
    "start_time": "2022-08-15T17:01:28.191Z"
   },
   {
    "duration": 0,
    "start_time": "2022-08-15T17:01:28.192Z"
   },
   {
    "duration": 0,
    "start_time": "2022-08-15T17:01:28.209Z"
   },
   {
    "duration": 0,
    "start_time": "2022-08-15T17:01:28.211Z"
   },
   {
    "duration": 0,
    "start_time": "2022-08-15T17:01:28.212Z"
   },
   {
    "duration": 0,
    "start_time": "2022-08-15T17:01:28.213Z"
   },
   {
    "duration": 0,
    "start_time": "2022-08-15T17:01:28.215Z"
   },
   {
    "duration": 0,
    "start_time": "2022-08-15T17:01:28.217Z"
   },
   {
    "duration": 0,
    "start_time": "2022-08-15T17:01:28.219Z"
   },
   {
    "duration": 0,
    "start_time": "2022-08-15T17:01:28.220Z"
   },
   {
    "duration": 0,
    "start_time": "2022-08-15T17:01:28.222Z"
   },
   {
    "duration": 0,
    "start_time": "2022-08-15T17:01:28.223Z"
   },
   {
    "duration": 1,
    "start_time": "2022-08-15T17:01:28.224Z"
   },
   {
    "duration": 0,
    "start_time": "2022-08-15T17:01:28.226Z"
   },
   {
    "duration": 0,
    "start_time": "2022-08-15T17:01:28.228Z"
   },
   {
    "duration": 0,
    "start_time": "2022-08-15T17:01:28.229Z"
   },
   {
    "duration": 0,
    "start_time": "2022-08-15T17:01:28.231Z"
   },
   {
    "duration": 0,
    "start_time": "2022-08-15T17:01:28.232Z"
   },
   {
    "duration": 0,
    "start_time": "2022-08-15T17:01:28.234Z"
   },
   {
    "duration": 0,
    "start_time": "2022-08-15T17:01:28.235Z"
   },
   {
    "duration": 0,
    "start_time": "2022-08-15T17:01:28.236Z"
   },
   {
    "duration": 0,
    "start_time": "2022-08-15T17:01:28.238Z"
   },
   {
    "duration": 0,
    "start_time": "2022-08-15T17:01:28.239Z"
   },
   {
    "duration": 0,
    "start_time": "2022-08-15T17:01:28.240Z"
   },
   {
    "duration": 0,
    "start_time": "2022-08-15T17:01:28.242Z"
   },
   {
    "duration": 0,
    "start_time": "2022-08-15T17:01:28.243Z"
   },
   {
    "duration": 0,
    "start_time": "2022-08-15T17:01:28.244Z"
   },
   {
    "duration": 0,
    "start_time": "2022-08-15T17:01:28.245Z"
   },
   {
    "duration": 0,
    "start_time": "2022-08-15T17:01:28.247Z"
   },
   {
    "duration": 0,
    "start_time": "2022-08-15T17:01:28.248Z"
   },
   {
    "duration": 0,
    "start_time": "2022-08-15T17:01:28.249Z"
   },
   {
    "duration": 0,
    "start_time": "2022-08-15T17:01:28.310Z"
   },
   {
    "duration": 0,
    "start_time": "2022-08-15T17:01:28.311Z"
   },
   {
    "duration": 0,
    "start_time": "2022-08-15T17:01:28.312Z"
   },
   {
    "duration": 0,
    "start_time": "2022-08-15T17:01:28.313Z"
   },
   {
    "duration": 0,
    "start_time": "2022-08-15T17:01:28.314Z"
   },
   {
    "duration": 0,
    "start_time": "2022-08-15T17:01:28.315Z"
   },
   {
    "duration": 0,
    "start_time": "2022-08-15T17:01:28.315Z"
   },
   {
    "duration": 0,
    "start_time": "2022-08-15T17:01:28.317Z"
   },
   {
    "duration": 0,
    "start_time": "2022-08-15T17:01:28.318Z"
   },
   {
    "duration": 0,
    "start_time": "2022-08-15T17:01:28.319Z"
   },
   {
    "duration": 0,
    "start_time": "2022-08-15T17:01:28.320Z"
   },
   {
    "duration": 0,
    "start_time": "2022-08-15T17:01:28.321Z"
   },
   {
    "duration": 0,
    "start_time": "2022-08-15T17:01:28.322Z"
   },
   {
    "duration": 0,
    "start_time": "2022-08-15T17:01:28.323Z"
   },
   {
    "duration": 0,
    "start_time": "2022-08-15T17:01:28.324Z"
   },
   {
    "duration": 0,
    "start_time": "2022-08-15T17:01:28.325Z"
   },
   {
    "duration": 0,
    "start_time": "2022-08-15T17:01:28.327Z"
   },
   {
    "duration": 0,
    "start_time": "2022-08-15T17:01:28.328Z"
   },
   {
    "duration": 0,
    "start_time": "2022-08-15T17:01:28.329Z"
   },
   {
    "duration": 0,
    "start_time": "2022-08-15T17:01:28.330Z"
   },
   {
    "duration": 0,
    "start_time": "2022-08-15T17:01:28.331Z"
   },
   {
    "duration": 0,
    "start_time": "2022-08-15T17:01:28.333Z"
   },
   {
    "duration": 0,
    "start_time": "2022-08-15T17:01:28.334Z"
   },
   {
    "duration": 0,
    "start_time": "2022-08-15T17:01:28.335Z"
   },
   {
    "duration": 21,
    "start_time": "2022-08-15T17:01:56.373Z"
   },
   {
    "duration": 1185,
    "start_time": "2022-08-15T17:02:11.145Z"
   },
   {
    "duration": 71,
    "start_time": "2022-08-15T17:02:12.333Z"
   },
   {
    "duration": 24,
    "start_time": "2022-08-15T17:02:12.406Z"
   },
   {
    "duration": 748,
    "start_time": "2022-08-15T17:02:12.432Z"
   },
   {
    "duration": 5,
    "start_time": "2022-08-15T17:02:13.183Z"
   },
   {
    "duration": 24,
    "start_time": "2022-08-15T17:02:13.190Z"
   },
   {
    "duration": 11,
    "start_time": "2022-08-15T17:02:13.216Z"
   },
   {
    "duration": 14,
    "start_time": "2022-08-15T17:02:13.229Z"
   },
   {
    "duration": 10,
    "start_time": "2022-08-15T17:02:13.245Z"
   },
   {
    "duration": 7,
    "start_time": "2022-08-15T17:02:13.259Z"
   },
   {
    "duration": 7,
    "start_time": "2022-08-15T17:02:13.268Z"
   },
   {
    "duration": 12,
    "start_time": "2022-08-15T17:02:13.277Z"
   },
   {
    "duration": 5,
    "start_time": "2022-08-15T17:02:13.290Z"
   },
   {
    "duration": 30,
    "start_time": "2022-08-15T17:02:13.297Z"
   },
   {
    "duration": 8,
    "start_time": "2022-08-15T17:02:13.329Z"
   },
   {
    "duration": 35,
    "start_time": "2022-08-15T17:02:13.339Z"
   },
   {
    "duration": 4,
    "start_time": "2022-08-15T17:02:13.376Z"
   },
   {
    "duration": 34,
    "start_time": "2022-08-15T17:02:13.382Z"
   },
   {
    "duration": 18,
    "start_time": "2022-08-15T17:02:13.418Z"
   },
   {
    "duration": 9,
    "start_time": "2022-08-15T17:02:13.438Z"
   },
   {
    "duration": 9,
    "start_time": "2022-08-15T17:02:13.449Z"
   },
   {
    "duration": 18,
    "start_time": "2022-08-15T17:02:13.459Z"
   },
   {
    "duration": 40,
    "start_time": "2022-08-15T17:02:13.479Z"
   },
   {
    "duration": 9,
    "start_time": "2022-08-15T17:02:13.521Z"
   },
   {
    "duration": 324,
    "start_time": "2022-08-15T17:02:13.532Z"
   },
   {
    "duration": 7,
    "start_time": "2022-08-15T17:02:13.858Z"
   },
   {
    "duration": 301,
    "start_time": "2022-08-15T17:02:13.867Z"
   },
   {
    "duration": 110,
    "start_time": "2022-08-15T17:02:14.171Z"
   },
   {
    "duration": 6,
    "start_time": "2022-08-15T17:02:14.283Z"
   },
   {
    "duration": 20,
    "start_time": "2022-08-15T17:02:14.290Z"
   },
   {
    "duration": 5,
    "start_time": "2022-08-15T17:02:14.311Z"
   },
   {
    "duration": 26,
    "start_time": "2022-08-15T17:02:14.318Z"
   },
   {
    "duration": 24,
    "start_time": "2022-08-15T17:02:14.345Z"
   },
   {
    "duration": 444,
    "start_time": "2022-08-15T17:02:14.371Z"
   },
   {
    "duration": 437,
    "start_time": "2022-08-15T17:02:14.817Z"
   },
   {
    "duration": 327,
    "start_time": "2022-08-15T17:02:15.256Z"
   },
   {
    "duration": 746,
    "start_time": "2022-08-15T17:02:15.584Z"
   },
   {
    "duration": 550,
    "start_time": "2022-08-15T17:02:16.332Z"
   },
   {
    "duration": 658,
    "start_time": "2022-08-15T17:02:16.884Z"
   },
   {
    "duration": 7,
    "start_time": "2022-08-15T17:02:17.544Z"
   },
   {
    "duration": 20,
    "start_time": "2022-08-15T17:02:17.553Z"
   },
   {
    "duration": 13,
    "start_time": "2022-08-15T17:02:17.575Z"
   },
   {
    "duration": 63,
    "start_time": "2022-08-15T17:02:17.589Z"
   },
   {
    "duration": 135,
    "start_time": "2022-08-15T17:02:17.653Z"
   },
   {
    "duration": 250,
    "start_time": "2022-08-15T17:02:17.790Z"
   },
   {
    "duration": 130,
    "start_time": "2022-08-15T17:02:18.042Z"
   },
   {
    "duration": 141,
    "start_time": "2022-08-15T17:02:18.174Z"
   },
   {
    "duration": 109,
    "start_time": "2022-08-15T17:02:18.316Z"
   },
   {
    "duration": 113,
    "start_time": "2022-08-15T17:02:18.426Z"
   },
   {
    "duration": 114,
    "start_time": "2022-08-15T17:02:18.541Z"
   },
   {
    "duration": 111,
    "start_time": "2022-08-15T17:02:18.657Z"
   },
   {
    "duration": 123,
    "start_time": "2022-08-15T17:02:18.770Z"
   },
   {
    "duration": 18,
    "start_time": "2022-08-15T17:02:18.894Z"
   },
   {
    "duration": 9,
    "start_time": "2022-08-15T17:02:18.914Z"
   },
   {
    "duration": 2225,
    "start_time": "2022-08-15T17:02:18.925Z"
   },
   {
    "duration": 0,
    "start_time": "2022-08-15T17:02:21.153Z"
   },
   {
    "duration": 0,
    "start_time": "2022-08-15T17:02:21.155Z"
   },
   {
    "duration": 0,
    "start_time": "2022-08-15T17:02:21.156Z"
   },
   {
    "duration": 0,
    "start_time": "2022-08-15T17:02:21.157Z"
   },
   {
    "duration": 0,
    "start_time": "2022-08-15T17:02:21.158Z"
   },
   {
    "duration": 0,
    "start_time": "2022-08-15T17:02:21.160Z"
   },
   {
    "duration": 0,
    "start_time": "2022-08-15T17:02:21.162Z"
   },
   {
    "duration": 0,
    "start_time": "2022-08-15T17:02:21.163Z"
   },
   {
    "duration": 0,
    "start_time": "2022-08-15T17:02:21.165Z"
   },
   {
    "duration": 0,
    "start_time": "2022-08-15T17:02:21.167Z"
   },
   {
    "duration": 0,
    "start_time": "2022-08-15T17:02:21.168Z"
   },
   {
    "duration": 0,
    "start_time": "2022-08-15T17:02:21.169Z"
   },
   {
    "duration": 0,
    "start_time": "2022-08-15T17:02:21.171Z"
   },
   {
    "duration": 0,
    "start_time": "2022-08-15T17:02:21.172Z"
   },
   {
    "duration": 0,
    "start_time": "2022-08-15T17:02:21.174Z"
   },
   {
    "duration": 0,
    "start_time": "2022-08-15T17:02:21.175Z"
   },
   {
    "duration": 0,
    "start_time": "2022-08-15T17:02:21.176Z"
   },
   {
    "duration": 0,
    "start_time": "2022-08-15T17:02:21.177Z"
   },
   {
    "duration": 0,
    "start_time": "2022-08-15T17:02:21.179Z"
   },
   {
    "duration": 0,
    "start_time": "2022-08-15T17:02:21.179Z"
   },
   {
    "duration": 0,
    "start_time": "2022-08-15T17:02:21.181Z"
   },
   {
    "duration": 0,
    "start_time": "2022-08-15T17:02:21.182Z"
   },
   {
    "duration": 0,
    "start_time": "2022-08-15T17:02:21.183Z"
   },
   {
    "duration": 0,
    "start_time": "2022-08-15T17:02:21.183Z"
   },
   {
    "duration": 0,
    "start_time": "2022-08-15T17:02:21.184Z"
   },
   {
    "duration": 0,
    "start_time": "2022-08-15T17:02:21.186Z"
   },
   {
    "duration": 0,
    "start_time": "2022-08-15T17:02:21.187Z"
   },
   {
    "duration": 0,
    "start_time": "2022-08-15T17:02:21.188Z"
   },
   {
    "duration": 1,
    "start_time": "2022-08-15T17:02:21.188Z"
   },
   {
    "duration": 0,
    "start_time": "2022-08-15T17:02:21.189Z"
   },
   {
    "duration": 0,
    "start_time": "2022-08-15T17:02:21.190Z"
   },
   {
    "duration": 0,
    "start_time": "2022-08-15T17:02:21.191Z"
   },
   {
    "duration": 0,
    "start_time": "2022-08-15T17:02:21.192Z"
   },
   {
    "duration": 0,
    "start_time": "2022-08-15T17:02:21.193Z"
   },
   {
    "duration": 0,
    "start_time": "2022-08-15T17:02:21.209Z"
   },
   {
    "duration": 0,
    "start_time": "2022-08-15T17:02:21.210Z"
   },
   {
    "duration": 0,
    "start_time": "2022-08-15T17:02:21.211Z"
   },
   {
    "duration": 1330,
    "start_time": "2022-08-16T07:37:02.371Z"
   },
   {
    "duration": 162,
    "start_time": "2022-08-16T07:37:03.704Z"
   },
   {
    "duration": 25,
    "start_time": "2022-08-16T07:37:03.868Z"
   },
   {
    "duration": 816,
    "start_time": "2022-08-16T07:37:03.894Z"
   },
   {
    "duration": 5,
    "start_time": "2022-08-16T07:37:04.712Z"
   },
   {
    "duration": 25,
    "start_time": "2022-08-16T07:37:04.719Z"
   },
   {
    "duration": 18,
    "start_time": "2022-08-16T07:37:04.746Z"
   },
   {
    "duration": 10,
    "start_time": "2022-08-16T07:37:04.766Z"
   },
   {
    "duration": 9,
    "start_time": "2022-08-16T07:37:04.778Z"
   },
   {
    "duration": 11,
    "start_time": "2022-08-16T07:37:04.789Z"
   },
   {
    "duration": 18,
    "start_time": "2022-08-16T07:37:04.801Z"
   },
   {
    "duration": 15,
    "start_time": "2022-08-16T07:37:04.821Z"
   },
   {
    "duration": 7,
    "start_time": "2022-08-16T07:37:04.837Z"
   },
   {
    "duration": 31,
    "start_time": "2022-08-16T07:37:04.847Z"
   },
   {
    "duration": 8,
    "start_time": "2022-08-16T07:37:04.880Z"
   },
   {
    "duration": 50,
    "start_time": "2022-08-16T07:37:04.889Z"
   },
   {
    "duration": 6,
    "start_time": "2022-08-16T07:37:04.941Z"
   },
   {
    "duration": 16,
    "start_time": "2022-08-16T07:37:04.948Z"
   },
   {
    "duration": 43,
    "start_time": "2022-08-16T07:37:04.967Z"
   },
   {
    "duration": 6,
    "start_time": "2022-08-16T07:37:05.012Z"
   },
   {
    "duration": 13,
    "start_time": "2022-08-16T07:37:05.020Z"
   },
   {
    "duration": 27,
    "start_time": "2022-08-16T07:37:05.035Z"
   },
   {
    "duration": 49,
    "start_time": "2022-08-16T07:37:05.064Z"
   },
   {
    "duration": 6,
    "start_time": "2022-08-16T07:37:05.114Z"
   },
   {
    "duration": 346,
    "start_time": "2022-08-16T07:37:05.122Z"
   },
   {
    "duration": 7,
    "start_time": "2022-08-16T07:37:05.470Z"
   },
   {
    "duration": 305,
    "start_time": "2022-08-16T07:37:05.479Z"
   },
   {
    "duration": 30,
    "start_time": "2022-08-16T07:37:05.785Z"
   },
   {
    "duration": 6,
    "start_time": "2022-08-16T07:37:05.817Z"
   },
   {
    "duration": 9,
    "start_time": "2022-08-16T07:37:05.825Z"
   },
   {
    "duration": 7,
    "start_time": "2022-08-16T07:37:05.835Z"
   },
   {
    "duration": 26,
    "start_time": "2022-08-16T07:37:05.843Z"
   },
   {
    "duration": 129,
    "start_time": "2022-08-16T07:37:05.871Z"
   },
   {
    "duration": 433,
    "start_time": "2022-08-16T07:37:06.002Z"
   },
   {
    "duration": 451,
    "start_time": "2022-08-16T07:37:06.437Z"
   },
   {
    "duration": 339,
    "start_time": "2022-08-16T07:37:06.890Z"
   },
   {
    "duration": 695,
    "start_time": "2022-08-16T07:37:07.231Z"
   },
   {
    "duration": 595,
    "start_time": "2022-08-16T07:37:07.928Z"
   },
   {
    "duration": 597,
    "start_time": "2022-08-16T07:37:08.525Z"
   },
   {
    "duration": 8,
    "start_time": "2022-08-16T07:37:09.123Z"
   },
   {
    "duration": 34,
    "start_time": "2022-08-16T07:37:09.135Z"
   },
   {
    "duration": 26,
    "start_time": "2022-08-16T07:37:09.170Z"
   },
   {
    "duration": 89,
    "start_time": "2022-08-16T07:37:09.198Z"
   },
   {
    "duration": 116,
    "start_time": "2022-08-16T07:37:09.288Z"
   },
   {
    "duration": 215,
    "start_time": "2022-08-16T07:37:09.406Z"
   },
   {
    "duration": 136,
    "start_time": "2022-08-16T07:37:09.622Z"
   },
   {
    "duration": 130,
    "start_time": "2022-08-16T07:37:09.760Z"
   },
   {
    "duration": 132,
    "start_time": "2022-08-16T07:37:09.898Z"
   },
   {
    "duration": 141,
    "start_time": "2022-08-16T07:37:10.031Z"
   },
   {
    "duration": 135,
    "start_time": "2022-08-16T07:37:10.174Z"
   },
   {
    "duration": 133,
    "start_time": "2022-08-16T07:37:10.311Z"
   },
   {
    "duration": 130,
    "start_time": "2022-08-16T07:37:10.446Z"
   },
   {
    "duration": 7,
    "start_time": "2022-08-16T07:37:10.578Z"
   },
   {
    "duration": 7,
    "start_time": "2022-08-16T07:37:10.599Z"
   },
   {
    "duration": 1661,
    "start_time": "2022-08-16T07:37:10.608Z"
   },
   {
    "duration": 0,
    "start_time": "2022-08-16T07:37:12.270Z"
   },
   {
    "duration": 0,
    "start_time": "2022-08-16T07:37:12.272Z"
   },
   {
    "duration": 0,
    "start_time": "2022-08-16T07:37:12.273Z"
   },
   {
    "duration": 0,
    "start_time": "2022-08-16T07:37:12.274Z"
   },
   {
    "duration": 0,
    "start_time": "2022-08-16T07:37:12.276Z"
   },
   {
    "duration": 0,
    "start_time": "2022-08-16T07:37:12.277Z"
   },
   {
    "duration": 0,
    "start_time": "2022-08-16T07:37:12.279Z"
   },
   {
    "duration": 0,
    "start_time": "2022-08-16T07:37:12.280Z"
   },
   {
    "duration": 0,
    "start_time": "2022-08-16T07:37:12.281Z"
   },
   {
    "duration": 0,
    "start_time": "2022-08-16T07:37:12.282Z"
   },
   {
    "duration": 0,
    "start_time": "2022-08-16T07:37:12.283Z"
   },
   {
    "duration": 0,
    "start_time": "2022-08-16T07:37:12.296Z"
   },
   {
    "duration": 0,
    "start_time": "2022-08-16T07:37:12.297Z"
   },
   {
    "duration": 0,
    "start_time": "2022-08-16T07:37:12.299Z"
   },
   {
    "duration": 0,
    "start_time": "2022-08-16T07:37:12.301Z"
   },
   {
    "duration": 1,
    "start_time": "2022-08-16T07:37:12.302Z"
   },
   {
    "duration": 0,
    "start_time": "2022-08-16T07:37:12.304Z"
   },
   {
    "duration": 0,
    "start_time": "2022-08-16T07:37:12.305Z"
   },
   {
    "duration": 0,
    "start_time": "2022-08-16T07:37:12.307Z"
   },
   {
    "duration": 0,
    "start_time": "2022-08-16T07:37:12.309Z"
   },
   {
    "duration": 0,
    "start_time": "2022-08-16T07:37:12.310Z"
   },
   {
    "duration": 0,
    "start_time": "2022-08-16T07:37:12.311Z"
   },
   {
    "duration": 0,
    "start_time": "2022-08-16T07:37:12.312Z"
   },
   {
    "duration": 0,
    "start_time": "2022-08-16T07:37:12.313Z"
   },
   {
    "duration": 0,
    "start_time": "2022-08-16T07:37:12.314Z"
   },
   {
    "duration": 0,
    "start_time": "2022-08-16T07:37:12.315Z"
   },
   {
    "duration": 0,
    "start_time": "2022-08-16T07:37:12.316Z"
   },
   {
    "duration": 0,
    "start_time": "2022-08-16T07:37:12.317Z"
   },
   {
    "duration": 0,
    "start_time": "2022-08-16T07:37:12.318Z"
   },
   {
    "duration": 0,
    "start_time": "2022-08-16T07:37:12.319Z"
   },
   {
    "duration": 0,
    "start_time": "2022-08-16T07:37:12.320Z"
   },
   {
    "duration": 0,
    "start_time": "2022-08-16T07:37:12.321Z"
   },
   {
    "duration": 0,
    "start_time": "2022-08-16T07:37:12.322Z"
   },
   {
    "duration": 0,
    "start_time": "2022-08-16T07:37:12.322Z"
   },
   {
    "duration": 0,
    "start_time": "2022-08-16T07:37:12.323Z"
   },
   {
    "duration": 0,
    "start_time": "2022-08-16T07:37:12.324Z"
   },
   {
    "duration": 0,
    "start_time": "2022-08-16T07:37:12.325Z"
   },
   {
    "duration": 5,
    "start_time": "2022-08-16T07:41:56.132Z"
   },
   {
    "duration": 1288,
    "start_time": "2022-08-16T15:00:15.218Z"
   },
   {
    "duration": 114,
    "start_time": "2022-08-16T15:00:16.508Z"
   },
   {
    "duration": 31,
    "start_time": "2022-08-16T15:00:16.624Z"
   },
   {
    "duration": 858,
    "start_time": "2022-08-16T15:00:16.657Z"
   },
   {
    "duration": 4,
    "start_time": "2022-08-16T15:00:17.517Z"
   },
   {
    "duration": 9,
    "start_time": "2022-08-16T15:00:17.522Z"
   },
   {
    "duration": 9,
    "start_time": "2022-08-16T15:00:17.532Z"
   },
   {
    "duration": 8,
    "start_time": "2022-08-16T15:00:17.542Z"
   },
   {
    "duration": 9,
    "start_time": "2022-08-16T15:00:17.552Z"
   },
   {
    "duration": 4,
    "start_time": "2022-08-16T15:00:17.563Z"
   },
   {
    "duration": 7,
    "start_time": "2022-08-16T15:00:17.568Z"
   },
   {
    "duration": 26,
    "start_time": "2022-08-16T15:00:17.576Z"
   },
   {
    "duration": 21,
    "start_time": "2022-08-16T15:00:17.603Z"
   },
   {
    "duration": 22,
    "start_time": "2022-08-16T15:00:17.625Z"
   },
   {
    "duration": 7,
    "start_time": "2022-08-16T15:00:17.648Z"
   },
   {
    "duration": 43,
    "start_time": "2022-08-16T15:00:17.656Z"
   },
   {
    "duration": 4,
    "start_time": "2022-08-16T15:00:17.701Z"
   },
   {
    "duration": 14,
    "start_time": "2022-08-16T15:00:17.706Z"
   },
   {
    "duration": 19,
    "start_time": "2022-08-16T15:00:17.721Z"
   },
   {
    "duration": 18,
    "start_time": "2022-08-16T15:00:17.741Z"
   },
   {
    "duration": 7,
    "start_time": "2022-08-16T15:00:17.761Z"
   },
   {
    "duration": 30,
    "start_time": "2022-08-16T15:00:17.769Z"
   },
   {
    "duration": 22,
    "start_time": "2022-08-16T15:00:17.800Z"
   },
   {
    "duration": 6,
    "start_time": "2022-08-16T15:00:17.824Z"
   },
   {
    "duration": 334,
    "start_time": "2022-08-16T15:00:17.831Z"
   },
   {
    "duration": 8,
    "start_time": "2022-08-16T15:00:18.167Z"
   },
   {
    "duration": 286,
    "start_time": "2022-08-16T15:00:18.177Z"
   },
   {
    "duration": 87,
    "start_time": "2022-08-16T15:00:18.467Z"
   },
   {
    "duration": 6,
    "start_time": "2022-08-16T15:00:18.556Z"
   },
   {
    "duration": 8,
    "start_time": "2022-08-16T15:00:18.564Z"
   },
   {
    "duration": 24,
    "start_time": "2022-08-16T15:00:18.574Z"
   },
   {
    "duration": 22,
    "start_time": "2022-08-16T15:00:18.600Z"
   },
   {
    "duration": 26,
    "start_time": "2022-08-16T15:00:18.624Z"
   },
   {
    "duration": 281,
    "start_time": "2022-08-16T15:00:18.652Z"
   },
   {
    "duration": 268,
    "start_time": "2022-08-16T15:00:18.935Z"
   },
   {
    "duration": 309,
    "start_time": "2022-08-16T15:00:19.205Z"
   },
   {
    "duration": 4,
    "start_time": "2022-08-16T15:00:19.515Z"
   },
   {
    "duration": 641,
    "start_time": "2022-08-16T15:00:19.521Z"
   },
   {
    "duration": 698,
    "start_time": "2022-08-16T15:00:20.163Z"
   },
   {
    "duration": 599,
    "start_time": "2022-08-16T15:00:20.863Z"
   },
   {
    "duration": 6,
    "start_time": "2022-08-16T15:00:21.464Z"
   },
   {
    "duration": 8,
    "start_time": "2022-08-16T15:00:21.472Z"
   },
   {
    "duration": 20,
    "start_time": "2022-08-16T15:00:21.482Z"
   },
   {
    "duration": 56,
    "start_time": "2022-08-16T15:00:21.503Z"
   },
   {
    "duration": 72,
    "start_time": "2022-08-16T15:00:21.562Z"
   },
   {
    "duration": 0,
    "start_time": "2022-08-16T15:00:21.636Z"
   },
   {
    "duration": 0,
    "start_time": "2022-08-16T15:00:21.637Z"
   },
   {
    "duration": 0,
    "start_time": "2022-08-16T15:00:21.639Z"
   },
   {
    "duration": 0,
    "start_time": "2022-08-16T15:00:21.640Z"
   },
   {
    "duration": 0,
    "start_time": "2022-08-16T15:00:21.642Z"
   },
   {
    "duration": 0,
    "start_time": "2022-08-16T15:00:21.643Z"
   },
   {
    "duration": 0,
    "start_time": "2022-08-16T15:00:21.644Z"
   },
   {
    "duration": 0,
    "start_time": "2022-08-16T15:00:21.645Z"
   },
   {
    "duration": 0,
    "start_time": "2022-08-16T15:00:21.646Z"
   },
   {
    "duration": 0,
    "start_time": "2022-08-16T15:00:21.647Z"
   },
   {
    "duration": 0,
    "start_time": "2022-08-16T15:00:21.648Z"
   },
   {
    "duration": 0,
    "start_time": "2022-08-16T15:00:21.649Z"
   },
   {
    "duration": 0,
    "start_time": "2022-08-16T15:00:21.651Z"
   },
   {
    "duration": 0,
    "start_time": "2022-08-16T15:00:21.652Z"
   },
   {
    "duration": 0,
    "start_time": "2022-08-16T15:00:21.653Z"
   },
   {
    "duration": 0,
    "start_time": "2022-08-16T15:00:21.654Z"
   },
   {
    "duration": 0,
    "start_time": "2022-08-16T15:00:21.655Z"
   },
   {
    "duration": 0,
    "start_time": "2022-08-16T15:00:21.656Z"
   },
   {
    "duration": 0,
    "start_time": "2022-08-16T15:00:21.657Z"
   },
   {
    "duration": 0,
    "start_time": "2022-08-16T15:00:21.658Z"
   },
   {
    "duration": 0,
    "start_time": "2022-08-16T15:00:21.659Z"
   },
   {
    "duration": 1,
    "start_time": "2022-08-16T15:00:21.660Z"
   },
   {
    "duration": 0,
    "start_time": "2022-08-16T15:00:21.662Z"
   },
   {
    "duration": 0,
    "start_time": "2022-08-16T15:00:21.663Z"
   },
   {
    "duration": 0,
    "start_time": "2022-08-16T15:00:21.664Z"
   },
   {
    "duration": 0,
    "start_time": "2022-08-16T15:00:21.665Z"
   },
   {
    "duration": 0,
    "start_time": "2022-08-16T15:00:21.666Z"
   },
   {
    "duration": 0,
    "start_time": "2022-08-16T15:00:21.667Z"
   },
   {
    "duration": 0,
    "start_time": "2022-08-16T15:00:21.668Z"
   },
   {
    "duration": 0,
    "start_time": "2022-08-16T15:00:21.669Z"
   },
   {
    "duration": 0,
    "start_time": "2022-08-16T15:00:21.670Z"
   },
   {
    "duration": 0,
    "start_time": "2022-08-16T15:00:21.671Z"
   },
   {
    "duration": 0,
    "start_time": "2022-08-16T15:00:21.672Z"
   },
   {
    "duration": 0,
    "start_time": "2022-08-16T15:00:21.673Z"
   },
   {
    "duration": 0,
    "start_time": "2022-08-16T15:00:21.674Z"
   },
   {
    "duration": 0,
    "start_time": "2022-08-16T15:00:21.699Z"
   },
   {
    "duration": 0,
    "start_time": "2022-08-16T15:00:21.700Z"
   },
   {
    "duration": 0,
    "start_time": "2022-08-16T15:00:21.701Z"
   },
   {
    "duration": 0,
    "start_time": "2022-08-16T15:00:21.702Z"
   },
   {
    "duration": 0,
    "start_time": "2022-08-16T15:00:21.703Z"
   },
   {
    "duration": 0,
    "start_time": "2022-08-16T15:00:21.704Z"
   },
   {
    "duration": 0,
    "start_time": "2022-08-16T15:00:21.705Z"
   },
   {
    "duration": 0,
    "start_time": "2022-08-16T15:00:21.706Z"
   },
   {
    "duration": 0,
    "start_time": "2022-08-16T15:00:21.706Z"
   },
   {
    "duration": 0,
    "start_time": "2022-08-16T15:00:21.708Z"
   },
   {
    "duration": 0,
    "start_time": "2022-08-16T15:00:21.709Z"
   },
   {
    "duration": 0,
    "start_time": "2022-08-16T15:00:21.710Z"
   },
   {
    "duration": 0,
    "start_time": "2022-08-16T15:00:21.711Z"
   },
   {
    "duration": 203,
    "start_time": "2022-08-16T15:00:34.344Z"
   },
   {
    "duration": 1155,
    "start_time": "2022-08-16T15:00:56.825Z"
   },
   {
    "duration": 86,
    "start_time": "2022-08-16T15:00:57.982Z"
   },
   {
    "duration": 23,
    "start_time": "2022-08-16T15:00:58.069Z"
   },
   {
    "duration": 870,
    "start_time": "2022-08-16T15:00:58.094Z"
   },
   {
    "duration": 4,
    "start_time": "2022-08-16T15:00:58.965Z"
   },
   {
    "duration": 12,
    "start_time": "2022-08-16T15:00:58.971Z"
   },
   {
    "duration": 15,
    "start_time": "2022-08-16T15:00:58.985Z"
   },
   {
    "duration": 34,
    "start_time": "2022-08-16T15:00:59.001Z"
   },
   {
    "duration": 21,
    "start_time": "2022-08-16T15:00:59.036Z"
   },
   {
    "duration": 28,
    "start_time": "2022-08-16T15:00:59.059Z"
   },
   {
    "duration": 36,
    "start_time": "2022-08-16T15:00:59.088Z"
   },
   {
    "duration": 28,
    "start_time": "2022-08-16T15:00:59.126Z"
   },
   {
    "duration": 18,
    "start_time": "2022-08-16T15:00:59.156Z"
   },
   {
    "duration": 32,
    "start_time": "2022-08-16T15:00:59.176Z"
   },
   {
    "duration": 7,
    "start_time": "2022-08-16T15:00:59.210Z"
   },
   {
    "duration": 42,
    "start_time": "2022-08-16T15:00:59.219Z"
   },
   {
    "duration": 3,
    "start_time": "2022-08-16T15:00:59.263Z"
   },
   {
    "duration": 29,
    "start_time": "2022-08-16T15:00:59.268Z"
   },
   {
    "duration": 23,
    "start_time": "2022-08-16T15:00:59.299Z"
   },
   {
    "duration": 14,
    "start_time": "2022-08-16T15:00:59.323Z"
   },
   {
    "duration": 28,
    "start_time": "2022-08-16T15:00:59.338Z"
   },
   {
    "duration": 42,
    "start_time": "2022-08-16T15:00:59.368Z"
   },
   {
    "duration": 21,
    "start_time": "2022-08-16T15:00:59.412Z"
   },
   {
    "duration": 15,
    "start_time": "2022-08-16T15:00:59.435Z"
   },
   {
    "duration": 329,
    "start_time": "2022-08-16T15:00:59.452Z"
   },
   {
    "duration": 8,
    "start_time": "2022-08-16T15:00:59.783Z"
   },
   {
    "duration": 300,
    "start_time": "2022-08-16T15:00:59.799Z"
   },
   {
    "duration": 107,
    "start_time": "2022-08-16T15:01:00.103Z"
   },
   {
    "duration": 7,
    "start_time": "2022-08-16T15:01:00.211Z"
   },
   {
    "duration": 47,
    "start_time": "2022-08-16T15:01:00.219Z"
   },
   {
    "duration": 50,
    "start_time": "2022-08-16T15:01:00.268Z"
   },
   {
    "duration": 57,
    "start_time": "2022-08-16T15:01:00.319Z"
   },
   {
    "duration": 42,
    "start_time": "2022-08-16T15:01:00.377Z"
   },
   {
    "duration": 286,
    "start_time": "2022-08-16T15:01:00.420Z"
   },
   {
    "duration": 255,
    "start_time": "2022-08-16T15:01:00.707Z"
   },
   {
    "duration": 298,
    "start_time": "2022-08-16T15:01:00.964Z"
   },
   {
    "duration": 5,
    "start_time": "2022-08-16T15:01:01.263Z"
   },
   {
    "duration": 653,
    "start_time": "2022-08-16T15:01:01.269Z"
   },
   {
    "duration": 711,
    "start_time": "2022-08-16T15:01:01.924Z"
   },
   {
    "duration": 631,
    "start_time": "2022-08-16T15:01:02.637Z"
   },
   {
    "duration": 8,
    "start_time": "2022-08-16T15:01:03.270Z"
   },
   {
    "duration": 30,
    "start_time": "2022-08-16T15:01:03.280Z"
   },
   {
    "duration": 34,
    "start_time": "2022-08-16T15:01:03.312Z"
   },
   {
    "duration": 68,
    "start_time": "2022-08-16T15:01:03.348Z"
   },
   {
    "duration": 161,
    "start_time": "2022-08-16T15:01:03.418Z"
   },
   {
    "duration": 177,
    "start_time": "2022-08-16T15:01:03.580Z"
   },
   {
    "duration": 180,
    "start_time": "2022-08-16T15:01:03.759Z"
   },
   {
    "duration": 258,
    "start_time": "2022-08-16T15:01:03.941Z"
   },
   {
    "duration": 183,
    "start_time": "2022-08-16T15:01:04.201Z"
   },
   {
    "duration": 205,
    "start_time": "2022-08-16T15:01:04.386Z"
   },
   {
    "duration": 175,
    "start_time": "2022-08-16T15:01:04.594Z"
   },
   {
    "duration": 200,
    "start_time": "2022-08-16T15:01:04.771Z"
   },
   {
    "duration": 173,
    "start_time": "2022-08-16T15:01:04.973Z"
   },
   {
    "duration": 7,
    "start_time": "2022-08-16T15:01:05.148Z"
   },
   {
    "duration": 26,
    "start_time": "2022-08-16T15:01:05.158Z"
   },
   {
    "duration": 1194,
    "start_time": "2022-08-16T15:01:05.186Z"
   },
   {
    "duration": 0,
    "start_time": "2022-08-16T15:01:06.382Z"
   },
   {
    "duration": 0,
    "start_time": "2022-08-16T15:01:06.383Z"
   },
   {
    "duration": 0,
    "start_time": "2022-08-16T15:01:06.384Z"
   },
   {
    "duration": 0,
    "start_time": "2022-08-16T15:01:06.385Z"
   },
   {
    "duration": 0,
    "start_time": "2022-08-16T15:01:06.386Z"
   },
   {
    "duration": 0,
    "start_time": "2022-08-16T15:01:06.387Z"
   },
   {
    "duration": 0,
    "start_time": "2022-08-16T15:01:06.388Z"
   },
   {
    "duration": 0,
    "start_time": "2022-08-16T15:01:06.389Z"
   },
   {
    "duration": 0,
    "start_time": "2022-08-16T15:01:06.390Z"
   },
   {
    "duration": 0,
    "start_time": "2022-08-16T15:01:06.391Z"
   },
   {
    "duration": 0,
    "start_time": "2022-08-16T15:01:06.392Z"
   },
   {
    "duration": 0,
    "start_time": "2022-08-16T15:01:06.393Z"
   },
   {
    "duration": 0,
    "start_time": "2022-08-16T15:01:06.394Z"
   },
   {
    "duration": 0,
    "start_time": "2022-08-16T15:01:06.395Z"
   },
   {
    "duration": 0,
    "start_time": "2022-08-16T15:01:06.397Z"
   },
   {
    "duration": 0,
    "start_time": "2022-08-16T15:01:06.397Z"
   },
   {
    "duration": 0,
    "start_time": "2022-08-16T15:01:06.398Z"
   },
   {
    "duration": 0,
    "start_time": "2022-08-16T15:01:06.399Z"
   },
   {
    "duration": 0,
    "start_time": "2022-08-16T15:01:06.401Z"
   },
   {
    "duration": 0,
    "start_time": "2022-08-16T15:01:06.401Z"
   },
   {
    "duration": 0,
    "start_time": "2022-08-16T15:01:06.403Z"
   },
   {
    "duration": 0,
    "start_time": "2022-08-16T15:01:06.403Z"
   },
   {
    "duration": 0,
    "start_time": "2022-08-16T15:01:06.404Z"
   },
   {
    "duration": 0,
    "start_time": "2022-08-16T15:01:06.405Z"
   },
   {
    "duration": 0,
    "start_time": "2022-08-16T15:01:06.406Z"
   },
   {
    "duration": 0,
    "start_time": "2022-08-16T15:01:06.407Z"
   },
   {
    "duration": 0,
    "start_time": "2022-08-16T15:01:06.408Z"
   },
   {
    "duration": 0,
    "start_time": "2022-08-16T15:01:06.408Z"
   },
   {
    "duration": 0,
    "start_time": "2022-08-16T15:01:06.410Z"
   },
   {
    "duration": 0,
    "start_time": "2022-08-16T15:01:06.410Z"
   },
   {
    "duration": 0,
    "start_time": "2022-08-16T15:01:06.411Z"
   },
   {
    "duration": 0,
    "start_time": "2022-08-16T15:01:06.412Z"
   },
   {
    "duration": 0,
    "start_time": "2022-08-16T15:01:06.413Z"
   },
   {
    "duration": 0,
    "start_time": "2022-08-16T15:01:06.414Z"
   },
   {
    "duration": 0,
    "start_time": "2022-08-16T15:01:06.415Z"
   },
   {
    "duration": 0,
    "start_time": "2022-08-16T15:01:06.416Z"
   },
   {
    "duration": 0,
    "start_time": "2022-08-16T15:01:06.417Z"
   },
   {
    "duration": 1187,
    "start_time": "2022-08-17T04:53:50.878Z"
   },
   {
    "duration": 186,
    "start_time": "2022-08-17T04:53:52.066Z"
   },
   {
    "duration": 21,
    "start_time": "2022-08-17T04:53:52.253Z"
   },
   {
    "duration": 823,
    "start_time": "2022-08-17T04:53:52.275Z"
   },
   {
    "duration": 4,
    "start_time": "2022-08-17T04:53:53.100Z"
   },
   {
    "duration": 4,
    "start_time": "2022-08-17T04:53:53.106Z"
   },
   {
    "duration": 7,
    "start_time": "2022-08-17T04:53:53.111Z"
   },
   {
    "duration": 6,
    "start_time": "2022-08-17T04:53:53.119Z"
   },
   {
    "duration": 6,
    "start_time": "2022-08-17T04:53:53.126Z"
   },
   {
    "duration": 22,
    "start_time": "2022-08-17T04:53:53.133Z"
   },
   {
    "duration": 5,
    "start_time": "2022-08-17T04:53:53.156Z"
   },
   {
    "duration": 9,
    "start_time": "2022-08-17T04:53:53.163Z"
   },
   {
    "duration": 4,
    "start_time": "2022-08-17T04:53:53.173Z"
   },
   {
    "duration": 19,
    "start_time": "2022-08-17T04:53:53.180Z"
   },
   {
    "duration": 7,
    "start_time": "2022-08-17T04:53:53.200Z"
   },
   {
    "duration": 56,
    "start_time": "2022-08-17T04:53:53.208Z"
   },
   {
    "duration": 3,
    "start_time": "2022-08-17T04:53:53.266Z"
   },
   {
    "duration": 11,
    "start_time": "2022-08-17T04:53:53.271Z"
   },
   {
    "duration": 19,
    "start_time": "2022-08-17T04:53:53.283Z"
   },
   {
    "duration": 7,
    "start_time": "2022-08-17T04:53:53.303Z"
   },
   {
    "duration": 5,
    "start_time": "2022-08-17T04:53:53.312Z"
   },
   {
    "duration": 37,
    "start_time": "2022-08-17T04:53:53.319Z"
   },
   {
    "duration": 20,
    "start_time": "2022-08-17T04:53:53.357Z"
   },
   {
    "duration": 7,
    "start_time": "2022-08-17T04:53:53.378Z"
   },
   {
    "duration": 304,
    "start_time": "2022-08-17T04:53:53.386Z"
   },
   {
    "duration": 7,
    "start_time": "2022-08-17T04:53:53.691Z"
   },
   {
    "duration": 262,
    "start_time": "2022-08-17T04:53:53.699Z"
   },
   {
    "duration": 21,
    "start_time": "2022-08-17T04:53:53.962Z"
   },
   {
    "duration": 6,
    "start_time": "2022-08-17T04:53:53.985Z"
   },
   {
    "duration": 6,
    "start_time": "2022-08-17T04:53:53.992Z"
   },
   {
    "duration": 5,
    "start_time": "2022-08-17T04:53:54.000Z"
   },
   {
    "duration": 21,
    "start_time": "2022-08-17T04:53:54.007Z"
   },
   {
    "duration": 112,
    "start_time": "2022-08-17T04:53:54.029Z"
   },
   {
    "duration": 254,
    "start_time": "2022-08-17T04:53:54.142Z"
   },
   {
    "duration": 243,
    "start_time": "2022-08-17T04:53:54.398Z"
   },
   {
    "duration": 266,
    "start_time": "2022-08-17T04:53:54.643Z"
   },
   {
    "duration": 5,
    "start_time": "2022-08-17T04:53:54.910Z"
   },
   {
    "duration": 569,
    "start_time": "2022-08-17T04:53:54.916Z"
   },
   {
    "duration": 629,
    "start_time": "2022-08-17T04:53:55.486Z"
   },
   {
    "duration": 567,
    "start_time": "2022-08-17T04:53:56.117Z"
   },
   {
    "duration": 8,
    "start_time": "2022-08-17T04:53:56.688Z"
   },
   {
    "duration": 16,
    "start_time": "2022-08-17T04:53:56.697Z"
   },
   {
    "duration": 18,
    "start_time": "2022-08-17T04:53:56.714Z"
   },
   {
    "duration": 68,
    "start_time": "2022-08-17T04:53:56.734Z"
   },
   {
    "duration": 152,
    "start_time": "2022-08-17T04:53:56.804Z"
   },
   {
    "duration": 163,
    "start_time": "2022-08-17T04:53:56.958Z"
   },
   {
    "duration": 148,
    "start_time": "2022-08-17T04:53:57.123Z"
   },
   {
    "duration": 271,
    "start_time": "2022-08-17T04:53:57.273Z"
   },
   {
    "duration": 159,
    "start_time": "2022-08-17T04:53:57.546Z"
   },
   {
    "duration": 148,
    "start_time": "2022-08-17T04:53:57.707Z"
   },
   {
    "duration": 140,
    "start_time": "2022-08-17T04:53:57.856Z"
   },
   {
    "duration": 152,
    "start_time": "2022-08-17T04:53:57.998Z"
   },
   {
    "duration": 150,
    "start_time": "2022-08-17T04:53:58.151Z"
   },
   {
    "duration": 6,
    "start_time": "2022-08-17T04:53:58.302Z"
   },
   {
    "duration": 7,
    "start_time": "2022-08-17T04:53:58.310Z"
   },
   {
    "duration": 1999,
    "start_time": "2022-08-17T04:53:58.319Z"
   },
   {
    "duration": 0,
    "start_time": "2022-08-17T04:54:00.319Z"
   },
   {
    "duration": 0,
    "start_time": "2022-08-17T04:54:00.320Z"
   },
   {
    "duration": 0,
    "start_time": "2022-08-17T04:54:00.321Z"
   },
   {
    "duration": 0,
    "start_time": "2022-08-17T04:54:00.322Z"
   },
   {
    "duration": 0,
    "start_time": "2022-08-17T04:54:00.323Z"
   },
   {
    "duration": 0,
    "start_time": "2022-08-17T04:54:00.324Z"
   },
   {
    "duration": 0,
    "start_time": "2022-08-17T04:54:00.325Z"
   },
   {
    "duration": 1,
    "start_time": "2022-08-17T04:54:00.325Z"
   },
   {
    "duration": 0,
    "start_time": "2022-08-17T04:54:00.327Z"
   },
   {
    "duration": 0,
    "start_time": "2022-08-17T04:54:00.327Z"
   },
   {
    "duration": 0,
    "start_time": "2022-08-17T04:54:00.328Z"
   },
   {
    "duration": 0,
    "start_time": "2022-08-17T04:54:00.329Z"
   },
   {
    "duration": 0,
    "start_time": "2022-08-17T04:54:00.330Z"
   },
   {
    "duration": 0,
    "start_time": "2022-08-17T04:54:00.331Z"
   },
   {
    "duration": 0,
    "start_time": "2022-08-17T04:54:00.333Z"
   },
   {
    "duration": 0,
    "start_time": "2022-08-17T04:54:00.333Z"
   },
   {
    "duration": 0,
    "start_time": "2022-08-17T04:54:00.334Z"
   },
   {
    "duration": 0,
    "start_time": "2022-08-17T04:54:00.335Z"
   },
   {
    "duration": 0,
    "start_time": "2022-08-17T04:54:00.336Z"
   },
   {
    "duration": 0,
    "start_time": "2022-08-17T04:54:00.337Z"
   },
   {
    "duration": 0,
    "start_time": "2022-08-17T04:54:00.338Z"
   },
   {
    "duration": 0,
    "start_time": "2022-08-17T04:54:00.339Z"
   },
   {
    "duration": 0,
    "start_time": "2022-08-17T04:54:00.340Z"
   },
   {
    "duration": 0,
    "start_time": "2022-08-17T04:54:00.341Z"
   },
   {
    "duration": 0,
    "start_time": "2022-08-17T04:54:00.342Z"
   },
   {
    "duration": 0,
    "start_time": "2022-08-17T04:54:00.343Z"
   },
   {
    "duration": 0,
    "start_time": "2022-08-17T04:54:00.344Z"
   },
   {
    "duration": 0,
    "start_time": "2022-08-17T04:54:00.345Z"
   },
   {
    "duration": 0,
    "start_time": "2022-08-17T04:54:00.346Z"
   },
   {
    "duration": 0,
    "start_time": "2022-08-17T04:54:00.347Z"
   },
   {
    "duration": 0,
    "start_time": "2022-08-17T04:54:00.348Z"
   },
   {
    "duration": 0,
    "start_time": "2022-08-17T04:54:00.349Z"
   },
   {
    "duration": 0,
    "start_time": "2022-08-17T04:54:00.349Z"
   },
   {
    "duration": 0,
    "start_time": "2022-08-17T04:54:00.351Z"
   },
   {
    "duration": 0,
    "start_time": "2022-08-17T04:54:00.352Z"
   },
   {
    "duration": 0,
    "start_time": "2022-08-17T04:54:00.353Z"
   },
   {
    "duration": 0,
    "start_time": "2022-08-17T04:54:00.353Z"
   }
  ],
  "kernelspec": {
   "display_name": "Python 3.9.12 ('base')",
   "language": "python",
   "name": "python3"
  },
  "language_info": {
   "codemirror_mode": {
    "name": "ipython",
    "version": 3
   },
   "file_extension": ".py",
   "mimetype": "text/x-python",
   "name": "python",
   "nbconvert_exporter": "python",
   "pygments_lexer": "ipython3",
   "version": "3.9.12"
  },
  "toc": {
   "base_numbering": 1,
   "nav_menu": {},
   "number_sections": true,
   "sideBar": true,
   "skip_h1_title": true,
   "title_cell": "Table of Contents",
   "title_sidebar": "Contents",
   "toc_cell": false,
   "toc_position": {},
   "toc_section_display": true,
   "toc_window_display": false
  },
  "vscode": {
   "interpreter": {
    "hash": "1c8c03b3dd9f00cbf1a5a5c63c930805b828fbf388ffb63f05d8fe79c64b8236"
   }
  }
 },
 "nbformat": 4,
 "nbformat_minor": 2
}
